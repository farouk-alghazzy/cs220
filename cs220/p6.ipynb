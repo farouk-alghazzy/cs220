{
 "cells": [
  {
   "cell_type": "code",
   "execution_count": 1,
   "id": "6393eba3",
   "metadata": {
    "cell_type": "code",
    "deletable": false,
    "editable": false
   },
   "outputs": [],
   "source": [
    "# import and initialize otter\n",
    "import otter\n",
    "grader = otter.Notebook(\"p6.ipynb\")"
   ]
  },
  {
   "cell_type": "code",
   "execution_count": 2,
   "id": "dba7dff6",
   "metadata": {
    "editable": false,
    "execution": {
     "iopub.execute_input": "2023-10-11T03:31:54.387438Z",
     "iopub.status.busy": "2023-10-11T03:31:54.387438Z",
     "iopub.status.idle": "2023-10-11T03:32:07.094863Z",
     "shell.execute_reply": "2023-10-11T03:32:07.094863Z"
    }
   },
   "outputs": [],
   "source": [
    "import public_tests"
   ]
  },
  {
   "cell_type": "code",
   "execution_count": 3,
   "id": "c2d3d239",
   "metadata": {
    "execution": {
     "iopub.execute_input": "2023-10-11T03:32:07.098874Z",
     "iopub.status.busy": "2023-10-11T03:32:07.098874Z",
     "iopub.status.idle": "2023-10-11T03:32:07.102183Z",
     "shell.execute_reply": "2023-10-11T03:32:07.102183Z"
    }
   },
   "outputs": [],
   "source": [
    "# PLEASE FILL IN THE DETAILS\n",
    "# enter none if you don't have a project partner\n",
    "# you will have to add your partner as a group member on Gradescope even after you fill this\n",
    "\n",
    "# project: p6\n",
    "# submitter: alghazzy\n",
    "# partner: jmbruggink\n",
    "# hours: 4"
   ]
  },
  {
   "cell_type": "markdown",
   "id": "b350efe9",
   "metadata": {
    "deletable": false,
    "editable": false
   },
   "source": [
    "# Project 6: Power Generators in Wisconsin"
   ]
  },
  {
   "cell_type": "markdown",
   "id": "7d055979",
   "metadata": {
    "deletable": false,
    "editable": false
   },
   "source": [
    "## Learning Objectives:\n",
    "\n",
    "In this project, you will demonstrate how to:\n",
    "\n",
    "* access and utilize data in CSV files,\n",
    "* process real world datasets,\n",
    "* use string methods and sorting function / method to order data.\n",
    "\n",
    "Please go through [Lab-P6](https://git.doit.wisc.edu/cdis/cs/courses/cs220/cs220-f23-projects/-/tree/main/lab-p6) before working on this project. The lab introduces some useful techniques related to this project."
   ]
  },
  {
   "cell_type": "markdown",
   "id": "d37abde3",
   "metadata": {
    "deletable": false,
    "editable": false
   },
   "source": [
    "## Testing your code:\n",
    "\n",
    "Along with this notebook, you must have downloaded the file `public_tests.py`. If you are curious about how we test your code, you can explore this file, and specifically the function `get_expected_json`, to understand the expected answers to the questions."
   ]
  },
  {
   "cell_type": "markdown",
   "id": "d3175a0d",
   "metadata": {
    "deletable": false,
    "editable": false
   },
   "source": [
    "## Project Description:\n",
    "\n",
    "In this project, we will use Python to analyze Electric Power Generation within the state of Wisconsin. The data used in this project has been adapted from [this dataset](https://www.eia.gov/electricity/data/eia860m/) maintained by the **US Energy Information Administration**. `power_generators.csv` has data of all 613 power generators within the state of Wisconsin that were in operation as of August 2023. This file includes information about the capacities, locations, and the technologies used by the generators."
   ]
  },
  {
   "cell_type": "markdown",
   "id": "93ed6c93",
   "metadata": {
    "deletable": false,
    "editable": false
   },
   "source": [
    "## Dataset:\n",
    "\n",
    "A small portion of the dataset `power_generators.csv` you will be working with for this project is reproduced here:"
   ]
  },
  {
   "cell_type": "markdown",
   "id": "d0621cd2",
   "metadata": {
    "deletable": false,
    "editable": false
   },
   "source": [
    "entity_id|entity_name|plant_id|plant_name|generator_id|county|net_summer_capacity|net_winter_capacity|technology|latitude|longitude\n",
    "---|---|---|---|---|---|---|---|---|---|---\n",
    "13781|Northern States Power Co - Minnesota|1756|Saxon Falls|1|Iron|0.5|0.5|Conventional Hydroelectric|46.5392|-90.3742\n",
    "13781|Northern States Power Co - Minnesota|1756|Saxon Falls|2|Iron|0.5|0.6|Conventional Hydroelectric|46.5392|-90.3742\n",
    "20847|Wisconsin Electric Power Co|1775|Brule|1|Florence|1.3|1.3|Conventional Hydroelectric|45.9472|-88.2189\n",
    "20847|Wisconsin Electric Power Co|1775|Brule|2|Florence|2|2|Conventional Hydroelectric|45.9472|-88.2189\n",
    "20847|Wisconsin Electric Power Co|1775|Brule|3|Florence|2|2|Conventional Hydroelectric|45.9472|-88.2189"
   ]
  },
  {
   "cell_type": "markdown",
   "id": "8f075c07",
   "metadata": {
    "deletable": false,
    "editable": false
   },
   "source": [
    "Each row of data represents a **single** generator. The columns contain the following data about each generator (along with the correct data type you **must** represent it as):\n",
    "\n",
    "1. `entity_id` - the **ID** of the **entity** that operates the Power Generator (`int`)\n",
    "2. `entity_name` - the **name** of the **entity** that operates the Power Generator (`str`)\n",
    "3. `plant_id` - the **ID** of the **Power Plant** hosting the Power Generator (`int`)\n",
    "4. `plant_name` - the **name** of the **Power Plant** hosting the Power Generator (`str`)\n",
    "5. `generator_id` - the **ID** of the specific **Power Generator** within its Power Plant (`str`)\n",
    "6. `county` - the **name** of the **county** that the **Power Plant** is located in (`str`)\n",
    "7. `net_summer_capacity` - the maximum **capacity** of the **Power Generator** (in units of MW) during the Summer months (`float`)\n",
    "8. `net_winter_capacity` - the maximum **capacity** of the **Power Generator** (in units of MW) during the Winter months (`float`)\n",
    "9. `technology` - the **technology** used by the **Power Generator** (`str`)\n",
    "10. `latitude` - the **latitude** where the **Power Plant** is located (`float`)\n",
    "11. `longitude` - the **longitude** where the **Power Plant** is located (`float`)\n",
    "\n",
    "You can find more details on the dataset in [Lab-P6](https://git.doit.wisc.edu/cdis/cs/courses/cs220/cs220-f23-projects/-/tree/main/lab-p6)."
   ]
  },
  {
   "cell_type": "markdown",
   "id": "e1259d94",
   "metadata": {
    "deletable": false,
    "editable": false
   },
   "source": [
    "## Project Requirements:\n",
    "\n",
    "You **may not** hardcode indices in your code unless specified in the question. If you are not sure what hardcoding is, here is a simple test you can use to determine whether you have hardcoded:\n",
    "\n",
    "*If we were to change the data (e.g. add more power generators, remove some power generators, or swap some columns or rows), would your code still find the correct answer to the question as it is asked?*\n",
    "\n",
    "If your answer to that question is *No*, then you have likely hardcoded something. Please reach out to TAs/PMs during office hours to find out how you can **avoid hardcoding**.\n",
    "\n",
    "**Store** your final answer for each question in the **variable specified for each question**. This step is important because Otter grades your work by comparing the value of this variable against the correct answer.\n",
    "\n",
    "For some of the questions, we'll ask you to write (then use) a function to compute the answer.  If you compute the answer **without** creating the function we ask you to write, the Gradescope autograder will **deduct** points, even if the way you did it produced the correct answer.\n",
    "\n",
    "Required Functions:\n",
    "- `process_csv`\n",
    "- `cell`\n",
    "- `find_entities_with_phrase`\n",
    "- `num_generators_by`\n",
    "- `find_indices_within`\n",
    "- `median`\n",
    "- `total_summer_capacity_of`\n",
    "- `avg_winter_capacity_of`\n",
    "    \n",
    "Students are only allowed to use Python commands and concepts that have been taught in the course prior to the release of P6. Therefore, **you should not use concepts/modules such as dictionaries, or the pandas module, to name a few examples**. Otherwise, the Gradescope autograder will **deduct** points, even if the way you did it produced the correct answer.\n",
    "\n",
    "For more details on what will cause you to lose points during code review and specific requirements, please take a look at the [Grading rubric](https://git.doit.wisc.edu/cdis/cs/courses/cs220/cs220-f23-projects/-/blob/main/p6/rubric.md)."
   ]
  },
  {
   "cell_type": "markdown",
   "id": "32cc8d6b",
   "metadata": {},
   "source": [
    "<h2 style=\"color:red\">Warning (Note on Academic Misconduct):</h2>\n",
    "\n",
    "Under any circumstances, **no more than two students are allowed to work together on a project** as mentioned in the course policies. If your code is flagged by our code similarity detection tools, **both partners will be responsible** for sharing/copying the code, even if the code is shared/copied by one of the partners with/from other non-partner student(s). Note that each case of plagiarism will be reported to the Dean of Students with a zero grade on the project. **If you think that someone cannot be your project partner then don’t make that student your lab partner.** \n",
    "<font color = \"red\">Project partners must submit only one copy of their project on Gradescope, but they must include the names of both partners.</font>"
   ]
  },
  {
   "cell_type": "markdown",
   "id": "15954a07",
   "metadata": {
    "deletable": false,
    "editable": false
   },
   "source": [
    "## Questions and Functions:\n",
    "\n",
    "Let us start by importing all the modules we will need for this project."
   ]
  },
  {
   "cell_type": "code",
   "execution_count": 4,
   "id": "cb349cfe",
   "metadata": {
    "execution": {
     "iopub.execute_input": "2023-10-11T03:32:07.107195Z",
     "iopub.status.busy": "2023-10-11T03:32:07.106197Z",
     "iopub.status.idle": "2023-10-11T03:32:07.110245Z",
     "shell.execute_reply": "2023-10-11T03:32:07.110245Z"
    },
    "tags": []
   },
   "outputs": [],
   "source": [
    "# it is considered a good coding practice to place all import statements at the top of the notebook\n",
    "# please place all your import statements in this cell if you need to import any more modules for this project\n",
    "import csv"
   ]
  },
  {
   "cell_type": "markdown",
   "id": "1545f366",
   "metadata": {
    "deletable": false,
    "editable": false
   },
   "source": [
    "### Function 0: `cell`\n",
    "\n",
    "Copy and paste the `process_csv` and `cell` functions from your Lab-P6 notebook to the cell below.\n",
    "\n",
    "You are expected to call the `process_csv` function correctly, and read the data on `power_generators.csv`. After reading the file, define the `csv_header`, and `csv_rows` variables as in Lab-P6, and define the `cell` function.\n",
    "\n",
    "**Important:** You **must** only use the `cell` function to extract data from the dataset. If you extract any data without explicitly using this function, the Gradescope autograder will **deduct points**."
   ]
  },
  {
   "cell_type": "code",
   "execution_count": 5,
   "id": "fcc96412",
   "metadata": {
    "execution": {
     "iopub.execute_input": "2023-10-11T03:32:07.114257Z",
     "iopub.status.busy": "2023-10-11T03:32:07.113253Z",
     "iopub.status.idle": "2023-10-11T03:32:07.122566Z",
     "shell.execute_reply": "2023-10-11T03:32:07.121556Z"
    },
    "tags": []
   },
   "outputs": [],
   "source": [
    "def process_csv(filename):\n",
    "    example_file = open(filename, encoding=\"utf-8\")\n",
    "    example_reader = csv.reader(example_file)\n",
    "    example_data = list(example_reader)\n",
    "    example_file.close()\n",
    "    return example_data\n",
    "\n",
    "def cell(row_idx, col_name):\n",
    "    col_idx = csv_header.index(col_name)\n",
    "    val = csv_rows[row_idx][col_idx]\n",
    "    if val == \" \":\n",
    "        return None\n",
    "    elif col_name == 'entity_id':\n",
    "        val = int(val)\n",
    "    elif col_name == 'net_summer_capacity':\n",
    "        val = float(val)\n",
    "    elif col_name == 'plant_id':\n",
    "        val = int(val)\n",
    "    elif col_name == 'plant_name':\n",
    "        val = str(val)\n",
    "    elif col_name == 'generator_id':\n",
    "        val = str(val)\n",
    "    elif col_name == 'county':\n",
    "        val = str(val)\n",
    "    elif col_name == 'net_winter_capacity':\n",
    "        val = float(val)\n",
    "    elif col_name == 'technology':\n",
    "        val = str(val)\n",
    "    elif col_name == 'latitude':\n",
    "        val = float(val)\n",
    "    elif col_name == 'longitude':\n",
    "        val = float(val)\n",
    "    return val\n",
    "\n",
    "csv_data = process_csv(\"power_generators.csv\")\n",
    "csv_header = csv_data[0]\n",
    "csv_rows = csv_data[1:]\n",
    "num_rows = len(csv_rows)"
   ]
  },
  {
   "cell_type": "code",
   "execution_count": 6,
   "id": "80fb90b1",
   "metadata": {
    "deletable": false,
    "editable": false
   },
   "outputs": [
    {
     "data": {
      "text/html": [
       "<p><strong><pre style='display: inline;'>cell</pre></strong> passed! 💯</p><p><strong><pre style='display: inline;'>cell - 1</pre> message:</strong> Note that the Gradescope autograder will deduct points if your code fails the following rubric point - 'variables `csv_data`, `csv_header`, and `csv_rows` are not defined as expected (-1)'. The public tests cannot determine if your code satisfies these requirements. Verify your code manually.</p><p><strong><pre style='display: inline;'>cell - 2</pre> message:</strong> Note that the Gradescope autograder will deduct points if your code fails the following rubric point - 'function does not return `None` when data is missing (-1)'. The public tests cannot determine if your code satisfies these requirements. Verify your code manually.</p><p><strong><pre style='display: inline;'>cell - 3</pre> message:</strong> Note that the Gradescope autograder will deduct points if your code fails the following rubric point - 'function does not typecast to `int` or `float` when expected (-1)'. The public tests cannot determine if your code satisfies these requirements. Verify your code manually.</p><p><strong><pre style='display: inline;'>cell - 4</pre> message:</strong> Note that the Gradescope autograder will deduct points if your code fails the following rubric point - 'function logic is incorrect (-1)'. The public tests cannot determine if your code satisfies these requirements. Verify your code manually.</p><p><strong><pre style='display: inline;'>cell - 5</pre> message:</strong> Note that the Gradescope autograder will deduct points if your code fails the following rubric point - '`process_csv` function is not used to read `power_generators.csv` (-1)'. The public tests cannot determine if your code satisfies these requirements. Verify your code manually.</p>"
      ],
      "text/plain": [
       "cell results: All test cases passed!\n",
       "cell - 1 message: Note that the Gradescope autograder will deduct points if your code fails the following rubric point - 'variables `csv_data`, `csv_header`, and `csv_rows` are not defined as expected (-1)'. The public tests cannot determine if your code satisfies these requirements. Verify your code manually.\n",
       "cell - 2 message: Note that the Gradescope autograder will deduct points if your code fails the following rubric point - 'function does not return `None` when data is missing (-1)'. The public tests cannot determine if your code satisfies these requirements. Verify your code manually.\n",
       "cell - 3 message: Note that the Gradescope autograder will deduct points if your code fails the following rubric point - 'function does not typecast to `int` or `float` when expected (-1)'. The public tests cannot determine if your code satisfies these requirements. Verify your code manually.\n",
       "cell - 4 message: Note that the Gradescope autograder will deduct points if your code fails the following rubric point - 'function logic is incorrect (-1)'. The public tests cannot determine if your code satisfies these requirements. Verify your code manually.\n",
       "cell - 5 message: Note that the Gradescope autograder will deduct points if your code fails the following rubric point - '`process_csv` function is not used to read `power_generators.csv` (-1)'. The public tests cannot determine if your code satisfies these requirements. Verify your code manually."
      ]
     },
     "execution_count": 6,
     "metadata": {},
     "output_type": "execute_result"
    }
   ],
   "source": [
    "grader.check(\"cell\")"
   ]
  },
  {
   "cell_type": "markdown",
   "id": "f7954e7e",
   "metadata": {
    "deletable": false,
    "editable": false
   },
   "source": [
    "**Question 1:** What **unique** technologies (`technology`) are used by the power generators in Wisconsin?\n",
    "\n",
    "Your output **must** be a *list* which stores all the **unique** technologies (i.e., without any duplicates). The order **does not** matter."
   ]
  },
  {
   "cell_type": "code",
   "execution_count": 7,
   "id": "558e7e76",
   "metadata": {
    "execution": {
     "iopub.execute_input": "2023-10-11T03:32:07.167035Z",
     "iopub.status.busy": "2023-10-11T03:32:07.167035Z",
     "iopub.status.idle": "2023-10-11T03:32:07.175202Z",
     "shell.execute_reply": "2023-10-11T03:32:07.175202Z"
    },
    "tags": []
   },
   "outputs": [
    {
     "data": {
      "text/plain": [
       "['Conventional Hydroelectric',\n",
       " 'Petroleum Liquids',\n",
       " 'Wood/Wood Waste Biomass',\n",
       " 'Natural Gas Steam Turbine',\n",
       " 'Natural Gas Fired Combustion Turbine',\n",
       " 'Natural Gas Fired Combined Cycle',\n",
       " 'Conventional Steam Coal',\n",
       " 'Nuclear',\n",
       " 'Natural Gas Internal Combustion Engine',\n",
       " 'Petroleum Coke',\n",
       " 'Onshore Wind Turbine',\n",
       " 'Landfill Gas',\n",
       " 'Other Waste Biomass',\n",
       " 'Solar Photovoltaic',\n",
       " 'Batteries']"
      ]
     },
     "execution_count": 7,
     "metadata": {},
     "output_type": "execute_result"
    }
   ],
   "source": [
    "# compute and store the answer in the variable 'technologies', then display it\n",
    "technologies = []\n",
    "list_with_duplicates = []\n",
    "for idx in range(num_rows):\n",
    "    list_with_duplicates.append(cell(idx, 'technology'))\n",
    "for value in list_with_duplicates:\n",
    "    if value not in technologies:\n",
    "        technologies.append(value)\n",
    "list_without_duplicates = []\n",
    "for value in technologies:\n",
    "    list_without_duplicates.append(value)\n",
    "\n",
    "technologies = list_without_duplicates\n",
    "technologies"
   ]
  },
  {
   "cell_type": "code",
   "execution_count": 8,
   "id": "45b31970",
   "metadata": {
    "deletable": false,
    "editable": false
   },
   "outputs": [
    {
     "data": {
      "text/html": [
       "<p><strong><pre style='display: inline;'>q1</pre></strong> passed! 🎉</p><p><strong><pre style='display: inline;'>q1 - 2</pre> message:</strong> Note that the Gradescope autograder will deduct points if your code fails the following rubric point - 'not all rows are looped through (-1)'. The public tests cannot determine if your code satisfies these requirements. Verify your code manually.</p><p><strong><pre style='display: inline;'>q1 - 3</pre> message:</strong> Note that the Gradescope autograder will deduct points if your code fails the following rubric point - 'incorrect logic is used (-1)'. The public tests cannot determine if your code satisfies these requirements. Verify your code manually.</p><p><strong><pre style='display: inline;'>q1 - 4</pre> message:</strong> Note that the Gradescope autograder will deduct points if your code fails the following rubric point - '`cell` function is not used to read data (-1)'. The public tests cannot determine if your code satisfies these requirements. Verify your code manually.</p>"
      ],
      "text/plain": [
       "q1 results: All test cases passed!\n",
       "q1 - 2 message: Note that the Gradescope autograder will deduct points if your code fails the following rubric point - 'not all rows are looped through (-1)'. The public tests cannot determine if your code satisfies these requirements. Verify your code manually.\n",
       "q1 - 3 message: Note that the Gradescope autograder will deduct points if your code fails the following rubric point - 'incorrect logic is used (-1)'. The public tests cannot determine if your code satisfies these requirements. Verify your code manually.\n",
       "q1 - 4 message: Note that the Gradescope autograder will deduct points if your code fails the following rubric point - '`cell` function is not used to read data (-1)'. The public tests cannot determine if your code satisfies these requirements. Verify your code manually."
      ]
     },
     "execution_count": 8,
     "metadata": {},
     "output_type": "execute_result"
    }
   ],
   "source": [
    "grader.check(\"q1\")"
   ]
  },
  {
   "cell_type": "markdown",
   "id": "da1c7aff",
   "metadata": {
    "deletable": false,
    "editable": false
   },
   "source": [
    "**Question 2:** How many power generators are in the `county` *Dane*?"
   ]
  },
  {
   "cell_type": "code",
   "execution_count": 9,
   "id": "640e47c1",
   "metadata": {
    "execution": {
     "iopub.execute_input": "2023-10-11T03:32:07.217057Z",
     "iopub.status.busy": "2023-10-11T03:32:07.216046Z",
     "iopub.status.idle": "2023-10-11T03:32:07.222719Z",
     "shell.execute_reply": "2023-10-11T03:32:07.222719Z"
    },
    "tags": []
   },
   "outputs": [
    {
     "data": {
      "text/plain": [
       "47"
      ]
     },
     "execution_count": 9,
     "metadata": {},
     "output_type": "execute_result"
    }
   ],
   "source": [
    "# compute and store the answer in the variable 'count_dane', then display it\n",
    "count_dane = 0\n",
    "for idx in range(num_rows):  \n",
    "    if cell(idx, 'county') == 'Dane': \n",
    "        count_dane += 1\n",
    "count_dane"
   ]
  },
  {
   "cell_type": "code",
   "execution_count": 10,
   "id": "54a53e37",
   "metadata": {
    "deletable": false,
    "editable": false
   },
   "outputs": [
    {
     "data": {
      "text/html": [
       "<p><strong><pre style='display: inline;'>q2</pre></strong> passed! 🍀</p><p><strong><pre style='display: inline;'>q2 - 2</pre> message:</strong> Note that the Gradescope autograder will deduct points if your code fails the following rubric point - 'not all rows are looped through (-1)'. The public tests cannot determine if your code satisfies these requirements. Verify your code manually.</p><p><strong><pre style='display: inline;'>q2 - 3</pre> message:</strong> Note that the Gradescope autograder will deduct points if your code fails the following rubric point - 'incorrect logic is used (-1)'. The public tests cannot determine if your code satisfies these requirements. Verify your code manually.</p><p><strong><pre style='display: inline;'>q2 - 4</pre> message:</strong> Note that the Gradescope autograder will deduct points if your code fails the following rubric point - '`cell` function is not used to read data (-1)'. The public tests cannot determine if your code satisfies these requirements. Verify your code manually.</p>"
      ],
      "text/plain": [
       "q2 results: All test cases passed!\n",
       "q2 - 2 message: Note that the Gradescope autograder will deduct points if your code fails the following rubric point - 'not all rows are looped through (-1)'. The public tests cannot determine if your code satisfies these requirements. Verify your code manually.\n",
       "q2 - 3 message: Note that the Gradescope autograder will deduct points if your code fails the following rubric point - 'incorrect logic is used (-1)'. The public tests cannot determine if your code satisfies these requirements. Verify your code manually.\n",
       "q2 - 4 message: Note that the Gradescope autograder will deduct points if your code fails the following rubric point - '`cell` function is not used to read data (-1)'. The public tests cannot determine if your code satisfies these requirements. Verify your code manually."
      ]
     },
     "execution_count": 10,
     "metadata": {},
     "output_type": "execute_result"
    }
   ],
   "source": [
    "grader.check(\"q2\")"
   ]
  },
  {
   "cell_type": "markdown",
   "id": "aaa4d1c5",
   "metadata": {
    "deletable": false,
    "editable": false
   },
   "source": [
    "**Question 3:** What is the **total** `net_summer_capacity` of all the power generators in Wisconsin?\n",
    "\n",
    "Your answer **must** be a **float** that represents the total `net_summer_capacity`. You **must** **ignore** all power generators whose `net_summer_capacity` data is **missing**."
   ]
  },
  {
   "cell_type": "code",
   "execution_count": 11,
   "id": "948071a4",
   "metadata": {
    "execution": {
     "iopub.execute_input": "2023-10-11T03:32:07.257007Z",
     "iopub.status.busy": "2023-10-11T03:32:07.256008Z",
     "iopub.status.idle": "2023-10-11T03:32:07.262885Z",
     "shell.execute_reply": "2023-10-11T03:32:07.262885Z"
    },
    "tags": []
   },
   "outputs": [
    {
     "data": {
      "text/plain": [
       "16831.099999999944"
      ]
     },
     "execution_count": 11,
     "metadata": {},
     "output_type": "execute_result"
    }
   ],
   "source": [
    "# compute and store the answer in the variable 'total_summer_capacity', then display it\n",
    "total_summer_capacity = 0.0\n",
    "for idx in range(num_rows):\n",
    "    cap = 0\n",
    "    if type(cell(idx, 'net_summer_capacity')) == float:\n",
    "        cap = cell(idx,'net_summer_capacity')\n",
    "        total_summer_capacity += cap\n",
    "    else:\n",
    "        continue\n",
    "total_summer_capacity"
   ]
  },
  {
   "cell_type": "code",
   "execution_count": 12,
   "id": "b09aa6ca",
   "metadata": {
    "deletable": false,
    "editable": false
   },
   "outputs": [
    {
     "data": {
      "text/html": [
       "<p><strong><pre style='display: inline;'>q3</pre></strong> passed! 💯</p><p><strong><pre style='display: inline;'>q3 - 2</pre> message:</strong> Note that the Gradescope autograder will deduct points if your code fails the following rubric point - 'not all rows are looped through (-1)'. The public tests cannot determine if your code satisfies these requirements. Verify your code manually.</p><p><strong><pre style='display: inline;'>q3 - 3</pre> message:</strong> Note that the Gradescope autograder will deduct points if your code fails the following rubric point - 'incorrect logic is used (-1)'. The public tests cannot determine if your code satisfies these requirements. Verify your code manually.</p><p><strong><pre style='display: inline;'>q3 - 4</pre> message:</strong> Note that the Gradescope autograder will deduct points if your code fails the following rubric point - '`cell` function is not used to read data (-1)'. The public tests cannot determine if your code satisfies these requirements. Verify your code manually.</p>"
      ],
      "text/plain": [
       "q3 results: All test cases passed!\n",
       "q3 - 2 message: Note that the Gradescope autograder will deduct points if your code fails the following rubric point - 'not all rows are looped through (-1)'. The public tests cannot determine if your code satisfies these requirements. Verify your code manually.\n",
       "q3 - 3 message: Note that the Gradescope autograder will deduct points if your code fails the following rubric point - 'incorrect logic is used (-1)'. The public tests cannot determine if your code satisfies these requirements. Verify your code manually.\n",
       "q3 - 4 message: Note that the Gradescope autograder will deduct points if your code fails the following rubric point - '`cell` function is not used to read data (-1)'. The public tests cannot determine if your code satisfies these requirements. Verify your code manually."
      ]
     },
     "execution_count": 12,
     "metadata": {},
     "output_type": "execute_result"
    }
   ],
   "source": [
    "grader.check(\"q3\")"
   ]
  },
  {
   "cell_type": "markdown",
   "id": "dd6c8651",
   "metadata": {
    "deletable": false,
    "editable": false
   },
   "source": [
    "### Function 1: `find_entities_with_phrase(phrase)`\n",
    "\n",
    "We require you to complete the below function. You can review string methods from any of these lecture slides: [Mike](https://canvas.wisc.edu/courses/374263/files/folder/Mikes_Lecture_Notes/Lec13_Strings), [Gurmail](https://git.doit.wisc.edu/cdis/cs/courses/cs220/cs220-lecture-material/-/tree/main/f23/Gurmail_Lecture_Notes/13_Strings), or [Cole](https://git.doit.wisc.edu/cdis/cs/courses/cs220/cs220-lecture-material/-/tree/main/f23/Cole_Lecture_Notes/13_Strings)."
   ]
  },
  {
   "cell_type": "code",
   "execution_count": 13,
   "id": "dcb08e62",
   "metadata": {
    "execution": {
     "iopub.execute_input": "2023-10-11T03:32:07.298926Z",
     "iopub.status.busy": "2023-10-11T03:32:07.298926Z",
     "iopub.status.idle": "2023-10-11T03:32:07.303495Z",
     "shell.execute_reply": "2023-10-11T03:32:07.303495Z"
    },
    "tags": []
   },
   "outputs": [],
   "source": [
    "def find_entities_with_phrase(phrase):\n",
    "    list1 = []\n",
    "    for idx in range(len(csv_rows)):\n",
    "        scanner = cell(idx, 'entity_name').split()\n",
    "        for words in scanner:\n",
    "            if words.lower() == phrase.lower():\n",
    "                list1.append(cell(idx, 'entity_name'))               \n",
    "    return set(list1)"
   ]
  },
  {
   "cell_type": "code",
   "execution_count": 14,
   "id": "e09b023c",
   "metadata": {
    "deletable": false,
    "editable": false
   },
   "outputs": [
    {
     "data": {
      "text/html": [
       "<p><strong><pre style='display: inline;'>find_entities_with_phrase</pre></strong> passed! 🚀</p><p><strong><pre style='display: inline;'>find_entities_with_phrase - 1</pre> message:</strong> Note that the Gradescope autograder will deduct points if your code fails the following rubric point - 'not all rows are looped through (-1)'. The public tests cannot determine if your code satisfies these requirements. Verify your code manually.</p><p><strong><pre style='display: inline;'>find_entities_with_phrase - 2</pre> message:</strong> Note that the Gradescope autograder will deduct points if your code fails the following rubric point - 'case insensitive matches are not considered (-1)'. The public tests cannot determine if your code satisfies these requirements. Verify your code manually.</p><p><strong><pre style='display: inline;'>find_entities_with_phrase - 3</pre> message:</strong> Note that the Gradescope autograder will deduct points if your code fails the following rubric point - 'duplicates are not removed (-1)'. The public tests cannot determine if your code satisfies these requirements. Verify your code manually.</p><p><strong><pre style='display: inline;'>find_entities_with_phrase - 4</pre> message:</strong> Note that the Gradescope autograder will deduct points if your code fails the following rubric point - '`cell` function is not used to read data (-1)'. The public tests cannot determine if your code satisfies these requirements. Verify your code manually.</p>"
      ],
      "text/plain": [
       "find_entities_with_phrase results: All test cases passed!\n",
       "find_entities_with_phrase - 1 message: Note that the Gradescope autograder will deduct points if your code fails the following rubric point - 'not all rows are looped through (-1)'. The public tests cannot determine if your code satisfies these requirements. Verify your code manually.\n",
       "find_entities_with_phrase - 2 message: Note that the Gradescope autograder will deduct points if your code fails the following rubric point - 'case insensitive matches are not considered (-1)'. The public tests cannot determine if your code satisfies these requirements. Verify your code manually.\n",
       "find_entities_with_phrase - 3 message: Note that the Gradescope autograder will deduct points if your code fails the following rubric point - 'duplicates are not removed (-1)'. The public tests cannot determine if your code satisfies these requirements. Verify your code manually.\n",
       "find_entities_with_phrase - 4 message: Note that the Gradescope autograder will deduct points if your code fails the following rubric point - '`cell` function is not used to read data (-1)'. The public tests cannot determine if your code satisfies these requirements. Verify your code manually."
      ]
     },
     "execution_count": 14,
     "metadata": {},
     "output_type": "execute_result"
    }
   ],
   "source": [
    "grader.check(\"find_entities_with_phrase\")"
   ]
  },
  {
   "cell_type": "markdown",
   "id": "ed32d8f2",
   "metadata": {
    "deletable": false,
    "editable": false
   },
   "source": [
    "**Question 4:** Find all entity names (`entity_name`) that contain the string *\"Madison\"* (case insensitive).\n",
    "    \n",
    "Your output **must** be a **list**. The order **does not** matter. You **must** use the `find_entities_with_phrase` function to answer this question."
   ]
  },
  {
   "cell_type": "code",
   "execution_count": 15,
   "id": "c540e0c8",
   "metadata": {
    "execution": {
     "iopub.execute_input": "2023-10-11T03:32:07.338136Z",
     "iopub.status.busy": "2023-10-11T03:32:07.338136Z",
     "iopub.status.idle": "2023-10-11T03:32:07.343527Z",
     "shell.execute_reply": "2023-10-11T03:32:07.343527Z"
    },
    "tags": []
   },
   "outputs": [
    {
     "data": {
      "text/plain": [
       "['Madison Gas & Electric Co']"
      ]
     },
     "execution_count": 15,
     "metadata": {},
     "output_type": "execute_result"
    }
   ],
   "source": [
    "# compute and store the answer in the variable 'madison_entities', then display it\n",
    "\n",
    "madison_entities = find_entities_with_phrase(\"Madison\")\n",
    "madison_entities = list(madison_entities)\n",
    "madison_entities"
   ]
  },
  {
   "cell_type": "code",
   "execution_count": 16,
   "id": "46490509",
   "metadata": {
    "deletable": false,
    "editable": false
   },
   "outputs": [
    {
     "data": {
      "text/html": [
       "<p><strong><pre style='display: inline;'>q4</pre></strong> passed! 🎉</p><p><strong><pre style='display: inline;'>q4 - 2</pre> message:</strong> Note that the Gradescope autograder will deduct points if your code fails the following rubric point - '`find_entities_with_phrase` function is not used to answer (-2)'. The public tests cannot determine if your code satisfies these requirements. Verify your code manually.</p>"
      ],
      "text/plain": [
       "q4 results: All test cases passed!\n",
       "q4 - 2 message: Note that the Gradescope autograder will deduct points if your code fails the following rubric point - '`find_entities_with_phrase` function is not used to answer (-2)'. The public tests cannot determine if your code satisfies these requirements. Verify your code manually."
      ]
     },
     "execution_count": 16,
     "metadata": {},
     "output_type": "execute_result"
    }
   ],
   "source": [
    "grader.check(\"q4\")"
   ]
  },
  {
   "cell_type": "markdown",
   "id": "eeeac007",
   "metadata": {
    "deletable": false,
    "editable": false
   },
   "source": [
    "**Question 5:** Find all entity names (`entity_name`) that contain **either** *\"Wisconsin\"* **or** *\"Power\"* (case insensitive).\n",
    "\n",
    "If an entity's name contains **both** *\"Wisconsin\"* and *\"Power\"*, then the `entity_name` must be included **only once** in your list.\n",
    "\n",
    "Your output **must** be a **list**. The order **does not** matter.\n",
    "\n",
    "**Hint**: You can use the `find_entities_with_phrase` function on *\"Wisconsin\"* and *\"Power\"* to answer this question."
   ]
  },
  {
   "cell_type": "code",
   "execution_count": 17,
   "id": "1f63eeb7",
   "metadata": {
    "execution": {
     "iopub.execute_input": "2023-10-11T03:32:07.363832Z",
     "iopub.status.busy": "2023-10-11T03:32:07.363832Z",
     "iopub.status.idle": "2023-10-11T03:32:07.370655Z",
     "shell.execute_reply": "2023-10-11T03:32:07.370655Z"
    },
    "tags": []
   },
   "outputs": [
    {
     "data": {
      "text/plain": [
       "['Wisconsin River Power Company',\n",
       " 'Northwestern Wisconsin Elec Co',\n",
       " 'Wisconsin Power & Light Co',\n",
       " 'State of Wisconsin',\n",
       " 'Wisconsin Electric Power Co',\n",
       " 'Wisconsin Public Service Corp',\n",
       " 'HQC Rock River Solar Power Generation Station LLC',\n",
       " 'Dahlberg Light & Power Co',\n",
       " 'Dairyland Power Coop',\n",
       " 'Northern States Power Co - Minnesota',\n",
       " 'North Central Power Co Inc',\n",
       " 'Consolidated Water Power Co']"
      ]
     },
     "execution_count": 17,
     "metadata": {},
     "output_type": "execute_result"
    }
   ],
   "source": [
    "entities_contain_wisconsin_power = []\n",
    "new_list = list(find_entities_with_phrase(\"Wisconsin\")) + list(find_entities_with_phrase(\"Power\"))\n",
    "\n",
    "for entity_name in new_list:\n",
    "    entity_lower = entity_name.lower()  \n",
    "    if \"wisconsin\" in entity_lower or \"power\" in entity_lower:\n",
    "        if entity_lower not in [e.lower() for e in entities_contain_wisconsin_power]:\n",
    "            entities_contain_wisconsin_power.append(entity_name)\n",
    "entities_contain_wisconsin_power"
   ]
  },
  {
   "cell_type": "code",
   "execution_count": 18,
   "id": "f51f2fdd",
   "metadata": {
    "deletable": false,
    "editable": false
   },
   "outputs": [
    {
     "data": {
      "text/html": [
       "<p><strong><pre style='display: inline;'>q5</pre></strong> passed! ✨</p><p><strong><pre style='display: inline;'>q5 - 2</pre> message:</strong> Note that the Gradescope autograder will deduct points if your code fails the following rubric point - 'incorrect logic is used to answer (-2)'. The public tests cannot determine if your code satisfies these requirements. Verify your code manually.</p><p><strong><pre style='display: inline;'>q5 - 3</pre> message:</strong> Note that the Gradescope autograder will deduct points if your code fails the following rubric point - '`cell` function is not used to read data (-1)'. The public tests cannot determine if your code satisfies these requirements. Verify your code manually.</p>"
      ],
      "text/plain": [
       "q5 results: All test cases passed!\n",
       "q5 - 2 message: Note that the Gradescope autograder will deduct points if your code fails the following rubric point - 'incorrect logic is used to answer (-2)'. The public tests cannot determine if your code satisfies these requirements. Verify your code manually.\n",
       "q5 - 3 message: Note that the Gradescope autograder will deduct points if your code fails the following rubric point - '`cell` function is not used to read data (-1)'. The public tests cannot determine if your code satisfies these requirements. Verify your code manually."
      ]
     },
     "execution_count": 18,
     "metadata": {},
     "output_type": "execute_result"
    }
   ],
   "source": [
    "grader.check(\"q5\")"
   ]
  },
  {
   "cell_type": "markdown",
   "id": "ec8a711a",
   "metadata": {
    "deletable": false,
    "editable": false
   },
   "source": [
    "**Question 6:** Find all entity names (`entity_name`) that contain **both** *\"Solar\"* **and** *\"LLC\"* (case insensitive).\n",
    "\n",
    "Your output **must** be a **list**. The order **does not** matter.\n",
    "\n",
    "**Hint**: You can use the `find_entities_with_phrase` function on *\"Solar\"* and *\"LLC\"* to answer this question."
   ]
  },
  {
   "cell_type": "code",
   "execution_count": 19,
   "id": "8f243866",
   "metadata": {
    "execution": {
     "iopub.execute_input": "2023-10-11T03:32:07.405977Z",
     "iopub.status.busy": "2023-10-11T03:32:07.405977Z",
     "iopub.status.idle": "2023-10-11T03:32:07.412434Z",
     "shell.execute_reply": "2023-10-11T03:32:07.412434Z"
    },
    "tags": []
   },
   "outputs": [
    {
     "data": {
      "text/plain": [
       "['Flambeau Solar Partners, LLC',\n",
       " 'HQC Rock River Solar Power Generation Station LLC',\n",
       " 'Dane County Solar LLC',\n",
       " 'Middleton Biogas Solar, LLC',\n",
       " 'Butter Solar, LLC']"
      ]
     },
     "execution_count": 19,
     "metadata": {},
     "output_type": "execute_result"
    }
   ],
   "source": [
    "# compute and store the answer in the variable 'entities_contain_solar_llc', then display it\n",
    "entities_contain_solar_llc = []\n",
    "new_list = list(find_entities_with_phrase(\"Solar\")) + list(find_entities_with_phrase(\"LLC\"))\n",
    "for entity_name in new_list:\n",
    "    entity_lower = entity_name.lower()  \n",
    "    if \"solar\" in entity_lower and \"llc\" in entity_lower:\n",
    "        if entity_lower not in [e.lower() for e in entities_contain_solar_llc]:\n",
    "            entities_contain_solar_llc.append(entity_name)\n",
    "entities_contain_solar_llc"
   ]
  },
  {
   "cell_type": "code",
   "execution_count": 20,
   "id": "b385dfbf",
   "metadata": {
    "deletable": false,
    "editable": false
   },
   "outputs": [
    {
     "data": {
      "text/html": [
       "<p><strong><pre style='display: inline;'>q6</pre></strong> passed! 🎉</p><p><strong><pre style='display: inline;'>q6 - 2</pre> message:</strong> Note that the Gradescope autograder will deduct points if your code fails the following rubric point - 'incorrect logic is used to answer (-2)'. The public tests cannot determine if your code satisfies these requirements. Verify your code manually.</p><p><strong><pre style='display: inline;'>q6 - 3</pre> message:</strong> Note that the Gradescope autograder will deduct points if your code fails the following rubric point - '`cell` function is not used to read data (-1)'. The public tests cannot determine if your code satisfies these requirements. Verify your code manually.</p>"
      ],
      "text/plain": [
       "q6 results: All test cases passed!\n",
       "q6 - 2 message: Note that the Gradescope autograder will deduct points if your code fails the following rubric point - 'incorrect logic is used to answer (-2)'. The public tests cannot determine if your code satisfies these requirements. Verify your code manually.\n",
       "q6 - 3 message: Note that the Gradescope autograder will deduct points if your code fails the following rubric point - '`cell` function is not used to read data (-1)'. The public tests cannot determine if your code satisfies these requirements. Verify your code manually."
      ]
     },
     "execution_count": 20,
     "metadata": {},
     "output_type": "execute_result"
    }
   ],
   "source": [
    "grader.check(\"q6\")"
   ]
  },
  {
   "cell_type": "code",
   "execution_count": null,
   "id": "71213adb",
   "metadata": {},
   "outputs": [],
   "source": []
  },
  {
   "cell_type": "markdown",
   "id": "d7f1fe7c",
   "metadata": {
    "deletable": false,
    "editable": false
   },
   "source": [
    "**Question 7:** Find the generator IDs (`generator_id`) of all the generators that use the `technology` *\"Wood/Wood Waste Biomass\"* within the power plant with the `plant_id` *50614*.\n",
    "\n",
    "Your output **must** be a *list*. The IDs **must** be sorted in **descending (alphabetical) order**."
   ]
  },
  {
   "cell_type": "code",
   "execution_count": 21,
   "id": "14e60189",
   "metadata": {
    "execution": {
     "iopub.execute_input": "2023-10-11T03:32:07.447054Z",
     "iopub.status.busy": "2023-10-11T03:32:07.447054Z",
     "iopub.status.idle": "2023-10-11T03:32:07.453350Z",
     "shell.execute_reply": "2023-10-11T03:32:07.453350Z"
    },
    "tags": []
   },
   "outputs": [
    {
     "data": {
      "text/plain": [
       "['WEST', 'GEN1']"
      ]
     },
     "execution_count": 21,
     "metadata": {},
     "output_type": "execute_result"
    }
   ],
   "source": [
    "# compute and store the answer in the variable 'plant_50614_generators', then display it\n",
    "plant_50614_generators = []\n",
    "for idx in range(len(csv_rows)):\n",
    "    if cell(idx, 'technology') == \"Wood/Wood Waste Biomass\": \n",
    "        if cell(idx, 'plant_id') == 50614:\n",
    "            plant_50614_generators.append(cell(idx, 'generator_id'))\n",
    "plant_50614_generators.sort(reverse = True)\n",
    "plant_50614_generators"
   ]
  },
  {
   "cell_type": "code",
   "execution_count": 22,
   "id": "b277a44f",
   "metadata": {
    "deletable": false,
    "editable": false
   },
   "outputs": [
    {
     "data": {
      "text/html": [
       "<p><strong><pre style='display: inline;'>q7</pre></strong> passed! 🙌</p><p><strong><pre style='display: inline;'>q7 - 2</pre> message:</strong> Note that the Gradescope autograder will deduct points if your code fails the following rubric point - 'not all rows are looped through (-1)'. The public tests cannot determine if your code satisfies these requirements. Verify your code manually.</p><p><strong><pre style='display: inline;'>q7 - 3</pre> message:</strong> Note that the Gradescope autograder will deduct points if your code fails the following rubric point - 'the output is not sorted correctly (-1)'. The public tests cannot determine if your code satisfies these requirements. Verify your code manually.</p><p><strong><pre style='display: inline;'>q7 - 4</pre> message:</strong> Note that the Gradescope autograder will deduct points if your code fails the following rubric point - 'incorrect logic is used (-1)'. The public tests cannot determine if your code satisfies these requirements. Verify your code manually.</p><p><strong><pre style='display: inline;'>q7 - 5</pre> message:</strong> Note that the Gradescope autograder will deduct points if your code fails the following rubric point - '`cell` function is not used to read data (-1)'. The public tests cannot determine if your code satisfies these requirements. Verify your code manually.</p>"
      ],
      "text/plain": [
       "q7 results: All test cases passed!\n",
       "q7 - 2 message: Note that the Gradescope autograder will deduct points if your code fails the following rubric point - 'not all rows are looped through (-1)'. The public tests cannot determine if your code satisfies these requirements. Verify your code manually.\n",
       "q7 - 3 message: Note that the Gradescope autograder will deduct points if your code fails the following rubric point - 'the output is not sorted correctly (-1)'. The public tests cannot determine if your code satisfies these requirements. Verify your code manually.\n",
       "q7 - 4 message: Note that the Gradescope autograder will deduct points if your code fails the following rubric point - 'incorrect logic is used (-1)'. The public tests cannot determine if your code satisfies these requirements. Verify your code manually.\n",
       "q7 - 5 message: Note that the Gradescope autograder will deduct points if your code fails the following rubric point - '`cell` function is not used to read data (-1)'. The public tests cannot determine if your code satisfies these requirements. Verify your code manually."
      ]
     },
     "execution_count": 22,
     "metadata": {},
     "output_type": "execute_result"
    }
   ],
   "source": [
    "grader.check(\"q7\")"
   ]
  },
  {
   "cell_type": "markdown",
   "id": "1e4c8af3",
   "metadata": {
    "deletable": false,
    "editable": false
   },
   "source": [
    "**Question 8:**  What are the power plants (`plant_name`) that contain generators which use the `technology` *Conventional Hydroelectric* and have a `net_summer_capacity` greater than *5*?\n",
    "\n",
    "You **must** **ignore** all generators with **missing** `net_summer_capacity` data.\n",
    "\n",
    "Your output **must** be a *list* of **unique** plant names (`plant_name`). The names **must** be sorted in **ascending (alphabetical) order**."
   ]
  },
  {
   "cell_type": "code",
   "execution_count": 23,
   "id": "22bf0bd6",
   "metadata": {
    "execution": {
     "iopub.execute_input": "2023-10-11T03:32:07.506916Z",
     "iopub.status.busy": "2023-10-11T03:32:07.506916Z",
     "iopub.status.idle": "2023-10-11T03:32:07.513981Z",
     "shell.execute_reply": "2023-10-11T03:32:07.513981Z"
    },
    "tags": []
   },
   "outputs": [
    {
     "data": {
      "text/plain": [
       "['Cornell',\n",
       " 'Flambeau Hydroelectric Station',\n",
       " 'Grandfather Falls',\n",
       " 'Holcombe',\n",
       " 'Jim Falls',\n",
       " 'Kilbourn',\n",
       " 'Prairie Du Sac']"
      ]
     },
     "execution_count": 23,
     "metadata": {},
     "output_type": "execute_result"
    }
   ],
   "source": [
    "# compute and store the answer in the variable 'powerful_hydro_electric_plants', then display it\n",
    "powerful_hydro_electric_plants = []\n",
    "new_list = []\n",
    "for idx in range(len(csv_rows)):\n",
    "    if cell(idx, 'technology') == 'Conventional Hydroelectric':\n",
    "        if type(cell(idx, 'net_summer_capacity')) == float and cell(idx, 'net_summer_capacity') > 5.0:\n",
    "            powerful_hydro_electric_plants.append(cell(idx, 'plant_name'))\n",
    "    else:\n",
    "        continue\n",
    "for value in powerful_hydro_electric_plants:\n",
    "    if value not in new_list:\n",
    "        new_list.append(value)\n",
    "list_without_duplicates = []\n",
    "for value in new_list:\n",
    "    list_without_duplicates.append(value)\n",
    "powerful_hydro_electric_plants = list_without_duplicates\n",
    "powerful_hydro_electric_plants.sort()\n",
    "powerful_hydro_electric_plants    "
   ]
  },
  {
   "cell_type": "code",
   "execution_count": 24,
   "id": "c1697c9a",
   "metadata": {
    "deletable": false,
    "editable": false
   },
   "outputs": [
    {
     "data": {
      "text/html": [
       "<p><strong><pre style='display: inline;'>q8</pre></strong> passed! 🙌</p><p><strong><pre style='display: inline;'>q8 - 2</pre> message:</strong> Note that the Gradescope autograder will deduct points if your code fails the following rubric point - 'not all rows are looped through (-1)'. The public tests cannot determine if your code satisfies these requirements. Verify your code manually.</p><p><strong><pre style='display: inline;'>q8 - 3</pre> message:</strong> Note that the Gradescope autograder will deduct points if your code fails the following rubric point - 'the output is not sorted correctly (-1)'. The public tests cannot determine if your code satisfies these requirements. Verify your code manually.</p><p><strong><pre style='display: inline;'>q8 - 4</pre> message:</strong> Note that the Gradescope autograder will deduct points if your code fails the following rubric point - 'incorrect comparison operators are used (-1)'. The public tests cannot determine if your code satisfies these requirements. Verify your code manually.</p><p><strong><pre style='display: inline;'>q8 - 5</pre> message:</strong> Note that the Gradescope autograder will deduct points if your code fails the following rubric point - 'incorrect logic is used (-1)'. The public tests cannot determine if your code satisfies these requirements. Verify your code manually.</p><p><strong><pre style='display: inline;'>q8 - 6</pre> message:</strong> Note that the Gradescope autograder will deduct points if your code fails the following rubric point - '`cell` function is not used to read data (-1)'. The public tests cannot determine if your code satisfies these requirements. Verify your code manually.</p>"
      ],
      "text/plain": [
       "q8 results: All test cases passed!\n",
       "q8 - 2 message: Note that the Gradescope autograder will deduct points if your code fails the following rubric point - 'not all rows are looped through (-1)'. The public tests cannot determine if your code satisfies these requirements. Verify your code manually.\n",
       "q8 - 3 message: Note that the Gradescope autograder will deduct points if your code fails the following rubric point - 'the output is not sorted correctly (-1)'. The public tests cannot determine if your code satisfies these requirements. Verify your code manually.\n",
       "q8 - 4 message: Note that the Gradescope autograder will deduct points if your code fails the following rubric point - 'incorrect comparison operators are used (-1)'. The public tests cannot determine if your code satisfies these requirements. Verify your code manually.\n",
       "q8 - 5 message: Note that the Gradescope autograder will deduct points if your code fails the following rubric point - 'incorrect logic is used (-1)'. The public tests cannot determine if your code satisfies these requirements. Verify your code manually.\n",
       "q8 - 6 message: Note that the Gradescope autograder will deduct points if your code fails the following rubric point - '`cell` function is not used to read data (-1)'. The public tests cannot determine if your code satisfies these requirements. Verify your code manually."
      ]
     },
     "execution_count": 24,
     "metadata": {},
     "output_type": "execute_result"
    }
   ],
   "source": [
    "grader.check(\"q8\")"
   ]
  },
  {
   "cell_type": "markdown",
   "id": "e4b088bd",
   "metadata": {
    "deletable": false,
    "editable": false
   },
   "source": [
    "### Function 2: `num_generators_by(entity_name)`\n",
    "\n",
    "We require you to complete the below function."
   ]
  },
  {
   "cell_type": "code",
   "execution_count": 25,
   "id": "c15d3cff",
   "metadata": {
    "execution": {
     "iopub.execute_input": "2023-10-11T03:32:07.561835Z",
     "iopub.status.busy": "2023-10-11T03:32:07.561835Z",
     "iopub.status.idle": "2023-10-11T03:32:07.565661Z",
     "shell.execute_reply": "2023-10-11T03:32:07.565661Z"
    },
    "tags": []
   },
   "outputs": [],
   "source": [
    "def num_generators_by(entity_name):\n",
    "    \"\"\"\n",
    "    num_generators_by(entity_name) returns the number of\n",
    "    power generators operated by the given `entity_name`\n",
    "    (case sensitive match).\n",
    "    \"\"\"\n",
    "    num_generators = 0\n",
    "    for idx in range(len(csv_rows)):\n",
    "        if entity_name == cell(idx, \"entity_name\"):\n",
    "            num_generators += 1      \n",
    "    return num_generators"
   ]
  },
  {
   "cell_type": "code",
   "execution_count": 26,
   "id": "99a2c66d",
   "metadata": {
    "deletable": false,
    "editable": false
   },
   "outputs": [
    {
     "data": {
      "text/html": [
       "<p><strong><pre style='display: inline;'>num_generators_by</pre></strong> passed! 🙌</p><p><strong><pre style='display: inline;'>num_generators_by - 1</pre> message:</strong> Note that the Gradescope autograder will deduct points if your code fails the following rubric point - 'not all rows are looped through (-1)'. The public tests cannot determine if your code satisfies these requirements. Verify your code manually.</p><p><strong><pre style='display: inline;'>num_generators_by - 2</pre> message:</strong> Note that the Gradescope autograder will deduct points if your code fails the following rubric point - 'function logic is incorrect (-1)'. The public tests cannot determine if your code satisfies these requirements. Verify your code manually.</p><p><strong><pre style='display: inline;'>num_generators_by - 3</pre> message:</strong> Note that the Gradescope autograder will deduct points if your code fails the following rubric point - '`cell` function is not used to read data (-1)'. The public tests cannot determine if your code satisfies these requirements. Verify your code manually.</p>"
      ],
      "text/plain": [
       "num_generators_by results: All test cases passed!\n",
       "num_generators_by - 1 message: Note that the Gradescope autograder will deduct points if your code fails the following rubric point - 'not all rows are looped through (-1)'. The public tests cannot determine if your code satisfies these requirements. Verify your code manually.\n",
       "num_generators_by - 2 message: Note that the Gradescope autograder will deduct points if your code fails the following rubric point - 'function logic is incorrect (-1)'. The public tests cannot determine if your code satisfies these requirements. Verify your code manually.\n",
       "num_generators_by - 3 message: Note that the Gradescope autograder will deduct points if your code fails the following rubric point - '`cell` function is not used to read data (-1)'. The public tests cannot determine if your code satisfies these requirements. Verify your code manually."
      ]
     },
     "execution_count": 26,
     "metadata": {},
     "output_type": "execute_result"
    }
   ],
   "source": [
    "grader.check(\"num_generators_by\")"
   ]
  },
  {
   "cell_type": "markdown",
   "id": "6d7c9ad7",
   "metadata": {
    "deletable": false,
    "editable": false
   },
   "source": [
    "**Question 9:** How **many** generators are operated by the entity (`entity_name`) *Madison Gas & Electric Co*?\n",
    "\n",
    "You **must** use the `num_generators_by` function to answer this question."
   ]
  },
  {
   "cell_type": "code",
   "execution_count": 27,
   "id": "7b63cd92",
   "metadata": {
    "execution": {
     "iopub.execute_input": "2023-10-11T03:32:07.592583Z",
     "iopub.status.busy": "2023-10-11T03:32:07.591582Z",
     "iopub.status.idle": "2023-10-11T03:32:07.597622Z",
     "shell.execute_reply": "2023-10-11T03:32:07.597622Z"
    },
    "tags": []
   },
   "outputs": [
    {
     "data": {
      "text/plain": [
       "19"
      ]
     },
     "execution_count": 27,
     "metadata": {},
     "output_type": "execute_result"
    }
   ],
   "source": [
    "# compute and store the answer in the variable 'num_generators_by_mge', then display it\n",
    "num_generators_by_mge = 0\n",
    "num_generators_by_mge = num_generators_by(\"Madison Gas & Electric Co\")\n",
    "num_generators_by_mge"
   ]
  },
  {
   "cell_type": "code",
   "execution_count": 28,
   "id": "5e871581",
   "metadata": {
    "deletable": false,
    "editable": false
   },
   "outputs": [
    {
     "data": {
      "text/html": [
       "<p><strong><pre style='display: inline;'>q9</pre></strong> passed! 🍀</p><p><strong><pre style='display: inline;'>q9 - 2</pre> message:</strong> Note that the Gradescope autograder will deduct points if your code fails the following rubric point - '`num_generators_by` function is not used to answer (-2)'. The public tests cannot determine if your code satisfies these requirements. Verify your code manually.</p>"
      ],
      "text/plain": [
       "q9 results: All test cases passed!\n",
       "q9 - 2 message: Note that the Gradescope autograder will deduct points if your code fails the following rubric point - '`num_generators_by` function is not used to answer (-2)'. The public tests cannot determine if your code satisfies these requirements. Verify your code manually."
      ]
     },
     "execution_count": 28,
     "metadata": {},
     "output_type": "execute_result"
    }
   ],
   "source": [
    "grader.check(\"q9\")"
   ]
  },
  {
   "cell_type": "markdown",
   "id": "cd774290",
   "metadata": {
    "deletable": false,
    "editable": false
   },
   "source": [
    "**Question 10:** How **many** generators are operated by entities whose name (`entity_name`) **contains** the **phrase** *River* (case insensitive)?\n",
    "\n",
    "You **must** use the `num_generators_by` and `find_entities_with_phrase` functions to answer this question."
   ]
  },
  {
   "cell_type": "code",
   "execution_count": 29,
   "id": "47a40343",
   "metadata": {
    "execution": {
     "iopub.execute_input": "2023-10-11T03:32:07.617344Z",
     "iopub.status.busy": "2023-10-11T03:32:07.616345Z",
     "iopub.status.idle": "2023-10-11T03:32:07.626446Z",
     "shell.execute_reply": "2023-10-11T03:32:07.626446Z"
    },
    "tags": []
   },
   "outputs": [
    {
     "data": {
      "text/plain": [
       "10"
      ]
     },
     "execution_count": 29,
     "metadata": {},
     "output_type": "execute_result"
    }
   ],
   "source": [
    "# compute and store the answer in the variable 'num_generators_by_river', then display it\n",
    "num_generators_by_river = 0\n",
    "new_list = find_entities_with_phrase('River')\n",
    "for value in new_list:\n",
    "    num_generators_by_river += num_generators_by(value)\n",
    "num_generators_by_river"
   ]
  },
  {
   "cell_type": "code",
   "execution_count": 30,
   "id": "c062fb7c",
   "metadata": {
    "deletable": false,
    "editable": false
   },
   "outputs": [
    {
     "data": {
      "text/html": [
       "<p><strong><pre style='display: inline;'>q10</pre></strong> passed! 🚀</p><p><strong><pre style='display: inline;'>q10 - 2</pre> message:</strong> Note that the Gradescope autograder will deduct points if your code fails the following rubric point - 'incorrect logic is used to answer (-1)'. The public tests cannot determine if your code satisfies these requirements. Verify your code manually.</p><p><strong><pre style='display: inline;'>q10 - 3</pre> message:</strong> Note that the Gradescope autograder will deduct points if your code fails the following rubric point - '`num_generators_by` function is not used to answer (-1)'. The public tests cannot determine if your code satisfies these requirements. Verify your code manually.</p><p><strong><pre style='display: inline;'>q10 - 4</pre> message:</strong> Note that the Gradescope autograder will deduct points if your code fails the following rubric point - '`find_entities_with_phrase` function is not used to answer (-1)'. The public tests cannot determine if your code satisfies these requirements. Verify your code manually.</p>"
      ],
      "text/plain": [
       "q10 results: All test cases passed!\n",
       "q10 - 2 message: Note that the Gradescope autograder will deduct points if your code fails the following rubric point - 'incorrect logic is used to answer (-1)'. The public tests cannot determine if your code satisfies these requirements. Verify your code manually.\n",
       "q10 - 3 message: Note that the Gradescope autograder will deduct points if your code fails the following rubric point - '`num_generators_by` function is not used to answer (-1)'. The public tests cannot determine if your code satisfies these requirements. Verify your code manually.\n",
       "q10 - 4 message: Note that the Gradescope autograder will deduct points if your code fails the following rubric point - '`find_entities_with_phrase` function is not used to answer (-1)'. The public tests cannot determine if your code satisfies these requirements. Verify your code manually."
      ]
     },
     "execution_count": 30,
     "metadata": {},
     "output_type": "execute_result"
    }
   ],
   "source": [
    "grader.check(\"q10\")"
   ]
  },
  {
   "cell_type": "markdown",
   "id": "e9461f73",
   "metadata": {
    "deletable": false,
    "editable": false
   },
   "source": [
    "**Question 11:** Which entity (`entity_name`) operates the **most** number of generators within Wisconsin?\n",
    "\n",
    "You **must** use the `num_generators_by` function to answer this question. You do **not** have to worry about any ties. There is a **unique** entity with the most number of generators in the dataset.\n",
    "\n",
    "**Hint**: You must first create a list of unique entities (`entity_name`) in the dataset, then loop through them to find the entity with the most number of generators.\n",
    "\n",
    "**Extra Hint**: If you are clever about it, you can generate a list of all the unique entities using the `find_entities_with_phrase` function. You do **not** have to answer this question that way, but try to find out how you can use it here!"
   ]
  },
  {
   "cell_type": "code",
   "execution_count": 31,
   "id": "005d5411",
   "metadata": {
    "execution": {
     "iopub.execute_input": "2023-10-11T03:32:07.662445Z",
     "iopub.status.busy": "2023-10-11T03:32:07.662445Z",
     "iopub.status.idle": "2023-10-11T03:32:07.702945Z",
     "shell.execute_reply": "2023-10-11T03:32:07.702945Z"
    },
    "tags": []
   },
   "outputs": [
    {
     "data": {
      "text/plain": [
       "'Northern States Power Co - Minnesota'"
      ]
     },
     "execution_count": 31,
     "metadata": {},
     "output_type": "execute_result"
    }
   ],
   "source": [
    "# compute and store the answer in the variable 'most_generators_entity', then display it\n",
    "most_generators_entity = ' '\n",
    "most_generators_number = 0\n",
    "entity_names = []\n",
    "list_with_duplicates = []\n",
    "for idx in range(num_rows):\n",
    "    list_with_duplicates.append(cell(idx, 'entity_name'))\n",
    "for value in list_with_duplicates:\n",
    "    if value not in entity_names:\n",
    "        entity_names.append(value)\n",
    "list_without_duplicates = []\n",
    "for value in entity_names:\n",
    "    list_without_duplicates.append(value)\n",
    "entity_names = list_without_duplicates\n",
    "for value in entity_names:\n",
    "    if num_generators_by(value) > most_generators_number:\n",
    "        most_generators_number = num_generators_by(value)\n",
    "        most_generators_entity = value\n",
    "most_generators_entity"
   ]
  },
  {
   "cell_type": "code",
   "execution_count": 32,
   "id": "7ce1a9f1",
   "metadata": {
    "deletable": false,
    "editable": false
   },
   "outputs": [
    {
     "data": {
      "text/html": [
       "<p><strong><pre style='display: inline;'>q11</pre></strong> passed! 💯</p><p><strong><pre style='display: inline;'>q11 - 2</pre> message:</strong> Note that the Gradescope autograder will deduct points if your code fails the following rubric point - 'all entities are looped through instead of just the unique entities (-2)'. The public tests cannot determine if your code satisfies these requirements. Verify your code manually.</p><p><strong><pre style='display: inline;'>q11 - 3</pre> message:</strong> Note that the Gradescope autograder will deduct points if your code fails the following rubric point - 'incorrect logic is used to answer (-1)'. The public tests cannot determine if your code satisfies these requirements. Verify your code manually.</p><p><strong><pre style='display: inline;'>q11 - 4</pre> message:</strong> Note that the Gradescope autograder will deduct points if your code fails the following rubric point - '`num_generators_by` function is not used to answer (-1)'. The public tests cannot determine if your code satisfies these requirements. Verify your code manually.</p>"
      ],
      "text/plain": [
       "q11 results: All test cases passed!\n",
       "q11 - 2 message: Note that the Gradescope autograder will deduct points if your code fails the following rubric point - 'all entities are looped through instead of just the unique entities (-2)'. The public tests cannot determine if your code satisfies these requirements. Verify your code manually.\n",
       "q11 - 3 message: Note that the Gradescope autograder will deduct points if your code fails the following rubric point - 'incorrect logic is used to answer (-1)'. The public tests cannot determine if your code satisfies these requirements. Verify your code manually.\n",
       "q11 - 4 message: Note that the Gradescope autograder will deduct points if your code fails the following rubric point - '`num_generators_by` function is not used to answer (-1)'. The public tests cannot determine if your code satisfies these requirements. Verify your code manually."
      ]
     },
     "execution_count": 32,
     "metadata": {},
     "output_type": "execute_result"
    }
   ],
   "source": [
    "grader.check(\"q11\")"
   ]
  },
  {
   "cell_type": "markdown",
   "id": "4b5dc3a0",
   "metadata": {
    "deletable": false,
    "editable": false
   },
   "source": [
    "### Function 3: `find_indices_within(lat_min, lat_max, long_min, long_max)` \n",
    "\n",
    "We require you to complete the below function."
   ]
  },
  {
   "cell_type": "code",
   "execution_count": 33,
   "id": "c6802dc2",
   "metadata": {
    "execution": {
     "iopub.execute_input": "2023-10-11T03:32:07.742713Z",
     "iopub.status.busy": "2023-10-11T03:32:07.742713Z",
     "iopub.status.idle": "2023-10-11T03:32:07.747672Z",
     "shell.execute_reply": "2023-10-11T03:32:07.747672Z"
    },
    "tags": []
   },
   "outputs": [],
   "source": [
    "def find_indices_within(lat_min, lat_max, long_min, long_max):\n",
    "    \"\"\"\n",
    "    find_indices_within(lat_min, lat_max, long_min, long_max) returns a\n",
    "    list of *row indices* of all generators located within the\n",
    "    latitudes `lat_min` and `lat_max` (both inclusive) and the\n",
    "    longitudes `long_min` and `long_max` (both inclusive).\n",
    "    \"\"\"\n",
    "    new_list = []\n",
    "    for idx in range(len(csv_rows)):\n",
    "        if lat_min <= cell(idx, 'latitude') <= lat_max:\n",
    "            if long_min <= cell(idx, 'longitude') <= long_max:\n",
    "                new_list.append(idx)\n",
    "    return new_list"
   ]
  },
  {
   "cell_type": "code",
   "execution_count": 34,
   "id": "9887996d",
   "metadata": {
    "deletable": false,
    "editable": false
   },
   "outputs": [
    {
     "data": {
      "text/html": [
       "<p><strong><pre style='display: inline;'>find_indices_within</pre></strong> passed! 🍀</p><p><strong><pre style='display: inline;'>find_indices_within - 1</pre> message:</strong> Note that the Gradescope autograder will deduct points if your code fails the following rubric point - 'not all rows are looped through (-1)'. The public tests cannot determine if your code satisfies these requirements. Verify your code manually.</p><p><strong><pre style='display: inline;'>find_indices_within - 2</pre> message:</strong> Note that the Gradescope autograder will deduct points if your code fails the following rubric point - 'incorrect comparison operators are used (-1)'. The public tests cannot determine if your code satisfies these requirements. Verify your code manually.</p><p><strong><pre style='display: inline;'>find_indices_within - 3</pre> message:</strong> Note that the Gradescope autograder will deduct points if your code fails the following rubric point - 'function logic is incorrect (-1)'. The public tests cannot determine if your code satisfies these requirements. Verify your code manually.</p><p><strong><pre style='display: inline;'>find_indices_within - 4</pre> message:</strong> Note that the Gradescope autograder will deduct points if your code fails the following rubric point - '`cell` function is not used to read data (-1)'. The public tests cannot determine if your code satisfies these requirements. Verify your code manually.</p>"
      ],
      "text/plain": [
       "find_indices_within results: All test cases passed!\n",
       "find_indices_within - 1 message: Note that the Gradescope autograder will deduct points if your code fails the following rubric point - 'not all rows are looped through (-1)'. The public tests cannot determine if your code satisfies these requirements. Verify your code manually.\n",
       "find_indices_within - 2 message: Note that the Gradescope autograder will deduct points if your code fails the following rubric point - 'incorrect comparison operators are used (-1)'. The public tests cannot determine if your code satisfies these requirements. Verify your code manually.\n",
       "find_indices_within - 3 message: Note that the Gradescope autograder will deduct points if your code fails the following rubric point - 'function logic is incorrect (-1)'. The public tests cannot determine if your code satisfies these requirements. Verify your code manually.\n",
       "find_indices_within - 4 message: Note that the Gradescope autograder will deduct points if your code fails the following rubric point - '`cell` function is not used to read data (-1)'. The public tests cannot determine if your code satisfies these requirements. Verify your code manually."
      ]
     },
     "execution_count": 34,
     "metadata": {},
     "output_type": "execute_result"
    }
   ],
   "source": [
    "grader.check(\"find_indices_within\")"
   ]
  },
  {
   "cell_type": "markdown",
   "id": "18c74fa6",
   "metadata": {
    "deletable": false,
    "editable": false
   },
   "source": [
    "**Question 12:** How **many** power generators are located **within** the *City of Milwaukee* (`42.9870 <= latitude <= 43.1936`, `-88.0636 <= longitude <= -87.8727`)?\n",
    "\n",
    "Note that simply checking if the `county` is *Milwaukee* will lead you to count generators that are within *Milwaukee County*, but not within the City. Use the coordinates given above to determine the generators that lie within the City.\n",
    "\n",
    "You **must** use the `find_indices_within` function to answer this question."
   ]
  },
  {
   "cell_type": "code",
   "execution_count": 35,
   "id": "aee6c489",
   "metadata": {
    "execution": {
     "iopub.execute_input": "2023-10-11T03:32:07.782686Z",
     "iopub.status.busy": "2023-10-11T03:32:07.782686Z",
     "iopub.status.idle": "2023-10-11T03:32:07.788923Z",
     "shell.execute_reply": "2023-10-11T03:32:07.788923Z"
    },
    "tags": []
   },
   "outputs": [
    {
     "data": {
      "text/plain": [
       "8"
      ]
     },
     "execution_count": 35,
     "metadata": {},
     "output_type": "execute_result"
    }
   ],
   "source": [
    "# compute and store the answer in the variable 'num_generators_in_milwaukee', then display it\n",
    "new_list = find_indices_within(42.9870, 43.1936, -88.0636, -87.8727)\n",
    "num_generators_in_milwaukee = len(new_list)\n",
    "num_generators_in_milwaukee"
   ]
  },
  {
   "cell_type": "code",
   "execution_count": 36,
   "id": "e954de09",
   "metadata": {
    "deletable": false,
    "editable": false
   },
   "outputs": [
    {
     "data": {
      "text/html": [
       "<p><strong><pre style='display: inline;'>q12</pre></strong> passed! 🚀</p><p><strong><pre style='display: inline;'>q12 - 2</pre> message:</strong> Note that the Gradescope autograder will deduct points if your code fails the following rubric point - 'length of the list is found by looping through it (-1)'. The public tests cannot determine if your code satisfies these requirements. Verify your code manually.</p><p><strong><pre style='display: inline;'>q12 - 3</pre> message:</strong> Note that the Gradescope autograder will deduct points if your code fails the following rubric point - '`find_indices_within` function is not used to answer (-2)'. The public tests cannot determine if your code satisfies these requirements. Verify your code manually.</p>"
      ],
      "text/plain": [
       "q12 results: All test cases passed!\n",
       "q12 - 2 message: Note that the Gradescope autograder will deduct points if your code fails the following rubric point - 'length of the list is found by looping through it (-1)'. The public tests cannot determine if your code satisfies these requirements. Verify your code manually.\n",
       "q12 - 3 message: Note that the Gradescope autograder will deduct points if your code fails the following rubric point - '`find_indices_within` function is not used to answer (-2)'. The public tests cannot determine if your code satisfies these requirements. Verify your code manually."
      ]
     },
     "execution_count": 36,
     "metadata": {},
     "output_type": "execute_result"
    }
   ],
   "source": [
    "grader.check(\"q12\")"
   ]
  },
  {
   "cell_type": "markdown",
   "id": "6f4513b3",
   "metadata": {
    "deletable": false,
    "editable": false
   },
   "source": [
    "**Question 13:** What are the **unique** technologies (`technology`) used by power generators located **near** the *University of Wisconsin-Madison Department of Computer Sciences* (`43.0675 <= latitude <= 43.0725`, `-89.4100 <= longitude <= -89.4000`)?\n",
    "\n",
    "You may assume that any power generator that lies within the coordinates given above are **near** the *University of Wisconsin-Madison Department of Computer Sciences*. You **must** use the `find_indices_within` function to answer this question.\n",
    "\n",
    "You **must** return a **list** of **unique** technologies. The order **does not** matter. "
   ]
  },
  {
   "cell_type": "code",
   "execution_count": 37,
   "id": "5f1b89a6",
   "metadata": {
    "execution": {
     "iopub.execute_input": "2023-10-11T03:32:07.816357Z",
     "iopub.status.busy": "2023-10-11T03:32:07.816357Z",
     "iopub.status.idle": "2023-10-11T03:32:07.823320Z",
     "shell.execute_reply": "2023-10-11T03:32:07.823320Z"
    },
    "tags": []
   },
   "outputs": [
    {
     "data": {
      "text/plain": [
       "['Natural Gas Steam Turbine', 'Petroleum Liquids']"
      ]
     },
     "execution_count": 37,
     "metadata": {},
     "output_type": "execute_result"
    }
   ],
   "source": [
    "# compute and store the answer in the variable 'uw_madison_technologies', then display it\n",
    "new_list = find_indices_within(43.0675, 43.0725, -89.4100, -89.4000)\n",
    "    \n",
    "uw_madison_technologies = []\n",
    "list_with_duplicates = []\n",
    "for idx in new_list:\n",
    "    list_with_duplicates.append(cell(idx, 'technology'))\n",
    "for value in list_with_duplicates:\n",
    "    if value not in uw_madison_technologies:\n",
    "        uw_madison_technologies.append(value)\n",
    "list_without_duplicates = []\n",
    "for value in uw_madison_technologies:\n",
    "    list_without_duplicates.append(value)\n",
    "\n",
    "uw_madison_technologies = list_without_duplicates\n",
    "uw_madison_technologies\n",
    "    "
   ]
  },
  {
   "cell_type": "code",
   "execution_count": 38,
   "id": "bb9c14d7",
   "metadata": {
    "deletable": false,
    "editable": false
   },
   "outputs": [
    {
     "data": {
      "text/html": [
       "<p><strong><pre style='display: inline;'>q13</pre></strong> passed! 💯</p><p><strong><pre style='display: inline;'>q13 - 2</pre> message:</strong> Note that the Gradescope autograder will deduct points if your code fails the following rubric point - 'duplicates are not removed from the list (-1)'. The public tests cannot determine if your code satisfies these requirements. Verify your code manually.</p><p><strong><pre style='display: inline;'>q13 - 3</pre> message:</strong> Note that the Gradescope autograder will deduct points if your code fails the following rubric point - 'incorrect logic is used to answer (-1)'. The public tests cannot determine if your code satisfies these requirements. Verify your code manually.</p><p><strong><pre style='display: inline;'>q13 - 4</pre> message:</strong> Note that the Gradescope autograder will deduct points if your code fails the following rubric point - '`find_indices_within` function is not used to answer (-1)'. The public tests cannot determine if your code satisfies these requirements. Verify your code manually.</p>"
      ],
      "text/plain": [
       "q13 results: All test cases passed!\n",
       "q13 - 2 message: Note that the Gradescope autograder will deduct points if your code fails the following rubric point - 'duplicates are not removed from the list (-1)'. The public tests cannot determine if your code satisfies these requirements. Verify your code manually.\n",
       "q13 - 3 message: Note that the Gradescope autograder will deduct points if your code fails the following rubric point - 'incorrect logic is used to answer (-1)'. The public tests cannot determine if your code satisfies these requirements. Verify your code manually.\n",
       "q13 - 4 message: Note that the Gradescope autograder will deduct points if your code fails the following rubric point - '`find_indices_within` function is not used to answer (-1)'. The public tests cannot determine if your code satisfies these requirements. Verify your code manually."
      ]
     },
     "execution_count": 38,
     "metadata": {},
     "output_type": "execute_result"
    }
   ],
   "source": [
    "grader.check(\"q13\")"
   ]
  },
  {
   "cell_type": "markdown",
   "id": "53ceb4f6",
   "metadata": {
    "deletable": false,
    "editable": false
   },
   "source": [
    "**Question 14:** Which power plant (`plant_name`) in *North Wisconsin* (`44.9657 <= latitude <= 46.6989`, `-92.1908 <= longitude <= -87.6449`) has the generator with the **highest** `net_summer_capacity`?\n",
    "\n",
    "You may assume that any power generator that lies within the coordinates given above are **in** *North Wisconsin*. You **may** assume that **none** of the `net_summer_capacity` values of any of the power generators within this area are **missing**.\n",
    "\n",
    "You do **not** have to worry about any ties. There is a **unique** generator in *North Wisconsin* with the highest `net_summer_capacity`.\n",
    "\n",
    "You **must** use the `find_indices_within` function to answer this question."
   ]
  },
  {
   "cell_type": "code",
   "execution_count": 39,
   "id": "4b85701d",
   "metadata": {
    "execution": {
     "iopub.execute_input": "2023-10-11T03:32:07.861310Z",
     "iopub.status.busy": "2023-10-11T03:32:07.861310Z",
     "iopub.status.idle": "2023-10-11T03:32:07.869128Z",
     "shell.execute_reply": "2023-10-11T03:32:07.869128Z"
    },
    "tags": []
   },
   "outputs": [
    {
     "data": {
      "text/plain": [
       "'West Marinette'"
      ]
     },
     "execution_count": 39,
     "metadata": {},
     "output_type": "execute_result"
    }
   ],
   "source": [
    "# compute and store the answer in the variable 'north_wisconsin_most_powerful', then display it\n",
    "new_list = find_indices_within(44.9657, 46.6989, -92.1908, -87.6449)\n",
    "north_wisconsin_most_powerful = ' '\n",
    "highest_sum_capacity = 0\n",
    "for idx in new_list:\n",
    "    if cell(idx, 'net_summer_capacity') > highest_sum_capacity:\n",
    "        highest_sum_capacity = cell(idx, 'net_summer_capacity')\n",
    "        north_wisconsin_most_powerful = cell(idx, 'plant_name')\n",
    "north_wisconsin_most_powerful"
   ]
  },
  {
   "cell_type": "code",
   "execution_count": 40,
   "id": "0a966dcd",
   "metadata": {
    "deletable": false,
    "editable": false
   },
   "outputs": [
    {
     "data": {
      "text/html": [
       "<p><strong><pre style='display: inline;'>q14</pre></strong> passed! 💯</p><p><strong><pre style='display: inline;'>q14 - 2</pre> message:</strong> Note that the Gradescope autograder will deduct points if your code fails the following rubric point - 'incorrect logic is used to answer (-2)'. The public tests cannot determine if your code satisfies these requirements. Verify your code manually.</p><p><strong><pre style='display: inline;'>q14 - 3</pre> message:</strong> Note that the Gradescope autograder will deduct points if your code fails the following rubric point - '`find_indices_within` function is not used to answer (-1)'. The public tests cannot determine if your code satisfies these requirements. Verify your code manually.</p><p><strong><pre style='display: inline;'>q14 - 4</pre> message:</strong> Note that the Gradescope autograder will deduct points if your code fails the following rubric point - '`cell` function is not used to read data (-1)'. The public tests cannot determine if your code satisfies these requirements. Verify your code manually.</p>"
      ],
      "text/plain": [
       "q14 results: All test cases passed!\n",
       "q14 - 2 message: Note that the Gradescope autograder will deduct points if your code fails the following rubric point - 'incorrect logic is used to answer (-2)'. The public tests cannot determine if your code satisfies these requirements. Verify your code manually.\n",
       "q14 - 3 message: Note that the Gradescope autograder will deduct points if your code fails the following rubric point - '`find_indices_within` function is not used to answer (-1)'. The public tests cannot determine if your code satisfies these requirements. Verify your code manually.\n",
       "q14 - 4 message: Note that the Gradescope autograder will deduct points if your code fails the following rubric point - '`cell` function is not used to read data (-1)'. The public tests cannot determine if your code satisfies these requirements. Verify your code manually."
      ]
     },
     "execution_count": 40,
     "metadata": {},
     "output_type": "execute_result"
    }
   ],
   "source": [
    "grader.check(\"q14\")"
   ]
  },
  {
   "cell_type": "markdown",
   "id": "cd60dff7",
   "metadata": {
    "deletable": false,
    "editable": false
   },
   "source": [
    "### Function 4: `median(items)` \n",
    "\n",
    "We require you to complete the below function. You may **copy/paste** this function from your Lab-P6 notebook."
   ]
  },
  {
   "cell_type": "code",
   "execution_count": 41,
   "id": "3497c585",
   "metadata": {
    "execution": {
     "iopub.execute_input": "2023-10-11T03:32:07.910156Z",
     "iopub.status.busy": "2023-10-11T03:32:07.910156Z",
     "iopub.status.idle": "2023-10-11T03:32:07.914376Z",
     "shell.execute_reply": "2023-10-11T03:32:07.914376Z"
    },
    "tags": []
   },
   "outputs": [],
   "source": [
    "def median(items):\n",
    "    sorted_list = sorted(items)\n",
    "    list_len = len(items)\n",
    "    if list_len % 2 == 1:\n",
    "        return sorted_list[list_len // 2]\n",
    "    else:\n",
    "        first_middle = sorted_list[list_len // 2] \n",
    "        second_middle = sorted_list[(list_len // 2) - 1]\n",
    "        return (first_middle + second_middle) / 2"
   ]
  },
  {
   "cell_type": "code",
   "execution_count": 42,
   "id": "f46cdb59",
   "metadata": {
    "deletable": false,
    "editable": false
   },
   "outputs": [
    {
     "data": {
      "text/html": [
       "<p><strong><pre style='display: inline;'>median</pre></strong> passed! 🚀</p><p><strong><pre style='display: inline;'>median - 1</pre> message:</strong> Note that the Gradescope autograder will deduct points if your code fails the following rubric point - 'function modifies the original input list (-1)'. The public tests cannot determine if your code satisfies these requirements. Verify your code manually.</p><p><strong><pre style='display: inline;'>median - 2</pre> message:</strong> Note that the Gradescope autograder will deduct points if your code fails the following rubric point - 'function logic is incorrect when inputs are of odd length (-1)'. The public tests cannot determine if your code satisfies these requirements. Verify your code manually.</p><p><strong><pre style='display: inline;'>median - 3</pre> message:</strong> Note that the Gradescope autograder will deduct points if your code fails the following rubric point - 'function logic is incorrect when inputs are of even length (-1)'. The public tests cannot determine if your code satisfies these requirements. Verify your code manually.</p>"
      ],
      "text/plain": [
       "median results: All test cases passed!\n",
       "median - 1 message: Note that the Gradescope autograder will deduct points if your code fails the following rubric point - 'function modifies the original input list (-1)'. The public tests cannot determine if your code satisfies these requirements. Verify your code manually.\n",
       "median - 2 message: Note that the Gradescope autograder will deduct points if your code fails the following rubric point - 'function logic is incorrect when inputs are of odd length (-1)'. The public tests cannot determine if your code satisfies these requirements. Verify your code manually.\n",
       "median - 3 message: Note that the Gradescope autograder will deduct points if your code fails the following rubric point - 'function logic is incorrect when inputs are of even length (-1)'. The public tests cannot determine if your code satisfies these requirements. Verify your code manually."
      ]
     },
     "execution_count": 42,
     "metadata": {},
     "output_type": "execute_result"
    }
   ],
   "source": [
    "grader.check(\"median\")"
   ]
  },
  {
   "cell_type": "markdown",
   "id": "8df56d8a",
   "metadata": {
    "deletable": false,
    "editable": false
   },
   "source": [
    "**Question 15:** What is the **median** `net_winter_capacity` of *Conventional Hydroelectric* (`technology`) power generators **near** *Lake Winnebago* (`43.6961 <= latitude <= 44.3512`, `-88.5375 <= longitude <= -88.2713`)?\n",
    "\n",
    "You may assume that any power generator that lies within the coordinates given above are **near** *Lake Winnebago*. You **may** assume that **none** of the `net_winter_capacity` values of any of the power generators within this area are **missing**.\n",
    "\n",
    "You **must** use the `find_indices_within` and `median` functions to answer this question."
   ]
  },
  {
   "cell_type": "code",
   "execution_count": 43,
   "id": "2369bd91",
   "metadata": {
    "execution": {
     "iopub.execute_input": "2023-10-11T03:32:07.940269Z",
     "iopub.status.busy": "2023-10-11T03:32:07.939261Z",
     "iopub.status.idle": "2023-10-11T03:32:07.946410Z",
     "shell.execute_reply": "2023-10-11T03:32:07.946410Z"
    },
    "tags": []
   },
   "outputs": [
    {
     "data": {
      "text/plain": [
       "0.7"
      ]
     },
     "execution_count": 43,
     "metadata": {},
     "output_type": "execute_result"
    }
   ],
   "source": [
    "# compute and store the answer in the variable 'winnebago_hydro_winter_capacity', then display \n",
    "winnebago_hydro_winter_capacity = 0\n",
    "new_list = find_indices_within(43.6961, 44.3512, -88.5375, -88.2713)\n",
    "neww_list = []\n",
    "for idx in new_list:\n",
    "    if cell(idx, 'technology') == 'Conventional Hydroelectric':\n",
    "        neww_list.append(cell(idx, 'net_winter_capacity'))\n",
    "winnebago_hydro_winter_capacity = median(neww_list)\n",
    "winnebago_hydro_winter_capacity"
   ]
  },
  {
   "cell_type": "code",
   "execution_count": 44,
   "id": "820c5723",
   "metadata": {
    "deletable": false,
    "editable": false
   },
   "outputs": [
    {
     "data": {
      "text/html": [
       "<p><strong><pre style='display: inline;'>q15</pre></strong> passed! 🎉</p><p><strong><pre style='display: inline;'>q15 - 2</pre> message:</strong> Note that the Gradescope autograder will deduct points if your code fails the following rubric point - 'incorrect logic is used to answer (-1)'. The public tests cannot determine if your code satisfies these requirements. Verify your code manually.</p><p><strong><pre style='display: inline;'>q15 - 3</pre> message:</strong> Note that the Gradescope autograder will deduct points if your code fails the following rubric point - '`find_indices_within` function is not used to answer (-1)'. The public tests cannot determine if your code satisfies these requirements. Verify your code manually.</p><p><strong><pre style='display: inline;'>q15 - 4</pre> message:</strong> Note that the Gradescope autograder will deduct points if your code fails the following rubric point - '`median` function is not used to answer (-1)'. The public tests cannot determine if your code satisfies these requirements. Verify your code manually.</p><p><strong><pre style='display: inline;'>q15 - 5</pre> message:</strong> Note that the Gradescope autograder will deduct points if your code fails the following rubric point - '`cell` function is not used to read data (-1)'. The public tests cannot determine if your code satisfies these requirements. Verify your code manually.</p>"
      ],
      "text/plain": [
       "q15 results: All test cases passed!\n",
       "q15 - 2 message: Note that the Gradescope autograder will deduct points if your code fails the following rubric point - 'incorrect logic is used to answer (-1)'. The public tests cannot determine if your code satisfies these requirements. Verify your code manually.\n",
       "q15 - 3 message: Note that the Gradescope autograder will deduct points if your code fails the following rubric point - '`find_indices_within` function is not used to answer (-1)'. The public tests cannot determine if your code satisfies these requirements. Verify your code manually.\n",
       "q15 - 4 message: Note that the Gradescope autograder will deduct points if your code fails the following rubric point - '`median` function is not used to answer (-1)'. The public tests cannot determine if your code satisfies these requirements. Verify your code manually.\n",
       "q15 - 5 message: Note that the Gradescope autograder will deduct points if your code fails the following rubric point - '`cell` function is not used to read data (-1)'. The public tests cannot determine if your code satisfies these requirements. Verify your code manually."
      ]
     },
     "execution_count": 44,
     "metadata": {},
     "output_type": "execute_result"
    }
   ],
   "source": [
    "grader.check(\"q15\")"
   ]
  },
  {
   "cell_type": "markdown",
   "id": "c3a93f3f",
   "metadata": {
    "deletable": false,
    "editable": false
   },
   "source": [
    "### Function 5: `total_summer_capacity_of(plant_name)` \n",
    "\n",
    "We **require** you to complete the below function. This function must take in a `plant_name` and return the **total** `net_summer_capacity` of all the power generators within that power plant. If a particular `plant_name` has **some** generators with **missing data**, those generators **must** be **ignored** while finding the sum.\n",
    "\n",
    "This function can be **case-sensitive**. You **only** need to consider the power plants whose names **exactly match** `plant_name`."
   ]
  },
  {
   "cell_type": "code",
   "execution_count": 45,
   "id": "5e413275",
   "metadata": {
    "execution": {
     "iopub.execute_input": "2023-10-11T03:32:07.988037Z",
     "iopub.status.busy": "2023-10-11T03:32:07.988037Z",
     "iopub.status.idle": "2023-10-11T03:32:07.992118Z",
     "shell.execute_reply": "2023-10-11T03:32:07.992118Z"
    },
    "tags": []
   },
   "outputs": [],
   "source": [
    "def total_summer_capacity_of(plant_name):\n",
    "    \"\"\"\n",
    "    total_summer_capacity_of(plant_name) returns the total\n",
    "    `net_summer_capacity` of all power generators within\n",
    "    the given `plant_name`; this function **ignores**\n",
    "    any generator whose `net_summer_capacity` data is\n",
    "    missing.\n",
    "    \"\"\"\n",
    "    var = 0\n",
    "    for idx in range(len(csv_rows)):\n",
    "        if cell(idx, 'plant_name') == plant_name:\n",
    "            if type(cell(idx, 'net_summer_capacity')) == float:\n",
    "                var += cell(idx, 'net_summer_capacity')\n",
    "    return var"
   ]
  },
  {
   "cell_type": "code",
   "execution_count": 46,
   "id": "6800edfc",
   "metadata": {
    "deletable": false,
    "editable": false
   },
   "outputs": [
    {
     "data": {
      "text/html": [
       "<p><strong><pre style='display: inline;'>total_summer_capacity_of</pre></strong> passed! 🚀</p><p><strong><pre style='display: inline;'>total_summer_capacity_of - 1</pre> message:</strong> Note that the Gradescope autograder will deduct points if your code fails the following rubric point - 'not all rows are looped through (-1)'. The public tests cannot determine if your code satisfies these requirements. Verify your code manually.</p><p><strong><pre style='display: inline;'>total_summer_capacity_of - 2</pre> message:</strong> Note that the Gradescope autograder will deduct points if your code fails the following rubric point - 'missing data is not ignored (-1)'. The public tests cannot determine if your code satisfies these requirements. Verify your code manually.</p><p><strong><pre style='display: inline;'>total_summer_capacity_of - 3</pre> message:</strong> Note that the Gradescope autograder will deduct points if your code fails the following rubric point - 'function logic is incorrect (-1)'. The public tests cannot determine if your code satisfies these requirements. Verify your code manually.</p><p><strong><pre style='display: inline;'>total_summer_capacity_of - 4</pre> message:</strong> Note that the Gradescope autograder will deduct points if your code fails the following rubric point - '`cell` function is not used to read data (-1)'. The public tests cannot determine if your code satisfies these requirements. Verify your code manually.</p>"
      ],
      "text/plain": [
       "total_summer_capacity_of results: All test cases passed!\n",
       "total_summer_capacity_of - 1 message: Note that the Gradescope autograder will deduct points if your code fails the following rubric point - 'not all rows are looped through (-1)'. The public tests cannot determine if your code satisfies these requirements. Verify your code manually.\n",
       "total_summer_capacity_of - 2 message: Note that the Gradescope autograder will deduct points if your code fails the following rubric point - 'missing data is not ignored (-1)'. The public tests cannot determine if your code satisfies these requirements. Verify your code manually.\n",
       "total_summer_capacity_of - 3 message: Note that the Gradescope autograder will deduct points if your code fails the following rubric point - 'function logic is incorrect (-1)'. The public tests cannot determine if your code satisfies these requirements. Verify your code manually.\n",
       "total_summer_capacity_of - 4 message: Note that the Gradescope autograder will deduct points if your code fails the following rubric point - '`cell` function is not used to read data (-1)'. The public tests cannot determine if your code satisfies these requirements. Verify your code manually."
      ]
     },
     "execution_count": 46,
     "metadata": {},
     "output_type": "execute_result"
    }
   ],
   "source": [
    "grader.check(\"total_summer_capacity_of\")"
   ]
  },
  {
   "cell_type": "markdown",
   "id": "7eccb8d9",
   "metadata": {
    "deletable": false,
    "editable": false
   },
   "source": [
    "**Question 16:** What is the **net summer capacity** of the **power plant** *Point Beach Nuclear Plant*?\n",
    "\n",
    "The **net summer capacity** of a **power plant** refers to the **total** `net_summer_capacity` of **all** the generators within the power plant.\n",
    "\n",
    "You **must** use the `total_summer_capacity_of` function to answer this question."
   ]
  },
  {
   "cell_type": "code",
   "execution_count": 47,
   "id": "b7c3401b",
   "metadata": {
    "execution": {
     "iopub.execute_input": "2023-10-11T03:32:08.024448Z",
     "iopub.status.busy": "2023-10-11T03:32:08.024448Z",
     "iopub.status.idle": "2023-10-11T03:32:08.029784Z",
     "shell.execute_reply": "2023-10-11T03:32:08.029784Z"
    },
    "tags": []
   },
   "outputs": [
    {
     "data": {
      "text/plain": [
       "1211.0"
      ]
     },
     "execution_count": 47,
     "metadata": {},
     "output_type": "execute_result"
    }
   ],
   "source": [
    "# compute and store the answer in the variable 'point_beach_summer_capacity', then display it\n",
    "point_beach_summer_capacity = total_summer_capacity_of('Point Beach Nuclear Plant')\n",
    "point_beach_summer_capacity"
   ]
  },
  {
   "cell_type": "code",
   "execution_count": 48,
   "id": "08c46c44",
   "metadata": {
    "deletable": false,
    "editable": false
   },
   "outputs": [
    {
     "data": {
      "text/html": [
       "<p><strong><pre style='display: inline;'>q16</pre></strong> passed! 🚀</p><p><strong><pre style='display: inline;'>q16 - 2</pre> message:</strong> Note that the Gradescope autograder will deduct points if your code fails the following rubric point - '`total_summer_capacity_of` function is not used to answer (-2)'. The public tests cannot determine if your code satisfies these requirements. Verify your code manually.</p>"
      ],
      "text/plain": [
       "q16 results: All test cases passed!\n",
       "q16 - 2 message: Note that the Gradescope autograder will deduct points if your code fails the following rubric point - '`total_summer_capacity_of` function is not used to answer (-2)'. The public tests cannot determine if your code satisfies these requirements. Verify your code manually."
      ]
     },
     "execution_count": 48,
     "metadata": {},
     "output_type": "execute_result"
    }
   ],
   "source": [
    "grader.check(\"q16\")"
   ]
  },
  {
   "cell_type": "markdown",
   "id": "c234f97d",
   "metadata": {
    "deletable": false,
    "editable": false
   },
   "source": [
    "**Question 17:** Find the **median** of the **net summer capacities** of **all** the **power plants** in Wisconsin.\n",
    "\n",
    "The **net summer capacity** of a **power plant** refers to the **total** `net_summer_capacity` of **all** the generators within the power plant.\n",
    "\n",
    "You **must** use the `total_summer_capacity_of` function to answer this question.\n",
    "\n",
    "**WARNING**: You **must not** find the **median** across all the power **generators**. Multiple generators may belong to the same power plant. Instead, you **must** find the **median** across the **total** power generated by each **power plant**.\n",
    "\n",
    "**Hint**: You must first make a list of all the **unique** power plants (`plant_name`) in the dataset, then make a **list** of all their **total** net summer capacities (using `total_summer_capacity_of`), and finally, find the **median** of this list."
   ]
  },
  {
   "cell_type": "code",
   "execution_count": 49,
   "id": "8d4b30df",
   "metadata": {
    "execution": {
     "iopub.execute_input": "2023-10-11T03:32:08.049147Z",
     "iopub.status.busy": "2023-10-11T03:32:08.049147Z",
     "iopub.status.idle": "2023-10-11T03:32:08.109623Z",
     "shell.execute_reply": "2023-10-11T03:32:08.108609Z"
    },
    "tags": []
   },
   "outputs": [
    {
     "data": {
      "text/plain": [
       "7.0"
      ]
     },
     "execution_count": 49,
     "metadata": {},
     "output_type": "execute_result"
    }
   ],
   "source": [
    "# compute and store the answer in the variable 'median_summer_capacity', then display it\n",
    "median_summer_capacity = 0\n",
    "plant_names = []\n",
    "new_list = []\n",
    "list_with_duplicates = []\n",
    "for idx in range(num_rows):\n",
    "    list_with_duplicates.append(cell(idx, 'plant_name'))\n",
    "for value in list_with_duplicates:\n",
    "    if value not in plant_names:\n",
    "        plant_names.append(value)\n",
    "list_without_duplicates = []\n",
    "for value in plant_names:\n",
    "    list_without_duplicates.append(value)\n",
    "\n",
    "plant_names = list_without_duplicates\n",
    "for value in plant_names:\n",
    "    new_list.append(total_summer_capacity_of(value))\n",
    "median_summer_capacity = median(new_list)\n",
    "median_summer_capacity"
   ]
  },
  {
   "cell_type": "code",
   "execution_count": 50,
   "id": "35eb860b",
   "metadata": {
    "deletable": false,
    "editable": false
   },
   "outputs": [
    {
     "data": {
      "text/html": [
       "<p><strong><pre style='display: inline;'>q17</pre></strong> passed! 🍀</p><p><strong><pre style='display: inline;'>q17 - 2</pre> message:</strong> Note that the Gradescope autograder will deduct points if your code fails the following rubric point - 'all power plants are looped through instead of just the unique power plants (-1)'. The public tests cannot determine if your code satisfies these requirements. Verify your code manually.</p><p><strong><pre style='display: inline;'>q17 - 3</pre> message:</strong> Note that the Gradescope autograder will deduct points if your code fails the following rubric point - 'incorrect logic is used to answer (-1)'. The public tests cannot determine if your code satisfies these requirements. Verify your code manually.</p><p><strong><pre style='display: inline;'>q17 - 4</pre> message:</strong> Note that the Gradescope autograder will deduct points if your code fails the following rubric point - '`total_summer_capacity_of` function is not used to answer (-1)'. The public tests cannot determine if your code satisfies these requirements. Verify your code manually.</p><p><strong><pre style='display: inline;'>q17 - 5</pre> message:</strong> Note that the Gradescope autograder will deduct points if your code fails the following rubric point - '`median` function is not used to answer (-1)'. The public tests cannot determine if your code satisfies these requirements. Verify your code manually.</p>"
      ],
      "text/plain": [
       "q17 results: All test cases passed!\n",
       "q17 - 2 message: Note that the Gradescope autograder will deduct points if your code fails the following rubric point - 'all power plants are looped through instead of just the unique power plants (-1)'. The public tests cannot determine if your code satisfies these requirements. Verify your code manually.\n",
       "q17 - 3 message: Note that the Gradescope autograder will deduct points if your code fails the following rubric point - 'incorrect logic is used to answer (-1)'. The public tests cannot determine if your code satisfies these requirements. Verify your code manually.\n",
       "q17 - 4 message: Note that the Gradescope autograder will deduct points if your code fails the following rubric point - '`total_summer_capacity_of` function is not used to answer (-1)'. The public tests cannot determine if your code satisfies these requirements. Verify your code manually.\n",
       "q17 - 5 message: Note that the Gradescope autograder will deduct points if your code fails the following rubric point - '`median` function is not used to answer (-1)'. The public tests cannot determine if your code satisfies these requirements. Verify your code manually."
      ]
     },
     "execution_count": 50,
     "metadata": {},
     "output_type": "execute_result"
    }
   ],
   "source": [
    "grader.check(\"q17\")"
   ]
  },
  {
   "cell_type": "markdown",
   "id": "0d3ad3d2",
   "metadata": {
    "deletable": false,
    "editable": false
   },
   "source": [
    "### Function 6: `avg_winter_capacity_of(technology)`\n",
    "\n",
    "We **require** you to complete the below function. This function must take in a `technology` and return the **average** (i.e., **mean**) `net_winter_capacity` of **all** the power generators which use that particular `technology`. If a particular `technology` has **some** generators with **missing data**, those generators **must** be **ignored** while finding the average (i.e., ignored in **both** the *numerator* and the *denominator*).\n",
    "\n",
    "This function can be **case-sensitive**. You **only** need to consider the technologies whose names **exactly match** `technology`."
   ]
  },
  {
   "cell_type": "code",
   "execution_count": 51,
   "id": "26778535",
   "metadata": {
    "execution": {
     "iopub.execute_input": "2023-10-11T03:32:08.161762Z",
     "iopub.status.busy": "2023-10-11T03:32:08.160764Z",
     "iopub.status.idle": "2023-10-11T03:32:08.166116Z",
     "shell.execute_reply": "2023-10-11T03:32:08.166116Z"
    },
    "tags": []
   },
   "outputs": [],
   "source": [
    "def avg_winter_capacity_of(technology):\n",
    "    \"\"\"\n",
    "    avg_winter_capacity_of(technology)\n",
    "    returns the average (mean) of `net_winter_capacity`\n",
    "    of all power generators which use the given\n",
    "    `technology`; generators with missing data\n",
    "    are ignored.\n",
    "    \"\"\"    \n",
    "    avg = 0\n",
    "    counter = 0\n",
    "    var = 0\n",
    "    for idx in range(len(csv_rows)):\n",
    "        if cell(idx, 'technology') == technology:\n",
    "            if type(cell(idx, 'net_winter_capacity')) == float:\n",
    "                var += cell(idx, 'net_winter_capacity')\n",
    "                counter += 1\n",
    "    if counter == 0:\n",
    "        counter = 1\n",
    "    avg = var / counter\n",
    "    return avg"
   ]
  },
  {
   "cell_type": "code",
   "execution_count": 52,
   "id": "1f3d18e8",
   "metadata": {
    "deletable": false,
    "editable": false
   },
   "outputs": [
    {
     "data": {
      "text/html": [
       "<p><strong><pre style='display: inline;'>avg_winter_capacity_of</pre></strong> passed! 🌟</p><p><strong><pre style='display: inline;'>avg_winter_capacity_of - 1</pre> message:</strong> Note that the Gradescope autograder will deduct points if your code fails the following rubric point - 'not all rows are looped through (-1)'. The public tests cannot determine if your code satisfies these requirements. Verify your code manually.</p><p><strong><pre style='display: inline;'>avg_winter_capacity_of - 2</pre> message:</strong> Note that the Gradescope autograder will deduct points if your code fails the following rubric point - 'missing data is not ignored (-1)'. The public tests cannot determine if your code satisfies these requirements. Verify your code manually.</p><p><strong><pre style='display: inline;'>avg_winter_capacity_of - 3</pre> message:</strong> Note that the Gradescope autograder will deduct points if your code fails the following rubric point - 'function logic is incorrect (-1)'. The public tests cannot determine if your code satisfies these requirements. Verify your code manually.</p><p><strong><pre style='display: inline;'>avg_winter_capacity_of - 4</pre> message:</strong> Note that the Gradescope autograder will deduct points if your code fails the following rubric point - '`cell` function is not used to read data (-1)'. The public tests cannot determine if your code satisfies these requirements. Verify your code manually.</p>"
      ],
      "text/plain": [
       "avg_winter_capacity_of results: All test cases passed!\n",
       "avg_winter_capacity_of - 1 message: Note that the Gradescope autograder will deduct points if your code fails the following rubric point - 'not all rows are looped through (-1)'. The public tests cannot determine if your code satisfies these requirements. Verify your code manually.\n",
       "avg_winter_capacity_of - 2 message: Note that the Gradescope autograder will deduct points if your code fails the following rubric point - 'missing data is not ignored (-1)'. The public tests cannot determine if your code satisfies these requirements. Verify your code manually.\n",
       "avg_winter_capacity_of - 3 message: Note that the Gradescope autograder will deduct points if your code fails the following rubric point - 'function logic is incorrect (-1)'. The public tests cannot determine if your code satisfies these requirements. Verify your code manually.\n",
       "avg_winter_capacity_of - 4 message: Note that the Gradescope autograder will deduct points if your code fails the following rubric point - '`cell` function is not used to read data (-1)'. The public tests cannot determine if your code satisfies these requirements. Verify your code manually."
      ]
     },
     "execution_count": 52,
     "metadata": {},
     "output_type": "execute_result"
    }
   ],
   "source": [
    "grader.check(\"avg_winter_capacity_of\")"
   ]
  },
  {
   "cell_type": "markdown",
   "id": "5b216183",
   "metadata": {
    "deletable": false,
    "editable": false
   },
   "source": [
    "**Question 18:** What is the **average** `net_winter_capacity` of all power generators that use the `technology` *Conventional Hydroelectric*?\n",
    "\n",
    "You **must** use the `avg_winter_capacity_of` function to answer this question."
   ]
  },
  {
   "cell_type": "code",
   "execution_count": 53,
   "id": "1327b28f",
   "metadata": {
    "execution": {
     "iopub.execute_input": "2023-10-11T03:32:08.201823Z",
     "iopub.status.busy": "2023-10-11T03:32:08.200823Z",
     "iopub.status.idle": "2023-10-11T03:32:08.206812Z",
     "shell.execute_reply": "2023-10-11T03:32:08.206812Z"
    },
    "tags": []
   },
   "outputs": [
    {
     "data": {
      "text/plain": [
       "1.7491304347826093"
      ]
     },
     "execution_count": 53,
     "metadata": {},
     "output_type": "execute_result"
    }
   ],
   "source": [
    "# compute and store the answer in the variable 'hydro_avg_winter_capacity', then display it\n",
    "hydro_avg_winter_capacity = avg_winter_capacity_of('Conventional Hydroelectric')\n",
    "hydro_avg_winter_capacity"
   ]
  },
  {
   "cell_type": "code",
   "execution_count": 54,
   "id": "c2125509",
   "metadata": {
    "deletable": false,
    "editable": false
   },
   "outputs": [
    {
     "data": {
      "text/html": [
       "<p><strong><pre style='display: inline;'>q18</pre></strong> passed! ✨</p><p><strong><pre style='display: inline;'>q18 - 2</pre> message:</strong> Note that the Gradescope autograder will deduct points if your code fails the following rubric point - '`avg_winter_capacity_of` function is not used to answer (-2)'. The public tests cannot determine if your code satisfies these requirements. Verify your code manually.</p>"
      ],
      "text/plain": [
       "q18 results: All test cases passed!\n",
       "q18 - 2 message: Note that the Gradescope autograder will deduct points if your code fails the following rubric point - '`avg_winter_capacity_of` function is not used to answer (-2)'. The public tests cannot determine if your code satisfies these requirements. Verify your code manually."
      ]
     },
     "execution_count": 54,
     "metadata": {},
     "output_type": "execute_result"
    }
   ],
   "source": [
    "grader.check(\"q18\")"
   ]
  },
  {
   "cell_type": "markdown",
   "id": "a8c3a5c4",
   "metadata": {
    "deletable": false,
    "editable": false
   },
   "source": [
    "**Question 19:** Which `technology` has the **highest** `net_winter_capacity` on **average**?\n",
    "\n",
    "You **must** use the `avg_winter_capacity_of` function to answer this question. You do **not** have to worry about any ties. There is a **unique** technology with the highest `net_winter_capacity` on average.\n",
    "\n",
    "**Hint**: You already created a list of the **unique** technologies to answer Question 1. Loop through that list and find which of those technologies has the **highest** average `net_winter_capacity` (using `avg_winter_capacity_of`)."
   ]
  },
  {
   "cell_type": "code",
   "execution_count": null,
   "id": "c8dc17d8",
   "metadata": {
    "scrolled": true
   },
   "outputs": [],
   "source": []
  },
  {
   "cell_type": "code",
   "execution_count": 55,
   "id": "cb4b3515",
   "metadata": {
    "execution": {
     "iopub.execute_input": "2023-10-11T03:32:08.223823Z",
     "iopub.status.busy": "2023-10-11T03:32:08.223823Z",
     "iopub.status.idle": "2023-10-11T03:32:08.243704Z",
     "shell.execute_reply": "2023-10-11T03:32:08.243704Z"
    },
    "tags": []
   },
   "outputs": [
    {
     "data": {
      "text/plain": [
       "'Nuclear'"
      ]
     },
     "execution_count": 55,
     "metadata": {},
     "output_type": "execute_result"
    }
   ],
   "source": [
    "# compute and store the answer in the variable 'max_winter_capacity_tech', then display it\n",
    "technologies = []\n",
    "list_with_duplicates = []\n",
    "for idx in range(num_rows):\n",
    "    list_with_duplicates.append(cell(idx, 'technology'))\n",
    "for value in list_with_duplicates:\n",
    "    if value not in technologies:\n",
    "        technologies.append(value)\n",
    "list_without_duplicates = []\n",
    "for value in technologies:\n",
    "    list_without_duplicates.append(value)\n",
    "str1 = ''\n",
    "technologies = list_without_duplicates\n",
    "max_winter_capacity_tech = 0\n",
    "highest_avg = 0\n",
    "for val in technologies:\n",
    "    if avg_winter_capacity_of(val) > highest_avg:\n",
    "        highest_avg = avg_winter_capacity_of(val)\n",
    "        str1 = val\n",
    "max_winter_capacity_tech = str1\n",
    "max_winter_capacity_tech"
   ]
  },
  {
   "cell_type": "code",
   "execution_count": 56,
   "id": "18752e8b",
   "metadata": {
    "deletable": false,
    "editable": false
   },
   "outputs": [
    {
     "data": {
      "text/html": [
       "<p><strong><pre style='display: inline;'>q19</pre></strong> passed! 🌈</p><p><strong><pre style='display: inline;'>q19 - 2</pre> message:</strong> Note that the Gradescope autograder will deduct points if your code fails the following rubric point - 'all technologies are looped through instead of just the unique technologies (-1)'. The public tests cannot determine if your code satisfies these requirements. Verify your code manually.</p><p><strong><pre style='display: inline;'>q19 - 3</pre> message:</strong> Note that the Gradescope autograder will deduct points if your code fails the following rubric point - 'list of unique technologies is recomputed (-1)'. The public tests cannot determine if your code satisfies these requirements. Verify your code manually.</p><p><strong><pre style='display: inline;'>q19 - 4</pre> message:</strong> Note that the Gradescope autograder will deduct points if your code fails the following rubric point - 'incorrect logic is used to answer (-1)'. The public tests cannot determine if your code satisfies these requirements. Verify your code manually.</p><p><strong><pre style='display: inline;'>q19 - 5</pre> message:</strong> Note that the Gradescope autograder will deduct points if your code fails the following rubric point - '`avg_winter_capacity_of` function is not used to answer (-1)'. The public tests cannot determine if your code satisfies these requirements. Verify your code manually.</p>"
      ],
      "text/plain": [
       "q19 results: All test cases passed!\n",
       "q19 - 2 message: Note that the Gradescope autograder will deduct points if your code fails the following rubric point - 'all technologies are looped through instead of just the unique technologies (-1)'. The public tests cannot determine if your code satisfies these requirements. Verify your code manually.\n",
       "q19 - 3 message: Note that the Gradescope autograder will deduct points if your code fails the following rubric point - 'list of unique technologies is recomputed (-1)'. The public tests cannot determine if your code satisfies these requirements. Verify your code manually.\n",
       "q19 - 4 message: Note that the Gradescope autograder will deduct points if your code fails the following rubric point - 'incorrect logic is used to answer (-1)'. The public tests cannot determine if your code satisfies these requirements. Verify your code manually.\n",
       "q19 - 5 message: Note that the Gradescope autograder will deduct points if your code fails the following rubric point - '`avg_winter_capacity_of` function is not used to answer (-1)'. The public tests cannot determine if your code satisfies these requirements. Verify your code manually."
      ]
     },
     "execution_count": 56,
     "metadata": {},
     "output_type": "execute_result"
    }
   ],
   "source": [
    "grader.check(\"q19\")"
   ]
  },
  {
   "cell_type": "markdown",
   "id": "d52113b6",
   "metadata": {
    "deletable": false,
    "editable": false
   },
   "source": [
    "**Question 20:** Find the **difference** between the **average** net winter capacities of the `technology` with the **highest** average and the **second highest** average.\n",
    "\n",
    "You must use the `avg_winter_capacity_of` function to answer this question.\n",
    "\n",
    "**Hint**: You have already found the `technology` with the **highest** average. You need to find the `technology` with the **second highest** average, and find the difference between their average net winter capacities using the `avg_winter_capacity_of` function.\n",
    "\n",
    "**Extra Hint**: There is also another (easier) way to solve this question. Try to find it! Reviewing Lab-P6 could help you find it."
   ]
  },
  {
   "cell_type": "code",
   "execution_count": 57,
   "id": "fda50bf0",
   "metadata": {
    "execution": {
     "iopub.execute_input": "2023-10-11T03:32:08.297371Z",
     "iopub.status.busy": "2023-10-11T03:32:08.297371Z",
     "iopub.status.idle": "2023-10-11T03:32:08.309543Z",
     "shell.execute_reply": "2023-10-11T03:32:08.309543Z"
    },
    "tags": []
   },
   "outputs": [
    {
     "data": {
      "text/plain": [
       "271.00000000000006"
      ]
     },
     "execution_count": 57,
     "metadata": {},
     "output_type": "execute_result"
    }
   ],
   "source": [
    "# compute and store the answer in the variable 'diff_avg_winter_capacity', then display it\n",
    "diff_avg_winter_capacity = 0\n",
    "technologies = []\n",
    "list_with_duplicates = []\n",
    "second_avg = 0\n",
    "for idx in range(num_rows):\n",
    "    list_with_duplicates.append(cell(idx, 'technology'))\n",
    "for value in list_with_duplicates:\n",
    "    if value not in technologies:\n",
    "        technologies.append(value)\n",
    "list_without_duplicates = []\n",
    "for value in technologies:\n",
    "    list_without_duplicates.append(value)\n",
    "str1 = ''\n",
    "technologies = list_without_duplicates\n",
    "max_winter_capacity_tech = 0\n",
    "highest_avg = 0\n",
    "for val in technologies:\n",
    "    if val == 'Nuclear':\n",
    "        highest_avg = avg_winter_capacity_of('Nuclear')\n",
    "    elif avg_winter_capacity_of(val) > second_avg:\n",
    "        second_avg = avg_winter_capacity_of(val)\n",
    "diff_avg_winter_capacity = highest_avg - second_avg\n",
    "diff_avg_winter_capacity"
   ]
  },
  {
   "cell_type": "code",
   "execution_count": 58,
   "id": "2fe35f4c",
   "metadata": {
    "deletable": false,
    "editable": false
   },
   "outputs": [
    {
     "data": {
      "text/html": [
       "<p><strong><pre style='display: inline;'>q20</pre></strong> passed! 🍀</p><p><strong><pre style='display: inline;'>q20 - 2</pre> message:</strong> Note that the Gradescope autograder will deduct points if your code fails the following rubric point - 'all technologies are looped through instead of just the unique technologies (-1)'. The public tests cannot determine if your code satisfies these requirements. Verify your code manually.</p><p><strong><pre style='display: inline;'>q20 - 3</pre> message:</strong> Note that the Gradescope autograder will deduct points if your code fails the following rubric point - 'incorrect logic is used to answer (-1)'. The public tests cannot determine if your code satisfies these requirements. Verify your code manually.</p><p><strong><pre style='display: inline;'>q20 - 4</pre> message:</strong> Note that the Gradescope autograder will deduct points if your code fails the following rubric point - '`avg_winter_capacity_of` function is not used to answer (-1)'. The public tests cannot determine if your code satisfies these requirements. Verify your code manually.</p>"
      ],
      "text/plain": [
       "q20 results: All test cases passed!\n",
       "q20 - 2 message: Note that the Gradescope autograder will deduct points if your code fails the following rubric point - 'all technologies are looped through instead of just the unique technologies (-1)'. The public tests cannot determine if your code satisfies these requirements. Verify your code manually.\n",
       "q20 - 3 message: Note that the Gradescope autograder will deduct points if your code fails the following rubric point - 'incorrect logic is used to answer (-1)'. The public tests cannot determine if your code satisfies these requirements. Verify your code manually.\n",
       "q20 - 4 message: Note that the Gradescope autograder will deduct points if your code fails the following rubric point - '`avg_winter_capacity_of` function is not used to answer (-1)'. The public tests cannot determine if your code satisfies these requirements. Verify your code manually."
      ]
     },
     "execution_count": 58,
     "metadata": {},
     "output_type": "execute_result"
    }
   ],
   "source": [
    "grader.check(\"q20\")"
   ]
  },
  {
   "cell_type": "code",
   "execution_count": 59,
   "id": "2f024df6",
   "metadata": {
    "deletable": false,
    "editable": false
   },
   "outputs": [
    {
     "data": {
      "text/html": [
       "<p><strong><pre style='display: inline;'>general_deductions</pre></strong> passed! 🚀</p><p><strong><pre style='display: inline;'>general_deductions - 1</pre> message:</strong> Note that the Gradescope autograder will deduct points if your code fails the following rubric point - 'Did not save the notebook file prior to running the cell containing \"export\". We cannot see your output if you do not save before generating the zip file. This deduction will become stricter for future projects. (-3)'. The public tests cannot determine if your code satisfies these requirements. Verify your code manually.</p><p><strong><pre style='display: inline;'>general_deductions - 2</pre> message:</strong> Note that the Gradescope autograder will deduct points if your code fails the following rubric point - 'Used concepts/modules such as dictionaries, or pandas not covered in class yet - built-in functions that you have been introduced to can be used. (-3)'. The public tests cannot determine if your code satisfies these requirements. Verify your code manually.</p><p><strong><pre style='display: inline;'>general_deductions - 3</pre> message:</strong> Note that the Gradescope autograder will deduct points if your code fails the following rubric point - 'Import statements are not all placed at the top of the notebook. (-1)'. The public tests cannot determine if your code satisfies these requirements. Verify your code manually.</p>"
      ],
      "text/plain": [
       "general_deductions results: All test cases passed!\n",
       "general_deductions - 1 message: Note that the Gradescope autograder will deduct points if your code fails the following rubric point - 'Did not save the notebook file prior to running the cell containing \"export\". We cannot see your output if you do not save before generating the zip file. This deduction will become stricter for future projects. (-3)'. The public tests cannot determine if your code satisfies these requirements. Verify your code manually.\n",
       "general_deductions - 2 message: Note that the Gradescope autograder will deduct points if your code fails the following rubric point - 'Used concepts/modules such as dictionaries, or pandas not covered in class yet - built-in functions that you have been introduced to can be used. (-3)'. The public tests cannot determine if your code satisfies these requirements. Verify your code manually.\n",
       "general_deductions - 3 message: Note that the Gradescope autograder will deduct points if your code fails the following rubric point - 'Import statements are not all placed at the top of the notebook. (-1)'. The public tests cannot determine if your code satisfies these requirements. Verify your code manually."
      ]
     },
     "execution_count": 59,
     "metadata": {},
     "output_type": "execute_result"
    }
   ],
   "source": [
    "grader.check(\"general_deductions\")"
   ]
  },
  {
   "cell_type": "code",
   "execution_count": 60,
   "id": "1890becd",
   "metadata": {
    "deletable": false,
    "editable": false
   },
   "outputs": [
    {
     "data": {
      "text/html": [
       "<p><strong><pre style='display: inline;'>summary</pre></strong> passed! ✨</p>"
      ],
      "text/plain": [
       "summary results: All test cases passed!"
      ]
     },
     "execution_count": 60,
     "metadata": {},
     "output_type": "execute_result"
    }
   ],
   "source": [
    "grader.check(\"summary\")"
   ]
  },
  {
   "cell_type": "markdown",
   "id": "ea6be86e",
   "metadata": {
    "deletable": false,
    "editable": false
   },
   "source": [
    "## Submission\n",
    "It is recommended that at this stage, you Restart and Run all Cells in your notebook.\n",
    "That will automatically save your work and generate a zip file for you to submit.\n",
    "\n",
    "**SUBMISSION INSTRUCTIONS**:\n",
    "1. **Upload** the zipfile to Gradescope.\n",
    "2. If you completed the project with a **partner**, make sure to **add their name** by clicking \"Add Group Member\"\n",
    "in Gradescope when uploading the zip file.\n",
    "3. Check **Gradescope** results as soon as the auto-grader execution gets completed.\n",
    "4. Your **final score** for this project is the score that you see on **Gradescope**.\n",
    "5. You are **allowed** to resubmit on Gradescope as many times as you want to.\n",
    "6. **Contact** a TA/PM if you lose any points on Gradescope for any **unclear reasons**."
   ]
  },
  {
   "cell_type": "code",
   "execution_count": null,
   "id": "6946ae2e",
   "metadata": {
    "cell_type": "code",
    "deletable": false,
    "editable": false
   },
   "outputs": [],
   "source": [
    "# running this cell will create a new save checkpoint for your notebook\n",
    "from IPython.display import display, Javascript\n",
    "display(Javascript('IPython.notebook.save_checkpoint();'))"
   ]
  },
  {
   "cell_type": "code",
   "execution_count": null,
   "id": "ed901788",
   "metadata": {
    "cell_type": "code",
    "deletable": false,
    "editable": false
   },
   "outputs": [],
   "source": [
    "!jupytext --to py p6.ipynb"
   ]
  },
  {
   "cell_type": "code",
   "execution_count": null,
   "id": "baa2367b",
   "metadata": {
    "cell_type": "code",
    "deletable": false,
    "editable": false
   },
   "outputs": [],
   "source": [
    "public_tests.check_file_size(\"p6.ipynb\")\n",
    "grader.export(pdf=False, run_tests=False, files=[\"p6.py\"])"
   ]
  },
  {
   "cell_type": "markdown",
   "id": "11b99768",
   "metadata": {
    "deletable": false,
    "editable": false
   },
   "source": [
    " "
   ]
  }
 ],
 "metadata": {
  "kernelspec": {
   "display_name": "Python 3 (ipykernel)",
   "language": "python",
   "name": "python3"
  },
  "language_info": {
   "codemirror_mode": {
    "name": "ipython",
    "version": 3
   },
   "file_extension": ".py",
   "mimetype": "text/x-python",
   "name": "python",
   "nbconvert_exporter": "python",
   "pygments_lexer": "ipython3",
   "version": "3.11.4"
  },
  "otter": {
   "OK_FORMAT": true,
   "tests": {
    "avg_winter_capacity_of": {
     "name": "avg_winter_capacity_of",
     "points": 0,
     "suites": [
      {
       "cases": [
        {
         "code": ">>> \n>>> public_tests.rubric_check('avg_winter_capacity_of: not all rows are looped through')\nAll test cases passed!\n",
         "hidden": false,
         "locked": false,
         "success_message": "Note that the Gradescope autograder will deduct points if your code fails the following rubric point - 'not all rows are looped through (-1)'. The public tests cannot determine if your code satisfies these requirements. Verify your code manually."
        },
        {
         "code": ">>> \n>>> public_tests.rubric_check('avg_winter_capacity_of: missing data is not ignored')\nAll test cases passed!\n",
         "hidden": false,
         "locked": false,
         "success_message": "Note that the Gradescope autograder will deduct points if your code fails the following rubric point - 'missing data is not ignored (-1)'. The public tests cannot determine if your code satisfies these requirements. Verify your code manually."
        },
        {
         "code": ">>> \n>>> public_tests.rubric_check('avg_winter_capacity_of: function logic is incorrect')\nAll test cases passed!\n",
         "hidden": false,
         "locked": false,
         "success_message": "Note that the Gradescope autograder will deduct points if your code fails the following rubric point - 'function logic is incorrect (-1)'. The public tests cannot determine if your code satisfies these requirements. Verify your code manually."
        },
        {
         "code": ">>> \n>>> public_tests.rubric_check('avg_winter_capacity_of: `cell` function is not used to read data', False)\nAll test cases passed!\n",
         "hidden": false,
         "locked": false,
         "success_message": "Note that the Gradescope autograder will deduct points if your code fails the following rubric point - '`cell` function is not used to read data (-1)'. The public tests cannot determine if your code satisfies these requirements. Verify your code manually."
        }
       ],
       "scored": true,
       "setup": "",
       "teardown": "",
       "type": "doctest"
      }
     ]
    },
    "cell": {
     "name": "cell",
     "points": 0,
     "suites": [
      {
       "cases": [
        {
         "code": ">>> \n>>> public_tests.rubric_check('cell: variables `csv_data`, `csv_header`, and `csv_rows` are not defined as expected')\nAll test cases passed!\n",
         "hidden": false,
         "locked": false,
         "success_message": "Note that the Gradescope autograder will deduct points if your code fails the following rubric point - 'variables `csv_data`, `csv_header`, and `csv_rows` are not defined as expected (-1)'. The public tests cannot determine if your code satisfies these requirements. Verify your code manually."
        },
        {
         "code": ">>> \n>>> public_tests.rubric_check('cell: function does not return `None` when data is missing')\nAll test cases passed!\n",
         "hidden": false,
         "locked": false,
         "success_message": "Note that the Gradescope autograder will deduct points if your code fails the following rubric point - 'function does not return `None` when data is missing (-1)'. The public tests cannot determine if your code satisfies these requirements. Verify your code manually."
        },
        {
         "code": ">>> \n>>> public_tests.rubric_check('cell: function does not typecast to `int` or `float` when expected')\nAll test cases passed!\n",
         "hidden": false,
         "locked": false,
         "success_message": "Note that the Gradescope autograder will deduct points if your code fails the following rubric point - 'function does not typecast to `int` or `float` when expected (-1)'. The public tests cannot determine if your code satisfies these requirements. Verify your code manually."
        },
        {
         "code": ">>> \n>>> public_tests.rubric_check('cell: function logic is incorrect', False)\nAll test cases passed!\n",
         "hidden": false,
         "locked": false,
         "success_message": "Note that the Gradescope autograder will deduct points if your code fails the following rubric point - 'function logic is incorrect (-1)'. The public tests cannot determine if your code satisfies these requirements. Verify your code manually."
        },
        {
         "code": ">>> \n>>> public_tests.rubric_check('cell: `process_csv` function is not used to read `power_generators.csv`')\nAll test cases passed!\n",
         "hidden": false,
         "locked": false,
         "success_message": "Note that the Gradescope autograder will deduct points if your code fails the following rubric point - '`process_csv` function is not used to read `power_generators.csv` (-1)'. The public tests cannot determine if your code satisfies these requirements. Verify your code manually."
        }
       ],
       "scored": true,
       "setup": "",
       "teardown": "",
       "type": "doctest"
      }
     ]
    },
    "find_entities_with_phrase": {
     "name": "find_entities_with_phrase",
     "points": 0,
     "suites": [
      {
       "cases": [
        {
         "code": ">>> \n>>> public_tests.rubric_check('find_entities_with_phrase: not all rows are looped through')\nAll test cases passed!\n",
         "hidden": false,
         "locked": false,
         "success_message": "Note that the Gradescope autograder will deduct points if your code fails the following rubric point - 'not all rows are looped through (-1)'. The public tests cannot determine if your code satisfies these requirements. Verify your code manually."
        },
        {
         "code": ">>> \n>>> public_tests.rubric_check('find_entities_with_phrase: case insensitive matches are not considered')\nAll test cases passed!\n",
         "hidden": false,
         "locked": false,
         "success_message": "Note that the Gradescope autograder will deduct points if your code fails the following rubric point - 'case insensitive matches are not considered (-1)'. The public tests cannot determine if your code satisfies these requirements. Verify your code manually."
        },
        {
         "code": ">>> \n>>> public_tests.rubric_check('find_entities_with_phrase: duplicates are not removed')\nAll test cases passed!\n",
         "hidden": false,
         "locked": false,
         "success_message": "Note that the Gradescope autograder will deduct points if your code fails the following rubric point - 'duplicates are not removed (-1)'. The public tests cannot determine if your code satisfies these requirements. Verify your code manually."
        },
        {
         "code": ">>> \n>>> public_tests.rubric_check('find_entities_with_phrase: `cell` function is not used to read data', False)\nAll test cases passed!\n",
         "hidden": false,
         "locked": false,
         "success_message": "Note that the Gradescope autograder will deduct points if your code fails the following rubric point - '`cell` function is not used to read data (-1)'. The public tests cannot determine if your code satisfies these requirements. Verify your code manually."
        }
       ],
       "scored": true,
       "setup": "",
       "teardown": "",
       "type": "doctest"
      }
     ]
    },
    "find_indices_within": {
     "name": "find_indices_within",
     "points": 0,
     "suites": [
      {
       "cases": [
        {
         "code": ">>> \n>>> public_tests.rubric_check('find_indices_within: not all rows are looped through')\nAll test cases passed!\n",
         "hidden": false,
         "locked": false,
         "success_message": "Note that the Gradescope autograder will deduct points if your code fails the following rubric point - 'not all rows are looped through (-1)'. The public tests cannot determine if your code satisfies these requirements. Verify your code manually."
        },
        {
         "code": ">>> \n>>> public_tests.rubric_check('find_indices_within: incorrect comparison operators are used')\nAll test cases passed!\n",
         "hidden": false,
         "locked": false,
         "success_message": "Note that the Gradescope autograder will deduct points if your code fails the following rubric point - 'incorrect comparison operators are used (-1)'. The public tests cannot determine if your code satisfies these requirements. Verify your code manually."
        },
        {
         "code": ">>> \n>>> public_tests.rubric_check('find_indices_within: function logic is incorrect')\nAll test cases passed!\n",
         "hidden": false,
         "locked": false,
         "success_message": "Note that the Gradescope autograder will deduct points if your code fails the following rubric point - 'function logic is incorrect (-1)'. The public tests cannot determine if your code satisfies these requirements. Verify your code manually."
        },
        {
         "code": ">>> \n>>> public_tests.rubric_check('find_indices_within: `cell` function is not used to read data', False)\nAll test cases passed!\n",
         "hidden": false,
         "locked": false,
         "success_message": "Note that the Gradescope autograder will deduct points if your code fails the following rubric point - '`cell` function is not used to read data (-1)'. The public tests cannot determine if your code satisfies these requirements. Verify your code manually."
        }
       ],
       "scored": true,
       "setup": "",
       "teardown": "",
       "type": "doctest"
      }
     ]
    },
    "general_deductions": {
     "name": "general_deductions",
     "points": 0,
     "suites": [
      {
       "cases": [
        {
         "code": ">>> \n>>> public_tests.rubric_check('general_deductions: Did not save the notebook file prior to running the cell containing \"export\". We cannot see your output if you do not save before generating the zip file. This deduction will become stricter for future projects.')\nAll test cases passed!\n",
         "hidden": false,
         "locked": false,
         "success_message": "Note that the Gradescope autograder will deduct points if your code fails the following rubric point - 'Did not save the notebook file prior to running the cell containing \"export\". We cannot see your output if you do not save before generating the zip file. This deduction will become stricter for future projects. (-3)'. The public tests cannot determine if your code satisfies these requirements. Verify your code manually."
        },
        {
         "code": ">>> \n>>> public_tests.rubric_check('general_deductions: Used concepts/modules such as dictionaries, or pandas not covered in class yet - built-in functions that you have been introduced to can be used.')\nAll test cases passed!\n",
         "hidden": false,
         "locked": false,
         "success_message": "Note that the Gradescope autograder will deduct points if your code fails the following rubric point - 'Used concepts/modules such as dictionaries, or pandas not covered in class yet - built-in functions that you have been introduced to can be used. (-3)'. The public tests cannot determine if your code satisfies these requirements. Verify your code manually."
        },
        {
         "code": ">>> \n>>> public_tests.rubric_check('general_deductions: Import statements are not all placed at the top of the notebook.')\nAll test cases passed!\n",
         "hidden": false,
         "locked": false,
         "success_message": "Note that the Gradescope autograder will deduct points if your code fails the following rubric point - 'Import statements are not all placed at the top of the notebook. (-1)'. The public tests cannot determine if your code satisfies these requirements. Verify your code manually."
        }
       ],
       "scored": true,
       "setup": "",
       "teardown": "",
       "type": "doctest"
      }
     ]
    },
    "median": {
     "name": "median",
     "points": 0,
     "suites": [
      {
       "cases": [
        {
         "code": ">>> \n>>> public_tests.rubric_check('median: function modifies the original input list')\nAll test cases passed!\n",
         "hidden": false,
         "locked": false,
         "success_message": "Note that the Gradescope autograder will deduct points if your code fails the following rubric point - 'function modifies the original input list (-1)'. The public tests cannot determine if your code satisfies these requirements. Verify your code manually."
        },
        {
         "code": ">>> \n>>> public_tests.rubric_check('median: function logic is incorrect when inputs are of odd length')\nAll test cases passed!\n",
         "hidden": false,
         "locked": false,
         "success_message": "Note that the Gradescope autograder will deduct points if your code fails the following rubric point - 'function logic is incorrect when inputs are of odd length (-1)'. The public tests cannot determine if your code satisfies these requirements. Verify your code manually."
        },
        {
         "code": ">>> \n>>> public_tests.rubric_check('median: function logic is incorrect when inputs are of even length')\nAll test cases passed!\n",
         "hidden": false,
         "locked": false,
         "success_message": "Note that the Gradescope autograder will deduct points if your code fails the following rubric point - 'function logic is incorrect when inputs are of even length (-1)'. The public tests cannot determine if your code satisfies these requirements. Verify your code manually."
        }
       ],
       "scored": true,
       "setup": "",
       "teardown": "",
       "type": "doctest"
      }
     ]
    },
    "num_generators_by": {
     "name": "num_generators_by",
     "points": 0,
     "suites": [
      {
       "cases": [
        {
         "code": ">>> \n>>> public_tests.rubric_check('num_generators_by: not all rows are looped through')\nAll test cases passed!\n",
         "hidden": false,
         "locked": false,
         "success_message": "Note that the Gradescope autograder will deduct points if your code fails the following rubric point - 'not all rows are looped through (-1)'. The public tests cannot determine if your code satisfies these requirements. Verify your code manually."
        },
        {
         "code": ">>> \n>>> public_tests.rubric_check('num_generators_by: function logic is incorrect')\nAll test cases passed!\n",
         "hidden": false,
         "locked": false,
         "success_message": "Note that the Gradescope autograder will deduct points if your code fails the following rubric point - 'function logic is incorrect (-1)'. The public tests cannot determine if your code satisfies these requirements. Verify your code manually."
        },
        {
         "code": ">>> \n>>> public_tests.rubric_check('num_generators_by: `cell` function is not used to read data', False)\nAll test cases passed!\n",
         "hidden": false,
         "locked": false,
         "success_message": "Note that the Gradescope autograder will deduct points if your code fails the following rubric point - '`cell` function is not used to read data (-1)'. The public tests cannot determine if your code satisfies these requirements. Verify your code manually."
        }
       ],
       "scored": true,
       "setup": "",
       "teardown": "",
       "type": "doctest"
      }
     ]
    },
    "q1": {
     "name": "q1",
     "points": 0,
     "suites": [
      {
       "cases": [
        {
         "code": ">>> public_tests.check('q1', technologies)\nAll test cases passed!\n",
         "hidden": false,
         "locked": false
        },
        {
         "code": ">>> \n>>> public_tests.rubric_check('q1: not all rows are looped through')\nAll test cases passed!\n",
         "hidden": false,
         "locked": false,
         "success_message": "Note that the Gradescope autograder will deduct points if your code fails the following rubric point - 'not all rows are looped through (-1)'. The public tests cannot determine if your code satisfies these requirements. Verify your code manually."
        },
        {
         "code": ">>> \n>>> public_tests.rubric_check('q1: incorrect logic is used')\nAll test cases passed!\n",
         "hidden": false,
         "locked": false,
         "success_message": "Note that the Gradescope autograder will deduct points if your code fails the following rubric point - 'incorrect logic is used (-1)'. The public tests cannot determine if your code satisfies these requirements. Verify your code manually."
        },
        {
         "code": ">>> \n>>> public_tests.rubric_check('q1: `cell` function is not used to read data', False)\nAll test cases passed!\n",
         "hidden": false,
         "locked": false,
         "success_message": "Note that the Gradescope autograder will deduct points if your code fails the following rubric point - '`cell` function is not used to read data (-1)'. The public tests cannot determine if your code satisfies these requirements. Verify your code manually."
        },
        {
         "code": ">>> public_tests.rubric_check('q1: public tests')\nAll test cases passed!\n",
         "hidden": false,
         "locked": false
        }
       ],
       "scored": true,
       "setup": "",
       "teardown": "",
       "type": "doctest"
      }
     ]
    },
    "q10": {
     "name": "q10",
     "points": 0,
     "suites": [
      {
       "cases": [
        {
         "code": ">>> public_tests.check('q10', num_generators_by_river)\nAll test cases passed!\n",
         "hidden": false,
         "locked": false
        },
        {
         "code": ">>> \n>>> public_tests.rubric_check('q10: incorrect logic is used to answer')\nAll test cases passed!\n",
         "hidden": false,
         "locked": false,
         "success_message": "Note that the Gradescope autograder will deduct points if your code fails the following rubric point - 'incorrect logic is used to answer (-1)'. The public tests cannot determine if your code satisfies these requirements. Verify your code manually."
        },
        {
         "code": ">>> \n>>> public_tests.rubric_check('q10: `num_generators_by` function is not used to answer', False)\nAll test cases passed!\n",
         "hidden": false,
         "locked": false,
         "success_message": "Note that the Gradescope autograder will deduct points if your code fails the following rubric point - '`num_generators_by` function is not used to answer (-1)'. The public tests cannot determine if your code satisfies these requirements. Verify your code manually."
        },
        {
         "code": ">>> \n>>> public_tests.rubric_check('q10: `find_entities_with_phrase` function is not used to answer', False)\nAll test cases passed!\n",
         "hidden": false,
         "locked": false,
         "success_message": "Note that the Gradescope autograder will deduct points if your code fails the following rubric point - '`find_entities_with_phrase` function is not used to answer (-1)'. The public tests cannot determine if your code satisfies these requirements. Verify your code manually."
        }
       ],
       "scored": true,
       "setup": "",
       "teardown": "",
       "type": "doctest"
      }
     ]
    },
    "q11": {
     "name": "q11",
     "points": 0,
     "suites": [
      {
       "cases": [
        {
         "code": ">>> public_tests.check('q11', most_generators_entity)\nAll test cases passed!\n",
         "hidden": false,
         "locked": false
        },
        {
         "code": ">>> \n>>> public_tests.rubric_check('q11: all entities are looped through instead of just the unique entities')\nAll test cases passed!\n",
         "hidden": false,
         "locked": false,
         "success_message": "Note that the Gradescope autograder will deduct points if your code fails the following rubric point - 'all entities are looped through instead of just the unique entities (-2)'. The public tests cannot determine if your code satisfies these requirements. Verify your code manually."
        },
        {
         "code": ">>> \n>>> public_tests.rubric_check('q11: incorrect logic is used to answer')\nAll test cases passed!\n",
         "hidden": false,
         "locked": false,
         "success_message": "Note that the Gradescope autograder will deduct points if your code fails the following rubric point - 'incorrect logic is used to answer (-1)'. The public tests cannot determine if your code satisfies these requirements. Verify your code manually."
        },
        {
         "code": ">>> \n>>> public_tests.rubric_check('q11: `num_generators_by` function is not used to answer', False)\nAll test cases passed!\n",
         "hidden": false,
         "locked": false,
         "success_message": "Note that the Gradescope autograder will deduct points if your code fails the following rubric point - '`num_generators_by` function is not used to answer (-1)'. The public tests cannot determine if your code satisfies these requirements. Verify your code manually."
        },
        {
         "code": ">>> public_tests.rubric_check('q11: public tests')\nAll test cases passed!\n",
         "hidden": false,
         "locked": false
        }
       ],
       "scored": true,
       "setup": "",
       "teardown": "",
       "type": "doctest"
      }
     ]
    },
    "q12": {
     "name": "q12",
     "points": 0,
     "suites": [
      {
       "cases": [
        {
         "code": ">>> public_tests.check('q12', num_generators_in_milwaukee)\nAll test cases passed!\n",
         "hidden": false,
         "locked": false
        },
        {
         "code": ">>> \n>>> public_tests.rubric_check('q12: length of the list is found by looping through it')\nAll test cases passed!\n",
         "hidden": false,
         "locked": false,
         "success_message": "Note that the Gradescope autograder will deduct points if your code fails the following rubric point - 'length of the list is found by looping through it (-1)'. The public tests cannot determine if your code satisfies these requirements. Verify your code manually."
        },
        {
         "code": ">>> \n>>> public_tests.rubric_check('q12: `find_indices_within` function is not used to answer', False)\nAll test cases passed!\n",
         "hidden": false,
         "locked": false,
         "success_message": "Note that the Gradescope autograder will deduct points if your code fails the following rubric point - '`find_indices_within` function is not used to answer (-2)'. The public tests cannot determine if your code satisfies these requirements. Verify your code manually."
        }
       ],
       "scored": true,
       "setup": "",
       "teardown": "",
       "type": "doctest"
      }
     ]
    },
    "q13": {
     "name": "q13",
     "points": 0,
     "suites": [
      {
       "cases": [
        {
         "code": ">>> public_tests.check('q13', uw_madison_technologies)\nAll test cases passed!\n",
         "hidden": false,
         "locked": false
        },
        {
         "code": ">>> \n>>> public_tests.rubric_check('q13: duplicates are not removed from the list')\nAll test cases passed!\n",
         "hidden": false,
         "locked": false,
         "success_message": "Note that the Gradescope autograder will deduct points if your code fails the following rubric point - 'duplicates are not removed from the list (-1)'. The public tests cannot determine if your code satisfies these requirements. Verify your code manually."
        },
        {
         "code": ">>> \n>>> public_tests.rubric_check('q13: incorrect logic is used to answer')\nAll test cases passed!\n",
         "hidden": false,
         "locked": false,
         "success_message": "Note that the Gradescope autograder will deduct points if your code fails the following rubric point - 'incorrect logic is used to answer (-1)'. The public tests cannot determine if your code satisfies these requirements. Verify your code manually."
        },
        {
         "code": ">>> \n>>> public_tests.rubric_check('q13: `find_indices_within` function is not used to answer', False)\nAll test cases passed!\n",
         "hidden": false,
         "locked": false,
         "success_message": "Note that the Gradescope autograder will deduct points if your code fails the following rubric point - '`find_indices_within` function is not used to answer (-1)'. The public tests cannot determine if your code satisfies these requirements. Verify your code manually."
        }
       ],
       "scored": true,
       "setup": "",
       "teardown": "",
       "type": "doctest"
      }
     ]
    },
    "q14": {
     "name": "q14",
     "points": 0,
     "suites": [
      {
       "cases": [
        {
         "code": ">>> public_tests.check('q14', north_wisconsin_most_powerful)\nAll test cases passed!\n",
         "hidden": false,
         "locked": false
        },
        {
         "code": ">>> \n>>> public_tests.rubric_check('q14: incorrect logic is used to answer')\nAll test cases passed!\n",
         "hidden": false,
         "locked": false,
         "success_message": "Note that the Gradescope autograder will deduct points if your code fails the following rubric point - 'incorrect logic is used to answer (-2)'. The public tests cannot determine if your code satisfies these requirements. Verify your code manually."
        },
        {
         "code": ">>> \n>>> public_tests.rubric_check('q14: `find_indices_within` function is not used to answer', False)\nAll test cases passed!\n",
         "hidden": false,
         "locked": false,
         "success_message": "Note that the Gradescope autograder will deduct points if your code fails the following rubric point - '`find_indices_within` function is not used to answer (-1)'. The public tests cannot determine if your code satisfies these requirements. Verify your code manually."
        },
        {
         "code": ">>> \n>>> public_tests.rubric_check('q14: `cell` function is not used to read data', False)\nAll test cases passed!\n",
         "hidden": false,
         "locked": false,
         "success_message": "Note that the Gradescope autograder will deduct points if your code fails the following rubric point - '`cell` function is not used to read data (-1)'. The public tests cannot determine if your code satisfies these requirements. Verify your code manually."
        },
        {
         "code": ">>> public_tests.rubric_check('q14: public tests')\nAll test cases passed!\n",
         "hidden": false,
         "locked": false
        }
       ],
       "scored": true,
       "setup": "",
       "teardown": "",
       "type": "doctest"
      }
     ]
    },
    "q15": {
     "name": "q15",
     "points": 0,
     "suites": [
      {
       "cases": [
        {
         "code": ">>> public_tests.check('q15', winnebago_hydro_winter_capacity)\nAll test cases passed!\n",
         "hidden": false,
         "locked": false
        },
        {
         "code": ">>> \n>>> public_tests.rubric_check('q15: incorrect logic is used to answer')\nAll test cases passed!\n",
         "hidden": false,
         "locked": false,
         "success_message": "Note that the Gradescope autograder will deduct points if your code fails the following rubric point - 'incorrect logic is used to answer (-1)'. The public tests cannot determine if your code satisfies these requirements. Verify your code manually."
        },
        {
         "code": ">>> \n>>> public_tests.rubric_check('q15: `find_indices_within` function is not used to answer', False)\nAll test cases passed!\n",
         "hidden": false,
         "locked": false,
         "success_message": "Note that the Gradescope autograder will deduct points if your code fails the following rubric point - '`find_indices_within` function is not used to answer (-1)'. The public tests cannot determine if your code satisfies these requirements. Verify your code manually."
        },
        {
         "code": ">>> \n>>> public_tests.rubric_check('q15: `median` function is not used to answer', False)\nAll test cases passed!\n",
         "hidden": false,
         "locked": false,
         "success_message": "Note that the Gradescope autograder will deduct points if your code fails the following rubric point - '`median` function is not used to answer (-1)'. The public tests cannot determine if your code satisfies these requirements. Verify your code manually."
        },
        {
         "code": ">>> \n>>> public_tests.rubric_check('q15: `cell` function is not used to read data', False)\nAll test cases passed!\n",
         "hidden": false,
         "locked": false,
         "success_message": "Note that the Gradescope autograder will deduct points if your code fails the following rubric point - '`cell` function is not used to read data (-1)'. The public tests cannot determine if your code satisfies these requirements. Verify your code manually."
        }
       ],
       "scored": true,
       "setup": "",
       "teardown": "",
       "type": "doctest"
      }
     ]
    },
    "q16": {
     "name": "q16",
     "points": 0,
     "suites": [
      {
       "cases": [
        {
         "code": ">>> public_tests.check('q16', point_beach_summer_capacity)\nAll test cases passed!\n",
         "hidden": false,
         "locked": false
        },
        {
         "code": ">>> \n>>> public_tests.rubric_check('q16: `total_summer_capacity_of` function is not used to answer')\nAll test cases passed!\n",
         "hidden": false,
         "locked": false,
         "success_message": "Note that the Gradescope autograder will deduct points if your code fails the following rubric point - '`total_summer_capacity_of` function is not used to answer (-2)'. The public tests cannot determine if your code satisfies these requirements. Verify your code manually."
        }
       ],
       "scored": true,
       "setup": "",
       "teardown": "",
       "type": "doctest"
      }
     ]
    },
    "q17": {
     "name": "q17",
     "points": 0,
     "suites": [
      {
       "cases": [
        {
         "code": ">>> public_tests.check('q17', median_summer_capacity)\nAll test cases passed!\n",
         "hidden": false,
         "locked": false
        },
        {
         "code": ">>> \n>>> public_tests.rubric_check('q17: all power plants are looped through instead of just the unique power plants')\nAll test cases passed!\n",
         "hidden": false,
         "locked": false,
         "success_message": "Note that the Gradescope autograder will deduct points if your code fails the following rubric point - 'all power plants are looped through instead of just the unique power plants (-1)'. The public tests cannot determine if your code satisfies these requirements. Verify your code manually."
        },
        {
         "code": ">>> \n>>> public_tests.rubric_check('q17: incorrect logic is used to answer')\nAll test cases passed!\n",
         "hidden": false,
         "locked": false,
         "success_message": "Note that the Gradescope autograder will deduct points if your code fails the following rubric point - 'incorrect logic is used to answer (-1)'. The public tests cannot determine if your code satisfies these requirements. Verify your code manually."
        },
        {
         "code": ">>> \n>>> public_tests.rubric_check('q17: `total_summer_capacity_of` function is not used to answer', False)\nAll test cases passed!\n",
         "hidden": false,
         "locked": false,
         "success_message": "Note that the Gradescope autograder will deduct points if your code fails the following rubric point - '`total_summer_capacity_of` function is not used to answer (-1)'. The public tests cannot determine if your code satisfies these requirements. Verify your code manually."
        },
        {
         "code": ">>> \n>>> public_tests.rubric_check('q17: `median` function is not used to answer', False)\nAll test cases passed!\n",
         "hidden": false,
         "locked": false,
         "success_message": "Note that the Gradescope autograder will deduct points if your code fails the following rubric point - '`median` function is not used to answer (-1)'. The public tests cannot determine if your code satisfies these requirements. Verify your code manually."
        },
        {
         "code": ">>> public_tests.rubric_check('q17: public tests')\nAll test cases passed!\n",
         "hidden": false,
         "locked": false
        }
       ],
       "scored": true,
       "setup": "",
       "teardown": "",
       "type": "doctest"
      }
     ]
    },
    "q18": {
     "name": "q18",
     "points": 0,
     "suites": [
      {
       "cases": [
        {
         "code": ">>> public_tests.check('q18', hydro_avg_winter_capacity)\nAll test cases passed!\n",
         "hidden": false,
         "locked": false
        },
        {
         "code": ">>> \n>>> public_tests.rubric_check('q18: `avg_winter_capacity_of` function is not used to answer')\nAll test cases passed!\n",
         "hidden": false,
         "locked": false,
         "success_message": "Note that the Gradescope autograder will deduct points if your code fails the following rubric point - '`avg_winter_capacity_of` function is not used to answer (-2)'. The public tests cannot determine if your code satisfies these requirements. Verify your code manually."
        }
       ],
       "scored": true,
       "setup": "",
       "teardown": "",
       "type": "doctest"
      }
     ]
    },
    "q19": {
     "name": "q19",
     "points": 0,
     "suites": [
      {
       "cases": [
        {
         "code": ">>> public_tests.check('q19', max_winter_capacity_tech)\nAll test cases passed!\n",
         "hidden": false,
         "locked": false
        },
        {
         "code": ">>> \n>>> public_tests.rubric_check('q19: all technologies are looped through instead of just the unique technologies')\nAll test cases passed!\n",
         "hidden": false,
         "locked": false,
         "success_message": "Note that the Gradescope autograder will deduct points if your code fails the following rubric point - 'all technologies are looped through instead of just the unique technologies (-1)'. The public tests cannot determine if your code satisfies these requirements. Verify your code manually."
        },
        {
         "code": ">>> \n>>> public_tests.rubric_check('q19: list of unique technologies is recomputed')\nAll test cases passed!\n",
         "hidden": false,
         "locked": false,
         "success_message": "Note that the Gradescope autograder will deduct points if your code fails the following rubric point - 'list of unique technologies is recomputed (-1)'. The public tests cannot determine if your code satisfies these requirements. Verify your code manually."
        },
        {
         "code": ">>> \n>>> public_tests.rubric_check('q19: incorrect logic is used to answer')\nAll test cases passed!\n",
         "hidden": false,
         "locked": false,
         "success_message": "Note that the Gradescope autograder will deduct points if your code fails the following rubric point - 'incorrect logic is used to answer (-1)'. The public tests cannot determine if your code satisfies these requirements. Verify your code manually."
        },
        {
         "code": ">>> \n>>> public_tests.rubric_check('q19: `avg_winter_capacity_of` function is not used to answer', False)\nAll test cases passed!\n",
         "hidden": false,
         "locked": false,
         "success_message": "Note that the Gradescope autograder will deduct points if your code fails the following rubric point - '`avg_winter_capacity_of` function is not used to answer (-1)'. The public tests cannot determine if your code satisfies these requirements. Verify your code manually."
        },
        {
         "code": ">>> public_tests.rubric_check('q19: public tests')\nAll test cases passed!\n",
         "hidden": false,
         "locked": false
        }
       ],
       "scored": true,
       "setup": "",
       "teardown": "",
       "type": "doctest"
      }
     ]
    },
    "q2": {
     "name": "q2",
     "points": 0,
     "suites": [
      {
       "cases": [
        {
         "code": ">>> public_tests.check('q2', count_dane)\nAll test cases passed!\n",
         "hidden": false,
         "locked": false
        },
        {
         "code": ">>> \n>>> public_tests.rubric_check('q2: not all rows are looped through')\nAll test cases passed!\n",
         "hidden": false,
         "locked": false,
         "success_message": "Note that the Gradescope autograder will deduct points if your code fails the following rubric point - 'not all rows are looped through (-1)'. The public tests cannot determine if your code satisfies these requirements. Verify your code manually."
        },
        {
         "code": ">>> \n>>> public_tests.rubric_check('q2: incorrect logic is used')\nAll test cases passed!\n",
         "hidden": false,
         "locked": false,
         "success_message": "Note that the Gradescope autograder will deduct points if your code fails the following rubric point - 'incorrect logic is used (-1)'. The public tests cannot determine if your code satisfies these requirements. Verify your code manually."
        },
        {
         "code": ">>> \n>>> public_tests.rubric_check('q2: `cell` function is not used to read data', False)\nAll test cases passed!\n",
         "hidden": false,
         "locked": false,
         "success_message": "Note that the Gradescope autograder will deduct points if your code fails the following rubric point - '`cell` function is not used to read data (-1)'. The public tests cannot determine if your code satisfies these requirements. Verify your code manually."
        }
       ],
       "scored": true,
       "setup": "",
       "teardown": "",
       "type": "doctest"
      }
     ]
    },
    "q20": {
     "name": "q20",
     "points": 0,
     "suites": [
      {
       "cases": [
        {
         "code": ">>> public_tests.check('q20', diff_avg_winter_capacity)\nAll test cases passed!\n",
         "hidden": false,
         "locked": false
        },
        {
         "code": ">>> \n>>> public_tests.rubric_check('q20: all technologies are looped through instead of just the unique technologies')\nAll test cases passed!\n",
         "hidden": false,
         "locked": false,
         "success_message": "Note that the Gradescope autograder will deduct points if your code fails the following rubric point - 'all technologies are looped through instead of just the unique technologies (-1)'. The public tests cannot determine if your code satisfies these requirements. Verify your code manually."
        },
        {
         "code": ">>> \n>>> public_tests.rubric_check('q20: incorrect logic is used to answer')\nAll test cases passed!\n",
         "hidden": false,
         "locked": false,
         "success_message": "Note that the Gradescope autograder will deduct points if your code fails the following rubric point - 'incorrect logic is used to answer (-1)'. The public tests cannot determine if your code satisfies these requirements. Verify your code manually."
        },
        {
         "code": ">>> \n>>> public_tests.rubric_check('q20: `avg_winter_capacity_of` function is not used to answer', False)\nAll test cases passed!\n",
         "hidden": false,
         "locked": false,
         "success_message": "Note that the Gradescope autograder will deduct points if your code fails the following rubric point - '`avg_winter_capacity_of` function is not used to answer (-1)'. The public tests cannot determine if your code satisfies these requirements. Verify your code manually."
        },
        {
         "code": ">>> public_tests.rubric_check('q20: public tests')\nAll test cases passed!\n",
         "hidden": false,
         "locked": false
        }
       ],
       "scored": true,
       "setup": "",
       "teardown": "",
       "type": "doctest"
      }
     ]
    },
    "q3": {
     "name": "q3",
     "points": 0,
     "suites": [
      {
       "cases": [
        {
         "code": ">>> public_tests.check('q3', total_summer_capacity)\nAll test cases passed!\n",
         "hidden": false,
         "locked": false
        },
        {
         "code": ">>> \n>>> public_tests.rubric_check('q3: not all rows are looped through')\nAll test cases passed!\n",
         "hidden": false,
         "locked": false,
         "success_message": "Note that the Gradescope autograder will deduct points if your code fails the following rubric point - 'not all rows are looped through (-1)'. The public tests cannot determine if your code satisfies these requirements. Verify your code manually."
        },
        {
         "code": ">>> \n>>> public_tests.rubric_check('q3: incorrect logic is used')\nAll test cases passed!\n",
         "hidden": false,
         "locked": false,
         "success_message": "Note that the Gradescope autograder will deduct points if your code fails the following rubric point - 'incorrect logic is used (-1)'. The public tests cannot determine if your code satisfies these requirements. Verify your code manually."
        },
        {
         "code": ">>> \n>>> public_tests.rubric_check('q3: `cell` function is not used to read data', False)\nAll test cases passed!\n",
         "hidden": false,
         "locked": false,
         "success_message": "Note that the Gradescope autograder will deduct points if your code fails the following rubric point - '`cell` function is not used to read data (-1)'. The public tests cannot determine if your code satisfies these requirements. Verify your code manually."
        }
       ],
       "scored": true,
       "setup": "",
       "teardown": "",
       "type": "doctest"
      }
     ]
    },
    "q4": {
     "name": "q4",
     "points": 0,
     "suites": [
      {
       "cases": [
        {
         "code": ">>> public_tests.check('q4', madison_entities)\nAll test cases passed!\n",
         "hidden": false,
         "locked": false
        },
        {
         "code": ">>> \n>>> public_tests.rubric_check('q4: `find_entities_with_phrase` function is not used to answer')\nAll test cases passed!\n",
         "hidden": false,
         "locked": false,
         "success_message": "Note that the Gradescope autograder will deduct points if your code fails the following rubric point - '`find_entities_with_phrase` function is not used to answer (-2)'. The public tests cannot determine if your code satisfies these requirements. Verify your code manually."
        }
       ],
       "scored": true,
       "setup": "",
       "teardown": "",
       "type": "doctest"
      }
     ]
    },
    "q5": {
     "name": "q5",
     "points": 0,
     "suites": [
      {
       "cases": [
        {
         "code": ">>> public_tests.check('q5', entities_contain_wisconsin_power)\nAll test cases passed!\n",
         "hidden": false,
         "locked": false
        },
        {
         "code": ">>> \n>>> public_tests.rubric_check('q5: incorrect logic is used to answer')\nAll test cases passed!\n",
         "hidden": false,
         "locked": false,
         "success_message": "Note that the Gradescope autograder will deduct points if your code fails the following rubric point - 'incorrect logic is used to answer (-2)'. The public tests cannot determine if your code satisfies these requirements. Verify your code manually."
        },
        {
         "code": ">>> \n>>> public_tests.rubric_check('q5: `cell` function is not used to read data', False)\nAll test cases passed!\n",
         "hidden": false,
         "locked": false,
         "success_message": "Note that the Gradescope autograder will deduct points if your code fails the following rubric point - '`cell` function is not used to read data (-1)'. The public tests cannot determine if your code satisfies these requirements. Verify your code manually."
        },
        {
         "code": ">>> public_tests.rubric_check('q5: public tests')\nAll test cases passed!\n",
         "hidden": false,
         "locked": false
        }
       ],
       "scored": true,
       "setup": "",
       "teardown": "",
       "type": "doctest"
      }
     ]
    },
    "q6": {
     "name": "q6",
     "points": 0,
     "suites": [
      {
       "cases": [
        {
         "code": ">>> public_tests.check('q6', entities_contain_solar_llc)\nAll test cases passed!\n",
         "hidden": false,
         "locked": false
        },
        {
         "code": ">>> \n>>> public_tests.rubric_check('q6: incorrect logic is used to answer')\nAll test cases passed!\n",
         "hidden": false,
         "locked": false,
         "success_message": "Note that the Gradescope autograder will deduct points if your code fails the following rubric point - 'incorrect logic is used to answer (-2)'. The public tests cannot determine if your code satisfies these requirements. Verify your code manually."
        },
        {
         "code": ">>> \n>>> public_tests.rubric_check('q6: `cell` function is not used to read data', False)\nAll test cases passed!\n",
         "hidden": false,
         "locked": false,
         "success_message": "Note that the Gradescope autograder will deduct points if your code fails the following rubric point - '`cell` function is not used to read data (-1)'. The public tests cannot determine if your code satisfies these requirements. Verify your code manually."
        },
        {
         "code": ">>> public_tests.rubric_check('q6: public tests')\nAll test cases passed!\n",
         "hidden": false,
         "locked": false
        }
       ],
       "scored": true,
       "setup": "",
       "teardown": "",
       "type": "doctest"
      }
     ]
    },
    "q7": {
     "name": "q7",
     "points": 0,
     "suites": [
      {
       "cases": [
        {
         "code": ">>> public_tests.check('q7', plant_50614_generators)\nAll test cases passed!\n",
         "hidden": false,
         "locked": false
        },
        {
         "code": ">>> \n>>> public_tests.rubric_check('q7: not all rows are looped through')\nAll test cases passed!\n",
         "hidden": false,
         "locked": false,
         "success_message": "Note that the Gradescope autograder will deduct points if your code fails the following rubric point - 'not all rows are looped through (-1)'. The public tests cannot determine if your code satisfies these requirements. Verify your code manually."
        },
        {
         "code": ">>> \n>>> public_tests.rubric_check('q7: the output is not sorted correctly')\nAll test cases passed!\n",
         "hidden": false,
         "locked": false,
         "success_message": "Note that the Gradescope autograder will deduct points if your code fails the following rubric point - 'the output is not sorted correctly (-1)'. The public tests cannot determine if your code satisfies these requirements. Verify your code manually."
        },
        {
         "code": ">>> \n>>> public_tests.rubric_check('q7: incorrect logic is used', False)\nAll test cases passed!\n",
         "hidden": false,
         "locked": false,
         "success_message": "Note that the Gradescope autograder will deduct points if your code fails the following rubric point - 'incorrect logic is used (-1)'. The public tests cannot determine if your code satisfies these requirements. Verify your code manually."
        },
        {
         "code": ">>> \n>>> public_tests.rubric_check('q7: `cell` function is not used to read data', False)\nAll test cases passed!\n",
         "hidden": false,
         "locked": false,
         "success_message": "Note that the Gradescope autograder will deduct points if your code fails the following rubric point - '`cell` function is not used to read data (-1)'. The public tests cannot determine if your code satisfies these requirements. Verify your code manually."
        },
        {
         "code": ">>> public_tests.rubric_check('q7: public tests')\nAll test cases passed!\n",
         "hidden": false,
         "locked": false
        }
       ],
       "scored": true,
       "setup": "",
       "teardown": "",
       "type": "doctest"
      }
     ]
    },
    "q8": {
     "name": "q8",
     "points": 0,
     "suites": [
      {
       "cases": [
        {
         "code": ">>> public_tests.check('q8', powerful_hydro_electric_plants)\nAll test cases passed!\n",
         "hidden": false,
         "locked": false
        },
        {
         "code": ">>> \n>>> public_tests.rubric_check('q8: not all rows are looped through')\nAll test cases passed!\n",
         "hidden": false,
         "locked": false,
         "success_message": "Note that the Gradescope autograder will deduct points if your code fails the following rubric point - 'not all rows are looped through (-1)'. The public tests cannot determine if your code satisfies these requirements. Verify your code manually."
        },
        {
         "code": ">>> \n>>> public_tests.rubric_check('q8: the output is not sorted correctly')\nAll test cases passed!\n",
         "hidden": false,
         "locked": false,
         "success_message": "Note that the Gradescope autograder will deduct points if your code fails the following rubric point - 'the output is not sorted correctly (-1)'. The public tests cannot determine if your code satisfies these requirements. Verify your code manually."
        },
        {
         "code": ">>> \n>>> public_tests.rubric_check('q8: incorrect comparison operators are used')\nAll test cases passed!\n",
         "hidden": false,
         "locked": false,
         "success_message": "Note that the Gradescope autograder will deduct points if your code fails the following rubric point - 'incorrect comparison operators are used (-1)'. The public tests cannot determine if your code satisfies these requirements. Verify your code manually."
        },
        {
         "code": ">>> \n>>> public_tests.rubric_check('q8: incorrect logic is used', False)\nAll test cases passed!\n",
         "hidden": false,
         "locked": false,
         "success_message": "Note that the Gradescope autograder will deduct points if your code fails the following rubric point - 'incorrect logic is used (-1)'. The public tests cannot determine if your code satisfies these requirements. Verify your code manually."
        },
        {
         "code": ">>> \n>>> public_tests.rubric_check('q8: `cell` function is not used to read data', False)\nAll test cases passed!\n",
         "hidden": false,
         "locked": false,
         "success_message": "Note that the Gradescope autograder will deduct points if your code fails the following rubric point - '`cell` function is not used to read data (-1)'. The public tests cannot determine if your code satisfies these requirements. Verify your code manually."
        }
       ],
       "scored": true,
       "setup": "",
       "teardown": "",
       "type": "doctest"
      }
     ]
    },
    "q9": {
     "name": "q9",
     "points": 0,
     "suites": [
      {
       "cases": [
        {
         "code": ">>> public_tests.check('q9', num_generators_by_mge)\nAll test cases passed!\n",
         "hidden": false,
         "locked": false
        },
        {
         "code": ">>> \n>>> public_tests.rubric_check('q9: `num_generators_by` function is not used to answer')\nAll test cases passed!\n",
         "hidden": false,
         "locked": false,
         "success_message": "Note that the Gradescope autograder will deduct points if your code fails the following rubric point - '`num_generators_by` function is not used to answer (-2)'. The public tests cannot determine if your code satisfies these requirements. Verify your code manually."
        }
       ],
       "scored": true,
       "setup": "",
       "teardown": "",
       "type": "doctest"
      }
     ]
    },
    "summary": {
     "name": "summary",
     "points": 127,
     "suites": [
      {
       "cases": [
        {
         "code": ">>> public_tests.get_summary()\nTotal Score: 100/100\n",
         "hidden": false,
         "locked": false
        }
       ],
       "scored": true,
       "setup": "",
       "teardown": "",
       "type": "doctest"
      }
     ]
    },
    "total_summer_capacity_of": {
     "name": "total_summer_capacity_of",
     "points": 0,
     "suites": [
      {
       "cases": [
        {
         "code": ">>> \n>>> public_tests.rubric_check('total_summer_capacity_of: not all rows are looped through')\nAll test cases passed!\n",
         "hidden": false,
         "locked": false,
         "success_message": "Note that the Gradescope autograder will deduct points if your code fails the following rubric point - 'not all rows are looped through (-1)'. The public tests cannot determine if your code satisfies these requirements. Verify your code manually."
        },
        {
         "code": ">>> \n>>> public_tests.rubric_check('total_summer_capacity_of: missing data is not ignored')\nAll test cases passed!\n",
         "hidden": false,
         "locked": false,
         "success_message": "Note that the Gradescope autograder will deduct points if your code fails the following rubric point - 'missing data is not ignored (-1)'. The public tests cannot determine if your code satisfies these requirements. Verify your code manually."
        },
        {
         "code": ">>> \n>>> public_tests.rubric_check('total_summer_capacity_of: function logic is incorrect')\nAll test cases passed!\n",
         "hidden": false,
         "locked": false,
         "success_message": "Note that the Gradescope autograder will deduct points if your code fails the following rubric point - 'function logic is incorrect (-1)'. The public tests cannot determine if your code satisfies these requirements. Verify your code manually."
        },
        {
         "code": ">>> \n>>> public_tests.rubric_check('total_summer_capacity_of: `cell` function is not used to read data', False)\nAll test cases passed!\n",
         "hidden": false,
         "locked": false,
         "success_message": "Note that the Gradescope autograder will deduct points if your code fails the following rubric point - '`cell` function is not used to read data (-1)'. The public tests cannot determine if your code satisfies these requirements. Verify your code manually."
        }
       ],
       "scored": true,
       "setup": "",
       "teardown": "",
       "type": "doctest"
      }
     ]
    }
   }
  }
 },
 "nbformat": 4,
 "nbformat_minor": 5
}
