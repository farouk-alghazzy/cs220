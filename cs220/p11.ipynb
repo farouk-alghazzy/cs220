{
 "cells": [
  {
   "cell_type": "code",
   "execution_count": 1,
   "id": "39744d00",
   "metadata": {
    "cell_type": "code",
    "deletable": false,
    "editable": false
   },
   "outputs": [],
   "source": [
    "# import and initialize otter\n",
    "import otter\n",
    "grader = otter.Notebook(\"p11.ipynb\")"
   ]
  },
  {
   "cell_type": "code",
   "execution_count": 2,
   "id": "73b10e60",
   "metadata": {
    "editable": false,
    "execution": {
     "iopub.execute_input": "2023-11-15T16:44:13.795563Z",
     "iopub.status.busy": "2023-11-15T16:44:13.794563Z",
     "iopub.status.idle": "2023-11-15T16:44:16.464230Z",
     "shell.execute_reply": "2023-11-15T16:44:16.463220Z"
    }
   },
   "outputs": [],
   "source": [
    "import public_tests"
   ]
  },
  {
   "cell_type": "code",
   "execution_count": 3,
   "id": "db59b584",
   "metadata": {
    "execution": {
     "iopub.execute_input": "2023-11-15T16:44:16.469243Z",
     "iopub.status.busy": "2023-11-15T16:44:16.468243Z",
     "iopub.status.idle": "2023-11-15T16:44:16.473554Z",
     "shell.execute_reply": "2023-11-15T16:44:16.472543Z"
    }
   },
   "outputs": [],
   "source": [
    "# PLEASE FILL IN THE DETAILS\n",
    "# Enter none if you don't have a project partner\n",
    "# You will have to add your partner as a group member on Gradescope even after you fill this\n",
    "\n",
    "# project: p11\n",
    "# submitter: alghazzy\n",
    "# partner: jmbruggink"
   ]
  },
  {
   "cell_type": "markdown",
   "id": "6840bc51",
   "metadata": {
    "deletable": false,
    "editable": false
   },
   "source": [
    "# Project 11: Analyzing Stars and Planets"
   ]
  },
  {
   "cell_type": "markdown",
   "id": "42b6b6a4",
   "metadata": {
    "deletable": false,
    "editable": false
   },
   "source": [
    "# Learning Objectives:\n",
    "\n",
    "In this project, you will demonstrate how to:\n",
    "    \n",
    "* analyze the data from P10,\n",
    "* make scatter plots using `matplotlib`,\n",
    "* remove outliers to make the plots more useful,\n",
    "* use recursion to gather new data.\n",
    "\n",
    "**Please go through [Lab-P11](https://git.doit.wisc.edu/cdis/cs/courses/cs220/cs220-f23-projects/-/tree/main/lab-p11) before working on this project.** The lab introduces some important techniques related to this project."
   ]
  },
  {
   "cell_type": "markdown",
   "id": "c0792bd3",
   "metadata": {
    "deletable": false,
    "editable": false
   },
   "source": [
    "<h2 style=\"color:red\">Warning (Note on Academic Misconduct):</h2>\n",
    "\n",
    "**IMPORTANT**: **P10 and P11 are two parts of the same data analysis.** You **cannot** switch project partners between these two projects. That is if you partnered up with someone for P10, you have to sustain that partnership until the end of P11. Now may be a good time to review [our course policies](https://cs220.cs.wisc.edu/f23/syllabus.html).\n",
    "\n",
    "Under any circumstances, **no more than two students are allowed to work together on a project** as mentioned in the course policies. If your code is flagged by our code similarity detection tools, **both partners will be responsible** for sharing/copying the code, even if the code is shared/copied by one of the partners with/from other non-partner student(s). Note that each case of plagiarism will be reported to the Dean of Students with a zero grade on the project. **If you think that someone cannot be your project partner then don’t make that student your lab partner.**\n",
    "\n",
    "**<font color = \"red\">Project partners must submit only one copy of their project on Gradescope, but they must include the names of both partners.</font>**"
   ]
  },
  {
   "cell_type": "markdown",
   "id": "9352e285",
   "metadata": {
    "deletable": false,
    "editable": false
   },
   "source": [
    "## Testing your code:\n",
    "\n",
    "Along with this notebook, you must have downloaded the files `public_tests.py` and `expected_plots.json`. If you are curious about how we test your code, you can explore this file, and specifically the output of the function `get_expected_json`, to understand the expected answers to the questions.\n",
    "\n",
    "**Important:** `public_tests.py` **cannot** verify your answers when the output is an image. Your **plots** will be **checked** by the Gradescope autograder, so you must **manually** confirm that your plots look correct by comparing with the images provided in the notebook."
   ]
  },
  {
   "cell_type": "markdown",
   "id": "ae904646",
   "metadata": {
    "deletable": false,
    "editable": false
   },
   "source": [
    "## Setup:\n",
    "\n",
    "In P11, you will be analyzing the same dataset that you parsed in P10. You can either copy/paste the `data` directory to your P11 directory, or download the `data.zip` file provided with this project, and extract it. In addition to the `data` directory, you will also need to download additional datasets for P11. You must download `broken_data.zip` and extract it. You must extract the contents of the directory `broken_data` into the same directory which contains the `data` directory, `p11.ipynb`, `public_tests.py`, and `expected_plots.json`.\n",
    "\n",
    "You need to make sure that the project files are stored in the following structure:\n",
    "\n",
    "```\n",
    "+-- p11.ipynb\n",
    "+-- public_tests.py\n",
    "+-- expected_plots.json\n",
    "+-- data\n",
    "|   +-- .DS_Store\n",
    "|   +-- .ipynb_checkpoints\n",
    "|   +-- mapping_1.json\n",
    "|   +-- mapping_2.json\n",
    "|   +-- mapping_3.json\n",
    "|   +-- mapping_4.json\n",
    "|   +-- mapping_5.json\n",
    "|   +-- planets_1.csv\n",
    "|   +-- planets_2.csv\n",
    "|   +-- planets_3.csv\n",
    "|   +-- planets_4.csv\n",
    "|   +-- planets_5.csv\n",
    "|   +-- stars_1.csv\n",
    "|   +-- stars_2.csv\n",
    "|   +-- stars_3.csv\n",
    "|   +-- stars_4.csv\n",
    "|   +-- stars_5.csv\n",
    "+-- broken_data\n",
    "|   +-- .DS_Store\n",
    "|   +-- hd\n",
    "|   |   +-- 10000\n",
    "|   |   |   +-- .ipynb_checkpoints\n",
    "|   |   |   +-- .DS_Store\n",
    "|   |   |   +-- 10000s.json\n",
    "|   |   +-- others.json\n",
    "|   +-- k2\n",
    "|   |   +-- .ipynb_checkpoints\n",
    "|   |   +-- .DS_Store\n",
    "|   |   +-- k2s.json\n",
    "|   +-- kepler\n",
    "|   |   +-- 10\n",
    "|   |   |   +-- .DS_Store\n",
    "|   |   |   +-- 30\n",
    "|   |   |   |   +-- .ipynb_checkpoints\n",
    "|   |   |   |   +-- .DS_Store\n",
    "|   |   |   |   +-- 30s.json\n",
    "|   |   |   +-- other\n",
    "|   |   |   |   +-- others.json\n",
    "|   |   |   +-- 20s.json\n",
    "|   |   |   +-- 80s.json\n",
    "|   |   +-- 100\n",
    "|   |   |   +-- 100\n",
    "|   |   |   |   +-- other\n",
    "|   |   |   |   |   +-- .ipynb_checkpoints\n",
    "|   |   |   |   |   +-- .DS_Store\n",
    "|   |   |   |   |   +-- others.json\n",
    "|   |   |   |   +-- 100s.json\n",
    "|   |   |   +-- 200\n",
    "|   |   |   |   +-- 220\n",
    "|   |   |   |   |   +-- 220s.json\n",
    "|   |   |   |   +-- 290\n",
    "|   |   |   |   |   +-- 290s.json\n",
    "|   |   |   |   +-- other\n",
    "|   |   |   |   |   +-- .ipynb_checkpoints\n",
    "|   |   |   |   |   +-- .DS_Store\n",
    "|   |   |   |   |   +-- others.json\n",
    "|   |   |   +-- others.json\n",
    "|   |   +-- other\n",
    "|   |   |   +-- .ipynb_checkpoints\n",
    "|   |   |   +-- others.json\n",
    "|   +-- other\n",
    "|   |   +-- .ipynb_checkpoints\n",
    "|   |   +-- others.json\n",
    "|   +-- toi\n",
    "|   |   +-- .ipynb_checkpoints\n",
    "|   |   +-- tois.json\n",
    "```\n",
    "\n",
    "Make sure that **all** files are stored in this **exact** file structure. Otherwise, then there is a possibility that your code will **fail on Gradescope** even after passing local tests."
   ]
  },
  {
   "cell_type": "markdown",
   "id": "d4dc2fd9",
   "metadata": {
    "deletable": false,
    "editable": false
   },
   "source": [
    "## Project Description:\n",
    "\n",
    "You have already parsed the data in the `data` directory in P10. You will now dive deeper by analyzing this data and arrive at some exciting conclusions about various planets and stars outside our Solar System. You will also use recursion to retrieve data from the broken JSON file in the `data` directory, and ask some interesting questions about the data."
   ]
  },
  {
   "cell_type": "markdown",
   "id": "1b7ab261",
   "metadata": {
    "deletable": false,
    "editable": false
   },
   "source": [
    "## Project Requirements:\n",
    "\n",
    "You **may not** hardcode indices in your code, unless the question explicitly says so. If you open your `.csv` files with Excel, manually count through the rows and use this number to loop through the dataset, this is also considered as hardcoding. If any instances of hardcoding are found during code review, the Gradescope autograder will **deduct** points from your public score.\n",
    "\n",
    "**Store** your final answer for each question in the **variable specified for each question**. This step is important because Otter grades your work by comparing the value of this variable against the correct answer.\n",
    "\n",
    "For some of the questions, we'll ask you to write (then use) a function to compute the answer. If you compute the answer **without** creating the function we ask you to write, the Gradescope autograder will **deduct** points from your public test score, even if the way you did it produced the correct answer.\n",
    "\n",
    "#### Required Functions:\n",
    "- `star_cell`\n",
    "- `get_stars`\n",
    "- `planet_cell`\n",
    "- `get_planets`\n",
    "- `plot_scatter`\n",
    "- `plot_scatter_multiple`\n",
    "- `get_all_paths_in`\n",
    "- `get_surface_gravity`\n",
    "- `get_distances_to_star`\n",
    "- `get_liquid_water_distances`\n",
    "- `get_surface_temperatures`\n",
    "\n",
    "In this project, you will also be required to define certain **data structures**. If you do not create these data structures exactly as specified, the Gradescope autograder will **deduct** points from your public test score, even if the way you did it produced the correct answer.\n",
    "\n",
    "#### Required Data Structures:\n",
    "- `Star` (**namedtuple**)\n",
    "- `stars_dict` (**dictionary** mapping **strings** to `Star` objects)\n",
    "- `Planet` (**namedtuple**)\n",
    "- `planets_list` (**list** of `Planet` objects)\n",
    "- `star_classes` (**dictionary**)\n",
    "- `all_planets_list` (**list** of `Planet` objects)\n",
    "\n",
    "In addition, you are also **required** to follow the requirements below:\n",
    "\n",
    "* You **must** never use the output of the `os.listdir` function directly. You **must** always first remove all files and directories that start with `\".\"`, and **explicitly sort** the list before doing anything with it.\n",
    "* You are **not** allowed to use **modules** like `pandas` to answer the questions in this project.\n",
    "* You **must** properly **label** the axes of all your **plots**.\n",
    "* Do **not** define multiple functions with the same name or define multiple versions of one function with different names. Just keep the best version.\n",
    "* Do **not** leave in irrelevant output or test code that we didn't ask for.\n",
    "\n",
    "Otherwise, the Gradescope autograder will **deduct** points from your public score.\n",
    "\n",
    "For more details on what will cause you to lose points during code review and specific requirements, please take a look at the [Grading rubric](https://git.doit.wisc.edu/cdis/cs/courses/cs220/cs220-f23-projects/-/blob/main/p11/rubric.md)."
   ]
  },
  {
   "cell_type": "markdown",
   "id": "deb1cc46",
   "metadata": {
    "deletable": false,
    "editable": false
   },
   "source": [
    "## Questions and Functions:\n",
    "\n",
    "Let us start by importing all the modules we will need for this project."
   ]
  },
  {
   "cell_type": "code",
   "execution_count": 4,
   "id": "3c7058fc",
   "metadata": {
    "execution": {
     "iopub.execute_input": "2023-11-15T16:44:16.478565Z",
     "iopub.status.busy": "2023-11-15T16:44:16.477564Z",
     "iopub.status.idle": "2023-11-15T16:44:17.109739Z",
     "shell.execute_reply": "2023-11-15T16:44:17.108726Z"
    },
    "tags": []
   },
   "outputs": [],
   "source": [
    "# it is considered a good coding practice to place all import statements at the top of the notebook\n",
    "# please place all your import statements in this cell if you need to import any more modules for this project\n",
    "import os\n",
    "import json\n",
    "from collections import namedtuple\n",
    "import matplotlib.pyplot as plt\n",
    "import csv\n",
    "import statistics\n",
    "import math"
   ]
  },
  {
   "cell_type": "markdown",
   "id": "f803a52b",
   "metadata": {
    "deletable": false,
    "editable": false
   },
   "source": [
    "### Loading in the Stars and Planets:\n",
    "\n",
    "Before we can analyze the data in the `data` directory, you must first copy/paste all the functions and data strucutres you created in P10 to parse the data."
   ]
  },
  {
   "cell_type": "code",
   "execution_count": 5,
   "id": "d8f07acf",
   "metadata": {
    "execution": {
     "iopub.execute_input": "2023-11-15T16:44:17.115737Z",
     "iopub.status.busy": "2023-11-15T16:44:17.113737Z",
     "iopub.status.idle": "2023-11-15T16:44:17.121322Z",
     "shell.execute_reply": "2023-11-15T16:44:17.120313Z"
    },
    "tags": []
   },
   "outputs": [],
   "source": [
    "# copy/paste the definition of the namedtuple 'Star' here\n",
    "x = ['spectral_type',\n",
    "    'stellar_effective_temperature',\n",
    "    'stellar_radius',\n",
    "    'stellar_mass',\n",
    "    'stellar_luminosity',\n",
    "    'stellar_surface_gravity',\n",
    "    'stellar_age']\n",
    "\n",
    "Star = namedtuple(\"Star\", x)"
   ]
  },
  {
   "cell_type": "code",
   "execution_count": 6,
   "id": "d055f32e",
   "metadata": {
    "execution": {
     "iopub.execute_input": "2023-11-15T16:44:17.125324Z",
     "iopub.status.busy": "2023-11-15T16:44:17.125324Z",
     "iopub.status.idle": "2023-11-15T16:44:17.131482Z",
     "shell.execute_reply": "2023-11-15T16:44:17.130469Z"
    },
    "tags": []
   },
   "outputs": [],
   "source": [
    "# copy/paste the definition of the function 'process_csv' here\n",
    "def process_csv(filename):\n",
    "    example_file = open(filename, encoding=\"utf-8\")\n",
    "    example_reader = csv.reader(example_file)\n",
    "    example_data = list(example_reader)\n",
    "    example_file.close()\n",
    "    return example_data\n",
    "stars_1_csv = process_csv(os.path.join(\"data\", \"stars_1.csv\")) # read the data in 'stars_1.csv'\n",
    "stars_header = stars_1_csv[0]\n",
    "stars_1_rows = stars_1_csv[1:]"
   ]
  },
  {
   "cell_type": "code",
   "execution_count": 7,
   "id": "3e9faed4",
   "metadata": {
    "execution": {
     "iopub.execute_input": "2023-11-15T16:44:17.134479Z",
     "iopub.status.busy": "2023-11-15T16:44:17.134479Z",
     "iopub.status.idle": "2023-11-15T16:44:17.146161Z",
     "shell.execute_reply": "2023-11-15T16:44:17.145152Z"
    },
    "tags": []
   },
   "outputs": [],
   "source": [
    "# copy/paste the definition of the function 'star_cell' here\n",
    "def star_cell(row_idx, col_name, stars_rows, header=stars_header):\n",
    "    col_idx = header.index(col_name)\n",
    "    val = stars_rows[row_idx][col_idx]\n",
    "    if val == '':\n",
    "        return None\n",
    "    if col_name == 'Star Name':\n",
    "        return val\n",
    "    elif col_name == 'Spectral Type':\n",
    "        return val\n",
    "    elif col_name == 'Stellar Effective Temperature [K]':\n",
    "        return float(val)\n",
    "    elif col_name == 'Stellar Radius [Solar Radius]':\n",
    "        return float(val)\n",
    "    elif col_name == 'Stellar Mass [Solar mass]':\n",
    "        return float(val)\n",
    "    elif col_name == 'Stellar Luminosity [log(Solar)]':\n",
    "        return float(val)\n",
    "    elif col_name == 'Stellar Surface Gravity [log10(cm/s**2)]':\n",
    "        return float(val)\n",
    "    elif col_name == 'Stellar Age [Gyr]':\n",
    "        return float(val)"
   ]
  },
  {
   "cell_type": "code",
   "execution_count": 8,
   "id": "84ff604d",
   "metadata": {
    "execution": {
     "iopub.execute_input": "2023-11-15T16:44:17.150183Z",
     "iopub.status.busy": "2023-11-15T16:44:17.150183Z",
     "iopub.status.idle": "2023-11-15T16:44:17.158936Z",
     "shell.execute_reply": "2023-11-15T16:44:17.157921Z"
    },
    "tags": []
   },
   "outputs": [],
   "source": [
    "# copy/paste the definition of the function 'get_stars' here\n",
    "def get_stars(star_file):\n",
    "    stars_dict = {} \n",
    "    star_data = process_csv(os.path.join(\"data\", star_file))\n",
    "    star_header = star_data[0]\n",
    "    star_rows = star_data[1:]\n",
    "    for row_idx in range(len(star_rows)):\n",
    "        star_name = star_cell(row_idx, 'Star Name', star_rows)\n",
    "        spectral_type = star_cell(row_idx, 'Spectral Type', star_rows)\n",
    "        stellar_effective_temperature = star_cell(row_idx, 'Stellar Effective Temperature [K]', star_rows)\n",
    "        stellar_radius = star_cell(row_idx, 'Stellar Radius [Solar Radius]', star_rows)\n",
    "        stellar_mass = star_cell(row_idx, 'Stellar Mass [Solar mass]', star_rows)\n",
    "        stellar_luminosity = star_cell(row_idx, 'Stellar Luminosity [log(Solar)]', star_rows)\n",
    "        stellar_surface_gravity = star_cell(row_idx, 'Stellar Surface Gravity [log10(cm/s**2)]', star_rows)\n",
    "        stellar_age = star_cell(row_idx, 'Stellar Age [Gyr]', star_rows)\n",
    "    \n",
    "    \n",
    "        star = Star(spectral_type, stellar_effective_temperature, stellar_radius, stellar_mass, stellar_luminosity, stellar_surface_gravity, stellar_age) \n",
    "        stars_dict[star_name] = star\n",
    "\n",
    "    return stars_dict"
   ]
  },
  {
   "cell_type": "code",
   "execution_count": 9,
   "id": "4edbb641",
   "metadata": {
    "execution": {
     "iopub.execute_input": "2023-11-15T16:44:17.162953Z",
     "iopub.status.busy": "2023-11-15T16:44:17.162953Z",
     "iopub.status.idle": "2023-11-15T16:44:17.280314Z",
     "shell.execute_reply": "2023-11-15T16:44:17.279304Z"
    },
    "tags": []
   },
   "outputs": [],
   "source": [
    "# copy/paste the definition of the dictionary 'stars_dict' here\n",
    "all_files=os.listdir('data') \n",
    "files_in_data=[x for x in all_files if not x.startswith('.')]\n",
    "files_in_data.sort(reverse=True)\n",
    "files_in_data\n",
    "stars_paths=[]\n",
    "stars_files=[x for x in files_in_data if x.startswith('stars')]\n",
    "stars_files.sort(reverse=True)\n",
    "for files in stars_files:\n",
    "    y=os.path.join('data', files)\n",
    "    stars_paths.append(y)\n",
    "stars_paths\n",
    "\n",
    "stars_dict = {}\n",
    "\n",
    "for path in stars_paths:\n",
    "    name = os.path.basename(path)\n",
    "    stars = get_stars(name)\n",
    "    stars_dict.update(stars)"
   ]
  },
  {
   "cell_type": "code",
   "execution_count": 10,
   "id": "a29bb092",
   "metadata": {
    "execution": {
     "iopub.execute_input": "2023-11-15T16:44:17.284335Z",
     "iopub.status.busy": "2023-11-15T16:44:17.284335Z",
     "iopub.status.idle": "2023-11-15T16:44:17.290460Z",
     "shell.execute_reply": "2023-11-15T16:44:17.289419Z"
    },
    "tags": []
   },
   "outputs": [],
   "source": [
    "# copy/paste the definition of the namedtuple 'Planet' here\n",
    "planets_info = ['planet_name',\n",
    "                'host_name',\n",
    "                'discovery_method',\n",
    "                'discovery_year',\n",
    "                     'controversial_flag',\n",
    "                     'orbital_period',\n",
    "                     'planet_radius',\n",
    "                     'planet_mass',\n",
    "                     'semi_major_radius',\n",
    "                     'eccentricity',\n",
    "                     'equilibrium_temperature',\n",
    "                     'insolation_flux']\n",
    "\n",
    "\n",
    "Planet = namedtuple(\"Planet\", planets_info)"
   ]
  },
  {
   "cell_type": "code",
   "execution_count": 11,
   "id": "fc05e373",
   "metadata": {
    "execution": {
     "iopub.execute_input": "2023-11-15T16:44:17.295434Z",
     "iopub.status.busy": "2023-11-15T16:44:17.294454Z",
     "iopub.status.idle": "2023-11-15T16:44:17.300421Z",
     "shell.execute_reply": "2023-11-15T16:44:17.299391Z"
    },
    "tags": []
   },
   "outputs": [],
   "source": [
    "# copy/paste the definition of the function 'read_json' here\n",
    "def read_json(path):\n",
    "    with open(path, encoding=\"utf-8\") as x:\n",
    "        return json.load(x)"
   ]
  },
  {
   "cell_type": "code",
   "execution_count": 12,
   "id": "9d2d74f3",
   "metadata": {
    "execution": {
     "iopub.execute_input": "2023-11-15T16:44:17.303390Z",
     "iopub.status.busy": "2023-11-15T16:44:17.303390Z",
     "iopub.status.idle": "2023-11-15T16:44:17.316981Z",
     "shell.execute_reply": "2023-11-15T16:44:17.315972Z"
    },
    "tags": []
   },
   "outputs": [],
   "source": [
    "# copy/paste the definition of the function 'planet_cell' here\n",
    "planets_1_csv = process_csv(os.path.join('data', 'planets_1.csv')) \n",
    "planets_header = planets_1_csv[0]\n",
    "planets_1_rows = planets_1_csv[1:]\n",
    "def planet_cell(row_idx, col_name, planets_rows, header = planets_header):\n",
    "    col_idx = header.index(col_name)\n",
    "    val = planets_rows[row_idx][col_idx] # extract col_idx from col_name and header\n",
    "    # extract the value at row_idx and col_idx\n",
    "    if val == '':\n",
    "        return None\n",
    "    if col_name in [\"Controversial Flag\"]:\n",
    "        if val == \"1\":\n",
    "            return True\n",
    "        else:\n",
    "            return False\n",
    "    if col_name == 'Planet Name':\n",
    "        return val\n",
    "    elif col_name == 'Discovery Year':\n",
    "        return int(val)\n",
    "    elif col_name == 'Discovery Method':\n",
    "        return val\n",
    "    elif col_name == 'Orbital Period [days]':\n",
    "        return float(val)\n",
    "    elif col_name == 'Planet Radius [Earth Radius]':\n",
    "        return float(val)\n",
    "    elif col_name == 'Planet Mass [Earth Mass]':\n",
    "        return float(val)\n",
    "    elif col_name == 'Orbit Semi-Major Axis [au]':\n",
    "        return float(val)\n",
    "    elif col_name == 'Eccentricity':\n",
    "        return float(val)\n",
    "    elif col_name == 'Equilibrium Temperature [K]':\n",
    "        return float(val)\n",
    "    elif col_name == 'Insolation Flux [Earth Flux]':\n",
    "        return float(val)"
   ]
  },
  {
   "cell_type": "code",
   "execution_count": 13,
   "id": "9a3837f3",
   "metadata": {
    "execution": {
     "iopub.execute_input": "2023-11-15T16:44:17.320981Z",
     "iopub.status.busy": "2023-11-15T16:44:17.320981Z",
     "iopub.status.idle": "2023-11-15T16:44:17.332186Z",
     "shell.execute_reply": "2023-11-15T16:44:17.331154Z"
    },
    "tags": []
   },
   "outputs": [],
   "source": [
    "# copy/paste the definition of the function 'get_planets' here\n",
    "def get_planets(planet_file, mapping_file):\n",
    "    planets_list = [] \n",
    "    planet_data = process_csv(planet_file)\n",
    "    planet_header = planet_data[0]\n",
    "    planet_rows = planet_data[1:]\n",
    "    try:\n",
    "        mapping_json = read_json(mapping_file)\n",
    "    except json.JSONDecodeError:\n",
    "        mapping_json = {}\n",
    "    for row_idx in range(len(planet_rows)):\n",
    "        try:\n",
    "            planet_name = planet_cell(row_idx, 'Planet Name', planet_rows)\n",
    "            host_name = mapping_json[planet_name]\n",
    "            discovery_method = planet_cell(row_idx, 'Discovery Method', planet_rows)\n",
    "            discovery_year = planet_cell(row_idx, 'Discovery Year', planet_rows)\n",
    "            controversial_flag = planet_cell(row_idx, 'Controversial Flag', planet_rows)\n",
    "            orbital_period = planet_cell(row_idx, 'Orbital Period [days]', planet_rows)\n",
    "            planet_radius = planet_cell(row_idx, 'Planet Radius [Earth Radius]', planet_rows)\n",
    "            planet_mass = planet_cell(row_idx, 'Planet Mass [Earth Mass]', planet_rows)\n",
    "            semi_major_radius = planet_cell(row_idx, 'Orbit Semi-Major Axis [au]', planet_rows)\n",
    "            eccentricity = planet_cell(row_idx, 'Eccentricity', planet_rows)\n",
    "            equilibrium_temperature = planet_cell(row_idx, 'Equilibrium Temperature [K]', planet_rows)\n",
    "            insolation_flux = planet_cell(row_idx, 'Insolation Flux [Earth Flux]', planet_rows)\n",
    "    \n",
    "            x = Planet(planet_name, host_name, discovery_method, discovery_year, controversial_flag, orbital_period, planet_radius, planet_mass,semi_major_radius, eccentricity, equilibrium_temperature, insolation_flux) \n",
    "            planets_list.append(x)\n",
    "        except KeyError:\n",
    "            continue\n",
    "        except ValueError:\n",
    "            continue\n",
    "        except IndexError:\n",
    "            continue\n",
    "            \n",
    "    return planets_list"
   ]
  },
  {
   "cell_type": "code",
   "execution_count": 14,
   "id": "48873401",
   "metadata": {
    "execution": {
     "iopub.execute_input": "2023-11-15T16:44:17.337166Z",
     "iopub.status.busy": "2023-11-15T16:44:17.336170Z",
     "iopub.status.idle": "2023-11-15T16:44:17.410102Z",
     "shell.execute_reply": "2023-11-15T16:44:17.409089Z"
    },
    "tags": []
   },
   "outputs": [],
   "source": [
    "# copy/paste the definition of the list 'planets_list' here\n",
    "\n",
    "all_files_in_data=os.listdir('data')\n",
    "files_in_data=[]\n",
    "for file in all_files_in_data:\n",
    "    if file.startswith('.')==False:\n",
    "        files_in_data.append(file)\n",
    "files_in_data.sort()\n",
    "files_in_data\n",
    "planets_list=[]\n",
    "\n",
    "planet_paths=[]\n",
    "for file in files_in_data:\n",
    "    if file.startswith('planets')==True:\n",
    "        planet_paths.append(file)\n",
    "        \n",
    "mapping_paths=[]\n",
    "for file in files_in_data:\n",
    "    if file.endswith('.json')==True:\n",
    "        mapping_paths.append(file)\n",
    "        \n",
    "for json_file in mapping_paths:\n",
    "    json_path=os.path.join('data', json_file)\n",
    "    for planet_file in planet_paths:\n",
    "        planet_path=os.path.join('data', planet_file)\n",
    "        \n",
    "        planets_list.extend(get_planets(planet_path, json_path))"
   ]
  },
  {
   "cell_type": "markdown",
   "id": "15549220",
   "metadata": {
    "deletable": false,
    "editable": false
   },
   "source": [
    "You used two functions `plot_scatter` and `plot_scatter_multiple` in Lab-P11 to create your **scatter plots**. These functions are again provided for you here to use in P11."
   ]
  },
  {
   "cell_type": "code",
   "execution_count": 15,
   "id": "82659dd6",
   "metadata": {
    "execution": {
     "iopub.execute_input": "2023-11-15T16:44:17.414120Z",
     "iopub.status.busy": "2023-11-15T16:44:17.414120Z",
     "iopub.status.idle": "2023-11-15T16:44:17.419706Z",
     "shell.execute_reply": "2023-11-15T16:44:17.418693Z"
    },
    "tags": []
   },
   "outputs": [],
   "source": [
    "# remember to import matplotlib.pyplot as plt at the top of the notebook to make this functions work\n",
    "\n",
    "def plot_scatter(x_data, y_data, x_label='x axis', y_label='y axis', c=None, s=7):\n",
    "    plt.scatter(x_data, y_data, c=c, s=s)\n",
    "    plt.xlabel(x_label)\n",
    "    plt.ylabel(y_label)"
   ]
  },
  {
   "cell_type": "code",
   "execution_count": 16,
   "id": "9e6ac2ea",
   "metadata": {
    "execution": {
     "iopub.execute_input": "2023-11-15T16:44:17.423716Z",
     "iopub.status.busy": "2023-11-15T16:44:17.423716Z",
     "iopub.status.idle": "2023-11-15T16:44:17.429719Z",
     "shell.execute_reply": "2023-11-15T16:44:17.428707Z"
    },
    "tags": []
   },
   "outputs": [],
   "source": [
    "# remember to import matplotlib.pyplot as plt at the top of the notebook to make this functions work\n",
    "\n",
    "def plot_scatter_multiple(x_data_dict, y_data_dict, x_label='x axis', y_label='y axis'):\n",
    "    legend_values = list(x_data_dict.keys())\n",
    "    for key in x_data_dict:\n",
    "        plt.scatter(x_data_dict[key], y_data_dict[key], s=7)\n",
    "    plt.xlabel(x_label)\n",
    "    plt.ylabel(y_label)\n",
    "    plt.legend(legend_values)"
   ]
  },
  {
   "cell_type": "markdown",
   "id": "369a9948",
   "metadata": {
    "deletable": false,
    "editable": false
   },
   "source": [
    "### Verifying Laws of Nature:\n",
    "\n",
    "We will now use our dataset to verify some well-known laws of nature. Unless specified otherwise, you **must** use `stars_dict` and `planets_list` to access all data."
   ]
  },
  {
   "cell_type": "markdown",
   "id": "38cd2cae",
   "metadata": {
    "deletable": false,
    "editable": false
   },
   "source": [
    "#### Kepler's Third Law:\n",
    "\n",
    "We will first verify [Kepler's Third Law](https://en.wikipedia.org/wiki/Kepler%27s_laws_of_planetary_motion#Third_law). This law states that the **square** of the `orbital_period` of each planet in a solar system is directly proportional to the **cube** of the `semi_major_radius` of its orbit around its host star.\n",
    "\n",
    "Since this law relates only to planets that orbit the same host star, we will verify this law using the several planets orbiting around a star named *GJ 9827*."
   ]
  },
  {
   "cell_type": "markdown",
   "id": "ff516734",
   "metadata": {
    "deletable": false,
    "editable": false
   },
   "source": [
    "**Question 1:** Compute the **ratio** of the **square** of the `orbital_period` to the **cube** of the `semi_major_radius` of each planet orbiting the star *GJ 9827*.\n",
    "\n",
    "Your output **must** be a **list** of **floats**. You may **assume** that the planets orbiting this star do not have any missing `orbital_period` or `semi_major_radius` data."
   ]
  },
  {
   "cell_type": "code",
   "execution_count": 17,
   "id": "3c5fdc49",
   "metadata": {
    "execution": {
     "iopub.execute_input": "2023-11-15T16:44:17.433731Z",
     "iopub.status.busy": "2023-11-15T16:44:17.433731Z",
     "iopub.status.idle": "2023-11-15T16:44:17.442379Z",
     "shell.execute_reply": "2023-11-15T16:44:17.441370Z"
    },
    "tags": []
   },
   "outputs": [
    {
     "data": {
      "text/plain": [
       "[219971.31454007205, 220096.7011785142, 220167.8343525934]"
      ]
     },
     "execution_count": 17,
     "metadata": {},
     "output_type": "execute_result"
    }
   ],
   "source": [
    "# compute and store the answer in the variable 'ratios_gj9827', then display it\n",
    "ratios_gj9827 = []\n",
    "for x in planets_list:\n",
    "    if x.host_name == 'GJ 9827':\n",
    "        radius = x.semi_major_radius\n",
    "        period = x.orbital_period\n",
    "        ratio = (period**2/radius**3)\n",
    "        ratios_gj9827.append(ratio)\n",
    "ratios_gj9827"
   ]
  },
  {
   "cell_type": "code",
   "execution_count": 18,
   "id": "dbd0bd29",
   "metadata": {
    "deletable": false,
    "editable": false
   },
   "outputs": [
    {
     "data": {
      "text/html": [
       "<p><strong><pre style='display: inline;'>q1</pre></strong> passed! 🙌</p><p><strong><pre style='display: inline;'>q1 - 2</pre> message:</strong> Note that the Gradescope autograder will deduct points if your code fails the following rubric point - 'incorrect logic is used to answer (-1)'. The public tests cannot determine if your code satisfies these requirements. Verify your code manually.</p><p><strong><pre style='display: inline;'>q1 - 3</pre> message:</strong> Note that the Gradescope autograder will deduct points if your code fails the following rubric point - '`planets_list` data structure is not used to answer (-1)'. The public tests cannot determine if your code satisfies these requirements. Verify your code manually.</p>"
      ],
      "text/plain": [
       "q1 results: All test cases passed!\n",
       "q1 - 2 message: Note that the Gradescope autograder will deduct points if your code fails the following rubric point - 'incorrect logic is used to answer (-1)'. The public tests cannot determine if your code satisfies these requirements. Verify your code manually.\n",
       "q1 - 3 message: Note that the Gradescope autograder will deduct points if your code fails the following rubric point - '`planets_list` data structure is not used to answer (-1)'. The public tests cannot determine if your code satisfies these requirements. Verify your code manually."
      ]
     },
     "execution_count": 18,
     "metadata": {},
     "output_type": "execute_result"
    }
   ],
   "source": [
    "grader.check(\"q1\")"
   ]
  },
  {
   "cell_type": "markdown",
   "id": "af99d856",
   "metadata": {
    "deletable": false,
    "editable": false
   },
   "source": [
    "The **ratios** of the three stars in this system appear to be very close to each other. It will be useful if we could quantify exactly how close these ratios are to each other. One way to do that would to be compute the [coefficient of variance](https://en.wikipedia.org/wiki/Coefficient_of_variation), which is defined as the **standard deviation** divided by the **mean** of a sequence of numbers. A low value would imply that the numbers are very **close** to each other."
   ]
  },
  {
   "cell_type": "markdown",
   "id": "0bab2002",
   "metadata": {
    "deletable": false,
    "editable": false
   },
   "source": [
    "**Question 2:** Compute the **coefficient of variance** of the **list** `ratios_gj9827`.\n",
    "\n",
    "**Hint:** You can compute the **standard deviation** and the **mean** of a **list** of numbers using the `statistics.stdev` and `statistics.mean` functions inside the `statistics` module. To do this, you must first **import** the `statistics` module. You can read the documentation for the `statistics.stdev` and `statistics.mean` functions by creating a new cell and using `help(statistics.mean)` and `help(statistics.mean)`."
   ]
  },
  {
   "cell_type": "code",
   "execution_count": 19,
   "id": "ccc96a1d",
   "metadata": {
    "execution": {
     "iopub.execute_input": "2023-11-15T16:44:17.485295Z",
     "iopub.status.busy": "2023-11-15T16:44:17.485295Z",
     "iopub.status.idle": "2023-11-15T16:44:17.491330Z",
     "shell.execute_reply": "2023-11-15T16:44:17.491330Z"
    },
    "tags": []
   },
   "outputs": [
    {
     "data": {
      "text/plain": [
       "0.000452112209723501"
      ]
     },
     "execution_count": 19,
     "metadata": {},
     "output_type": "execute_result"
    }
   ],
   "source": [
    "# compute and store the answer in the variable 'coeff_gj9827', then display it\n",
    "y = statistics.stdev(ratios_gj9827)\n",
    "x = statistics.mean(ratios_gj9827)\n",
    "\n",
    "coeff_gj9827 = y / x\n",
    "coeff_gj9827"
   ]
  },
  {
   "cell_type": "code",
   "execution_count": 20,
   "id": "89c60a3a",
   "metadata": {
    "deletable": false,
    "editable": false
   },
   "outputs": [
    {
     "data": {
      "text/html": [
       "<p><strong><pre style='display: inline;'>q2</pre></strong> passed! 🌈</p><p><strong><pre style='display: inline;'>q2 - 2</pre> message:</strong> Note that the Gradescope autograder will deduct points if your code fails the following rubric point - 'incorrect logic is used to answer (-1)'. The public tests cannot determine if your code satisfies these requirements. Verify your code manually.</p><p><strong><pre style='display: inline;'>q2 - 3</pre> message:</strong> Note that the Gradescope autograder will deduct points if your code fails the following rubric point - 'recomputed variable defined in Question 1 (-1)'. The public tests cannot determine if your code satisfies these requirements. Verify your code manually.</p>"
      ],
      "text/plain": [
       "q2 results: All test cases passed!\n",
       "q2 - 2 message: Note that the Gradescope autograder will deduct points if your code fails the following rubric point - 'incorrect logic is used to answer (-1)'. The public tests cannot determine if your code satisfies these requirements. Verify your code manually.\n",
       "q2 - 3 message: Note that the Gradescope autograder will deduct points if your code fails the following rubric point - 'recomputed variable defined in Question 1 (-1)'. The public tests cannot determine if your code satisfies these requirements. Verify your code manually."
      ]
     },
     "execution_count": 20,
     "metadata": {},
     "output_type": "execute_result"
    }
   ],
   "source": [
    "grader.check(\"q2\")"
   ]
  },
  {
   "cell_type": "markdown",
   "id": "dccf3b68",
   "metadata": {
    "deletable": false,
    "editable": false
   },
   "source": [
    "As we can see, the **coefficient of variance** is indeed very low. This lends credibility to Kepler's Third Law. However, there is yet more we can do with this data. After we adjust for the units used in our dataset, we find that Kepler's Third Law predicts the following:\n",
    "\n",
    "$$\\texttt{stellar mass} = \\frac{133408}{\\texttt{ratio}}$$\n",
    "\n",
    "where $\\texttt{ratio}$ is the **mean** of the ratios of the **square** of the `orbital_period` to the **cube** of the `semi_major_radius` computed above, and $\\texttt{stellar mass}$ is the mass of the planets' host star.\n",
    "\n",
    "We can therefore check how close this **predicted** `stellar_mass` is to the **actual** `stellar_mass` of the star."
   ]
  },
  {
   "cell_type": "markdown",
   "id": "b3439173",
   "metadata": {
    "deletable": false,
    "editable": false
   },
   "source": [
    "**Question 3:** Compute the percentage change of the **predicted** `stellar_mass` from the **actual** `stellar_mass` of the star *GJ 9827*.\n",
    "\n",
    "You **must** compute the **predicted** `stellar_mass` as the number *133408* divided by the **mean** of the ratios of the three planets computed in Question 1. You **must** find the **actual** `stellar_mass` by accessing the correct attribute of the `Star` object of *GJ 9827*. The percentage change can be computed as:\n",
    "\n",
    "$$\\texttt{percent change} = \\frac{\\texttt{predicted stellar mass} - \\texttt{actual stellar mass}}{\\texttt{actual stellar mass}} \\times 100$$"
   ]
  },
  {
   "cell_type": "code",
   "execution_count": 21,
   "id": "41e7253b",
   "metadata": {
    "execution": {
     "iopub.execute_input": "2023-11-15T16:44:17.531875Z",
     "iopub.status.busy": "2023-11-15T16:44:17.531875Z",
     "iopub.status.idle": "2023-11-15T16:44:17.538832Z",
     "shell.execute_reply": "2023-11-15T16:44:17.538116Z"
    },
    "tags": []
   },
   "outputs": [
    {
     "data": {
      "text/plain": [
       "-0.6256752095402645"
      ]
     },
     "execution_count": 21,
     "metadata": {},
     "output_type": "execute_result"
    }
   ],
   "source": [
    "# compute and store the answer in the variable 'percentage_change', then display it\n",
    "predicted_mass = 133408 / x\n",
    "for name, star in stars_dict.items():\n",
    "    if name.startswith('GJ 9827'):\n",
    "        real_mass = star.stellar_mass\n",
    "percentage_change = ((predicted_mass-real_mass)/(real_mass))*100\n",
    "percentage_change"
   ]
  },
  {
   "cell_type": "code",
   "execution_count": 22,
   "id": "5f43c083",
   "metadata": {
    "deletable": false,
    "editable": false
   },
   "outputs": [
    {
     "data": {
      "text/html": [
       "<p><strong><pre style='display: inline;'>q3</pre></strong> passed! 🌟</p><p><strong><pre style='display: inline;'>q3 - 2</pre> message:</strong> Note that the Gradescope autograder will deduct points if your code fails the following rubric point - 'incorrect logic is used to answer (-1)'. The public tests cannot determine if your code satisfies these requirements. Verify your code manually.</p><p><strong><pre style='display: inline;'>q3 - 3</pre> message:</strong> Note that the Gradescope autograder will deduct points if your code fails the following rubric point - 'recomputed variable defined in Question 1 (-1)'. The public tests cannot determine if your code satisfies these requirements. Verify your code manually.</p><p><strong><pre style='display: inline;'>q3 - 4</pre> message:</strong> Note that the Gradescope autograder will deduct points if your code fails the following rubric point - '`stars_dict` data structure is not used to answer (-1)'. The public tests cannot determine if your code satisfies these requirements. Verify your code manually.</p>"
      ],
      "text/plain": [
       "q3 results: All test cases passed!\n",
       "q3 - 2 message: Note that the Gradescope autograder will deduct points if your code fails the following rubric point - 'incorrect logic is used to answer (-1)'. The public tests cannot determine if your code satisfies these requirements. Verify your code manually.\n",
       "q3 - 3 message: Note that the Gradescope autograder will deduct points if your code fails the following rubric point - 'recomputed variable defined in Question 1 (-1)'. The public tests cannot determine if your code satisfies these requirements. Verify your code manually.\n",
       "q3 - 4 message: Note that the Gradescope autograder will deduct points if your code fails the following rubric point - '`stars_dict` data structure is not used to answer (-1)'. The public tests cannot determine if your code satisfies these requirements. Verify your code manually."
      ]
     },
     "execution_count": 22,
     "metadata": {},
     "output_type": "execute_result"
    }
   ],
   "source": [
    "grader.check(\"q3\")"
   ]
  },
  {
   "cell_type": "markdown",
   "id": "898e4a0a",
   "metadata": {
    "deletable": false,
    "editable": false
   },
   "source": [
    "#### Stefan-Boltzmann Law:\n",
    "\n",
    "We will now verify the [Stefan-Boltzmann Law](https://en.wikipedia.org/wiki/Stefan%E2%80%93Boltzmann_law). This law states that the `insolation_flux` of a *black body* is directly proportional to the **fourth** power of the `equilibrium_temperature`. In our dataset, we have the `insolation_flux` and `equilibrium_temperature` data of the `Planet` objects. So, we can verify how well this law is obeyed by the planets in our dataset."
   ]
  },
  {
   "cell_type": "markdown",
   "id": "fd8dd606",
   "metadata": {
    "deletable": false,
    "editable": false
   },
   "source": [
    "**Question 4:** Create a **scatter plot** representing the `insolation_flux` (on the **x-axis**) against the **fourth power** of the `equilibrium_temperature` (on the **y-axis**) of each `Planet` object in `planets_list`.\n",
    "\n",
    "You **must** ignore all `Planet` objects with **missing** `insolation_flux`, or `equilibrium_temperature` data.\n",
    "\n",
    "You **must** first compute two **lists** containing the **insolation_flux**, and the fourth power of the **equilibrium_temperature** of each `Planet` object (which has all the data available). Then, you **must** use `plot_scatter` to plot the **insolation_flux** against the fourth power of the **equilibrium_temperature**."
   ]
  },
  {
   "cell_type": "code",
   "execution_count": 23,
   "id": "e12fe649",
   "metadata": {
    "execution": {
     "iopub.execute_input": "2023-11-15T16:44:17.579078Z",
     "iopub.status.busy": "2023-11-15T16:44:17.579078Z",
     "iopub.status.idle": "2023-11-15T16:44:17.587540Z",
     "shell.execute_reply": "2023-11-15T16:44:17.586533Z"
    },
    "tags": []
   },
   "outputs": [],
   "source": [
    "# first compute and store the lists 'flux_list', and 'temp_4th_power_list'\n",
    "# do NOT display or plot just yet\n",
    "flux_list = []\n",
    "temp_4th_power_list = []\n",
    "\n",
    "for x in planets_list:\n",
    "    if x.insolation_flux is not None and x.equilibrium_temperature is not None:\n",
    "        flux_list.append(x.insolation_flux)\n",
    "        temp_4th_power_list.append(x.equilibrium_temperature ** 4)"
   ]
  },
  {
   "cell_type": "code",
   "execution_count": 24,
   "id": "2a2bf865",
   "metadata": {
    "deletable": false,
    "editable": false
   },
   "outputs": [
    {
     "data": {
      "text/html": [
       "<p><strong><pre style='display: inline;'>q4</pre></strong> passed! ✨</p><p><strong><pre style='display: inline;'>q4 - 2</pre> message:</strong> Note that the Gradescope autograder will deduct points if your code fails the following rubric point - 'incorrect logic is used to answer (-1)'. The public tests cannot determine if your code satisfies these requirements. Verify your code manually.</p><p><strong><pre style='display: inline;'>q4 - 3</pre> message:</strong> Note that the Gradescope autograder will deduct points if your code fails the following rubric point - '`planets_list` data structure is not used to answer (-1)'. The public tests cannot determine if your code satisfies these requirements. Verify your code manually.</p><p><strong><pre style='display: inline;'>q4 - 4</pre> message:</strong> Note that the Gradescope autograder will deduct points if your code fails the following rubric point - 'plot is incorrect (-1)'. The public tests cannot determine if your code satisfies these requirements. Verify your code manually.</p><p><strong><pre style='display: inline;'>q4 - 5</pre> message:</strong> Note that the Gradescope autograder will deduct points if your code fails the following rubric point - 'plot is not properly labeled (-1)'. The public tests cannot determine if your code satisfies these requirements. Verify your code manually.</p>"
      ],
      "text/plain": [
       "q4 results: All test cases passed!\n",
       "q4 - 2 message: Note that the Gradescope autograder will deduct points if your code fails the following rubric point - 'incorrect logic is used to answer (-1)'. The public tests cannot determine if your code satisfies these requirements. Verify your code manually.\n",
       "q4 - 3 message: Note that the Gradescope autograder will deduct points if your code fails the following rubric point - '`planets_list` data structure is not used to answer (-1)'. The public tests cannot determine if your code satisfies these requirements. Verify your code manually.\n",
       "q4 - 4 message: Note that the Gradescope autograder will deduct points if your code fails the following rubric point - 'plot is incorrect (-1)'. The public tests cannot determine if your code satisfies these requirements. Verify your code manually.\n",
       "q4 - 5 message: Note that the Gradescope autograder will deduct points if your code fails the following rubric point - 'plot is not properly labeled (-1)'. The public tests cannot determine if your code satisfies these requirements. Verify your code manually."
      ]
     },
     "execution_count": 24,
     "metadata": {},
     "output_type": "execute_result"
    }
   ],
   "source": [
    "grader.check(\"q4\")"
   ]
  },
  {
   "cell_type": "markdown",
   "id": "4ca063f6",
   "metadata": {
    "deletable": false,
    "editable": false
   },
   "source": [
    "Now, **plot** `flux_list` and `temp_4th_power_list` as **scatter plot** with the **x-axis** labelled *Insolation Flux*, and the **y-axis** labelled *(Equilibrium Temperature)\\*\\*4*.\n",
    "\n",
    "**Important Warning:** `public_tests.py` can check that the **lists** are correct, but it **cannot** check if your plot appears on the screen, or whether the axes are correctly labelled. If your plot is not visible in the required cell, or if it is not properly labelled, the Gradescope autograder will **deduct points**.\n",
    "\n",
    "Your plot should look like this:"
   ]
  },
  {
   "attachments": {
    "q4.png": {
     "image/png": "[encoded data removed]"
    }
   },
   "cell_type": "markdown",
   "id": "bcd19e35",
   "metadata": {
    "deletable": false,
    "editable": false
   },
   "source": [
    "<div><img src=\"attachment:q4.png\" width=\"400\"/></div>"
   ]
  },
  {
   "cell_type": "markdown",
   "id": "3b8c7d5a",
   "metadata": {
    "deletable": false,
    "editable": false
   },
   "source": [
    "**Hint:** If the `grader.export` cell fails to run because the file size is too large, you can delete the plot above to reduce the size of your notebook. Make sure your plot matches the plot above, before you do so."
   ]
  },
  {
   "cell_type": "code",
   "execution_count": 25,
   "id": "1ad0c854",
   "metadata": {
    "execution": {
     "iopub.execute_input": "2023-11-15T16:44:17.858690Z",
     "iopub.status.busy": "2023-11-15T16:44:17.858690Z",
     "iopub.status.idle": "2023-11-15T16:44:18.176964Z",
     "shell.execute_reply": "2023-11-15T16:44:18.175955Z"
    },
    "tags": []
   },
   "outputs": [
    {
     "data": {
      "image/png": "[encoded data removed]",
      "text/plain": [
       "<Figure size 640x480 with 1 Axes>"
      ]
     },
     "metadata": {},
     "output_type": "display_data"
    }
   ],
   "source": [
    "# create a scatter plot using 'flux_list' and 'temp_4th_power_list'\n",
    "plot_scatter(flux_list, temp_4th_power_list, x_label = 'Insolation Flux', y_label = '(Equilibrium Temperature)**4')"
   ]
  },
  {
   "cell_type": "markdown",
   "id": "1f20df9e",
   "metadata": {
    "deletable": false,
    "editable": false
   },
   "source": [
    "**Food for thought:** Why does this graph look so strange with all the points bunched up near the bottom-left corner?"
   ]
  },
  {
   "cell_type": "code",
   "execution_count": 26,
   "id": "3b99c423",
   "metadata": {
    "execution": {
     "iopub.execute_input": "2023-11-15T16:44:18.180965Z",
     "iopub.status.busy": "2023-11-15T16:44:18.180965Z",
     "iopub.status.idle": "2023-11-15T16:44:18.184377Z",
     "shell.execute_reply": "2023-11-15T16:44:18.184377Z"
    }
   },
   "outputs": [],
   "source": [
    "# Food for thought is an entirely OPTIONAL exercise\n",
    "# you may leave your thoughts here as a comment if you wish to\n"
   ]
  },
  {
   "cell_type": "markdown",
   "id": "d6e8d8f1",
   "metadata": {
    "deletable": false,
    "editable": false
   },
   "source": [
    "**Question 5:** Create the same **scatter plot** as above, but **exclude** planets with `insolation_flux` **more than** *7000*.\n",
    "\n",
    "You **must** ignore all `Planet` objects with **missing** `insolation_flux`, or `equilibrium_temperature` data. You **must** also exclude all `Planet` objects with `insolation_flux` more than *7000*.\n",
    "\n",
    "You **must** first compute two **lists** containing the **insolation_flux**, and the fourth power of the **equilibrium_temperature** of each `Planet` object (which has all the data available). Then, you **must** use `plot_scatter` to plot the **insolation_flux** against the fourth power of the **equilibrium_temperature**."
   ]
  },
  {
   "cell_type": "code",
   "execution_count": 27,
   "id": "f9f6277c",
   "metadata": {
    "execution": {
     "iopub.execute_input": "2023-11-15T16:44:18.185501Z",
     "iopub.status.busy": "2023-11-15T16:44:18.185501Z",
     "iopub.status.idle": "2023-11-15T16:44:18.198164Z",
     "shell.execute_reply": "2023-11-15T16:44:18.197157Z"
    },
    "tags": []
   },
   "outputs": [],
   "source": [
    "# first compute and store the lists 'flux_list_no_outliers', and 'temp_4th_power_list_no_outliers'\n",
    "# do NOT display or plot just yet\n",
    "flux_list_no_outliers = []\n",
    "temp_4th_power_list_no_outliers = []\n",
    "\n",
    "for x in planets_list:\n",
    "    if x.insolation_flux is not None and x.equilibrium_temperature is not None:\n",
    "        if x.insolation_flux < 7000:\n",
    "            flux_list_no_outliers.append(x.insolation_flux)\n",
    "            temp_4th_power_list_no_outliers.append(x.equilibrium_temperature ** 4)"
   ]
  },
  {
   "cell_type": "code",
   "execution_count": 28,
   "id": "96212ef2",
   "metadata": {
    "deletable": false,
    "editable": false
   },
   "outputs": [
    {
     "data": {
      "text/html": [
       "<p><strong><pre style='display: inline;'>q5</pre></strong> passed! 💯</p><p><strong><pre style='display: inline;'>q5 - 2</pre> message:</strong> Note that the Gradescope autograder will deduct points if your code fails the following rubric point - 'incorrect comparison operator is used (-1)'. The public tests cannot determine if your code satisfies these requirements. Verify your code manually.</p><p><strong><pre style='display: inline;'>q5 - 3</pre> message:</strong> Note that the Gradescope autograder will deduct points if your code fails the following rubric point - '`planets_list` data structure is not used to answer (-1)'. The public tests cannot determine if your code satisfies these requirements. Verify your code manually.</p><p><strong><pre style='display: inline;'>q5 - 4</pre> message:</strong> Note that the Gradescope autograder will deduct points if your code fails the following rubric point - 'plot is incorrect (-1)'. The public tests cannot determine if your code satisfies these requirements. Verify your code manually.</p><p><strong><pre style='display: inline;'>q5 - 5</pre> message:</strong> Note that the Gradescope autograder will deduct points if your code fails the following rubric point - 'plot is not properly labeled (-1)'. The public tests cannot determine if your code satisfies these requirements. Verify your code manually.</p>"
      ],
      "text/plain": [
       "q5 results: All test cases passed!\n",
       "q5 - 2 message: Note that the Gradescope autograder will deduct points if your code fails the following rubric point - 'incorrect comparison operator is used (-1)'. The public tests cannot determine if your code satisfies these requirements. Verify your code manually.\n",
       "q5 - 3 message: Note that the Gradescope autograder will deduct points if your code fails the following rubric point - '`planets_list` data structure is not used to answer (-1)'. The public tests cannot determine if your code satisfies these requirements. Verify your code manually.\n",
       "q5 - 4 message: Note that the Gradescope autograder will deduct points if your code fails the following rubric point - 'plot is incorrect (-1)'. The public tests cannot determine if your code satisfies these requirements. Verify your code manually.\n",
       "q5 - 5 message: Note that the Gradescope autograder will deduct points if your code fails the following rubric point - 'plot is not properly labeled (-1)'. The public tests cannot determine if your code satisfies these requirements. Verify your code manually."
      ]
     },
     "execution_count": 28,
     "metadata": {},
     "output_type": "execute_result"
    }
   ],
   "source": [
    "grader.check(\"q5\")"
   ]
  },
  {
   "cell_type": "markdown",
   "id": "e0328d2c",
   "metadata": {
    "deletable": false,
    "editable": false
   },
   "source": [
    "Now, **plot** `flux_list_no_outliers` and `temp_4th_power_list_no_outliers` as **scatter plot** with the **x-axis** labelled *Insolation Flux*, and the **y-axis** labelled *(Equilibrium Temperature)\\*\\*4*.\n",
    "\n",
    "**Important Warning:** `public_tests.py` can check that the **lists** are correct, but it **cannot** check if your plot appears on the screen, or whether the axes are correctly labelled. If your plot is not visible in the required cell, or if it is not properly labelled, the Gradescope autograder will **deduct points**.\n",
    "\n",
    "Your plot should look like this:"
   ]
  },
  {
   "attachments": {
    "q5.png": {
     "image/png": "[encoded data removed]"
    }
   },
   "cell_type": "markdown",
   "id": "0d9ce3f0",
   "metadata": {
    "deletable": false,
    "editable": false
   },
   "source": [
    "<div><img src=\"attachment:q5.png\" width=\"400\"/></div>"
   ]
  },
  {
   "cell_type": "markdown",
   "id": "7b933e1c",
   "metadata": {
    "deletable": false,
    "editable": false
   },
   "source": [
    "**Hint:** If the `grader.export` cell fails to run because the file size is too large, you can delete the plot above to reduce the size of your notebook. Make sure your plot matches the plot above, before you do so."
   ]
  },
  {
   "cell_type": "code",
   "execution_count": 29,
   "id": "0551009d",
   "metadata": {
    "execution": {
     "iopub.execute_input": "2023-11-15T16:44:18.565165Z",
     "iopub.status.busy": "2023-11-15T16:44:18.565165Z",
     "iopub.status.idle": "2023-11-15T16:44:18.845598Z",
     "shell.execute_reply": "2023-11-15T16:44:18.844568Z"
    },
    "tags": []
   },
   "outputs": [
    {
     "data": {
      "image/png": "[encoded data removed]",
      "text/plain": [
       "<Figure size 640x480 with 1 Axes>"
      ]
     },
     "metadata": {},
     "output_type": "display_data"
    }
   ],
   "source": [
    "# Create a scatter plot using 'flux_list_no_outliers' and 'temp_4th_power_list_no_outliers'\n",
    "plot_scatter(flux_list_no_outliers, temp_4th_power_list_no_outliers, x_label = 'Insolation Flux', y_label = '(Equilibrium Temperature)**4')"
   ]
  },
  {
   "cell_type": "markdown",
   "id": "5e3f3961",
   "metadata": {
    "deletable": false,
    "editable": false
   },
   "source": [
    "**Food for thought:** Does the relationship between **insolation flux** and the **fourth power of the equilibrium temperature** appear to be **linear** as predicted by the Stefan-Boltzmann Law? Can you explain why the graph isn't perfectly linear?"
   ]
  },
  {
   "cell_type": "code",
   "execution_count": 30,
   "id": "0e64cd0d",
   "metadata": {
    "execution": {
     "iopub.execute_input": "2023-11-15T16:44:18.849598Z",
     "iopub.status.busy": "2023-11-15T16:44:18.849598Z",
     "iopub.status.idle": "2023-11-15T16:44:18.854290Z",
     "shell.execute_reply": "2023-11-15T16:44:18.853275Z"
    }
   },
   "outputs": [],
   "source": [
    "# Food for thought is an entirely OPTIONAL exercise\n",
    "# you may leave your thoughts here as a comment if you wish to\n"
   ]
  },
  {
   "cell_type": "markdown",
   "id": "c5dce3b0",
   "metadata": {
    "deletable": false,
    "editable": false
   },
   "source": [
    "### Stellar Evolution:\n",
    "\n",
    "[Stellar Evolution](https://en.wikipedia.org/wiki/Stellar_evolution) is a description of the way that stars change with time. The primary factor determining how a star evolves is its `stellar_mass`. Depending on the `stellar_mass` of each `Star`, astronomers can predict how the `Star` will end up. A `Star` whose `stellar_mass` is $\\geq 0.3$ and $< 8$ times the mass of the Sun will become a [Red Giant](https://en.wikipedia.org/wiki/Red_giant), while a `Star` whose `stellar_mass` is $\\geq 8$ and $< 10.5$ times the mass of the Sun will become a [White Dwarf](https://en.wikipedia.org/wiki/White_dwarf). A `Star` that is even bigger will end up as a [Neutron Star](https://en.wikipedia.org/wiki/Neutron_star)."
   ]
  },
  {
   "cell_type": "markdown",
   "id": "0a91ea12",
   "metadata": {
    "deletable": false,
    "editable": false
   },
   "source": [
    "### Data Structure 1: `star_classes`\n",
    "\n",
    "You **must** now classify the `Star` objects in `stars_dict` using their `stellar_mass`. You **must** create a **dictionary** `star_classes` with the **keys**: `Red Giant`, `White Dwarf`, and `Neutron Star`. The **value** of each **key** must be a **list** of **strings** containing the **names** of the `Star` objects.\n",
    "\n",
    "You **must** **ignore** `Star` objects for which we do not have `stellar_mass` data or have `stellar_mass` **less** than *0.3* Solar masses.\n",
    "\n",
    "**Hint:** Recall that the `stellar_mass` data already uses units of *Solar masses*. So, a `stellar_mass` of *1* means that the `Star` object has the same mass as the Sun, and a `stellar_mass` of 2 means the `Star` object has twice the mass of the Sun, and so on."
   ]
  },
  {
   "cell_type": "code",
   "execution_count": 31,
   "id": "4c4b8a16",
   "metadata": {
    "execution": {
     "iopub.execute_input": "2023-11-15T16:44:18.858309Z",
     "iopub.status.busy": "2023-11-15T16:44:18.858309Z",
     "iopub.status.idle": "2023-11-15T16:44:18.879096Z",
     "shell.execute_reply": "2023-11-15T16:44:18.877083Z"
    },
    "tags": []
   },
   "outputs": [],
   "source": [
    "# define the variable 'star_classes' here\n",
    "# but do NOT display\n",
    "star_classes = {}\n",
    "star_classes['Red Giant'] = []\n",
    "star_classes['White Dwarf'] = []\n",
    "star_classes['Neutron Star'] = []\n",
    "for name, star in stars_dict.items():\n",
    "    if star.stellar_mass is not None and star.stellar_mass >= 0.3:\n",
    "        if star.stellar_mass < 8:\n",
    "            star_classes['Red Giant'].append(name)\n",
    "        elif star.stellar_mass > 10:\n",
    "            star_classes['Neutron Star'].append(name)    \n",
    "        else:\n",
    "            star_classes['White Dwarf'].append(name)"
   ]
  },
  {
   "cell_type": "code",
   "execution_count": 32,
   "id": "3e0d0aa6",
   "metadata": {
    "deletable": false,
    "editable": false
   },
   "outputs": [
    {
     "data": {
      "text/html": [
       "<p><strong><pre style='display: inline;'>star_classes</pre></strong> passed! 🙌</p><p><strong><pre style='display: inline;'>star_classes - 1</pre> message:</strong> Note that the Gradescope autograder will deduct points if your code fails the following rubric point - 'data structure is defined incorrectly (-1)'. The public tests cannot determine if your code satisfies these requirements. Verify your code manually.</p><p><strong><pre style='display: inline;'>star_classes - 2</pre> message:</strong> Note that the Gradescope autograder will deduct points if your code fails the following rubric point - 'incorrect comparison operators are used (-1)'. The public tests cannot determine if your code satisfies these requirements. Verify your code manually.</p><p><strong><pre style='display: inline;'>star_classes - 3</pre> message:</strong> Note that the Gradescope autograder will deduct points if your code fails the following rubric point - '`stars_dict` data structure is not used (-1)'. The public tests cannot determine if your code satisfies these requirements. Verify your code manually.</p>"
      ],
      "text/plain": [
       "star_classes results: All test cases passed!\n",
       "star_classes - 1 message: Note that the Gradescope autograder will deduct points if your code fails the following rubric point - 'data structure is defined incorrectly (-1)'. The public tests cannot determine if your code satisfies these requirements. Verify your code manually.\n",
       "star_classes - 2 message: Note that the Gradescope autograder will deduct points if your code fails the following rubric point - 'incorrect comparison operators are used (-1)'. The public tests cannot determine if your code satisfies these requirements. Verify your code manually.\n",
       "star_classes - 3 message: Note that the Gradescope autograder will deduct points if your code fails the following rubric point - '`stars_dict` data structure is not used (-1)'. The public tests cannot determine if your code satisfies these requirements. Verify your code manually."
      ]
     },
     "execution_count": 32,
     "metadata": {},
     "output_type": "execute_result"
    }
   ],
   "source": [
    "grader.check(\"star_classes\")"
   ]
  },
  {
   "cell_type": "markdown",
   "id": "639d8b0c",
   "metadata": {
    "deletable": false,
    "editable": false
   },
   "source": [
    "You can **verify** that you have defined `star_classes` correctly by checking that there are *3970* Red Giants, *3* White Dwarfs, and *1* Neutron Star in `star_classes`."
   ]
  },
  {
   "cell_type": "markdown",
   "id": "caffcf0b",
   "metadata": {
    "deletable": false,
    "editable": false
   },
   "source": [
    "**Question 6:** What is the **average** `stellar_luminosity` of each class of `Star` objects in `star_classes`?\n",
    "\n",
    "Your output **must** be a **dictionary** mapping the class of the star to the **average** `stellar_luminosity` value of all `Star` objects of that class. You **must** ignore the `Star` objects with **missing** `stellar_luminosity` data.\n",
    "\n",
    "The expected output of this question is:\n",
    "\n",
    "```python\n",
    "{'Red Giant': -0.025334640522875783,\n",
    " 'White Dwarf': 2.787333333333333,\n",
    " 'Neutron Star': 2.86}\n",
    "```"
   ]
  },
  {
   "cell_type": "code",
   "execution_count": 33,
   "id": "e00b7011",
   "metadata": {
    "execution": {
     "iopub.execute_input": "2023-11-15T16:44:18.950152Z",
     "iopub.status.busy": "2023-11-15T16:44:18.950152Z",
     "iopub.status.idle": "2023-11-15T16:44:18.965281Z",
     "shell.execute_reply": "2023-11-15T16:44:18.964271Z"
    },
    "tags": []
   },
   "outputs": [
    {
     "data": {
      "text/plain": [
       "{'Red Giant': -0.025334640522875717,\n",
       " 'White Dwarf': 2.787333333333333,\n",
       " 'Neutron Star': 2.86}"
      ]
     },
     "execution_count": 33,
     "metadata": {},
     "output_type": "execute_result"
    }
   ],
   "source": [
    "# compute and store the answer in the variable 'star_classes_avg_lum', then display it\n",
    "star_classes_avg_lum = {}\n",
    "for star_class in star_classes:\n",
    "    luminosity = []\n",
    "    for name in star_classes[star_class]:\n",
    "        star = stars_dict[name]\n",
    "        if star.stellar_luminosity is not None:\n",
    "            luminosity.append(star.stellar_luminosity)\n",
    "    if luminosity:\n",
    "        average = sum(luminosity) / len(luminosity)\n",
    "        star_classes_avg_lum[star_class] = average\n",
    "star_classes_avg_lum"
   ]
  },
  {
   "cell_type": "code",
   "execution_count": 34,
   "id": "5ea5a5f7",
   "metadata": {
    "deletable": false,
    "editable": false
   },
   "outputs": [
    {
     "data": {
      "text/html": [
       "<p><strong><pre style='display: inline;'>q6</pre></strong> passed! 🚀</p><p><strong><pre style='display: inline;'>q6 - 2</pre> message:</strong> Note that the Gradescope autograder will deduct points if your code fails the following rubric point - 'did not ignore the `Star` objects with missing `stellar_luminosity` data (-1)'. The public tests cannot determine if your code satisfies these requirements. Verify your code manually.</p><p><strong><pre style='display: inline;'>q6 - 3</pre> message:</strong> Note that the Gradescope autograder will deduct points if your code fails the following rubric point - 'incorrect logic is used to answer (-1)'. The public tests cannot determine if your code satisfies these requirements. Verify your code manually.</p><p><strong><pre style='display: inline;'>q6 - 4</pre> message:</strong> Note that the Gradescope autograder will deduct points if your code fails the following rubric point - '`star_classes` data structure is not used to answer (-1)'. The public tests cannot determine if your code satisfies these requirements. Verify your code manually.</p>"
      ],
      "text/plain": [
       "q6 results: All test cases passed!\n",
       "q6 - 2 message: Note that the Gradescope autograder will deduct points if your code fails the following rubric point - 'did not ignore the `Star` objects with missing `stellar_luminosity` data (-1)'. The public tests cannot determine if your code satisfies these requirements. Verify your code manually.\n",
       "q6 - 3 message: Note that the Gradescope autograder will deduct points if your code fails the following rubric point - 'incorrect logic is used to answer (-1)'. The public tests cannot determine if your code satisfies these requirements. Verify your code manually.\n",
       "q6 - 4 message: Note that the Gradescope autograder will deduct points if your code fails the following rubric point - '`star_classes` data structure is not used to answer (-1)'. The public tests cannot determine if your code satisfies these requirements. Verify your code manually."
      ]
     },
     "execution_count": 34,
     "metadata": {},
     "output_type": "execute_result"
    }
   ],
   "source": [
    "grader.check(\"q6\")"
   ]
  },
  {
   "cell_type": "markdown",
   "id": "4011b0c7",
   "metadata": {
    "deletable": false,
    "editable": false
   },
   "source": [
    "**Food for thought:** Recall that the `stellar_luminosity` values of the `Star` objects are represented in units of the logarithm of the Sun's luminosity. What does this difference in `stellar_luminosity` signify?"
   ]
  },
  {
   "cell_type": "code",
   "execution_count": 35,
   "id": "d13cce68",
   "metadata": {
    "execution": {
     "iopub.execute_input": "2023-11-15T16:44:19.015474Z",
     "iopub.status.busy": "2023-11-15T16:44:19.015474Z",
     "iopub.status.idle": "2023-11-15T16:44:19.019011Z",
     "shell.execute_reply": "2023-11-15T16:44:19.019011Z"
    }
   },
   "outputs": [],
   "source": [
    "# Food for thought is an entirely OPTIONAL exercise\n",
    "# you may leave your thoughts here as a comment if you wish to\n"
   ]
  },
  {
   "cell_type": "markdown",
   "id": "fcd8e759",
   "metadata": {
    "deletable": false,
    "editable": false
   },
   "source": [
    "Just as the different classes of `Star` objects have different **average luminosities**, they also have different **average densities**. This difference will be easier to visualize as a **scatter plot**.\n",
    "\n",
    "However, before you can do that, there is a minor hurdle you need to overcome - we do **not** have the *stellar density* data available for the `Star` objects in our dataset. However, we do have `stellar_mass` and `stellar_radius` data, which allows us to **compute** the *stellar density*. Since the `stellar_mass` and `stellar_radius` data is stored in units of the Sun's mass and radius respectively, we can compute the *stellar density* (i.e., density of the `Star` in units of the Sun's density) as follows:\n",
    "\n",
    "$$\\texttt{stellar density} = \\frac{\\texttt{stellar mass}}{(\\texttt{stellar radius})^{3}}.$$"
   ]
  },
  {
   "cell_type": "markdown",
   "id": "8ad9b993",
   "metadata": {
    "deletable": false,
    "editable": false
   },
   "source": [
    "**Question 7:** Create a **scatter plot** representing the *stellar density* (on the **x-axis**) against the `stellar_luminosity` (on the **y-axis**) of each `Star` object of **each class** in `star_classes`.\n",
    "\n",
    "You **must** ignore all `Star` objects with **missing** `stellar_mass`, `stellar_radius`, or `stellar_luminosity` data.\n",
    "\n",
    "You **must** first compute two **dictionaries**. The **keys** of both dictionaries must be the different **star classes**, and the corresponding values must be the **list** of **densities** and **list** of **luminosities** of `Star` objects of that **star class**. Then, you **must** use `plot_scatter_multiple` to plot the **density** against the **luminosity** of each **star class**."
   ]
  },
  {
   "cell_type": "code",
   "execution_count": 36,
   "id": "e62245f0",
   "metadata": {
    "execution": {
     "iopub.execute_input": "2023-11-15T16:44:19.025022Z",
     "iopub.status.busy": "2023-11-15T16:44:19.024018Z",
     "iopub.status.idle": "2023-11-15T16:44:19.039046Z",
     "shell.execute_reply": "2023-11-15T16:44:19.038034Z"
    },
    "tags": []
   },
   "outputs": [],
   "source": [
    "# first compute and store the dictionaries 'density_dict', and 'lum_dict'\n",
    "density_dict = {}\n",
    "lum_dict = {}\n",
    "for x in star_classes:\n",
    "    density_dict[x] = []\n",
    "    lum_dict[x] = []\n",
    "    for name in star_classes[x]:\n",
    "        star = stars_dict[name]\n",
    "        if star.stellar_mass is not None and star.stellar_radius is not None and star.stellar_luminosity is not None:\n",
    "            density_dict[x].append(star.stellar_mass / star.stellar_radius**3)\n",
    "            lum_dict[x].append(star.stellar_luminosity)\n",
    "        "
   ]
  },
  {
   "cell_type": "code",
   "execution_count": 37,
   "id": "77910e67",
   "metadata": {
    "deletable": false,
    "editable": false
   },
   "outputs": [
    {
     "data": {
      "text/html": [
       "<p><strong><pre style='display: inline;'>q7</pre></strong> passed! 💯</p><p><strong><pre style='display: inline;'>q7 - 2</pre> message:</strong> Note that the Gradescope autograder will deduct points if your code fails the following rubric point - 'incorrect logic is used to answer (-1)'. The public tests cannot determine if your code satisfies these requirements. Verify your code manually.</p><p><strong><pre style='display: inline;'>q7 - 3</pre> message:</strong> Note that the Gradescope autograder will deduct points if your code fails the following rubric point - '`star_classes` data structure is not used to answer (-1)'. The public tests cannot determine if your code satisfies these requirements. Verify your code manually.</p><p><strong><pre style='display: inline;'>q7 - 4</pre> message:</strong> Note that the Gradescope autograder will deduct points if your code fails the following rubric point - 'plot is incorrect (-1)'. The public tests cannot determine if your code satisfies these requirements. Verify your code manually.</p><p><strong><pre style='display: inline;'>q7 - 5</pre> message:</strong> Note that the Gradescope autograder will deduct points if your code fails the following rubric point - 'plot is not properly labeled (-1)'. The public tests cannot determine if your code satisfies these requirements. Verify your code manually.</p>"
      ],
      "text/plain": [
       "q7 results: All test cases passed!\n",
       "q7 - 2 message: Note that the Gradescope autograder will deduct points if your code fails the following rubric point - 'incorrect logic is used to answer (-1)'. The public tests cannot determine if your code satisfies these requirements. Verify your code manually.\n",
       "q7 - 3 message: Note that the Gradescope autograder will deduct points if your code fails the following rubric point - '`star_classes` data structure is not used to answer (-1)'. The public tests cannot determine if your code satisfies these requirements. Verify your code manually.\n",
       "q7 - 4 message: Note that the Gradescope autograder will deduct points if your code fails the following rubric point - 'plot is incorrect (-1)'. The public tests cannot determine if your code satisfies these requirements. Verify your code manually.\n",
       "q7 - 5 message: Note that the Gradescope autograder will deduct points if your code fails the following rubric point - 'plot is not properly labeled (-1)'. The public tests cannot determine if your code satisfies these requirements. Verify your code manually."
      ]
     },
     "execution_count": 37,
     "metadata": {},
     "output_type": "execute_result"
    }
   ],
   "source": [
    "grader.check(\"q7\")"
   ]
  },
  {
   "cell_type": "markdown",
   "id": "88e3fac3",
   "metadata": {
    "deletable": false,
    "editable": false
   },
   "source": [
    "Now, **plot** `density_dict` and `lum_dict` as **scatter plot** with the **x-axis** labelled *Density*, and the **y-axis** labelled *Luminosity*.\n",
    "\n",
    "**Important Warning:** `public_tests.py` can check that the **lists** are correct, but it **cannot** check if your plot appears on the screen, or whether the axes are correctly labelled. If your plot is not visible in the required cell, or if it is not properly labelled, the Gradescope autograder will **deduct points**.\n",
    "\n",
    "Your plot should look like this:"
   ]
  },
  {
   "attachments": {
    "q7.png": {
     "image/png": "[encoded data removed]"
    }
   },
   "cell_type": "markdown",
   "id": "4b63b55c",
   "metadata": {
    "deletable": false,
    "editable": false
   },
   "source": [
    "<div><img src=\"attachment:q7.png\" width=\"400\"/></div>"
   ]
  },
  {
   "cell_type": "markdown",
   "id": "65921f9e",
   "metadata": {
    "deletable": false,
    "editable": false
   },
   "source": [
    "**Hint:** If the `grader.export` cell fails to run because the file size is too large, you can delete the plot above to reduce the size of your notebook. Make sure your plot matches the plot above, before you do so."
   ]
  },
  {
   "cell_type": "code",
   "execution_count": 38,
   "id": "bb3bdb77",
   "metadata": {
    "execution": {
     "iopub.execute_input": "2023-11-15T16:44:19.355076Z",
     "iopub.status.busy": "2023-11-15T16:44:19.354073Z",
     "iopub.status.idle": "2023-11-15T16:44:19.844298Z",
     "shell.execute_reply": "2023-11-15T16:44:19.843288Z"
    },
    "tags": []
   },
   "outputs": [
    {
     "data": {
      "image/png": "[encoded data removed]",
      "text/plain": [
       "<Figure size 640x480 with 1 Axes>"
      ]
     },
     "metadata": {},
     "output_type": "display_data"
    }
   ],
   "source": [
    "# plot 'density_dict' and 'lum_dict'\n",
    "plot_scatter_multiple(density_dict, lum_dict, x_label = 'Density', y_label = 'Luminosity')"
   ]
  },
  {
   "cell_type": "markdown",
   "id": "264c70ea",
   "metadata": {
    "deletable": false,
    "editable": false
   },
   "source": [
    "**Food for thought:** As you can see, there are **two** extreme outliers with a very high density. If you are interested, you can try to find out the names of these stars, and why they have such extremely high densities (and low luminosities). What (**incorrect**) assumption did we make when we classified the `Star` objects in `star_classes`? Can you suggest a more **accurate** way of classifying the stars now, based on the data we have observed?"
   ]
  },
  {
   "cell_type": "code",
   "execution_count": 39,
   "id": "382a8483",
   "metadata": {
    "execution": {
     "iopub.execute_input": "2023-11-15T16:44:19.848318Z",
     "iopub.status.busy": "2023-11-15T16:44:19.848318Z",
     "iopub.status.idle": "2023-11-15T16:44:19.853061Z",
     "shell.execute_reply": "2023-11-15T16:44:19.852052Z"
    }
   },
   "outputs": [],
   "source": [
    "# Food for thought is an entirely OPTIONAL exercise\n",
    "# you may leave your thoughts here as a comment if you wish to\n"
   ]
  },
  {
   "cell_type": "markdown",
   "id": "acf3fd31",
   "metadata": {
    "deletable": false,
    "editable": false
   },
   "source": [
    "As you can see, almost all the `Star` objects have low *stellar density*, and the presence of a few extreme outliers is obscuring our view of the other `Star` objects. In fact, it turns out that there are only *26* `Star` objects in the dataset with a *stellar density* **greater than** *25*. We could get a much clearer view of the relationship between *stellar density* and `stellar_luminosity` if we did **not** plot these outliers."
   ]
  },
  {
   "cell_type": "markdown",
   "id": "a59cf942",
   "metadata": {
    "deletable": false,
    "editable": false
   },
   "source": [
    "**Question 8:** Create the same **scatter plot** as above, but exclude stars with *stellar density* **more than** *25*.\n",
    "\n",
    "You **must** ignore all `Star` objects with **missing** `stellar_mass`, `stellar_radius`, or `stellar_luminosity` data. You **must** also ignore all `Star` objects with *stellar density* more than *25*.\n",
    "\n",
    "You **must** first compute two **dictionaries**. The **keys** of both dictionaries must be the different **star classes**, and the corresponding values must be the **list** of **densities** and **list** of **luminosities** of `Star` objects of that **star class**. Then, you **must** use `plot_scatter_multiple` to plot the **density** against the **luminosity** of each **star class**."
   ]
  },
  {
   "cell_type": "code",
   "execution_count": 40,
   "id": "e05f4d55",
   "metadata": {
    "execution": {
     "iopub.execute_input": "2023-11-15T16:44:19.858062Z",
     "iopub.status.busy": "2023-11-15T16:44:19.857061Z",
     "iopub.status.idle": "2023-11-15T16:44:19.874782Z",
     "shell.execute_reply": "2023-11-15T16:44:19.873773Z"
    },
    "tags": []
   },
   "outputs": [],
   "source": [
    "# first compute and store the dictionaries 'density_dict_no_outliers', and 'lum_dict_no_outliers'\n",
    "# do NOT plot just yet\n",
    "density_dict_no_outliers = {}\n",
    "lum_dict_no_outliers = {}\n",
    "for x in star_classes:\n",
    "    density_dict_no_outliers[x] = []\n",
    "    lum_dict_no_outliers[x] = []\n",
    "    for name in star_classes[x]:\n",
    "        star = stars_dict[name]\n",
    "        if star.stellar_mass is not None and star.stellar_radius is not None and star.stellar_luminosity is not None:\n",
    "            density = (star.stellar_mass / star.stellar_radius**3)\n",
    "            if density < 25:\n",
    "                density_dict_no_outliers[x].append(density)\n",
    "                lum_dict_no_outliers[x].append(star.stellar_luminosity)"
   ]
  },
  {
   "cell_type": "code",
   "execution_count": 41,
   "id": "17786cee",
   "metadata": {
    "deletable": false,
    "editable": false
   },
   "outputs": [
    {
     "data": {
      "text/html": [
       "<p><strong><pre style='display: inline;'>q8</pre></strong> passed! 🌈</p><p><strong><pre style='display: inline;'>q8 - 2</pre> message:</strong> Note that the Gradescope autograder will deduct points if your code fails the following rubric point - 'incorrect comparison operator is used (-1)'. The public tests cannot determine if your code satisfies these requirements. Verify your code manually.</p><p><strong><pre style='display: inline;'>q8 - 3</pre> message:</strong> Note that the Gradescope autograder will deduct points if your code fails the following rubric point - '`star_classes` data structure is not used to answer (-1)'. The public tests cannot determine if your code satisfies these requirements. Verify your code manually.</p><p><strong><pre style='display: inline;'>q8 - 4</pre> message:</strong> Note that the Gradescope autograder will deduct points if your code fails the following rubric point - 'plot is incorrect (-1)'. The public tests cannot determine if your code satisfies these requirements. Verify your code manually.</p><p><strong><pre style='display: inline;'>q8 - 5</pre> message:</strong> Note that the Gradescope autograder will deduct points if your code fails the following rubric point - 'plot is not properly labeled (-1)'. The public tests cannot determine if your code satisfies these requirements. Verify your code manually.</p>"
      ],
      "text/plain": [
       "q8 results: All test cases passed!\n",
       "q8 - 2 message: Note that the Gradescope autograder will deduct points if your code fails the following rubric point - 'incorrect comparison operator is used (-1)'. The public tests cannot determine if your code satisfies these requirements. Verify your code manually.\n",
       "q8 - 3 message: Note that the Gradescope autograder will deduct points if your code fails the following rubric point - '`star_classes` data structure is not used to answer (-1)'. The public tests cannot determine if your code satisfies these requirements. Verify your code manually.\n",
       "q8 - 4 message: Note that the Gradescope autograder will deduct points if your code fails the following rubric point - 'plot is incorrect (-1)'. The public tests cannot determine if your code satisfies these requirements. Verify your code manually.\n",
       "q8 - 5 message: Note that the Gradescope autograder will deduct points if your code fails the following rubric point - 'plot is not properly labeled (-1)'. The public tests cannot determine if your code satisfies these requirements. Verify your code manually."
      ]
     },
     "execution_count": 41,
     "metadata": {},
     "output_type": "execute_result"
    }
   ],
   "source": [
    "grader.check(\"q8\")"
   ]
  },
  {
   "cell_type": "markdown",
   "id": "e97dc5e0",
   "metadata": {
    "deletable": false,
    "editable": false
   },
   "source": [
    "Now, **plot** `density_dict_no_outliers` and `lum_dict_no_outliers` as **scatter plot** with the **x-axis** labelled *Density*, and the **y-axis** labelled *Luminosity*.\n",
    "\n",
    "**Important Warning:** `public_tests.py` can check that the **lists** are correct, but it **cannot** check if your plot appears on the screen, or whether the axes are correctly labelled. If your plot is not visible in the required cell, or if it is not properly labelled, the Gradescope autograder will **deduct points**.\n",
    "\n",
    "Your plot should look like this:"
   ]
  },
  {
   "attachments": {
    "q8.png": {
     "image/png": "[encoded data removed]"
    }
   },
   "cell_type": "markdown",
   "id": "0d33a3ef",
   "metadata": {
    "deletable": false,
    "editable": false
   },
   "source": [
    "<div><img src=\"attachment:q8.png\" width=\"400\"/></div>"
   ]
  },
  {
   "cell_type": "markdown",
   "id": "9fcb18ef",
   "metadata": {
    "deletable": false,
    "editable": false
   },
   "source": [
    "**Hint:** If the `grader.export` cell fails to run because the file size is too large, you can delete the plot above to reduce the size of your notebook. Make sure your plot matches the plot above, before you do so."
   ]
  },
  {
   "cell_type": "code",
   "execution_count": 42,
   "id": "ca05890a",
   "metadata": {
    "execution": {
     "iopub.execute_input": "2023-11-15T16:44:20.194444Z",
     "iopub.status.busy": "2023-11-15T16:44:20.194444Z",
     "iopub.status.idle": "2023-11-15T16:44:20.652586Z",
     "shell.execute_reply": "2023-11-15T16:44:20.651573Z"
    },
    "tags": []
   },
   "outputs": [
    {
     "data": {
      "image/png": "[encoded data removed]",
      "text/plain": [
       "<Figure size 640x480 with 1 Axes>"
      ]
     },
     "metadata": {},
     "output_type": "display_data"
    }
   ],
   "source": [
    "# plot 'density_dict_no_outliers' and 'lum_dict_no_outliers'\n",
    "plot_scatter_multiple(density_dict_no_outliers, lum_dict_no_outliers, x_label = 'Density', y_label = 'Luminosity')"
   ]
  },
  {
   "cell_type": "markdown",
   "id": "9ed81454",
   "metadata": {
    "deletable": false,
    "editable": false
   },
   "source": [
    "**Food for thought:** Can you guess the relationship between **density** and **luminosity**? Can you spot the `Star` objects in this graph which will end up as White Dwarfs and Neutron Stars? Do they appear to follow the same relationship as the Red Giants? How do they compare to the outliers you found in Question 7?"
   ]
  },
  {
   "cell_type": "code",
   "execution_count": 43,
   "id": "f52cd2c2",
   "metadata": {
    "execution": {
     "iopub.execute_input": "2023-11-15T16:44:20.658604Z",
     "iopub.status.busy": "2023-11-15T16:44:20.657583Z",
     "iopub.status.idle": "2023-11-15T16:44:20.662817Z",
     "shell.execute_reply": "2023-11-15T16:44:20.661787Z"
    }
   },
   "outputs": [],
   "source": [
    "# Food for thought is an entirely OPTIONAL exercise\n",
    "# you may leave your thoughts here as a comment if you wish to\n"
   ]
  },
  {
   "cell_type": "markdown",
   "id": "ee254b68",
   "metadata": {
    "deletable": false,
    "editable": false
   },
   "source": [
    "### Hertzsprung–Russell Diagram:\n",
    "\n",
    "The [Hertzsprung–Russell diagram](https://en.wikipedia.org/wiki/Hertzsprung%E2%80%93Russell_diagram) is a scatter plot of stars showing the relationship between the stars' `stellar_luminosity` versus their `stellar_effective_temperature`. The diagram is exceedingly useful for understanding the stellar evolution of stars. We will now use the data we have available to plot this diagram ourselves, so we can better understand stellar evolution.\n",
    "\n",
    "We want to plot the `stellar_effective_temperature` against the `stellar_luminosity`, but more importantly, we will use the **color** and **size** parameters to represent the `stellar_age` and `stellar_mass` of the `Star` objects as well. This will allow us to see the effects of `stellar_age` and `stellar_mass` on `stellar_effective_temperature` and `stellar_luminosity`."
   ]
  },
  {
   "cell_type": "markdown",
   "id": "14422302",
   "metadata": {
    "deletable": false,
    "editable": false
   },
   "source": [
    "**Question 9:** Create a **scatter plot** representing the `stellar_effective_temperature` (on the **x-axis**) against the `stellar_luminosity` (on the **y-axis**) of each `Star` object in `stars_dict`. Moreover, represent the `stellar_age` of each `Star` object using the **color** and represent the `stellar_mass` of each `Star` object using the **size** of the star.\n",
    "\n",
    "You **must** first compute four **lists** containing the `stellar_effective_temperature`, `stellar_luminosity`, `stellar_age` and the `stellar_mass` of each `Star` object (which has **all** the data available). You **must** ignore any `Star` object which has any of these four attributes **missing**. Then, you **must** use `plot_scatter` to plot the `stellar_effective_temperature` against the `stellar_luminosity` with the `stellar_age` as the **color** and the `stellar_mass` as the **size** of the points."
   ]
  },
  {
   "cell_type": "code",
   "execution_count": 44,
   "id": "2e3308a4",
   "metadata": {
    "execution": {
     "iopub.execute_input": "2023-11-15T16:44:20.666797Z",
     "iopub.status.busy": "2023-11-15T16:44:20.666797Z",
     "iopub.status.idle": "2023-11-15T16:44:20.681752Z",
     "shell.execute_reply": "2023-11-15T16:44:20.680742Z"
    },
    "tags": []
   },
   "outputs": [],
   "source": [
    "# first compute and store the lists 'temp_list', 'lum_list', 'age_list', and 'mass_list'\n",
    "# do NOT plot just yet\n",
    "temp_list = []\n",
    "lum_list = []\n",
    "age_list = []\n",
    "mass_list = []\n",
    "for name, star in stars_dict.items():\n",
    "    if star.stellar_effective_temperature is not None and star.stellar_luminosity is not None and star.stellar_age is not None and star.stellar_mass is not None:\n",
    "        temp_list.append(star.stellar_effective_temperature)\n",
    "        lum_list.append(star.stellar_luminosity)\n",
    "        age_list.append(star.stellar_age)\n",
    "        mass_list.append(star.stellar_mass)"
   ]
  },
  {
   "cell_type": "code",
   "execution_count": 45,
   "id": "a2450c2c",
   "metadata": {
    "deletable": false,
    "editable": false
   },
   "outputs": [
    {
     "data": {
      "text/html": [
       "<p><strong><pre style='display: inline;'>q9</pre></strong> passed! 🍀</p><p><strong><pre style='display: inline;'>q9 - 2</pre> message:</strong> Note that the Gradescope autograder will deduct points if your code fails the following rubric point - 'incorrect logic is used to answer (-1)'. The public tests cannot determine if your code satisfies these requirements. Verify your code manually.</p><p><strong><pre style='display: inline;'>q9 - 3</pre> message:</strong> Note that the Gradescope autograder will deduct points if your code fails the following rubric point - '`stars_dict` data structure is not used to answer (-1)'. The public tests cannot determine if your code satisfies these requirements. Verify your code manually.</p><p><strong><pre style='display: inline;'>q9 - 4</pre> message:</strong> Note that the Gradescope autograder will deduct points if your code fails the following rubric point - 'plot is incorrect (-1)'. The public tests cannot determine if your code satisfies these requirements. Verify your code manually.</p><p><strong><pre style='display: inline;'>q9 - 5</pre> message:</strong> Note that the Gradescope autograder will deduct points if your code fails the following rubric point - 'plot is not properly labeled (-1)'. The public tests cannot determine if your code satisfies these requirements. Verify your code manually.</p>"
      ],
      "text/plain": [
       "q9 results: All test cases passed!\n",
       "q9 - 2 message: Note that the Gradescope autograder will deduct points if your code fails the following rubric point - 'incorrect logic is used to answer (-1)'. The public tests cannot determine if your code satisfies these requirements. Verify your code manually.\n",
       "q9 - 3 message: Note that the Gradescope autograder will deduct points if your code fails the following rubric point - '`stars_dict` data structure is not used to answer (-1)'. The public tests cannot determine if your code satisfies these requirements. Verify your code manually.\n",
       "q9 - 4 message: Note that the Gradescope autograder will deduct points if your code fails the following rubric point - 'plot is incorrect (-1)'. The public tests cannot determine if your code satisfies these requirements. Verify your code manually.\n",
       "q9 - 5 message: Note that the Gradescope autograder will deduct points if your code fails the following rubric point - 'plot is not properly labeled (-1)'. The public tests cannot determine if your code satisfies these requirements. Verify your code manually."
      ]
     },
     "execution_count": 45,
     "metadata": {},
     "output_type": "execute_result"
    }
   ],
   "source": [
    "grader.check(\"q9\")"
   ]
  },
  {
   "cell_type": "markdown",
   "id": "11398b3f",
   "metadata": {
    "deletable": false,
    "editable": false
   },
   "source": [
    "Now, **plot** `temp_list` and `lum_list` as **scatter plot** with the **x-axis** labelled *Effective Temperature*, and the **y-axis** labelled *Luminosity*, **colored** using `age_list`, and **sized** using `mass_list`. Your plot should look like this:"
   ]
  },
  {
   "attachments": {
    "q9.png": {
     "image/png": "[encoded data removed]"
    }
   },
   "cell_type": "markdown",
   "id": "9563e9a4",
   "metadata": {
    "deletable": false,
    "editable": false
   },
   "source": [
    "<div><img src=\"attachment:q9.png\" width=\"400\"/></div>"
   ]
  },
  {
   "cell_type": "markdown",
   "id": "6ae58612",
   "metadata": {
    "deletable": false,
    "editable": false
   },
   "source": [
    "**Hint:** If the `grader.export` cell fails to run because the file size is too large, you can delete the plot above to reduce the size of your notebook. Make sure your plot matches the plot above, before you do so."
   ]
  },
  {
   "cell_type": "code",
   "execution_count": 46,
   "id": "c961e343",
   "metadata": {
    "execution": {
     "iopub.execute_input": "2023-11-15T16:44:21.119940Z",
     "iopub.status.busy": "2023-11-15T16:44:21.119940Z",
     "iopub.status.idle": "2023-11-15T16:44:21.482938Z",
     "shell.execute_reply": "2023-11-15T16:44:21.481927Z"
    },
    "tags": []
   },
   "outputs": [
    {
     "data": {
      "image/png": "[encoded data removed]",
      "text/plain": [
       "<Figure size 640x480 with 1 Axes>"
      ]
     },
     "metadata": {},
     "output_type": "display_data"
    }
   ],
   "source": [
    "# plot 'temp_list' and 'lum_list' with 'age_list' as colors and 'mass_list' as sizes\n",
    "plot_scatter(temp_list, lum_list, x_label = 'Effective Temperature', y_label = 'Luminosity', c = age_list, s = mass_list)"
   ]
  },
  {
   "cell_type": "markdown",
   "id": "63145a7c",
   "metadata": {
    "deletable": false,
    "editable": false
   },
   "source": [
    "**Food for thought:** Can you tell if there is any relationship between the **temperature**, **luminosity**, **age**, and **mass** of the stars? You might want to remove the outliers with the extremely high `stellar_effective_temperature` to get a better view of the diagram. What effect does the **age** seem to have on the **temperature**? Recall that a **lighter** color implies that the value is higher, while a **darker** color implies that the value is lower. What effect does the **mass** have?\n",
    "\n",
    "**Food for thought:** Notice that there are **two distinct** *clusters* of points in this diagram. If you are interested, look up more information on the Hertzsprung–Russell Diagram to understand what these clusters are. "
   ]
  },
  {
   "cell_type": "code",
   "execution_count": 47,
   "id": "93eb0c3e",
   "metadata": {
    "execution": {
     "iopub.execute_input": "2023-11-15T16:44:21.486938Z",
     "iopub.status.busy": "2023-11-15T16:44:21.486938Z",
     "iopub.status.idle": "2023-11-15T16:44:21.491998Z",
     "shell.execute_reply": "2023-11-15T16:44:21.490963Z"
    }
   },
   "outputs": [],
   "source": [
    "# Food for thought is an entirely OPTIONAL exercise\n",
    "# you may leave your thoughts here as a comment if you wish to\n"
   ]
  },
  {
   "cell_type": "markdown",
   "id": "d89ec375",
   "metadata": {
    "deletable": false,
    "editable": false
   },
   "source": [
    "### Recursion:\n",
    "\n",
    "You are not done exploring the dataset, and you have more questions left to answer. However, something more important has happened! We have managed to find the data from the corrupted json file (`mapping_5.json`)!\n",
    "\n",
    "If you will recall, when we were parsing the files in P10, we found that `mapping_5.json` was **broken**, and we couldn't read it. Therefore, we had no choice but to leave all the planets in `planets_5.csv` out of our analysis. Luckily for you now, the data has shown up intact in the directory `broken_data`. Unfortunately, the data is now no longer stored in a single file, but has been **split up** into **multiple files** and stored in **different subdirectories**.\n",
    "\n",
    "You will now create a function to help parse all the data stored within this directory."
   ]
  },
  {
   "cell_type": "markdown",
   "id": "e17445cb",
   "metadata": {
    "deletable": false,
    "editable": false
   },
   "source": [
    "### Function 1:  `get_all_paths_in(directory)`\n",
    "\n",
    "You **must** write this function that takes in the **relative path** of a `directory` as its input, and returns a **list** of **relative paths** of all the **files** inside `directory` and its subdirectories.\n",
    "\n",
    "In other words, if a directory `sample_data` looks like this:\n",
    "```\n",
    "+-- sample_data\n",
    "|   +-- .DS_Store\n",
    "|   +-- file_1.json\n",
    "|   +-- sample_1\n",
    "|   |   +-- .ipynb_checkpoints\n",
    "|   |   +-- file_2.json\n",
    "|   |   +-- file_3.json\n",
    "|   +-- sample_2\n",
    "|   |   +-- file_4.json\n",
    "|   |   +-- sample_3\n",
    "|   |   |   +-- .DS_Store\n",
    "|   |   |   +-- file_5.json\n",
    "```\n",
    "\n",
    "then the output of the function call `get_all_paths_in(\"sample_data\")` **must** be a **list** containing the **relative paths** of the files `file_5.json`, `files_4.json`, `file_3.json`, `file_2.json`, and `file_1.json`.\n",
    "\n",
    "You **must** **ignore** all files that start with `\".\"`, and your output **must** be **explicitly** sorted in **reverse alphabetical** order.\n",
    "\n",
    "**Important Warning:** You **must** write a **recursive** function here. You are **only allowed** to use the functions from the `os` module, which have been covered in lecture. Here is a list of these functions (you will only need a few of these functions to define `get_all_paths_in`):\n",
    "* `os.mkdir`\n",
    "* `os.path.join`\n",
    "* `os.listdir`\n",
    "* `os.path.exists`\n",
    "* `os.path.isfile`\n",
    "* `os.path.isdir`\n",
    "\n",
    "You may copy/paste this function from Lab-P11 if you finished writing it there."
   ]
  },
  {
   "cell_type": "code",
   "execution_count": 48,
   "id": "8517fd60",
   "metadata": {
    "execution": {
     "iopub.execute_input": "2023-11-15T16:44:21.495999Z",
     "iopub.status.busy": "2023-11-15T16:44:21.494976Z",
     "iopub.status.idle": "2023-11-15T16:44:21.502658Z",
     "shell.execute_reply": "2023-11-15T16:44:21.501641Z"
    },
    "lines_to_next_cell": 0,
    "tags": []
   },
   "outputs": [],
   "source": [
    "# define the function 'get_all_paths_in' here\n",
    "\n",
    "#def get_all_paths_in(directory):\n",
    "#    all_paths = []\n",
    "#    for root, dirs, files in os.walk(directory):\n",
    "#        for file in sorted(files):\n",
    "#            if not file.startswith(\".\"):\n",
    "#                all_paths.append(os.path.join(root, file))\n",
    "#    return all_paths\n",
    "\n",
    "def get_all_paths_in(directory):\n",
    "    all_paths = []\n",
    "    for item in os.listdir(directory):\n",
    "        if not item.startswith(\".\"):\n",
    "            full_path = os.path.join(directory, item)\n",
    "            if os.path.isdir(full_path):\n",
    "                all_paths.extend(get_all_paths_in(full_path))\n",
    "            else:\n",
    "                all_paths.append(full_path)\n",
    "    all_paths.sort(reverse=True)\n",
    "    return all_paths"
   ]
  },
  {
   "cell_type": "code",
   "execution_count": 49,
   "id": "82367c97",
   "metadata": {
    "deletable": false,
    "editable": false
   },
   "outputs": [
    {
     "data": {
      "text/html": [
       "<p><strong><pre style='display: inline;'>get_all_paths_in</pre></strong> passed! 🍀</p><p><strong><pre style='display: inline;'>get_all_paths_in - 1</pre> message:</strong> Note that the Gradescope autograder will deduct points if your code fails the following rubric point - 'function does not remove all files and directories that start with `.` (-1)'. The public tests cannot determine if your code satisfies these requirements. Verify your code manually.</p><p><strong><pre style='display: inline;'>get_all_paths_in - 2</pre> message:</strong> Note that the Gradescope autograder will deduct points if your code fails the following rubric point - 'function does not sort file names explicitly (-1)'. The public tests cannot determine if your code satisfies these requirements. Verify your code manually.</p><p><strong><pre style='display: inline;'>get_all_paths_in - 3</pre> message:</strong> Note that the Gradescope autograder will deduct points if your code fails the following rubric point - 'function logic is incorrect (-2)'. The public tests cannot determine if your code satisfies these requirements. Verify your code manually.</p><p><strong><pre style='display: inline;'>get_all_paths_in - 4</pre> message:</strong> Note that the Gradescope autograder will deduct points if your code fails the following rubric point - 'hardcoding the name of directory inside the function (-1)'. The public tests cannot determine if your code satisfies these requirements. Verify your code manually.</p><p><strong><pre style='display: inline;'>get_all_paths_in - 5</pre> message:</strong> Note that the Gradescope autograder will deduct points if your code fails the following rubric point - 'paths are hardcoded using slashes (-1)'. The public tests cannot determine if your code satisfies these requirements. Verify your code manually.</p>"
      ],
      "text/plain": [
       "get_all_paths_in results: All test cases passed!\n",
       "get_all_paths_in - 1 message: Note that the Gradescope autograder will deduct points if your code fails the following rubric point - 'function does not remove all files and directories that start with `.` (-1)'. The public tests cannot determine if your code satisfies these requirements. Verify your code manually.\n",
       "get_all_paths_in - 2 message: Note that the Gradescope autograder will deduct points if your code fails the following rubric point - 'function does not sort file names explicitly (-1)'. The public tests cannot determine if your code satisfies these requirements. Verify your code manually.\n",
       "get_all_paths_in - 3 message: Note that the Gradescope autograder will deduct points if your code fails the following rubric point - 'function logic is incorrect (-2)'. The public tests cannot determine if your code satisfies these requirements. Verify your code manually.\n",
       "get_all_paths_in - 4 message: Note that the Gradescope autograder will deduct points if your code fails the following rubric point - 'hardcoding the name of directory inside the function (-1)'. The public tests cannot determine if your code satisfies these requirements. Verify your code manually.\n",
       "get_all_paths_in - 5 message: Note that the Gradescope autograder will deduct points if your code fails the following rubric point - 'paths are hardcoded using slashes (-1)'. The public tests cannot determine if your code satisfies these requirements. Verify your code manually."
      ]
     },
     "execution_count": 49,
     "metadata": {},
     "output_type": "execute_result"
    }
   ],
   "source": [
    "grader.check(\"get_all_paths_in\")"
   ]
  },
  {
   "cell_type": "markdown",
   "id": "d97da08c",
   "metadata": {
    "deletable": false,
    "editable": false
   },
   "source": [
    "**Question 10:** What are the **paths** of the files in the `other` directory of the `broken_data` directory?\n",
    "\n",
    "Your output **must** be a **list** of **relative paths**. You **must** answer this question by calling the `get_paths_in` function.\n",
    "\n",
    "**Warning:** Remember that you **must** only use `os.path.join` to create paths."
   ]
  },
  {
   "cell_type": "code",
   "execution_count": 50,
   "id": "ea5c9c38",
   "metadata": {
    "execution": {
     "iopub.execute_input": "2023-11-15T16:44:21.561428Z",
     "iopub.status.busy": "2023-11-15T16:44:21.561428Z",
     "iopub.status.idle": "2023-11-15T16:44:21.568546Z",
     "shell.execute_reply": "2023-11-15T16:44:21.567533Z"
    },
    "lines_to_next_cell": 0,
    "tags": []
   },
   "outputs": [
    {
     "data": {
      "text/plain": [
       "['broken_data/other/others.json']"
      ]
     },
     "execution_count": 50,
     "metadata": {},
     "output_type": "execute_result"
    }
   ],
   "source": [
    "# compute and store the answer in the variable 'broken_data_others', then display it\n",
    "broken_data_others = get_all_paths_in(os.path.join('broken_data', 'other'))\n",
    "broken_data_others"
   ]
  },
  {
   "cell_type": "code",
   "execution_count": 51,
   "id": "dc0ed862",
   "metadata": {
    "deletable": false,
    "editable": false
   },
   "outputs": [
    {
     "data": {
      "text/html": [
       "<p><strong><pre style='display: inline;'>q10</pre></strong> passed! 🌟</p><p><strong><pre style='display: inline;'>q10 - 2</pre> message:</strong> Note that the Gradescope autograder will deduct points if your code fails the following rubric point - '`get_all_paths_in` function is not used to answer (-2)'. The public tests cannot determine if your code satisfies these requirements. Verify your code manually.</p><p><strong><pre style='display: inline;'>q10 - 3</pre> message:</strong> Note that the Gradescope autograder will deduct points if your code fails the following rubric point - 'paths are hardcoded using slashes (-1)'. The public tests cannot determine if your code satisfies these requirements. Verify your code manually.</p>"
      ],
      "text/plain": [
       "q10 results: All test cases passed!\n",
       "q10 - 2 message: Note that the Gradescope autograder will deduct points if your code fails the following rubric point - '`get_all_paths_in` function is not used to answer (-2)'. The public tests cannot determine if your code satisfies these requirements. Verify your code manually.\n",
       "q10 - 3 message: Note that the Gradescope autograder will deduct points if your code fails the following rubric point - 'paths are hardcoded using slashes (-1)'. The public tests cannot determine if your code satisfies these requirements. Verify your code manually."
      ]
     },
     "execution_count": 51,
     "metadata": {},
     "output_type": "execute_result"
    }
   ],
   "source": [
    "grader.check(\"q10\")"
   ]
  },
  {
   "cell_type": "markdown",
   "id": "d0178bbe",
   "metadata": {
    "deletable": false,
    "editable": false
   },
   "source": [
    "**Question 11:** What are the **paths** of the files in the `100` directory of the `kepler` directory of the `broken_data` directory?\n",
    "\n",
    "Your output **must** be a **list** of **relative paths**. You **must** answer this question by calling the `get_all_paths_in` function.\n",
    "\n",
    "**Hint:** You can pass multiple **strings** as arguments to `os.path.join` to join them together at the same time. For example, to get the path of the required directory here, you could say\n",
    "```python\n",
    "os.path.join(\"broken_data\", \"kepler\", \"100\")\n",
    "```"
   ]
  },
  {
   "cell_type": "code",
   "execution_count": 52,
   "id": "428924ec",
   "metadata": {
    "execution": {
     "iopub.execute_input": "2023-11-15T16:44:21.608428Z",
     "iopub.status.busy": "2023-11-15T16:44:21.608428Z",
     "iopub.status.idle": "2023-11-15T16:44:21.618673Z",
     "shell.execute_reply": "2023-11-15T16:44:21.617660Z"
    },
    "lines_to_next_cell": 0,
    "tags": []
   },
   "outputs": [
    {
     "data": {
      "text/plain": [
       "['broken_data/kepler/100/others.json',\n",
       " 'broken_data/kepler/100/200/other/others.json',\n",
       " 'broken_data/kepler/100/200/290/290s.json',\n",
       " 'broken_data/kepler/100/200/220/220s.json',\n",
       " 'broken_data/kepler/100/100/other/others.json',\n",
       " 'broken_data/kepler/100/100/100s.json']"
      ]
     },
     "execution_count": 52,
     "metadata": {},
     "output_type": "execute_result"
    }
   ],
   "source": [
    "# compute and store the answer in the variable 'broken_data_keplers_100s', then display it\n",
    "broken_data_keplers_100s = get_all_paths_in(os.path.join('broken_data', 'kepler', '100'))\n",
    "broken_data_keplers_100s"
   ]
  },
  {
   "cell_type": "code",
   "execution_count": 53,
   "id": "642883b9",
   "metadata": {
    "deletable": false,
    "editable": false
   },
   "outputs": [
    {
     "data": {
      "text/html": [
       "<p><strong><pre style='display: inline;'>q11</pre></strong> passed! 🚀</p><p><strong><pre style='display: inline;'>q11 - 2</pre> message:</strong> Note that the Gradescope autograder will deduct points if your code fails the following rubric point - '`get_all_paths_in` function is not used to answer (-2)'. The public tests cannot determine if your code satisfies these requirements. Verify your code manually.</p><p><strong><pre style='display: inline;'>q11 - 3</pre> message:</strong> Note that the Gradescope autograder will deduct points if your code fails the following rubric point - 'paths are hardcoded using slashes (-1)'. The public tests cannot determine if your code satisfies these requirements. Verify your code manually.</p>"
      ],
      "text/plain": [
       "q11 results: All test cases passed!\n",
       "q11 - 2 message: Note that the Gradescope autograder will deduct points if your code fails the following rubric point - '`get_all_paths_in` function is not used to answer (-2)'. The public tests cannot determine if your code satisfies these requirements. Verify your code manually.\n",
       "q11 - 3 message: Note that the Gradescope autograder will deduct points if your code fails the following rubric point - 'paths are hardcoded using slashes (-1)'. The public tests cannot determine if your code satisfies these requirements. Verify your code manually."
      ]
     },
     "execution_count": 53,
     "metadata": {},
     "output_type": "execute_result"
    }
   ],
   "source": [
    "grader.check(\"q11\")"
   ]
  },
  {
   "cell_type": "markdown",
   "id": "93d6609a",
   "metadata": {
    "deletable": false,
    "editable": false
   },
   "source": [
    "**Question 12:** What are the **paths** of the files in the `other` directory of the `10` directory of the `kepler` directory of the `broken_data` directory?\n",
    "\n",
    "Your output **must** be a **list** of **relative paths**. You **must** answer this question by calling the `get_all_paths_in` function."
   ]
  },
  {
   "cell_type": "code",
   "execution_count": 54,
   "id": "48766e8d",
   "metadata": {
    "execution": {
     "iopub.execute_input": "2023-11-15T16:44:21.660042Z",
     "iopub.status.busy": "2023-11-15T16:44:21.659022Z",
     "iopub.status.idle": "2023-11-15T16:44:21.667002Z",
     "shell.execute_reply": "2023-11-15T16:44:21.665993Z"
    },
    "lines_to_next_cell": 0,
    "tags": []
   },
   "outputs": [
    {
     "data": {
      "text/plain": [
       "['broken_data/kepler/10/other/others.json']"
      ]
     },
     "execution_count": 54,
     "metadata": {},
     "output_type": "execute_result"
    }
   ],
   "source": [
    "# compute and store the answer in the variable 'broken_data_kepler_10_others', then display it\n",
    "broken_data_kepler_10_others = get_all_paths_in(os.path.join('broken_data', 'kepler', '10', 'other'))\n",
    "broken_data_kepler_10_others"
   ]
  },
  {
   "cell_type": "code",
   "execution_count": 55,
   "id": "7ead2b54",
   "metadata": {
    "deletable": false,
    "editable": false
   },
   "outputs": [
    {
     "data": {
      "text/html": [
       "<p><strong><pre style='display: inline;'>q12</pre></strong> passed! 🙌</p><p><strong><pre style='display: inline;'>q12 - 2</pre> message:</strong> Note that the Gradescope autograder will deduct points if your code fails the following rubric point - '`get_all_paths_in` function is not used to answer (-2)'. The public tests cannot determine if your code satisfies these requirements. Verify your code manually.</p><p><strong><pre style='display: inline;'>q12 - 3</pre> message:</strong> Note that the Gradescope autograder will deduct points if your code fails the following rubric point - 'paths are hardcoded using slashes (-1)'. The public tests cannot determine if your code satisfies these requirements. Verify your code manually.</p>"
      ],
      "text/plain": [
       "q12 results: All test cases passed!\n",
       "q12 - 2 message: Note that the Gradescope autograder will deduct points if your code fails the following rubric point - '`get_all_paths_in` function is not used to answer (-2)'. The public tests cannot determine if your code satisfies these requirements. Verify your code manually.\n",
       "q12 - 3 message: Note that the Gradescope autograder will deduct points if your code fails the following rubric point - 'paths are hardcoded using slashes (-1)'. The public tests cannot determine if your code satisfies these requirements. Verify your code manually."
      ]
     },
     "execution_count": 55,
     "metadata": {},
     "output_type": "execute_result"
    }
   ],
   "source": [
    "grader.check(\"q12\")"
   ]
  },
  {
   "cell_type": "markdown",
   "id": "8ab5d4cd",
   "metadata": {
    "deletable": false,
    "editable": false
   },
   "source": [
    "**Question 13:** What are the **paths** of the files in the `broken_data` directory?\n",
    "\n",
    "Your output **must** be a **list** of **relative paths**. You **must** answer this question by calling the `get_paths_in` function."
   ]
  },
  {
   "cell_type": "code",
   "execution_count": 56,
   "id": "55620533",
   "metadata": {
    "execution": {
     "iopub.execute_input": "2023-11-15T16:44:21.707508Z",
     "iopub.status.busy": "2023-11-15T16:44:21.706509Z",
     "iopub.status.idle": "2023-11-15T16:44:21.721190Z",
     "shell.execute_reply": "2023-11-15T16:44:21.720166Z"
    },
    "lines_to_next_cell": 0,
    "tags": []
   },
   "outputs": [
    {
     "data": {
      "text/plain": [
       "['broken_data/toi/tois.json',\n",
       " 'broken_data/other/others.json',\n",
       " 'broken_data/kepler/other/others.json',\n",
       " 'broken_data/kepler/100/others.json',\n",
       " 'broken_data/kepler/100/200/other/others.json',\n",
       " 'broken_data/kepler/100/200/290/290s.json',\n",
       " 'broken_data/kepler/100/200/220/220s.json',\n",
       " 'broken_data/kepler/100/100/other/others.json',\n",
       " 'broken_data/kepler/100/100/100s.json',\n",
       " 'broken_data/kepler/10/other/others.json',\n",
       " 'broken_data/kepler/10/80s.json',\n",
       " 'broken_data/kepler/10/30/30s.json',\n",
       " 'broken_data/kepler/10/20s.json',\n",
       " 'broken_data/k2/k2s.json',\n",
       " 'broken_data/hd/others.json',\n",
       " 'broken_data/hd/10000/10000s.json',\n",
       " 'broken_data/gj/gjs.json']"
      ]
     },
     "execution_count": 56,
     "metadata": {},
     "output_type": "execute_result"
    }
   ],
   "source": [
    "# compute and store the answer in the variable 'broken_data', then display it\n",
    "broken_data = get_all_paths_in('broken_data')\n",
    "broken_data"
   ]
  },
  {
   "cell_type": "code",
   "execution_count": 57,
   "id": "e94d15eb",
   "metadata": {
    "deletable": false,
    "editable": false
   },
   "outputs": [
    {
     "data": {
      "text/html": [
       "<p><strong><pre style='display: inline;'>q13</pre></strong> passed! 🌈</p><p><strong><pre style='display: inline;'>q13 - 2</pre> message:</strong> Note that the Gradescope autograder will deduct points if your code fails the following rubric point - '`get_all_paths_in` function is not used to answer (-2)'. The public tests cannot determine if your code satisfies these requirements. Verify your code manually.</p>"
      ],
      "text/plain": [
       "q13 results: All test cases passed!\n",
       "q13 - 2 message: Note that the Gradescope autograder will deduct points if your code fails the following rubric point - '`get_all_paths_in` function is not used to answer (-2)'. The public tests cannot determine if your code satisfies these requirements. Verify your code manually."
      ]
     },
     "execution_count": 57,
     "metadata": {},
     "output_type": "execute_result"
    }
   ],
   "source": [
    "grader.check(\"q13\")"
   ]
  },
  {
   "cell_type": "markdown",
   "id": "dec94018",
   "metadata": {
    "deletable": false,
    "editable": false
   },
   "source": [
    "### Data Structure 2: `all_planets_list`\n",
    "\n",
    "We want to read the data that is stored inside the directory `broken_data`. We already have a function `get_planets` (from P10) which can read a CSV file and a JSON file and combine them to create a **list** of `Planet` objects. So, we can repeatedly call `get_planets` on the CSV file `planets_5.csv` and each of the JSON files inside `broken_data` to get a **list** of `Planet` objects of **all** the planets in `planets_5.csv`.\n",
    "\n",
    "You **must** **create** the **list** `all_planets_list` by adding in all `Planet` objects from `planets_list`, and then also adding in the `Planet` objects in `planets_5.csv` and the directory `broken_data`.\n",
    "\n",
    "**Hint:** You should loop through every file in the list `broken_data`, and use `get_planets` on `planets_5.csv` (inside the `data` directory), and this file (from the loop) to create a list of `Planet` objects, and then **extend** `all_planets_list` by the list of new `Planet` objects.\n",
    "\n",
    "**Warning:** Do **not** update the value of the **list** `planets_list` when you do this. Otherwise, your answers to some of the previous questions will become incorrect. Instead, make sure that the new `Planet` objects are only added to `all_planets_list` and **not** to `planets_list`."
   ]
  },
  {
   "cell_type": "code",
   "execution_count": 58,
   "id": "543a9fc0",
   "metadata": {
    "execution": {
     "iopub.execute_input": "2023-11-15T16:44:21.752806Z",
     "iopub.status.busy": "2023-11-15T16:44:21.752806Z",
     "iopub.status.idle": "2023-11-15T16:44:21.810927Z",
     "shell.execute_reply": "2023-11-15T16:44:21.809918Z"
    },
    "tags": []
   },
   "outputs": [
    {
     "data": {
      "text/plain": [
       "5526"
      ]
     },
     "execution_count": 58,
     "metadata": {},
     "output_type": "execute_result"
    }
   ],
   "source": [
    "# create the variable 'all_planets_list' here,\n",
    "# but do NOT display the variable at the end\n",
    "all_planets_list = []\n",
    "for planet in planets_list:\n",
    "    all_planets_list.append(planet)\n",
    "for path in broken_data:\n",
    "    planets_5_path = os.path.join('data', 'planets_5.csv')\n",
    "    mapping_paths = get_planets(planets_5_path, path)\n",
    "    all_planets_list.extend(mapping_paths)\n",
    "len(all_planets_list)\n",
    "# TODO: initialize 'all_planets_list'\n",
    "# TODO: add the planets in 'planets_list' to 'all_planets_list'\n",
    "# TODO: loop through all paths in 'broken_data'\n",
    "    # TODO: use 'get_planets' to get the planets in this file and add them to 'all_planets_list'"
   ]
  },
  {
   "cell_type": "code",
   "execution_count": 59,
   "id": "af29d62a",
   "metadata": {
    "deletable": false,
    "editable": false
   },
   "outputs": [
    {
     "data": {
      "text/html": [
       "<p><strong><pre style='display: inline;'>all_planets_list</pre></strong> passed! ✨</p><p><strong><pre style='display: inline;'>all_planets_list - 1</pre> message:</strong> Note that the Gradescope autograder will deduct points if your code fails the following rubric point - 'data structure is defined incorrectly (-1)'. The public tests cannot determine if your code satisfies these requirements. Verify your code manually.</p><p><strong><pre style='display: inline;'>all_planets_list - 2</pre> message:</strong> Note that the Gradescope autograder will deduct points if your code fails the following rubric point - '`get_planets` function is not used to answer (-1)'. The public tests cannot determine if your code satisfies these requirements. Verify your code manually.</p><p><strong><pre style='display: inline;'>all_planets_list - 3</pre> message:</strong> Note that the Gradescope autograder will deduct points if your code fails the following rubric point - '`broken_data` data structure is not used to answer (-1)'. The public tests cannot determine if your code satisfies these requirements. Verify your code manually.</p><p><strong><pre style='display: inline;'>all_planets_list - 4</pre> message:</strong> Note that the Gradescope autograder will deduct points if your code fails the following rubric point - 'paths are hardcoded using slashes (-1)'. The public tests cannot determine if your code satisfies these requirements. Verify your code manually.</p><p><strong><pre style='display: inline;'>all_planets_list - 5</pre> message:</strong> Note that the Gradescope autograder will deduct points if your code fails the following rubric point - '`planets_list` data structure is modified or redefined (-1)'. The public tests cannot determine if your code satisfies these requirements. Verify your code manually.</p>"
      ],
      "text/plain": [
       "all_planets_list results: All test cases passed!\n",
       "all_planets_list - 1 message: Note that the Gradescope autograder will deduct points if your code fails the following rubric point - 'data structure is defined incorrectly (-1)'. The public tests cannot determine if your code satisfies these requirements. Verify your code manually.\n",
       "all_planets_list - 2 message: Note that the Gradescope autograder will deduct points if your code fails the following rubric point - '`get_planets` function is not used to answer (-1)'. The public tests cannot determine if your code satisfies these requirements. Verify your code manually.\n",
       "all_planets_list - 3 message: Note that the Gradescope autograder will deduct points if your code fails the following rubric point - '`broken_data` data structure is not used to answer (-1)'. The public tests cannot determine if your code satisfies these requirements. Verify your code manually.\n",
       "all_planets_list - 4 message: Note that the Gradescope autograder will deduct points if your code fails the following rubric point - 'paths are hardcoded using slashes (-1)'. The public tests cannot determine if your code satisfies these requirements. Verify your code manually.\n",
       "all_planets_list - 5 message: Note that the Gradescope autograder will deduct points if your code fails the following rubric point - '`planets_list` data structure is modified or redefined (-1)'. The public tests cannot determine if your code satisfies these requirements. Verify your code manually."
      ]
     },
     "execution_count": 59,
     "metadata": {},
     "output_type": "execute_result"
    }
   ],
   "source": [
    "grader.check(\"all_planets_list\")"
   ]
  },
  {
   "cell_type": "markdown",
   "id": "2ffb7227",
   "metadata": {
    "deletable": false,
    "editable": false
   },
   "source": [
    "You can verify that you have not made any mistakes by confirming that `all_planets_list` now has *5526* `Planet` objects in it."
   ]
  },
  {
   "cell_type": "markdown",
   "id": "62cc8fec",
   "metadata": {
    "deletable": false,
    "editable": false
   },
   "source": [
    "### Exploring habitability of exoplanets:\n",
    "\n",
    "Now that we have gathered the data on all the `Planet` objects, we are ready to have some fun with this dataset. Over the course of the rest of this project, we will try to find out if there are any planets in our dataset which could potentially support human habitation. Naturally, using the available data, we cannot say with any certainty that any particular planet is habitable, but we *can* say with some confidence when a planet is **not** habitable (notwithstanding major technological gains). That is exactly what we will do now."
   ]
  },
  {
   "cell_type": "markdown",
   "id": "af0f11f3",
   "metadata": {
    "deletable": false,
    "editable": false
   },
   "source": [
    "#### Surface Gravitational Force:\n",
    "\n",
    "It seems reasonable to expect that for humans to be able to survive on a planet, the gravitational force of the planet on its surface is not too different from that of the Earth.\n",
    "\n",
    "We note that the `planet_mass` and `planet_radius` attributes of the `Planet` objects stores these values in units of the mass of the Earth, and the radius of the Earth respectively. So, the **ratio** of the gravitational force experienced on the surface of a given planet to the force experienced on the surface of the Earth can be computed as:\n",
    "\n",
    "$$\\frac{g_{\\texttt{planet}}}{g_{\\texttt{earth}}} = \\frac{\\texttt{planet mass}}{\\texttt{planet radius}^{2}}$$\n",
    "\n",
    "So, a **ratio** greater than 1 would imply that a person on the planet's surface would experience a greater force due to gravity than on Earth, while a value lower than 1 would imply that a person on the planet's surface would experience a lesser force due to gravity than on Earth."
   ]
  },
  {
   "cell_type": "markdown",
   "id": "8668b7af",
   "metadata": {
    "deletable": false,
    "editable": false
   },
   "source": [
    "### Function 2: `get_surface_gravity(planet)`\n",
    "\n",
    "You **must** define this function which takes in a `Planet` object as its input, and then **returns** the **ratio** of the gravitational force experienced on the surface of a given planet to the force experienced on the surface of the Earth. If either the `planet_mass` or `planet_radius` data is **missing**, then your function **must** return `None`."
   ]
  },
  {
   "cell_type": "code",
   "execution_count": 60,
   "id": "842264ba",
   "metadata": {
    "execution": {
     "iopub.execute_input": "2023-11-15T16:44:21.866353Z",
     "iopub.status.busy": "2023-11-15T16:44:21.865354Z",
     "iopub.status.idle": "2023-11-15T16:44:21.872414Z",
     "shell.execute_reply": "2023-11-15T16:44:21.871404Z"
    },
    "tags": []
   },
   "outputs": [],
   "source": [
    "# define the function 'get_surface_gravity' here\n",
    "def get_surface_gravity(planet):\n",
    "    if planet.planet_mass is None or planet.planet_radius is None:\n",
    "        return None\n",
    "    gravity_planet = planet.planet_mass\n",
    "    gravity_earth = planet.planet_radius**2\n",
    "    surface_gravity = gravity_planet / gravity_earth\n",
    "    return surface_gravity"
   ]
  },
  {
   "cell_type": "code",
   "execution_count": 61,
   "id": "6b31dd41",
   "metadata": {
    "deletable": false,
    "editable": false
   },
   "outputs": [
    {
     "data": {
      "text/html": [
       "<p><strong><pre style='display: inline;'>get_surface_gravity</pre></strong> passed! ✨</p><p><strong><pre style='display: inline;'>get_surface_gravity - 1</pre> message:</strong> Note that the Gradescope autograder will deduct points if your code fails the following rubric point - 'function did not return `None` for missing data (-1)'. The public tests cannot determine if your code satisfies these requirements. Verify your code manually.</p><p><strong><pre style='display: inline;'>get_surface_gravity - 2</pre> message:</strong> Note that the Gradescope autograder will deduct points if your code fails the following rubric point - 'function logic is incorrect (-2)'. The public tests cannot determine if your code satisfies these requirements. Verify your code manually.</p>"
      ],
      "text/plain": [
       "get_surface_gravity results: All test cases passed!\n",
       "get_surface_gravity - 1 message: Note that the Gradescope autograder will deduct points if your code fails the following rubric point - 'function did not return `None` for missing data (-1)'. The public tests cannot determine if your code satisfies these requirements. Verify your code manually.\n",
       "get_surface_gravity - 2 message: Note that the Gradescope autograder will deduct points if your code fails the following rubric point - 'function logic is incorrect (-2)'. The public tests cannot determine if your code satisfies these requirements. Verify your code manually."
      ]
     },
     "execution_count": 61,
     "metadata": {},
     "output_type": "execute_result"
    }
   ],
   "source": [
    "grader.check(\"get_surface_gravity\")"
   ]
  },
  {
   "cell_type": "markdown",
   "id": "33821dab",
   "metadata": {
    "deletable": false,
    "editable": false
   },
   "source": [
    "**Question 14:** What is the **ratio** of gravitational force experienced on the surface of the planet *GJ 674 b* to the gravitational force experienced on the surface of the Earth?\n",
    "\n",
    "You will have to first loop through `all_planets_list` to identify the correct `Planet` object. Remember to `break` out of your loop after you identify the correct `Planet` object."
   ]
  },
  {
   "cell_type": "code",
   "execution_count": 62,
   "id": "2bee6aae",
   "metadata": {
    "execution": {
     "iopub.execute_input": "2023-11-15T16:44:21.895768Z",
     "iopub.status.busy": "2023-11-15T16:44:21.895768Z",
     "iopub.status.idle": "2023-11-15T16:44:21.902848Z",
     "shell.execute_reply": "2023-11-15T16:44:21.901837Z"
    },
    "tags": []
   },
   "outputs": [
    {
     "data": {
      "text/plain": [
       "1.0000991982973964"
      ]
     },
     "execution_count": 62,
     "metadata": {},
     "output_type": "execute_result"
    }
   ],
   "source": [
    "# compute and store the answer in the variable 'gj_674_b_gravity', then display it\n",
    "for x in all_planets_list:\n",
    "    if x.planet_name == \"GJ 674 b\":\n",
    "        gj_674_b_gravity = get_surface_gravity(x)\n",
    "        break\n",
    "gj_674_b_gravity"
   ]
  },
  {
   "cell_type": "code",
   "execution_count": 63,
   "id": "0c0000bc",
   "metadata": {
    "deletable": false,
    "editable": false
   },
   "outputs": [
    {
     "data": {
      "text/html": [
       "<p><strong><pre style='display: inline;'>q14</pre></strong> passed! 🌈</p><p><strong><pre style='display: inline;'>q14 - 2</pre> message:</strong> Note that the Gradescope autograder will deduct points if your code fails the following rubric point - '`get_surface_gravity` function is not used to answer (-1)'. The public tests cannot determine if your code satisfies these requirements. Verify your code manually.</p><p><strong><pre style='display: inline;'>q14 - 3</pre> message:</strong> Note that the Gradescope autograder will deduct points if your code fails the following rubric point - '`all_planets_list` data structure is not used to answer (-1)'. The public tests cannot determine if your code satisfies these requirements. Verify your code manually.</p><p><strong><pre style='display: inline;'>q14 - 4</pre> message:</strong> Note that the Gradescope autograder will deduct points if your code fails the following rubric point - 'did not exit loop and instead iterated further after finding the answer (-1)'. The public tests cannot determine if your code satisfies these requirements. Verify your code manually.</p>"
      ],
      "text/plain": [
       "q14 results: All test cases passed!\n",
       "q14 - 2 message: Note that the Gradescope autograder will deduct points if your code fails the following rubric point - '`get_surface_gravity` function is not used to answer (-1)'. The public tests cannot determine if your code satisfies these requirements. Verify your code manually.\n",
       "q14 - 3 message: Note that the Gradescope autograder will deduct points if your code fails the following rubric point - '`all_planets_list` data structure is not used to answer (-1)'. The public tests cannot determine if your code satisfies these requirements. Verify your code manually.\n",
       "q14 - 4 message: Note that the Gradescope autograder will deduct points if your code fails the following rubric point - 'did not exit loop and instead iterated further after finding the answer (-1)'. The public tests cannot determine if your code satisfies these requirements. Verify your code manually."
      ]
     },
     "execution_count": 63,
     "metadata": {},
     "output_type": "execute_result"
    }
   ],
   "source": [
    "grader.check(\"q14\")"
   ]
  },
  {
   "cell_type": "markdown",
   "id": "6df16c13",
   "metadata": {
    "deletable": false,
    "editable": false
   },
   "source": [
    "#### Distance to the star:\n",
    "\n",
    "Planets follow **elliptical** orbits around their host star. The `eccentricity` of a planet's orbit is a number that measures *how* elliptical the orbit is. An eccentricity of *0* would imply that the orbit is in fact perfectly circular, while an eccentricity close to *1* would imply that the orbit is very skewed and elliptical. As you may expect, if a planet has a highly eccentric orbit, its distance to its host star would vary wildly, leading to a highly variable climate. To determine if a planet could support human habitation, it is therefore important to know the closest and shortest distances between the planet and its host star.\n",
    "\n",
    "We can compute these quantities using the attributes `eccentricity` and `semi_major_radius` of each `Planet` object. These distances can be computed as:\n",
    "\n",
    "$$\\texttt{shortest distance} = \\texttt{semi major radius} \\times (1 - \\texttt{abs}(\\texttt{eccentricity}))$$\n",
    "\n",
    "$$\\texttt{longest distance} = \\texttt{semi major radius} \\times (1 + \\texttt{abs}(\\texttt{eccentricity}))$$"
   ]
  },
  {
   "cell_type": "markdown",
   "id": "c21fa7d8",
   "metadata": {
    "deletable": false,
    "editable": false
   },
   "source": [
    "### Function 3: `get_distances_to_star(planet)`\n",
    "\n",
    "You **must** define this function which takes in a `Planet` object as its input, and then **returns** a **list** of two **floats**. The first float should be the **shortest distance** of the `Planet` object to its host star, and the second float should be the **longest distance** to its host star. If either the `eccentricity` or `semi_major_radius` data of the `Planet` is missing, then the function **must** return `None`."
   ]
  },
  {
   "cell_type": "code",
   "execution_count": 64,
   "id": "c35f568e",
   "metadata": {
    "execution": {
     "iopub.execute_input": "2023-11-15T16:44:21.942552Z",
     "iopub.status.busy": "2023-11-15T16:44:21.942552Z",
     "iopub.status.idle": "2023-11-15T16:44:21.948374Z",
     "shell.execute_reply": "2023-11-15T16:44:21.947365Z"
    },
    "tags": []
   },
   "outputs": [],
   "source": [
    "# define the function 'get_distances_to_star' here\n",
    "def get_distances_to_star(x):\n",
    "    if x.eccentricity is None or x.semi_major_radius is None:\n",
    "        return None  \n",
    "    shortest_distance = x.semi_major_radius * (1 - abs(x.eccentricity))\n",
    "    longest_distance = x.semi_major_radius * (1 + abs(x.eccentricity))\n",
    "    return [shortest_distance, longest_distance]"
   ]
  },
  {
   "cell_type": "code",
   "execution_count": 65,
   "id": "1e0a815f",
   "metadata": {
    "deletable": false,
    "editable": false
   },
   "outputs": [
    {
     "data": {
      "text/html": [
       "<p><strong><pre style='display: inline;'>get_distances_to_star</pre></strong> passed! 🎉</p><p><strong><pre style='display: inline;'>get_distances_to_star - 1</pre> message:</strong> Note that the Gradescope autograder will deduct points if your code fails the following rubric point - 'function did not return `None` for missing data (-1)'. The public tests cannot determine if your code satisfies these requirements. Verify your code manually.</p><p><strong><pre style='display: inline;'>get_distances_to_star - 2</pre> message:</strong> Note that the Gradescope autograder will deduct points if your code fails the following rubric point - 'function logic is incorrect (-2)'. The public tests cannot determine if your code satisfies these requirements. Verify your code manually.</p>"
      ],
      "text/plain": [
       "get_distances_to_star results: All test cases passed!\n",
       "get_distances_to_star - 1 message: Note that the Gradescope autograder will deduct points if your code fails the following rubric point - 'function did not return `None` for missing data (-1)'. The public tests cannot determine if your code satisfies these requirements. Verify your code manually.\n",
       "get_distances_to_star - 2 message: Note that the Gradescope autograder will deduct points if your code fails the following rubric point - 'function logic is incorrect (-2)'. The public tests cannot determine if your code satisfies these requirements. Verify your code manually."
      ]
     },
     "execution_count": 65,
     "metadata": {},
     "output_type": "execute_result"
    }
   ],
   "source": [
    "grader.check(\"get_distances_to_star\")"
   ]
  },
  {
   "cell_type": "markdown",
   "id": "9d6d7a06",
   "metadata": {
    "deletable": false,
    "editable": false
   },
   "source": [
    "**Question 15:** Find the **shortest** and **longest** distances for the planet *b Cen AB b* to its host star.\n",
    "\n",
    "Your output **must** be a **list** of two **floats** representing the **shortest** and **longest** distances to its host star. Remember to `break` out of your loop after you identify the correct `Planet` object."
   ]
  },
  {
   "cell_type": "code",
   "execution_count": 66,
   "id": "866d7351",
   "metadata": {
    "execution": {
     "iopub.execute_input": "2023-11-15T16:44:21.971527Z",
     "iopub.status.busy": "2023-11-15T16:44:21.971527Z",
     "iopub.status.idle": "2023-11-15T16:44:21.979310Z",
     "shell.execute_reply": "2023-11-15T16:44:21.978302Z"
    },
    "tags": []
   },
   "outputs": [
    {
     "data": {
      "text/plain": [
       "[333.59999999999997, 778.4]"
      ]
     },
     "execution_count": 66,
     "metadata": {},
     "output_type": "execute_result"
    }
   ],
   "source": [
    "# compute and store the answer in the variable 'distances_to_star_b_cen_ab_b', then display it\n",
    "for planet in all_planets_list:\n",
    "    if planet.planet_name == \"b Cen AB b\":\n",
    "        distances_to_star_b_cen_ab_b = get_distances_to_star(planet)\n",
    "        break\n",
    "distances_to_star_b_cen_ab_b"
   ]
  },
  {
   "cell_type": "code",
   "execution_count": 67,
   "id": "0241da49",
   "metadata": {
    "deletable": false,
    "editable": false
   },
   "outputs": [
    {
     "data": {
      "text/html": [
       "<p><strong><pre style='display: inline;'>q15</pre></strong> passed! 🚀</p><p><strong><pre style='display: inline;'>q15 - 2</pre> message:</strong> Note that the Gradescope autograder will deduct points if your code fails the following rubric point - '`get_distances_to_star` function is not used to answer (-1)'. The public tests cannot determine if your code satisfies these requirements. Verify your code manually.</p><p><strong><pre style='display: inline;'>q15 - 3</pre> message:</strong> Note that the Gradescope autograder will deduct points if your code fails the following rubric point - '`all_planets_list` data structure is not used to answer (-1)'. The public tests cannot determine if your code satisfies these requirements. Verify your code manually.</p><p><strong><pre style='display: inline;'>q15 - 4</pre> message:</strong> Note that the Gradescope autograder will deduct points if your code fails the following rubric point - 'did not exit loop and instead iterated further after finding the answer (-1)'. The public tests cannot determine if your code satisfies these requirements. Verify your code manually.</p>"
      ],
      "text/plain": [
       "q15 results: All test cases passed!\n",
       "q15 - 2 message: Note that the Gradescope autograder will deduct points if your code fails the following rubric point - '`get_distances_to_star` function is not used to answer (-1)'. The public tests cannot determine if your code satisfies these requirements. Verify your code manually.\n",
       "q15 - 3 message: Note that the Gradescope autograder will deduct points if your code fails the following rubric point - '`all_planets_list` data structure is not used to answer (-1)'. The public tests cannot determine if your code satisfies these requirements. Verify your code manually.\n",
       "q15 - 4 message: Note that the Gradescope autograder will deduct points if your code fails the following rubric point - 'did not exit loop and instead iterated further after finding the answer (-1)'. The public tests cannot determine if your code satisfies these requirements. Verify your code manually."
      ]
     },
     "execution_count": 67,
     "metadata": {},
     "output_type": "execute_result"
    }
   ],
   "source": [
    "grader.check(\"q15\")"
   ]
  },
  {
   "cell_type": "markdown",
   "id": "ddf486a5",
   "metadata": {
    "deletable": false,
    "editable": false
   },
   "source": [
    "#### Presence of Liquid Water :\n",
    "\n",
    "It is safe to say that planets which cannot sustain liquid are inhabitable. While we do not have any data on whether the `Planet` objects in our dataset have naturally occurring water, we are able to determine whether the planet can *support* liquid water based on its distance to its host star, and the luminosity of this star. \n",
    "\n",
    "Astronomers have [computed](https://pubmed.ncbi.nlm.nih.gov/11536936/) that for Earth-like planets, there is a certain range of distances that a planet can have to its host star, which depends on the `luminosity` of the star, within which, water on the planet's surface can stay in liquid form. These distances are as follows:\n",
    "\n",
    "$$\\texttt{liquid water shortest dist} = \\sqrt{\\frac{\\texttt{absolute luminosity}}{1.15}}$$\n",
    "\n",
    "$$\\texttt{liquid water longest dist} = \\sqrt{\\frac{\\texttt{absolute luminosity}}{0.53}}$$\n",
    "\n",
    "In our dataset, the `stellar_luminosity` is stored in units of the logarithm of the absolute luminosity. So, the distances can be computed from our dataset as follows:\n",
    "\n",
    "$$\\texttt{liquid water shortest dist} = \\sqrt{\\frac{10^{\\texttt{stellar luminosity}}}{1.15}}$$\n",
    "\n",
    "$$\\texttt{liquid water longest dist} = \\sqrt{\\frac{10^{\\texttt{stellar luminosity}}}{0.53}}$$"
   ]
  },
  {
   "cell_type": "markdown",
   "id": "7e9bdd17",
   "metadata": {
    "deletable": false,
    "editable": false
   },
   "source": [
    "### Function 4: `get_liquid_water_distances(planet)`\n",
    "\n",
    "You **must** define this function which takes in a `Planet` object as its input, and then **returns** a **list** of two **floats**. The first float should be the **shortest distance** the `Planet` object can be to its host star while being able to support liquid water, and the second float should be the **longest distance** it can be to its host star while being able to support liquid water. If the `stellar_luminosity` data of the host `Star` object is missing, then the function **must** return `None`."
   ]
  },
  {
   "cell_type": "code",
   "execution_count": 68,
   "id": "87eedb8c",
   "metadata": {
    "execution": {
     "iopub.execute_input": "2023-11-15T16:44:22.019846Z",
     "iopub.status.busy": "2023-11-15T16:44:22.019846Z",
     "iopub.status.idle": "2023-11-15T16:44:22.026104Z",
     "shell.execute_reply": "2023-11-15T16:44:22.025078Z"
    },
    "tags": []
   },
   "outputs": [],
   "source": [
    "# define the function 'get_liquid_water_distances' here\n",
    "def get_liquid_water_distances(x):\n",
    "    host_star = x.host_name\n",
    "    for star in stars_dict:\n",
    "        if star == host_star:\n",
    "            if stars_dict[star].stellar_luminosity == None:\n",
    "                return None\n",
    "            else:\n",
    "                luminosity = stars_dict[star].stellar_luminosity\n",
    "                liquid_shortest_dist = math.sqrt((10**luminosity)/1.15)\n",
    "                liquid_longest_dist = math.sqrt((10**luminosity)/0.53)\n",
    "    return [liquid_shortest_dist, liquid_longest_dist]"
   ]
  },
  {
   "cell_type": "code",
   "execution_count": 69,
   "id": "42221683",
   "metadata": {
    "deletable": false,
    "editable": false
   },
   "outputs": [
    {
     "data": {
      "text/html": [
       "<p><strong><pre style='display: inline;'>get_liquid_water_distances</pre></strong> passed! 🚀</p><p><strong><pre style='display: inline;'>get_liquid_water_distances - 1</pre> message:</strong> Note that the Gradescope autograder will deduct points if your code fails the following rubric point - 'function did not return `None` for missing data (-1)'. The public tests cannot determine if your code satisfies these requirements. Verify your code manually.</p><p><strong><pre style='display: inline;'>get_liquid_water_distances - 2</pre> message:</strong> Note that the Gradescope autograder will deduct points if your code fails the following rubric point - 'function logic is incorrect (-2)'. The public tests cannot determine if your code satisfies these requirements. Verify your code manually.</p>"
      ],
      "text/plain": [
       "get_liquid_water_distances results: All test cases passed!\n",
       "get_liquid_water_distances - 1 message: Note that the Gradescope autograder will deduct points if your code fails the following rubric point - 'function did not return `None` for missing data (-1)'. The public tests cannot determine if your code satisfies these requirements. Verify your code manually.\n",
       "get_liquid_water_distances - 2 message: Note that the Gradescope autograder will deduct points if your code fails the following rubric point - 'function logic is incorrect (-2)'. The public tests cannot determine if your code satisfies these requirements. Verify your code manually."
      ]
     },
     "execution_count": 69,
     "metadata": {},
     "output_type": "execute_result"
    }
   ],
   "source": [
    "grader.check(\"get_liquid_water_distances\")"
   ]
  },
  {
   "cell_type": "markdown",
   "id": "69aa89a8",
   "metadata": {
    "deletable": false,
    "editable": false
   },
   "source": [
    "**Question 16:** Find the **shortest** and **longest** distances for the planet *Kepler-197 e* from its host star, at which it can support liquid water.\n",
    "\n",
    "Your output **must** be a **list** of two **floats** representing the **shortest** and **longest** distances that the planet can be from its host star and still support liquid water. Remember to `break` out of your loop after you identify the correct `Planet` object."
   ]
  },
  {
   "cell_type": "code",
   "execution_count": 70,
   "id": "8ff90461",
   "metadata": {
    "execution": {
     "iopub.execute_input": "2023-11-15T16:44:22.049535Z",
     "iopub.status.busy": "2023-11-15T16:44:22.048537Z",
     "iopub.status.idle": "2023-11-15T16:44:22.057285Z",
     "shell.execute_reply": "2023-11-15T16:44:22.056593Z"
    },
    "tags": []
   },
   "outputs": [
    {
     "data": {
      "text/plain": [
       "[1.204068181137186, 1.7736260760497164]"
      ]
     },
     "execution_count": 70,
     "metadata": {},
     "output_type": "execute_result"
    }
   ],
   "source": [
    "# compute and store the answer in the variable 'liquid_water_distances_kepler_197_e', then display it\n",
    "for x in all_planets_list:\n",
    "    if x.planet_name == \"Kepler-197 e\":\n",
    "        liquid_water_distances_kepler_197_e = get_liquid_water_distances(x)\n",
    "        break\n",
    "liquid_water_distances_kepler_197_e"
   ]
  },
  {
   "cell_type": "code",
   "execution_count": 71,
   "id": "9490658b",
   "metadata": {
    "deletable": false,
    "editable": false
   },
   "outputs": [
    {
     "data": {
      "text/html": [
       "<p><strong><pre style='display: inline;'>q16</pre></strong> passed! 🌟</p><p><strong><pre style='display: inline;'>q16 - 2</pre> message:</strong> Note that the Gradescope autograder will deduct points if your code fails the following rubric point - '`get_liquid_water_distances` function is not used to answer (-1)'. The public tests cannot determine if your code satisfies these requirements. Verify your code manually.</p><p><strong><pre style='display: inline;'>q16 - 3</pre> message:</strong> Note that the Gradescope autograder will deduct points if your code fails the following rubric point - '`all_planets_list` data structure is not used to answer (-1)'. The public tests cannot determine if your code satisfies these requirements. Verify your code manually.</p><p><strong><pre style='display: inline;'>q16 - 4</pre> message:</strong> Note that the Gradescope autograder will deduct points if your code fails the following rubric point - 'did not exit loop and instead iterated further after finding the answer (-1)'. The public tests cannot determine if your code satisfies these requirements. Verify your code manually.</p>"
      ],
      "text/plain": [
       "q16 results: All test cases passed!\n",
       "q16 - 2 message: Note that the Gradescope autograder will deduct points if your code fails the following rubric point - '`get_liquid_water_distances` function is not used to answer (-1)'. The public tests cannot determine if your code satisfies these requirements. Verify your code manually.\n",
       "q16 - 3 message: Note that the Gradescope autograder will deduct points if your code fails the following rubric point - '`all_planets_list` data structure is not used to answer (-1)'. The public tests cannot determine if your code satisfies these requirements. Verify your code manually.\n",
       "q16 - 4 message: Note that the Gradescope autograder will deduct points if your code fails the following rubric point - 'did not exit loop and instead iterated further after finding the answer (-1)'. The public tests cannot determine if your code satisfies these requirements. Verify your code manually."
      ]
     },
     "execution_count": 71,
     "metadata": {},
     "output_type": "execute_result"
    }
   ],
   "source": [
    "grader.check(\"q16\")"
   ]
  },
  {
   "cell_type": "markdown",
   "id": "bca7698d",
   "metadata": {
    "deletable": false,
    "editable": false
   },
   "source": [
    "**Question 17:** **List** the names (`planet_name`) of all the `Planet` objects which can support liquid water when they are at **both** their **shortest** and **longest** distances to their host star.\n",
    "\n",
    "Your output **must** be a **list**. You **must** ignore `Planet` objects with missing `eccentricity`, or `semi_major_radius` data and planets whose host `Star` has missing `stellar_luminosity` data.\n",
    "\n",
    "**Hint:** You can find the actual shortest and longest distances of the planet with the `get_distances_to_star` function, and the shortest and longest distances at which liquid water can be supported with the `get_liquid_water_distances` function. You must consider `Planet` objects for which the actual distances to their host star lie **within** the distances at which liquid water can be supported."
   ]
  },
  {
   "cell_type": "code",
   "execution_count": 72,
   "id": "571c3099",
   "metadata": {
    "execution": {
     "iopub.execute_input": "2023-11-15T16:44:22.097673Z",
     "iopub.status.busy": "2023-11-15T16:44:22.097673Z",
     "iopub.status.idle": "2023-11-15T16:44:22.120537Z",
     "shell.execute_reply": "2023-11-15T16:44:22.119528Z"
    },
    "tags": []
   },
   "outputs": [
    {
     "data": {
      "text/plain": [
       "['GJ 422 b',\n",
       " 'HD 10697 b',\n",
       " 'HD 114729 b',\n",
       " 'HD 145934 b',\n",
       " 'HD 147379 b',\n",
       " 'HD 17674 b',\n",
       " 'HD 188015 b',\n",
       " 'HD 564 b',\n",
       " 'Kepler-1341 b',\n",
       " 'Kepler-1410 b',\n",
       " 'Kepler-1540 b',\n",
       " 'Kepler-1544 b',\n",
       " 'Kepler-1554 b',\n",
       " 'Kepler-1593 b',\n",
       " 'Kepler-1628 b',\n",
       " 'Kepler-1647 b',\n",
       " 'Kepler-1652 b',\n",
       " 'Kepler-1653 b',\n",
       " 'Kepler-1661 b',\n",
       " 'Kepler-1690 b',\n",
       " 'Kepler-1868 b',\n",
       " 'Kepler-1981 b',\n",
       " 'Kepler-442 b',\n",
       " 'Kepler-443 b',\n",
       " 'Kepler-452 b',\n",
       " 'Kepler-453 b',\n",
       " 'Kepler-705 b',\n",
       " 'Proxima Cen b',\n",
       " 'HD 156668 c',\n",
       " 'HD 159868 b',\n",
       " 'HD 28185 b',\n",
       " 'HD 45364 c',\n",
       " 'Kepler-1086 c',\n",
       " 'Kepler-1143 c',\n",
       " 'Kepler-155 c',\n",
       " 'Kepler-283 c',\n",
       " 'Kepler-553 c',\n",
       " 'Kepler-712 c',\n",
       " 'TOI-199 c',\n",
       " \"Teegarden's Star b\",\n",
       " 'GJ 180 c',\n",
       " 'GJ 433 d',\n",
       " 'Kepler-174 d',\n",
       " 'Kepler-454 c',\n",
       " 'Kepler-47 c',\n",
       " 'TOI-700 d',\n",
       " 'TRAPPIST-1 d',\n",
       " 'TRAPPIST-1 e',\n",
       " 'Kepler-68 d',\n",
       " 'HD 160691 b',\n",
       " 'HD 191939 g',\n",
       " 'HD 34445 f',\n",
       " 'GJ 667 C c',\n",
       " 'GJ 667 C f']"
      ]
     },
     "execution_count": 72,
     "metadata": {},
     "output_type": "execute_result"
    }
   ],
   "source": [
    "# compute and store the answer in the variable 'planets_with_liquid_water', then display it\n",
    "planets_with_liquid_water = []\n",
    "for x in all_planets_list:\n",
    "    if x.eccentricity is None or x.semi_major_radius is None:\n",
    "        continue\n",
    "    liquid_distances = get_liquid_water_distances(x)\n",
    "    if liquid_distances is None:\n",
    "        continue\n",
    "    real_distances = get_distances_to_star(x)\n",
    "    if real_distances is None:\n",
    "        continue\n",
    "    if real_distances[0] >= liquid_distances[0] and real_distances[1] <= liquid_distances[1]:\n",
    "        planets_with_liquid_water.append(x.planet_name)\n",
    "planets_with_liquid_water"
   ]
  },
  {
   "cell_type": "code",
   "execution_count": 73,
   "id": "3581e579",
   "metadata": {
    "deletable": false,
    "editable": false
   },
   "outputs": [
    {
     "data": {
      "text/html": [
       "<p><strong><pre style='display: inline;'>q17</pre></strong> passed! 🌟</p><p><strong><pre style='display: inline;'>q17 - 2</pre> message:</strong> Note that the Gradescope autograder will deduct points if your code fails the following rubric point - 'incorrect logic is used to answer (-1)'. The public tests cannot determine if your code satisfies these requirements. Verify your code manually.</p><p><strong><pre style='display: inline;'>q17 - 3</pre> message:</strong> Note that the Gradescope autograder will deduct points if your code fails the following rubric point - '`get_liquid_water_distances` function is not used to answer (-1)'. The public tests cannot determine if your code satisfies these requirements. Verify your code manually.</p><p><strong><pre style='display: inline;'>q17 - 4</pre> message:</strong> Note that the Gradescope autograder will deduct points if your code fails the following rubric point - '`all_planets_list` data structure is not used to answer (-1)'. The public tests cannot determine if your code satisfies these requirements. Verify your code manually.</p>"
      ],
      "text/plain": [
       "q17 results: All test cases passed!\n",
       "q17 - 2 message: Note that the Gradescope autograder will deduct points if your code fails the following rubric point - 'incorrect logic is used to answer (-1)'. The public tests cannot determine if your code satisfies these requirements. Verify your code manually.\n",
       "q17 - 3 message: Note that the Gradescope autograder will deduct points if your code fails the following rubric point - '`get_liquid_water_distances` function is not used to answer (-1)'. The public tests cannot determine if your code satisfies these requirements. Verify your code manually.\n",
       "q17 - 4 message: Note that the Gradescope autograder will deduct points if your code fails the following rubric point - '`all_planets_list` data structure is not used to answer (-1)'. The public tests cannot determine if your code satisfies these requirements. Verify your code manually."
      ]
     },
     "execution_count": 73,
     "metadata": {},
     "output_type": "execute_result"
    }
   ],
   "source": [
    "grader.check(\"q17\")"
   ]
  },
  {
   "cell_type": "markdown",
   "id": "74dfc7dd",
   "metadata": {
    "deletable": false,
    "editable": false
   },
   "source": [
    "#### Surface temperature:\n",
    "\n",
    "The temperature on the surface of the planet is another important criteria for deciding whether a planet is habitable. The `equilibrium_temperature` of a `Planet` is the temperature that the planet would be, if it were a [black body](https://en.wikipedia.org/wiki/Black_body) (i.e., if it were able to absorb all the radiation it receives from its host star). However, most planets are not perfect black bodies and reflect some of the radiation that they receive from their host star. Astronomers use the quantity [albedo](https://en.wikipedia.org/wiki/Albedo) to measure how much radiation is reflected by the planet. An albedo of *0* implies that the planet is a perfect black body which absorbs all its radiation, while an albedo of *1* implies that the planet is perfectly reflective, and does not retain any radiation. In the real world, most planets have an albedo value between *0* and *0.5*.\n",
    "\n",
    "Using the albedo of a planet, we can compute the temperature on the surface of a planet as follows\n",
    "\n",
    "$$ \\texttt{surface temperature} = \\left(1- \\texttt{albedo}\\right) ^{1/4} \\times \\texttt{equilibrium temperature}$$\n",
    "\n",
    "Unfortunately, we do **not** have the albedo values of the `Planet` objects in our dataset. So, we will instead make some educated guesses and find the **maximum** and **minimum** surface temperatures, assuming that the albedo is within the range of *0* to *0.5* (which is known to be the case for most planets)."
   ]
  },
  {
   "cell_type": "markdown",
   "id": "30812ed7",
   "metadata": {
    "deletable": false,
    "editable": false
   },
   "source": [
    "### Function 5: `get_surface_temperatures(planet)`\n",
    "\n",
    "You **must** define this function which takes in a `Planet` object as its input, and then **returns** a **list** of two **floats**. The first float should be the **minimum surface temperature** of the `Planet` object (which can be computed by assuming a **albedo** value of *0.5*), and the second float should be the **maximum surface temperature** (which can be computed by assuming a **albedo** value of *0.0*). If the `equilibrium_temperature` data of the `Planet` is missing, then the function **must** return `None`."
   ]
  },
  {
   "cell_type": "code",
   "execution_count": 74,
   "id": "a6abc3d1",
   "metadata": {
    "execution": {
     "iopub.execute_input": "2023-11-15T16:44:22.169687Z",
     "iopub.status.busy": "2023-11-15T16:44:22.169687Z",
     "iopub.status.idle": "2023-11-15T16:44:22.175373Z",
     "shell.execute_reply": "2023-11-15T16:44:22.174366Z"
    },
    "tags": []
   },
   "outputs": [],
   "source": [
    "# define the function 'get_surface_temperatures' here\n",
    "def get_surface_temperatures(planet):\n",
    "    if planet.equilibrium_temperature == None:\n",
    "        return None\n",
    "    else:\n",
    "        equilibrium_temp = planet.equilibrium_temperature\n",
    "        min_temp = ((1-0.5)**(1/4))*(equilibrium_temp)\n",
    "        max_temp = ((1-0.0)**(1/4))*(equilibrium_temp)\n",
    "        return [min_temp, max_temp]"
   ]
  },
  {
   "cell_type": "code",
   "execution_count": 75,
   "id": "b82666ad",
   "metadata": {
    "deletable": false,
    "editable": false
   },
   "outputs": [
    {
     "data": {
      "text/html": [
       "<p><strong><pre style='display: inline;'>get_surface_temperatures</pre></strong> passed! 🎉</p><p><strong><pre style='display: inline;'>get_surface_temperatures - 1</pre> message:</strong> Note that the Gradescope autograder will deduct points if your code fails the following rubric point - 'function did not return `None` for missing data (-1)'. The public tests cannot determine if your code satisfies these requirements. Verify your code manually.</p><p><strong><pre style='display: inline;'>get_surface_temperatures - 2</pre> message:</strong> Note that the Gradescope autograder will deduct points if your code fails the following rubric point - 'function logic is incorrect (-2)'. The public tests cannot determine if your code satisfies these requirements. Verify your code manually.</p>"
      ],
      "text/plain": [
       "get_surface_temperatures results: All test cases passed!\n",
       "get_surface_temperatures - 1 message: Note that the Gradescope autograder will deduct points if your code fails the following rubric point - 'function did not return `None` for missing data (-1)'. The public tests cannot determine if your code satisfies these requirements. Verify your code manually.\n",
       "get_surface_temperatures - 2 message: Note that the Gradescope autograder will deduct points if your code fails the following rubric point - 'function logic is incorrect (-2)'. The public tests cannot determine if your code satisfies these requirements. Verify your code manually."
      ]
     },
     "execution_count": 75,
     "metadata": {},
     "output_type": "execute_result"
    }
   ],
   "source": [
    "grader.check(\"get_surface_temperatures\")"
   ]
  },
  {
   "cell_type": "markdown",
   "id": "3971dd33",
   "metadata": {
    "deletable": false,
    "editable": false
   },
   "source": [
    "**Question 18:** Find the **minimum** and **maximum** surface temperatures for the planet *HD 20794 d*.\n",
    "\n",
    "Your output **must** be a **list** of two **floats** representing the **minimum** and **maximum** surface temperatures. Remember to `break` out of your loop after you identify the correct `Planet` object."
   ]
  },
  {
   "cell_type": "code",
   "execution_count": 76,
   "id": "add522b3",
   "metadata": {
    "execution": {
     "iopub.execute_input": "2023-11-15T16:44:22.197054Z",
     "iopub.status.busy": "2023-11-15T16:44:22.196052Z",
     "iopub.status.idle": "2023-11-15T16:44:22.204952Z",
     "shell.execute_reply": "2023-11-15T16:44:22.203944Z"
    },
    "tags": []
   },
   "outputs": [
    {
     "data": {
      "text/plain": [
       "[326.2678091184412, 388.0]"
      ]
     },
     "execution_count": 76,
     "metadata": {},
     "output_type": "execute_result"
    }
   ],
   "source": [
    "# compute and store the answer in the variable 'surface_temp_hd_20794_d', then display it\n",
    "for x in all_planets_list:\n",
    "    if x.planet_name == 'HD 20794 d':\n",
    "        surface_temp_hd_20794_d = get_surface_temperatures(x)\n",
    "        break\n",
    "surface_temp_hd_20794_d"
   ]
  },
  {
   "cell_type": "code",
   "execution_count": 77,
   "id": "039195fd",
   "metadata": {
    "deletable": false,
    "editable": false
   },
   "outputs": [
    {
     "data": {
      "text/html": [
       "<p><strong><pre style='display: inline;'>q18</pre></strong> passed! 🙌</p><p><strong><pre style='display: inline;'>q18 - 2</pre> message:</strong> Note that the Gradescope autograder will deduct points if your code fails the following rubric point - '`get_surface_temperatures` function is not used to answer (-1)'. The public tests cannot determine if your code satisfies these requirements. Verify your code manually.</p><p><strong><pre style='display: inline;'>q18 - 3</pre> message:</strong> Note that the Gradescope autograder will deduct points if your code fails the following rubric point - '`all_planets_list` data structure is not used to answer (-1)'. The public tests cannot determine if your code satisfies these requirements. Verify your code manually.</p><p><strong><pre style='display: inline;'>q18 - 4</pre> message:</strong> Note that the Gradescope autograder will deduct points if your code fails the following rubric point - 'did not exit loop and instead iterated further after finding the answer (-1)'. The public tests cannot determine if your code satisfies these requirements. Verify your code manually.</p>"
      ],
      "text/plain": [
       "q18 results: All test cases passed!\n",
       "q18 - 2 message: Note that the Gradescope autograder will deduct points if your code fails the following rubric point - '`get_surface_temperatures` function is not used to answer (-1)'. The public tests cannot determine if your code satisfies these requirements. Verify your code manually.\n",
       "q18 - 3 message: Note that the Gradescope autograder will deduct points if your code fails the following rubric point - '`all_planets_list` data structure is not used to answer (-1)'. The public tests cannot determine if your code satisfies these requirements. Verify your code manually.\n",
       "q18 - 4 message: Note that the Gradescope autograder will deduct points if your code fails the following rubric point - 'did not exit loop and instead iterated further after finding the answer (-1)'. The public tests cannot determine if your code satisfies these requirements. Verify your code manually."
      ]
     },
     "execution_count": 77,
     "metadata": {},
     "output_type": "execute_result"
    }
   ],
   "source": [
    "grader.check(\"q18\")"
   ]
  },
  {
   "cell_type": "markdown",
   "id": "faa892cd",
   "metadata": {
    "deletable": false,
    "editable": false
   },
   "source": [
    "**Question 19:** **List** the names (`planet_name`) of all the `Planet` objects whose **minimum surface temperature** is **greater** than *263* (Kelvin) and **maximum surface temperature** is **less** than *323* (Kelvin).\n",
    "\n",
    "Your output **must** be a **list**. You **must** ignore `Planet` objects with missing `equilibrium_temperature` data."
   ]
  },
  {
   "cell_type": "code",
   "execution_count": 78,
   "id": "4a9c9ce3",
   "metadata": {
    "execution": {
     "iopub.execute_input": "2023-11-15T16:44:22.240123Z",
     "iopub.status.busy": "2023-11-15T16:44:22.240123Z",
     "iopub.status.idle": "2023-11-15T16:44:22.256381Z",
     "shell.execute_reply": "2023-11-15T16:44:22.255371Z"
    },
    "tags": []
   },
   "outputs": [
    {
     "data": {
      "text/plain": [
       "['K2-323 b',\n",
       " 'K2-9 b',\n",
       " 'Kepler-1503 b',\n",
       " 'Kepler-1512 b',\n",
       " 'Kepler-505 b',\n",
       " 'Kepler-577 b',\n",
       " 'TOI-4562 b',\n",
       " 'EPIC 212737443 c',\n",
       " 'GJ 3929 c',\n",
       " 'KOI-1783.02',\n",
       " 'Kepler-1085 b',\n",
       " 'Kepler-436 b',\n",
       " 'Kepler-610 c',\n",
       " 'Kepler-281 d',\n",
       " 'Kepler-351 d',\n",
       " 'TOI-712 d',\n",
       " 'Kepler-169 f',\n",
       " 'Kepler-186 e']"
      ]
     },
     "execution_count": 78,
     "metadata": {},
     "output_type": "execute_result"
    }
   ],
   "source": [
    "# compute and store the answer in the variable 'pleasant_planets', then display it\n",
    "pleasant_planets = []\n",
    "for x in all_planets_list:\n",
    "    if x.equilibrium_temperature is not None and get_surface_temperatures(x)[0] > 263 and get_surface_temperatures(x)[1] < 323:\n",
    "        pleasant_planets.append(x.planet_name)\n",
    "pleasant_planets"
   ]
  },
  {
   "cell_type": "code",
   "execution_count": 79,
   "id": "e8f7fde0",
   "metadata": {
    "deletable": false,
    "editable": false
   },
   "outputs": [
    {
     "data": {
      "text/html": [
       "<p><strong><pre style='display: inline;'>q19</pre></strong> passed! 💯</p><p><strong><pre style='display: inline;'>q19 - 2</pre> message:</strong> Note that the Gradescope autograder will deduct points if your code fails the following rubric point - 'incorrect comparison operators are used (-1)'. The public tests cannot determine if your code satisfies these requirements. Verify your code manually.</p><p><strong><pre style='display: inline;'>q19 - 3</pre> message:</strong> Note that the Gradescope autograder will deduct points if your code fails the following rubric point - '`get_surface_temperatures` function is not used to answer (-1)'. The public tests cannot determine if your code satisfies these requirements. Verify your code manually.</p><p><strong><pre style='display: inline;'>q19 - 4</pre> message:</strong> Note that the Gradescope autograder will deduct points if your code fails the following rubric point - '`all_planets_list` data structure is not used to answer (-1)'. The public tests cannot determine if your code satisfies these requirements. Verify your code manually.</p>"
      ],
      "text/plain": [
       "q19 results: All test cases passed!\n",
       "q19 - 2 message: Note that the Gradescope autograder will deduct points if your code fails the following rubric point - 'incorrect comparison operators are used (-1)'. The public tests cannot determine if your code satisfies these requirements. Verify your code manually.\n",
       "q19 - 3 message: Note that the Gradescope autograder will deduct points if your code fails the following rubric point - '`get_surface_temperatures` function is not used to answer (-1)'. The public tests cannot determine if your code satisfies these requirements. Verify your code manually.\n",
       "q19 - 4 message: Note that the Gradescope autograder will deduct points if your code fails the following rubric point - '`all_planets_list` data structure is not used to answer (-1)'. The public tests cannot determine if your code satisfies these requirements. Verify your code manually."
      ]
     },
     "execution_count": 79,
     "metadata": {},
     "output_type": "execute_result"
    }
   ],
   "source": [
    "grader.check(\"q19\")"
   ]
  },
  {
   "cell_type": "markdown",
   "id": "a54f6551",
   "metadata": {
    "deletable": false,
    "editable": false
   },
   "source": [
    "#### Putting it all together:\n",
    "\n",
    "We are finally ready to combine all our various criteria of habitability to make a list of planets which satisfy all the criteria above, and could potentially be habitable. Unsurprisingly, if we are too strict with our expectations, no planets in the dataset will meet them. So, allowing for some technological improvements in the future, we will make more modest requests of the planets in our dataset."
   ]
  },
  {
   "cell_type": "markdown",
   "id": "3c7c34d0",
   "metadata": {
    "deletable": false,
    "editable": false
   },
   "source": [
    "**Question 20:** List the `planet_name` of all the `Planet` objects which satisfy the criteria below:\n",
    "\n",
    "1. The gravitational force experienced on the surface of the `Planet` must be **greater** than *0.75* and **less** than *1.25* times that of the Earth.\n",
    "2. The planet must always **lie within** the range at which it is able to support liquid water.\n",
    "3. The **minimum** surface temperature must be **greater** than *200* and the **maximum** surface temperature must be **less** than *350*.\n",
    "\n",
    "Your output **must** be a **list** of **strings**. You **must** ignore any `Planet` objects for which you cannot determine if any of these criteria are met."
   ]
  },
  {
   "cell_type": "code",
   "execution_count": 80,
   "id": "ec5b1d1b",
   "metadata": {
    "execution": {
     "iopub.execute_input": "2023-11-15T16:44:22.305700Z",
     "iopub.status.busy": "2023-11-15T16:44:22.304700Z",
     "iopub.status.idle": "2023-11-15T16:44:22.334762Z",
     "shell.execute_reply": "2023-11-15T16:44:22.333750Z"
    },
    "tags": []
   },
   "outputs": [
    {
     "data": {
      "text/plain": [
       "['Kepler-1341 b',\n",
       " 'Kepler-1410 b',\n",
       " 'Kepler-1540 b',\n",
       " 'Kepler-1544 b',\n",
       " 'Kepler-1554 b',\n",
       " 'Kepler-1593 b',\n",
       " 'Kepler-1628 b',\n",
       " 'Kepler-1652 b',\n",
       " 'Kepler-1653 b',\n",
       " 'Kepler-1661 b',\n",
       " 'Kepler-1690 b',\n",
       " 'Kepler-452 b',\n",
       " 'Kepler-705 b',\n",
       " 'Kepler-155 c',\n",
       " 'Kepler-283 c',\n",
       " 'TOI-700 d',\n",
       " 'TRAPPIST-1 e',\n",
       " 'HD 191939 g']"
      ]
     },
     "execution_count": 80,
     "metadata": {},
     "output_type": "execute_result"
    }
   ],
   "source": [
    "# compute and store the answer in the variable 'habitable_planets', then display it\n",
    "habitable_planets = []\n",
    "for x in all_planets_list:\n",
    "    if (x.planet_mass is None) or (x.planet_radius is None) or (get_liquid_water_distances(x) is None) or (x.semi_major_radius is None) or (x.eccentricity is None) or (x.equilibrium_temperature is None):\n",
    "        continue\n",
    "    gravity_force = get_surface_gravity(x)\n",
    "    if gravity_force < 0.75 or gravity_force > 1.25:\n",
    "        continue\n",
    "    distance_stars = get_distances_to_star(x)\n",
    "    if distance_stars is None:\n",
    "        continue\n",
    "    distance_water = get_liquid_water_distances(x)\n",
    "    if (distance_stars[0] < distance_water[0]) or (distance_stars[1] > distance_water[1]):\n",
    "        continue\n",
    "    if get_surface_temperatures(x)[0] > 200 and get_surface_temperatures(x)[1] < 350:\n",
    "        habitable_planets.append(x.planet_name)\n",
    "habitable_planets"
   ]
  },
  {
   "cell_type": "code",
   "execution_count": 81,
   "id": "f5c725ff",
   "metadata": {
    "deletable": false,
    "editable": false
   },
   "outputs": [
    {
     "data": {
      "text/html": [
       "<p><strong><pre style='display: inline;'>q20</pre></strong> passed! ✨</p><p><strong><pre style='display: inline;'>q20 - 2</pre> message:</strong> Note that the Gradescope autograder will deduct points if your code fails the following rubric point - 'incorrect logic is used to answer (-2)'. The public tests cannot determine if your code satisfies these requirements. Verify your code manually.</p><p><strong><pre style='display: inline;'>q20 - 3</pre> message:</strong> Note that the Gradescope autograder will deduct points if your code fails the following rubric point - '`get_surface_gravity`, `get_distances_to_star`, `get_liquid_water_distances`, and `get_surface_temperatures` functions are not used to answer (-1)'. The public tests cannot determine if your code satisfies these requirements. Verify your code manually.</p><p><strong><pre style='display: inline;'>q20 - 4</pre> message:</strong> Note that the Gradescope autograder will deduct points if your code fails the following rubric point - '`all_planets_list` data structure is not used to answer (-1)'. The public tests cannot determine if your code satisfies these requirements. Verify your code manually.</p>"
      ],
      "text/plain": [
       "q20 results: All test cases passed!\n",
       "q20 - 2 message: Note that the Gradescope autograder will deduct points if your code fails the following rubric point - 'incorrect logic is used to answer (-2)'. The public tests cannot determine if your code satisfies these requirements. Verify your code manually.\n",
       "q20 - 3 message: Note that the Gradescope autograder will deduct points if your code fails the following rubric point - '`get_surface_gravity`, `get_distances_to_star`, `get_liquid_water_distances`, and `get_surface_temperatures` functions are not used to answer (-1)'. The public tests cannot determine if your code satisfies these requirements. Verify your code manually.\n",
       "q20 - 4 message: Note that the Gradescope autograder will deduct points if your code fails the following rubric point - '`all_planets_list` data structure is not used to answer (-1)'. The public tests cannot determine if your code satisfies these requirements. Verify your code manually."
      ]
     },
     "execution_count": 81,
     "metadata": {},
     "output_type": "execute_result"
    }
   ],
   "source": [
    "grader.check(\"q20\")"
   ]
  },
  {
   "cell_type": "markdown",
   "id": "9c304bc9",
   "metadata": {
    "deletable": false,
    "editable": false
   },
   "source": [
    "**Food for thought:** If you are interested, you can play around these values more, and introduce more stringent requirements to try and find the single **most** habitable planet. Notice how so many of the habitable planets we found start with the string *Kepler*. Do you know why?"
   ]
  },
  {
   "cell_type": "code",
   "execution_count": 82,
   "id": "e27f6114",
   "metadata": {
    "execution": {
     "iopub.execute_input": "2023-11-15T16:44:22.388317Z",
     "iopub.status.busy": "2023-11-15T16:44:22.387315Z",
     "iopub.status.idle": "2023-11-15T16:44:22.392227Z",
     "shell.execute_reply": "2023-11-15T16:44:22.391220Z"
    }
   },
   "outputs": [],
   "source": [
    "# Food for thought is an entirely OPTIONAL exercise\n",
    "# you may leave your thoughts here as a comment if you wish to\n"
   ]
  },
  {
   "cell_type": "code",
   "execution_count": 83,
   "id": "55d1f48d",
   "metadata": {
    "deletable": false,
    "editable": false
   },
   "outputs": [
    {
     "data": {
      "text/html": [
       "<p><strong><pre style='display: inline;'>general_deductions</pre></strong> passed! 🎉</p><p><strong><pre style='display: inline;'>general_deductions - 1</pre> message:</strong> Note that the Gradescope autograder will deduct points if your code fails the following rubric point - 'Outputs not visible/did not save the notebook file prior to running the cell containing \"export\". We cannot see your output if you do not save before generating the zip file. (-3)'. The public tests cannot determine if your code satisfies these requirements. Verify your code manually.</p><p><strong><pre style='display: inline;'>general_deductions - 2</pre> message:</strong> Note that the Gradescope autograder will deduct points if your code fails the following rubric point - 'Used concepts/modules such as csv.DictReader, os.walk, and pandas not covered in class yet. Note that built-in functions that you have been introduced to can be used. (-3)'. The public tests cannot determine if your code satisfies these requirements. Verify your code manually.</p><p><strong><pre style='display: inline;'>general_deductions - 3</pre> message:</strong> Note that the Gradescope autograder will deduct points if your code fails the following rubric point - 'Large outputs such as stars_dict or planets_list are displayed in the notebook. (-3)'. The public tests cannot determine if your code satisfies these requirements. Verify your code manually.</p><p><strong><pre style='display: inline;'>general_deductions - 4</pre> message:</strong> Note that the Gradescope autograder will deduct points if your code fails the following rubric point - 'Import statements are not mentioned in the required cell at the top of the notebook. (-1)'. The public tests cannot determine if your code satisfies these requirements. Verify your code manually.</p>"
      ],
      "text/plain": [
       "general_deductions results: All test cases passed!\n",
       "general_deductions - 1 message: Note that the Gradescope autograder will deduct points if your code fails the following rubric point - 'Outputs not visible/did not save the notebook file prior to running the cell containing \"export\". We cannot see your output if you do not save before generating the zip file. (-3)'. The public tests cannot determine if your code satisfies these requirements. Verify your code manually.\n",
       "general_deductions - 2 message: Note that the Gradescope autograder will deduct points if your code fails the following rubric point - 'Used concepts/modules such as csv.DictReader, os.walk, and pandas not covered in class yet. Note that built-in functions that you have been introduced to can be used. (-3)'. The public tests cannot determine if your code satisfies these requirements. Verify your code manually.\n",
       "general_deductions - 3 message: Note that the Gradescope autograder will deduct points if your code fails the following rubric point - 'Large outputs such as stars_dict or planets_list are displayed in the notebook. (-3)'. The public tests cannot determine if your code satisfies these requirements. Verify your code manually.\n",
       "general_deductions - 4 message: Note that the Gradescope autograder will deduct points if your code fails the following rubric point - 'Import statements are not mentioned in the required cell at the top of the notebook. (-1)'. The public tests cannot determine if your code satisfies these requirements. Verify your code manually."
      ]
     },
     "execution_count": 83,
     "metadata": {},
     "output_type": "execute_result"
    }
   ],
   "source": [
    "grader.check(\"general_deductions\")"
   ]
  },
  {
   "cell_type": "code",
   "execution_count": 84,
   "id": "7fe35ef8",
   "metadata": {
    "deletable": false,
    "editable": false
   },
   "outputs": [
    {
     "data": {
      "text/html": [
       "<p><strong><pre style='display: inline;'>summary</pre></strong> passed! 🚀</p>"
      ],
      "text/plain": [
       "summary results: All test cases passed!"
      ]
     },
     "execution_count": 84,
     "metadata": {},
     "output_type": "execute_result"
    }
   ],
   "source": [
    "grader.check(\"summary\")"
   ]
  },
  {
   "cell_type": "markdown",
   "id": "1e9efce3",
   "metadata": {
    "deletable": false,
    "editable": false
   },
   "source": [
    "## Submission\n",
    "It is recommended that at this stage, you Restart and Run all Cells in your notebook.\n",
    "That will automatically save your work and generate a zip file for you to submit.\n",
    "\n",
    "**SUBMISSION INSTRUCTIONS**:\n",
    "1. **Upload** the zipfile to Gradescope.\n",
    "2. If you completed the project with a **partner**, make sure to **add their name** by clicking \"Add Group Member\"\n",
    "in Gradescope when uploading the zip file.\n",
    "3. Check **Gradescope** results as soon as the auto-grader execution gets completed.\n",
    "4. Your **final score** for this project is the score that you see on **Gradescope**.\n",
    "5. You are **allowed** to resubmit on Gradescope as many times as you want to.\n",
    "6. **Contact** a TA/PM if you lose any points on Gradescope for any **unclear reasons**."
   ]
  },
  {
   "cell_type": "code",
   "execution_count": null,
   "id": "9aa4abeb",
   "metadata": {
    "cell_type": "code",
    "deletable": false,
    "editable": false
   },
   "outputs": [],
   "source": [
    "# running this cell will create a new save checkpoint for your notebook\n",
    "from IPython.display import display, Javascript\n",
    "display(Javascript('IPython.notebook.save_checkpoint();'))"
   ]
  },
  {
   "cell_type": "code",
   "execution_count": null,
   "id": "3ad25124",
   "metadata": {
    "cell_type": "code",
    "deletable": false,
    "editable": false
   },
   "outputs": [],
   "source": [
    "!jupytext --to py p11.ipynb"
   ]
  },
  {
   "cell_type": "code",
   "execution_count": null,
   "id": "9b9cfa44",
   "metadata": {
    "cell_type": "code",
    "deletable": false,
    "editable": false
   },
   "outputs": [],
   "source": [
    "public_tests.check_file_size(\"p11.ipynb\")\n",
    "grader.export(pdf=False, run_tests=False, files=[\"p11.py\"])"
   ]
  },
  {
   "cell_type": "markdown",
   "id": "3441a17b",
   "metadata": {
    "deletable": false,
    "editable": false
   },
   "source": [
    " "
   ]
  }
 ],
 "metadata": {
  "jupytext": {
   "cell_metadata_filter": "-all",
   "encoding": "# coding: utf-8",
   "executable": "/usr/bin/env python",
   "notebook_metadata_filter": "-all"
  },
  "kernelspec": {
   "display_name": "Python 3 (ipykernel)",
   "language": "python",
   "name": "python3"
  },
  "language_info": {
   "codemirror_mode": {
    "name": "ipython",
    "version": 3
   },
   "file_extension": ".py",
   "mimetype": "text/x-python",
   "name": "python",
   "nbconvert_exporter": "python",
   "pygments_lexer": "ipython3",
   "version": "3.11.4"
  },
  "otter": {
   "OK_FORMAT": true,
   "tests": {
    "all_planets_list": {
     "name": "all_planets_list",
     "points": 0,
     "suites": [
      {
       "cases": [
        {
         "code": ">>> \n>>> public_tests.rubric_check('all_planets_list: data structure is defined incorrectly')\nAll test cases passed!\n",
         "hidden": false,
         "locked": false,
         "success_message": "Note that the Gradescope autograder will deduct points if your code fails the following rubric point - 'data structure is defined incorrectly (-1)'. The public tests cannot determine if your code satisfies these requirements. Verify your code manually."
        },
        {
         "code": ">>> \n>>> public_tests.rubric_check('all_planets_list: `get_planets` function is not used to answer', False)\nAll test cases passed!\n",
         "hidden": false,
         "locked": false,
         "success_message": "Note that the Gradescope autograder will deduct points if your code fails the following rubric point - '`get_planets` function is not used to answer (-1)'. The public tests cannot determine if your code satisfies these requirements. Verify your code manually."
        },
        {
         "code": ">>> \n>>> public_tests.rubric_check('all_planets_list: `broken_data` data structure is not used to answer', False)\nAll test cases passed!\n",
         "hidden": false,
         "locked": false,
         "success_message": "Note that the Gradescope autograder will deduct points if your code fails the following rubric point - '`broken_data` data structure is not used to answer (-1)'. The public tests cannot determine if your code satisfies these requirements. Verify your code manually."
        },
        {
         "code": ">>> \n>>> public_tests.rubric_check('all_planets_list: paths are hardcoded using slashes')\nAll test cases passed!\n",
         "hidden": false,
         "locked": false,
         "success_message": "Note that the Gradescope autograder will deduct points if your code fails the following rubric point - 'paths are hardcoded using slashes (-1)'. The public tests cannot determine if your code satisfies these requirements. Verify your code manually."
        },
        {
         "code": ">>> \n>>> public_tests.rubric_check('all_planets_list: `planets_list` data structure is modified or redefined')\nAll test cases passed!\n",
         "hidden": false,
         "locked": false,
         "success_message": "Note that the Gradescope autograder will deduct points if your code fails the following rubric point - '`planets_list` data structure is modified or redefined (-1)'. The public tests cannot determine if your code satisfies these requirements. Verify your code manually."
        }
       ],
       "scored": true,
       "setup": "",
       "teardown": "",
       "type": "doctest"
      }
     ]
    },
    "general_deductions": {
     "name": "general_deductions",
     "points": 0,
     "suites": [
      {
       "cases": [
        {
         "code": ">>> \n>>> public_tests.rubric_check('general_deductions: Outputs not visible/did not save the notebook file prior to running the cell containing \"export\". We cannot see your output if you do not save before generating the zip file.')\nAll test cases passed!\n",
         "hidden": false,
         "locked": false,
         "success_message": "Note that the Gradescope autograder will deduct points if your code fails the following rubric point - 'Outputs not visible/did not save the notebook file prior to running the cell containing \"export\". We cannot see your output if you do not save before generating the zip file. (-3)'. The public tests cannot determine if your code satisfies these requirements. Verify your code manually."
        },
        {
         "code": ">>> \n>>> public_tests.rubric_check('general_deductions: Used concepts/modules such as csv.DictReader, os.walk, and pandas not covered in class yet. Note that built-in functions that you have been introduced to can be used.')\nAll test cases passed!\n",
         "hidden": false,
         "locked": false,
         "success_message": "Note that the Gradescope autograder will deduct points if your code fails the following rubric point - 'Used concepts/modules such as csv.DictReader, os.walk, and pandas not covered in class yet. Note that built-in functions that you have been introduced to can be used. (-3)'. The public tests cannot determine if your code satisfies these requirements. Verify your code manually."
        },
        {
         "code": ">>> \n>>> public_tests.rubric_check('general_deductions: Large outputs such as stars_dict or planets_list are displayed in the notebook.')\nAll test cases passed!\n",
         "hidden": false,
         "locked": false,
         "success_message": "Note that the Gradescope autograder will deduct points if your code fails the following rubric point - 'Large outputs such as stars_dict or planets_list are displayed in the notebook. (-3)'. The public tests cannot determine if your code satisfies these requirements. Verify your code manually."
        },
        {
         "code": ">>> \n>>> public_tests.rubric_check('general_deductions: Import statements are not mentioned in the required cell at the top of the notebook.')\nAll test cases passed!\n",
         "hidden": false,
         "locked": false,
         "success_message": "Note that the Gradescope autograder will deduct points if your code fails the following rubric point - 'Import statements are not mentioned in the required cell at the top of the notebook. (-1)'. The public tests cannot determine if your code satisfies these requirements. Verify your code manually."
        }
       ],
       "scored": true,
       "setup": "",
       "teardown": "",
       "type": "doctest"
      }
     ]
    },
    "get_all_paths_in": {
     "name": "get_all_paths_in",
     "points": 0,
     "suites": [
      {
       "cases": [
        {
         "code": ">>> \n>>> public_tests.rubric_check('get_all_paths_in: function does not remove all files and directories that start with `.`')\nAll test cases passed!\n",
         "hidden": false,
         "locked": false,
         "success_message": "Note that the Gradescope autograder will deduct points if your code fails the following rubric point - 'function does not remove all files and directories that start with `.` (-1)'. The public tests cannot determine if your code satisfies these requirements. Verify your code manually."
        },
        {
         "code": ">>> \n>>> public_tests.rubric_check('get_all_paths_in: function does not sort file names explicitly')\nAll test cases passed!\n",
         "hidden": false,
         "locked": false,
         "success_message": "Note that the Gradescope autograder will deduct points if your code fails the following rubric point - 'function does not sort file names explicitly (-1)'. The public tests cannot determine if your code satisfies these requirements. Verify your code manually."
        },
        {
         "code": ">>> \n>>> public_tests.rubric_check('get_all_paths_in: function logic is incorrect')\nAll test cases passed!\n",
         "hidden": false,
         "locked": false,
         "success_message": "Note that the Gradescope autograder will deduct points if your code fails the following rubric point - 'function logic is incorrect (-2)'. The public tests cannot determine if your code satisfies these requirements. Verify your code manually."
        },
        {
         "code": ">>> \n>>> public_tests.rubric_check('get_all_paths_in: hardcoding the name of directory inside the function')\nAll test cases passed!\n",
         "hidden": false,
         "locked": false,
         "success_message": "Note that the Gradescope autograder will deduct points if your code fails the following rubric point - 'hardcoding the name of directory inside the function (-1)'. The public tests cannot determine if your code satisfies these requirements. Verify your code manually."
        },
        {
         "code": ">>> \n>>> public_tests.rubric_check('get_all_paths_in: paths are hardcoded using slashes')\nAll test cases passed!\n",
         "hidden": false,
         "locked": false,
         "success_message": "Note that the Gradescope autograder will deduct points if your code fails the following rubric point - 'paths are hardcoded using slashes (-1)'. The public tests cannot determine if your code satisfies these requirements. Verify your code manually."
        },
        {
         "code": ">>> public_tests.rubric_check('get_all_paths_in: public tests')\nAll test cases passed!\n",
         "hidden": false,
         "locked": false
        }
       ],
       "scored": true,
       "setup": "",
       "teardown": "",
       "type": "doctest"
      }
     ]
    },
    "get_distances_to_star": {
     "name": "get_distances_to_star",
     "points": 0,
     "suites": [
      {
       "cases": [
        {
         "code": ">>> \n>>> public_tests.rubric_check('get_distances_to_star: function did not return `None` for missing data')\nAll test cases passed!\n",
         "hidden": false,
         "locked": false,
         "success_message": "Note that the Gradescope autograder will deduct points if your code fails the following rubric point - 'function did not return `None` for missing data (-1)'. The public tests cannot determine if your code satisfies these requirements. Verify your code manually."
        },
        {
         "code": ">>> \n>>> public_tests.rubric_check('get_distances_to_star: function logic is incorrect')\nAll test cases passed!\n",
         "hidden": false,
         "locked": false,
         "success_message": "Note that the Gradescope autograder will deduct points if your code fails the following rubric point - 'function logic is incorrect (-2)'. The public tests cannot determine if your code satisfies these requirements. Verify your code manually."
        }
       ],
       "scored": true,
       "setup": "",
       "teardown": "",
       "type": "doctest"
      }
     ]
    },
    "get_liquid_water_distances": {
     "name": "get_liquid_water_distances",
     "points": 0,
     "suites": [
      {
       "cases": [
        {
         "code": ">>> \n>>> public_tests.rubric_check('get_liquid_water_distances: function did not return `None` for missing data')\nAll test cases passed!\n",
         "hidden": false,
         "locked": false,
         "success_message": "Note that the Gradescope autograder will deduct points if your code fails the following rubric point - 'function did not return `None` for missing data (-1)'. The public tests cannot determine if your code satisfies these requirements. Verify your code manually."
        },
        {
         "code": ">>> \n>>> public_tests.rubric_check('get_liquid_water_distances: function logic is incorrect')\nAll test cases passed!\n",
         "hidden": false,
         "locked": false,
         "success_message": "Note that the Gradescope autograder will deduct points if your code fails the following rubric point - 'function logic is incorrect (-2)'. The public tests cannot determine if your code satisfies these requirements. Verify your code manually."
        }
       ],
       "scored": true,
       "setup": "",
       "teardown": "",
       "type": "doctest"
      }
     ]
    },
    "get_surface_gravity": {
     "name": "get_surface_gravity",
     "points": 0,
     "suites": [
      {
       "cases": [
        {
         "code": ">>> \n>>> public_tests.rubric_check('get_surface_gravity: function did not return `None` for missing data')\nAll test cases passed!\n",
         "hidden": false,
         "locked": false,
         "success_message": "Note that the Gradescope autograder will deduct points if your code fails the following rubric point - 'function did not return `None` for missing data (-1)'. The public tests cannot determine if your code satisfies these requirements. Verify your code manually."
        },
        {
         "code": ">>> \n>>> public_tests.rubric_check('get_surface_gravity: function logic is incorrect')\nAll test cases passed!\n",
         "hidden": false,
         "locked": false,
         "success_message": "Note that the Gradescope autograder will deduct points if your code fails the following rubric point - 'function logic is incorrect (-2)'. The public tests cannot determine if your code satisfies these requirements. Verify your code manually."
        }
       ],
       "scored": true,
       "setup": "",
       "teardown": "",
       "type": "doctest"
      }
     ]
    },
    "get_surface_temperatures": {
     "name": "get_surface_temperatures",
     "points": 0,
     "suites": [
      {
       "cases": [
        {
         "code": ">>> \n>>> public_tests.rubric_check('get_surface_temperatures: function did not return `None` for missing data')\nAll test cases passed!\n",
         "hidden": false,
         "locked": false,
         "success_message": "Note that the Gradescope autograder will deduct points if your code fails the following rubric point - 'function did not return `None` for missing data (-1)'. The public tests cannot determine if your code satisfies these requirements. Verify your code manually."
        },
        {
         "code": ">>> \n>>> public_tests.rubric_check('get_surface_temperatures: function logic is incorrect')\nAll test cases passed!\n",
         "hidden": false,
         "locked": false,
         "success_message": "Note that the Gradescope autograder will deduct points if your code fails the following rubric point - 'function logic is incorrect (-2)'. The public tests cannot determine if your code satisfies these requirements. Verify your code manually."
        }
       ],
       "scored": true,
       "setup": "",
       "teardown": "",
       "type": "doctest"
      }
     ]
    },
    "q1": {
     "name": "q1",
     "points": 0,
     "suites": [
      {
       "cases": [
        {
         "code": ">>> public_tests.check('q1', ratios_gj9827)\nAll test cases passed!\n",
         "hidden": false,
         "locked": false
        },
        {
         "code": ">>> \n>>> public_tests.rubric_check('q1: incorrect logic is used to answer')\nAll test cases passed!\n",
         "hidden": false,
         "locked": false,
         "success_message": "Note that the Gradescope autograder will deduct points if your code fails the following rubric point - 'incorrect logic is used to answer (-1)'. The public tests cannot determine if your code satisfies these requirements. Verify your code manually."
        },
        {
         "code": ">>> \n>>> public_tests.rubric_check('q1: `planets_list` data structure is not used to answer', False)\nAll test cases passed!\n",
         "hidden": false,
         "locked": false,
         "success_message": "Note that the Gradescope autograder will deduct points if your code fails the following rubric point - '`planets_list` data structure is not used to answer (-1)'. The public tests cannot determine if your code satisfies these requirements. Verify your code manually."
        },
        {
         "code": ">>> public_tests.rubric_check('q1: public tests')\nAll test cases passed!\n",
         "hidden": false,
         "locked": false
        }
       ],
       "scored": true,
       "setup": "",
       "teardown": "",
       "type": "doctest"
      }
     ]
    },
    "q10": {
     "name": "q10",
     "points": 0,
     "suites": [
      {
       "cases": [
        {
         "code": ">>> public_tests.check('q10', broken_data_others)\nAll test cases passed!\n",
         "hidden": false,
         "locked": false
        },
        {
         "code": ">>> \n>>> public_tests.rubric_check('q10: `get_all_paths_in` function is not used to answer', False)\nAll test cases passed!\n",
         "hidden": false,
         "locked": false,
         "success_message": "Note that the Gradescope autograder will deduct points if your code fails the following rubric point - '`get_all_paths_in` function is not used to answer (-2)'. The public tests cannot determine if your code satisfies these requirements. Verify your code manually."
        },
        {
         "code": ">>> \n>>> public_tests.rubric_check('q10: paths are hardcoded using slashes')\nAll test cases passed!\n",
         "hidden": false,
         "locked": false,
         "success_message": "Note that the Gradescope autograder will deduct points if your code fails the following rubric point - 'paths are hardcoded using slashes (-1)'. The public tests cannot determine if your code satisfies these requirements. Verify your code manually."
        },
        {
         "code": ">>> public_tests.rubric_check('q10: public tests')\nAll test cases passed!\n",
         "hidden": false,
         "locked": false
        }
       ],
       "scored": true,
       "setup": "",
       "teardown": "",
       "type": "doctest"
      }
     ]
    },
    "q11": {
     "name": "q11",
     "points": 0,
     "suites": [
      {
       "cases": [
        {
         "code": ">>> public_tests.check('q11', broken_data_keplers_100s)\nAll test cases passed!\n",
         "hidden": false,
         "locked": false
        },
        {
         "code": ">>> \n>>> public_tests.rubric_check('q11: `get_all_paths_in` function is not used to answer', False)\nAll test cases passed!\n",
         "hidden": false,
         "locked": false,
         "success_message": "Note that the Gradescope autograder will deduct points if your code fails the following rubric point - '`get_all_paths_in` function is not used to answer (-2)'. The public tests cannot determine if your code satisfies these requirements. Verify your code manually."
        },
        {
         "code": ">>> \n>>> public_tests.rubric_check('q11: paths are hardcoded using slashes')\nAll test cases passed!\n",
         "hidden": false,
         "locked": false,
         "success_message": "Note that the Gradescope autograder will deduct points if your code fails the following rubric point - 'paths are hardcoded using slashes (-1)'. The public tests cannot determine if your code satisfies these requirements. Verify your code manually."
        },
        {
         "code": ">>> public_tests.rubric_check('q11: public tests')\nAll test cases passed!\n",
         "hidden": false,
         "locked": false
        }
       ],
       "scored": true,
       "setup": "",
       "teardown": "",
       "type": "doctest"
      }
     ]
    },
    "q12": {
     "name": "q12",
     "points": 0,
     "suites": [
      {
       "cases": [
        {
         "code": ">>> public_tests.check('q12', broken_data_kepler_10_others)\nAll test cases passed!\n",
         "hidden": false,
         "locked": false
        },
        {
         "code": ">>> \n>>> public_tests.rubric_check('q12: `get_all_paths_in` function is not used to answer', False)\nAll test cases passed!\n",
         "hidden": false,
         "locked": false,
         "success_message": "Note that the Gradescope autograder will deduct points if your code fails the following rubric point - '`get_all_paths_in` function is not used to answer (-2)'. The public tests cannot determine if your code satisfies these requirements. Verify your code manually."
        },
        {
         "code": ">>> \n>>> public_tests.rubric_check('q12: paths are hardcoded using slashes')\nAll test cases passed!\n",
         "hidden": false,
         "locked": false,
         "success_message": "Note that the Gradescope autograder will deduct points if your code fails the following rubric point - 'paths are hardcoded using slashes (-1)'. The public tests cannot determine if your code satisfies these requirements. Verify your code manually."
        },
        {
         "code": ">>> public_tests.rubric_check('q12: public tests')\nAll test cases passed!\n",
         "hidden": false,
         "locked": false
        }
       ],
       "scored": true,
       "setup": "",
       "teardown": "",
       "type": "doctest"
      }
     ]
    },
    "q13": {
     "name": "q13",
     "points": 0,
     "suites": [
      {
       "cases": [
        {
         "code": ">>> public_tests.check('q13', broken_data)\nAll test cases passed!\n",
         "hidden": false,
         "locked": false
        },
        {
         "code": ">>> \n>>> public_tests.rubric_check('q13: `get_all_paths_in` function is not used to answer', False)\nAll test cases passed!\n",
         "hidden": false,
         "locked": false,
         "success_message": "Note that the Gradescope autograder will deduct points if your code fails the following rubric point - '`get_all_paths_in` function is not used to answer (-2)'. The public tests cannot determine if your code satisfies these requirements. Verify your code manually."
        },
        {
         "code": ">>> public_tests.rubric_check('q13: public tests')\nAll test cases passed!\n",
         "hidden": false,
         "locked": false
        }
       ],
       "scored": true,
       "setup": "",
       "teardown": "",
       "type": "doctest"
      }
     ]
    },
    "q14": {
     "name": "q14",
     "points": 0,
     "suites": [
      {
       "cases": [
        {
         "code": ">>> public_tests.check('q14', gj_674_b_gravity)\nAll test cases passed!\n",
         "hidden": false,
         "locked": false
        },
        {
         "code": ">>> \n>>> public_tests.rubric_check('q14: `get_surface_gravity` function is not used to answer', False)\nAll test cases passed!\n",
         "hidden": false,
         "locked": false,
         "success_message": "Note that the Gradescope autograder will deduct points if your code fails the following rubric point - '`get_surface_gravity` function is not used to answer (-1)'. The public tests cannot determine if your code satisfies these requirements. Verify your code manually."
        },
        {
         "code": ">>> \n>>> public_tests.rubric_check('q14: `all_planets_list` data structure is not used to answer', False)\nAll test cases passed!\n",
         "hidden": false,
         "locked": false,
         "success_message": "Note that the Gradescope autograder will deduct points if your code fails the following rubric point - '`all_planets_list` data structure is not used to answer (-1)'. The public tests cannot determine if your code satisfies these requirements. Verify your code manually."
        },
        {
         "code": ">>> \n>>> public_tests.rubric_check('q14: did not exit loop and instead iterated further after finding the answer')\nAll test cases passed!\n",
         "hidden": false,
         "locked": false,
         "success_message": "Note that the Gradescope autograder will deduct points if your code fails the following rubric point - 'did not exit loop and instead iterated further after finding the answer (-1)'. The public tests cannot determine if your code satisfies these requirements. Verify your code manually."
        }
       ],
       "scored": true,
       "setup": "",
       "teardown": "",
       "type": "doctest"
      }
     ]
    },
    "q15": {
     "name": "q15",
     "points": 0,
     "suites": [
      {
       "cases": [
        {
         "code": ">>> public_tests.check('q15', distances_to_star_b_cen_ab_b)\nAll test cases passed!\n",
         "hidden": false,
         "locked": false
        },
        {
         "code": ">>> \n>>> public_tests.rubric_check('q15: `get_distances_to_star` function is not used to answer', False)\nAll test cases passed!\n",
         "hidden": false,
         "locked": false,
         "success_message": "Note that the Gradescope autograder will deduct points if your code fails the following rubric point - '`get_distances_to_star` function is not used to answer (-1)'. The public tests cannot determine if your code satisfies these requirements. Verify your code manually."
        },
        {
         "code": ">>> \n>>> public_tests.rubric_check('q15: `all_planets_list` data structure is not used to answer', False)\nAll test cases passed!\n",
         "hidden": false,
         "locked": false,
         "success_message": "Note that the Gradescope autograder will deduct points if your code fails the following rubric point - '`all_planets_list` data structure is not used to answer (-1)'. The public tests cannot determine if your code satisfies these requirements. Verify your code manually."
        },
        {
         "code": ">>> \n>>> public_tests.rubric_check('q15: did not exit loop and instead iterated further after finding the answer')\nAll test cases passed!\n",
         "hidden": false,
         "locked": false,
         "success_message": "Note that the Gradescope autograder will deduct points if your code fails the following rubric point - 'did not exit loop and instead iterated further after finding the answer (-1)'. The public tests cannot determine if your code satisfies these requirements. Verify your code manually."
        }
       ],
       "scored": true,
       "setup": "",
       "teardown": "",
       "type": "doctest"
      }
     ]
    },
    "q16": {
     "name": "q16",
     "points": 0,
     "suites": [
      {
       "cases": [
        {
         "code": ">>> public_tests.check('q16', liquid_water_distances_kepler_197_e)\nAll test cases passed!\n",
         "hidden": false,
         "locked": false
        },
        {
         "code": ">>> \n>>> public_tests.rubric_check('q16: `get_liquid_water_distances` function is not used to answer', False)\nAll test cases passed!\n",
         "hidden": false,
         "locked": false,
         "success_message": "Note that the Gradescope autograder will deduct points if your code fails the following rubric point - '`get_liquid_water_distances` function is not used to answer (-1)'. The public tests cannot determine if your code satisfies these requirements. Verify your code manually."
        },
        {
         "code": ">>> \n>>> public_tests.rubric_check('q16: `all_planets_list` data structure is not used to answer', False)\nAll test cases passed!\n",
         "hidden": false,
         "locked": false,
         "success_message": "Note that the Gradescope autograder will deduct points if your code fails the following rubric point - '`all_planets_list` data structure is not used to answer (-1)'. The public tests cannot determine if your code satisfies these requirements. Verify your code manually."
        },
        {
         "code": ">>> \n>>> public_tests.rubric_check('q16: did not exit loop and instead iterated further after finding the answer')\nAll test cases passed!\n",
         "hidden": false,
         "locked": false,
         "success_message": "Note that the Gradescope autograder will deduct points if your code fails the following rubric point - 'did not exit loop and instead iterated further after finding the answer (-1)'. The public tests cannot determine if your code satisfies these requirements. Verify your code manually."
        }
       ],
       "scored": true,
       "setup": "",
       "teardown": "",
       "type": "doctest"
      }
     ]
    },
    "q17": {
     "name": "q17",
     "points": 0,
     "suites": [
      {
       "cases": [
        {
         "code": ">>> public_tests.check('q17', planets_with_liquid_water)\nAll test cases passed!\n",
         "hidden": false,
         "locked": false
        },
        {
         "code": ">>> \n>>> public_tests.rubric_check('q17: incorrect logic is used to answer')\nAll test cases passed!\n",
         "hidden": false,
         "locked": false,
         "success_message": "Note that the Gradescope autograder will deduct points if your code fails the following rubric point - 'incorrect logic is used to answer (-1)'. The public tests cannot determine if your code satisfies these requirements. Verify your code manually."
        },
        {
         "code": ">>> \n>>> public_tests.rubric_check('q17: `get_liquid_water_distances` function is not used to answer', False)\nAll test cases passed!\n",
         "hidden": false,
         "locked": false,
         "success_message": "Note that the Gradescope autograder will deduct points if your code fails the following rubric point - '`get_liquid_water_distances` function is not used to answer (-1)'. The public tests cannot determine if your code satisfies these requirements. Verify your code manually."
        },
        {
         "code": ">>> \n>>> public_tests.rubric_check('q17: `all_planets_list` data structure is not used to answer', False)\nAll test cases passed!\n",
         "hidden": false,
         "locked": false,
         "success_message": "Note that the Gradescope autograder will deduct points if your code fails the following rubric point - '`all_planets_list` data structure is not used to answer (-1)'. The public tests cannot determine if your code satisfies these requirements. Verify your code manually."
        },
        {
         "code": ">>> public_tests.rubric_check('q17: public tests')\nAll test cases passed!\n",
         "hidden": false,
         "locked": false
        }
       ],
       "scored": true,
       "setup": "",
       "teardown": "",
       "type": "doctest"
      }
     ]
    },
    "q18": {
     "name": "q18",
     "points": 0,
     "suites": [
      {
       "cases": [
        {
         "code": ">>> public_tests.check('q18', surface_temp_hd_20794_d)\nAll test cases passed!\n",
         "hidden": false,
         "locked": false
        },
        {
         "code": ">>> \n>>> public_tests.rubric_check('q18: `get_surface_temperatures` function is not used to answer', False)\nAll test cases passed!\n",
         "hidden": false,
         "locked": false,
         "success_message": "Note that the Gradescope autograder will deduct points if your code fails the following rubric point - '`get_surface_temperatures` function is not used to answer (-1)'. The public tests cannot determine if your code satisfies these requirements. Verify your code manually."
        },
        {
         "code": ">>> \n>>> public_tests.rubric_check('q18: `all_planets_list` data structure is not used to answer', False)\nAll test cases passed!\n",
         "hidden": false,
         "locked": false,
         "success_message": "Note that the Gradescope autograder will deduct points if your code fails the following rubric point - '`all_planets_list` data structure is not used to answer (-1)'. The public tests cannot determine if your code satisfies these requirements. Verify your code manually."
        },
        {
         "code": ">>> \n>>> public_tests.rubric_check('q18: did not exit loop and instead iterated further after finding the answer')\nAll test cases passed!\n",
         "hidden": false,
         "locked": false,
         "success_message": "Note that the Gradescope autograder will deduct points if your code fails the following rubric point - 'did not exit loop and instead iterated further after finding the answer (-1)'. The public tests cannot determine if your code satisfies these requirements. Verify your code manually."
        }
       ],
       "scored": true,
       "setup": "",
       "teardown": "",
       "type": "doctest"
      }
     ]
    },
    "q19": {
     "name": "q19",
     "points": 0,
     "suites": [
      {
       "cases": [
        {
         "code": ">>> public_tests.check('q19', pleasant_planets)\nAll test cases passed!\n",
         "hidden": false,
         "locked": false
        },
        {
         "code": ">>> \n>>> public_tests.rubric_check('q19: incorrect comparison operators are used')\nAll test cases passed!\n",
         "hidden": false,
         "locked": false,
         "success_message": "Note that the Gradescope autograder will deduct points if your code fails the following rubric point - 'incorrect comparison operators are used (-1)'. The public tests cannot determine if your code satisfies these requirements. Verify your code manually."
        },
        {
         "code": ">>> \n>>> public_tests.rubric_check('q19: `get_surface_temperatures` function is not used to answer', False)\nAll test cases passed!\n",
         "hidden": false,
         "locked": false,
         "success_message": "Note that the Gradescope autograder will deduct points if your code fails the following rubric point - '`get_surface_temperatures` function is not used to answer (-1)'. The public tests cannot determine if your code satisfies these requirements. Verify your code manually."
        },
        {
         "code": ">>> \n>>> public_tests.rubric_check('q19: `all_planets_list` data structure is not used to answer', False)\nAll test cases passed!\n",
         "hidden": false,
         "locked": false,
         "success_message": "Note that the Gradescope autograder will deduct points if your code fails the following rubric point - '`all_planets_list` data structure is not used to answer (-1)'. The public tests cannot determine if your code satisfies these requirements. Verify your code manually."
        },
        {
         "code": ">>> public_tests.rubric_check('q19: public tests')\nAll test cases passed!\n",
         "hidden": false,
         "locked": false
        }
       ],
       "scored": true,
       "setup": "",
       "teardown": "",
       "type": "doctest"
      }
     ]
    },
    "q2": {
     "name": "q2",
     "points": 0,
     "suites": [
      {
       "cases": [
        {
         "code": ">>> public_tests.check('q2', coeff_gj9827)\nAll test cases passed!\n",
         "hidden": false,
         "locked": false
        },
        {
         "code": ">>> \n>>> public_tests.rubric_check('q2: incorrect logic is used to answer')\nAll test cases passed!\n",
         "hidden": false,
         "locked": false,
         "success_message": "Note that the Gradescope autograder will deduct points if your code fails the following rubric point - 'incorrect logic is used to answer (-1)'. The public tests cannot determine if your code satisfies these requirements. Verify your code manually."
        },
        {
         "code": ">>> \n>>> public_tests.rubric_check('q2: recomputed variable defined in Question 1')\nAll test cases passed!\n",
         "hidden": false,
         "locked": false,
         "success_message": "Note that the Gradescope autograder will deduct points if your code fails the following rubric point - 'recomputed variable defined in Question 1 (-1)'. The public tests cannot determine if your code satisfies these requirements. Verify your code manually."
        },
        {
         "code": ">>> public_tests.rubric_check('q2: public tests')\nAll test cases passed!\n",
         "hidden": false,
         "locked": false
        }
       ],
       "scored": true,
       "setup": "",
       "teardown": "",
       "type": "doctest"
      }
     ]
    },
    "q20": {
     "name": "q20",
     "points": 0,
     "suites": [
      {
       "cases": [
        {
         "code": ">>> public_tests.check('q20', habitable_planets)\nAll test cases passed!\n",
         "hidden": false,
         "locked": false
        },
        {
         "code": ">>> \n>>> public_tests.rubric_check('q20: incorrect logic is used to answer')\nAll test cases passed!\n",
         "hidden": false,
         "locked": false,
         "success_message": "Note that the Gradescope autograder will deduct points if your code fails the following rubric point - 'incorrect logic is used to answer (-2)'. The public tests cannot determine if your code satisfies these requirements. Verify your code manually."
        },
        {
         "code": ">>> \n>>> public_tests.rubric_check('q20: `get_surface_gravity`, `get_distances_to_star`, `get_liquid_water_distances`, and `get_surface_temperatures` functions are not used to answer', False)\nAll test cases passed!\n",
         "hidden": false,
         "locked": false,
         "success_message": "Note that the Gradescope autograder will deduct points if your code fails the following rubric point - '`get_surface_gravity`, `get_distances_to_star`, `get_liquid_water_distances`, and `get_surface_temperatures` functions are not used to answer (-1)'. The public tests cannot determine if your code satisfies these requirements. Verify your code manually."
        },
        {
         "code": ">>> \n>>> public_tests.rubric_check('q20: `all_planets_list` data structure is not used to answer', False)\nAll test cases passed!\n",
         "hidden": false,
         "locked": false,
         "success_message": "Note that the Gradescope autograder will deduct points if your code fails the following rubric point - '`all_planets_list` data structure is not used to answer (-1)'. The public tests cannot determine if your code satisfies these requirements. Verify your code manually."
        },
        {
         "code": ">>> public_tests.rubric_check('q20: public tests')\nAll test cases passed!\n",
         "hidden": false,
         "locked": false
        }
       ],
       "scored": true,
       "setup": "",
       "teardown": "",
       "type": "doctest"
      }
     ]
    },
    "q3": {
     "name": "q3",
     "points": 0,
     "suites": [
      {
       "cases": [
        {
         "code": ">>> public_tests.check('q3', percentage_change)\nAll test cases passed!\n",
         "hidden": false,
         "locked": false
        },
        {
         "code": ">>> \n>>> public_tests.rubric_check('q3: incorrect logic is used to answer')\nAll test cases passed!\n",
         "hidden": false,
         "locked": false,
         "success_message": "Note that the Gradescope autograder will deduct points if your code fails the following rubric point - 'incorrect logic is used to answer (-1)'. The public tests cannot determine if your code satisfies these requirements. Verify your code manually."
        },
        {
         "code": ">>> \n>>> public_tests.rubric_check('q3: recomputed variable defined in Question 1')\nAll test cases passed!\n",
         "hidden": false,
         "locked": false,
         "success_message": "Note that the Gradescope autograder will deduct points if your code fails the following rubric point - 'recomputed variable defined in Question 1 (-1)'. The public tests cannot determine if your code satisfies these requirements. Verify your code manually."
        },
        {
         "code": ">>> \n>>> public_tests.rubric_check('q3: `stars_dict` data structure is not used to answer', False)\nAll test cases passed!\n",
         "hidden": false,
         "locked": false,
         "success_message": "Note that the Gradescope autograder will deduct points if your code fails the following rubric point - '`stars_dict` data structure is not used to answer (-1)'. The public tests cannot determine if your code satisfies these requirements. Verify your code manually."
        }
       ],
       "scored": true,
       "setup": "",
       "teardown": "",
       "type": "doctest"
      }
     ]
    },
    "q4": {
     "name": "q4",
     "points": 0,
     "suites": [
      {
       "cases": [
        {
         "code": ">>> public_tests.check('q4', {'flux_list': flux_list, 'temp_4th_power_list': temp_4th_power_list})\nAll test cases passed!\n",
         "hidden": false,
         "locked": false
        },
        {
         "code": ">>> \n>>> public_tests.rubric_check('q4: incorrect logic is used to answer')\nAll test cases passed!\n",
         "hidden": false,
         "locked": false,
         "success_message": "Note that the Gradescope autograder will deduct points if your code fails the following rubric point - 'incorrect logic is used to answer (-1)'. The public tests cannot determine if your code satisfies these requirements. Verify your code manually."
        },
        {
         "code": ">>> \n>>> public_tests.rubric_check('q4: `planets_list` data structure is not used to answer', False)\nAll test cases passed!\n",
         "hidden": false,
         "locked": false,
         "success_message": "Note that the Gradescope autograder will deduct points if your code fails the following rubric point - '`planets_list` data structure is not used to answer (-1)'. The public tests cannot determine if your code satisfies these requirements. Verify your code manually."
        },
        {
         "code": ">>> \n>>> public_tests.rubric_check('q4: plot is incorrect')\nAll test cases passed!\n",
         "hidden": false,
         "locked": false,
         "success_message": "Note that the Gradescope autograder will deduct points if your code fails the following rubric point - 'plot is incorrect (-1)'. The public tests cannot determine if your code satisfies these requirements. Verify your code manually."
        },
        {
         "code": ">>> \n>>> public_tests.rubric_check('q4: plot is not properly labeled')\nAll test cases passed!\n",
         "hidden": false,
         "locked": false,
         "success_message": "Note that the Gradescope autograder will deduct points if your code fails the following rubric point - 'plot is not properly labeled (-1)'. The public tests cannot determine if your code satisfies these requirements. Verify your code manually."
        },
        {
         "code": ">>> public_tests.rubric_check('q4: public tests')\nAll test cases passed!\n",
         "hidden": false,
         "locked": false
        }
       ],
       "scored": true,
       "setup": "",
       "teardown": "",
       "type": "doctest"
      }
     ]
    },
    "q5": {
     "name": "q5",
     "points": 0,
     "suites": [
      {
       "cases": [
        {
         "code": ">>> public_tests.check('q5', {'flux_list_no_outliers': flux_list_no_outliers, 'temp_4th_power_list_no_outliers': temp_4th_power_list_no_outliers})\nAll test cases passed!\n",
         "hidden": false,
         "locked": false
        },
        {
         "code": ">>> \n>>> public_tests.rubric_check('q5: incorrect comparison operator is used')\nAll test cases passed!\n",
         "hidden": false,
         "locked": false,
         "success_message": "Note that the Gradescope autograder will deduct points if your code fails the following rubric point - 'incorrect comparison operator is used (-1)'. The public tests cannot determine if your code satisfies these requirements. Verify your code manually."
        },
        {
         "code": ">>> \n>>> public_tests.rubric_check('q5: `planets_list` data structure is not used to answer', False)\nAll test cases passed!\n",
         "hidden": false,
         "locked": false,
         "success_message": "Note that the Gradescope autograder will deduct points if your code fails the following rubric point - '`planets_list` data structure is not used to answer (-1)'. The public tests cannot determine if your code satisfies these requirements. Verify your code manually."
        },
        {
         "code": ">>> \n>>> public_tests.rubric_check('q5: plot is incorrect')\nAll test cases passed!\n",
         "hidden": false,
         "locked": false,
         "success_message": "Note that the Gradescope autograder will deduct points if your code fails the following rubric point - 'plot is incorrect (-1)'. The public tests cannot determine if your code satisfies these requirements. Verify your code manually."
        },
        {
         "code": ">>> \n>>> public_tests.rubric_check('q5: plot is not properly labeled')\nAll test cases passed!\n",
         "hidden": false,
         "locked": false,
         "success_message": "Note that the Gradescope autograder will deduct points if your code fails the following rubric point - 'plot is not properly labeled (-1)'. The public tests cannot determine if your code satisfies these requirements. Verify your code manually."
        },
        {
         "code": ">>> public_tests.rubric_check('q5: public tests')\nAll test cases passed!\n",
         "hidden": false,
         "locked": false
        }
       ],
       "scored": true,
       "setup": "",
       "teardown": "",
       "type": "doctest"
      }
     ]
    },
    "q6": {
     "name": "q6",
     "points": 0,
     "suites": [
      {
       "cases": [
        {
         "code": ">>> public_tests.check('q6', star_classes_avg_lum)\nAll test cases passed!\n",
         "hidden": false,
         "locked": false
        },
        {
         "code": ">>> \n>>> public_tests.rubric_check('q6: did not ignore the `Star` objects with missing `stellar_luminosity` data')\nAll test cases passed!\n",
         "hidden": false,
         "locked": false,
         "success_message": "Note that the Gradescope autograder will deduct points if your code fails the following rubric point - 'did not ignore the `Star` objects with missing `stellar_luminosity` data (-1)'. The public tests cannot determine if your code satisfies these requirements. Verify your code manually."
        },
        {
         "code": ">>> \n>>> public_tests.rubric_check('q6: incorrect logic is used to answer')\nAll test cases passed!\n",
         "hidden": false,
         "locked": false,
         "success_message": "Note that the Gradescope autograder will deduct points if your code fails the following rubric point - 'incorrect logic is used to answer (-1)'. The public tests cannot determine if your code satisfies these requirements. Verify your code manually."
        },
        {
         "code": ">>> \n>>> public_tests.rubric_check('q6: `star_classes` data structure is not used to answer', False)\nAll test cases passed!\n",
         "hidden": false,
         "locked": false,
         "success_message": "Note that the Gradescope autograder will deduct points if your code fails the following rubric point - '`star_classes` data structure is not used to answer (-1)'. The public tests cannot determine if your code satisfies these requirements. Verify your code manually."
        }
       ],
       "scored": true,
       "setup": "",
       "teardown": "",
       "type": "doctest"
      }
     ]
    },
    "q7": {
     "name": "q7",
     "points": 0,
     "suites": [
      {
       "cases": [
        {
         "code": ">>> public_tests.check('q7', {'density_dict': density_dict, 'lum_dict': lum_dict})\nAll test cases passed!\n",
         "hidden": false,
         "locked": false
        },
        {
         "code": ">>> \n>>> public_tests.rubric_check('q7: incorrect logic is used to answer')\nAll test cases passed!\n",
         "hidden": false,
         "locked": false,
         "success_message": "Note that the Gradescope autograder will deduct points if your code fails the following rubric point - 'incorrect logic is used to answer (-1)'. The public tests cannot determine if your code satisfies these requirements. Verify your code manually."
        },
        {
         "code": ">>> \n>>> public_tests.rubric_check('q7: `star_classes` data structure is not used to answer', False)\nAll test cases passed!\n",
         "hidden": false,
         "locked": false,
         "success_message": "Note that the Gradescope autograder will deduct points if your code fails the following rubric point - '`star_classes` data structure is not used to answer (-1)'. The public tests cannot determine if your code satisfies these requirements. Verify your code manually."
        },
        {
         "code": ">>> \n>>> public_tests.rubric_check('q7: plot is incorrect')\nAll test cases passed!\n",
         "hidden": false,
         "locked": false,
         "success_message": "Note that the Gradescope autograder will deduct points if your code fails the following rubric point - 'plot is incorrect (-1)'. The public tests cannot determine if your code satisfies these requirements. Verify your code manually."
        },
        {
         "code": ">>> \n>>> public_tests.rubric_check('q7: plot is not properly labeled')\nAll test cases passed!\n",
         "hidden": false,
         "locked": false,
         "success_message": "Note that the Gradescope autograder will deduct points if your code fails the following rubric point - 'plot is not properly labeled (-1)'. The public tests cannot determine if your code satisfies these requirements. Verify your code manually."
        },
        {
         "code": ">>> public_tests.rubric_check('q7: public tests')\nAll test cases passed!\n",
         "hidden": false,
         "locked": false
        }
       ],
       "scored": true,
       "setup": "",
       "teardown": "",
       "type": "doctest"
      }
     ]
    },
    "q8": {
     "name": "q8",
     "points": 0,
     "suites": [
      {
       "cases": [
        {
         "code": ">>> public_tests.check('q8', {'density_dict_no_outliers': density_dict_no_outliers, 'lum_dict_no_outliers': lum_dict_no_outliers})\nAll test cases passed!\n",
         "hidden": false,
         "locked": false
        },
        {
         "code": ">>> \n>>> public_tests.rubric_check('q8: incorrect comparison operator is used')\nAll test cases passed!\n",
         "hidden": false,
         "locked": false,
         "success_message": "Note that the Gradescope autograder will deduct points if your code fails the following rubric point - 'incorrect comparison operator is used (-1)'. The public tests cannot determine if your code satisfies these requirements. Verify your code manually."
        },
        {
         "code": ">>> \n>>> public_tests.rubric_check('q8: `star_classes` data structure is not used to answer', False)\nAll test cases passed!\n",
         "hidden": false,
         "locked": false,
         "success_message": "Note that the Gradescope autograder will deduct points if your code fails the following rubric point - '`star_classes` data structure is not used to answer (-1)'. The public tests cannot determine if your code satisfies these requirements. Verify your code manually."
        },
        {
         "code": ">>> \n>>> public_tests.rubric_check('q8: plot is incorrect')\nAll test cases passed!\n",
         "hidden": false,
         "locked": false,
         "success_message": "Note that the Gradescope autograder will deduct points if your code fails the following rubric point - 'plot is incorrect (-1)'. The public tests cannot determine if your code satisfies these requirements. Verify your code manually."
        },
        {
         "code": ">>> \n>>> public_tests.rubric_check('q8: plot is not properly labeled')\nAll test cases passed!\n",
         "hidden": false,
         "locked": false,
         "success_message": "Note that the Gradescope autograder will deduct points if your code fails the following rubric point - 'plot is not properly labeled (-1)'. The public tests cannot determine if your code satisfies these requirements. Verify your code manually."
        },
        {
         "code": ">>> public_tests.rubric_check('q8: public tests')\nAll test cases passed!\n",
         "hidden": false,
         "locked": false
        }
       ],
       "scored": true,
       "setup": "",
       "teardown": "",
       "type": "doctest"
      }
     ]
    },
    "q9": {
     "name": "q9",
     "points": 0,
     "suites": [
      {
       "cases": [
        {
         "code": ">>> public_tests.check('q9', {'temp_list': temp_list, 'lum_list': lum_list, 'age_list': age_list, 'mass_list': mass_list})\nAll test cases passed!\n",
         "hidden": false,
         "locked": false
        },
        {
         "code": ">>> \n>>> public_tests.rubric_check('q9: incorrect logic is used to answer')\nAll test cases passed!\n",
         "hidden": false,
         "locked": false,
         "success_message": "Note that the Gradescope autograder will deduct points if your code fails the following rubric point - 'incorrect logic is used to answer (-1)'. The public tests cannot determine if your code satisfies these requirements. Verify your code manually."
        },
        {
         "code": ">>> \n>>> public_tests.rubric_check('q9: `stars_dict` data structure is not used to answer', False)\nAll test cases passed!\n",
         "hidden": false,
         "locked": false,
         "success_message": "Note that the Gradescope autograder will deduct points if your code fails the following rubric point - '`stars_dict` data structure is not used to answer (-1)'. The public tests cannot determine if your code satisfies these requirements. Verify your code manually."
        },
        {
         "code": ">>> \n>>> public_tests.rubric_check('q9: plot is incorrect')\nAll test cases passed!\n",
         "hidden": false,
         "locked": false,
         "success_message": "Note that the Gradescope autograder will deduct points if your code fails the following rubric point - 'plot is incorrect (-1)'. The public tests cannot determine if your code satisfies these requirements. Verify your code manually."
        },
        {
         "code": ">>> \n>>> public_tests.rubric_check('q9: plot is not properly labeled')\nAll test cases passed!\n",
         "hidden": false,
         "locked": false,
         "success_message": "Note that the Gradescope autograder will deduct points if your code fails the following rubric point - 'plot is not properly labeled (-1)'. The public tests cannot determine if your code satisfies these requirements. Verify your code manually."
        },
        {
         "code": ">>> public_tests.rubric_check('q9: public tests')\nAll test cases passed!\n",
         "hidden": false,
         "locked": false
        }
       ],
       "scored": true,
       "setup": "",
       "teardown": "",
       "type": "doctest"
      }
     ]
    },
    "star_classes": {
     "name": "star_classes",
     "points": 0,
     "suites": [
      {
       "cases": [
        {
         "code": ">>> \n>>> public_tests.rubric_check('star_classes: data structure is defined incorrectly')\nAll test cases passed!\n",
         "hidden": false,
         "locked": false,
         "success_message": "Note that the Gradescope autograder will deduct points if your code fails the following rubric point - 'data structure is defined incorrectly (-1)'. The public tests cannot determine if your code satisfies these requirements. Verify your code manually."
        },
        {
         "code": ">>> \n>>> public_tests.rubric_check('star_classes: incorrect comparison operators are used')\nAll test cases passed!\n",
         "hidden": false,
         "locked": false,
         "success_message": "Note that the Gradescope autograder will deduct points if your code fails the following rubric point - 'incorrect comparison operators are used (-1)'. The public tests cannot determine if your code satisfies these requirements. Verify your code manually."
        },
        {
         "code": ">>> \n>>> public_tests.rubric_check('star_classes: `stars_dict` data structure is not used', False)\nAll test cases passed!\n",
         "hidden": false,
         "locked": false,
         "success_message": "Note that the Gradescope autograder will deduct points if your code fails the following rubric point - '`stars_dict` data structure is not used (-1)'. The public tests cannot determine if your code satisfies these requirements. Verify your code manually."
        }
       ],
       "scored": true,
       "setup": "",
       "teardown": "",
       "type": "doctest"
      }
     ]
    },
    "summary": {
     "name": "summary",
     "points": 127,
     "suites": [
      {
       "cases": [
        {
         "code": ">>> public_tests.get_summary()\nTotal Score: 100/100\n",
         "hidden": false,
         "locked": false
        }
       ],
       "scored": true,
       "setup": "",
       "teardown": "",
       "type": "doctest"
      }
     ]
    }
   }
  },
  "vscode": {
   "interpreter": {
    "hash": "aee8b7b246df8f9039afb4144a1f6fd8d2ca17a180786b69acc140d282b71a49"
   }
  }
 },
 "nbformat": 4,
 "nbformat_minor": 5
}
