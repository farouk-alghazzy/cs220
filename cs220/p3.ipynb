{
 "cells": [
  {
   "cell_type": "code",
   "execution_count": 1,
   "id": "6937a4ae",
   "metadata": {
    "cell_type": "code",
    "deletable": false,
    "editable": false
   },
   "outputs": [],
   "source": [
    "# import and initialize otter\n",
    "import otter\n",
    "grader = otter.Notebook(\"p3.ipynb\")"
   ]
  },
  {
   "cell_type": "code",
   "execution_count": 2,
   "id": "9f5a2e1c",
   "metadata": {
    "editable": false,
    "execution": {
     "iopub.execute_input": "2023-09-19T23:21:48.754891Z",
     "iopub.status.busy": "2023-09-19T23:21:48.754891Z",
     "iopub.status.idle": "2023-09-19T23:21:50.291991Z",
     "shell.execute_reply": "2023-09-19T23:21:50.290978Z"
    }
   },
   "outputs": [],
   "source": [
    "import public_tests"
   ]
  },
  {
   "cell_type": "code",
   "execution_count": 3,
   "id": "883de3ed",
   "metadata": {
    "execution": {
     "iopub.execute_input": "2023-09-19T23:21:50.296989Z",
     "iopub.status.busy": "2023-09-19T23:21:50.295988Z",
     "iopub.status.idle": "2023-09-19T23:21:50.301534Z",
     "shell.execute_reply": "2023-09-19T23:21:50.300523Z"
    }
   },
   "outputs": [],
   "source": [
    "# PLEASE FILL IN THE DETAILS\n",
    "# enter none if you don't have a project partner\n",
    "# you will have to add your partner as a group member on Gradescope even after you fill this\n",
    "\n",
    "# project: p3\n",
    "# submitter: JMBRUGGINK\n",
    "# partner: ALGHAZZY\n",
    "# hours: 2"
   ]
  },
  {
   "cell_type": "markdown",
   "id": "c349e754",
   "metadata": {
    "deletable": false,
    "editable": false
   },
   "source": [
    "# Project 3: City of Madison Budget"
   ]
  },
  {
   "cell_type": "markdown",
   "id": "5c801c63",
   "metadata": {
    "deletable": false,
    "editable": false
   },
   "source": [
    "## Learning Objectives:\n",
    "\n",
    "In this project you will demonstrate your ability to:\n",
    "- import a module and use its functions,\n",
    "- write functions,\n",
    "- use default arguments when calling functions,\n",
    "- use positional and keyword arguments when calling functions,\n",
    "- avoid hardcoding, and\n",
    "- work with the index of a row of data."
   ]
  },
  {
   "cell_type": "markdown",
   "id": "0574c7c0",
   "metadata": {
    "deletable": false,
    "editable": false
   },
   "source": [
    "## Testing your code:\n",
    "\n",
    "Along with this notebook, you must have downloaded the file `public_tests.py`. If you are curious about how we test your code, you can explore this file, and specifically the function `get_expected_json`, to understand the expected answers to the questions. You can have a look at [P2](https://git.doit.wisc.edu/cdis/cs/courses/cs220/cs220-f23-projects/-/tree/main/p2) if you have forgotten how to read the outputs of the `grader.check(...)` function calls."
   ]
  },
  {
   "cell_type": "markdown",
   "id": "56cb80c6",
   "metadata": {
    "deletable": false,
    "editable": false
   },
   "source": [
    "**Please go through [Lab-P3](https://git.doit.wisc.edu/cdis/cs/courses/cs220/cs220-f23-projects/-/tree/main/lab-p3) before starting this project.** The lab introduces some useful techniques necessary for this project."
   ]
  },
  {
   "cell_type": "markdown",
   "id": "3b069cec",
   "metadata": {
    "deletable": false,
    "editable": false
   },
   "source": [
    "## Project Description:\n",
    "\n",
    "In this project, you'll analyze the yearly budgets of seven different government agencies under the control of the City of Madison. The dataset we will analyze is obtained from [the City of Madison](https://www.cityofmadison.com/finance/budget) published by the Finance Department. In this project, we will be analyzing the **Adopted Budget** of a select few agencies between the years **2019** and **2023** (both years included). You'll get practice calling functions from the `project` module, which we've provided, and practice writing your own functions.\n",
    "\n",
    "If you haven't already downloaded `project.py`, `public_tests.py`, and  `madison_budget.csv` (you can verify by running `ls` in a new terminal tab from your `p3` project directory). , please terminate the current `jupyter notebook` session, download all the required files, launch a `jupyter notebook` session again and click on *Kernel* > *Restart and Clear Output*. Start by executing all the cells (including the ones containing `import` statements).\n",
    "\n",
    "We won't explain how to use the `project` module here (i.e., the code in the `project.py` file).  Refer to [Lab-P3](https://git.doit.wisc.edu/cdis/cs/courses/cs220/cs220-f23-projects/-/tree/main/lab-p3) to understand how the inspection process works and use the `help` function to learn about the various functions inside `project.py`. Feel free to take a look at the `project.py` code, if you are curious about how it works.\n",
    "\n",
    "This project consists of writing code to answer 20 questions."
   ]
  },
  {
   "cell_type": "markdown",
   "id": "80fc3ed7",
   "metadata": {
    "deletable": false,
    "editable": false
   },
   "source": [
    "## Dataset:\n",
    "\n",
    "The dataset you will be working with for this project is reproduced here:\n",
    "\n",
    "|id|agency|2019|2020|2021|2022|2023|\n",
    "|--|------|----|----|----|----|----|\n",
    "|5|Finance|4.160221|4.175833|3.744979|4.159134|4.645472|\n",
    "|19|Library|17.703565|19.163603|18.849564|19.066904|19.770825|\n",
    "|20|Fire|52.853057|57.020341|61.180396|63.742785|68.098376|\n",
    "|21|Police|76.748435|81.830699|82.794221|83.995148|86.917117|\n",
    "|23|Public Health|5.384683|6.233474|6.937629|7.489070|9.656299|\n",
    "|25|Parks|14.236916|14.736923|15.585153|15.535002|16.007257|\n",
    "|27|Metro Transit|14.211148|8.552649|8.511315|9.126564|2.009664|\n",
    "\n",
    "\n",
    "This table lists seven different government agencies, and the budgets allotted to each of these agencies (in units of millions of dollars) between the years 2019 and 2023 (inclusive of both years).\n",
    "\n",
    "The dataset is in the `madison_budget.csv` file which you downloaded. Alternatively, you can open the `madison_budget.csv` file, to look at the same data and verify answers to simple questions."
   ]
  },
  {
   "cell_type": "markdown",
   "id": "c86b6d44",
   "metadata": {
    "deletable": false,
    "editable": false
   },
   "source": [
    "## Project Requirements:\n",
    "\n",
    "You **may not** hardcode indices in your code. For example, if we ask what the budget of the *Fire* department was, in *2019*, you **must** obtain the answer with this code: `get_budget(get_id(\"Fire\"), 2019)`.  If you **do not** use `get_id` and instead use `get_budget(20, 2019)`, the Gradescope autograder will **deduct** points.\n",
    "\n",
    "For some of the questions, we'll ask you to write (then use) a function to compute the answer. If you compute the answer **without** creating the function we ask you to write, or answer these questions without using the function, the Gradescope autograder will **deduct** points, even if your answer is correct.\n",
    "\n",
    "Students are only allowed to use Python commands and concepts that have been taught in the course before the release of P3. In particular, you are **NOT** allowed to use conditionals or iteration on this project. The Gradescope autograder will **deduct** points if you use these concepts.\n",
    "\n",
    "For more details on what will cause you to lose points during code review, please take a look at the [Grading rubric](https://git.doit.wisc.edu/cdis/cs/courses/cs220/cs220-f23-projects/-/blob/main/p3/rubric.md)."
   ]
  },
  {
   "cell_type": "markdown",
   "id": "46c04791",
   "metadata": {
    "deletable": false,
    "editable": false
   },
   "source": [
    "## Incremental Coding and Testing:\n",
    "\n",
    "You should always strive to do incremental coding. Incremental coding enables you to avoid challenging bugs. Always write a few lines of code and then test those lines of code, before proceeding to write further code. You can call the `print` function to test intermediate step outputs. **Store your final answer for each question in the variable recommended for each question.** This step is important because Otter grades your work by comparing the value of this variable against the correct answer. So, if you store your answer in a different variable, you will not get points for it.\n",
    "\n",
    "We also recommend you do incremental testing: make sure to run the local tests as soon as you are done with a question. This will ensure that you haven't made a big mistake that might potentially impact the rest of your project solution. Please refrain from making multiple submissions on Gradescope for testing individual questions' answers. Instead use the local tests, to test your solution on your laptop. \n",
    "\n",
    "That said, it is very **important** that you check the *Gradescope* test results as soon as you submit your project on Gradescope. Test results on *Gradescope* are typically available somewhere between 10 to 15 minutes after the submission."
   ]
  },
  {
   "cell_type": "markdown",
   "id": "a337056b",
   "metadata": {
    "deletable": false,
    "editable": false
   },
   "source": [
    "## Project Questions and Functions:"
   ]
  },
  {
   "cell_type": "code",
   "execution_count": 4,
   "id": "eb2c3b6a",
   "metadata": {
    "execution": {
     "iopub.execute_input": "2023-09-19T23:21:50.306533Z",
     "iopub.status.busy": "2023-09-19T23:21:50.306533Z",
     "iopub.status.idle": "2023-09-19T23:21:50.313181Z",
     "shell.execute_reply": "2023-09-19T23:21:50.312173Z"
    },
    "tags": []
   },
   "outputs": [],
   "source": [
    "# include the relevant import statements in this cell\n",
    "import project"
   ]
  },
  {
   "cell_type": "code",
   "execution_count": 5,
   "id": "1e765e00",
   "metadata": {
    "execution": {
     "iopub.execute_input": "2023-09-19T23:21:50.317182Z",
     "iopub.status.busy": "2023-09-19T23:21:50.316181Z",
     "iopub.status.idle": "2023-09-19T23:21:50.326333Z",
     "shell.execute_reply": "2023-09-19T23:21:50.325318Z"
    },
    "tags": []
   },
   "outputs": [
    {
     "name": "stdout",
     "output_type": "stream",
     "text": [
      "Finance [ID 5]\n",
      "  2019: $4.160221 MILLION\n",
      "  2020: $4.175833 MILLION\n",
      "  2021: $3.744979 MILLION\n",
      "  2022: $4.159134 MILLION\n",
      "  2023: $4.645472 MILLION\n",
      "\n",
      "Fire    [ID 20]\n",
      "  2019: $52.853057 MILLION\n",
      "  2020: $57.020341 MILLION\n",
      "  2021: $61.180396 MILLION\n",
      "  2022: $63.742785 MILLION\n",
      "  2023: $68.098376 MILLION\n",
      "\n",
      "Library [ID 19]\n",
      "  2019: $17.703565 MILLION\n",
      "  2020: $19.163603 MILLION\n",
      "  2021: $18.849564 MILLION\n",
      "  2022: $19.066904 MILLION\n",
      "  2023: $19.770825 MILLION\n",
      "\n",
      "Metro Transit [ID 27]\n",
      "  2019: $14.211148 MILLION\n",
      "  2020: $8.552649 MILLION\n",
      "  2021: $8.511315 MILLION\n",
      "  2022: $9.126564 MILLION\n",
      "  2023: $2.009664 MILLION\n",
      "\n",
      "Parks   [ID 25]\n",
      "  2019: $14.236916 MILLION\n",
      "  2020: $14.736923 MILLION\n",
      "  2021: $15.585153 MILLION\n",
      "  2022: $15.535002 MILLION\n",
      "  2023: $16.007257 MILLION\n",
      "\n",
      "Police  [ID 21]\n",
      "  2019: $76.748435 MILLION\n",
      "  2020: $81.830699 MILLION\n",
      "  2021: $82.794221 MILLION\n",
      "  2022: $83.995148 MILLION\n",
      "  2023: $86.917117 MILLION\n",
      "\n",
      "Public Health [ID 23]\n",
      "  2019: $5.384683 MILLION\n",
      "  2020: $6.233474 MILLION\n",
      "  2021: $6.937629 MILLION\n",
      "  2022: $7.489070 MILLION\n",
      "  2023: $9.656299 MILLION\n",
      "\n"
     ]
    }
   ],
   "source": [
    "# call the init function to load the dataset\n",
    "project.init(\"madison_budget.csv\")\n",
    "# you may call the dump function here to test if you have loaded the dataset correctly.\n",
    "project.dump()"
   ]
  },
  {
   "cell_type": "markdown",
   "id": "5afca07f",
   "metadata": {
    "deletable": false,
    "editable": false
   },
   "source": [
    "**Question 1:** What is the `id` of the agency *Public Health*?"
   ]
  },
  {
   "cell_type": "code",
   "execution_count": 6,
   "id": "4751a35d",
   "metadata": {
    "execution": {
     "iopub.execute_input": "2023-09-19T23:21:50.331332Z",
     "iopub.status.busy": "2023-09-19T23:21:50.330330Z",
     "iopub.status.idle": "2023-09-19T23:21:50.341359Z",
     "shell.execute_reply": "2023-09-19T23:21:50.340322Z"
    },
    "tags": []
   },
   "outputs": [
    {
     "data": {
      "text/plain": [
       "23"
      ]
     },
     "execution_count": 6,
     "metadata": {},
     "output_type": "execute_result"
    }
   ],
   "source": [
    "# replace the ... with your code\n",
    "# INCORRECT METHOD public_health_id = 23 => this is considered hardcoding\n",
    "public_health_id = project.get_id(\"Public Health\")\n",
    "\n",
    "public_health_id"
   ]
  },
  {
   "cell_type": "code",
   "execution_count": 7,
   "id": "ac119f9c",
   "metadata": {
    "deletable": false,
    "editable": false
   },
   "outputs": [
    {
     "data": {
      "text/html": [
       "<p><strong><pre style='display: inline;'>q1</pre></strong> passed! 💯</p>"
      ],
      "text/plain": [
       "q1 results: All test cases passed!"
      ]
     },
     "execution_count": 7,
     "metadata": {},
     "output_type": "execute_result"
    }
   ],
   "source": [
    "grader.check(\"q1\")"
   ]
  },
  {
   "cell_type": "markdown",
   "id": "b6e8b1af",
   "metadata": {
    "deletable": false,
    "editable": false
   },
   "source": [
    "Instead of repeatedly calling `project.get_id` function for each question, you could make these calls once at the beginning of your notebook and save the results in variables. Recall that calling the same function multiple times with the same argument(s) is a waste of computation. Complete the code in the below cell and make sure to use the relevant ID variables for the rest of the project questions."
   ]
  },
  {
   "cell_type": "code",
   "execution_count": 8,
   "id": "08b46678",
   "metadata": {
    "execution": {
     "iopub.execute_input": "2023-09-19T23:21:50.365769Z",
     "iopub.status.busy": "2023-09-19T23:21:50.365769Z",
     "iopub.status.idle": "2023-09-19T23:21:50.371254Z",
     "shell.execute_reply": "2023-09-19T23:21:50.371254Z"
    },
    "tags": []
   },
   "outputs": [],
   "source": [
    "finance_id = project.get_id('Finance') # we have done this for you\n",
    "\n",
    "# replace the ... in the line below with code to get the id of 'Library'\n",
    "library_id = project.get_id('Library')\n",
    "\n",
    "# invoke get_id for the other agencies and store the result into similar variable names\n",
    "fire_id = project.get_id('Fire')\n",
    "# considering that you already invokved get_id for Public Health, you need to \n",
    "# make 4 more function calls to store the ID for the rest of the agencies\n",
    "police_id = project.get_id('Police')\n",
    "parks_id = project.get_id('Parks')\n",
    "metro_transit_id = project.get_id('Metro Transit')\n",
    "public_health_id = project.get_id('Public Health')"
   ]
  },
  {
   "cell_type": "markdown",
   "id": "e6847d06",
   "metadata": {
    "deletable": false,
    "editable": false
   },
   "source": [
    "**Question 2:** What was the budget of the agency *Finance* in *2019*?\n",
    "\n",
    "Your answer should just be a number (without any units at the end), that represents the budget of the agency in millions of dollars.\n",
    "\n",
    "You **must not** hardcode the ID of the agency. You **must** use the variable that you used to store the ID of *Finance* (assuming you already invoked `get_id` for all the agencies in the cell right below Question 1)."
   ]
  },
  {
   "cell_type": "code",
   "execution_count": 9,
   "id": "5c9d59fe",
   "metadata": {
    "execution": {
     "iopub.execute_input": "2023-09-19T23:21:50.376265Z",
     "iopub.status.busy": "2023-09-19T23:21:50.376265Z",
     "iopub.status.idle": "2023-09-19T23:21:50.383302Z",
     "shell.execute_reply": "2023-09-19T23:21:50.382293Z"
    },
    "tags": []
   },
   "outputs": [
    {
     "data": {
      "text/plain": [
       "4.160221"
      ]
     },
     "execution_count": 9,
     "metadata": {},
     "output_type": "execute_result"
    }
   ],
   "source": [
    "# replace the ... with your code\n",
    "finance_budget_2019 = project.get_budget(finance_id, 2019)\n",
    "\n",
    "finance_budget_2019"
   ]
  },
  {
   "cell_type": "code",
   "execution_count": 10,
   "id": "635ce868",
   "metadata": {
    "deletable": false,
    "editable": false
   },
   "outputs": [
    {
     "data": {
      "text/html": [
       "<p><strong><pre style='display: inline;'>q2</pre></strong> passed! 🌈</p><p><strong><pre style='display: inline;'>q2 - 2</pre> message:</strong> Note that the Gradescope autograder will deduct points if your code fails the following rubric point - 'agency id is hardcoded (-2)'. The public tests cannot determine if your code satisfies these requirements. Verify your code manually.</p><p><strong><pre style='display: inline;'>q2 - 3</pre> message:</strong> Note that the Gradescope autograder will deduct points if your code fails the following rubric point - 'variable `finance_id` is not used (-1)'. The public tests cannot determine if your code satisfies these requirements. Verify your code manually.</p>"
      ],
      "text/plain": [
       "q2 results: All test cases passed!\n",
       "q2 - 2 message: Note that the Gradescope autograder will deduct points if your code fails the following rubric point - 'agency id is hardcoded (-2)'. The public tests cannot determine if your code satisfies these requirements. Verify your code manually.\n",
       "q2 - 3 message: Note that the Gradescope autograder will deduct points if your code fails the following rubric point - 'variable `finance_id` is not used (-1)'. The public tests cannot determine if your code satisfies these requirements. Verify your code manually."
      ]
     },
     "execution_count": 10,
     "metadata": {},
     "output_type": "execute_result"
    }
   ],
   "source": [
    "grader.check(\"q2\")"
   ]
  },
  {
   "cell_type": "markdown",
   "id": "a617b437",
   "metadata": {
    "deletable": false,
    "editable": false
   },
   "source": [
    "### Function 1: `year_max(year)`\n",
    "\n",
    "This function will compute the **maximum** budget for any one agency in a given `year`.\n",
    "\n",
    "It has already been written for you, so you do not have to modify it. You can directly call this function to answer the following questions. "
   ]
  },
  {
   "cell_type": "code",
   "execution_count": 11,
   "id": "136f63c9",
   "metadata": {
    "execution": {
     "iopub.execute_input": "2023-09-19T23:21:50.416507Z",
     "iopub.status.busy": "2023-09-19T23:21:50.416507Z",
     "iopub.status.idle": "2023-09-19T23:21:50.424000Z",
     "shell.execute_reply": "2023-09-19T23:21:50.422970Z"
    },
    "tags": []
   },
   "outputs": [],
   "source": [
    "def year_max(year):\n",
    "    \"\"\"\n",
    "    year_max(year) computes the maximum budget\n",
    "    for any agency in the given year\n",
    "    \"\"\"\n",
    "    # get the budget of each agency in the given year\n",
    "    finance_budget = project.get_budget(project.get_id('Finance'), year)\n",
    "    library_budget = project.get_budget(project.get_id('Library'), year)\n",
    "    fire_budget = project.get_budget(project.get_id('Fire'), year)\n",
    "    police_budget = project.get_budget(project.get_id('Police'), year)\n",
    "    public_health_budget = project.get_budget(project.get_id('Public Health'), year)\n",
    "    parks_budget = project.get_budget(project.get_id('Parks'), year)\n",
    "    metro_transit_budget = project.get_budget(project.get_id('Metro Transit'), year)\n",
    "\n",
    "    # use the built-in max function to get the maximum of the seven values\n",
    "    return max(finance_budget, library_budget, fire_budget, police_budget, public_health_budget, parks_budget, metro_transit_budget)"
   ]
  },
  {
   "cell_type": "markdown",
   "id": "4828e0f3",
   "metadata": {
    "deletable": false,
    "editable": false
   },
   "source": [
    "**Question 3:** What was the highest budget for *any* agency in the year *2023*?\n",
    "\n",
    "You **must** call the `year_max` function to answer this question."
   ]
  },
  {
   "cell_type": "code",
   "execution_count": 12,
   "id": "38fc1920",
   "metadata": {
    "execution": {
     "iopub.execute_input": "2023-09-19T23:21:50.428988Z",
     "iopub.status.busy": "2023-09-19T23:21:50.428988Z",
     "iopub.status.idle": "2023-09-19T23:21:50.434737Z",
     "shell.execute_reply": "2023-09-19T23:21:50.434737Z"
    },
    "tags": []
   },
   "outputs": [
    {
     "data": {
      "text/plain": [
       "86.917117"
      ]
     },
     "execution_count": 12,
     "metadata": {},
     "output_type": "execute_result"
    }
   ],
   "source": [
    "# replace the ... with your code\n",
    "max_budget_2023 = year_max(2023)\n",
    "\n",
    "max_budget_2023"
   ]
  },
  {
   "cell_type": "code",
   "execution_count": 13,
   "id": "b78ea3bc",
   "metadata": {
    "deletable": false,
    "editable": false
   },
   "outputs": [
    {
     "data": {
      "text/html": [
       "<p><strong><pre style='display: inline;'>q3</pre></strong> passed! 🚀</p><p><strong><pre style='display: inline;'>q3 - 2</pre> message:</strong> Note that the Gradescope autograder will deduct points if your code fails the following rubric point - '`year_max` function is not used (-3)'. The public tests cannot determine if your code satisfies these requirements. Verify your code manually.</p>"
      ],
      "text/plain": [
       "q3 results: All test cases passed!\n",
       "q3 - 2 message: Note that the Gradescope autograder will deduct points if your code fails the following rubric point - '`year_max` function is not used (-3)'. The public tests cannot determine if your code satisfies these requirements. Verify your code manually."
      ]
     },
     "execution_count": 13,
     "metadata": {},
     "output_type": "execute_result"
    }
   ],
   "source": [
    "grader.check(\"q3\")"
   ]
  },
  {
   "cell_type": "markdown",
   "id": "6115deb6",
   "metadata": {
    "deletable": false,
    "editable": false
   },
   "source": [
    "**Question 4:** What was the highest budget for *any* agency in a single year in the period *2020-2022* (both years included)?\n",
    "\n",
    "Recall that we can use the `max` function to compute the maximum of some values. Look at the examples in Lab-P3 where you used the `max` function or the `year_max` function definition. To be clear, the answer to this question is a single floating point number whose value is the highest budget allotted to an agency in a single year during these three years. \n",
    "\n",
    "You **must** invoke the `year_max` function in your answer to this question."
   ]
  },
  {
   "cell_type": "code",
   "execution_count": 14,
   "id": "62acbd89",
   "metadata": {
    "execution": {
     "iopub.execute_input": "2023-09-19T23:21:50.459342Z",
     "iopub.status.busy": "2023-09-19T23:21:50.458341Z",
     "iopub.status.idle": "2023-09-19T23:21:50.466633Z",
     "shell.execute_reply": "2023-09-19T23:21:50.465613Z"
    },
    "tags": []
   },
   "outputs": [
    {
     "data": {
      "text/plain": [
       "83.995148"
      ]
     },
     "execution_count": 14,
     "metadata": {},
     "output_type": "execute_result"
    }
   ],
   "source": [
    "# replace the ... with your code\n",
    "max_budget_2020 = year_max(2020)\n",
    "max_budget_2021 = year_max(2021)\n",
    "max_budget_2022 = year_max(2022)\n",
    "\n",
    "max_budget_2020_to_2022 = max(max_budget_2020, max_budget_2021, max_budget_2022)\n",
    "\n",
    "max_budget_2020_to_2022"
   ]
  },
  {
   "cell_type": "code",
   "execution_count": 15,
   "id": "3747e0bf",
   "metadata": {
    "deletable": false,
    "editable": false
   },
   "outputs": [
    {
     "data": {
      "text/html": [
       "<p><strong><pre style='display: inline;'>q4</pre></strong> passed! 🎉</p><p><strong><pre style='display: inline;'>q4 - 2</pre> message:</strong> Note that the Gradescope autograder will deduct points if your code fails the following rubric point - '`year_max` function is not used (-2)'. The public tests cannot determine if your code satisfies these requirements. Verify your code manually.</p><p><strong><pre style='display: inline;'>q4 - 3</pre> message:</strong> Note that the Gradescope autograder will deduct points if your code fails the following rubric point - 'the built-in function `max` is not used (-2)'. The public tests cannot determine if your code satisfies these requirements. Verify your code manually.</p>"
      ],
      "text/plain": [
       "q4 results: All test cases passed!\n",
       "q4 - 2 message: Note that the Gradescope autograder will deduct points if your code fails the following rubric point - '`year_max` function is not used (-2)'. The public tests cannot determine if your code satisfies these requirements. Verify your code manually.\n",
       "q4 - 3 message: Note that the Gradescope autograder will deduct points if your code fails the following rubric point - 'the built-in function `max` is not used (-2)'. The public tests cannot determine if your code satisfies these requirements. Verify your code manually."
      ]
     },
     "execution_count": 15,
     "metadata": {},
     "output_type": "execute_result"
    }
   ],
   "source": [
    "grader.check(\"q4\")"
   ]
  },
  {
   "cell_type": "markdown",
   "id": "c2a07def",
   "metadata": {
    "deletable": false,
    "editable": false
   },
   "source": [
    "### Function 2: `agency_min(agency)`\n",
    "\n",
    "This function **must** compute the **lowest** budget allotted to the given `agency` during any year in the dataset (*2019-2023*).\n",
    "\n",
    "We'll help you get started with this function, but you need to fill in the rest of the function yourself."
   ]
  },
  {
   "cell_type": "code",
   "execution_count": 16,
   "id": "2c883ddd",
   "metadata": {
    "execution": {
     "iopub.execute_input": "2023-09-19T23:21:50.508763Z",
     "iopub.status.busy": "2023-09-19T23:21:50.508763Z",
     "iopub.status.idle": "2023-09-19T23:21:50.515685Z",
     "shell.execute_reply": "2023-09-19T23:21:50.514675Z"
    },
    "tags": []
   },
   "outputs": [],
   "source": [
    "def agency_min(agency):\n",
    "    \"\"\"\n",
    "    agency_min(agency) computes the lowest budget allotted\n",
    "    to the given `agency` in any year\n",
    "    \"\"\"\n",
    "    agency_id = project.get_id(agency)    \n",
    "    budget_2019 = project.get_budget(agency_id, 2019)\n",
    "    budget_2020 = project.get_budget(agency_id, 2020)\n",
    "    # get the budgets from other years\n",
    "    budget_2021 = project.get_budget(agency_id, 2021)\n",
    "    budget_2022 = project.get_budget(agency_id, 2022)\n",
    "    budget_2023 = project.get_budget(agency_id, 2023)\n",
    "    # use the built-in min function (similar to the max function) to get the minimum across the \n",
    "    # five years and return that value\n",
    "    \n",
    "    min_budget_2019_to_2023 = min(budget_2019, budget_2020, budget_2021, budget_2022, budget_2023)\n",
    "    return min_budget_2019_to_2023"
   ]
  },
  {
   "cell_type": "code",
   "execution_count": 17,
   "id": "9023305e",
   "metadata": {
    "deletable": false,
    "editable": false
   },
   "outputs": [
    {
     "data": {
      "text/html": [
       "<p><strong><pre style='display: inline;'>agency_min</pre></strong> passed! 💯</p><p><strong><pre style='display: inline;'>agency_min - 1</pre> message:</strong> Note that the Gradescope autograder will deduct points if your code fails the following rubric point - 'function logic is incorrect (-2)'. The public tests cannot determine if your code satisfies these requirements. Verify your code manually.</p><p><strong><pre style='display: inline;'>agency_min - 2</pre> message:</strong> Note that the Gradescope autograder will deduct points if your code fails the following rubric point - 'the built-in function `min` is not used (-1)'. The public tests cannot determine if your code satisfies these requirements. Verify your code manually.</p>"
      ],
      "text/plain": [
       "agency_min results: All test cases passed!\n",
       "agency_min - 1 message: Note that the Gradescope autograder will deduct points if your code fails the following rubric point - 'function logic is incorrect (-2)'. The public tests cannot determine if your code satisfies these requirements. Verify your code manually.\n",
       "agency_min - 2 message: Note that the Gradescope autograder will deduct points if your code fails the following rubric point - 'the built-in function `min` is not used (-1)'. The public tests cannot determine if your code satisfies these requirements. Verify your code manually."
      ]
     },
     "execution_count": 17,
     "metadata": {},
     "output_type": "execute_result"
    }
   ],
   "source": [
    "grader.check(\"agency_min\")"
   ]
  },
  {
   "cell_type": "markdown",
   "id": "149e571c",
   "metadata": {
    "deletable": false,
    "editable": false
   },
   "source": [
    "**Question 5:** What was the lowest budget allotted to the agency *Library* in a *single* year?\n",
    "\n",
    "You **must** call the `agency_min` function to answer this question."
   ]
  },
  {
   "cell_type": "code",
   "execution_count": 18,
   "id": "bf3f077a",
   "metadata": {
    "execution": {
     "iopub.execute_input": "2023-09-19T23:21:50.542257Z",
     "iopub.status.busy": "2023-09-19T23:21:50.541256Z",
     "iopub.status.idle": "2023-09-19T23:21:50.549476Z",
     "shell.execute_reply": "2023-09-19T23:21:50.548458Z"
    },
    "tags": []
   },
   "outputs": [
    {
     "data": {
      "text/plain": [
       "17.703565"
      ]
     },
     "execution_count": 18,
     "metadata": {},
     "output_type": "execute_result"
    }
   ],
   "source": [
    "# replace the ... with your code\n",
    "min_budget_library = agency_min(\"Library\")\n",
    "\n",
    "min_budget_library"
   ]
  },
  {
   "cell_type": "code",
   "execution_count": 19,
   "id": "674a40d9",
   "metadata": {
    "deletable": false,
    "editable": false
   },
   "outputs": [
    {
     "data": {
      "text/html": [
       "<p><strong><pre style='display: inline;'>q5</pre></strong> passed! 🌟</p><p><strong><pre style='display: inline;'>q5 - 2</pre> message:</strong> Note that the Gradescope autograder will deduct points if your code fails the following rubric point - '`agency_min` function is not used (-3)'. The public tests cannot determine if your code satisfies these requirements. Verify your code manually.</p>"
      ],
      "text/plain": [
       "q5 results: All test cases passed!\n",
       "q5 - 2 message: Note that the Gradescope autograder will deduct points if your code fails the following rubric point - '`agency_min` function is not used (-3)'. The public tests cannot determine if your code satisfies these requirements. Verify your code manually."
      ]
     },
     "execution_count": 19,
     "metadata": {},
     "output_type": "execute_result"
    }
   ],
   "source": [
    "grader.check(\"q5\")"
   ]
  },
  {
   "cell_type": "markdown",
   "id": "50a835d8",
   "metadata": {
    "deletable": false,
    "editable": false
   },
   "source": [
    "**Question 6:** What was the least budget allotted in any *single* year between the agencies *Fire*, and *Police*?\n",
    "\n",
    "Recall that we can use the `min` function to compute the minimum of some values. To be clear, the answer to this question is a single floating point number whose value is the lowest budget allotted during a single year during this entire period between *2019-2023* to any of the 2 agencies mentioned.\n",
    "\n",
    "You **must** invoke the `agency_min` function in your answer to this question."
   ]
  },
  {
   "cell_type": "code",
   "execution_count": 20,
   "id": "2dfd9c6a",
   "metadata": {
    "execution": {
     "iopub.execute_input": "2023-09-19T23:21:50.574872Z",
     "iopub.status.busy": "2023-09-19T23:21:50.574872Z",
     "iopub.status.idle": "2023-09-19T23:21:50.582495Z",
     "shell.execute_reply": "2023-09-19T23:21:50.581463Z"
    },
    "tags": []
   },
   "outputs": [
    {
     "data": {
      "text/plain": [
       "52.853057"
      ]
     },
     "execution_count": 20,
     "metadata": {},
     "output_type": "execute_result"
    }
   ],
   "source": [
    "# compute and store the answer in the variable 'min_budget_fire_police'\n",
    "min_budget_fire_police = min(agency_min(\"Fire\"), agency_min(\"Police\"))\n",
    "# display the variable 'min_budget_fire_police' here\n",
    "min_budget_fire_police"
   ]
  },
  {
   "cell_type": "code",
   "execution_count": 21,
   "id": "97cedf73",
   "metadata": {
    "deletable": false,
    "editable": false
   },
   "outputs": [
    {
     "data": {
      "text/html": [
       "<p><strong><pre style='display: inline;'>q6</pre></strong> passed! 🚀</p><p><strong><pre style='display: inline;'>q6 - 2</pre> message:</strong> Note that the Gradescope autograder will deduct points if your code fails the following rubric point - '`agency_min` function is not used (-2)'. The public tests cannot determine if your code satisfies these requirements. Verify your code manually.</p><p><strong><pre style='display: inline;'>q6 - 3</pre> message:</strong> Note that the Gradescope autograder will deduct points if your code fails the following rubric point - 'the built-in function `min` is not used (-2)'. The public tests cannot determine if your code satisfies these requirements. Verify your code manually.</p>"
      ],
      "text/plain": [
       "q6 results: All test cases passed!\n",
       "q6 - 2 message: Note that the Gradescope autograder will deduct points if your code fails the following rubric point - '`agency_min` function is not used (-2)'. The public tests cannot determine if your code satisfies these requirements. Verify your code manually.\n",
       "q6 - 3 message: Note that the Gradescope autograder will deduct points if your code fails the following rubric point - 'the built-in function `min` is not used (-2)'. The public tests cannot determine if your code satisfies these requirements. Verify your code manually."
      ]
     },
     "execution_count": 21,
     "metadata": {},
     "output_type": "execute_result"
    }
   ],
   "source": [
    "grader.check(\"q6\")"
   ]
  },
  {
   "cell_type": "markdown",
   "id": "b87c7625",
   "metadata": {
    "deletable": false,
    "editable": false
   },
   "source": [
    "### Function 3: `agency_avg(agency) `\n",
    "\n",
    "This function must compute the **average** budget for the given `agency` across the five years in the dataset (i.e. *2019 - 2023*).\n",
    "\n",
    "**Hint:** start by copy/pasting the `agency_min` function definition, and renaming your copy to `agency_avg` (this is **not necessary**, but it will save you time).  \n",
    "Instead of returning the minimum of `budget_2019`, `budget_2020`, etc., return the **average** of these by adding them together, then dividing by five. \n",
    "**You may hardcode the number 5 for this computation**.\n",
    "\n",
    "The type of the *return value* **must** be `float`."
   ]
  },
  {
   "cell_type": "code",
   "execution_count": 22,
   "id": "b6e19d26",
   "metadata": {
    "execution": {
     "iopub.execute_input": "2023-09-19T23:21:50.624369Z",
     "iopub.status.busy": "2023-09-19T23:21:50.624369Z",
     "iopub.status.idle": "2023-09-19T23:21:50.631778Z",
     "shell.execute_reply": "2023-09-19T23:21:50.630746Z"
    },
    "tags": []
   },
   "outputs": [],
   "source": [
    "# define the function 'agency_avg' here\n",
    "def agency_avg(agency):\n",
    "    agency_id = project.get_id(agency)    \n",
    "    budget_2019 = project.get_budget(agency_id, 2019)\n",
    "    budget_2020 = project.get_budget(agency_id, 2020)\n",
    "    # get the budgets from other years\n",
    "    budget_2021 = project.get_budget(agency_id, 2021)\n",
    "    budget_2022 = project.get_budget(agency_id, 2022)\n",
    "    budget_2023 = project.get_budget(agency_id, 2023)\n",
    "    # use the built-in min function (similar to the max function) to get the minimum across the \n",
    "    # five years and return that value\n",
    "    \n",
    "    avg_budget_2019_to_2023 = (budget_2019 + budget_2020 + budget_2021 + budget_2022 + budget_2023) / 5\n",
    "    return avg_budget_2019_to_2023"
   ]
  },
  {
   "cell_type": "code",
   "execution_count": 23,
   "id": "95874d71",
   "metadata": {
    "deletable": false,
    "editable": false
   },
   "outputs": [
    {
     "data": {
      "text/html": [
       "<p><strong><pre style='display: inline;'>agency_avg</pre></strong> passed! 🍀</p><p><strong><pre style='display: inline;'>agency_avg - 1</pre> message:</strong> Note that the Gradescope autograder will deduct points if your code fails the following rubric point - 'function logic is incorrect (-2)'. The public tests cannot determine if your code satisfies these requirements. Verify your code manually.</p><p><strong><pre style='display: inline;'>agency_avg - 2</pre> message:</strong> Note that the Gradescope autograder will deduct points if your code fails the following rubric point - '`get_budget` and `get_id` functions are not used (-1)'. The public tests cannot determine if your code satisfies these requirements. Verify your code manually.</p>"
      ],
      "text/plain": [
       "agency_avg results: All test cases passed!\n",
       "agency_avg - 1 message: Note that the Gradescope autograder will deduct points if your code fails the following rubric point - 'function logic is incorrect (-2)'. The public tests cannot determine if your code satisfies these requirements. Verify your code manually.\n",
       "agency_avg - 2 message: Note that the Gradescope autograder will deduct points if your code fails the following rubric point - '`get_budget` and `get_id` functions are not used (-1)'. The public tests cannot determine if your code satisfies these requirements. Verify your code manually."
      ]
     },
     "execution_count": 23,
     "metadata": {},
     "output_type": "execute_result"
    }
   ],
   "source": [
    "grader.check(\"agency_avg\")"
   ]
  },
  {
   "cell_type": "markdown",
   "id": "1cfb229d",
   "metadata": {
    "deletable": false,
    "editable": false
   },
   "source": [
    "**Question 7:** What was the average budget of the agency *Parks* between *2019* and *2023*?\n",
    "\n",
    "You **must** call the `agency_avg` function to answer this question."
   ]
  },
  {
   "cell_type": "code",
   "execution_count": 24,
   "id": "531cf48f",
   "metadata": {
    "execution": {
     "iopub.execute_input": "2023-09-19T23:21:50.654843Z",
     "iopub.status.busy": "2023-09-19T23:21:50.654843Z",
     "iopub.status.idle": "2023-09-19T23:21:50.662623Z",
     "shell.execute_reply": "2023-09-19T23:21:50.661612Z"
    },
    "tags": []
   },
   "outputs": [
    {
     "data": {
      "text/plain": [
       "15.2202502"
      ]
     },
     "execution_count": 24,
     "metadata": {},
     "output_type": "execute_result"
    }
   ],
   "source": [
    "# compute and store the answer in the variable 'parks_avg_budget'\n",
    "parks_avg_budget = agency_avg(\"Parks\")\n",
    "# display the variable 'parks_avg_budget' here\n",
    "parks_avg_budget"
   ]
  },
  {
   "cell_type": "code",
   "execution_count": 25,
   "id": "a2fcf0b9",
   "metadata": {
    "deletable": false,
    "editable": false
   },
   "outputs": [
    {
     "data": {
      "text/html": [
       "<p><strong><pre style='display: inline;'>q7</pre></strong> passed! 🚀</p><p><strong><pre style='display: inline;'>q7 - 2</pre> message:</strong> Note that the Gradescope autograder will deduct points if your code fails the following rubric point - '`agency_avg` function is not used (-3)'. The public tests cannot determine if your code satisfies these requirements. Verify your code manually.</p>"
      ],
      "text/plain": [
       "q7 results: All test cases passed!\n",
       "q7 - 2 message: Note that the Gradescope autograder will deduct points if your code fails the following rubric point - '`agency_avg` function is not used (-3)'. The public tests cannot determine if your code satisfies these requirements. Verify your code manually."
      ]
     },
     "execution_count": 25,
     "metadata": {},
     "output_type": "execute_result"
    }
   ],
   "source": [
    "grader.check(\"q7\")"
   ]
  },
  {
   "cell_type": "markdown",
   "id": "2d8b63b1",
   "metadata": {
    "deletable": false,
    "editable": false
   },
   "source": [
    "**Question 8:** What was the average budget of the agency *Public Health* between *2019* and *2023*?\n",
    "\n",
    "You **must** call the `agency_avg` function to answer this question."
   ]
  },
  {
   "cell_type": "code",
   "execution_count": 26,
   "id": "5f165638",
   "metadata": {
    "execution": {
     "iopub.execute_input": "2023-09-19T23:21:50.685283Z",
     "iopub.status.busy": "2023-09-19T23:21:50.685283Z",
     "iopub.status.idle": "2023-09-19T23:21:50.692508Z",
     "shell.execute_reply": "2023-09-19T23:21:50.691496Z"
    },
    "tags": []
   },
   "outputs": [
    {
     "data": {
      "text/plain": [
       "7.140231"
      ]
     },
     "execution_count": 26,
     "metadata": {},
     "output_type": "execute_result"
    }
   ],
   "source": [
    "# compute and store the answer in the variable 'public_health_avg_budget'\n",
    "public_health_avg_budget = agency_avg(\"Public Health\")\n",
    "# display the variable 'public_health_avg_budget' here\n",
    "public_health_avg_budget"
   ]
  },
  {
   "cell_type": "code",
   "execution_count": 27,
   "id": "ebc71ec0",
   "metadata": {
    "deletable": false,
    "editable": false
   },
   "outputs": [
    {
     "data": {
      "text/html": [
       "<p><strong><pre style='display: inline;'>q8</pre></strong> passed! 💯</p><p><strong><pre style='display: inline;'>q8 - 2</pre> message:</strong> Note that the Gradescope autograder will deduct points if your code fails the following rubric point - '`agency_avg` function is not used (-3)'. The public tests cannot determine if your code satisfies these requirements. Verify your code manually.</p>"
      ],
      "text/plain": [
       "q8 results: All test cases passed!\n",
       "q8 - 2 message: Note that the Gradescope autograder will deduct points if your code fails the following rubric point - '`agency_avg` function is not used (-3)'. The public tests cannot determine if your code satisfies these requirements. Verify your code manually."
      ]
     },
     "execution_count": 27,
     "metadata": {},
     "output_type": "execute_result"
    }
   ],
   "source": [
    "grader.check(\"q8\")"
   ]
  },
  {
   "cell_type": "markdown",
   "id": "ce1d7d60",
   "metadata": {
    "deletable": false,
    "editable": false
   },
   "source": [
    "**Question 9:** Relative to its **average**, how much **higher** or **lower** was the budget of the agency *Public Health* in *2023*?\n",
    "\n",
    "**Hint:** Compute the difference between the **average** budget and the budget in *2023* of *Public Health*. Your answer must be a **positive** number if the budget was **higher** in *2018* than on average. Your answer must be a **negative** number if the budget was **lower** in *2023* than on average."
   ]
  },
  {
   "cell_type": "code",
   "execution_count": 28,
   "id": "c10b44dd",
   "metadata": {
    "execution": {
     "iopub.execute_input": "2023-09-19T23:21:50.716931Z",
     "iopub.status.busy": "2023-09-19T23:21:50.715950Z",
     "iopub.status.idle": "2023-09-19T23:21:50.725196Z",
     "shell.execute_reply": "2023-09-19T23:21:50.724185Z"
    },
    "tags": []
   },
   "outputs": [
    {
     "data": {
      "text/plain": [
       "2.5160680000000006"
      ]
     },
     "execution_count": 28,
     "metadata": {},
     "output_type": "execute_result"
    }
   ],
   "source": [
    "# compute and store the answer in the variable 'diff_public_health_2023_to_average'.\n",
    "# it is recommended that you create more intermediary variables to make your code easier to write and read.\n",
    "# some useful intermediary variables you could use/create are: 'public_health_id', 'public_health_avg_budget', and\n",
    "#                                                              'public_health_budget_2023'.\n",
    "public_health_budget_2023 = project.get_budget(public_health_id, 2023)\n",
    "diff_public_health_2023_to_average = public_health_budget_2023 - agency_avg(\"Public Health\")\n",
    "# display the variable 'diff_public_health_2023_to_average' here\n",
    "diff_public_health_2023_to_average"
   ]
  },
  {
   "cell_type": "code",
   "execution_count": 29,
   "id": "84f7cc34",
   "metadata": {
    "deletable": false,
    "editable": false
   },
   "outputs": [
    {
     "data": {
      "text/html": [
       "<p><strong><pre style='display: inline;'>q9</pre></strong> passed! 🙌</p><p><strong><pre style='display: inline;'>q9 - 2</pre> message:</strong> Note that the Gradescope autograder will deduct points if your code fails the following rubric point - 'average budget is computed without using the `agency_avg` function (-3)'. The public tests cannot determine if your code satisfies these requirements. Verify your code manually.</p><p><strong><pre style='display: inline;'>q9 - 3</pre> message:</strong> Note that the Gradescope autograder will deduct points if your code fails the following rubric point - '`get_budget` function is not used for getting Public Health budget (-1)'. The public tests cannot determine if your code satisfies these requirements. Verify your code manually.</p>"
      ],
      "text/plain": [
       "q9 results: All test cases passed!\n",
       "q9 - 2 message: Note that the Gradescope autograder will deduct points if your code fails the following rubric point - 'average budget is computed without using the `agency_avg` function (-3)'. The public tests cannot determine if your code satisfies these requirements. Verify your code manually.\n",
       "q9 - 3 message: Note that the Gradescope autograder will deduct points if your code fails the following rubric point - '`get_budget` function is not used for getting Public Health budget (-1)'. The public tests cannot determine if your code satisfies these requirements. Verify your code manually."
      ]
     },
     "execution_count": 29,
     "metadata": {},
     "output_type": "execute_result"
    }
   ],
   "source": [
    "grader.check(\"q9\")"
   ]
  },
  {
   "cell_type": "markdown",
   "id": "1839010a",
   "metadata": {
    "deletable": false,
    "editable": false
   },
   "source": [
    "### Function 4: `year_budget(year)`\n",
    "\n",
    "This function must compute the **total** budget across all agencies for the given `year`.\n",
    "\n",
    "You can start from the following code snippet:"
   ]
  },
  {
   "cell_type": "code",
   "execution_count": 30,
   "id": "d79b2804",
   "metadata": {
    "execution": {
     "iopub.execute_input": "2023-09-19T23:21:50.768165Z",
     "iopub.status.busy": "2023-09-19T23:21:50.768165Z",
     "iopub.status.idle": "2023-09-19T23:21:50.776208Z",
     "shell.execute_reply": "2023-09-19T23:21:50.775185Z"
    },
    "tags": []
   },
   "outputs": [],
   "source": [
    "def year_budget(year=2023): # DO NOT EDIT THIS LINE\n",
    "    \"\"\"\n",
    "    year_budget(year) computes the total budget\n",
    "    across all agencies for the given year\n",
    "    \"\"\"\n",
    "    # since this function has no code inside, we have added the pass statement \n",
    "    # inside so the code does not crash.\n",
    "    # once you have added code to this function, you can (and should) \n",
    "    # remove the pass statement as it does nothing.\n",
    "    finance_budget = project.get_budget(finance_id, year)\n",
    "    library_budget = project.get_budget(library_id, year)\n",
    "    fire_budget = project.get_budget(fire_id, year)\n",
    "    police_budget = project.get_budget(police_id, year)\n",
    "    public_health_budget = project.get_budget(public_health_id, year)\n",
    "    parks_budget = project.get_budget(parks_id, year)\n",
    "    metro_transit_budget = project.get_budget(metro_transit_id, year)\n",
    "    \n",
    "    total_year_budget = finance_budget + library_budget + fire_budget + police_budget + public_health_budget + parks_budget + metro_transit_budget\n",
    "    # finish this function definition and return the total budget\n",
    "    # across all agencies for the given `year`\n",
    "    return total_year_budget\n",
    "    "
   ]
  },
  {
   "cell_type": "code",
   "execution_count": 31,
   "id": "573146c6",
   "metadata": {
    "deletable": false,
    "editable": false
   },
   "outputs": [
    {
     "data": {
      "text/html": [
       "<p><strong><pre style='display: inline;'>year_budget</pre></strong> passed! 🙌</p><p><strong><pre style='display: inline;'>year_budget - 1</pre> message:</strong> Note that the Gradescope autograder will deduct points if your code fails the following rubric point - 'function logic is incorrect (-2)'. The public tests cannot determine if your code satisfies these requirements. Verify your code manually.</p><p><strong><pre style='display: inline;'>year_budget - 2</pre> message:</strong> Note that the Gradescope autograder will deduct points if your code fails the following rubric point - 'agency ids are hardcoded (-1)'. The public tests cannot determine if your code satisfies these requirements. Verify your code manually.</p><p><strong><pre style='display: inline;'>year_budget - 3</pre> message:</strong> Note that the Gradescope autograder will deduct points if your code fails the following rubric point - 'default value of `year=2023` is changed in `year_budget` (-1)'. The public tests cannot determine if your code satisfies these requirements. Verify your code manually.</p>"
      ],
      "text/plain": [
       "year_budget results: All test cases passed!\n",
       "year_budget - 1 message: Note that the Gradescope autograder will deduct points if your code fails the following rubric point - 'function logic is incorrect (-2)'. The public tests cannot determine if your code satisfies these requirements. Verify your code manually.\n",
       "year_budget - 2 message: Note that the Gradescope autograder will deduct points if your code fails the following rubric point - 'agency ids are hardcoded (-1)'. The public tests cannot determine if your code satisfies these requirements. Verify your code manually.\n",
       "year_budget - 3 message: Note that the Gradescope autograder will deduct points if your code fails the following rubric point - 'default value of `year=2023` is changed in `year_budget` (-1)'. The public tests cannot determine if your code satisfies these requirements. Verify your code manually."
      ]
     },
     "execution_count": 31,
     "metadata": {},
     "output_type": "execute_result"
    }
   ],
   "source": [
    "grader.check(\"year_budget\")"
   ]
  },
  {
   "cell_type": "markdown",
   "id": "812eff4b",
   "metadata": {
    "deletable": false,
    "editable": false
   },
   "source": [
    "**Question 10:** What was the **total** budget across all seven agencies in *2023*?\n",
    "\n",
    "You **must** call the `year_budget` function to answer this question. Use the default argument (your call to `year_sum` function **must not** pass any arguments)."
   ]
  },
  {
   "cell_type": "code",
   "execution_count": 32,
   "id": "6653c8eb",
   "metadata": {
    "execution": {
     "iopub.execute_input": "2023-09-19T23:21:50.809566Z",
     "iopub.status.busy": "2023-09-19T23:21:50.809566Z",
     "iopub.status.idle": "2023-09-19T23:21:50.817166Z",
     "shell.execute_reply": "2023-09-19T23:21:50.816159Z"
    },
    "tags": []
   },
   "outputs": [
    {
     "data": {
      "text/plain": [
       "207.10501"
      ]
     },
     "execution_count": 32,
     "metadata": {},
     "output_type": "execute_result"
    }
   ],
   "source": [
    "# compute and store the answer in the variable 'total_budget_2023'\n",
    "total_budget_2023 = year_budget()\n",
    "# display the variable 'total_budget_2023' here\n",
    "total_budget_2023"
   ]
  },
  {
   "cell_type": "code",
   "execution_count": 33,
   "id": "b8bb0bf6",
   "metadata": {
    "deletable": false,
    "editable": false
   },
   "outputs": [
    {
     "data": {
      "text/html": [
       "<p><strong><pre style='display: inline;'>q10</pre></strong> passed! 🎉</p><p><strong><pre style='display: inline;'>q10 - 2</pre> message:</strong> Note that the Gradescope autograder will deduct points if your code fails the following rubric point - '`year_budget` function is not used (-2)'. The public tests cannot determine if your code satisfies these requirements. Verify your code manually.</p><p><strong><pre style='display: inline;'>q10 - 3</pre> message:</strong> Note that the Gradescope autograder will deduct points if your code fails the following rubric point - 'passed more arguments than necessary to `year_budget` function (-2)'. The public tests cannot determine if your code satisfies these requirements. Verify your code manually.</p>"
      ],
      "text/plain": [
       "q10 results: All test cases passed!\n",
       "q10 - 2 message: Note that the Gradescope autograder will deduct points if your code fails the following rubric point - '`year_budget` function is not used (-2)'. The public tests cannot determine if your code satisfies these requirements. Verify your code manually.\n",
       "q10 - 3 message: Note that the Gradescope autograder will deduct points if your code fails the following rubric point - 'passed more arguments than necessary to `year_budget` function (-2)'. The public tests cannot determine if your code satisfies these requirements. Verify your code manually."
      ]
     },
     "execution_count": 33,
     "metadata": {},
     "output_type": "execute_result"
    }
   ],
   "source": [
    "grader.check(\"q10\")"
   ]
  },
  {
   "cell_type": "markdown",
   "id": "6d544c4c",
   "metadata": {
    "deletable": false,
    "editable": false
   },
   "source": [
    "**Question 11:** What was the **total** budget across all seven agencies across the years *2019-2021* (both years included)?\n",
    "\n",
    "You **must** invoke the `year_budget` function in your answer to this question. To be clear, the answer to this question is a single floating point number whose value is the total budget across all seven agencies during these three years."
   ]
  },
  {
   "cell_type": "code",
   "execution_count": 34,
   "id": "ae09ba46",
   "metadata": {
    "execution": {
     "iopub.execute_input": "2023-09-19T23:21:50.853807Z",
     "iopub.status.busy": "2023-09-19T23:21:50.853807Z",
     "iopub.status.idle": "2023-09-19T23:21:50.862542Z",
     "shell.execute_reply": "2023-09-19T23:21:50.861525Z"
    },
    "tags": []
   },
   "outputs": [
    {
     "data": {
      "text/plain": [
       "574.614804"
      ]
     },
     "execution_count": 34,
     "metadata": {},
     "output_type": "execute_result"
    }
   ],
   "source": [
    "# compute and store the answer in the variable 'total_budget_2019_to_2021'\n",
    "total_budget_2019_to_2021 = year_budget(2019) + year_budget(2020) + year_budget(2021)\n",
    "# display the variable 'total_budget_2019_to_2021' here\n",
    "total_budget_2019_to_2021"
   ]
  },
  {
   "cell_type": "code",
   "execution_count": 35,
   "id": "397a5698",
   "metadata": {
    "deletable": false,
    "editable": false
   },
   "outputs": [
    {
     "data": {
      "text/html": [
       "<p><strong><pre style='display: inline;'>q11</pre></strong> passed! 🎉</p><p><strong><pre style='display: inline;'>q11 - 2</pre> message:</strong> Note that the Gradescope autograder will deduct points if your code fails the following rubric point - '`year_budget` function is not used (-2)'. The public tests cannot determine if your code satisfies these requirements. Verify your code manually.</p><p><strong><pre style='display: inline;'>q11 - 3</pre> message:</strong> Note that the Gradescope autograder will deduct points if your code fails the following rubric point - 'passed more arguments than necessary to `year_budget` function (-2)'. The public tests cannot determine if your code satisfies these requirements. Verify your code manually.</p>"
      ],
      "text/plain": [
       "q11 results: All test cases passed!\n",
       "q11 - 2 message: Note that the Gradescope autograder will deduct points if your code fails the following rubric point - '`year_budget` function is not used (-2)'. The public tests cannot determine if your code satisfies these requirements. Verify your code manually.\n",
       "q11 - 3 message: Note that the Gradescope autograder will deduct points if your code fails the following rubric point - 'passed more arguments than necessary to `year_budget` function (-2)'. The public tests cannot determine if your code satisfies these requirements. Verify your code manually."
      ]
     },
     "execution_count": 35,
     "metadata": {},
     "output_type": "execute_result"
    }
   ],
   "source": [
    "grader.check(\"q11\")"
   ]
  },
  {
   "cell_type": "markdown",
   "id": "10dceff6",
   "metadata": {
    "deletable": false,
    "editable": false
   },
   "source": [
    "### Function 5: `change_per_year(agency, start_year, end_year)`\n",
    "\n",
    "This function should return the **average increase or decrease** in budget (must be **positive** if there's an **increase**, and **negative** if there’s a **decrease**) over the period from `start_year` to `end_year` for the given `agency`.\n",
    "\n",
    "The type of the *return value* **must** be `float`.\n",
    "\n",
    "We're not asking you to do anything complicated here; you just need to compute the **difference** in budget between the end year and the start year, then **divide** by the number of elapsed years. Recall that you created a similar function in the lab. You can start with the following code snippet (with the default arguments):"
   ]
  },
  {
   "cell_type": "code",
   "execution_count": 36,
   "id": "ebd6bf18",
   "metadata": {
    "execution": {
     "iopub.execute_input": "2023-09-19T23:21:50.908070Z",
     "iopub.status.busy": "2023-09-19T23:21:50.908070Z",
     "iopub.status.idle": "2023-09-19T23:21:50.915535Z",
     "shell.execute_reply": "2023-09-19T23:21:50.914504Z"
    },
    "tags": []
   },
   "outputs": [],
   "source": [
    "def change_per_year(agency, start_year=2019, end_year=2023): # DO NOT EDIT THIS LINE\n",
    "    \"\"\"\n",
    "    change_per_year(agency, start_year, end_year) computes the average increase \n",
    "    or decrease in budget over the period from `start_year` to `end_year` for the \n",
    "    given `agency`\n",
    "    \"\"\"\n",
    "\n",
    "    agency_id = project.get_id(agency)\n",
    "    # TODO: compute and return the change per year in the budget of the agency between start_year and end_year\n",
    "    avg_change_year = (project.get_budget(agency_id, end_year) - project.get_budget(agency_id, start_year)) / (end_year - start_year)\n",
    "    # TODO: it is recommended that you create intermediary variables to make your code easier to write and read.\n",
    "    # TODO: some useful intermediary variables you could create are: \n",
    "    #       'budget_start_year', 'budget_end_year', 'budget_difference'.\n",
    "    return avg_change_year"
   ]
  },
  {
   "cell_type": "code",
   "execution_count": 37,
   "id": "5f196020",
   "metadata": {
    "deletable": false,
    "editable": false
   },
   "outputs": [
    {
     "data": {
      "text/html": [
       "<p><strong><pre style='display: inline;'>change_per_year</pre></strong> passed! 🎉</p><p><strong><pre style='display: inline;'>change_per_year - 1</pre> message:</strong> Note that the Gradescope autograder will deduct points if your code fails the following rubric point - 'function logic is incorrect (-3)'. The public tests cannot determine if your code satisfies these requirements. Verify your code manually.</p><p><strong><pre style='display: inline;'>change_per_year - 2</pre> message:</strong> Note that the Gradescope autograder will deduct points if your code fails the following rubric point - 'default values of `start_year=2019` and `end_year=2023` are changed in `change_per_year` (-2)'. The public tests cannot determine if your code satisfies these requirements. Verify your code manually.</p>"
      ],
      "text/plain": [
       "change_per_year results: All test cases passed!\n",
       "change_per_year - 1 message: Note that the Gradescope autograder will deduct points if your code fails the following rubric point - 'function logic is incorrect (-3)'. The public tests cannot determine if your code satisfies these requirements. Verify your code manually.\n",
       "change_per_year - 2 message: Note that the Gradescope autograder will deduct points if your code fails the following rubric point - 'default values of `start_year=2019` and `end_year=2023` are changed in `change_per_year` (-2)'. The public tests cannot determine if your code satisfies these requirements. Verify your code manually."
      ]
     },
     "execution_count": 37,
     "metadata": {},
     "output_type": "execute_result"
    }
   ],
   "source": [
    "grader.check(\"change_per_year\")"
   ]
  },
  {
   "cell_type": "markdown",
   "id": "2d315faf",
   "metadata": {
    "deletable": false,
    "editable": false
   },
   "source": [
    "**Question 12:** How much has the budget of the agency *Police* changed per year (on average) from *2019* to *2023*?\n",
    "\n",
    "You **must** call the `change_per_year` function to answer this question. Use the default arguments (your call to `change_per_year` function **must not** pass any more arguments than is absolutely necessary)."
   ]
  },
  {
   "cell_type": "code",
   "execution_count": 38,
   "id": "7237ce6f",
   "metadata": {
    "execution": {
     "iopub.execute_input": "2023-09-19T23:21:50.938940Z",
     "iopub.status.busy": "2023-09-19T23:21:50.938940Z",
     "iopub.status.idle": "2023-09-19T23:21:50.944876Z",
     "shell.execute_reply": "2023-09-19T23:21:50.944876Z"
    },
    "tags": []
   },
   "outputs": [
    {
     "data": {
      "text/plain": [
       "2.542170500000001"
      ]
     },
     "execution_count": 38,
     "metadata": {},
     "output_type": "execute_result"
    }
   ],
   "source": [
    "# compute and store the answer in the variable 'police_average_change'\n",
    "police_average_change = change_per_year(\"Police\")\n",
    "\n",
    "# display the variable 'police_average_change' here\n",
    "police_average_change"
   ]
  },
  {
   "cell_type": "code",
   "execution_count": 39,
   "id": "c19399ef",
   "metadata": {
    "deletable": false,
    "editable": false
   },
   "outputs": [
    {
     "data": {
      "text/html": [
       "<p><strong><pre style='display: inline;'>q12</pre></strong> passed! 🚀</p><p><strong><pre style='display: inline;'>q12 - 2</pre> message:</strong> Note that the Gradescope autograder will deduct points if your code fails the following rubric point - '`change_per_year` function is not used (-3)'. The public tests cannot determine if your code satisfies these requirements. Verify your code manually.</p><p><strong><pre style='display: inline;'>q12 - 3</pre> message:</strong> Note that the Gradescope autograder will deduct points if your code fails the following rubric point - 'passed more arguments than necessary to `change_per_year` function (-1)'. The public tests cannot determine if your code satisfies these requirements. Verify your code manually.</p>"
      ],
      "text/plain": [
       "q12 results: All test cases passed!\n",
       "q12 - 2 message: Note that the Gradescope autograder will deduct points if your code fails the following rubric point - '`change_per_year` function is not used (-3)'. The public tests cannot determine if your code satisfies these requirements. Verify your code manually.\n",
       "q12 - 3 message: Note that the Gradescope autograder will deduct points if your code fails the following rubric point - 'passed more arguments than necessary to `change_per_year` function (-1)'. The public tests cannot determine if your code satisfies these requirements. Verify your code manually."
      ]
     },
     "execution_count": 39,
     "metadata": {},
     "output_type": "execute_result"
    }
   ],
   "source": [
    "grader.check(\"q12\")"
   ]
  },
  {
   "cell_type": "markdown",
   "id": "8b3d297f",
   "metadata": {
    "deletable": false,
    "editable": false
   },
   "source": [
    "**Question 13:** How much has the budget of the agency *Fire* changed per year (on average) from *2020* to *2023*?\n",
    "\n",
    "You **must** call the `change_per_year` function to answer this question. Use the default arguments (your call to `change_per_year` function **should not** pass any more arguments than is absolutely necessary)."
   ]
  },
  {
   "cell_type": "code",
   "execution_count": 40,
   "id": "8ae586cf",
   "metadata": {
    "execution": {
     "iopub.execute_input": "2023-09-19T23:21:50.978710Z",
     "iopub.status.busy": "2023-09-19T23:21:50.978710Z",
     "iopub.status.idle": "2023-09-19T23:21:50.985480Z",
     "shell.execute_reply": "2023-09-19T23:21:50.984449Z"
    },
    "tags": []
   },
   "outputs": [
    {
     "data": {
      "text/plain": [
       "3.6926783333333333"
      ]
     },
     "execution_count": 40,
     "metadata": {},
     "output_type": "execute_result"
    }
   ],
   "source": [
    "# compute and store the answer in the variable 'fire_average_change'\n",
    "fire_average_change = change_per_year(\"Fire\", 2020)\n",
    "# display the variable 'fire_average_change' here\n",
    "fire_average_change"
   ]
  },
  {
   "cell_type": "code",
   "execution_count": 41,
   "id": "2c2d2c64",
   "metadata": {
    "deletable": false,
    "editable": false
   },
   "outputs": [
    {
     "data": {
      "text/html": [
       "<p><strong><pre style='display: inline;'>q13</pre></strong> passed! 🍀</p><p><strong><pre style='display: inline;'>q13 - 2</pre> message:</strong> Note that the Gradescope autograder will deduct points if your code fails the following rubric point - '`change_per_year` function is not used (-3)'. The public tests cannot determine if your code satisfies these requirements. Verify your code manually.</p><p><strong><pre style='display: inline;'>q13 - 3</pre> message:</strong> Note that the Gradescope autograder will deduct points if your code fails the following rubric point - 'passed more arguments than necessary to `change_per_year` function (-1)'. The public tests cannot determine if your code satisfies these requirements. Verify your code manually.</p>"
      ],
      "text/plain": [
       "q13 results: All test cases passed!\n",
       "q13 - 2 message: Note that the Gradescope autograder will deduct points if your code fails the following rubric point - '`change_per_year` function is not used (-3)'. The public tests cannot determine if your code satisfies these requirements. Verify your code manually.\n",
       "q13 - 3 message: Note that the Gradescope autograder will deduct points if your code fails the following rubric point - 'passed more arguments than necessary to `change_per_year` function (-1)'. The public tests cannot determine if your code satisfies these requirements. Verify your code manually."
      ]
     },
     "execution_count": 41,
     "metadata": {},
     "output_type": "execute_result"
    }
   ],
   "source": [
    "grader.check(\"q13\")"
   ]
  },
  {
   "cell_type": "markdown",
   "id": "50410eda",
   "metadata": {
    "deletable": false,
    "editable": false
   },
   "source": [
    "**Question 14:** How much has the budget of the agency *Finance* changed per year (on average) from *2019* to *2021*?\n",
    "\n",
    "You **must** call the `change_per_year` function to answer this question. Use the default arguments (your call to `change_per_year` function **should not** pass any more arguments than is absolutely necessary)."
   ]
  },
  {
   "cell_type": "code",
   "execution_count": 42,
   "id": "79efde72",
   "metadata": {
    "execution": {
     "iopub.execute_input": "2023-09-19T23:21:51.019206Z",
     "iopub.status.busy": "2023-09-19T23:21:51.018216Z",
     "iopub.status.idle": "2023-09-19T23:21:51.025777Z",
     "shell.execute_reply": "2023-09-19T23:21:51.024761Z"
    },
    "tags": []
   },
   "outputs": [
    {
     "data": {
      "text/plain": [
       "-0.20762100000000006"
      ]
     },
     "execution_count": 42,
     "metadata": {},
     "output_type": "execute_result"
    }
   ],
   "source": [
    "# compute and store the answer in the variable 'finance_average_change'\n",
    "finance_average_change = change_per_year(\"Finance\", end_year = 2021)\n",
    "# display the variable 'finance_average_change' here\n",
    "finance_average_change"
   ]
  },
  {
   "cell_type": "code",
   "execution_count": 43,
   "id": "072ef37a",
   "metadata": {
    "deletable": false,
    "editable": false
   },
   "outputs": [
    {
     "data": {
      "text/html": [
       "<p><strong><pre style='display: inline;'>q14</pre></strong> passed! 🌟</p><p><strong><pre style='display: inline;'>q14 - 2</pre> message:</strong> Note that the Gradescope autograder will deduct points if your code fails the following rubric point - '`change_per_year` function is not used (-3)'. The public tests cannot determine if your code satisfies these requirements. Verify your code manually.</p><p><strong><pre style='display: inline;'>q14 - 3</pre> message:</strong> Note that the Gradescope autograder will deduct points if your code fails the following rubric point - 'passed more arguments than necessary to `change_per_year` function (-1)'. The public tests cannot determine if your code satisfies these requirements. Verify your code manually.</p>"
      ],
      "text/plain": [
       "q14 results: All test cases passed!\n",
       "q14 - 2 message: Note that the Gradescope autograder will deduct points if your code fails the following rubric point - '`change_per_year` function is not used (-3)'. The public tests cannot determine if your code satisfies these requirements. Verify your code manually.\n",
       "q14 - 3 message: Note that the Gradescope autograder will deduct points if your code fails the following rubric point - 'passed more arguments than necessary to `change_per_year` function (-1)'. The public tests cannot determine if your code satisfies these requirements. Verify your code manually."
      ]
     },
     "execution_count": 43,
     "metadata": {},
     "output_type": "execute_result"
    }
   ],
   "source": [
    "grader.check(\"q14\")"
   ]
  },
  {
   "cell_type": "markdown",
   "id": "f0ec8724",
   "metadata": {
    "deletable": false,
    "editable": false
   },
   "source": [
    "**Question 15:** How much has the budget of the agency *Metro Transit* changed per year (on average) from *2020* to *2022*?\n",
    "\n",
    "You **must** call the `change_per_year` function to answer this question. Use the default arguments (your call to `change_per_year` function **should not** pass any more arguments than is absolutely necessary)."
   ]
  },
  {
   "cell_type": "code",
   "execution_count": 44,
   "id": "e6a59fc4",
   "metadata": {
    "execution": {
     "iopub.execute_input": "2023-09-19T23:21:51.058613Z",
     "iopub.status.busy": "2023-09-19T23:21:51.058613Z",
     "iopub.status.idle": "2023-09-19T23:21:51.065263Z",
     "shell.execute_reply": "2023-09-19T23:21:51.065263Z"
    },
    "tags": []
   },
   "outputs": [
    {
     "data": {
      "text/plain": [
       "0.28695749999999975"
      ]
     },
     "execution_count": 44,
     "metadata": {},
     "output_type": "execute_result"
    }
   ],
   "source": [
    "# compute and store the answer in the variable 'metro_transit_average_change'\n",
    "metro_transit_average_change = change_per_year(\"Metro Transit\", 2020, 2022)\n",
    "# display the variable 'metro_transit_average_change' here\n",
    "metro_transit_average_change"
   ]
  },
  {
   "cell_type": "code",
   "execution_count": 45,
   "id": "8da5b4b2",
   "metadata": {
    "deletable": false,
    "editable": false
   },
   "outputs": [
    {
     "data": {
      "text/html": [
       "<p><strong><pre style='display: inline;'>q15</pre></strong> passed! 🌈</p><p><strong><pre style='display: inline;'>q15 - 2</pre> message:</strong> Note that the Gradescope autograder will deduct points if your code fails the following rubric point - '`change_per_year` function is not used (-3)'. The public tests cannot determine if your code satisfies these requirements. Verify your code manually.</p><p><strong><pre style='display: inline;'>q15 - 3</pre> message:</strong> Note that the Gradescope autograder will deduct points if your code fails the following rubric point - 'passed more arguments than necessary to `change_per_year` function (-1)'. The public tests cannot determine if your code satisfies these requirements. Verify your code manually.</p>"
      ],
      "text/plain": [
       "q15 results: All test cases passed!\n",
       "q15 - 2 message: Note that the Gradescope autograder will deduct points if your code fails the following rubric point - '`change_per_year` function is not used (-3)'. The public tests cannot determine if your code satisfies these requirements. Verify your code manually.\n",
       "q15 - 3 message: Note that the Gradescope autograder will deduct points if your code fails the following rubric point - 'passed more arguments than necessary to `change_per_year` function (-1)'. The public tests cannot determine if your code satisfies these requirements. Verify your code manually."
      ]
     },
     "execution_count": 45,
     "metadata": {},
     "output_type": "execute_result"
    }
   ],
   "source": [
    "grader.check(\"q15\")"
   ]
  },
  {
   "cell_type": "markdown",
   "id": "0e741c19",
   "metadata": {
    "deletable": false,
    "editable": false
   },
   "source": [
    "### Function 6: `extrapolate(agency, target_year, start_year, end_year)`\n",
    "\n",
    "This function **must** compute the **average** change per year from the data from `start_year` to `end_year` for `agency`. It **must** then return the **predicted budget** in `target_year`, assuming budget continues increasing (or decreasing) by that same **constant** amount each year.\n",
    "\n",
    "The type of the *return value* **must** be `float`.\n",
    "\n",
    "You **must** define `extrapolate` so that the parameter `start_year` has the **default argument** `2019` and `end_year` has the **default argument** `2023`.\n",
    "\n",
    "You **must** call the `change_per_year` function in the definition of `extrapolate`. **Do not** manually recompute the average change in budget."
   ]
  },
  {
   "cell_type": "code",
   "execution_count": 46,
   "id": "64b3a31f",
   "metadata": {
    "execution": {
     "iopub.execute_input": "2023-09-19T23:21:51.099463Z",
     "iopub.status.busy": "2023-09-19T23:21:51.099463Z",
     "iopub.status.idle": "2023-09-19T23:21:51.105076Z",
     "shell.execute_reply": "2023-09-19T23:21:51.105076Z"
    },
    "tags": []
   },
   "outputs": [],
   "source": [
    "def extrapolate(agency, target_year, start_year = 2019, end_year = 2023):\n",
    "# define the function extrapolate(agency, target_year, start_year, end_year) here.\n",
    "# it should return the estimated budget of the `agency` in `target_year` based on the \n",
    "# average change in the budget between `start_year` and `end_year`.\n",
    "# it is recommended that you create intermediary variables to make your code easier to write and read.\n",
    "    avg_change_year = change_per_year(agency, start_year, end_year)\n",
    "    budget_target = ((target_year - start_year) * avg_change_year) + project.get_budget(project.get_id(agency), start_year)\n",
    "    return budget_target\n"
   ]
  },
  {
   "cell_type": "code",
   "execution_count": 47,
   "id": "38f5c145",
   "metadata": {
    "deletable": false,
    "editable": false
   },
   "outputs": [
    {
     "data": {
      "text/html": [
       "<p><strong><pre style='display: inline;'>extrapolate</pre></strong> passed! 🌟</p><p><strong><pre style='display: inline;'>extrapolate - 1</pre> message:</strong> Note that the Gradescope autograder will deduct points if your code fails the following rubric point - 'function logic is incorrect (-2)'. The public tests cannot determine if your code satisfies these requirements. Verify your code manually.</p><p><strong><pre style='display: inline;'>extrapolate - 2</pre> message:</strong> Note that the Gradescope autograder will deduct points if your code fails the following rubric point - '`change_per_year` function is not used (-2)'. The public tests cannot determine if your code satisfies these requirements. Verify your code manually.</p><p><strong><pre style='display: inline;'>extrapolate - 3</pre> message:</strong> Note that the Gradescope autograder will deduct points if your code fails the following rubric point - 'default value are not specified in `extrapolate` (-1)'. The public tests cannot determine if your code satisfies these requirements. Verify your code manually.</p>"
      ],
      "text/plain": [
       "extrapolate results: All test cases passed!\n",
       "extrapolate - 1 message: Note that the Gradescope autograder will deduct points if your code fails the following rubric point - 'function logic is incorrect (-2)'. The public tests cannot determine if your code satisfies these requirements. Verify your code manually.\n",
       "extrapolate - 2 message: Note that the Gradescope autograder will deduct points if your code fails the following rubric point - '`change_per_year` function is not used (-2)'. The public tests cannot determine if your code satisfies these requirements. Verify your code manually.\n",
       "extrapolate - 3 message: Note that the Gradescope autograder will deduct points if your code fails the following rubric point - 'default value are not specified in `extrapolate` (-1)'. The public tests cannot determine if your code satisfies these requirements. Verify your code manually."
      ]
     },
     "execution_count": 47,
     "metadata": {},
     "output_type": "execute_result"
    }
   ],
   "source": [
    "grader.check(\"extrapolate\")"
   ]
  },
  {
   "cell_type": "markdown",
   "id": "0b9aef22",
   "metadata": {
    "deletable": false,
    "editable": false
   },
   "source": [
    "**Question 16:** What is the **estimated** budget for the agency *Library* in *2025* based on the **average change** in budget per year for it between *2019* and *2023*?\n",
    "\n",
    "You **must** call the `extrapolate` function to answer this question. Use the default arguments if possible (your call to `extrapolate` function **must not** pass any more arguments than is absolutely necessary)."
   ]
  },
  {
   "cell_type": "code",
   "execution_count": 48,
   "id": "ce41449b",
   "metadata": {
    "execution": {
     "iopub.execute_input": "2023-09-19T23:21:51.140608Z",
     "iopub.status.busy": "2023-09-19T23:21:51.139606Z",
     "iopub.status.idle": "2023-09-19T23:21:51.146826Z",
     "shell.execute_reply": "2023-09-19T23:21:51.145816Z"
    },
    "tags": []
   },
   "outputs": [
    {
     "data": {
      "text/plain": [
       "20.804454999999997"
      ]
     },
     "execution_count": 48,
     "metadata": {},
     "output_type": "execute_result"
    }
   ],
   "source": [
    "# compute and store the answer in the variable 'library_budget_2025'\n",
    "library_budget_2025 = extrapolate(\"Library\", 2025)\n",
    "# display the variable 'library_budget_2025' here\n",
    "library_budget_2025"
   ]
  },
  {
   "cell_type": "code",
   "execution_count": 49,
   "id": "a7949545",
   "metadata": {
    "deletable": false,
    "editable": false
   },
   "outputs": [
    {
     "data": {
      "text/html": [
       "<p><strong><pre style='display: inline;'>q16</pre></strong> passed! 🌟</p><p><strong><pre style='display: inline;'>q16 - 2</pre> message:</strong> Note that the Gradescope autograder will deduct points if your code fails the following rubric point - '`extrapolate` function is not used (-3)'. The public tests cannot determine if your code satisfies these requirements. Verify your code manually.</p><p><strong><pre style='display: inline;'>q16 - 3</pre> message:</strong> Note that the Gradescope autograder will deduct points if your code fails the following rubric point - 'passed more arguments than necessary to `extrapolate` function (-1)'. The public tests cannot determine if your code satisfies these requirements. Verify your code manually.</p>"
      ],
      "text/plain": [
       "q16 results: All test cases passed!\n",
       "q16 - 2 message: Note that the Gradescope autograder will deduct points if your code fails the following rubric point - '`extrapolate` function is not used (-3)'. The public tests cannot determine if your code satisfies these requirements. Verify your code manually.\n",
       "q16 - 3 message: Note that the Gradescope autograder will deduct points if your code fails the following rubric point - 'passed more arguments than necessary to `extrapolate` function (-1)'. The public tests cannot determine if your code satisfies these requirements. Verify your code manually."
      ]
     },
     "execution_count": 49,
     "metadata": {},
     "output_type": "execute_result"
    }
   ],
   "source": [
    "grader.check(\"q16\")"
   ]
  },
  {
   "cell_type": "markdown",
   "id": "53cd9e27",
   "metadata": {
    "deletable": false,
    "editable": false
   },
   "source": [
    "**Question 17:** What is the **estimated budget** for the agency *Parks* in *2030* based on the **average change** in budget per year for it between *2021* and *2023*?\n",
    "\n",
    "You **must** call the `extrapolate` function to answer this question. Use the default arguments if possible (your call to `extrapolate` function **must not** pass any more arguments than is absolutely necessary)."
   ]
  },
  {
   "cell_type": "code",
   "execution_count": 50,
   "id": "520c9927",
   "metadata": {
    "execution": {
     "iopub.execute_input": "2023-09-19T23:21:51.179129Z",
     "iopub.status.busy": "2023-09-19T23:21:51.179129Z",
     "iopub.status.idle": "2023-09-19T23:21:51.186078Z",
     "shell.execute_reply": "2023-09-19T23:21:51.185068Z"
    },
    "scrolled": true,
    "tags": []
   },
   "outputs": [
    {
     "data": {
      "text/plain": [
       "17.484620999999997"
      ]
     },
     "execution_count": 50,
     "metadata": {},
     "output_type": "execute_result"
    }
   ],
   "source": [
    "# compute and store the answer in the variable 'parks_budget_2030'\n",
    "parks_budget_2030 = extrapolate(\"Parks\", 2030, 2021)\n",
    "# display the variable 'parks_budget_2030' here\n",
    "parks_budget_2030"
   ]
  },
  {
   "cell_type": "code",
   "execution_count": 51,
   "id": "2aee9682",
   "metadata": {
    "deletable": false,
    "editable": false
   },
   "outputs": [
    {
     "data": {
      "text/html": [
       "<p><strong><pre style='display: inline;'>q17</pre></strong> passed! 🎉</p><p><strong><pre style='display: inline;'>q17 - 2</pre> message:</strong> Note that the Gradescope autograder will deduct points if your code fails the following rubric point - '`extrapolate` function is not used (-3)'. The public tests cannot determine if your code satisfies these requirements. Verify your code manually.</p><p><strong><pre style='display: inline;'>q17 - 3</pre> message:</strong> Note that the Gradescope autograder will deduct points if your code fails the following rubric point - 'passed more arguments than necessary to `extrapolate` function (-1)'. The public tests cannot determine if your code satisfies these requirements. Verify your code manually.</p>"
      ],
      "text/plain": [
       "q17 results: All test cases passed!\n",
       "q17 - 2 message: Note that the Gradescope autograder will deduct points if your code fails the following rubric point - '`extrapolate` function is not used (-3)'. The public tests cannot determine if your code satisfies these requirements. Verify your code manually.\n",
       "q17 - 3 message: Note that the Gradescope autograder will deduct points if your code fails the following rubric point - 'passed more arguments than necessary to `extrapolate` function (-1)'. The public tests cannot determine if your code satisfies these requirements. Verify your code manually."
      ]
     },
     "execution_count": 51,
     "metadata": {},
     "output_type": "execute_result"
    }
   ],
   "source": [
    "grader.check(\"q17\")"
   ]
  },
  {
   "cell_type": "markdown",
   "id": "97027b73",
   "metadata": {
    "deletable": false,
    "editable": false
   },
   "source": [
    "**Question 18:** What is the **difference** between the **estimated budget** for the agency *Police* in *2023* based on the **average change** per year between *2019* and *2022* and the **actual** budget in *2023*?\n",
    "\n",
    "You **must** invoke the `extrapolate` function in your answer to this question. A **positive** answer implies that the actual budget in *2023* is **higher**, while a negative answer implies that it is lower. Use the default arguments if possible (your call to `extrapolate` function **must not** pass any more arguments than is absolutely necessary)."
   ]
  },
  {
   "cell_type": "code",
   "execution_count": 52,
   "id": "c40e7778",
   "metadata": {
    "execution": {
     "iopub.execute_input": "2023-09-19T23:21:51.219761Z",
     "iopub.status.busy": "2023-09-19T23:21:51.219761Z",
     "iopub.status.idle": "2023-09-19T23:21:51.226807Z",
     "shell.execute_reply": "2023-09-19T23:21:51.225770Z"
    },
    "tags": []
   },
   "outputs": [
    {
     "data": {
      "text/plain": [
       "0.5063980000000043"
      ]
     },
     "execution_count": 52,
     "metadata": {},
     "output_type": "execute_result"
    }
   ],
   "source": [
    "# compute and store the answer in the variable 'police_diff_estimate_budget'\n",
    "police_diff_estimate_budget = project.get_budget(police_id, 2023) - extrapolate(\"Police\", 2023, end_year = 2022)\n",
    "# display the variable 'police_diff_estimate_budget' here\n",
    "police_diff_estimate_budget"
   ]
  },
  {
   "cell_type": "code",
   "execution_count": 53,
   "id": "d0d97cac",
   "metadata": {
    "deletable": false,
    "editable": false
   },
   "outputs": [
    {
     "data": {
      "text/html": [
       "<p><strong><pre style='display: inline;'>q18</pre></strong> passed! 🌟</p><p><strong><pre style='display: inline;'>q18 - 2</pre> message:</strong> Note that the Gradescope autograder will deduct points if your code fails the following rubric point - '`extrapolate` function is not used (-3)'. The public tests cannot determine if your code satisfies these requirements. Verify your code manually.</p><p><strong><pre style='display: inline;'>q18 - 3</pre> message:</strong> Note that the Gradescope autograder will deduct points if your code fails the following rubric point - 'agency id is hardcoded (-1)'. The public tests cannot determine if your code satisfies these requirements. Verify your code manually.</p><p><strong><pre style='display: inline;'>q18 - 4</pre> message:</strong> Note that the Gradescope autograder will deduct points if your code fails the following rubric point - 'passed more arguments than necessary to `extrapolate` function (-1)'. The public tests cannot determine if your code satisfies these requirements. Verify your code manually.</p>"
      ],
      "text/plain": [
       "q18 results: All test cases passed!\n",
       "q18 - 2 message: Note that the Gradescope autograder will deduct points if your code fails the following rubric point - '`extrapolate` function is not used (-3)'. The public tests cannot determine if your code satisfies these requirements. Verify your code manually.\n",
       "q18 - 3 message: Note that the Gradescope autograder will deduct points if your code fails the following rubric point - 'agency id is hardcoded (-1)'. The public tests cannot determine if your code satisfies these requirements. Verify your code manually.\n",
       "q18 - 4 message: Note that the Gradescope autograder will deduct points if your code fails the following rubric point - 'passed more arguments than necessary to `extrapolate` function (-1)'. The public tests cannot determine if your code satisfies these requirements. Verify your code manually."
      ]
     },
     "execution_count": 53,
     "metadata": {},
     "output_type": "execute_result"
    }
   ],
   "source": [
    "grader.check(\"q18\")"
   ]
  },
  {
   "cell_type": "markdown",
   "id": "86d37b62",
   "metadata": {
    "deletable": false,
    "editable": false
   },
   "source": [
    "**Question 19:** What is the **difference** between the **estimated budget** for the agency *Metro Transit* in *2023* based on the **average change** per year between *2019* and *2022* and the **actual** budget in *2023*?\n",
    "\n",
    "You **must** invoke the `extrapolate` function in your answer to this question. A **positive** answer implies that the actual budget in *2023* is **higher**, while a negative answer implies that it is lower. Use the default arguments if possible (your call to `extrapolate` function **must not** pass any more arguments than is absolutely necessary)."
   ]
  },
  {
   "cell_type": "code",
   "execution_count": 54,
   "id": "d1d2a714",
   "metadata": {
    "execution": {
     "iopub.execute_input": "2023-09-19T23:21:51.270008Z",
     "iopub.status.busy": "2023-09-19T23:21:51.270008Z",
     "iopub.status.idle": "2023-09-19T23:21:51.277412Z",
     "shell.execute_reply": "2023-09-19T23:21:51.276382Z"
    },
    "tags": []
   },
   "outputs": [
    {
     "data": {
      "text/plain": [
       "-5.422038666666667"
      ]
     },
     "execution_count": 54,
     "metadata": {},
     "output_type": "execute_result"
    }
   ],
   "source": [
    "# compute and store the answer in the variable 'metro_transit_diff_estimate_budget'\n",
    "metro_transit_diff_estimate_budget = project.get_budget(metro_transit_id, 2023) - extrapolate(\"Metro Transit\", 2023, end_year = 2022)\n",
    "# display the variable 'metro_transit_diff_estimate_budget' here\n",
    "metro_transit_diff_estimate_budget"
   ]
  },
  {
   "cell_type": "code",
   "execution_count": 55,
   "id": "f07bf5f2",
   "metadata": {
    "deletable": false,
    "editable": false
   },
   "outputs": [
    {
     "data": {
      "text/html": [
       "<p><strong><pre style='display: inline;'>q19</pre></strong> passed! 💯</p><p><strong><pre style='display: inline;'>q19 - 2</pre> message:</strong> Note that the Gradescope autograder will deduct points if your code fails the following rubric point - '`extrapolate` function is not used (-3)'. The public tests cannot determine if your code satisfies these requirements. Verify your code manually.</p><p><strong><pre style='display: inline;'>q19 - 3</pre> message:</strong> Note that the Gradescope autograder will deduct points if your code fails the following rubric point - 'agency id is hardcoded (-1)'. The public tests cannot determine if your code satisfies these requirements. Verify your code manually.</p><p><strong><pre style='display: inline;'>q19 - 4</pre> message:</strong> Note that the Gradescope autograder will deduct points if your code fails the following rubric point - 'passed more arguments than necessary to `extrapolate` function (-1)'. The public tests cannot determine if your code satisfies these requirements. Verify your code manually.</p>"
      ],
      "text/plain": [
       "q19 results: All test cases passed!\n",
       "q19 - 2 message: Note that the Gradescope autograder will deduct points if your code fails the following rubric point - '`extrapolate` function is not used (-3)'. The public tests cannot determine if your code satisfies these requirements. Verify your code manually.\n",
       "q19 - 3 message: Note that the Gradescope autograder will deduct points if your code fails the following rubric point - 'agency id is hardcoded (-1)'. The public tests cannot determine if your code satisfies these requirements. Verify your code manually.\n",
       "q19 - 4 message: Note that the Gradescope autograder will deduct points if your code fails the following rubric point - 'passed more arguments than necessary to `extrapolate` function (-1)'. The public tests cannot determine if your code satisfies these requirements. Verify your code manually."
      ]
     },
     "execution_count": 55,
     "metadata": {},
     "output_type": "execute_result"
    }
   ],
   "source": [
    "grader.check(\"q19\")"
   ]
  },
  {
   "cell_type": "markdown",
   "id": "6c660b95",
   "metadata": {
    "deletable": false,
    "editable": false
   },
   "source": [
    "**Question 20:** What is the **standard deviation** of the budget allotted to the agency *Metro Transit* over the five years?\n",
    "\n",
    "**Hint:** You **must** compute the *population standard deviation* as in this [example](https://en.wikipedia.org/wiki/Standard_deviation#Population_standard_deviation_of_grades_of_eight_students). **You may hardcode the number 5 for this computation**.\n",
    "\n",
    "**Hint:** You can find the square root of any number by raising it to the exponent `0.5`. In other words, the square root of `2` can be computed as `2**(0.5)`."
   ]
  },
  {
   "cell_type": "code",
   "execution_count": 56,
   "id": "f8b10fcc",
   "metadata": {
    "execution": {
     "iopub.execute_input": "2023-09-19T23:21:51.320921Z",
     "iopub.status.busy": "2023-09-19T23:21:51.320921Z",
     "iopub.status.idle": "2023-09-19T23:21:51.332220Z",
     "shell.execute_reply": "2023-09-19T23:21:51.331190Z"
    },
    "tags": []
   },
   "outputs": [
    {
     "data": {
      "text/plain": [
       "3.876482507227448"
      ]
     },
     "execution_count": 56,
     "metadata": {},
     "output_type": "execute_result"
    }
   ],
   "source": [
    "# compute and store the answer in the variable 'metro_transit_budget_std_dev'\n",
    "metro_transit_budget_std_dev = (((project.get_budget(metro_transit_id, 2019) - agency_avg(\"Metro Transit\"))**2 + (project.get_budget(metro_transit_id, 2020) - agency_avg(\"Metro Transit\"))**2 + (project.get_budget(metro_transit_id, 2021) - agency_avg(\"Metro Transit\"))**2 + (project.get_budget(metro_transit_id, 2022) - agency_avg(\"Metro Transit\"))**2 + (project.get_budget(metro_transit_id, 2023) - agency_avg(\"Metro Transit\"))**2) / 5)**(0.5)\n",
    "# display the variable 'metro_transit_budget_std_dev' here\n",
    "metro_transit_budget_std_dev"
   ]
  },
  {
   "cell_type": "code",
   "execution_count": 57,
   "id": "30748c9d",
   "metadata": {
    "deletable": false,
    "editable": false
   },
   "outputs": [
    {
     "data": {
      "text/html": [
       "<p><strong><pre style='display: inline;'>q20</pre></strong> passed! 🎉</p><p><strong><pre style='display: inline;'>q20 - 2</pre> message:</strong> Note that the Gradescope autograder will deduct points if your code fails the following rubric point - 'agency id is hardcoded (-2)'. The public tests cannot determine if your code satisfies these requirements. Verify your code manually.</p><p><strong><pre style='display: inline;'>q20 - 3</pre> message:</strong> Note that the Gradescope autograder will deduct points if your code fails the following rubric point - '`agency_avg` function is not used to compute the average budget (-1)'. The public tests cannot determine if your code satisfies these requirements. Verify your code manually.</p>"
      ],
      "text/plain": [
       "q20 results: All test cases passed!\n",
       "q20 - 2 message: Note that the Gradescope autograder will deduct points if your code fails the following rubric point - 'agency id is hardcoded (-2)'. The public tests cannot determine if your code satisfies these requirements. Verify your code manually.\n",
       "q20 - 3 message: Note that the Gradescope autograder will deduct points if your code fails the following rubric point - '`agency_avg` function is not used to compute the average budget (-1)'. The public tests cannot determine if your code satisfies these requirements. Verify your code manually."
      ]
     },
     "execution_count": 57,
     "metadata": {},
     "output_type": "execute_result"
    }
   ],
   "source": [
    "grader.check(\"q20\")"
   ]
  },
  {
   "cell_type": "code",
   "execution_count": 58,
   "id": "41cb5e90",
   "metadata": {
    "deletable": false,
    "editable": false
   },
   "outputs": [
    {
     "data": {
      "text/html": [
       "<p><strong><pre style='display: inline;'>general_deductions</pre></strong> passed! 🍀</p><p><strong><pre style='display: inline;'>general_deductions - 1</pre> message:</strong> Note that the Gradescope autograder will deduct points if your code fails the following rubric point - 'Did not save the notebook file prior to running the cell containing \"export\". We cannot see your output if you do not save before generating the zip file. This deduction will become stricter for future projects. (-1)'. The public tests cannot determine if your code satisfies these requirements. Verify your code manually.</p><p><strong><pre style='display: inline;'>general_deductions - 2</pre> message:</strong> Note that the Gradescope autograder will deduct points if your code fails the following rubric point - 'Used conditionals/loops or other material not covered in class yet. (-20)'. The public tests cannot determine if your code satisfies these requirements. Verify your code manually.</p>"
      ],
      "text/plain": [
       "general_deductions results: All test cases passed!\n",
       "general_deductions - 1 message: Note that the Gradescope autograder will deduct points if your code fails the following rubric point - 'Did not save the notebook file prior to running the cell containing \"export\". We cannot see your output if you do not save before generating the zip file. This deduction will become stricter for future projects. (-1)'. The public tests cannot determine if your code satisfies these requirements. Verify your code manually.\n",
       "general_deductions - 2 message: Note that the Gradescope autograder will deduct points if your code fails the following rubric point - 'Used conditionals/loops or other material not covered in class yet. (-20)'. The public tests cannot determine if your code satisfies these requirements. Verify your code manually."
      ]
     },
     "execution_count": 58,
     "metadata": {},
     "output_type": "execute_result"
    }
   ],
   "source": [
    "grader.check(\"general_deductions\")"
   ]
  },
  {
   "cell_type": "code",
   "execution_count": 59,
   "id": "33f3e280",
   "metadata": {
    "deletable": false,
    "editable": false
   },
   "outputs": [
    {
     "data": {
      "text/html": [
       "<p><strong><pre style='display: inline;'>summary</pre></strong> passed! ✨</p>"
      ],
      "text/plain": [
       "summary results: All test cases passed!"
      ]
     },
     "execution_count": 59,
     "metadata": {},
     "output_type": "execute_result"
    }
   ],
   "source": [
    "grader.check(\"summary\")"
   ]
  },
  {
   "cell_type": "markdown",
   "id": "b0a39a68",
   "metadata": {
    "deletable": false,
    "editable": false
   },
   "source": [
    "## Submission\n",
    "It is recommended that at this stage, you Restart and Run all Cells in your notebook.\n",
    "That will automatically save your work and generate a zip file for you to submit.\n",
    "\n",
    "**SUBMISSION INSTRUCTIONS**:\n",
    "1. **Upload** the zipfile to Gradescope.\n",
    "2. If you completed the project with a **partner**, make sure to **add their name** by clicking \"Add Group Member\"\n",
    "in Gradescope when uploading the zip file.\n",
    "3. Check **Gradescope** results as soon as the auto-grader execution gets completed.\n",
    "4. Your **final score** for this project is the score that you see on **Gradescope**.\n",
    "5. You are **allowed** to resubmit on Gradescope as many times as you want to.\n",
    "6. **Contact** a TA/PM if you lose any points on Gradescope for any **unclear reasons**."
   ]
  },
  {
   "cell_type": "code",
   "execution_count": null,
   "id": "105996b1",
   "metadata": {
    "cell_type": "code",
    "deletable": false,
    "editable": false
   },
   "outputs": [],
   "source": [
    "# running this cell will create a new save checkpoint for your notebook\n",
    "from IPython.display import display, Javascript\n",
    "display(Javascript('IPython.notebook.save_checkpoint();'))"
   ]
  },
  {
   "cell_type": "code",
   "execution_count": null,
   "id": "c153cce7",
   "metadata": {
    "cell_type": "code",
    "deletable": false,
    "editable": false
   },
   "outputs": [],
   "source": [
    "!jupytext --to py p3.ipynb"
   ]
  },
  {
   "cell_type": "code",
   "execution_count": null,
   "id": "a2836cec",
   "metadata": {
    "cell_type": "code",
    "deletable": false,
    "editable": false
   },
   "outputs": [],
   "source": [
    "public_tests.check_file_size(\"p3.ipynb\")\n",
    "grader.export(pdf=False, run_tests=False, files=[\"p3.py\"])"
   ]
  },
  {
   "cell_type": "markdown",
   "id": "8ae2f2fd",
   "metadata": {
    "deletable": false,
    "editable": false
   },
   "source": [
    " "
   ]
  }
 ],
 "metadata": {
  "kernelspec": {
   "display_name": "Python 3 (ipykernel)",
   "language": "python",
   "name": "python3"
  },
  "language_info": {
   "codemirror_mode": {
    "name": "ipython",
    "version": 3
   },
   "file_extension": ".py",
   "mimetype": "text/x-python",
   "name": "python",
   "nbconvert_exporter": "python",
   "pygments_lexer": "ipython3",
   "version": "3.11.4"
  },
  "otter": {
   "OK_FORMAT": true,
   "tests": {
    "agency_avg": {
     "name": "agency_avg",
     "points": 0,
     "suites": [
      {
       "cases": [
        {
         "code": ">>> \n>>> public_tests.rubric_check('agency_avg: function logic is incorrect')\nAll test cases passed!\n",
         "hidden": false,
         "locked": false,
         "success_message": "Note that the Gradescope autograder will deduct points if your code fails the following rubric point - 'function logic is incorrect (-2)'. The public tests cannot determine if your code satisfies these requirements. Verify your code manually."
        },
        {
         "code": ">>> \n>>> public_tests.rubric_check('agency_avg: `get_budget` and `get_id` functions are not used', False)\nAll test cases passed!\n",
         "hidden": false,
         "locked": false,
         "success_message": "Note that the Gradescope autograder will deduct points if your code fails the following rubric point - '`get_budget` and `get_id` functions are not used (-1)'. The public tests cannot determine if your code satisfies these requirements. Verify your code manually."
        }
       ],
       "scored": true,
       "setup": "",
       "teardown": "",
       "type": "doctest"
      }
     ]
    },
    "agency_min": {
     "name": "agency_min",
     "points": 0,
     "suites": [
      {
       "cases": [
        {
         "code": ">>> \n>>> public_tests.rubric_check('agency_min: function logic is incorrect')\nAll test cases passed!\n",
         "hidden": false,
         "locked": false,
         "success_message": "Note that the Gradescope autograder will deduct points if your code fails the following rubric point - 'function logic is incorrect (-2)'. The public tests cannot determine if your code satisfies these requirements. Verify your code manually."
        },
        {
         "code": ">>> \n>>> public_tests.rubric_check('agency_min: the built-in function `min` is not used', False)\nAll test cases passed!\n",
         "hidden": false,
         "locked": false,
         "success_message": "Note that the Gradescope autograder will deduct points if your code fails the following rubric point - 'the built-in function `min` is not used (-1)'. The public tests cannot determine if your code satisfies these requirements. Verify your code manually."
        }
       ],
       "scored": true,
       "setup": "",
       "teardown": "",
       "type": "doctest"
      }
     ]
    },
    "change_per_year": {
     "name": "change_per_year",
     "points": 0,
     "suites": [
      {
       "cases": [
        {
         "code": ">>> \n>>> public_tests.rubric_check('change_per_year: function logic is incorrect')\nAll test cases passed!\n",
         "hidden": false,
         "locked": false,
         "success_message": "Note that the Gradescope autograder will deduct points if your code fails the following rubric point - 'function logic is incorrect (-3)'. The public tests cannot determine if your code satisfies these requirements. Verify your code manually."
        },
        {
         "code": ">>> \n>>> public_tests.rubric_check('change_per_year: default values of `start_year=2019` and `end_year=2023` are changed in `change_per_year`')\nAll test cases passed!\n",
         "hidden": false,
         "locked": false,
         "success_message": "Note that the Gradescope autograder will deduct points if your code fails the following rubric point - 'default values of `start_year=2019` and `end_year=2023` are changed in `change_per_year` (-2)'. The public tests cannot determine if your code satisfies these requirements. Verify your code manually."
        }
       ],
       "scored": true,
       "setup": "",
       "teardown": "",
       "type": "doctest"
      }
     ]
    },
    "extrapolate": {
     "name": "extrapolate",
     "points": 0,
     "suites": [
      {
       "cases": [
        {
         "code": ">>> \n>>> public_tests.rubric_check('extrapolate: function logic is incorrect')\nAll test cases passed!\n",
         "hidden": false,
         "locked": false,
         "success_message": "Note that the Gradescope autograder will deduct points if your code fails the following rubric point - 'function logic is incorrect (-2)'. The public tests cannot determine if your code satisfies these requirements. Verify your code manually."
        },
        {
         "code": ">>> \n>>> public_tests.rubric_check('extrapolate: `change_per_year` function is not used', False)\nAll test cases passed!\n",
         "hidden": false,
         "locked": false,
         "success_message": "Note that the Gradescope autograder will deduct points if your code fails the following rubric point - '`change_per_year` function is not used (-2)'. The public tests cannot determine if your code satisfies these requirements. Verify your code manually."
        },
        {
         "code": ">>> \n>>> public_tests.rubric_check('extrapolate: default value are not specified in `extrapolate`')\nAll test cases passed!\n",
         "hidden": false,
         "locked": false,
         "success_message": "Note that the Gradescope autograder will deduct points if your code fails the following rubric point - 'default value are not specified in `extrapolate` (-1)'. The public tests cannot determine if your code satisfies these requirements. Verify your code manually."
        }
       ],
       "scored": true,
       "setup": "",
       "teardown": "",
       "type": "doctest"
      }
     ]
    },
    "general_deductions": {
     "name": "general_deductions",
     "points": 0,
     "suites": [
      {
       "cases": [
        {
         "code": ">>> \n>>> public_tests.rubric_check('general_deductions: Did not save the notebook file prior to running the cell containing \"export\". We cannot see your output if you do not save before generating the zip file. This deduction will become stricter for future projects.')\nAll test cases passed!\n",
         "hidden": false,
         "locked": false,
         "success_message": "Note that the Gradescope autograder will deduct points if your code fails the following rubric point - 'Did not save the notebook file prior to running the cell containing \"export\". We cannot see your output if you do not save before generating the zip file. This deduction will become stricter for future projects. (-1)'. The public tests cannot determine if your code satisfies these requirements. Verify your code manually."
        },
        {
         "code": ">>> \n>>> public_tests.rubric_check('general_deductions: Used conditionals/loops or other material not covered in class yet.')\nAll test cases passed!\n",
         "hidden": false,
         "locked": false,
         "success_message": "Note that the Gradescope autograder will deduct points if your code fails the following rubric point - 'Used conditionals/loops or other material not covered in class yet. (-20)'. The public tests cannot determine if your code satisfies these requirements. Verify your code manually."
        }
       ],
       "scored": true,
       "setup": "",
       "teardown": "",
       "type": "doctest"
      }
     ]
    },
    "q1": {
     "name": "q1",
     "points": 0,
     "suites": [
      {
       "cases": [
        {
         "code": ">>> public_tests.check('q1', public_health_id)\nAll test cases passed!\n",
         "hidden": false,
         "locked": false
        },
        {
         "code": ">>> public_tests.rubric_check('q1: public tests')\nAll test cases passed!\n",
         "hidden": false,
         "locked": false
        }
       ],
       "scored": true,
       "setup": "",
       "teardown": "",
       "type": "doctest"
      }
     ]
    },
    "q10": {
     "name": "q10",
     "points": 0,
     "suites": [
      {
       "cases": [
        {
         "code": ">>> public_tests.check('q10', total_budget_2023)\nAll test cases passed!\n",
         "hidden": false,
         "locked": false
        },
        {
         "code": ">>> \n>>> public_tests.rubric_check('q10: `year_budget` function is not used', False)\nAll test cases passed!\n",
         "hidden": false,
         "locked": false,
         "success_message": "Note that the Gradescope autograder will deduct points if your code fails the following rubric point - '`year_budget` function is not used (-2)'. The public tests cannot determine if your code satisfies these requirements. Verify your code manually."
        },
        {
         "code": ">>> \n>>> public_tests.rubric_check('q10: passed more arguments than necessary to `year_budget` function')\nAll test cases passed!\n",
         "hidden": false,
         "locked": false,
         "success_message": "Note that the Gradescope autograder will deduct points if your code fails the following rubric point - 'passed more arguments than necessary to `year_budget` function (-2)'. The public tests cannot determine if your code satisfies these requirements. Verify your code manually."
        }
       ],
       "scored": true,
       "setup": "",
       "teardown": "",
       "type": "doctest"
      }
     ]
    },
    "q11": {
     "name": "q11",
     "points": 0,
     "suites": [
      {
       "cases": [
        {
         "code": ">>> public_tests.check('q11', total_budget_2019_to_2021)\nAll test cases passed!\n",
         "hidden": false,
         "locked": false
        },
        {
         "code": ">>> \n>>> public_tests.rubric_check('q11: `year_budget` function is not used', False)\nAll test cases passed!\n",
         "hidden": false,
         "locked": false,
         "success_message": "Note that the Gradescope autograder will deduct points if your code fails the following rubric point - '`year_budget` function is not used (-2)'. The public tests cannot determine if your code satisfies these requirements. Verify your code manually."
        },
        {
         "code": ">>> \n>>> public_tests.rubric_check('q11: passed more arguments than necessary to `year_budget` function')\nAll test cases passed!\n",
         "hidden": false,
         "locked": false,
         "success_message": "Note that the Gradescope autograder will deduct points if your code fails the following rubric point - 'passed more arguments than necessary to `year_budget` function (-2)'. The public tests cannot determine if your code satisfies these requirements. Verify your code manually."
        },
        {
         "code": ">>> public_tests.rubric_check('q11: public tests')\nAll test cases passed!\n",
         "hidden": false,
         "locked": false
        }
       ],
       "scored": true,
       "setup": "",
       "teardown": "",
       "type": "doctest"
      }
     ]
    },
    "q12": {
     "name": "q12",
     "points": 0,
     "suites": [
      {
       "cases": [
        {
         "code": ">>> public_tests.check('q12', police_average_change)\nAll test cases passed!\n",
         "hidden": false,
         "locked": false
        },
        {
         "code": ">>> \n>>> public_tests.rubric_check('q12: `change_per_year` function is not used', False)\nAll test cases passed!\n",
         "hidden": false,
         "locked": false,
         "success_message": "Note that the Gradescope autograder will deduct points if your code fails the following rubric point - '`change_per_year` function is not used (-3)'. The public tests cannot determine if your code satisfies these requirements. Verify your code manually."
        },
        {
         "code": ">>> \n>>> public_tests.rubric_check('q12: passed more arguments than necessary to `change_per_year` function')\nAll test cases passed!\n",
         "hidden": false,
         "locked": false,
         "success_message": "Note that the Gradescope autograder will deduct points if your code fails the following rubric point - 'passed more arguments than necessary to `change_per_year` function (-1)'. The public tests cannot determine if your code satisfies these requirements. Verify your code manually."
        }
       ],
       "scored": true,
       "setup": "",
       "teardown": "",
       "type": "doctest"
      }
     ]
    },
    "q13": {
     "name": "q13",
     "points": 0,
     "suites": [
      {
       "cases": [
        {
         "code": ">>> public_tests.check('q13', fire_average_change)\nAll test cases passed!\n",
         "hidden": false,
         "locked": false
        },
        {
         "code": ">>> \n>>> public_tests.rubric_check('q13: `change_per_year` function is not used', False)\nAll test cases passed!\n",
         "hidden": false,
         "locked": false,
         "success_message": "Note that the Gradescope autograder will deduct points if your code fails the following rubric point - '`change_per_year` function is not used (-3)'. The public tests cannot determine if your code satisfies these requirements. Verify your code manually."
        },
        {
         "code": ">>> \n>>> public_tests.rubric_check('q13: passed more arguments than necessary to `change_per_year` function')\nAll test cases passed!\n",
         "hidden": false,
         "locked": false,
         "success_message": "Note that the Gradescope autograder will deduct points if your code fails the following rubric point - 'passed more arguments than necessary to `change_per_year` function (-1)'. The public tests cannot determine if your code satisfies these requirements. Verify your code manually."
        }
       ],
       "scored": true,
       "setup": "",
       "teardown": "",
       "type": "doctest"
      }
     ]
    },
    "q14": {
     "name": "q14",
     "points": 0,
     "suites": [
      {
       "cases": [
        {
         "code": ">>> public_tests.check('q14', finance_average_change)\nAll test cases passed!\n",
         "hidden": false,
         "locked": false
        },
        {
         "code": ">>> \n>>> public_tests.rubric_check('q14: `change_per_year` function is not used', False)\nAll test cases passed!\n",
         "hidden": false,
         "locked": false,
         "success_message": "Note that the Gradescope autograder will deduct points if your code fails the following rubric point - '`change_per_year` function is not used (-3)'. The public tests cannot determine if your code satisfies these requirements. Verify your code manually."
        },
        {
         "code": ">>> \n>>> public_tests.rubric_check('q14: passed more arguments than necessary to `change_per_year` function')\nAll test cases passed!\n",
         "hidden": false,
         "locked": false,
         "success_message": "Note that the Gradescope autograder will deduct points if your code fails the following rubric point - 'passed more arguments than necessary to `change_per_year` function (-1)'. The public tests cannot determine if your code satisfies these requirements. Verify your code manually."
        }
       ],
       "scored": true,
       "setup": "",
       "teardown": "",
       "type": "doctest"
      }
     ]
    },
    "q15": {
     "name": "q15",
     "points": 0,
     "suites": [
      {
       "cases": [
        {
         "code": ">>> public_tests.check('q15', metro_transit_average_change)\nAll test cases passed!\n",
         "hidden": false,
         "locked": false
        },
        {
         "code": ">>> \n>>> public_tests.rubric_check('q15: `change_per_year` function is not used', False)\nAll test cases passed!\n",
         "hidden": false,
         "locked": false,
         "success_message": "Note that the Gradescope autograder will deduct points if your code fails the following rubric point - '`change_per_year` function is not used (-3)'. The public tests cannot determine if your code satisfies these requirements. Verify your code manually."
        },
        {
         "code": ">>> \n>>> public_tests.rubric_check('q15: passed more arguments than necessary to `change_per_year` function')\nAll test cases passed!\n",
         "hidden": false,
         "locked": false,
         "success_message": "Note that the Gradescope autograder will deduct points if your code fails the following rubric point - 'passed more arguments than necessary to `change_per_year` function (-1)'. The public tests cannot determine if your code satisfies these requirements. Verify your code manually."
        }
       ],
       "scored": true,
       "setup": "",
       "teardown": "",
       "type": "doctest"
      }
     ]
    },
    "q16": {
     "name": "q16",
     "points": 0,
     "suites": [
      {
       "cases": [
        {
         "code": ">>> public_tests.check('q16', library_budget_2025)\nAll test cases passed!\n",
         "hidden": false,
         "locked": false
        },
        {
         "code": ">>> \n>>> public_tests.rubric_check('q16: `extrapolate` function is not used', False)\nAll test cases passed!\n",
         "hidden": false,
         "locked": false,
         "success_message": "Note that the Gradescope autograder will deduct points if your code fails the following rubric point - '`extrapolate` function is not used (-3)'. The public tests cannot determine if your code satisfies these requirements. Verify your code manually."
        },
        {
         "code": ">>> \n>>> public_tests.rubric_check('q16: passed more arguments than necessary to `extrapolate` function')\nAll test cases passed!\n",
         "hidden": false,
         "locked": false,
         "success_message": "Note that the Gradescope autograder will deduct points if your code fails the following rubric point - 'passed more arguments than necessary to `extrapolate` function (-1)'. The public tests cannot determine if your code satisfies these requirements. Verify your code manually."
        }
       ],
       "scored": true,
       "setup": "",
       "teardown": "",
       "type": "doctest"
      }
     ]
    },
    "q17": {
     "name": "q17",
     "points": 0,
     "suites": [
      {
       "cases": [
        {
         "code": ">>> public_tests.check('q17', parks_budget_2030)\nAll test cases passed!\n",
         "hidden": false,
         "locked": false
        },
        {
         "code": ">>> \n>>> public_tests.rubric_check('q17: `extrapolate` function is not used', False)\nAll test cases passed!\n",
         "hidden": false,
         "locked": false,
         "success_message": "Note that the Gradescope autograder will deduct points if your code fails the following rubric point - '`extrapolate` function is not used (-3)'. The public tests cannot determine if your code satisfies these requirements. Verify your code manually."
        },
        {
         "code": ">>> \n>>> public_tests.rubric_check('q17: passed more arguments than necessary to `extrapolate` function')\nAll test cases passed!\n",
         "hidden": false,
         "locked": false,
         "success_message": "Note that the Gradescope autograder will deduct points if your code fails the following rubric point - 'passed more arguments than necessary to `extrapolate` function (-1)'. The public tests cannot determine if your code satisfies these requirements. Verify your code manually."
        }
       ],
       "scored": true,
       "setup": "",
       "teardown": "",
       "type": "doctest"
      }
     ]
    },
    "q18": {
     "name": "q18",
     "points": 0,
     "suites": [
      {
       "cases": [
        {
         "code": ">>> public_tests.check('q18', police_diff_estimate_budget)\nAll test cases passed!\n",
         "hidden": false,
         "locked": false
        },
        {
         "code": ">>> \n>>> public_tests.rubric_check('q18: `extrapolate` function is not used', False)\nAll test cases passed!\n",
         "hidden": false,
         "locked": false,
         "success_message": "Note that the Gradescope autograder will deduct points if your code fails the following rubric point - '`extrapolate` function is not used (-3)'. The public tests cannot determine if your code satisfies these requirements. Verify your code manually."
        },
        {
         "code": ">>> \n>>> public_tests.rubric_check('q18: agency id is hardcoded')\nAll test cases passed!\n",
         "hidden": false,
         "locked": false,
         "success_message": "Note that the Gradescope autograder will deduct points if your code fails the following rubric point - 'agency id is hardcoded (-1)'. The public tests cannot determine if your code satisfies these requirements. Verify your code manually."
        },
        {
         "code": ">>> \n>>> public_tests.rubric_check('q18: passed more arguments than necessary to `extrapolate` function')\nAll test cases passed!\n",
         "hidden": false,
         "locked": false,
         "success_message": "Note that the Gradescope autograder will deduct points if your code fails the following rubric point - 'passed more arguments than necessary to `extrapolate` function (-1)'. The public tests cannot determine if your code satisfies these requirements. Verify your code manually."
        }
       ],
       "scored": true,
       "setup": "",
       "teardown": "",
       "type": "doctest"
      }
     ]
    },
    "q19": {
     "name": "q19",
     "points": 0,
     "suites": [
      {
       "cases": [
        {
         "code": ">>> public_tests.check('q19', metro_transit_diff_estimate_budget)\nAll test cases passed!\n",
         "hidden": false,
         "locked": false
        },
        {
         "code": ">>> \n>>> public_tests.rubric_check('q19: `extrapolate` function is not used', False)\nAll test cases passed!\n",
         "hidden": false,
         "locked": false,
         "success_message": "Note that the Gradescope autograder will deduct points if your code fails the following rubric point - '`extrapolate` function is not used (-3)'. The public tests cannot determine if your code satisfies these requirements. Verify your code manually."
        },
        {
         "code": ">>> \n>>> public_tests.rubric_check('q19: agency id is hardcoded')\nAll test cases passed!\n",
         "hidden": false,
         "locked": false,
         "success_message": "Note that the Gradescope autograder will deduct points if your code fails the following rubric point - 'agency id is hardcoded (-1)'. The public tests cannot determine if your code satisfies these requirements. Verify your code manually."
        },
        {
         "code": ">>> \n>>> public_tests.rubric_check('q19: passed more arguments than necessary to `extrapolate` function')\nAll test cases passed!\n",
         "hidden": false,
         "locked": false,
         "success_message": "Note that the Gradescope autograder will deduct points if your code fails the following rubric point - 'passed more arguments than necessary to `extrapolate` function (-1)'. The public tests cannot determine if your code satisfies these requirements. Verify your code manually."
        }
       ],
       "scored": true,
       "setup": "",
       "teardown": "",
       "type": "doctest"
      }
     ]
    },
    "q2": {
     "name": "q2",
     "points": 0,
     "suites": [
      {
       "cases": [
        {
         "code": ">>> public_tests.check('q2', finance_budget_2019)\nAll test cases passed!\n",
         "hidden": false,
         "locked": false
        },
        {
         "code": ">>> \n>>> public_tests.rubric_check('q2: agency id is hardcoded')\nAll test cases passed!\n",
         "hidden": false,
         "locked": false,
         "success_message": "Note that the Gradescope autograder will deduct points if your code fails the following rubric point - 'agency id is hardcoded (-2)'. The public tests cannot determine if your code satisfies these requirements. Verify your code manually."
        },
        {
         "code": ">>> \n>>> public_tests.rubric_check('q2: variable `finance_id` is not used', False)\nAll test cases passed!\n",
         "hidden": false,
         "locked": false,
         "success_message": "Note that the Gradescope autograder will deduct points if your code fails the following rubric point - 'variable `finance_id` is not used (-1)'. The public tests cannot determine if your code satisfies these requirements. Verify your code manually."
        }
       ],
       "scored": true,
       "setup": "",
       "teardown": "",
       "type": "doctest"
      }
     ]
    },
    "q20": {
     "name": "q20",
     "points": 0,
     "suites": [
      {
       "cases": [
        {
         "code": ">>> public_tests.check('q20', metro_transit_budget_std_dev)\nAll test cases passed!\n",
         "hidden": false,
         "locked": false
        },
        {
         "code": ">>> \n>>> public_tests.rubric_check('q20: agency id is hardcoded')\nAll test cases passed!\n",
         "hidden": false,
         "locked": false,
         "success_message": "Note that the Gradescope autograder will deduct points if your code fails the following rubric point - 'agency id is hardcoded (-2)'. The public tests cannot determine if your code satisfies these requirements. Verify your code manually."
        },
        {
         "code": ">>> \n>>> public_tests.rubric_check('q20: `agency_avg` function is not used to compute the average budget', False)\nAll test cases passed!\n",
         "hidden": false,
         "locked": false,
         "success_message": "Note that the Gradescope autograder will deduct points if your code fails the following rubric point - '`agency_avg` function is not used to compute the average budget (-1)'. The public tests cannot determine if your code satisfies these requirements. Verify your code manually."
        },
        {
         "code": ">>> public_tests.rubric_check('q20: public tests')\nAll test cases passed!\n",
         "hidden": false,
         "locked": false
        }
       ],
       "scored": true,
       "setup": "",
       "teardown": "",
       "type": "doctest"
      }
     ]
    },
    "q3": {
     "name": "q3",
     "points": 0,
     "suites": [
      {
       "cases": [
        {
         "code": ">>> public_tests.check('q3', max_budget_2023)\nAll test cases passed!\n",
         "hidden": false,
         "locked": false
        },
        {
         "code": ">>> \n>>> public_tests.rubric_check('q3: `year_max` function is not used', False)\nAll test cases passed!\n",
         "hidden": false,
         "locked": false,
         "success_message": "Note that the Gradescope autograder will deduct points if your code fails the following rubric point - '`year_max` function is not used (-3)'. The public tests cannot determine if your code satisfies these requirements. Verify your code manually."
        }
       ],
       "scored": true,
       "setup": "",
       "teardown": "",
       "type": "doctest"
      }
     ]
    },
    "q4": {
     "name": "q4",
     "points": 0,
     "suites": [
      {
       "cases": [
        {
         "code": ">>> public_tests.check('q4', max_budget_2020_to_2022)\nAll test cases passed!\n",
         "hidden": false,
         "locked": false
        },
        {
         "code": ">>> \n>>> public_tests.rubric_check('q4: `year_max` function is not used', False)\nAll test cases passed!\n",
         "hidden": false,
         "locked": false,
         "success_message": "Note that the Gradescope autograder will deduct points if your code fails the following rubric point - '`year_max` function is not used (-2)'. The public tests cannot determine if your code satisfies these requirements. Verify your code manually."
        },
        {
         "code": ">>> \n>>> public_tests.rubric_check('q4: the built-in function `max` is not used', False)\nAll test cases passed!\n",
         "hidden": false,
         "locked": false,
         "success_message": "Note that the Gradescope autograder will deduct points if your code fails the following rubric point - 'the built-in function `max` is not used (-2)'. The public tests cannot determine if your code satisfies these requirements. Verify your code manually."
        },
        {
         "code": ">>> public_tests.rubric_check('q4: public tests')\nAll test cases passed!\n",
         "hidden": false,
         "locked": false
        }
       ],
       "scored": true,
       "setup": "",
       "teardown": "",
       "type": "doctest"
      }
     ]
    },
    "q5": {
     "name": "q5",
     "points": 0,
     "suites": [
      {
       "cases": [
        {
         "code": ">>> public_tests.check('q5', min_budget_library)\nAll test cases passed!\n",
         "hidden": false,
         "locked": false
        },
        {
         "code": ">>> \n>>> public_tests.rubric_check('q5: `agency_min` function is not used', False)\nAll test cases passed!\n",
         "hidden": false,
         "locked": false,
         "success_message": "Note that the Gradescope autograder will deduct points if your code fails the following rubric point - '`agency_min` function is not used (-3)'. The public tests cannot determine if your code satisfies these requirements. Verify your code manually."
        }
       ],
       "scored": true,
       "setup": "",
       "teardown": "",
       "type": "doctest"
      }
     ]
    },
    "q6": {
     "name": "q6",
     "points": 0,
     "suites": [
      {
       "cases": [
        {
         "code": ">>> public_tests.check('q6', min_budget_fire_police)\nAll test cases passed!\n",
         "hidden": false,
         "locked": false
        },
        {
         "code": ">>> \n>>> public_tests.rubric_check('q6: `agency_min` function is not used', False)\nAll test cases passed!\n",
         "hidden": false,
         "locked": false,
         "success_message": "Note that the Gradescope autograder will deduct points if your code fails the following rubric point - '`agency_min` function is not used (-2)'. The public tests cannot determine if your code satisfies these requirements. Verify your code manually."
        },
        {
         "code": ">>> \n>>> public_tests.rubric_check('q6: the built-in function `min` is not used', False)\nAll test cases passed!\n",
         "hidden": false,
         "locked": false,
         "success_message": "Note that the Gradescope autograder will deduct points if your code fails the following rubric point - 'the built-in function `min` is not used (-2)'. The public tests cannot determine if your code satisfies these requirements. Verify your code manually."
        },
        {
         "code": ">>> public_tests.rubric_check('q6: public tests')\nAll test cases passed!\n",
         "hidden": false,
         "locked": false
        }
       ],
       "scored": true,
       "setup": "",
       "teardown": "",
       "type": "doctest"
      }
     ]
    },
    "q7": {
     "name": "q7",
     "points": 0,
     "suites": [
      {
       "cases": [
        {
         "code": ">>> public_tests.check('q7', parks_avg_budget)\nAll test cases passed!\n",
         "hidden": false,
         "locked": false
        },
        {
         "code": ">>> \n>>> public_tests.rubric_check('q7: `agency_avg` function is not used', False)\nAll test cases passed!\n",
         "hidden": false,
         "locked": false,
         "success_message": "Note that the Gradescope autograder will deduct points if your code fails the following rubric point - '`agency_avg` function is not used (-3)'. The public tests cannot determine if your code satisfies these requirements. Verify your code manually."
        }
       ],
       "scored": true,
       "setup": "",
       "teardown": "",
       "type": "doctest"
      }
     ]
    },
    "q8": {
     "name": "q8",
     "points": 0,
     "suites": [
      {
       "cases": [
        {
         "code": ">>> public_tests.check('q8', public_health_avg_budget)\nAll test cases passed!\n",
         "hidden": false,
         "locked": false
        },
        {
         "code": ">>> \n>>> public_tests.rubric_check('q8: `agency_avg` function is not used', False)\nAll test cases passed!\n",
         "hidden": false,
         "locked": false,
         "success_message": "Note that the Gradescope autograder will deduct points if your code fails the following rubric point - '`agency_avg` function is not used (-3)'. The public tests cannot determine if your code satisfies these requirements. Verify your code manually."
        }
       ],
       "scored": true,
       "setup": "",
       "teardown": "",
       "type": "doctest"
      }
     ]
    },
    "q9": {
     "name": "q9",
     "points": 0,
     "suites": [
      {
       "cases": [
        {
         "code": ">>> public_tests.check('q9', diff_public_health_2023_to_average)\nAll test cases passed!\n",
         "hidden": false,
         "locked": false
        },
        {
         "code": ">>> \n>>> public_tests.rubric_check('q9: average budget is computed without using the `agency_avg` function')\nAll test cases passed!\n",
         "hidden": false,
         "locked": false,
         "success_message": "Note that the Gradescope autograder will deduct points if your code fails the following rubric point - 'average budget is computed without using the `agency_avg` function (-3)'. The public tests cannot determine if your code satisfies these requirements. Verify your code manually."
        },
        {
         "code": ">>> \n>>> public_tests.rubric_check('q9: `get_budget` function is not used for getting Public Health budget', False)\nAll test cases passed!\n",
         "hidden": false,
         "locked": false,
         "success_message": "Note that the Gradescope autograder will deduct points if your code fails the following rubric point - '`get_budget` function is not used for getting Public Health budget (-1)'. The public tests cannot determine if your code satisfies these requirements. Verify your code manually."
        },
        {
         "code": ">>> public_tests.rubric_check('q9: public tests')\nAll test cases passed!\n",
         "hidden": false,
         "locked": false
        }
       ],
       "scored": true,
       "setup": "",
       "teardown": "",
       "type": "doctest"
      }
     ]
    },
    "summary": {
     "name": "summary",
     "points": 127,
     "suites": [
      {
       "cases": [
        {
         "code": ">>> public_tests.get_summary()\nTotal Score: 100/100\n",
         "hidden": false,
         "locked": false
        }
       ],
       "scored": true,
       "setup": "",
       "teardown": "",
       "type": "doctest"
      }
     ]
    },
    "year_budget": {
     "name": "year_budget",
     "points": 0,
     "suites": [
      {
       "cases": [
        {
         "code": ">>> \n>>> public_tests.rubric_check('year_budget: function logic is incorrect')\nAll test cases passed!\n",
         "hidden": false,
         "locked": false,
         "success_message": "Note that the Gradescope autograder will deduct points if your code fails the following rubric point - 'function logic is incorrect (-2)'. The public tests cannot determine if your code satisfies these requirements. Verify your code manually."
        },
        {
         "code": ">>> \n>>> public_tests.rubric_check('year_budget: agency ids are hardcoded')\nAll test cases passed!\n",
         "hidden": false,
         "locked": false,
         "success_message": "Note that the Gradescope autograder will deduct points if your code fails the following rubric point - 'agency ids are hardcoded (-1)'. The public tests cannot determine if your code satisfies these requirements. Verify your code manually."
        },
        {
         "code": ">>> \n>>> public_tests.rubric_check('year_budget: default value of `year=2023` is changed in `year_budget`')\nAll test cases passed!\n",
         "hidden": false,
         "locked": false,
         "success_message": "Note that the Gradescope autograder will deduct points if your code fails the following rubric point - 'default value of `year=2023` is changed in `year_budget` (-1)'. The public tests cannot determine if your code satisfies these requirements. Verify your code manually."
        }
       ],
       "scored": true,
       "setup": "",
       "teardown": "",
       "type": "doctest"
      }
     ]
    }
   }
  },
  "vscode": {
   "interpreter": {
    "hash": "aee8b7b246df8f9039afb4144a1f6fd8d2ca17a180786b69acc140d282b71a49"
   }
  }
 },
 "nbformat": 4,
 "nbformat_minor": 5
}
