{
 "cells": [
  {
   "cell_type": "code",
   "execution_count": null,
   "id": "e9822716",
   "metadata": {
    "cell_type": "code",
    "deletable": false,
    "editable": false
   },
   "outputs": [],
   "source": [
    "# import and initialize otter\n",
    "import otter\n",
    "grader = otter.Notebook(\"p1.ipynb\")"
   ]
  },
  {
   "cell_type": "code",
   "execution_count": null,
   "id": "e4b6309b",
   "metadata": {
    "editable": false,
    "execution": {
     "iopub.execute_input": "2023-09-05T20:29:06.387367Z",
     "iopub.status.busy": "2023-09-05T20:29:06.386390Z",
     "iopub.status.idle": "2023-09-05T20:29:06.585070Z",
     "shell.execute_reply": "2023-09-05T20:29:06.584064Z"
    }
   },
   "outputs": [],
   "source": [
    "import public_tests"
   ]
  },
  {
   "cell_type": "code",
   "execution_count": null,
   "id": "cfe0ae9d",
   "metadata": {
    "execution": {
     "iopub.execute_input": "2023-09-05T20:29:06.589072Z",
     "iopub.status.busy": "2023-09-05T20:29:06.589072Z",
     "iopub.status.idle": "2023-09-05T20:29:06.593948Z",
     "shell.execute_reply": "2023-09-05T20:29:06.592940Z"
    }
   },
   "outputs": [],
   "source": [
    "# PLEASE FILL IN THE DETAILS\n",
    "\n",
    "# project: p1\n",
    "# submitter: NETID1\n",
    "# hours: ????"
   ]
  },
  {
   "cell_type": "markdown",
   "id": "dc7cbb3a",
   "metadata": {
    "deletable": false,
    "editable": false
   },
   "source": [
    "## Project 1: Introduction"
   ]
  },
  {
   "cell_type": "markdown",
   "id": "8f7b8c7a",
   "metadata": {
    "deletable": false,
    "editable": false
   },
   "source": [
    "**Question 1:** \"Hello, World!\" program."
   ]
  },
  {
   "cell_type": "code",
   "execution_count": null,
   "id": "fa84f25f",
   "metadata": {
    "execution": {
     "iopub.execute_input": "2023-09-05T20:29:06.597947Z",
     "iopub.status.busy": "2023-09-05T20:29:06.596945Z",
     "iopub.status.idle": "2023-09-05T20:29:06.607252Z",
     "shell.execute_reply": "2023-09-05T20:29:06.606244Z"
    },
    "tags": []
   },
   "outputs": [],
   "source": [
    "name = \"World\"\n",
    "greeting = \"Hello, \" + name + \"!\"\n",
    "\n",
    "greeting"
   ]
  },
  {
   "cell_type": "code",
   "execution_count": null,
   "id": "abc13ce8",
   "metadata": {
    "deletable": false,
    "editable": false
   },
   "outputs": [],
   "source": [
    "grader.check(\"q1\")"
   ]
  },
  {
   "cell_type": "markdown",
   "id": "97b6afc8",
   "metadata": {
    "deletable": false,
    "editable": false
   },
   "source": [
    "**Question 2:** Compute the current year."
   ]
  },
  {
   "cell_type": "code",
   "execution_count": null,
   "id": "9700cc72",
   "metadata": {
    "execution": {
     "iopub.execute_input": "2023-09-05T20:29:06.623545Z",
     "iopub.status.busy": "2023-09-05T20:29:06.623545Z",
     "iopub.status.idle": "2023-09-05T20:29:06.630197Z",
     "shell.execute_reply": "2023-09-05T20:29:06.629189Z"
    },
    "tags": []
   },
   "outputs": [],
   "source": [
    "curr_year = 45 * 45 - 2\n",
    "\n",
    "curr_year"
   ]
  },
  {
   "cell_type": "code",
   "execution_count": null,
   "id": "f5ce47c7",
   "metadata": {
    "deletable": false,
    "editable": false
   },
   "outputs": [],
   "source": [
    "grader.check(\"q2\")"
   ]
  },
  {
   "cell_type": "markdown",
   "id": "6827f83e",
   "metadata": {
    "deletable": false,
    "editable": false
   },
   "source": [
    "## Submission\n",
    "\n",
    "Make sure you have run all cells in your notebook in order before running the cell below, so that all images/graphs appear in the output. The cell below will generate a zip file for you to submit. **Please save before exporting!**\n",
    "\n",
    "**SUBMISSION INSTRUCTIONS**:\n",
    " 1. **Upload** the zipfile to Gradescope.\n",
    " 2. Check **Gradescope** results as soon as the auto-grader execution gets completed.\n",
    " 3. Your **final score** for this project is the score that you see on **Gradescope**.\n",
    " 4. You are **allowed** to resubmit on Gradescope as many times as you want to.\n",
    " 5. **Contact** a TA/PM if you lose any points on Gradescope for any **reasons**."
   ]
  },
  {
   "cell_type": "code",
   "execution_count": null,
   "id": "1d5cc5d1",
   "metadata": {
    "deletable": false,
    "editable": false
   },
   "outputs": [],
   "source": [
    "# Save your notebook first, then run this cell to export your submission.\n",
    "grader.export(pdf=False, run_tests=True)"
   ]
  },
  {
   "cell_type": "markdown",
   "id": "b8061b2a",
   "metadata": {
    "deletable": false,
    "editable": false
   },
   "source": [
    " "
   ]
  }
 ],
 "metadata": {
  "kernelspec": {
   "display_name": "Python 3 (ipykernel)",
   "language": "python",
   "name": "python3"
  },
  "language_info": {
   "codemirror_mode": {
    "name": "ipython",
    "version": 3
   },
   "file_extension": ".py",
   "mimetype": "text/x-python",
   "name": "python",
   "nbconvert_exporter": "python",
   "pygments_lexer": "ipython3",
   "version": "3.11.3"
  },
  "otter": {
   "OK_FORMAT": true,
   "tests": {
    "q1": {
     "name": "q1",
     "points": 12.5,
     "suites": [
      {
       "cases": [
        {
         "code": ">>> public_tests.check('q1', greeting)\nAll test cases passed!\n",
         "hidden": false,
         "locked": false
        }
       ],
       "scored": true,
       "setup": "",
       "teardown": "",
       "type": "doctest"
      }
     ]
    },
    "q2": {
     "name": "q2",
     "points": 12.5,
     "suites": [
      {
       "cases": [
        {
         "code": ">>> public_tests.check('q2', curr_year)\nAll test cases passed!\n",
         "hidden": false,
         "locked": false
        }
       ],
       "scored": true,
       "setup": "",
       "teardown": "",
       "type": "doctest"
      }
     ]
    }
   }
  }
 },
 "nbformat": 4,
 "nbformat_minor": 5
}
