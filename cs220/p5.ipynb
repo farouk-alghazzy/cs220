{
 "cells": [
  {
   "cell_type": "code",
   "execution_count": 1,
   "id": "8934bb23",
   "metadata": {
    "cell_type": "code",
    "deletable": false,
    "editable": false
   },
   "outputs": [],
   "source": [
    "# import and initialize otter\n",
    "import otter\n",
    "grader = otter.Notebook(\"p5.ipynb\")"
   ]
  },
  {
   "cell_type": "code",
   "execution_count": 2,
   "id": "608620fe",
   "metadata": {
    "editable": false,
    "execution": {
     "iopub.execute_input": "2023-10-05T16:55:09.769800Z",
     "iopub.status.busy": "2023-10-05T16:55:09.769800Z",
     "iopub.status.idle": "2023-10-05T16:55:11.261619Z",
     "shell.execute_reply": "2023-10-05T16:55:11.260611Z"
    }
   },
   "outputs": [],
   "source": [
    "import public_tests"
   ]
  },
  {
   "cell_type": "code",
   "execution_count": 3,
   "id": "feb762da",
   "metadata": {
    "execution": {
     "iopub.execute_input": "2023-10-05T16:55:11.266623Z",
     "iopub.status.busy": "2023-10-05T16:55:11.265633Z",
     "iopub.status.idle": "2023-10-05T16:55:11.270074Z",
     "shell.execute_reply": "2023-10-05T16:55:11.270074Z"
    }
   },
   "outputs": [],
   "source": [
    "# PLEASE FILL IN THE DETAILS\n",
    "# enter none if you don't have a project partner\n",
    "# you will have to add your partner as a group member on Gradescope even after you fill this\n",
    "\n",
    "# project: p5\n",
    "# submitter: alghazzy\n",
    "# partner: jmbruggink\n",
    "# hours: 3"
   ]
  },
  {
   "cell_type": "markdown",
   "id": "0c018208",
   "metadata": {
    "deletable": false,
    "editable": false
   },
   "source": [
    "# Project 5: Investigating Hurricane Data"
   ]
  },
  {
   "cell_type": "markdown",
   "id": "eb9d6c94",
   "metadata": {
    "deletable": false,
    "editable": false
   },
   "source": [
    "## Learning Objectives:\n",
    "\n",
    "In this project you will demonstrate how to:\n",
    "- write fundamental loop structures,\n",
    "- perform basic string manipulations,\n",
    "- create your own helper functions as outlined in Lab-P5.\n",
    "\n",
    "**Please go through [Lab-P5](https://git.doit.wisc.edu/cdis/cs/courses/cs220/cs220-f23-projects/-/tree/main/lab-p5) before working on this project.** The lab introduces some useful techniques related to this project."
   ]
  },
  {
   "cell_type": "markdown",
   "id": "47697cfa",
   "metadata": {
    "deletable": false,
    "editable": false
   },
   "source": [
    "## Testing your code:\n",
    "\n",
    "Along with this notebook, you must have downloaded the file `public_tests.py`. If you are curious about how we test your code, you can explore this file, and specifically the function `get_expected_json`, to understand the expected answers to the questions."
   ]
  },
  {
   "cell_type": "markdown",
   "id": "e9754830",
   "metadata": {
    "deletable": false,
    "editable": false
   },
   "source": [
    "## Project Description:\n",
    "\n",
    "Hurricanes often count among the worst natural disasters, both in terms of monetary costs, and more importantly, human life. Data Science can help us better understand these storms. For example, take a quick look at this FiveThirtyEight analysis by Maggie Koerth-Baker: [Why We're Stuck With An Inadequate Hurricane Rating System](https://fivethirtyeight.com/features/why-were-stuck-with-an-inadequate-hurricane-rating-system/)\n",
    "\n",
    "For this project, you'll be analyzing data in the `hurricanes.csv` file. We generated this data file by writing a Python program to extract data from several lists of hurricanes over the Atlantic Ocean on Wikipedia (here is an [example](https://en.wikipedia.org/wiki/2022_Atlantic_hurricane_season)). You can take a look at the script `gen_csv.ipynb` yourself. At the end of the semester, you will be able to write it yourself. \n",
    "\n",
    "We won't explain how to use the `project` module here (the code in the `project.py` file). Refer to [Lab-P5](https://git.doit.wisc.edu/cdis/cs/courses/cs220/cs220-f23-projects/-/tree/main/lab-p5) to understand how the module works. If necessary, use the `help` function to learn about the various functions inside `project.py`. Feel free to take a look at the `project.py` code, if you are curious about how it works.\n",
    "\n",
    "This project consists of writing code to answer 20 questions."
   ]
  },
  {
   "cell_type": "markdown",
   "id": "d0388404",
   "metadata": {
    "deletable": false,
    "editable": false
   },
   "source": [
    "## Dataset:\n",
    "\n",
    "The dataset you will be working with in this project is linked [here](https://git.doit.wisc.edu/cdis/cs/courses/cs220/cs220-f23-projects/-/tree/main/p5/hurricanes.csv). Be sure to look at this csv to see what it contains, and specifically what the names of the columns are.\n",
    "\n",
    "If needed, you can open the `hurricanes.csv` file, to verify answers to simple questions, but you must still have the correct code in your submission!"
   ]
  },
  {
   "cell_type": "markdown",
   "id": "6a7614b2",
   "metadata": {
    "deletable": false,
    "editable": false
   },
   "source": [
    "## Project Requirements:\n",
    "\n",
    "You **may not** hardcode indices in your code unless specified in the question. If you hardcode the value of `project.count()`, the Gradescope autograder will **deduct** points. If you are not sure what hardcoding is, here is a simple test you can use to determine whether you have hardcoded:\n",
    "\n",
    "*If we were to change the data (e.g. add more hurricanes, remove some hurricanes, or swap some columns or rows), would your code still find the correct answer to the question as it is asked?*\n",
    "\n",
    "If your answer to that question is *No*, then you have likely hardcoded something. Please reach out to TAs/PMs during office hours to find out how you can **avoid hardcoding**.\n",
    "\n",
    "**Store** your final answer for each question in the **variable specified for each question**. This step is important because Otter grades your work by comparing the value of this variable against the correct answer.\n",
    "\n",
    "For some of the questions, we'll ask you to write (then use) a function to compute the answer.  If you compute the answer **without** creating the function we ask you to write, the Gradescope autograder will **deduct** points, even if the way you did it produced the correct answer.\n",
    "\n",
    "Required Functions:\n",
    "- `get_month`\n",
    "- `get_day`\n",
    "- `get_year`\n",
    "- `format_damage`\n",
    "- `deadliest_in_range`\n",
    "- `get_year_total`\n",
    "    \n",
    "Students are only allowed to use Python commands and concepts that have been taught in the course prior to the release of P5. Therefore, **you should not use concepts/modules such as lists, dictionaries, or the pandas module, to name a few examples**. Otherwise, the Gradescope autograder will **deduct** points, even if the way you did it produced the correct answer.\n",
    "\n",
    "For more details on what will cause you to lose points during code review and specific requirements, please take a look at the [Grading rubric](https://git.doit.wisc.edu/cdis/cs/courses/cs220/cs220-f23-projects/-/blob/main/p5/rubric.md)."
   ]
  },
  {
   "cell_type": "markdown",
   "id": "63006afc",
   "metadata": {
    "deletable": false,
    "editable": false
   },
   "source": [
    "## Incremental Coding and Testing:\n",
    "\n",
    "You should always strive to do incremental coding. Incremental coding enables you to avoid challenging bugs. Always write a few lines of code and then test those lines of code, before proceeding to write further code. You can call the `print` function to test intermediate step outputs.\n",
    "\n",
    "We also recommend you do incremental testing: make sure to run the local tests as soon as you are done with a question. This will ensure that you haven't made a big mistake that might potentially impact the rest of your project solution. Please refrain from making multiple submissions on Gradescope for testing individual questions' answers. Instead use the local tests, to test your solution on your laptop.\n",
    "\n",
    "That said, it is **important** that you check the Gradescope test results as soon as you submit your project on Gradescope. Test results on Gradescope are typically available somewhere between 10 to 20 minutes after the submission."
   ]
  },
  {
   "cell_type": "markdown",
   "id": "4d776143",
   "metadata": {
    "deletable": false,
    "editable": false
   },
   "source": [
    "## Project Questions and Functions:"
   ]
  },
  {
   "cell_type": "code",
   "execution_count": 4,
   "id": "9bc58344",
   "metadata": {
    "execution": {
     "iopub.execute_input": "2023-10-05T16:55:11.276101Z",
     "iopub.status.busy": "2023-10-05T16:55:11.276101Z",
     "iopub.status.idle": "2023-10-05T16:55:11.284682Z",
     "shell.execute_reply": "2023-10-05T16:55:11.283633Z"
    },
    "tags": []
   },
   "outputs": [],
   "source": [
    "# it is considered a good coding practice to place all import statements at the top of the notebook\n",
    "# please place all your import statements in this cell if you need to import any more modules for this project\n",
    "import project"
   ]
  },
  {
   "attachments": {
    "table.PNG": {
     "image/png": "[encoded data removed]"
    }
   },
   "cell_type": "markdown",
   "id": "35d58b6f",
   "metadata": {},
   "source": [
    "For the first three questions, you do not have to define any of your own functions. Use the `project` module by calling the specific function needed to solve a certain question.\n",
    "\n",
    "*Please Note*, indexing in python starts from **0**. Therefore, if a question asks you to use a certain value's **index**, do not be confused that with the **location** of the value in the dataset. In our dataset here,\n",
    "\n",
    "![table.PNG](attachment:table.PNG)\n",
    "\n",
    "the **index** for `1804 New England Hurricane` is 0, but the **location** is 1, and the **row number** is 2. Be sure to keep this concept in mind for *all* questions asking for the value at a particular **index**."
   ]
  },
  {
   "cell_type": "markdown",
   "id": "56da8b79",
   "metadata": {
    "deletable": false,
    "editable": false
   },
   "source": [
    "**Question 1:** How **many** hurricanes does the dataset have?"
   ]
  },
  {
   "cell_type": "code",
   "execution_count": 5,
   "id": "c3589ac0",
   "metadata": {
    "execution": {
     "iopub.execute_input": "2023-10-05T16:55:11.288698Z",
     "iopub.status.busy": "2023-10-05T16:55:11.288698Z",
     "iopub.status.idle": "2023-10-05T16:55:11.298888Z",
     "shell.execute_reply": "2023-10-05T16:55:11.297879Z"
    },
    "tags": []
   },
   "outputs": [
    {
     "data": {
      "text/plain": [
       "554"
      ]
     },
     "execution_count": 5,
     "metadata": {},
     "output_type": "execute_result"
    }
   ],
   "source": [
    "# compute and store the answer in the variable 'num_hurricanes'\n",
    "num_hurricanes = project.count()\n",
    "# display the variable 'num_hurricanes' here\n",
    "num_hurricanes"
   ]
  },
  {
   "cell_type": "code",
   "execution_count": 6,
   "id": "a3a53263",
   "metadata": {
    "deletable": false,
    "editable": false
   },
   "outputs": [
    {
     "data": {
      "text/html": [
       "<p><strong><pre style='display: inline;'>q1</pre></strong> passed! 🌟</p><p><strong><pre style='display: inline;'>q1 - 2</pre> message:</strong> Note that the Gradescope autograder will deduct points if your code fails the following rubric point - 'required function is not used (-1)'. The public tests cannot determine if your code satisfies these requirements. Verify your code manually.</p>"
      ],
      "text/plain": [
       "q1 results: All test cases passed!\n",
       "q1 - 2 message: Note that the Gradescope autograder will deduct points if your code fails the following rubric point - 'required function is not used (-1)'. The public tests cannot determine if your code satisfies these requirements. Verify your code manually."
      ]
     },
     "execution_count": 6,
     "metadata": {},
     "output_type": "execute_result"
    }
   ],
   "source": [
    "grader.check(\"q1\")"
   ]
  },
  {
   "cell_type": "markdown",
   "id": "9a4bf2a5",
   "metadata": {
    "deletable": false,
    "editable": false
   },
   "source": [
    "**Question 2:** How many `deaths` were caused by the hurricane at index *315*?"
   ]
  },
  {
   "cell_type": "code",
   "execution_count": 7,
   "id": "968c7d78",
   "metadata": {
    "execution": {
     "iopub.execute_input": "2023-10-05T16:55:11.348354Z",
     "iopub.status.busy": "2023-10-05T16:55:11.348354Z",
     "iopub.status.idle": "2023-10-05T16:55:11.356502Z",
     "shell.execute_reply": "2023-10-05T16:55:11.355491Z"
    },
    "tags": []
   },
   "outputs": [
    {
     "data": {
      "text/plain": [
       "3"
      ]
     },
     "execution_count": 7,
     "metadata": {},
     "output_type": "execute_result"
    }
   ],
   "source": [
    "# compute and store the answer in the variable 'deaths_315'\n",
    "deaths_315 = project.get_deaths(315)\n",
    "# display the variable 'deaths_315' here\n",
    "deaths_315"
   ]
  },
  {
   "cell_type": "code",
   "execution_count": 8,
   "id": "1f83305c",
   "metadata": {
    "deletable": false,
    "editable": false
   },
   "outputs": [
    {
     "data": {
      "text/html": [
       "<p><strong><pre style='display: inline;'>q2</pre></strong> passed! 🌟</p><p><strong><pre style='display: inline;'>q2 - 2</pre> message:</strong> Note that the Gradescope autograder will deduct points if your code fails the following rubric point - 'required function is not used (-1)'. The public tests cannot determine if your code satisfies these requirements. Verify your code manually.</p>"
      ],
      "text/plain": [
       "q2 results: All test cases passed!\n",
       "q2 - 2 message: Note that the Gradescope autograder will deduct points if your code fails the following rubric point - 'required function is not used (-1)'. The public tests cannot determine if your code satisfies these requirements. Verify your code manually."
      ]
     },
     "execution_count": 8,
     "metadata": {},
     "output_type": "execute_result"
    }
   ],
   "source": [
    "grader.check(\"q2\")"
   ]
  },
  {
   "cell_type": "markdown",
   "id": "5cc2dce4",
   "metadata": {
    "deletable": false,
    "editable": false
   },
   "source": [
    "**Question 3:** What is the `name` of the hurricane at the **end** of the dataset?\n",
    "\n",
    "**Hint**: Your code should work even if the number of hurricanes in the dataset were to change. You **must not hardcode** the index of the last hurricane."
   ]
  },
  {
   "cell_type": "code",
   "execution_count": 9,
   "id": "4a307eb0",
   "metadata": {
    "execution": {
     "iopub.execute_input": "2023-10-05T16:55:11.397632Z",
     "iopub.status.busy": "2023-10-05T16:55:11.396634Z",
     "iopub.status.idle": "2023-10-05T16:55:11.405084Z",
     "shell.execute_reply": "2023-10-05T16:55:11.404070Z"
    },
    "tags": []
   },
   "outputs": [
    {
     "data": {
      "text/plain": [
       "'Nicole'"
      ]
     },
     "execution_count": 9,
     "metadata": {},
     "output_type": "execute_result"
    }
   ],
   "source": [
    "# compute and store the answer in the variable 'name_last_index'\n",
    "name_last_index = project.get_name(-1)\n",
    "# display the variable 'name_last_index' here\n",
    "name_last_index"
   ]
  },
  {
   "cell_type": "code",
   "execution_count": 10,
   "id": "4c20d5d8",
   "metadata": {
    "deletable": false,
    "editable": false
   },
   "outputs": [
    {
     "data": {
      "text/html": [
       "<p><strong><pre style='display: inline;'>q3</pre></strong> passed! 🙌</p><p><strong><pre style='display: inline;'>q3 - 2</pre> message:</strong> Note that the Gradescope autograder will deduct points if your code fails the following rubric point - 'index of the last hurricane is hardcoded (-3)'. The public tests cannot determine if your code satisfies these requirements. Verify your code manually.</p><p><strong><pre style='display: inline;'>q3 - 3</pre> message:</strong> Note that the Gradescope autograder will deduct points if your code fails the following rubric point - 'required function is not used (-1)'. The public tests cannot determine if your code satisfies these requirements. Verify your code manually.</p>"
      ],
      "text/plain": [
       "q3 results: All test cases passed!\n",
       "q3 - 2 message: Note that the Gradescope autograder will deduct points if your code fails the following rubric point - 'index of the last hurricane is hardcoded (-3)'. The public tests cannot determine if your code satisfies these requirements. Verify your code manually.\n",
       "q3 - 3 message: Note that the Gradescope autograder will deduct points if your code fails the following rubric point - 'required function is not used (-1)'. The public tests cannot determine if your code satisfies these requirements. Verify your code manually."
      ]
     },
     "execution_count": 10,
     "metadata": {},
     "output_type": "execute_result"
    }
   ],
   "source": [
    "grader.check(\"q3\")"
   ]
  },
  {
   "cell_type": "markdown",
   "id": "8a769290",
   "metadata": {
    "deletable": false,
    "editable": false
   },
   "source": [
    "**Question 4:** How **many** hurricanes in the dataset did **not** cause any `deaths`?\n",
    "\n",
    "**Hint:** Loop through *all* hurricanes and count the hurricanes that has *0* `deaths`."
   ]
  },
  {
   "cell_type": "code",
   "execution_count": 11,
   "id": "75341871",
   "metadata": {
    "execution": {
     "iopub.execute_input": "2023-10-05T16:55:11.443265Z",
     "iopub.status.busy": "2023-10-05T16:55:11.442266Z",
     "iopub.status.idle": "2023-10-05T16:55:11.452710Z",
     "shell.execute_reply": "2023-10-05T16:55:11.451693Z"
    },
    "tags": []
   },
   "outputs": [
    {
     "data": {
      "text/plain": [
       "91"
      ]
     },
     "execution_count": 11,
     "metadata": {},
     "output_type": "execute_result"
    }
   ],
   "source": [
    "# compute and store the answer in the variable 'zero_death_hurrs'\n",
    "zero_death_hurrs = 0\n",
    "for idx in range(project.count()):\n",
    "    if project.get_deaths(idx) == 0:\n",
    "        zero_death_hurrs += 1\n",
    "# display the variable 'zero_death_hurrs' here\n",
    "zero_death_hurrs"
   ]
  },
  {
   "cell_type": "code",
   "execution_count": 12,
   "id": "a8155d07",
   "metadata": {
    "deletable": false,
    "editable": false
   },
   "outputs": [
    {
     "data": {
      "text/html": [
       "<p><strong><pre style='display: inline;'>q4</pre></strong> passed! 🙌</p><p><strong><pre style='display: inline;'>q4 - 2</pre> message:</strong> Note that the Gradescope autograder will deduct points if your code fails the following rubric point - 'incorrect logic is used to answer (-2)'. The public tests cannot determine if your code satisfies these requirements. Verify your code manually.</p><p><strong><pre style='display: inline;'>q4 - 3</pre> message:</strong> Note that the Gradescope autograder will deduct points if your code fails the following rubric point - 'number of hurricanes in the dataset is hardcoded (-1)'. The public tests cannot determine if your code satisfies these requirements. Verify your code manually.</p>"
      ],
      "text/plain": [
       "q4 results: All test cases passed!\n",
       "q4 - 2 message: Note that the Gradescope autograder will deduct points if your code fails the following rubric point - 'incorrect logic is used to answer (-2)'. The public tests cannot determine if your code satisfies these requirements. Verify your code manually.\n",
       "q4 - 3 message: Note that the Gradescope autograder will deduct points if your code fails the following rubric point - 'number of hurricanes in the dataset is hardcoded (-1)'. The public tests cannot determine if your code satisfies these requirements. Verify your code manually."
      ]
     },
     "execution_count": 12,
     "metadata": {},
     "output_type": "execute_result"
    }
   ],
   "source": [
    "grader.check(\"q4\")"
   ]
  },
  {
   "cell_type": "markdown",
   "id": "0c3a4374",
   "metadata": {
    "deletable": false,
    "editable": false
   },
   "source": [
    "**Question 5:** What is the **fastest** speed (in `mph`) of a hurricane in the dataset?\n",
    "\n",
    "**Hint**: Look at Question 26 and Question 27 in Lab-P5 on finding the maximum/minimum. Here you will have to find the function value of the function `project.get_mph`."
   ]
  },
  {
   "cell_type": "code",
   "execution_count": 13,
   "id": "0b7a9fdc",
   "metadata": {
    "execution": {
     "iopub.execute_input": "2023-10-05T16:55:11.497989Z",
     "iopub.status.busy": "2023-10-05T16:55:11.497989Z",
     "iopub.status.idle": "2023-10-05T16:55:11.506014Z",
     "shell.execute_reply": "2023-10-05T16:55:11.506014Z"
    },
    "tags": []
   },
   "outputs": [
    {
     "data": {
      "text/plain": [
       "190"
      ]
     },
     "execution_count": 13,
     "metadata": {},
     "output_type": "execute_result"
    }
   ],
   "source": [
    "# compute and store the answer in the variable 'max_speed'\n",
    "fastest_idx = None\n",
    "max_speed = 0\n",
    "for idx in range(project.count()):\n",
    "    current_speed = project.get_mph(idx)\n",
    "    if fastest_idx == None or current_speed > max_speed:\n",
    "        max_speed = current_speed\n",
    "        fastest_idx = idx\n",
    "fastest_name = project.get_mph(fastest_idx)\n",
    "        \n",
    "fastest_name\n",
    "# display the variable 'max_speed' here\n"
   ]
  },
  {
   "cell_type": "code",
   "execution_count": 14,
   "id": "4885e43c",
   "metadata": {
    "deletable": false,
    "editable": false
   },
   "outputs": [
    {
     "data": {
      "text/html": [
       "<p><strong><pre style='display: inline;'>q5</pre></strong> passed! 🎉</p>"
      ],
      "text/plain": [
       "q5 results: All test cases passed!"
      ]
     },
     "execution_count": 14,
     "metadata": {},
     "output_type": "execute_result"
    }
   ],
   "source": [
    "grader.check(\"q5\")"
   ]
  },
  {
   "cell_type": "markdown",
   "id": "ae0a2c35",
   "metadata": {
    "deletable": false,
    "editable": false
   },
   "source": [
    "### Function 1: `format_damage(damage)`\n",
    "\n",
    "You will notice if you look at the dataset that the damages caused by the hurricanes are not stored directly as numbers. Instead the damages have a suffix (`\"K\"`, `\"M\"`, or `\"B\"`) attached at the very end. You will have to convert these 'numbers' into integers before you can perform any mathematical operations on them. \n",
    "\n",
    "Since you will need to format damages for multiple hurricanes, you **must** create a general helper function that handles the `\"K\"`, `\"M\"`, and `\"B\"` suffixes. Remember that `\"K\"` stands for thousand, `\"M\"` stands for million, and `\"B\"` stands for billion. For example, your function should convert the string `\"13.5M\"` to `13500000`, `\"6.9K\"` to `6900` and so on. Note that for **some** hurricanes, the `damage` does **not** have **any** suffixes. For instance, the hurricane `Florence` at index `308` did damage `'0'`. Your function **must** also deal with such inputs, by directly typecasting them to ints. \n",
    "\n",
    "This function should take in the strings from the `damage` column as input, and return an **int**. Refer to Task 3.2 in Lab-P5 to understand how to slice and calculate damage.\n",
    "\n",
    "**Warning:** Your function `format_damage` must take in the damage as a **string**, and **not** an index. If you code your function to take in the index of a hurricane, and return the damage caused as an int, it will be useful only for this project. To make your function more useful, you must make it accept the damage itself (i.e., a string like `\"13.5M\"` or `\"6.9K\"`) as input."
   ]
  },
  {
   "cell_type": "code",
   "execution_count": 15,
   "id": "fdd9372f",
   "metadata": {},
   "outputs": [
    {
     "data": {
      "text/plain": [
       "['__builtins__',\n",
       " '__cached__',\n",
       " '__doc__',\n",
       " '__file__',\n",
       " '__hurricane__',\n",
       " '__init__',\n",
       " '__loader__',\n",
       " '__name__',\n",
       " '__package__',\n",
       " '__spec__',\n",
       " 'count',\n",
       " 'get_damage',\n",
       " 'get_deaths',\n",
       " 'get_dissipated',\n",
       " 'get_formed',\n",
       " 'get_mph',\n",
       " 'get_name']"
      ]
     },
     "execution_count": 15,
     "metadata": {},
     "output_type": "execute_result"
    }
   ],
   "source": [
    "dir(project)"
   ]
  },
  {
   "cell_type": "raw",
   "id": "435c4abf",
   "metadata": {},
   "source": [
    "dir(project)"
   ]
  },
  {
   "cell_type": "code",
   "execution_count": 16,
   "id": "20856f22",
   "metadata": {
    "execution": {
     "iopub.execute_input": "2023-10-05T16:55:11.531472Z",
     "iopub.status.busy": "2023-10-05T16:55:11.530473Z",
     "iopub.status.idle": "2023-10-05T16:55:11.538352Z",
     "shell.execute_reply": "2023-10-05T16:55:11.537342Z"
    },
    "tags": []
   },
   "outputs": [],
   "source": [
    "def format_damage(damage):\n",
    "    #TODO: use relevant intermediary variables to simplify your code\n",
    "    \n",
    "    #TODO: check the last character of the string `damage`\n",
    "    cost = damage\n",
    "    \n",
    "    #TODO: type cast the string (except for last character - use appropriate slicing) into a float\n",
    "    if (cost[-1]) == 'K' or cost[-1] == \"B\" or cost[-1] == \"M\":\n",
    "        suffix = cost[-1]\n",
    "        suffix_float = float(cost[:-1])\n",
    "    else:\n",
    "        suffix_float = float(cost)\n",
    "        suffix = \"X\"\n",
    "    if suffix == \"K\":\n",
    "        return int(suffix_float * 1000)\n",
    "    elif suffix == \"M\":\n",
    "        return int(suffix_float * 1000000)\n",
    "    elif suffix == \"B\":\n",
    "        return int(suffix_float * 1000000000)\n",
    "    else:\n",
    "        return int(suffix_float)\n",
    "    #TODO: use the last character of string to determine what factor to multiply the float with\n",
    "    #TODO: type cast the final computation to int\n",
    "    "
   ]
  },
  {
   "cell_type": "code",
   "execution_count": 17,
   "id": "a08d5606",
   "metadata": {
    "deletable": false,
    "editable": false
   },
   "outputs": [
    {
     "data": {
      "text/html": [
       "<p><strong><pre style='display: inline;'>format_damage</pre></strong> passed! 🎉</p><p><strong><pre style='display: inline;'>format_damage - 1</pre> message:</strong> Note that the Gradescope autograder will deduct points if your code fails the following rubric point - 'function output is incorrect when the damage has suffix `K` (-1)'. The public tests cannot determine if your code satisfies these requirements. Verify your code manually.</p><p><strong><pre style='display: inline;'>format_damage - 2</pre> message:</strong> Note that the Gradescope autograder will deduct points if your code fails the following rubric point - 'function output is incorrect when the damage has suffix `M` (-1)'. The public tests cannot determine if your code satisfies these requirements. Verify your code manually.</p><p><strong><pre style='display: inline;'>format_damage - 3</pre> message:</strong> Note that the Gradescope autograder will deduct points if your code fails the following rubric point - 'function output is incorrect when the damage has suffix `B` (-1)'. The public tests cannot determine if your code satisfies these requirements. Verify your code manually.</p><p><strong><pre style='display: inline;'>format_damage - 4</pre> message:</strong> Note that the Gradescope autograder will deduct points if your code fails the following rubric point - 'function output is incorrect when the damage has no suffix (-1)'. The public tests cannot determine if your code satisfies these requirements. Verify your code manually.</p>"
      ],
      "text/plain": [
       "format_damage results: All test cases passed!\n",
       "format_damage - 1 message: Note that the Gradescope autograder will deduct points if your code fails the following rubric point - 'function output is incorrect when the damage has suffix `K` (-1)'. The public tests cannot determine if your code satisfies these requirements. Verify your code manually.\n",
       "format_damage - 2 message: Note that the Gradescope autograder will deduct points if your code fails the following rubric point - 'function output is incorrect when the damage has suffix `M` (-1)'. The public tests cannot determine if your code satisfies these requirements. Verify your code manually.\n",
       "format_damage - 3 message: Note that the Gradescope autograder will deduct points if your code fails the following rubric point - 'function output is incorrect when the damage has suffix `B` (-1)'. The public tests cannot determine if your code satisfies these requirements. Verify your code manually.\n",
       "format_damage - 4 message: Note that the Gradescope autograder will deduct points if your code fails the following rubric point - 'function output is incorrect when the damage has no suffix (-1)'. The public tests cannot determine if your code satisfies these requirements. Verify your code manually."
      ]
     },
     "execution_count": 17,
     "metadata": {},
     "output_type": "execute_result"
    }
   ],
   "source": [
    "grader.check(\"format_damage\")"
   ]
  },
  {
   "cell_type": "markdown",
   "id": "47b77011",
   "metadata": {
    "deletable": false,
    "editable": false
   },
   "source": [
    "**Question 6:** What is the `damage` (in dollars) caused by the hurricane named *Igor*?\n",
    "\n",
    "There is **exactly one** hurricane in this dataset named *Igor*. You **must** exit the loop, and **stop** iterating as soon as you find the hurricane named *Igor*.\n",
    "\n",
    "You **must** use the `format_damage` function to answer this question. Your answer **must** be an `int`. "
   ]
  },
  {
   "cell_type": "code",
   "execution_count": 18,
   "id": "652e7cd8",
   "metadata": {},
   "outputs": [
    {
     "data": {
      "text/plain": [
       "['__builtins__',\n",
       " '__cached__',\n",
       " '__doc__',\n",
       " '__file__',\n",
       " '__hurricane__',\n",
       " '__init__',\n",
       " '__loader__',\n",
       " '__name__',\n",
       " '__package__',\n",
       " '__spec__',\n",
       " 'count',\n",
       " 'get_damage',\n",
       " 'get_deaths',\n",
       " 'get_dissipated',\n",
       " 'get_formed',\n",
       " 'get_mph',\n",
       " 'get_name']"
      ]
     },
     "execution_count": 18,
     "metadata": {},
     "output_type": "execute_result"
    }
   ],
   "source": [
    "dir(project)"
   ]
  },
  {
   "cell_type": "code",
   "execution_count": 19,
   "id": "dfecaff8",
   "metadata": {
    "execution": {
     "iopub.execute_input": "2023-10-05T16:55:11.581434Z",
     "iopub.status.busy": "2023-10-05T16:55:11.581434Z",
     "iopub.status.idle": "2023-10-05T16:55:11.587987Z",
     "shell.execute_reply": "2023-10-05T16:55:11.587987Z"
    },
    "tags": []
   },
   "outputs": [
    {
     "data": {
      "text/plain": [
       "200000000"
      ]
     },
     "execution_count": 19,
     "metadata": {},
     "output_type": "execute_result"
    }
   ],
   "source": [
    "# compute and store the answer in the variable 'damage_igor'\n",
    "damage_igor = 0\n",
    "for idx in range(project.count()):\n",
    "    if project.get_name(idx) == 'Igor':\n",
    "        damage_igor = project.get_damage(idx)\n",
    "        damage_igor = format_damage(damage_igor)\n",
    "        break\n",
    "# display the variable 'damage_igor' here\n",
    "damage_igor"
   ]
  },
  {
   "cell_type": "code",
   "execution_count": 20,
   "id": "4502e2a5",
   "metadata": {
    "deletable": false,
    "editable": false
   },
   "outputs": [
    {
     "data": {
      "text/html": [
       "<p><strong><pre style='display: inline;'>q6</pre></strong> passed! 🌟</p><p><strong><pre style='display: inline;'>q6 - 2</pre> message:</strong> Note that the Gradescope autograder will deduct points if your code fails the following rubric point - 'did not exit loop and instead iterated further after finding the hurricane (-2)'. The public tests cannot determine if your code satisfies these requirements. Verify your code manually.</p><p><strong><pre style='display: inline;'>q6 - 3</pre> message:</strong> Note that the Gradescope autograder will deduct points if your code fails the following rubric point - 'number of hurricanes in the dataset is hardcoded (-1)'. The public tests cannot determine if your code satisfies these requirements. Verify your code manually.</p><p><strong><pre style='display: inline;'>q6 - 4</pre> message:</strong> Note that the Gradescope autograder will deduct points if your code fails the following rubric point - '`format_damage` function is not used to convert the damages into an integer (-1)'. The public tests cannot determine if your code satisfies these requirements. Verify your code manually.</p>"
      ],
      "text/plain": [
       "q6 results: All test cases passed!\n",
       "q6 - 2 message: Note that the Gradescope autograder will deduct points if your code fails the following rubric point - 'did not exit loop and instead iterated further after finding the hurricane (-2)'. The public tests cannot determine if your code satisfies these requirements. Verify your code manually.\n",
       "q6 - 3 message: Note that the Gradescope autograder will deduct points if your code fails the following rubric point - 'number of hurricanes in the dataset is hardcoded (-1)'. The public tests cannot determine if your code satisfies these requirements. Verify your code manually.\n",
       "q6 - 4 message: Note that the Gradescope autograder will deduct points if your code fails the following rubric point - '`format_damage` function is not used to convert the damages into an integer (-1)'. The public tests cannot determine if your code satisfies these requirements. Verify your code manually."
      ]
     },
     "execution_count": 20,
     "metadata": {},
     "output_type": "execute_result"
    }
   ],
   "source": [
    "grader.check(\"q6\")"
   ]
  },
  {
   "cell_type": "markdown",
   "id": "a44ffa98",
   "metadata": {
    "deletable": false,
    "editable": false
   },
   "source": [
    "**Question 7:** What is the **total** `damage` (in dollars) caused by all hurricanes named *Karen* in the dataset? \n",
    "\n",
    "There are **multiple** hurricanes in this dataset named *Karen*. You must add up the damages caused by all of them. You **must** use the `format_damage` function to answer this question."
   ]
  },
  {
   "cell_type": "code",
   "execution_count": 21,
   "id": "69cb01e1",
   "metadata": {
    "execution": {
     "iopub.execute_input": "2023-10-05T16:55:11.627979Z",
     "iopub.status.busy": "2023-10-05T16:55:11.626979Z",
     "iopub.status.idle": "2023-10-05T16:55:11.635584Z",
     "shell.execute_reply": "2023-10-05T16:55:11.634578Z"
    },
    "tags": []
   },
   "outputs": [
    {
     "data": {
      "text/plain": [
       "4948000"
      ]
     },
     "execution_count": 21,
     "metadata": {},
     "output_type": "execute_result"
    }
   ],
   "source": [
    "# compute and store the answer in the variable 'total_damage_karen'\n",
    "total_damage_karen = 0\n",
    "# display the variable 'total_damage_karen' here\n",
    "for idx in range(project.count()):\n",
    "    if project.get_name(idx) == 'Karen':\n",
    "        total_damage_karen += format_damage(project.get_damage(idx))\n",
    "total_damage_karen"
   ]
  },
  {
   "cell_type": "code",
   "execution_count": 22,
   "id": "685a829d",
   "metadata": {
    "deletable": false,
    "editable": false
   },
   "outputs": [
    {
     "data": {
      "text/html": [
       "<p><strong><pre style='display: inline;'>q7</pre></strong> passed! 🌈</p><p><strong><pre style='display: inline;'>q7 - 2</pre> message:</strong> Note that the Gradescope autograder will deduct points if your code fails the following rubric point - 'incorrect logic is used to answer (-2)'. The public tests cannot determine if your code satisfies these requirements. Verify your code manually.</p><p><strong><pre style='display: inline;'>q7 - 3</pre> message:</strong> Note that the Gradescope autograder will deduct points if your code fails the following rubric point - 'number of hurricanes in the dataset is hardcoded (-1)'. The public tests cannot determine if your code satisfies these requirements. Verify your code manually.</p><p><strong><pre style='display: inline;'>q7 - 4</pre> message:</strong> Note that the Gradescope autograder will deduct points if your code fails the following rubric point - '`format_damage` function is not used to convert the damages into an integer (-1)'. The public tests cannot determine if your code satisfies these requirements. Verify your code manually.</p>"
      ],
      "text/plain": [
       "q7 results: All test cases passed!\n",
       "q7 - 2 message: Note that the Gradescope autograder will deduct points if your code fails the following rubric point - 'incorrect logic is used to answer (-2)'. The public tests cannot determine if your code satisfies these requirements. Verify your code manually.\n",
       "q7 - 3 message: Note that the Gradescope autograder will deduct points if your code fails the following rubric point - 'number of hurricanes in the dataset is hardcoded (-1)'. The public tests cannot determine if your code satisfies these requirements. Verify your code manually.\n",
       "q7 - 4 message: Note that the Gradescope autograder will deduct points if your code fails the following rubric point - '`format_damage` function is not used to convert the damages into an integer (-1)'. The public tests cannot determine if your code satisfies these requirements. Verify your code manually."
      ]
     },
     "execution_count": 22,
     "metadata": {},
     "output_type": "execute_result"
    }
   ],
   "source": [
    "grader.check(\"q7\")"
   ]
  },
  {
   "cell_type": "markdown",
   "id": "28377e2a",
   "metadata": {
    "deletable": false,
    "editable": false
   },
   "source": [
    "**Question 8:** What is the **average** `damage` caused by hurricanes with names starting with the letter *G*?\n",
    "\n",
    "You should only consider hurricanes whose **first character** is `\"G\"`. Remember to search for `\"G\"` and not `\"g\"`. "
   ]
  },
  {
   "cell_type": "code",
   "execution_count": 23,
   "id": "51d0de97",
   "metadata": {
    "execution": {
     "iopub.execute_input": "2023-10-05T16:55:11.678272Z",
     "iopub.status.busy": "2023-10-05T16:55:11.678272Z",
     "iopub.status.idle": "2023-10-05T16:55:11.686998Z",
     "shell.execute_reply": "2023-10-05T16:55:11.685988Z"
    },
    "tags": []
   },
   "outputs": [
    {
     "data": {
      "text/plain": [
       "703819205.882353"
      ]
     },
     "execution_count": 23,
     "metadata": {},
     "output_type": "execute_result"
    }
   ],
   "source": [
    "# compute and store the answer in the variable 'average_damage_starts_g'\n",
    "# use relevant intermediary variables to simplify your code\n",
    "#average_damage_starts_g = 0\n",
    "total_dam = 0\n",
    "total_num = 0\n",
    "for idx in range(project.count()):\n",
    "    if project.get_name(idx)[:1] == 'G':\n",
    "        total_dam += format_damage(project.get_damage(idx))\n",
    "        total_num += 1\n",
    "average_damage_starts_g = total_dam / total_num\n",
    "# display the variable 'average_damage_starts_g' here\n",
    "average_damage_starts_g\n"
   ]
  },
  {
   "cell_type": "code",
   "execution_count": 24,
   "id": "7d6aad08",
   "metadata": {
    "deletable": false,
    "editable": false
   },
   "outputs": [
    {
     "data": {
      "text/html": [
       "<p><strong><pre style='display: inline;'>q8</pre></strong> passed! ✨</p><p><strong><pre style='display: inline;'>q8 - 2</pre> message:</strong> Note that the Gradescope autograder will deduct points if your code fails the following rubric point - 'incorrect logic is used to answer (-2)'. The public tests cannot determine if your code satisfies these requirements. Verify your code manually.</p><p><strong><pre style='display: inline;'>q8 - 3</pre> message:</strong> Note that the Gradescope autograder will deduct points if your code fails the following rubric point - 'number of hurricanes in the dataset is hardcoded (-1)'. The public tests cannot determine if your code satisfies these requirements. Verify your code manually.</p><p><strong><pre style='display: inline;'>q8 - 4</pre> message:</strong> Note that the Gradescope autograder will deduct points if your code fails the following rubric point - '`format_damage` function is not used to convert the damages into an integer (-1)'. The public tests cannot determine if your code satisfies these requirements. Verify your code manually.</p>"
      ],
      "text/plain": [
       "q8 results: All test cases passed!\n",
       "q8 - 2 message: Note that the Gradescope autograder will deduct points if your code fails the following rubric point - 'incorrect logic is used to answer (-2)'. The public tests cannot determine if your code satisfies these requirements. Verify your code manually.\n",
       "q8 - 3 message: Note that the Gradescope autograder will deduct points if your code fails the following rubric point - 'number of hurricanes in the dataset is hardcoded (-1)'. The public tests cannot determine if your code satisfies these requirements. Verify your code manually.\n",
       "q8 - 4 message: Note that the Gradescope autograder will deduct points if your code fails the following rubric point - '`format_damage` function is not used to convert the damages into an integer (-1)'. The public tests cannot determine if your code satisfies these requirements. Verify your code manually."
      ]
     },
     "execution_count": 24,
     "metadata": {},
     "output_type": "execute_result"
    }
   ],
   "source": [
    "grader.check(\"q8\")"
   ]
  },
  {
   "cell_type": "markdown",
   "id": "c1a6cd53",
   "metadata": {
    "deletable": false,
    "editable": false
   },
   "source": [
    "**Question 9:** What is the `name` of the **fastest** hurricane in the dataset?\n",
    "\n",
    "To break ties (if there are multiple hurricanes with the same speed), you **must** consider the **last** one you find. \n",
    "\n",
    "**Hint:** If you find the **index** of the fastest hurricane in Question 9 instead of just the **name** of the hurricane, you can solve Question 10 very easily using the appropriate function from the project module (i.e., without writing a new loop)."
   ]
  },
  {
   "cell_type": "code",
   "execution_count": 25,
   "id": "cee13ee3",
   "metadata": {
    "execution": {
     "iopub.execute_input": "2023-10-05T16:55:11.729388Z",
     "iopub.status.busy": "2023-10-05T16:55:11.728387Z",
     "iopub.status.idle": "2023-10-05T16:55:11.737904Z",
     "shell.execute_reply": "2023-10-05T16:55:11.736890Z"
    },
    "tags": []
   },
   "outputs": [
    {
     "data": {
      "text/plain": [
       "'Allen'"
      ]
     },
     "execution_count": 25,
     "metadata": {},
     "output_type": "execute_result"
    }
   ],
   "source": [
    "# compute and store the answer in the variable 'fastest_hurricane'\n",
    "fastest_hurricane = None\n",
    "fastest_idx = None\n",
    "max_speed = 0\n",
    "for idx in range(project.count()):\n",
    "    current_speed = project.get_mph(idx)\n",
    "    if fastest_idx == None or current_speed >= max_speed:\n",
    "        max_speed = current_speed\n",
    "        fastest_idx = idx\n",
    "fastest_hurricane = project.get_name(fastest_idx)\n",
    "        \n",
    "fastest_hurricane\n",
    "# display the variable 'fastest_hurricane' here"
   ]
  },
  {
   "cell_type": "code",
   "execution_count": 26,
   "id": "ac28b577",
   "metadata": {
    "deletable": false,
    "editable": false
   },
   "outputs": [
    {
     "data": {
      "text/html": [
       "<p><strong><pre style='display: inline;'>q9</pre></strong> passed! 💯</p><p><strong><pre style='display: inline;'>q9 - 2</pre> message:</strong> Note that the Gradescope autograder will deduct points if your code fails the following rubric point - 'incorrect logic is used to answer (-2)'. The public tests cannot determine if your code satisfies these requirements. Verify your code manually.</p><p><strong><pre style='display: inline;'>q9 - 3</pre> message:</strong> Note that the Gradescope autograder will deduct points if your code fails the following rubric point - 'tie breaking is not implemented correctly (-1)'. The public tests cannot determine if your code satisfies these requirements. Verify your code manually.</p><p><strong><pre style='display: inline;'>q9 - 4</pre> message:</strong> Note that the Gradescope autograder will deduct points if your code fails the following rubric point - 'number of hurricanes in the dataset is hardcoded (-1)'. The public tests cannot determine if your code satisfies these requirements. Verify your code manually.</p>"
      ],
      "text/plain": [
       "q9 results: All test cases passed!\n",
       "q9 - 2 message: Note that the Gradescope autograder will deduct points if your code fails the following rubric point - 'incorrect logic is used to answer (-2)'. The public tests cannot determine if your code satisfies these requirements. Verify your code manually.\n",
       "q9 - 3 message: Note that the Gradescope autograder will deduct points if your code fails the following rubric point - 'tie breaking is not implemented correctly (-1)'. The public tests cannot determine if your code satisfies these requirements. Verify your code manually.\n",
       "q9 - 4 message: Note that the Gradescope autograder will deduct points if your code fails the following rubric point - 'number of hurricanes in the dataset is hardcoded (-1)'. The public tests cannot determine if your code satisfies these requirements. Verify your code manually."
      ]
     },
     "execution_count": 26,
     "metadata": {},
     "output_type": "execute_result"
    }
   ],
   "source": [
    "grader.check(\"q9\")"
   ]
  },
  {
   "cell_type": "markdown",
   "id": "e2e9d016",
   "metadata": {
    "deletable": false,
    "editable": false
   },
   "source": [
    "**Question 10:** What is the `damage` (in dollars) caused by the **fastest** hurricane (found in Question 9)?"
   ]
  },
  {
   "cell_type": "code",
   "execution_count": 27,
   "id": "d24531e5",
   "metadata": {
    "execution": {
     "iopub.execute_input": "2023-10-05T16:55:11.792521Z",
     "iopub.status.busy": "2023-10-05T16:55:11.791522Z",
     "iopub.status.idle": "2023-10-05T16:55:11.799309Z",
     "shell.execute_reply": "2023-10-05T16:55:11.798296Z"
    },
    "tags": []
   },
   "outputs": [
    {
     "data": {
      "text/plain": [
       "1570000000"
      ]
     },
     "execution_count": 27,
     "metadata": {},
     "output_type": "execute_result"
    }
   ],
   "source": [
    "# compute and store the answer in the variable 'fastest_hurricane_damage'\n",
    "fastest_hurricane_damage = 0\n",
    "fastest_hurricane_damage = format_damage(project.get_damage(fastest_idx))\n",
    "# display the variable 'fastest_hurricane_damage' here\n",
    "fastest_hurricane_damage"
   ]
  },
  {
   "cell_type": "code",
   "execution_count": 28,
   "id": "14c807f4",
   "metadata": {
    "deletable": false,
    "editable": false
   },
   "outputs": [
    {
     "data": {
      "text/html": [
       "<p><strong><pre style='display: inline;'>q10</pre></strong> passed! ✨</p><p><strong><pre style='display: inline;'>q10 - 2</pre> message:</strong> Note that the Gradescope autograder will deduct points if your code fails the following rubric point - 'incorrect logic is used to answer (-2)'. The public tests cannot determine if your code satisfies these requirements. Verify your code manually.</p><p><strong><pre style='display: inline;'>q10 - 3</pre> message:</strong> Note that the Gradescope autograder will deduct points if your code fails the following rubric point - 'tie breaking is not implemented correctly (-1)'. The public tests cannot determine if your code satisfies these requirements. Verify your code manually.</p><p><strong><pre style='display: inline;'>q10 - 4</pre> message:</strong> Note that the Gradescope autograder will deduct points if your code fails the following rubric point - 'number of hurricanes in the dataset is hardcoded (-1)'. The public tests cannot determine if your code satisfies these requirements. Verify your code manually.</p>"
      ],
      "text/plain": [
       "q10 results: All test cases passed!\n",
       "q10 - 2 message: Note that the Gradescope autograder will deduct points if your code fails the following rubric point - 'incorrect logic is used to answer (-2)'. The public tests cannot determine if your code satisfies these requirements. Verify your code manually.\n",
       "q10 - 3 message: Note that the Gradescope autograder will deduct points if your code fails the following rubric point - 'tie breaking is not implemented correctly (-1)'. The public tests cannot determine if your code satisfies these requirements. Verify your code manually.\n",
       "q10 - 4 message: Note that the Gradescope autograder will deduct points if your code fails the following rubric point - 'number of hurricanes in the dataset is hardcoded (-1)'. The public tests cannot determine if your code satisfies these requirements. Verify your code manually."
      ]
     },
     "execution_count": 28,
     "metadata": {},
     "output_type": "execute_result"
    }
   ],
   "source": [
    "grader.check(\"q10\")"
   ]
  },
  {
   "cell_type": "markdown",
   "id": "4a17a9ea",
   "metadata": {
    "deletable": false,
    "editable": false
   },
   "source": [
    "### Functions 2, 3, 4: `get_year(date)`, `get_month(date)`, and `get_day(date)`\n",
    "\n",
    "Now would be a good time to copy the `get_year`, `get_month`, and `get_day` functions you created in Lab-P5 to your project notebook. You will need these functions for the upcoming questions."
   ]
  },
  {
   "cell_type": "code",
   "execution_count": 29,
   "id": "647677f0",
   "metadata": {
    "execution": {
     "iopub.execute_input": "2023-10-05T16:55:11.854552Z",
     "iopub.status.busy": "2023-10-05T16:55:11.854552Z",
     "iopub.status.idle": "2023-10-05T16:55:11.859995Z",
     "shell.execute_reply": "2023-10-05T16:55:11.858983Z"
    },
    "tags": []
   },
   "outputs": [],
   "source": [
    "# copy/paste the get_year function here from your lab-p5 practice notebook\n",
    "def get_year(date):\n",
    "    return int(date[-4:])"
   ]
  },
  {
   "cell_type": "code",
   "execution_count": 30,
   "id": "f4f49116",
   "metadata": {
    "deletable": false,
    "editable": false
   },
   "outputs": [
    {
     "data": {
      "text/html": [
       "<p><strong><pre style='display: inline;'>get_year</pre></strong> passed! 🚀</p><p><strong><pre style='display: inline;'>get_year - 1</pre> message:</strong> Note that the Gradescope autograder will deduct points if your code fails the following rubric point - 'function logic is incorrect (-2)'. The public tests cannot determine if your code satisfies these requirements. Verify your code manually.</p>"
      ],
      "text/plain": [
       "get_year results: All test cases passed!\n",
       "get_year - 1 message: Note that the Gradescope autograder will deduct points if your code fails the following rubric point - 'function logic is incorrect (-2)'. The public tests cannot determine if your code satisfies these requirements. Verify your code manually."
      ]
     },
     "execution_count": 30,
     "metadata": {},
     "output_type": "execute_result"
    }
   ],
   "source": [
    "grader.check(\"get_year\")"
   ]
  },
  {
   "cell_type": "code",
   "execution_count": 31,
   "id": "73580d08",
   "metadata": {
    "execution": {
     "iopub.execute_input": "2023-10-05T16:55:11.873811Z",
     "iopub.status.busy": "2023-10-05T16:55:11.873811Z",
     "iopub.status.idle": "2023-10-05T16:55:11.879603Z",
     "shell.execute_reply": "2023-10-05T16:55:11.878589Z"
    },
    "tags": []
   },
   "outputs": [],
   "source": [
    "# copy/paste the get_month function here from your lab-p5 practice notebook\n",
    "def get_month(date):\n",
    "    return int(date[:2])"
   ]
  },
  {
   "cell_type": "code",
   "execution_count": 32,
   "id": "cfd9d561",
   "metadata": {
    "deletable": false,
    "editable": false
   },
   "outputs": [
    {
     "data": {
      "text/html": [
       "<p><strong><pre style='display: inline;'>get_month</pre></strong> passed! 🍀</p><p><strong><pre style='display: inline;'>get_month - 1</pre> message:</strong> Note that the Gradescope autograder will deduct points if your code fails the following rubric point - 'function logic is incorrect (-2)'. The public tests cannot determine if your code satisfies these requirements. Verify your code manually.</p>"
      ],
      "text/plain": [
       "get_month results: All test cases passed!\n",
       "get_month - 1 message: Note that the Gradescope autograder will deduct points if your code fails the following rubric point - 'function logic is incorrect (-2)'. The public tests cannot determine if your code satisfies these requirements. Verify your code manually."
      ]
     },
     "execution_count": 32,
     "metadata": {},
     "output_type": "execute_result"
    }
   ],
   "source": [
    "grader.check(\"get_month\")"
   ]
  },
  {
   "cell_type": "code",
   "execution_count": 33,
   "id": "a2295cf0",
   "metadata": {
    "execution": {
     "iopub.execute_input": "2023-10-05T16:55:11.894801Z",
     "iopub.status.busy": "2023-10-05T16:55:11.893801Z",
     "iopub.status.idle": "2023-10-05T16:55:11.899755Z",
     "shell.execute_reply": "2023-10-05T16:55:11.898746Z"
    },
    "tags": []
   },
   "outputs": [],
   "source": [
    "# copy/paste the get_day function here from your lab-p5 practice notebook\n",
    "def get_day(date):\n",
    "    return int(date[3:5])"
   ]
  },
  {
   "cell_type": "code",
   "execution_count": 34,
   "id": "68bf2d1d",
   "metadata": {
    "deletable": false,
    "editable": false
   },
   "outputs": [
    {
     "data": {
      "text/html": [
       "<p><strong><pre style='display: inline;'>get_day</pre></strong> passed! 🌈</p><p><strong><pre style='display: inline;'>get_day - 1</pre> message:</strong> Note that the Gradescope autograder will deduct points if your code fails the following rubric point - 'function logic is incorrect (-2)'. The public tests cannot determine if your code satisfies these requirements. Verify your code manually.</p>"
      ],
      "text/plain": [
       "get_day results: All test cases passed!\n",
       "get_day - 1 message: Note that the Gradescope autograder will deduct points if your code fails the following rubric point - 'function logic is incorrect (-2)'. The public tests cannot determine if your code satisfies these requirements. Verify your code manually."
      ]
     },
     "execution_count": 34,
     "metadata": {},
     "output_type": "execute_result"
    }
   ],
   "source": [
    "grader.check(\"get_day\")"
   ]
  },
  {
   "cell_type": "markdown",
   "id": "b939917b",
   "metadata": {
    "deletable": false,
    "editable": false
   },
   "source": [
    "**Question 11:** What is the `name` of the **earliest** hurricane which caused over *1 billion* dollars in `damages`?\n",
    "\n",
    "You **must** use the `year` of formation of the hurricane to identify the earliest hurricane. There are **no** other hurricanes in that year which caused over 1 billion dollars in damages, so you do not have to worry about breaking ties.\n",
    "\n",
    "You need to find the hurricane with the earliest year of formation among those hurricanes with more than 1 billion dollars in damages. You **must not** initialize your variable to be some hurricane which caused less than 1 billion dollars in damages, such as the hurricane at index `0` for example. If you do so, you will find that you are finding the hurricane with the earliest year of formation among the hurricanes with **either** more than 1 billion dollars in damages **or** have index `0`. This is **not** what you are supposed to do.\n",
    "\n",
    "**Hint:** Take a look at the [lecture notes for February 20](???) if you do not remember how to find the maximum/minimum with `None` initialization. You can use `continue` statement to skip to next index in a loop. "
   ]
  },
  {
   "cell_type": "code",
   "execution_count": 35,
   "id": "31d6723e",
   "metadata": {},
   "outputs": [
    {
     "data": {
      "text/plain": [
       "['__builtins__',\n",
       " '__cached__',\n",
       " '__doc__',\n",
       " '__file__',\n",
       " '__hurricane__',\n",
       " '__init__',\n",
       " '__loader__',\n",
       " '__name__',\n",
       " '__package__',\n",
       " '__spec__',\n",
       " 'count',\n",
       " 'get_damage',\n",
       " 'get_deaths',\n",
       " 'get_dissipated',\n",
       " 'get_formed',\n",
       " 'get_mph',\n",
       " 'get_name']"
      ]
     },
     "execution_count": 35,
     "metadata": {},
     "output_type": "execute_result"
    }
   ],
   "source": [
    "dir(project)"
   ]
  },
  {
   "cell_type": "code",
   "execution_count": 36,
   "id": "b6d49c68",
   "metadata": {
    "execution": {
     "iopub.execute_input": "2023-10-05T16:55:11.914040Z",
     "iopub.status.busy": "2023-10-05T16:55:11.914040Z",
     "iopub.status.idle": "2023-10-05T16:55:11.925572Z",
     "shell.execute_reply": "2023-10-05T16:55:11.924560Z"
    },
    "tags": []
   },
   "outputs": [
    {
     "data": {
      "text/plain": [
       "'1900 Galveston hurricane'"
      ]
     },
     "execution_count": 36,
     "metadata": {},
     "output_type": "execute_result"
    }
   ],
   "source": [
    "# compute and store the answer in the variable 'earliest_billion_dollar_hurr'\n",
    "earliest_billion_dollar_hurr = None\n",
    "# display the variable 'earliest_billion_dollar_hurr' here\n",
    "hurr_year = 10000\n",
    "for idx in range(project.count()):\n",
    "    if project.get_damage(idx)[-1] == 'B' and hurr_year > get_year(project.get_formed(idx)):\n",
    "        earliest_billion_dollar_hurr = (project.get_name(idx))\n",
    "        hurr_year = get_year(project.get_formed(idx))\n",
    "earliest_billion_dollar_hurr"
   ]
  },
  {
   "cell_type": "code",
   "execution_count": 37,
   "id": "6a36141a",
   "metadata": {
    "deletable": false,
    "editable": false
   },
   "outputs": [
    {
     "data": {
      "text/html": [
       "<p><strong><pre style='display: inline;'>q11</pre></strong> passed! 🎉</p><p><strong><pre style='display: inline;'>q11 - 2</pre> message:</strong> Note that the Gradescope autograder will deduct points if your code fails the following rubric point - 'variable to store the index or name of the earliest hurricane is not initialized as `None` (-1)'. The public tests cannot determine if your code satisfies these requirements. Verify your code manually.</p><p><strong><pre style='display: inline;'>q11 - 3</pre> message:</strong> Note that the Gradescope autograder will deduct points if your code fails the following rubric point - '`get_year` function is not used to determine the year of formation (-1)'. The public tests cannot determine if your code satisfies these requirements. Verify your code manually.</p><p><strong><pre style='display: inline;'>q11 - 4</pre> message:</strong> Note that the Gradescope autograder will deduct points if your code fails the following rubric point - 'used indices of the hurricanes to determine the earliest hurricane (-1)'. The public tests cannot determine if your code satisfies these requirements. Verify your code manually.</p><p><strong><pre style='display: inline;'>q11 - 5</pre> message:</strong> Note that the Gradescope autograder will deduct points if your code fails the following rubric point - 'hurricanes with damages <= 1B are not ignored (-1)'. The public tests cannot determine if your code satisfies these requirements. Verify your code manually.</p><p><strong><pre style='display: inline;'>q11 - 6</pre> message:</strong> Note that the Gradescope autograder will deduct points if your code fails the following rubric point - 'number of hurricanes in the dataset is hardcoded (-1)'. The public tests cannot determine if your code satisfies these requirements. Verify your code manually.</p>"
      ],
      "text/plain": [
       "q11 results: All test cases passed!\n",
       "q11 - 2 message: Note that the Gradescope autograder will deduct points if your code fails the following rubric point - 'variable to store the index or name of the earliest hurricane is not initialized as `None` (-1)'. The public tests cannot determine if your code satisfies these requirements. Verify your code manually.\n",
       "q11 - 3 message: Note that the Gradescope autograder will deduct points if your code fails the following rubric point - '`get_year` function is not used to determine the year of formation (-1)'. The public tests cannot determine if your code satisfies these requirements. Verify your code manually.\n",
       "q11 - 4 message: Note that the Gradescope autograder will deduct points if your code fails the following rubric point - 'used indices of the hurricanes to determine the earliest hurricane (-1)'. The public tests cannot determine if your code satisfies these requirements. Verify your code manually.\n",
       "q11 - 5 message: Note that the Gradescope autograder will deduct points if your code fails the following rubric point - 'hurricanes with damages <= 1B are not ignored (-1)'. The public tests cannot determine if your code satisfies these requirements. Verify your code manually.\n",
       "q11 - 6 message: Note that the Gradescope autograder will deduct points if your code fails the following rubric point - 'number of hurricanes in the dataset is hardcoded (-1)'. The public tests cannot determine if your code satisfies these requirements. Verify your code manually."
      ]
     },
     "execution_count": 37,
     "metadata": {},
     "output_type": "execute_result"
    }
   ],
   "source": [
    "grader.check(\"q11\")"
   ]
  },
  {
   "cell_type": "markdown",
   "id": "26a2c264",
   "metadata": {
    "deletable": false,
    "editable": false
   },
   "source": [
    "**Question 12:** What is the `name` of the **most recent** hurricane which caused over *100 billion* dollars in `damages`?\n",
    "\n",
    "You **must** use the `year` of formation of the hurricane to identify the most recent hurricane. There are **no** other hurricanes in that year which caused over 100 billion dollars in damages, so you do not have to worry about breaking ties. You **must not** only use the indices of the hurricanes to determine the most recent hurricane (i.e., you may **not** take for granted that the hurricanes are sorted in increasing order of the date of formation)."
   ]
  },
  {
   "cell_type": "code",
   "execution_count": 38,
   "id": "352bc7cb",
   "metadata": {
    "execution": {
     "iopub.execute_input": "2023-10-05T16:55:11.996569Z",
     "iopub.status.busy": "2023-10-05T16:55:11.996569Z",
     "iopub.status.idle": "2023-10-05T16:55:12.006785Z",
     "shell.execute_reply": "2023-10-05T16:55:12.005775Z"
    },
    "tags": []
   },
   "outputs": [
    {
     "data": {
      "text/plain": [
       "'Ian'"
      ]
     },
     "execution_count": 38,
     "metadata": {},
     "output_type": "execute_result"
    }
   ],
   "source": [
    "# compute and store the answer in the variable 'most_recent_100_billion_hurr'\n",
    "most_recent_100_billion_hurr = None\n",
    "year_recent = 0\n",
    "# display the variable 'most_recent_100_billion_hurr' here\n",
    "for idx in range(project.count()):\n",
    "    if (format_damage(project.get_damage(idx)) > 100000000000) and get_year(project.get_formed(idx)) > year_recent:\n",
    "        year_recent = get_year(project.get_formed(idx))\n",
    "        most_recent_100_billion_hurr = project.get_name(idx)\n",
    "most_recent_100_billion_hurr"
   ]
  },
  {
   "cell_type": "code",
   "execution_count": 39,
   "id": "f3b34b67",
   "metadata": {
    "deletable": false,
    "editable": false
   },
   "outputs": [
    {
     "data": {
      "text/html": [
       "<p><strong><pre style='display: inline;'>q12</pre></strong> passed! 🚀</p><p><strong><pre style='display: inline;'>q12 - 2</pre> message:</strong> Note that the Gradescope autograder will deduct points if your code fails the following rubric point - 'variable to store the index or name of the most recent hurricane is not initialized as `None` (-1)'. The public tests cannot determine if your code satisfies these requirements. Verify your code manually.</p><p><strong><pre style='display: inline;'>q12 - 3</pre> message:</strong> Note that the Gradescope autograder will deduct points if your code fails the following rubric point - '`get_year` function is not used to determine the year of formation (-1)'. The public tests cannot determine if your code satisfies these requirements. Verify your code manually.</p><p><strong><pre style='display: inline;'>q12 - 4</pre> message:</strong> Note that the Gradescope autograder will deduct points if your code fails the following rubric point - 'used indices of the hurricanes to determine the most recent hurricane (-1)'. The public tests cannot determine if your code satisfies these requirements. Verify your code manually.</p><p><strong><pre style='display: inline;'>q12 - 5</pre> message:</strong> Note that the Gradescope autograder will deduct points if your code fails the following rubric point - 'hurricanes with damages <= 100B are not ignored (-1)'. The public tests cannot determine if your code satisfies these requirements. Verify your code manually.</p><p><strong><pre style='display: inline;'>q12 - 6</pre> message:</strong> Note that the Gradescope autograder will deduct points if your code fails the following rubric point - 'number of hurricanes in the dataset is hardcoded (-1)'. The public tests cannot determine if your code satisfies these requirements. Verify your code manually.</p>"
      ],
      "text/plain": [
       "q12 results: All test cases passed!\n",
       "q12 - 2 message: Note that the Gradescope autograder will deduct points if your code fails the following rubric point - 'variable to store the index or name of the most recent hurricane is not initialized as `None` (-1)'. The public tests cannot determine if your code satisfies these requirements. Verify your code manually.\n",
       "q12 - 3 message: Note that the Gradescope autograder will deduct points if your code fails the following rubric point - '`get_year` function is not used to determine the year of formation (-1)'. The public tests cannot determine if your code satisfies these requirements. Verify your code manually.\n",
       "q12 - 4 message: Note that the Gradescope autograder will deduct points if your code fails the following rubric point - 'used indices of the hurricanes to determine the most recent hurricane (-1)'. The public tests cannot determine if your code satisfies these requirements. Verify your code manually.\n",
       "q12 - 5 message: Note that the Gradescope autograder will deduct points if your code fails the following rubric point - 'hurricanes with damages <= 100B are not ignored (-1)'. The public tests cannot determine if your code satisfies these requirements. Verify your code manually.\n",
       "q12 - 6 message: Note that the Gradescope autograder will deduct points if your code fails the following rubric point - 'number of hurricanes in the dataset is hardcoded (-1)'. The public tests cannot determine if your code satisfies these requirements. Verify your code manually."
      ]
     },
     "execution_count": 39,
     "metadata": {},
     "output_type": "execute_result"
    }
   ],
   "source": [
    "grader.check(\"q12\")"
   ]
  },
  {
   "cell_type": "markdown",
   "id": "e52967f3",
   "metadata": {
    "deletable": false,
    "editable": false
   },
   "source": [
    "### Function 5: `deadliest_in_range(year1, year2)`\n",
    "\n",
    "This function should take in two years, `year1` and `year2` as its inputs and return the **index** of the hurricane which formed **or** dissipated between `year1` and `year2` and caused the **most** `deaths`. In case of any ties, you must return the index of the **first** hurricane in the dataset with the most deaths.\n",
    "\n",
    "As in Question 11 and Question 12, you **must** initialize the variable you use to store the index of the deadliest hurricane as `None`, and update it for the first time only when you come across the first hurricane in the dataset within the year range."
   ]
  },
  {
   "cell_type": "code",
   "execution_count": 40,
   "id": "e4f4ce8a",
   "metadata": {},
   "outputs": [
    {
     "data": {
      "text/plain": [
       "['__builtins__',\n",
       " '__cached__',\n",
       " '__doc__',\n",
       " '__file__',\n",
       " '__hurricane__',\n",
       " '__init__',\n",
       " '__loader__',\n",
       " '__name__',\n",
       " '__package__',\n",
       " '__spec__',\n",
       " 'count',\n",
       " 'get_damage',\n",
       " 'get_deaths',\n",
       " 'get_dissipated',\n",
       " 'get_formed',\n",
       " 'get_mph',\n",
       " 'get_name']"
      ]
     },
     "execution_count": 40,
     "metadata": {},
     "output_type": "execute_result"
    }
   ],
   "source": [
    "dir(project)"
   ]
  },
  {
   "cell_type": "code",
   "execution_count": 41,
   "id": "1f96e06f",
   "metadata": {
    "execution": {
     "iopub.execute_input": "2023-10-05T16:55:12.092244Z",
     "iopub.status.busy": "2023-10-05T16:55:12.092244Z",
     "iopub.status.idle": "2023-10-05T16:55:12.100674Z",
     "shell.execute_reply": "2023-10-05T16:55:12.099665Z"
    },
    "tags": []
   },
   "outputs": [],
   "source": [
    "def deadliest_in_range(year1, year2):\n",
    "    \"\"\"\n",
    "    deadliest_in_range(year1, year2) gets the index of the deadliest (most deaths) hurricane \n",
    "    formed or dissipated within the given year range.\n",
    "    year1 and year2 are inclusive bounds.\n",
    "\n",
    "    deadliest_in_range(year1, year2) returns the index of the worst hurricane within the year range.\n",
    "    \"\"\"\n",
    "    deadliest_idx = None\n",
    "    most_deaths = None\n",
    "    for idx in range(project.count()):\n",
    "        if (year1 <= (get_year(project.get_formed(idx))) <= year2) or (year1 <= get_year(project.get_dissipated(idx)) <= year2):\n",
    "            if deadliest_idx == None or most_deaths < project.get_deaths(idx):\n",
    "                most_deaths = project.get_deaths(idx)\n",
    "                deadliest_idx = idx\n",
    "    return deadliest_idx"
   ]
  },
  {
   "cell_type": "code",
   "execution_count": 42,
   "id": "158b849d",
   "metadata": {
    "deletable": false,
    "editable": false
   },
   "outputs": [
    {
     "data": {
      "text/html": [
       "<p><strong><pre style='display: inline;'>deadliest_in_range</pre></strong> passed! ✨</p><p><strong><pre style='display: inline;'>deadliest_in_range - 1</pre> message:</strong> Note that the Gradescope autograder will deduct points if your code fails the following rubric point - 'variable to store the index of the deadliest hurricane is not initialized as `None` (-1)'. The public tests cannot determine if your code satisfies these requirements. Verify your code manually.</p><p><strong><pre style='display: inline;'>deadliest_in_range - 2</pre> message:</strong> Note that the Gradescope autograder will deduct points if your code fails the following rubric point - 'function does not consider all hurricanes active between `year1` and `year2` (-1)'. The public tests cannot determine if your code satisfies these requirements. Verify your code manually.</p><p><strong><pre style='display: inline;'>deadliest_in_range - 3</pre> message:</strong> Note that the Gradescope autograder will deduct points if your code fails the following rubric point - 'number of hurricanes in the dataset is hardcoded (-1)'. The public tests cannot determine if your code satisfies these requirements. Verify your code manually.</p><p><strong><pre style='display: inline;'>deadliest_in_range - 4</pre> message:</strong> Note that the Gradescope autograder will deduct points if your code fails the following rubric point - 'function logic is incorrect (-1)'. The public tests cannot determine if your code satisfies these requirements. Verify your code manually.</p>"
      ],
      "text/plain": [
       "deadliest_in_range results: All test cases passed!\n",
       "deadliest_in_range - 1 message: Note that the Gradescope autograder will deduct points if your code fails the following rubric point - 'variable to store the index of the deadliest hurricane is not initialized as `None` (-1)'. The public tests cannot determine if your code satisfies these requirements. Verify your code manually.\n",
       "deadliest_in_range - 2 message: Note that the Gradescope autograder will deduct points if your code fails the following rubric point - 'function does not consider all hurricanes active between `year1` and `year2` (-1)'. The public tests cannot determine if your code satisfies these requirements. Verify your code manually.\n",
       "deadliest_in_range - 3 message: Note that the Gradescope autograder will deduct points if your code fails the following rubric point - 'number of hurricanes in the dataset is hardcoded (-1)'. The public tests cannot determine if your code satisfies these requirements. Verify your code manually.\n",
       "deadliest_in_range - 4 message: Note that the Gradescope autograder will deduct points if your code fails the following rubric point - 'function logic is incorrect (-1)'. The public tests cannot determine if your code satisfies these requirements. Verify your code manually."
      ]
     },
     "execution_count": 42,
     "metadata": {},
     "output_type": "execute_result"
    }
   ],
   "source": [
    "grader.check(\"deadliest_in_range\")"
   ]
  },
  {
   "cell_type": "markdown",
   "id": "dd01ce85",
   "metadata": {
    "deletable": false,
    "editable": false
   },
   "source": [
    "**Question 13:** How much `damage` (in dollars) was done by the **deadliest** hurricane this century thus far (*2001 to 2023*, both inclusive)?\n",
    "\n",
    "Your answer **must** be an `int`. "
   ]
  },
  {
   "cell_type": "code",
   "execution_count": 43,
   "id": "a9cb1f16",
   "metadata": {
    "execution": {
     "iopub.execute_input": "2023-10-05T16:55:12.143666Z",
     "iopub.status.busy": "2023-10-05T16:55:12.143666Z",
     "iopub.status.idle": "2023-10-05T16:55:12.151910Z",
     "shell.execute_reply": "2023-10-05T16:55:12.150898Z"
    },
    "tags": []
   },
   "outputs": [
    {
     "data": {
      "text/plain": [
       "91600000000"
      ]
     },
     "execution_count": 43,
     "metadata": {},
     "output_type": "execute_result"
    }
   ],
   "source": [
    "# compute and store the answer in the variable 'damage_by_deadliest_21st_century'\n",
    "damage_by_deadliest_21st_century = 0\n",
    "# display the variable 'damage_by_deadliest_21st_century' here\n",
    "damage_by_deadliest_21st_century = format_damage(project.get_damage(deadliest_in_range(2001, 2023)))\n",
    "damage_by_deadliest_21st_century"
   ]
  },
  {
   "cell_type": "code",
   "execution_count": 44,
   "id": "e5eb3716",
   "metadata": {
    "deletable": false,
    "editable": false
   },
   "outputs": [
    {
     "data": {
      "text/html": [
       "<p><strong><pre style='display: inline;'>q13</pre></strong> passed! 🚀</p><p><strong><pre style='display: inline;'>q13 - 2</pre> message:</strong> Note that the Gradescope autograder will deduct points if your code fails the following rubric point - 'functions `deadliest_in_range` and `format_damage` are not used to answer (-2)'. The public tests cannot determine if your code satisfies these requirements. Verify your code manually.</p><p><strong><pre style='display: inline;'>q13 - 3</pre> message:</strong> Note that the Gradescope autograder will deduct points if your code fails the following rubric point - 'incorrect logic is used to answer (-2)'. The public tests cannot determine if your code satisfies these requirements. Verify your code manually.</p>"
      ],
      "text/plain": [
       "q13 results: All test cases passed!\n",
       "q13 - 2 message: Note that the Gradescope autograder will deduct points if your code fails the following rubric point - 'functions `deadliest_in_range` and `format_damage` are not used to answer (-2)'. The public tests cannot determine if your code satisfies these requirements. Verify your code manually.\n",
       "q13 - 3 message: Note that the Gradescope autograder will deduct points if your code fails the following rubric point - 'incorrect logic is used to answer (-2)'. The public tests cannot determine if your code satisfies these requirements. Verify your code manually."
      ]
     },
     "execution_count": 44,
     "metadata": {},
     "output_type": "execute_result"
    }
   ],
   "source": [
    "grader.check(\"q13\")"
   ]
  },
  {
   "cell_type": "markdown",
   "id": "d47f482e",
   "metadata": {
    "deletable": false,
    "editable": false
   },
   "source": [
    "**Question 14:** What was the speed (in `mph`) of the **deadliest** hurricane of the 20th century (*1901 to 2000*, both inclusive)?"
   ]
  },
  {
   "cell_type": "code",
   "execution_count": 45,
   "id": "087083c8",
   "metadata": {
    "execution": {
     "iopub.execute_input": "2023-10-05T16:55:12.186053Z",
     "iopub.status.busy": "2023-10-05T16:55:12.186053Z",
     "iopub.status.idle": "2023-10-05T16:55:12.195000Z",
     "shell.execute_reply": "2023-10-05T16:55:12.193988Z"
    },
    "tags": []
   },
   "outputs": [
    {
     "data": {
      "text/plain": [
       "155"
      ]
     },
     "execution_count": 45,
     "metadata": {},
     "output_type": "execute_result"
    }
   ],
   "source": [
    "# compute and store the answer in the variable 'speed_of_deadliest_20th_century'\n",
    "speed_of_deadliest_20th_century = 0\n",
    "# display the variable 'speed_of_deadliest_20th_century' here\n",
    "speed_of_deadliest_20th_century = (project.get_mph(deadliest_in_range(1901, 2000)))\n",
    "speed_of_deadliest_20th_century"
   ]
  },
  {
   "cell_type": "code",
   "execution_count": 46,
   "id": "cbaeef04",
   "metadata": {
    "deletable": false,
    "editable": false
   },
   "outputs": [
    {
     "data": {
      "text/html": [
       "<p><strong><pre style='display: inline;'>q14</pre></strong> passed! ✨</p><p><strong><pre style='display: inline;'>q14 - 2</pre> message:</strong> Note that the Gradescope autograder will deduct points if your code fails the following rubric point - 'function `deadliest_in_range` is not used to answer (-2)'. The public tests cannot determine if your code satisfies these requirements. Verify your code manually.</p><p><strong><pre style='display: inline;'>q14 - 3</pre> message:</strong> Note that the Gradescope autograder will deduct points if your code fails the following rubric point - 'incorrect logic is used to answer (-2)'. The public tests cannot determine if your code satisfies these requirements. Verify your code manually.</p>"
      ],
      "text/plain": [
       "q14 results: All test cases passed!\n",
       "q14 - 2 message: Note that the Gradescope autograder will deduct points if your code fails the following rubric point - 'function `deadliest_in_range` is not used to answer (-2)'. The public tests cannot determine if your code satisfies these requirements. Verify your code manually.\n",
       "q14 - 3 message: Note that the Gradescope autograder will deduct points if your code fails the following rubric point - 'incorrect logic is used to answer (-2)'. The public tests cannot determine if your code satisfies these requirements. Verify your code manually."
      ]
     },
     "execution_count": 46,
     "metadata": {},
     "output_type": "execute_result"
    }
   ],
   "source": [
    "grader.check(\"q14\")"
   ]
  },
  {
   "cell_type": "markdown",
   "id": "68375727",
   "metadata": {
    "deletable": false,
    "editable": false
   },
   "source": [
    "**Question 15:** In this century (*2001 to 2022*, both inclusive) how many hurricanes formed on **average**, in the `month` of *October*?\n",
    "\n",
    "We will leave out the year *2023* since *October* isn't yet over. Your answer must be a  **float**. You may hardcode the month (i.e., **10**) and the range of years (i.e., **2001** and **2022**) for the average calculation."
   ]
  },
  {
   "cell_type": "code",
   "execution_count": 47,
   "id": "956329f4",
   "metadata": {
    "execution": {
     "iopub.execute_input": "2023-10-05T16:55:12.230322Z",
     "iopub.status.busy": "2023-10-05T16:55:12.229325Z",
     "iopub.status.idle": "2023-10-05T16:55:12.240086Z",
     "shell.execute_reply": "2023-10-05T16:55:12.239074Z"
    },
    "tags": []
   },
   "outputs": [
    {
     "data": {
      "text/plain": [
       "1.8181818181818181"
      ]
     },
     "execution_count": 47,
     "metadata": {},
     "output_type": "execute_result"
    }
   ],
   "source": [
    "# compute and store the answer in the variable 'avg_hurricanes_in_oct'\n",
    "avg_hurricanes_in_oct = 0\n",
    "# display the variable 'avg_hurricanes_in_oct' here\n",
    "total_hurr = 0\n",
    "for idx in range(project.count()):\n",
    "    if (2001 <= (get_year(project.get_formed(idx))) <= 2022):\n",
    "        if get_month(project.get_formed(idx)) == 10:\n",
    "            total_hurr += 1\n",
    "avg_hurricanes_in_oct = total_hurr / 22\n",
    "avg_hurricanes_in_oct"
   ]
  },
  {
   "cell_type": "code",
   "execution_count": 48,
   "id": "71fe0253",
   "metadata": {
    "deletable": false,
    "editable": false
   },
   "outputs": [
    {
     "data": {
      "text/html": [
       "<p><strong><pre style='display: inline;'>q15</pre></strong> passed! 🚀</p><p><strong><pre style='display: inline;'>q15 - 2</pre> message:</strong> Note that the Gradescope autograder will deduct points if your code fails the following rubric point - 'functions `get_year` and `get_month` are not used to answer (-1)'. The public tests cannot determine if your code satisfies these requirements. Verify your code manually.</p><p><strong><pre style='display: inline;'>q15 - 3</pre> message:</strong> Note that the Gradescope autograder will deduct points if your code fails the following rubric point - 'incorrect logic is used to answer (-1)'. The public tests cannot determine if your code satisfies these requirements. Verify your code manually.</p><p><strong><pre style='display: inline;'>q15 - 4</pre> message:</strong> Note that the Gradescope autograder will deduct points if your code fails the following rubric point - 'number of hurricanes in the dataset is hardcoded (-1)'. The public tests cannot determine if your code satisfies these requirements. Verify your code manually.</p>"
      ],
      "text/plain": [
       "q15 results: All test cases passed!\n",
       "q15 - 2 message: Note that the Gradescope autograder will deduct points if your code fails the following rubric point - 'functions `get_year` and `get_month` are not used to answer (-1)'. The public tests cannot determine if your code satisfies these requirements. Verify your code manually.\n",
       "q15 - 3 message: Note that the Gradescope autograder will deduct points if your code fails the following rubric point - 'incorrect logic is used to answer (-1)'. The public tests cannot determine if your code satisfies these requirements. Verify your code manually.\n",
       "q15 - 4 message: Note that the Gradescope autograder will deduct points if your code fails the following rubric point - 'number of hurricanes in the dataset is hardcoded (-1)'. The public tests cannot determine if your code satisfies these requirements. Verify your code manually."
      ]
     },
     "execution_count": 48,
     "metadata": {},
     "output_type": "execute_result"
    }
   ],
   "source": [
    "grader.check(\"q15\")"
   ]
  },
  {
   "cell_type": "markdown",
   "id": "2ad428f0",
   "metadata": {
    "deletable": false,
    "editable": false
   },
   "source": [
    "### Function 6: `get_year_total(year)`\n",
    "\n",
    "This function should take in `year` as its input and return the number of hurricanes that were **formed** in the given `year`."
   ]
  },
  {
   "cell_type": "code",
   "execution_count": 49,
   "id": "4e941295",
   "metadata": {
    "execution": {
     "iopub.execute_input": "2023-10-05T16:55:12.292481Z",
     "iopub.status.busy": "2023-10-05T16:55:12.292481Z",
     "iopub.status.idle": "2023-10-05T16:55:12.300294Z",
     "shell.execute_reply": "2023-10-05T16:55:12.299281Z"
    },
    "tags": []
   },
   "outputs": [],
   "source": [
    "# define the function `get_year_total` here \n",
    "def get_year_total(year):\n",
    "    total_hurr = 0\n",
    "    for idx in range(project.count()):\n",
    "        if get_year(project.get_formed(idx)) == year:\n",
    "            total_hurr += 1\n",
    "    return total_hurr"
   ]
  },
  {
   "cell_type": "code",
   "execution_count": 50,
   "id": "463388eb",
   "metadata": {
    "deletable": false,
    "editable": false
   },
   "outputs": [
    {
     "data": {
      "text/html": [
       "<p><strong><pre style='display: inline;'>get_year_total</pre></strong> passed! ✨</p><p><strong><pre style='display: inline;'>get_year_total - 1</pre> message:</strong> Note that the Gradescope autograder will deduct points if your code fails the following rubric point - 'function logic is incorrect (-2)'. The public tests cannot determine if your code satisfies these requirements. Verify your code manually.</p><p><strong><pre style='display: inline;'>get_year_total - 2</pre> message:</strong> Note that the Gradescope autograder will deduct points if your code fails the following rubric point - 'function `get_year` is not used to answer (-1)'. The public tests cannot determine if your code satisfies these requirements. Verify your code manually.</p><p><strong><pre style='display: inline;'>get_year_total - 3</pre> message:</strong> Note that the Gradescope autograder will deduct points if your code fails the following rubric point - 'number of hurricanes in the dataset is hardcoded (-1)'. The public tests cannot determine if your code satisfies these requirements. Verify your code manually.</p>"
      ],
      "text/plain": [
       "get_year_total results: All test cases passed!\n",
       "get_year_total - 1 message: Note that the Gradescope autograder will deduct points if your code fails the following rubric point - 'function logic is incorrect (-2)'. The public tests cannot determine if your code satisfies these requirements. Verify your code manually.\n",
       "get_year_total - 2 message: Note that the Gradescope autograder will deduct points if your code fails the following rubric point - 'function `get_year` is not used to answer (-1)'. The public tests cannot determine if your code satisfies these requirements. Verify your code manually.\n",
       "get_year_total - 3 message: Note that the Gradescope autograder will deduct points if your code fails the following rubric point - 'number of hurricanes in the dataset is hardcoded (-1)'. The public tests cannot determine if your code satisfies these requirements. Verify your code manually."
      ]
     },
     "execution_count": 50,
     "metadata": {},
     "output_type": "execute_result"
    }
   ],
   "source": [
    "grader.check(\"get_year_total\")"
   ]
  },
  {
   "cell_type": "markdown",
   "id": "39dd6c24",
   "metadata": {
    "deletable": false,
    "editable": false
   },
   "source": [
    "**Question 16:** How **many** hurricanes were formed in the `year` *2016*?\n",
    "\n",
    "You **must** answer this question by calling `get_year_total`."
   ]
  },
  {
   "cell_type": "code",
   "execution_count": 51,
   "id": "72093103",
   "metadata": {
    "execution": {
     "iopub.execute_input": "2023-10-05T16:55:12.347970Z",
     "iopub.status.busy": "2023-10-05T16:55:12.347970Z",
     "iopub.status.idle": "2023-10-05T16:55:12.356984Z",
     "shell.execute_reply": "2023-10-05T16:55:12.355972Z"
    },
    "tags": []
   },
   "outputs": [
    {
     "data": {
      "text/plain": [
       "8"
      ]
     },
     "execution_count": 51,
     "metadata": {},
     "output_type": "execute_result"
    }
   ],
   "source": [
    "# compute and store the answer in the variable 'total_hurricanes_2016'\n",
    "total_hurricanes_2016 = get_year_total(2016)\n",
    "# display the variable 'total_hurricanes_2016' here\n",
    "total_hurricanes_2016"
   ]
  },
  {
   "cell_type": "code",
   "execution_count": 52,
   "id": "238b3191",
   "metadata": {
    "deletable": false,
    "editable": false
   },
   "outputs": [
    {
     "data": {
      "text/html": [
       "<p><strong><pre style='display: inline;'>q16</pre></strong> passed! 🍀</p><p><strong><pre style='display: inline;'>q16 - 2</pre> message:</strong> Note that the Gradescope autograder will deduct points if your code fails the following rubric point - 'function `get_year_total` is not used to answer (-3)'. The public tests cannot determine if your code satisfies these requirements. Verify your code manually.</p>"
      ],
      "text/plain": [
       "q16 results: All test cases passed!\n",
       "q16 - 2 message: Note that the Gradescope autograder will deduct points if your code fails the following rubric point - 'function `get_year_total` is not used to answer (-3)'. The public tests cannot determine if your code satisfies these requirements. Verify your code manually."
      ]
     },
     "execution_count": 52,
     "metadata": {},
     "output_type": "execute_result"
    }
   ],
   "source": [
    "grader.check(\"q16\")"
   ]
  },
  {
   "cell_type": "markdown",
   "id": "ac106398",
   "metadata": {
    "deletable": false,
    "editable": false
   },
   "source": [
    "**Question 17:** How **many** hurricanes were formed in the last `decade` (*2011 to 2020*, both inclusive)?\n",
    "\n",
    "You **must** answer this question by **looping** across the years in this decade, and calling the function `get_year_total`."
   ]
  },
  {
   "cell_type": "code",
   "execution_count": 53,
   "id": "e23d83a8",
   "metadata": {
    "execution": {
     "iopub.execute_input": "2023-10-05T16:55:12.392059Z",
     "iopub.status.busy": "2023-10-05T16:55:12.392059Z",
     "iopub.status.idle": "2023-10-05T16:55:12.404003Z",
     "shell.execute_reply": "2023-10-05T16:55:12.402988Z"
    },
    "tags": []
   },
   "outputs": [
    {
     "data": {
      "text/plain": [
       "97"
      ]
     },
     "execution_count": 53,
     "metadata": {},
     "output_type": "execute_result"
    }
   ],
   "source": [
    "# compute and store the answer in the variable 'total_hurricanes_in_last_decade'\n",
    "total_hurricanes_in_last_decade = 0\n",
    "# display the variable 'total_hurricanes_in_last_decade' here\n",
    "idx = 2011\n",
    "while idx <= 2020:\n",
    "    total_hurricanes_in_last_decade += get_year_total(idx)\n",
    "    idx += 1\n",
    "total_hurricanes_in_last_decade"
   ]
  },
  {
   "cell_type": "code",
   "execution_count": 54,
   "id": "15206514",
   "metadata": {
    "deletable": false,
    "editable": false
   },
   "outputs": [
    {
     "data": {
      "text/html": [
       "<p><strong><pre style='display: inline;'>q17</pre></strong> passed! 🙌</p><p><strong><pre style='display: inline;'>q17 - 2</pre> message:</strong> Note that the Gradescope autograder will deduct points if your code fails the following rubric point - 'function `get_year_total` is not used to answer (-2)'. The public tests cannot determine if your code satisfies these requirements. Verify your code manually.</p><p><strong><pre style='display: inline;'>q17 - 3</pre> message:</strong> Note that the Gradescope autograder will deduct points if your code fails the following rubric point - 'did not loop through the years in the last decade and hardcoded all ten years (-2)'. The public tests cannot determine if your code satisfies these requirements. Verify your code manually.</p><p><strong><pre style='display: inline;'>q17 - 4</pre> message:</strong> Note that the Gradescope autograder will deduct points if your code fails the following rubric point - 'incorrect logic is used to answer (-1)'. The public tests cannot determine if your code satisfies these requirements. Verify your code manually.</p>"
      ],
      "text/plain": [
       "q17 results: All test cases passed!\n",
       "q17 - 2 message: Note that the Gradescope autograder will deduct points if your code fails the following rubric point - 'function `get_year_total` is not used to answer (-2)'. The public tests cannot determine if your code satisfies these requirements. Verify your code manually.\n",
       "q17 - 3 message: Note that the Gradescope autograder will deduct points if your code fails the following rubric point - 'did not loop through the years in the last decade and hardcoded all ten years (-2)'. The public tests cannot determine if your code satisfies these requirements. Verify your code manually.\n",
       "q17 - 4 message: Note that the Gradescope autograder will deduct points if your code fails the following rubric point - 'incorrect logic is used to answer (-1)'. The public tests cannot determine if your code satisfies these requirements. Verify your code manually."
      ]
     },
     "execution_count": 54,
     "metadata": {},
     "output_type": "execute_result"
    }
   ],
   "source": [
    "grader.check(\"q17\")"
   ]
  },
  {
   "cell_type": "markdown",
   "id": "e8b1e410",
   "metadata": {
    "deletable": false,
    "editable": false
   },
   "source": [
    "**Question 18:** Which `year` in the 20th century (*1901 to 2000*, both inclusive) suffered the **most** number of hurricanes?\n",
    "\n",
    "You **must** answer this question by calling the function `get_year_total`. You **must** break ties in favor of the most recent year."
   ]
  },
  {
   "cell_type": "code",
   "execution_count": null,
   "id": "8ee409e4",
   "metadata": {},
   "outputs": [],
   "source": []
  },
  {
   "cell_type": "code",
   "execution_count": 55,
   "id": "1ed008cf",
   "metadata": {
    "execution": {
     "iopub.execute_input": "2023-10-05T16:55:12.445380Z",
     "iopub.status.busy": "2023-10-05T16:55:12.445380Z",
     "iopub.status.idle": "2023-10-05T16:55:12.551802Z",
     "shell.execute_reply": "2023-10-05T16:55:12.551802Z"
    },
    "tags": []
   },
   "outputs": [
    {
     "data": {
      "text/plain": [
       "1995"
      ]
     },
     "execution_count": 55,
     "metadata": {},
     "output_type": "execute_result"
    }
   ],
   "source": [
    "year_with_most_hurricanes = None\n",
    "# display the variable 'year_with_most_hurricanes' here\n",
    "idx = 1901\n",
    "most_hurr = 0\n",
    "while idx <= 2000:\n",
    "    if most_hurr <= get_year_total(idx):\n",
    "        most_hurr = get_year_total(idx)\n",
    "        year_with_most_hurricanes = idx\n",
    "    idx += 1\n",
    "year_with_most_hurricanes"
   ]
  },
  {
   "cell_type": "code",
   "execution_count": 56,
   "id": "d72aca50",
   "metadata": {
    "deletable": false,
    "editable": false
   },
   "outputs": [
    {
     "data": {
      "text/html": [
       "<p><strong><pre style='display: inline;'>q18</pre></strong> passed! 🌟</p><p><strong><pre style='display: inline;'>q18 - 2</pre> message:</strong> Note that the Gradescope autograder will deduct points if your code fails the following rubric point - '`year_with_most_hurricanes` is not initialized as some year in the twentieth century, or as `None` (-2)'. The public tests cannot determine if your code satisfies these requirements. Verify your code manually.</p><p><strong><pre style='display: inline;'>q18 - 3</pre> message:</strong> Note that the Gradescope autograder will deduct points if your code fails the following rubric point - 'function `get_year_total` is not used to determine the year with the most hurricanes (-1)'. The public tests cannot determine if your code satisfies these requirements. Verify your code manually.</p><p><strong><pre style='display: inline;'>q18 - 4</pre> message:</strong> Note that the Gradescope autograder will deduct points if your code fails the following rubric point - 'tie breaking is not implemented correctly (-1)'. The public tests cannot determine if your code satisfies these requirements. Verify your code manually.</p><p><strong><pre style='display: inline;'>q18 - 5</pre> message:</strong> Note that the Gradescope autograder will deduct points if your code fails the following rubric point - 'incorrect logic is used to answer (-1)'. The public tests cannot determine if your code satisfies these requirements. Verify your code manually.</p>"
      ],
      "text/plain": [
       "q18 results: All test cases passed!\n",
       "q18 - 2 message: Note that the Gradescope autograder will deduct points if your code fails the following rubric point - '`year_with_most_hurricanes` is not initialized as some year in the twentieth century, or as `None` (-2)'. The public tests cannot determine if your code satisfies these requirements. Verify your code manually.\n",
       "q18 - 3 message: Note that the Gradescope autograder will deduct points if your code fails the following rubric point - 'function `get_year_total` is not used to determine the year with the most hurricanes (-1)'. The public tests cannot determine if your code satisfies these requirements. Verify your code manually.\n",
       "q18 - 4 message: Note that the Gradescope autograder will deduct points if your code fails the following rubric point - 'tie breaking is not implemented correctly (-1)'. The public tests cannot determine if your code satisfies these requirements. Verify your code manually.\n",
       "q18 - 5 message: Note that the Gradescope autograder will deduct points if your code fails the following rubric point - 'incorrect logic is used to answer (-1)'. The public tests cannot determine if your code satisfies these requirements. Verify your code manually."
      ]
     },
     "execution_count": 56,
     "metadata": {},
     "output_type": "execute_result"
    }
   ],
   "source": [
    "grader.check(\"q18\")"
   ]
  },
  {
   "cell_type": "markdown",
   "id": "b0549041",
   "metadata": {
    "deletable": false,
    "editable": false
   },
   "source": [
    "**Question 19:** How **many** hurricanes lasted across at least 2 *different* `months`?\n",
    "\n",
    "**Hint:** You can determine if a hurricane lasted across two different months by comparing the month of formation and the month of dissipation of the hurricane. Note that there may be hurricanes which formed late in the year, and dissipated early in the next year. You may make the assumption that **no** hurricane formed in one month, lasted years, and then dissipated in the same month of a different year."
   ]
  },
  {
   "cell_type": "code",
   "execution_count": 57,
   "id": "73ecdd09",
   "metadata": {
    "execution": {
     "iopub.execute_input": "2023-10-05T16:55:12.603467Z",
     "iopub.status.busy": "2023-10-05T16:55:12.603467Z",
     "iopub.status.idle": "2023-10-05T16:55:12.612335Z",
     "shell.execute_reply": "2023-10-05T16:55:12.611324Z"
    },
    "tags": []
   },
   "outputs": [
    {
     "data": {
      "text/plain": [
       "153"
      ]
     },
     "execution_count": 57,
     "metadata": {},
     "output_type": "execute_result"
    }
   ],
   "source": [
    "# compute and store the answer in the variable 'multiple_months_hurrs'\n",
    "multiple_months_hurrs = 0\n",
    "# display the variable 'multiple_months_hurrs' here\n",
    "for idx in range(project.count()):\n",
    "    if get_month(project.get_formed(idx)) != get_month(project.get_dissipated(idx)):\n",
    "        multiple_months_hurrs += 1\n",
    "multiple_months_hurrs"
   ]
  },
  {
   "cell_type": "code",
   "execution_count": 58,
   "id": "f531c5e3",
   "metadata": {
    "deletable": false,
    "editable": false
   },
   "outputs": [
    {
     "data": {
      "text/html": [
       "<p><strong><pre style='display: inline;'>q19</pre></strong> passed! 🌟</p><p><strong><pre style='display: inline;'>q19 - 2</pre> message:</strong> Note that the Gradescope autograder will deduct points if your code fails the following rubric point - 'hurricanes that formed at the end of one year and dissipated at the end of the next are not considered (-1)'. The public tests cannot determine if your code satisfies these requirements. Verify your code manually.</p><p><strong><pre style='display: inline;'>q19 - 3</pre> message:</strong> Note that the Gradescope autograder will deduct points if your code fails the following rubric point - 'incorrect logic is used to answer (-1)'. The public tests cannot determine if your code satisfies these requirements. Verify your code manually.</p><p><strong><pre style='display: inline;'>q19 - 4</pre> message:</strong> Note that the Gradescope autograder will deduct points if your code fails the following rubric point - 'function `get_month` is not used to answer (-1)'. The public tests cannot determine if your code satisfies these requirements. Verify your code manually.</p>"
      ],
      "text/plain": [
       "q19 results: All test cases passed!\n",
       "q19 - 2 message: Note that the Gradescope autograder will deduct points if your code fails the following rubric point - 'hurricanes that formed at the end of one year and dissipated at the end of the next are not considered (-1)'. The public tests cannot determine if your code satisfies these requirements. Verify your code manually.\n",
       "q19 - 3 message: Note that the Gradescope autograder will deduct points if your code fails the following rubric point - 'incorrect logic is used to answer (-1)'. The public tests cannot determine if your code satisfies these requirements. Verify your code manually.\n",
       "q19 - 4 message: Note that the Gradescope autograder will deduct points if your code fails the following rubric point - 'function `get_month` is not used to answer (-1)'. The public tests cannot determine if your code satisfies these requirements. Verify your code manually."
      ]
     },
     "execution_count": 58,
     "metadata": {},
     "output_type": "execute_result"
    }
   ],
   "source": [
    "grader.check(\"q19\")"
   ]
  },
  {
   "cell_type": "markdown",
   "id": "87abb7b0",
   "metadata": {
    "deletable": false,
    "editable": false
   },
   "source": [
    "**Question 20:** What is the **average** `damage` caused by the **deadliest** hurricane of each year from *2001 - 2023*, both inclusive?\n",
    "\n",
    "You **must** use the `deadliest_in_range` function to identify the deadliest hurricane of each year, and you **must** use `format_damage` to convert the `damages` into an `int`. If two hurricanes in a year have the **same** deaths, you must break ties in favor of the hurricane that appears **first** in the dataset.\n",
    "\n",
    "**Hint:** For calculating average only consider the years that had a deadliest hurricane. If a particular year has no hurricanes in it (which would imply that it has no deadliest hurricane), you should skip that year from both the numerator and the denominator.\n",
    "\n",
    "Your answer **must** be a  **float**."
   ]
  },
  {
   "cell_type": "code",
   "execution_count": 59,
   "id": "847659ae",
   "metadata": {
    "execution": {
     "iopub.execute_input": "2023-10-05T16:55:12.664268Z",
     "iopub.status.busy": "2023-10-05T16:55:12.663267Z",
     "iopub.status.idle": "2023-10-05T16:55:12.696716Z",
     "shell.execute_reply": "2023-10-05T16:55:12.695706Z"
    },
    "tags": []
   },
   "outputs": [
    {
     "data": {
      "text/plain": [
       "20052745454.545456"
      ]
     },
     "execution_count": 59,
     "metadata": {},
     "output_type": "execute_result"
    }
   ],
   "source": [
    "# compute and store the answer in the variable 'average_damage_deadliest'\n",
    "average_damage_deadliest = 0\n",
    "# display the variable 'average_damage_deadliest' here\n",
    "total_damage = 0\n",
    "total_hurr = 0\n",
    "idx_damage = 0\n",
    "for idx in range(2001, 2023):\n",
    "    idx_damage = deadliest_in_range(idx, idx)\n",
    "    if format_damage(project.get_damage(idx_damage)) > 0:\n",
    "        total_damage += format_damage(project.get_damage(idx_damage))\n",
    "        total_hurr += 1\n",
    "average_damage_deadliest = total_damage / total_hurr\n",
    "average_damage_deadliest"
   ]
  },
  {
   "cell_type": "code",
   "execution_count": 60,
   "id": "73a8cc22",
   "metadata": {
    "deletable": false,
    "editable": false
   },
   "outputs": [
    {
     "data": {
      "text/html": [
       "<p><strong><pre style='display: inline;'>q20</pre></strong> passed! 🙌</p><p><strong><pre style='display: inline;'>q20 - 2</pre> message:</strong> Note that the Gradescope autograder will deduct points if your code fails the following rubric point - 'years with no deadliest hurricane are not ignored (-1)'. The public tests cannot determine if your code satisfies these requirements. Verify your code manually.</p><p><strong><pre style='display: inline;'>q20 - 3</pre> message:</strong> Note that the Gradescope autograder will deduct points if your code fails the following rubric point - 'all hurricanes formed between 2001 and 2023 are not considered (-1)'. The public tests cannot determine if your code satisfies these requirements. Verify your code manually.</p><p><strong><pre style='display: inline;'>q20 - 4</pre> message:</strong> Note that the Gradescope autograder will deduct points if your code fails the following rubric point - 'incorrect logic is used to answer (-1)'. The public tests cannot determine if your code satisfies these requirements. Verify your code manually.</p><p><strong><pre style='display: inline;'>q20 - 5</pre> message:</strong> Note that the Gradescope autograder will deduct points if your code fails the following rubric point - 'functions `deadliest_in_range` and `format_damage` are not used to answer (-1)'. The public tests cannot determine if your code satisfies these requirements. Verify your code manually.</p>"
      ],
      "text/plain": [
       "q20 results: All test cases passed!\n",
       "q20 - 2 message: Note that the Gradescope autograder will deduct points if your code fails the following rubric point - 'years with no deadliest hurricane are not ignored (-1)'. The public tests cannot determine if your code satisfies these requirements. Verify your code manually.\n",
       "q20 - 3 message: Note that the Gradescope autograder will deduct points if your code fails the following rubric point - 'all hurricanes formed between 2001 and 2023 are not considered (-1)'. The public tests cannot determine if your code satisfies these requirements. Verify your code manually.\n",
       "q20 - 4 message: Note that the Gradescope autograder will deduct points if your code fails the following rubric point - 'incorrect logic is used to answer (-1)'. The public tests cannot determine if your code satisfies these requirements. Verify your code manually.\n",
       "q20 - 5 message: Note that the Gradescope autograder will deduct points if your code fails the following rubric point - 'functions `deadliest_in_range` and `format_damage` are not used to answer (-1)'. The public tests cannot determine if your code satisfies these requirements. Verify your code manually."
      ]
     },
     "execution_count": 60,
     "metadata": {},
     "output_type": "execute_result"
    }
   ],
   "source": [
    "grader.check(\"q20\")"
   ]
  },
  {
   "cell_type": "code",
   "execution_count": 61,
   "id": "16077e3c",
   "metadata": {
    "deletable": false,
    "editable": false
   },
   "outputs": [
    {
     "data": {
      "text/html": [
       "<p><strong><pre style='display: inline;'>general_deductions</pre></strong> passed! ✨</p><p><strong><pre style='display: inline;'>general_deductions - 1</pre> message:</strong> Note that the Gradescope autograder will deduct points if your code fails the following rubric point - 'Did not save the notebook file prior to running the cell containing \"export\". We cannot see your output if you do not save before generating the zip file. This deduction will become stricter for future projects. (-3)'. The public tests cannot determine if your code satisfies these requirements. Verify your code manually.</p><p><strong><pre style='display: inline;'>general_deductions - 2</pre> message:</strong> Note that the Gradescope autograder will deduct points if your code fails the following rubric point - 'Functions are defined more than once. (-3)'. The public tests cannot determine if your code satisfies these requirements. Verify your code manually.</p><p><strong><pre style='display: inline;'>general_deductions - 3</pre> message:</strong> Note that the Gradescope autograder will deduct points if your code fails the following rubric point - 'Import statements are not all placed at the top of the notebook. (-1)'. The public tests cannot determine if your code satisfies these requirements. Verify your code manually.</p><p><strong><pre style='display: inline;'>general_deductions - 4</pre> message:</strong> Note that the Gradescope autograder will deduct points if your code fails the following rubric point - 'Used concepts or modules not covered in class yet. (-5)'. The public tests cannot determine if your code satisfies these requirements. Verify your code manually.</p>"
      ],
      "text/plain": [
       "general_deductions results: All test cases passed!\n",
       "general_deductions - 1 message: Note that the Gradescope autograder will deduct points if your code fails the following rubric point - 'Did not save the notebook file prior to running the cell containing \"export\". We cannot see your output if you do not save before generating the zip file. This deduction will become stricter for future projects. (-3)'. The public tests cannot determine if your code satisfies these requirements. Verify your code manually.\n",
       "general_deductions - 2 message: Note that the Gradescope autograder will deduct points if your code fails the following rubric point - 'Functions are defined more than once. (-3)'. The public tests cannot determine if your code satisfies these requirements. Verify your code manually.\n",
       "general_deductions - 3 message: Note that the Gradescope autograder will deduct points if your code fails the following rubric point - 'Import statements are not all placed at the top of the notebook. (-1)'. The public tests cannot determine if your code satisfies these requirements. Verify your code manually.\n",
       "general_deductions - 4 message: Note that the Gradescope autograder will deduct points if your code fails the following rubric point - 'Used concepts or modules not covered in class yet. (-5)'. The public tests cannot determine if your code satisfies these requirements. Verify your code manually."
      ]
     },
     "execution_count": 61,
     "metadata": {},
     "output_type": "execute_result"
    }
   ],
   "source": [
    "grader.check(\"general_deductions\")"
   ]
  },
  {
   "cell_type": "code",
   "execution_count": 62,
   "id": "1026a21e",
   "metadata": {
    "deletable": false,
    "editable": false
   },
   "outputs": [
    {
     "data": {
      "text/html": [
       "<p><strong><pre style='display: inline;'>summary</pre></strong> passed! 🌈</p>"
      ],
      "text/plain": [
       "summary results: All test cases passed!"
      ]
     },
     "execution_count": 62,
     "metadata": {},
     "output_type": "execute_result"
    }
   ],
   "source": [
    "grader.check(\"summary\")"
   ]
  },
  {
   "cell_type": "markdown",
   "id": "041e11bb",
   "metadata": {
    "deletable": false,
    "editable": false
   },
   "source": [
    "## Submission\n",
    "It is recommended that at this stage, you Restart and Run all Cells in your notebook.\n",
    "That will automatically save your work and generate a zip file for you to submit.\n",
    "\n",
    "**SUBMISSION INSTRUCTIONS**:\n",
    "1. **Upload** the zipfile to Gradescope.\n",
    "2. If you completed the project with a **partner**, make sure to **add their name** by clicking \"Add Group Member\"\n",
    "in Gradescope when uploading the zip file.\n",
    "3. Check **Gradescope** results as soon as the auto-grader execution gets completed.\n",
    "4. Your **final score** for this project is the score that you see on **Gradescope**.\n",
    "5. You are **allowed** to resubmit on Gradescope as many times as you want to.\n",
    "6. **Contact** a TA/PM if you lose any points on Gradescope for any **unclear reasons**."
   ]
  },
  {
   "cell_type": "code",
   "execution_count": null,
   "id": "4553a16d",
   "metadata": {
    "cell_type": "code",
    "deletable": false,
    "editable": false
   },
   "outputs": [],
   "source": [
    "# running this cell will create a new save checkpoint for your notebook\n",
    "from IPython.display import display, Javascript\n",
    "display(Javascript('IPython.notebook.save_checkpoint();'))"
   ]
  },
  {
   "cell_type": "code",
   "execution_count": null,
   "id": "d3b67df4",
   "metadata": {
    "cell_type": "code",
    "deletable": false,
    "editable": false
   },
   "outputs": [],
   "source": [
    "!jupytext --to py p5.ipynb"
   ]
  },
  {
   "cell_type": "code",
   "execution_count": null,
   "id": "b960e70c",
   "metadata": {
    "cell_type": "code",
    "deletable": false,
    "editable": false
   },
   "outputs": [],
   "source": [
    "public_tests.check_file_size(\"p5.ipynb\")\n",
    "grader.export(pdf=False, run_tests=False, files=[\"p5.py\"])"
   ]
  },
  {
   "cell_type": "markdown",
   "id": "059c2729",
   "metadata": {
    "deletable": false,
    "editable": false
   },
   "source": [
    " "
   ]
  }
 ],
 "metadata": {
  "kernelspec": {
   "display_name": "Python 3 (ipykernel)",
   "language": "python",
   "name": "python3"
  },
  "language_info": {
   "codemirror_mode": {
    "name": "ipython",
    "version": 3
   },
   "file_extension": ".py",
   "mimetype": "text/x-python",
   "name": "python",
   "nbconvert_exporter": "python",
   "pygments_lexer": "ipython3",
   "version": "3.11.4"
  },
  "otter": {
   "OK_FORMAT": true,
   "tests": {
    "deadliest_in_range": {
     "name": "deadliest_in_range",
     "points": 0,
     "suites": [
      {
       "cases": [
        {
         "code": ">>> \n>>> public_tests.rubric_check('deadliest_in_range: variable to store the index of the deadliest hurricane is not initialized as `None`')\nAll test cases passed!\n",
         "hidden": false,
         "locked": false,
         "success_message": "Note that the Gradescope autograder will deduct points if your code fails the following rubric point - 'variable to store the index of the deadliest hurricane is not initialized as `None` (-1)'. The public tests cannot determine if your code satisfies these requirements. Verify your code manually."
        },
        {
         "code": ">>> \n>>> public_tests.rubric_check('deadliest_in_range: function does not consider all hurricanes active between `year1` and `year2`')\nAll test cases passed!\n",
         "hidden": false,
         "locked": false,
         "success_message": "Note that the Gradescope autograder will deduct points if your code fails the following rubric point - 'function does not consider all hurricanes active between `year1` and `year2` (-1)'. The public tests cannot determine if your code satisfies these requirements. Verify your code manually."
        },
        {
         "code": ">>> \n>>> public_tests.rubric_check('deadliest_in_range: number of hurricanes in the dataset is hardcoded')\nAll test cases passed!\n",
         "hidden": false,
         "locked": false,
         "success_message": "Note that the Gradescope autograder will deduct points if your code fails the following rubric point - 'number of hurricanes in the dataset is hardcoded (-1)'. The public tests cannot determine if your code satisfies these requirements. Verify your code manually."
        },
        {
         "code": ">>> \n>>> public_tests.rubric_check('deadliest_in_range: function logic is incorrect', False)\nAll test cases passed!\n",
         "hidden": false,
         "locked": false,
         "success_message": "Note that the Gradescope autograder will deduct points if your code fails the following rubric point - 'function logic is incorrect (-1)'. The public tests cannot determine if your code satisfies these requirements. Verify your code manually."
        }
       ],
       "scored": true,
       "setup": "",
       "teardown": "",
       "type": "doctest"
      }
     ]
    },
    "format_damage": {
     "name": "format_damage",
     "points": 0,
     "suites": [
      {
       "cases": [
        {
         "code": ">>> \n>>> public_tests.rubric_check('format_damage: function output is incorrect when the damage has suffix `K`')\nAll test cases passed!\n",
         "hidden": false,
         "locked": false,
         "success_message": "Note that the Gradescope autograder will deduct points if your code fails the following rubric point - 'function output is incorrect when the damage has suffix `K` (-1)'. The public tests cannot determine if your code satisfies these requirements. Verify your code manually."
        },
        {
         "code": ">>> \n>>> public_tests.rubric_check('format_damage: function output is incorrect when the damage has suffix `M`')\nAll test cases passed!\n",
         "hidden": false,
         "locked": false,
         "success_message": "Note that the Gradescope autograder will deduct points if your code fails the following rubric point - 'function output is incorrect when the damage has suffix `M` (-1)'. The public tests cannot determine if your code satisfies these requirements. Verify your code manually."
        },
        {
         "code": ">>> \n>>> public_tests.rubric_check('format_damage: function output is incorrect when the damage has suffix `B`')\nAll test cases passed!\n",
         "hidden": false,
         "locked": false,
         "success_message": "Note that the Gradescope autograder will deduct points if your code fails the following rubric point - 'function output is incorrect when the damage has suffix `B` (-1)'. The public tests cannot determine if your code satisfies these requirements. Verify your code manually."
        },
        {
         "code": ">>> \n>>> public_tests.rubric_check('format_damage: function output is incorrect when the damage has no suffix')\nAll test cases passed!\n",
         "hidden": false,
         "locked": false,
         "success_message": "Note that the Gradescope autograder will deduct points if your code fails the following rubric point - 'function output is incorrect when the damage has no suffix (-1)'. The public tests cannot determine if your code satisfies these requirements. Verify your code manually."
        }
       ],
       "scored": true,
       "setup": "",
       "teardown": "",
       "type": "doctest"
      }
     ]
    },
    "general_deductions": {
     "name": "general_deductions",
     "points": 0,
     "suites": [
      {
       "cases": [
        {
         "code": ">>> \n>>> public_tests.rubric_check('general_deductions: Did not save the notebook file prior to running the cell containing \"export\". We cannot see your output if you do not save before generating the zip file. This deduction will become stricter for future projects.')\nAll test cases passed!\n",
         "hidden": false,
         "locked": false,
         "success_message": "Note that the Gradescope autograder will deduct points if your code fails the following rubric point - 'Did not save the notebook file prior to running the cell containing \"export\". We cannot see your output if you do not save before generating the zip file. This deduction will become stricter for future projects. (-3)'. The public tests cannot determine if your code satisfies these requirements. Verify your code manually."
        },
        {
         "code": ">>> \n>>> public_tests.rubric_check('general_deductions: Functions are defined more than once.')\nAll test cases passed!\n",
         "hidden": false,
         "locked": false,
         "success_message": "Note that the Gradescope autograder will deduct points if your code fails the following rubric point - 'Functions are defined more than once. (-3)'. The public tests cannot determine if your code satisfies these requirements. Verify your code manually."
        },
        {
         "code": ">>> \n>>> public_tests.rubric_check('general_deductions: Import statements are not all placed at the top of the notebook.')\nAll test cases passed!\n",
         "hidden": false,
         "locked": false,
         "success_message": "Note that the Gradescope autograder will deduct points if your code fails the following rubric point - 'Import statements are not all placed at the top of the notebook. (-1)'. The public tests cannot determine if your code satisfies these requirements. Verify your code manually."
        },
        {
         "code": ">>> \n>>> public_tests.rubric_check('general_deductions: Used concepts or modules not covered in class yet.')\nAll test cases passed!\n",
         "hidden": false,
         "locked": false,
         "success_message": "Note that the Gradescope autograder will deduct points if your code fails the following rubric point - 'Used concepts or modules not covered in class yet. (-5)'. The public tests cannot determine if your code satisfies these requirements. Verify your code manually."
        }
       ],
       "scored": true,
       "setup": "",
       "teardown": "",
       "type": "doctest"
      }
     ]
    },
    "get_day": {
     "name": "get_day",
     "points": 0,
     "suites": [
      {
       "cases": [
        {
         "code": ">>> \n>>> public_tests.rubric_check('get_day: function logic is incorrect', False)\nAll test cases passed!\n",
         "hidden": false,
         "locked": false,
         "success_message": "Note that the Gradescope autograder will deduct points if your code fails the following rubric point - 'function logic is incorrect (-2)'. The public tests cannot determine if your code satisfies these requirements. Verify your code manually."
        }
       ],
       "scored": true,
       "setup": "",
       "teardown": "",
       "type": "doctest"
      }
     ]
    },
    "get_month": {
     "name": "get_month",
     "points": 0,
     "suites": [
      {
       "cases": [
        {
         "code": ">>> \n>>> public_tests.rubric_check('get_month: function logic is incorrect', False)\nAll test cases passed!\n",
         "hidden": false,
         "locked": false,
         "success_message": "Note that the Gradescope autograder will deduct points if your code fails the following rubric point - 'function logic is incorrect (-2)'. The public tests cannot determine if your code satisfies these requirements. Verify your code manually."
        }
       ],
       "scored": true,
       "setup": "",
       "teardown": "",
       "type": "doctest"
      }
     ]
    },
    "get_year": {
     "name": "get_year",
     "points": 0,
     "suites": [
      {
       "cases": [
        {
         "code": ">>> \n>>> public_tests.rubric_check('get_year: function logic is incorrect', False)\nAll test cases passed!\n",
         "hidden": false,
         "locked": false,
         "success_message": "Note that the Gradescope autograder will deduct points if your code fails the following rubric point - 'function logic is incorrect (-2)'. The public tests cannot determine if your code satisfies these requirements. Verify your code manually."
        }
       ],
       "scored": true,
       "setup": "",
       "teardown": "",
       "type": "doctest"
      }
     ]
    },
    "get_year_total": {
     "name": "get_year_total",
     "points": 0,
     "suites": [
      {
       "cases": [
        {
         "code": ">>> \n>>> public_tests.rubric_check('get_year_total: function logic is incorrect', False)\nAll test cases passed!\n",
         "hidden": false,
         "locked": false,
         "success_message": "Note that the Gradescope autograder will deduct points if your code fails the following rubric point - 'function logic is incorrect (-2)'. The public tests cannot determine if your code satisfies these requirements. Verify your code manually."
        },
        {
         "code": ">>> \n>>> public_tests.rubric_check('get_year_total: function `get_year` is not used to answer', False)\nAll test cases passed!\n",
         "hidden": false,
         "locked": false,
         "success_message": "Note that the Gradescope autograder will deduct points if your code fails the following rubric point - 'function `get_year` is not used to answer (-1)'. The public tests cannot determine if your code satisfies these requirements. Verify your code manually."
        },
        {
         "code": ">>> \n>>> public_tests.rubric_check('get_year_total: number of hurricanes in the dataset is hardcoded')\nAll test cases passed!\n",
         "hidden": false,
         "locked": false,
         "success_message": "Note that the Gradescope autograder will deduct points if your code fails the following rubric point - 'number of hurricanes in the dataset is hardcoded (-1)'. The public tests cannot determine if your code satisfies these requirements. Verify your code manually."
        },
        {
         "code": ">>> public_tests.rubric_check('get_year_total: public tests')\nAll test cases passed!\n",
         "hidden": false,
         "locked": false
        }
       ],
       "scored": true,
       "setup": "",
       "teardown": "",
       "type": "doctest"
      }
     ]
    },
    "q1": {
     "name": "q1",
     "points": 0,
     "suites": [
      {
       "cases": [
        {
         "code": ">>> public_tests.check('q1', num_hurricanes)\nAll test cases passed!\n",
         "hidden": false,
         "locked": false
        },
        {
         "code": ">>> \n>>> public_tests.rubric_check('q1: required function is not used', False)\nAll test cases passed!\n",
         "hidden": false,
         "locked": false,
         "success_message": "Note that the Gradescope autograder will deduct points if your code fails the following rubric point - 'required function is not used (-1)'. The public tests cannot determine if your code satisfies these requirements. Verify your code manually."
        },
        {
         "code": ">>> public_tests.rubric_check('q1: public tests')\nAll test cases passed!\n",
         "hidden": false,
         "locked": false
        }
       ],
       "scored": true,
       "setup": "",
       "teardown": "",
       "type": "doctest"
      }
     ]
    },
    "q10": {
     "name": "q10",
     "points": 0,
     "suites": [
      {
       "cases": [
        {
         "code": ">>> public_tests.check('q10', fastest_hurricane_damage)\nAll test cases passed!\n",
         "hidden": false,
         "locked": false
        },
        {
         "code": ">>> \n>>> public_tests.rubric_check('q10: incorrect logic is used to answer', False)\nAll test cases passed!\n",
         "hidden": false,
         "locked": false,
         "success_message": "Note that the Gradescope autograder will deduct points if your code fails the following rubric point - 'incorrect logic is used to answer (-2)'. The public tests cannot determine if your code satisfies these requirements. Verify your code manually."
        },
        {
         "code": ">>> \n>>> public_tests.rubric_check('q10: tie breaking is not implemented correctly')\nAll test cases passed!\n",
         "hidden": false,
         "locked": false,
         "success_message": "Note that the Gradescope autograder will deduct points if your code fails the following rubric point - 'tie breaking is not implemented correctly (-1)'. The public tests cannot determine if your code satisfies these requirements. Verify your code manually."
        },
        {
         "code": ">>> \n>>> public_tests.rubric_check('q10: number of hurricanes in the dataset is hardcoded')\nAll test cases passed!\n",
         "hidden": false,
         "locked": false,
         "success_message": "Note that the Gradescope autograder will deduct points if your code fails the following rubric point - 'number of hurricanes in the dataset is hardcoded (-1)'. The public tests cannot determine if your code satisfies these requirements. Verify your code manually."
        },
        {
         "code": ">>> public_tests.rubric_check('q10: public tests')\nAll test cases passed!\n",
         "hidden": false,
         "locked": false
        }
       ],
       "scored": true,
       "setup": "",
       "teardown": "",
       "type": "doctest"
      }
     ]
    },
    "q11": {
     "name": "q11",
     "points": 0,
     "suites": [
      {
       "cases": [
        {
         "code": ">>> public_tests.check('q11', earliest_billion_dollar_hurr)\nAll test cases passed!\n",
         "hidden": false,
         "locked": false
        },
        {
         "code": ">>> \n>>> public_tests.rubric_check('q11: variable to store the index or name of the earliest hurricane is not initialized as `None`')\nAll test cases passed!\n",
         "hidden": false,
         "locked": false,
         "success_message": "Note that the Gradescope autograder will deduct points if your code fails the following rubric point - 'variable to store the index or name of the earliest hurricane is not initialized as `None` (-1)'. The public tests cannot determine if your code satisfies these requirements. Verify your code manually."
        },
        {
         "code": ">>> \n>>> public_tests.rubric_check('q11: `get_year` function is not used to determine the year of formation', False)\nAll test cases passed!\n",
         "hidden": false,
         "locked": false,
         "success_message": "Note that the Gradescope autograder will deduct points if your code fails the following rubric point - '`get_year` function is not used to determine the year of formation (-1)'. The public tests cannot determine if your code satisfies these requirements. Verify your code manually."
        },
        {
         "code": ">>> \n>>> public_tests.rubric_check('q11: used indices of the hurricanes to determine the earliest hurricane')\nAll test cases passed!\n",
         "hidden": false,
         "locked": false,
         "success_message": "Note that the Gradescope autograder will deduct points if your code fails the following rubric point - 'used indices of the hurricanes to determine the earliest hurricane (-1)'. The public tests cannot determine if your code satisfies these requirements. Verify your code manually."
        },
        {
         "code": ">>> \n>>> public_tests.rubric_check('q11: hurricanes with damages <= 1B are not ignored')\nAll test cases passed!\n",
         "hidden": false,
         "locked": false,
         "success_message": "Note that the Gradescope autograder will deduct points if your code fails the following rubric point - 'hurricanes with damages <= 1B are not ignored (-1)'. The public tests cannot determine if your code satisfies these requirements. Verify your code manually."
        },
        {
         "code": ">>> \n>>> public_tests.rubric_check('q11: number of hurricanes in the dataset is hardcoded')\nAll test cases passed!\n",
         "hidden": false,
         "locked": false,
         "success_message": "Note that the Gradescope autograder will deduct points if your code fails the following rubric point - 'number of hurricanes in the dataset is hardcoded (-1)'. The public tests cannot determine if your code satisfies these requirements. Verify your code manually."
        },
        {
         "code": ">>> public_tests.rubric_check('q11: public tests')\nAll test cases passed!\n",
         "hidden": false,
         "locked": false
        }
       ],
       "scored": true,
       "setup": "",
       "teardown": "",
       "type": "doctest"
      }
     ]
    },
    "q12": {
     "name": "q12",
     "points": 0,
     "suites": [
      {
       "cases": [
        {
         "code": ">>> public_tests.check('q12', most_recent_100_billion_hurr)\nAll test cases passed!\n",
         "hidden": false,
         "locked": false
        },
        {
         "code": ">>> \n>>> public_tests.rubric_check('q12: variable to store the index or name of the most recent hurricane is not initialized as `None`')\nAll test cases passed!\n",
         "hidden": false,
         "locked": false,
         "success_message": "Note that the Gradescope autograder will deduct points if your code fails the following rubric point - 'variable to store the index or name of the most recent hurricane is not initialized as `None` (-1)'. The public tests cannot determine if your code satisfies these requirements. Verify your code manually."
        },
        {
         "code": ">>> \n>>> public_tests.rubric_check('q12: `get_year` function is not used to determine the year of formation', False)\nAll test cases passed!\n",
         "hidden": false,
         "locked": false,
         "success_message": "Note that the Gradescope autograder will deduct points if your code fails the following rubric point - '`get_year` function is not used to determine the year of formation (-1)'. The public tests cannot determine if your code satisfies these requirements. Verify your code manually."
        },
        {
         "code": ">>> \n>>> public_tests.rubric_check('q12: used indices of the hurricanes to determine the most recent hurricane')\nAll test cases passed!\n",
         "hidden": false,
         "locked": false,
         "success_message": "Note that the Gradescope autograder will deduct points if your code fails the following rubric point - 'used indices of the hurricanes to determine the most recent hurricane (-1)'. The public tests cannot determine if your code satisfies these requirements. Verify your code manually."
        },
        {
         "code": ">>> \n>>> public_tests.rubric_check('q12: hurricanes with damages <= 100B are not ignored')\nAll test cases passed!\n",
         "hidden": false,
         "locked": false,
         "success_message": "Note that the Gradescope autograder will deduct points if your code fails the following rubric point - 'hurricanes with damages <= 100B are not ignored (-1)'. The public tests cannot determine if your code satisfies these requirements. Verify your code manually."
        },
        {
         "code": ">>> \n>>> public_tests.rubric_check('q12: number of hurricanes in the dataset is hardcoded')\nAll test cases passed!\n",
         "hidden": false,
         "locked": false,
         "success_message": "Note that the Gradescope autograder will deduct points if your code fails the following rubric point - 'number of hurricanes in the dataset is hardcoded (-1)'. The public tests cannot determine if your code satisfies these requirements. Verify your code manually."
        },
        {
         "code": ">>> public_tests.rubric_check('q12: public tests')\nAll test cases passed!\n",
         "hidden": false,
         "locked": false
        }
       ],
       "scored": true,
       "setup": "",
       "teardown": "",
       "type": "doctest"
      }
     ]
    },
    "q13": {
     "name": "q13",
     "points": 0,
     "suites": [
      {
       "cases": [
        {
         "code": ">>> public_tests.check('q13', damage_by_deadliest_21st_century)\nAll test cases passed!\n",
         "hidden": false,
         "locked": false
        },
        {
         "code": ">>> \n>>> public_tests.rubric_check('q13: functions `deadliest_in_range` and `format_damage` are not used to answer', False)\nAll test cases passed!\n",
         "hidden": false,
         "locked": false,
         "success_message": "Note that the Gradescope autograder will deduct points if your code fails the following rubric point - 'functions `deadliest_in_range` and `format_damage` are not used to answer (-2)'. The public tests cannot determine if your code satisfies these requirements. Verify your code manually."
        },
        {
         "code": ">>> \n>>> public_tests.rubric_check('q13: incorrect logic is used to answer', False)\nAll test cases passed!\n",
         "hidden": false,
         "locked": false,
         "success_message": "Note that the Gradescope autograder will deduct points if your code fails the following rubric point - 'incorrect logic is used to answer (-2)'. The public tests cannot determine if your code satisfies these requirements. Verify your code manually."
        }
       ],
       "scored": true,
       "setup": "",
       "teardown": "",
       "type": "doctest"
      }
     ]
    },
    "q14": {
     "name": "q14",
     "points": 0,
     "suites": [
      {
       "cases": [
        {
         "code": ">>> public_tests.check('q14', speed_of_deadliest_20th_century)\nAll test cases passed!\n",
         "hidden": false,
         "locked": false
        },
        {
         "code": ">>> \n>>> public_tests.rubric_check('q14: function `deadliest_in_range` is not used to answer', False)\nAll test cases passed!\n",
         "hidden": false,
         "locked": false,
         "success_message": "Note that the Gradescope autograder will deduct points if your code fails the following rubric point - 'function `deadliest_in_range` is not used to answer (-2)'. The public tests cannot determine if your code satisfies these requirements. Verify your code manually."
        },
        {
         "code": ">>> \n>>> public_tests.rubric_check('q14: incorrect logic is used to answer', False)\nAll test cases passed!\n",
         "hidden": false,
         "locked": false,
         "success_message": "Note that the Gradescope autograder will deduct points if your code fails the following rubric point - 'incorrect logic is used to answer (-2)'. The public tests cannot determine if your code satisfies these requirements. Verify your code manually."
        }
       ],
       "scored": true,
       "setup": "",
       "teardown": "",
       "type": "doctest"
      }
     ]
    },
    "q15": {
     "name": "q15",
     "points": 0,
     "suites": [
      {
       "cases": [
        {
         "code": ">>> public_tests.check('q15', avg_hurricanes_in_oct)\nAll test cases passed!\n",
         "hidden": false,
         "locked": false
        },
        {
         "code": ">>> \n>>> public_tests.rubric_check('q15: functions `get_year` and `get_month` are not used to answer', False)\nAll test cases passed!\n",
         "hidden": false,
         "locked": false,
         "success_message": "Note that the Gradescope autograder will deduct points if your code fails the following rubric point - 'functions `get_year` and `get_month` are not used to answer (-1)'. The public tests cannot determine if your code satisfies these requirements. Verify your code manually."
        },
        {
         "code": ">>> \n>>> public_tests.rubric_check('q15: incorrect logic is used to answer', False)\nAll test cases passed!\n",
         "hidden": false,
         "locked": false,
         "success_message": "Note that the Gradescope autograder will deduct points if your code fails the following rubric point - 'incorrect logic is used to answer (-1)'. The public tests cannot determine if your code satisfies these requirements. Verify your code manually."
        },
        {
         "code": ">>> \n>>> public_tests.rubric_check('q15: number of hurricanes in the dataset is hardcoded')\nAll test cases passed!\n",
         "hidden": false,
         "locked": false,
         "success_message": "Note that the Gradescope autograder will deduct points if your code fails the following rubric point - 'number of hurricanes in the dataset is hardcoded (-1)'. The public tests cannot determine if your code satisfies these requirements. Verify your code manually."
        },
        {
         "code": ">>> public_tests.rubric_check('q15: public tests')\nAll test cases passed!\n",
         "hidden": false,
         "locked": false
        }
       ],
       "scored": true,
       "setup": "",
       "teardown": "",
       "type": "doctest"
      }
     ]
    },
    "q16": {
     "name": "q16",
     "points": 0,
     "suites": [
      {
       "cases": [
        {
         "code": ">>> public_tests.check('q16', total_hurricanes_2016)\nAll test cases passed!\n",
         "hidden": false,
         "locked": false
        },
        {
         "code": ">>> \n>>> public_tests.rubric_check('q16: function `get_year_total` is not used to answer', False)\nAll test cases passed!\n",
         "hidden": false,
         "locked": false,
         "success_message": "Note that the Gradescope autograder will deduct points if your code fails the following rubric point - 'function `get_year_total` is not used to answer (-3)'. The public tests cannot determine if your code satisfies these requirements. Verify your code manually."
        },
        {
         "code": ">>> public_tests.rubric_check('q16: public tests')\nAll test cases passed!\n",
         "hidden": false,
         "locked": false
        }
       ],
       "scored": true,
       "setup": "",
       "teardown": "",
       "type": "doctest"
      }
     ]
    },
    "q17": {
     "name": "q17",
     "points": 0,
     "suites": [
      {
       "cases": [
        {
         "code": ">>> public_tests.check('q17', total_hurricanes_in_last_decade)\nAll test cases passed!\n",
         "hidden": false,
         "locked": false
        },
        {
         "code": ">>> \n>>> public_tests.rubric_check('q17: function `get_year_total` is not used to answer', False)\nAll test cases passed!\n",
         "hidden": false,
         "locked": false,
         "success_message": "Note that the Gradescope autograder will deduct points if your code fails the following rubric point - 'function `get_year_total` is not used to answer (-2)'. The public tests cannot determine if your code satisfies these requirements. Verify your code manually."
        },
        {
         "code": ">>> \n>>> public_tests.rubric_check('q17: did not loop through the years in the last decade and hardcoded all ten years')\nAll test cases passed!\n",
         "hidden": false,
         "locked": false,
         "success_message": "Note that the Gradescope autograder will deduct points if your code fails the following rubric point - 'did not loop through the years in the last decade and hardcoded all ten years (-2)'. The public tests cannot determine if your code satisfies these requirements. Verify your code manually."
        },
        {
         "code": ">>> \n>>> public_tests.rubric_check('q17: incorrect logic is used to answer', False)\nAll test cases passed!\n",
         "hidden": false,
         "locked": false,
         "success_message": "Note that the Gradescope autograder will deduct points if your code fails the following rubric point - 'incorrect logic is used to answer (-1)'. The public tests cannot determine if your code satisfies these requirements. Verify your code manually."
        }
       ],
       "scored": true,
       "setup": "",
       "teardown": "",
       "type": "doctest"
      }
     ]
    },
    "q18": {
     "name": "q18",
     "points": 0,
     "suites": [
      {
       "cases": [
        {
         "code": ">>> public_tests.check('q18', year_with_most_hurricanes)\nAll test cases passed!\n",
         "hidden": false,
         "locked": false
        },
        {
         "code": ">>> \n>>> public_tests.rubric_check('q18: `year_with_most_hurricanes` is not initialized as some year in the twentieth century, or as `None`')\nAll test cases passed!\n",
         "hidden": false,
         "locked": false,
         "success_message": "Note that the Gradescope autograder will deduct points if your code fails the following rubric point - '`year_with_most_hurricanes` is not initialized as some year in the twentieth century, or as `None` (-2)'. The public tests cannot determine if your code satisfies these requirements. Verify your code manually."
        },
        {
         "code": ">>> \n>>> public_tests.rubric_check('q18: function `get_year_total` is not used to determine the year with the most hurricanes', False)\nAll test cases passed!\n",
         "hidden": false,
         "locked": false,
         "success_message": "Note that the Gradescope autograder will deduct points if your code fails the following rubric point - 'function `get_year_total` is not used to determine the year with the most hurricanes (-1)'. The public tests cannot determine if your code satisfies these requirements. Verify your code manually."
        },
        {
         "code": ">>> \n>>> public_tests.rubric_check('q18: tie breaking is not implemented correctly')\nAll test cases passed!\n",
         "hidden": false,
         "locked": false,
         "success_message": "Note that the Gradescope autograder will deduct points if your code fails the following rubric point - 'tie breaking is not implemented correctly (-1)'. The public tests cannot determine if your code satisfies these requirements. Verify your code manually."
        },
        {
         "code": ">>> \n>>> public_tests.rubric_check('q18: incorrect logic is used to answer', False)\nAll test cases passed!\n",
         "hidden": false,
         "locked": false,
         "success_message": "Note that the Gradescope autograder will deduct points if your code fails the following rubric point - 'incorrect logic is used to answer (-1)'. The public tests cannot determine if your code satisfies these requirements. Verify your code manually."
        }
       ],
       "scored": true,
       "setup": "",
       "teardown": "",
       "type": "doctest"
      }
     ]
    },
    "q19": {
     "name": "q19",
     "points": 0,
     "suites": [
      {
       "cases": [
        {
         "code": ">>> public_tests.check('q19', multiple_months_hurrs)\nAll test cases passed!\n",
         "hidden": false,
         "locked": false
        },
        {
         "code": ">>> \n>>> public_tests.rubric_check('q19: hurricanes that formed at the end of one year and dissipated at the end of the next are not considered')\nAll test cases passed!\n",
         "hidden": false,
         "locked": false,
         "success_message": "Note that the Gradescope autograder will deduct points if your code fails the following rubric point - 'hurricanes that formed at the end of one year and dissipated at the end of the next are not considered (-1)'. The public tests cannot determine if your code satisfies these requirements. Verify your code manually."
        },
        {
         "code": ">>> \n>>> public_tests.rubric_check('q19: incorrect logic is used to answer', False)\nAll test cases passed!\n",
         "hidden": false,
         "locked": false,
         "success_message": "Note that the Gradescope autograder will deduct points if your code fails the following rubric point - 'incorrect logic is used to answer (-1)'. The public tests cannot determine if your code satisfies these requirements. Verify your code manually."
        },
        {
         "code": ">>> \n>>> public_tests.rubric_check('q19: function `get_month` is not used to answer', False)\nAll test cases passed!\n",
         "hidden": false,
         "locked": false,
         "success_message": "Note that the Gradescope autograder will deduct points if your code fails the following rubric point - 'function `get_month` is not used to answer (-1)'. The public tests cannot determine if your code satisfies these requirements. Verify your code manually."
        },
        {
         "code": ">>> public_tests.rubric_check('q19: public tests')\nAll test cases passed!\n",
         "hidden": false,
         "locked": false
        }
       ],
       "scored": true,
       "setup": "",
       "teardown": "",
       "type": "doctest"
      }
     ]
    },
    "q2": {
     "name": "q2",
     "points": 0,
     "suites": [
      {
       "cases": [
        {
         "code": ">>> public_tests.check('q2', deaths_315)\nAll test cases passed!\n",
         "hidden": false,
         "locked": false
        },
        {
         "code": ">>> \n>>> public_tests.rubric_check('q2: required function is not used', False)\nAll test cases passed!\n",
         "hidden": false,
         "locked": false,
         "success_message": "Note that the Gradescope autograder will deduct points if your code fails the following rubric point - 'required function is not used (-1)'. The public tests cannot determine if your code satisfies these requirements. Verify your code manually."
        },
        {
         "code": ">>> public_tests.rubric_check('q2: public tests')\nAll test cases passed!\n",
         "hidden": false,
         "locked": false
        }
       ],
       "scored": true,
       "setup": "",
       "teardown": "",
       "type": "doctest"
      }
     ]
    },
    "q20": {
     "name": "q20",
     "points": 0,
     "suites": [
      {
       "cases": [
        {
         "code": ">>> public_tests.check('q20', average_damage_deadliest)\nAll test cases passed!\n",
         "hidden": false,
         "locked": false
        },
        {
         "code": ">>> \n>>> public_tests.rubric_check('q20: years with no deadliest hurricane are not ignored')\nAll test cases passed!\n",
         "hidden": false,
         "locked": false,
         "success_message": "Note that the Gradescope autograder will deduct points if your code fails the following rubric point - 'years with no deadliest hurricane are not ignored (-1)'. The public tests cannot determine if your code satisfies these requirements. Verify your code manually."
        },
        {
         "code": ">>> \n>>> public_tests.rubric_check('q20: all hurricanes formed between 2001 and 2023 are not considered')\nAll test cases passed!\n",
         "hidden": false,
         "locked": false,
         "success_message": "Note that the Gradescope autograder will deduct points if your code fails the following rubric point - 'all hurricanes formed between 2001 and 2023 are not considered (-1)'. The public tests cannot determine if your code satisfies these requirements. Verify your code manually."
        },
        {
         "code": ">>> \n>>> public_tests.rubric_check('q20: incorrect logic is used to answer', False)\nAll test cases passed!\n",
         "hidden": false,
         "locked": false,
         "success_message": "Note that the Gradescope autograder will deduct points if your code fails the following rubric point - 'incorrect logic is used to answer (-1)'. The public tests cannot determine if your code satisfies these requirements. Verify your code manually."
        },
        {
         "code": ">>> \n>>> public_tests.rubric_check('q20: functions `deadliest_in_range` and `format_damage` are not used to answer', False)\nAll test cases passed!\n",
         "hidden": false,
         "locked": false,
         "success_message": "Note that the Gradescope autograder will deduct points if your code fails the following rubric point - 'functions `deadliest_in_range` and `format_damage` are not used to answer (-1)'. The public tests cannot determine if your code satisfies these requirements. Verify your code manually."
        },
        {
         "code": ">>> public_tests.rubric_check('q20: public tests')\nAll test cases passed!\n",
         "hidden": false,
         "locked": false
        }
       ],
       "scored": true,
       "setup": "",
       "teardown": "",
       "type": "doctest"
      }
     ]
    },
    "q3": {
     "name": "q3",
     "points": 0,
     "suites": [
      {
       "cases": [
        {
         "code": ">>> public_tests.check('q3', name_last_index)\nAll test cases passed!\n",
         "hidden": false,
         "locked": false
        },
        {
         "code": ">>> \n>>> public_tests.rubric_check('q3: index of the last hurricane is hardcoded')\nAll test cases passed!\n",
         "hidden": false,
         "locked": false,
         "success_message": "Note that the Gradescope autograder will deduct points if your code fails the following rubric point - 'index of the last hurricane is hardcoded (-3)'. The public tests cannot determine if your code satisfies these requirements. Verify your code manually."
        },
        {
         "code": ">>> \n>>> public_tests.rubric_check('q3: required function is not used', False)\nAll test cases passed!\n",
         "hidden": false,
         "locked": false,
         "success_message": "Note that the Gradescope autograder will deduct points if your code fails the following rubric point - 'required function is not used (-1)'. The public tests cannot determine if your code satisfies these requirements. Verify your code manually."
        }
       ],
       "scored": true,
       "setup": "",
       "teardown": "",
       "type": "doctest"
      }
     ]
    },
    "q4": {
     "name": "q4",
     "points": 0,
     "suites": [
      {
       "cases": [
        {
         "code": ">>> public_tests.check('q4', zero_death_hurrs)\nAll test cases passed!\n",
         "hidden": false,
         "locked": false
        },
        {
         "code": ">>> \n>>> public_tests.rubric_check('q4: incorrect logic is used to answer', False)\nAll test cases passed!\n",
         "hidden": false,
         "locked": false,
         "success_message": "Note that the Gradescope autograder will deduct points if your code fails the following rubric point - 'incorrect logic is used to answer (-2)'. The public tests cannot determine if your code satisfies these requirements. Verify your code manually."
        },
        {
         "code": ">>> \n>>> public_tests.rubric_check('q4: number of hurricanes in the dataset is hardcoded')\nAll test cases passed!\n",
         "hidden": false,
         "locked": false,
         "success_message": "Note that the Gradescope autograder will deduct points if your code fails the following rubric point - 'number of hurricanes in the dataset is hardcoded (-1)'. The public tests cannot determine if your code satisfies these requirements. Verify your code manually."
        },
        {
         "code": ">>> public_tests.rubric_check('q4: public tests')\nAll test cases passed!\n",
         "hidden": false,
         "locked": false
        }
       ],
       "scored": true,
       "setup": "",
       "teardown": "",
       "type": "doctest"
      }
     ]
    },
    "q5": {
     "name": "q5",
     "points": 0,
     "suites": [
      {
       "cases": [
        {
         "code": ">>> public_tests.check('q5', max_speed)\nAll test cases passed!\n",
         "hidden": false,
         "locked": false
        },
        {
         "code": ">>> public_tests.rubric_check('q5: public tests')\nAll test cases passed!\n",
         "hidden": false,
         "locked": false
        }
       ],
       "scored": true,
       "setup": "",
       "teardown": "",
       "type": "doctest"
      }
     ]
    },
    "q6": {
     "name": "q6",
     "points": 0,
     "suites": [
      {
       "cases": [
        {
         "code": ">>> public_tests.check('q6', damage_igor)\nAll test cases passed!\n",
         "hidden": false,
         "locked": false
        },
        {
         "code": ">>> \n>>> public_tests.rubric_check('q6: did not exit loop and instead iterated further after finding the hurricane')\nAll test cases passed!\n",
         "hidden": false,
         "locked": false,
         "success_message": "Note that the Gradescope autograder will deduct points if your code fails the following rubric point - 'did not exit loop and instead iterated further after finding the hurricane (-2)'. The public tests cannot determine if your code satisfies these requirements. Verify your code manually."
        },
        {
         "code": ">>> \n>>> public_tests.rubric_check('q6: number of hurricanes in the dataset is hardcoded')\nAll test cases passed!\n",
         "hidden": false,
         "locked": false,
         "success_message": "Note that the Gradescope autograder will deduct points if your code fails the following rubric point - 'number of hurricanes in the dataset is hardcoded (-1)'. The public tests cannot determine if your code satisfies these requirements. Verify your code manually."
        },
        {
         "code": ">>> \n>>> public_tests.rubric_check('q6: `format_damage` function is not used to convert the damages into an integer', False)\nAll test cases passed!\n",
         "hidden": false,
         "locked": false,
         "success_message": "Note that the Gradescope autograder will deduct points if your code fails the following rubric point - '`format_damage` function is not used to convert the damages into an integer (-1)'. The public tests cannot determine if your code satisfies these requirements. Verify your code manually."
        }
       ],
       "scored": true,
       "setup": "",
       "teardown": "",
       "type": "doctest"
      }
     ]
    },
    "q7": {
     "name": "q7",
     "points": 0,
     "suites": [
      {
       "cases": [
        {
         "code": ">>> public_tests.check('q7', total_damage_karen)\nAll test cases passed!\n",
         "hidden": false,
         "locked": false
        },
        {
         "code": ">>> \n>>> public_tests.rubric_check('q7: incorrect logic is used to answer', False)\nAll test cases passed!\n",
         "hidden": false,
         "locked": false,
         "success_message": "Note that the Gradescope autograder will deduct points if your code fails the following rubric point - 'incorrect logic is used to answer (-2)'. The public tests cannot determine if your code satisfies these requirements. Verify your code manually."
        },
        {
         "code": ">>> \n>>> public_tests.rubric_check('q7: number of hurricanes in the dataset is hardcoded')\nAll test cases passed!\n",
         "hidden": false,
         "locked": false,
         "success_message": "Note that the Gradescope autograder will deduct points if your code fails the following rubric point - 'number of hurricanes in the dataset is hardcoded (-1)'. The public tests cannot determine if your code satisfies these requirements. Verify your code manually."
        },
        {
         "code": ">>> \n>>> public_tests.rubric_check('q7: `format_damage` function is not used to convert the damages into an integer', False)\nAll test cases passed!\n",
         "hidden": false,
         "locked": false,
         "success_message": "Note that the Gradescope autograder will deduct points if your code fails the following rubric point - '`format_damage` function is not used to convert the damages into an integer (-1)'. The public tests cannot determine if your code satisfies these requirements. Verify your code manually."
        }
       ],
       "scored": true,
       "setup": "",
       "teardown": "",
       "type": "doctest"
      }
     ]
    },
    "q8": {
     "name": "q8",
     "points": 0,
     "suites": [
      {
       "cases": [
        {
         "code": ">>> public_tests.check('q8', average_damage_starts_g)\nAll test cases passed!\n",
         "hidden": false,
         "locked": false
        },
        {
         "code": ">>> \n>>> public_tests.rubric_check('q8: incorrect logic is used to answer', False)\nAll test cases passed!\n",
         "hidden": false,
         "locked": false,
         "success_message": "Note that the Gradescope autograder will deduct points if your code fails the following rubric point - 'incorrect logic is used to answer (-2)'. The public tests cannot determine if your code satisfies these requirements. Verify your code manually."
        },
        {
         "code": ">>> \n>>> public_tests.rubric_check('q8: number of hurricanes in the dataset is hardcoded')\nAll test cases passed!\n",
         "hidden": false,
         "locked": false,
         "success_message": "Note that the Gradescope autograder will deduct points if your code fails the following rubric point - 'number of hurricanes in the dataset is hardcoded (-1)'. The public tests cannot determine if your code satisfies these requirements. Verify your code manually."
        },
        {
         "code": ">>> \n>>> public_tests.rubric_check('q8: `format_damage` function is not used to convert the damages into an integer', False)\nAll test cases passed!\n",
         "hidden": false,
         "locked": false,
         "success_message": "Note that the Gradescope autograder will deduct points if your code fails the following rubric point - '`format_damage` function is not used to convert the damages into an integer (-1)'. The public tests cannot determine if your code satisfies these requirements. Verify your code manually."
        }
       ],
       "scored": true,
       "setup": "",
       "teardown": "",
       "type": "doctest"
      }
     ]
    },
    "q9": {
     "name": "q9",
     "points": 0,
     "suites": [
      {
       "cases": [
        {
         "code": ">>> public_tests.check('q9', fastest_hurricane)\nAll test cases passed!\n",
         "hidden": false,
         "locked": false
        },
        {
         "code": ">>> \n>>> public_tests.rubric_check('q9: incorrect logic is used to answer', False)\nAll test cases passed!\n",
         "hidden": false,
         "locked": false,
         "success_message": "Note that the Gradescope autograder will deduct points if your code fails the following rubric point - 'incorrect logic is used to answer (-2)'. The public tests cannot determine if your code satisfies these requirements. Verify your code manually."
        },
        {
         "code": ">>> \n>>> public_tests.rubric_check('q9: tie breaking is not implemented correctly')\nAll test cases passed!\n",
         "hidden": false,
         "locked": false,
         "success_message": "Note that the Gradescope autograder will deduct points if your code fails the following rubric point - 'tie breaking is not implemented correctly (-1)'. The public tests cannot determine if your code satisfies these requirements. Verify your code manually."
        },
        {
         "code": ">>> \n>>> public_tests.rubric_check('q9: number of hurricanes in the dataset is hardcoded')\nAll test cases passed!\n",
         "hidden": false,
         "locked": false,
         "success_message": "Note that the Gradescope autograder will deduct points if your code fails the following rubric point - 'number of hurricanes in the dataset is hardcoded (-1)'. The public tests cannot determine if your code satisfies these requirements. Verify your code manually."
        },
        {
         "code": ">>> public_tests.rubric_check('q9: public tests')\nAll test cases passed!\n",
         "hidden": false,
         "locked": false
        }
       ],
       "scored": true,
       "setup": "",
       "teardown": "",
       "type": "doctest"
      }
     ]
    },
    "summary": {
     "name": "summary",
     "points": 127,
     "suites": [
      {
       "cases": [
        {
         "code": ">>> public_tests.get_summary()\nTotal Score: 100/100\n",
         "hidden": false,
         "locked": false
        }
       ],
       "scored": true,
       "setup": "",
       "teardown": "",
       "type": "doctest"
      }
     ]
    }
   }
  },
  "vscode": {
   "interpreter": {
    "hash": "aee8b7b246df8f9039afb4144a1f6fd8d2ca17a180786b69acc140d282b71a49"
   }
  }
 },
 "nbformat": 4,
 "nbformat_minor": 5
}
