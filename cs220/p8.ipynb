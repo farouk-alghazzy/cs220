{
 "cells": [
  {
   "cell_type": "code",
   "execution_count": 1,
   "id": "89149887",
   "metadata": {
    "cell_type": "code",
    "deletable": false,
    "editable": false
   },
   "outputs": [],
   "source": [
    "# import and initialize otter\n",
    "import otter\n",
    "grader = otter.Notebook(\"p8.ipynb\")"
   ]
  },
  {
   "cell_type": "code",
   "execution_count": 2,
   "id": "d2441430",
   "metadata": {
    "editable": false,
    "execution": {
     "iopub.execute_input": "2023-10-25T01:32:38.153714Z",
     "iopub.status.busy": "2023-10-25T01:32:38.153714Z",
     "iopub.status.idle": "2023-10-25T01:32:42.874114Z",
     "shell.execute_reply": "2023-10-25T01:32:42.873105Z"
    }
   },
   "outputs": [],
   "source": [
    "import public_tests"
   ]
  },
  {
   "cell_type": "code",
   "execution_count": 3,
   "id": "9f3cd828",
   "metadata": {
    "execution": {
     "iopub.execute_input": "2023-10-25T01:32:42.877114Z",
     "iopub.status.busy": "2023-10-25T01:32:42.877114Z",
     "iopub.status.idle": "2023-10-25T01:32:42.881565Z",
     "shell.execute_reply": "2023-10-25T01:32:42.880557Z"
    }
   },
   "outputs": [],
   "source": [
    "# PLEASE FILL IN THE DETAILS\n",
    "# enter none if you don't have a project partner\n",
    "# you will have to add your partner as a group member on Gradescope even after you fill this\n",
    "\n",
    "# project: p8\n",
    "# submitter: alghazzy\n",
    "# partner: jmbruggink\n",
    "# hours: 4"
   ]
  },
  {
   "cell_type": "markdown",
   "id": "42b829b9",
   "metadata": {
    "deletable": false,
    "editable": false
   },
   "source": [
    "# Project 8: Going to the Movies"
   ]
  },
  {
   "cell_type": "markdown",
   "id": "a9135660",
   "metadata": {
    "deletable": false,
    "editable": false
   },
   "source": [
    "## Learning Objectives:\n",
    "\n",
    "In this project, you will demonstrate how to:\n",
    "\n",
    "* integrate relevant information from various sources (e.g. multiple csv files),\n",
    "* build appropriate data structures for organized and informative presentation (e.g. list of dictionaries),\n",
    "* practice good coding style.\n",
    "\n",
    "Please go through [Lab-P8](https://git.doit.wisc.edu/cdis/cs/courses/cs220/cs220-f23-projects/-/tree/main/lab-p8) before working on this project. The lab introduces some useful techniques related to this project."
   ]
  },
  {
   "cell_type": "markdown",
   "id": "7faf8920",
   "metadata": {
    "deletable": false,
    "editable": false
   },
   "source": [
    "## Testing your code:\n",
    "\n",
    "Along with this notebook, you must have downloaded the file `public_tests.py`. If you are curious about how we test your code, you can explore this file, and specifically the function `get_expected_json`, to understand the expected answers to the questions."
   ]
  },
  {
   "cell_type": "markdown",
   "id": "9eefd1db",
   "metadata": {
    "deletable": false,
    "editable": false
   },
   "source": [
    "<h2 style=\"color:red\">Warning (Note on Academic Misconduct):</h2>\n",
    "\n",
    "**IMPORTANT**: **P8 and P9 are two parts of the same data analysis.** You **cannot** switch project partners between these two projects. That is if you partner up with someone for P8, you have to sustain that partnership until the end of P9. Now may be a good time to review [our course policies](https://cs220.cs.wisc.edu/f23/syllabus.html).\n",
    "\n",
    "Under any circumstances, **no more than two students are allowed to work together on a project** as mentioned in the course policies. If your code is flagged by our code similarity detection tools, **both partners will be responsible** for sharing/copying the code, even if the code is shared/copied by one of the partners with/from other non-partner student(s). Note that each case of plagiarism will be reported to the Dean of Students with a zero grade on the project. **If you think that someone cannot be your project partner then don’t make that student your lab partner.**\n",
    "\n",
    "**<font color = \"red\">Project partners must submit only one copy of their project on Gradescope, but they must include the names of both partners.</font>**"
   ]
  },
  {
   "cell_type": "markdown",
   "id": "3015cf0a",
   "metadata": {
    "deletable": false,
    "editable": false
   },
   "source": [
    "## Introduction:\n",
    "\n",
    "In this project and the next, we will be working on the [IMDb Movies Dataset](https://www.imdb.com/interfaces/). We will use Python to discover some cool facts about our favorite movies, cast, and directors.\n",
    "\n",
    "In this project, you will combine the data from the movie and mapping files into a more useful format.\n",
    "Start by downloading the following files: `public_tests.py`, `small_mapping.csv`, `small_movies.csv`, `mapping.csv`, and `movies.csv`."
   ]
  },
  {
   "cell_type": "markdown",
   "id": "35853075",
   "metadata": {
    "deletable": false,
    "editable": false
   },
   "source": [
    "## The Data:\n",
    "\n",
    "Open `movies.csv` and `mapping.csv` in any spreadsheet viewer, and see what the data looks like.\n",
    "`movies.csv` has ~75,000 rows and `mapping.csv` has ~220,000 rows. These files store information about **every** movie on the IMDb dataset which was released in the US, and received over **250** reviews on IMDb. These datasets are **very** large when compared to `small_movies.csv` and `small_mapping.csv` from [Lab-P8](https://git.doit.wisc.edu/cdis/cs/courses/cs220/cs220-f23-projects/-/tree/main/lab-p8), but the data is stored in the **same format**. For a description of the datasets, please refer back to [Lab-P8](https://git.doit.wisc.edu/cdis/cs/courses/cs220/cs220-f23-projects/-/tree/main/lab-p8).\n",
    "\n",
    "Before we start working with these very large datasets, let us start with the much smaller datasets, `small_movies.csv` and `small_mapping.csv` from Lab-P8. In the latter half of P8 and in P9, you will be working with `movies.csv` and `mapping.csv`. Since the files `movies.csv` and `mapping.csv` are large, some of the functions you write in P8 and P9 **may take a while to execute**. You do not have to panic if a single cell takes between 5 to 10 seconds to run. If any cell takes significantly longer, follow the recommendations below:\n",
    "\n",
    "- **Do not** call **slow functions** multiple times within a loop.\n",
    "- **Do not** call functions that **iterate over the entire dataset within a loop**; instead, call the function before the loop and store the result in a variable.\n",
    "- **Do not** compute quantities **inside a loop** if it can be computed outside the loop; for example, if you want to calculate the average of a list, you should use the loop to find the numerator and denominator but divide **once** after the loop ends instead of inside the loop."
   ]
  },
  {
   "cell_type": "markdown",
   "id": "0daf35ef",
   "metadata": {
    "deletable": false,
    "editable": false
   },
   "source": [
    "## Project Requirements:\n",
    "\n",
    "You **may not** hardcode indices in your code, unless the question explicitly asks you to do so. If you open your `.csv` files with Excel, manually count through the rows and use this number to loop through the dataset, this is also considered as hardcoding. If any instances of hardcoding are found during code review, the Gradescope autograder will **deduct** points from your public score.\n",
    "\n",
    "**Store** your final answer for each question in the **variable specified for each question**. This step is important because Otter grades your work by comparing the value of this variable against the correct answer.\n",
    "\n",
    "For some of the questions, we'll ask you to write (then use) a function to compute the answer. If you compute the answer **without** creating the function we ask you to write, the Gradescope autograder will **deduct** points from your public score, even if the way you did it produced the correct answer.\n",
    "\n",
    "#### Required Functions:\n",
    "- `get_mapping`\n",
    "- `get_raw_movies`\n",
    "- `get_movies`\n",
    "- `find_specific_movies`\n",
    "- `bucketize_by_genre`\n",
    "\n",
    "In this project, you will also be required to define certain **data structures**. If you do not create these data structures exactly as specified, the Gradescope autograder will **deduct** points from your public score, even if the way you did it produced the correct answer.\n",
    "\n",
    "#### Required Data Structures:\n",
    "- `small_movies_data`\n",
    "- `movies`\n",
    "- `genre_dict`\n",
    "\n",
    "You are only allowed to define these data structures **once** and the Gradescope autograder will **deduct** points from your public score if you redefine the values of these variables.\n",
    "\n",
    "In this project (and the next), you will be asked to create **lists** of movies. For all such questions, **unless it is explicitly mentioned otherwise**, the movies should be in the **same order** as in the `movies.csv` (or `small_movies.csv`) file. Similarly, for each movie, the **list** of `genres`, `directors`, and `cast` members should always be in the **same order** as in the `movies.csv` (or `small_movies.csv`) file.\n",
    "\n",
    "Students are only allowed to use Python commands and concepts that have been taught in the course prior to the release of P8. Therefore, you should not use the pandas module. The Gradescope autograder will **deduct** points from your public score otherwise.\n",
    "\n",
    "In addition, you are also **required** to follow the requirements below:\n",
    "- **Do not use the method `csv.DictReader` for P8**. Although the required output can be obtained using this method, one of the learning outcomes of this project is to demonstrate your ability to build dictionaries with your own code.  \n",
    "- Additional import statements beyond those that are stated in the directions are not allowed. For this project, we allow you to use `csv` and `copy` packages (that is, you can use the `import csv` and `import copy` statements in your submission). You should not use concepts / modules that are yet to be covered in this course; for example: you should **not** use modules like `pandas`.\n",
    "\n",
    "The Gradescope autograder will **deduct** points accordingly, if you don't follow the provided directions.\n",
    "\n",
    "For more details on what will cause you to lose points during code review and specific requirements, please take a look at the [Grading rubric](https://git.doit.wisc.edu/cdis/cs/courses/cs220/cs220-f23-projects/-/blob/main/p8/rubric.md)."
   ]
  },
  {
   "cell_type": "markdown",
   "id": "46ad82cf",
   "metadata": {
    "deletable": false,
    "editable": false
   },
   "source": [
    "## Questions and Functions:\n",
    "\n",
    "Let us start by importing all the modules we will need for this project.\n",
    "\n"
   ]
  },
  {
   "cell_type": "code",
   "execution_count": 4,
   "id": "f9be524b",
   "metadata": {
    "execution": {
     "iopub.execute_input": "2023-10-25T01:32:42.884564Z",
     "iopub.status.busy": "2023-10-25T01:32:42.884564Z",
     "iopub.status.idle": "2023-10-25T01:32:42.888977Z",
     "shell.execute_reply": "2023-10-25T01:32:42.888977Z"
    },
    "tags": []
   },
   "outputs": [],
   "source": [
    "# it is considered a good coding practice to place all import statements at the top of the notebook\n",
    "# please place all your import statements in this cell if you need to import any more modules for this project\n",
    "import csv\n",
    "import math\n",
    "import copy"
   ]
  },
  {
   "cell_type": "markdown",
   "id": "9e6fcda6",
   "metadata": {
    "deletable": false,
    "editable": false
   },
   "source": [
    "### Function 1: `get_mapping(path)`\n",
    "\n",
    "We require you to complete the below function to answer the next several questions (this is a **requirement**, and you will **lose points** if you do not implement this function). You may copy/paste code from your lab-p8 notebook to finish this function."
   ]
  },
  {
   "cell_type": "code",
   "execution_count": 5,
   "id": "71141b53",
   "metadata": {
    "execution": {
     "iopub.execute_input": "2023-10-25T01:32:42.893021Z",
     "iopub.status.busy": "2023-10-25T01:32:42.893021Z",
     "iopub.status.idle": "2023-10-25T01:32:42.922321Z",
     "shell.execute_reply": "2023-10-25T01:32:42.922321Z"
    },
    "tags": []
   },
   "outputs": [],
   "source": [
    "def process_csv(filename):\n",
    "    example_file = open(filename, encoding=\"utf-8\")\n",
    "    example_reader = csv.reader(example_file)\n",
    "    example_data = list(example_reader)\n",
    "    example_file.close()\n",
    "    return example_data\n",
    "def get_mapping(path):\n",
    "    csv_data = process_csv(path)\n",
    "    csv_header = csv_data[0]\n",
    "    rows = csv_data[0:]\n",
    "    dict_x = {}\n",
    "    \n",
    "    for row in rows:\n",
    "        dict_x[row[0]] = row[1]\n",
    "        \n",
    "    return dict_x"
   ]
  },
  {
   "cell_type": "code",
   "execution_count": 6,
   "id": "6f709d0d",
   "metadata": {
    "deletable": false,
    "editable": false
   },
   "outputs": [
    {
     "data": {
      "text/html": [
       "<p><strong><pre style='display: inline;'>get_mapping</pre></strong> passed! 🌟</p><p><strong><pre style='display: inline;'>get_mapping - 1</pre> message:</strong> Note that the Gradescope autograder will deduct points if your code fails the following rubric point - 'function logic is incorrect (-2)'. The public tests cannot determine if your code satisfies these requirements. Verify your code manually.</p><p><strong><pre style='display: inline;'>get_mapping - 2</pre> message:</strong> Note that the Gradescope autograder will deduct points if your code fails the following rubric point - 'function is defined more than once (-1)'. The public tests cannot determine if your code satisfies these requirements. Verify your code manually.</p>"
      ],
      "text/plain": [
       "get_mapping results: All test cases passed!\n",
       "get_mapping - 1 message: Note that the Gradescope autograder will deduct points if your code fails the following rubric point - 'function logic is incorrect (-2)'. The public tests cannot determine if your code satisfies these requirements. Verify your code manually.\n",
       "get_mapping - 2 message: Note that the Gradescope autograder will deduct points if your code fails the following rubric point - 'function is defined more than once (-1)'. The public tests cannot determine if your code satisfies these requirements. Verify your code manually."
      ]
     },
     "execution_count": 6,
     "metadata": {},
     "output_type": "execute_result"
    }
   ],
   "source": [
    "grader.check(\"get_mapping\")"
   ]
  },
  {
   "cell_type": "markdown",
   "id": "7ca4fd4d",
   "metadata": {
    "deletable": false,
    "editable": false
   },
   "source": [
    "**Question 1:** What is returned by `get_mapping(\"small_mapping.csv\")`?\n",
    "\n",
    "Your output **must** be a **dictionary** which maps the *IDs* in `small_mapping.csv` to *names*."
   ]
  },
  {
   "cell_type": "code",
   "execution_count": 7,
   "id": "f71853d1",
   "metadata": {
    "execution": {
     "iopub.execute_input": "2023-10-25T01:32:42.944408Z",
     "iopub.status.busy": "2023-10-25T01:32:42.943407Z",
     "iopub.status.idle": "2023-10-25T01:32:42.959450Z",
     "shell.execute_reply": "2023-10-25T01:32:42.959450Z"
    },
    "tags": []
   },
   "outputs": [
    {
     "data": {
      "text/plain": [
       "{'tt15398776': 'Oppenheimer',\n",
       " 'tt1517268': 'Barbie',\n",
       " 'nm0634240': 'Christopher Nolan',\n",
       " 'nm0614165': 'Cillian Murphy',\n",
       " 'nm1289434': 'Emily Blunt',\n",
       " 'nm0000354': 'Matt Damon',\n",
       " 'nm0000375': 'Robert Downey Jr.',\n",
       " 'nm1950086': 'Greta Gerwig',\n",
       " 'nm3053338': 'Margot Robbie',\n",
       " 'nm0331516': 'Ryan Gosling',\n",
       " 'nm4793987': 'Issa Rae',\n",
       " 'nm0571952': 'Kate McKinnon'}"
      ]
     },
     "execution_count": 7,
     "metadata": {},
     "output_type": "execute_result"
    }
   ],
   "source": [
    "# compute and store the answer in the variable 'small_mapping', then display it\n",
    "small_mapping = get_mapping(\"small_mapping.csv\")\n",
    "small_mapping"
   ]
  },
  {
   "cell_type": "code",
   "execution_count": 8,
   "id": "a5e46aff",
   "metadata": {
    "deletable": false,
    "editable": false
   },
   "outputs": [
    {
     "data": {
      "text/html": [
       "<p><strong><pre style='display: inline;'>q1</pre></strong> passed! 🎉</p><p><strong><pre style='display: inline;'>q1 - 2</pre> message:</strong> Note that the Gradescope autograder will deduct points if your code fails the following rubric point - '`get_mapping` function is not used to answer (-2)'. The public tests cannot determine if your code satisfies these requirements. Verify your code manually.</p>"
      ],
      "text/plain": [
       "q1 results: All test cases passed!\n",
       "q1 - 2 message: Note that the Gradescope autograder will deduct points if your code fails the following rubric point - '`get_mapping` function is not used to answer (-2)'. The public tests cannot determine if your code satisfies these requirements. Verify your code manually."
      ]
     },
     "execution_count": 8,
     "metadata": {},
     "output_type": "execute_result"
    }
   ],
   "source": [
    "grader.check(\"q1\")"
   ]
  },
  {
   "cell_type": "markdown",
   "id": "b3d567aa",
   "metadata": {
    "deletable": false,
    "editable": false
   },
   "source": [
    "**Question 2:** What is the **value** associated with the **key** *nm1289434*?\n",
    "\n",
    "Your output **must** be a **string**. You **must** use the variable `small_mapping` defined above to answer this question. You **must** not call the function `get_mapping` again on this dataset."
   ]
  },
  {
   "cell_type": "code",
   "execution_count": 9,
   "id": "64e14b92",
   "metadata": {
    "execution": {
     "iopub.execute_input": "2023-10-25T01:32:42.979105Z",
     "iopub.status.busy": "2023-10-25T01:32:42.978097Z",
     "iopub.status.idle": "2023-10-25T01:32:42.983931Z",
     "shell.execute_reply": "2023-10-25T01:32:42.983931Z"
    },
    "tags": []
   },
   "outputs": [
    {
     "data": {
      "text/plain": [
       "'Emily Blunt'"
      ]
     },
     "execution_count": 9,
     "metadata": {},
     "output_type": "execute_result"
    }
   ],
   "source": [
    "# access and store the answer in the variable 'nm1289434_value', then display it\n",
    "nm1289434_value = small_mapping['nm1289434']\n",
    "nm1289434_value"
   ]
  },
  {
   "cell_type": "code",
   "execution_count": 10,
   "id": "245fa868",
   "metadata": {
    "deletable": false,
    "editable": false
   },
   "outputs": [
    {
     "data": {
      "text/html": [
       "<p><strong><pre style='display: inline;'>q2</pre></strong> passed! 🚀</p><p><strong><pre style='display: inline;'>q2 - 2</pre> message:</strong> Note that the Gradescope autograder will deduct points if your code fails the following rubric point - '`small_mapping` data structure is not used to answer (-2)'. The public tests cannot determine if your code satisfies these requirements. Verify your code manually.</p><p><strong><pre style='display: inline;'>q2 - 3</pre> message:</strong> Note that the Gradescope autograder will deduct points if your code fails the following rubric point - 'answer uses loops to iterate over dictionary keys (-1)'. The public tests cannot determine if your code satisfies these requirements. Verify your code manually.</p>"
      ],
      "text/plain": [
       "q2 results: All test cases passed!\n",
       "q2 - 2 message: Note that the Gradescope autograder will deduct points if your code fails the following rubric point - '`small_mapping` data structure is not used to answer (-2)'. The public tests cannot determine if your code satisfies these requirements. Verify your code manually.\n",
       "q2 - 3 message: Note that the Gradescope autograder will deduct points if your code fails the following rubric point - 'answer uses loops to iterate over dictionary keys (-1)'. The public tests cannot determine if your code satisfies these requirements. Verify your code manually."
      ]
     },
     "execution_count": 10,
     "metadata": {},
     "output_type": "execute_result"
    }
   ],
   "source": [
    "grader.check(\"q2\")"
   ]
  },
  {
   "cell_type": "markdown",
   "id": "8a63b42f",
   "metadata": {
    "deletable": false,
    "editable": false
   },
   "source": [
    "**Question 3:** What are the **values** associated with **keys** that **begin** with *nm*?\n",
    "\n",
    "Your output **must** be a **list** of **strings**. You **must** find **only** the values of the keys that **begin** with *nm*, and **not** the keys that contain *nm*. You **must** use the variable `small_mapping` defined above to answer this question."
   ]
  },
  {
   "cell_type": "code",
   "execution_count": 11,
   "id": "6daacb3c",
   "metadata": {
    "execution": {
     "iopub.execute_input": "2023-10-25T01:32:43.008851Z",
     "iopub.status.busy": "2023-10-25T01:32:43.007834Z",
     "iopub.status.idle": "2023-10-25T01:32:43.014071Z",
     "shell.execute_reply": "2023-10-25T01:32:43.014071Z"
    },
    "tags": []
   },
   "outputs": [
    {
     "data": {
      "text/plain": [
       "['Christopher Nolan',\n",
       " 'Cillian Murphy',\n",
       " 'Emily Blunt',\n",
       " 'Matt Damon',\n",
       " 'Robert Downey Jr.',\n",
       " 'Greta Gerwig',\n",
       " 'Margot Robbie',\n",
       " 'Ryan Gosling',\n",
       " 'Issa Rae',\n",
       " 'Kate McKinnon']"
      ]
     },
     "execution_count": 11,
     "metadata": {},
     "output_type": "execute_result"
    }
   ],
   "source": [
    "# compute and store the answer in the variable 'nm_values', then display it\n",
    "nm_values = []\n",
    "for value in small_mapping:\n",
    "    if value[:2] == 'nm':\n",
    "        nm_values.append(small_mapping[value])\n",
    "nm_values"
   ]
  },
  {
   "cell_type": "code",
   "execution_count": 12,
   "id": "33c15e17",
   "metadata": {
    "deletable": false,
    "editable": false
   },
   "outputs": [
    {
     "data": {
      "text/html": [
       "<p><strong><pre style='display: inline;'>q3</pre></strong> passed! 🙌</p><p><strong><pre style='display: inline;'>q3 - 2</pre> message:</strong> Note that the Gradescope autograder will deduct points if your code fails the following rubric point - 'answer does not check only for keys that begin with *nm* (-1)'. The public tests cannot determine if your code satisfies these requirements. Verify your code manually.</p><p><strong><pre style='display: inline;'>q3 - 3</pre> message:</strong> Note that the Gradescope autograder will deduct points if your code fails the following rubric point - '`small_mapping` data structure is not used to answer (-2)'. The public tests cannot determine if your code satisfies these requirements. Verify your code manually.</p>"
      ],
      "text/plain": [
       "q3 results: All test cases passed!\n",
       "q3 - 2 message: Note that the Gradescope autograder will deduct points if your code fails the following rubric point - 'answer does not check only for keys that begin with *nm* (-1)'. The public tests cannot determine if your code satisfies these requirements. Verify your code manually.\n",
       "q3 - 3 message: Note that the Gradescope autograder will deduct points if your code fails the following rubric point - '`small_mapping` data structure is not used to answer (-2)'. The public tests cannot determine if your code satisfies these requirements. Verify your code manually."
      ]
     },
     "execution_count": 12,
     "metadata": {},
     "output_type": "execute_result"
    }
   ],
   "source": [
    "grader.check(\"q3\")"
   ]
  },
  {
   "cell_type": "markdown",
   "id": "f9c3a953",
   "metadata": {
    "deletable": false,
    "editable": false
   },
   "source": [
    "**Question 4:** Find the **keys** of the people (keys **beginning** with *nm*) whose **last name** is *Murphy*.\n",
    "\n",
    "Your output **must** be a **list** of **string(s)**. You **must** use the variable `small_mapping` defined above to answer this question.\n",
    "\n",
    "**Requirements:** Your **code** must be robust and satisfy all the requirements, even if you were to run this on a larger dataset (such as `mapping.csv`). In particular:\n",
    "1. You will **lose points** if your code would find people whose **first** name or **middle** name is *Murphy* (e.g. *Murphy Patrick Martin*, *Lisa Murphy Collins*).\n",
    "2. You will **lose points** if your code would find people whose **last** name contains *Murphy* as a **substring** (e.g. *Benjamin Harter-Murphy*). The name should be **exactly** *Murphy*. \n",
    "3. You will **lose points** if your code would find any **movie titles** (e.g. *Sergeant Murphy*)."
   ]
  },
  {
   "cell_type": "code",
   "execution_count": 13,
   "id": "61504cbc",
   "metadata": {
    "execution": {
     "iopub.execute_input": "2023-10-25T01:32:43.039582Z",
     "iopub.status.busy": "2023-10-25T01:32:43.038578Z",
     "iopub.status.idle": "2023-10-25T01:32:43.045041Z",
     "shell.execute_reply": "2023-10-25T01:32:43.045041Z"
    },
    "tags": []
   },
   "outputs": [
    {
     "data": {
      "text/plain": [
       "['nm0614165']"
      ]
     },
     "execution_count": 13,
     "metadata": {},
     "output_type": "execute_result"
    }
   ],
   "source": [
    "# compute and store the answer in the variable 'nm_murphy', then display it\n",
    "nm_murphy = []\n",
    "for key, value in small_mapping.items():\n",
    "    x = value.split()\n",
    "    if key[:2] == 'nm':\n",
    "        if len(x) > 0 and x[-1] == 'Murphy':\n",
    "            nm_murphy.append(key)\n",
    "nm_murphy"
   ]
  },
  {
   "cell_type": "code",
   "execution_count": 14,
   "id": "b38bba25",
   "metadata": {
    "deletable": false,
    "editable": false
   },
   "outputs": [
    {
     "data": {
      "text/html": [
       "<p><strong><pre style='display: inline;'>q4</pre></strong> passed! 🍀</p><p><strong><pre style='display: inline;'>q4 - 2</pre> message:</strong> Note that the Gradescope autograder will deduct points if your code fails the following rubric point - 'answer does not exclude people whose first name or middle name is Murphy (-1)'. The public tests cannot determine if your code satisfies these requirements. Verify your code manually.</p><p><strong><pre style='display: inline;'>q4 - 3</pre> message:</strong> Note that the Gradescope autograder will deduct points if your code fails the following rubric point - 'answer does not exclude people whose last name contains Murphy as a substring (-1)'. The public tests cannot determine if your code satisfies these requirements. Verify your code manually.</p><p><strong><pre style='display: inline;'>q4 - 4</pre> message:</strong> Note that the Gradescope autograder will deduct points if your code fails the following rubric point - 'answer does not exclude movie titles (-1)'. The public tests cannot determine if your code satisfies these requirements. Verify your code manually.</p><p><strong><pre style='display: inline;'>q4 - 5</pre> message:</strong> Note that the Gradescope autograder will deduct points if your code fails the following rubric point - '`small_mapping` data structure is not used to answer (-1)'. The public tests cannot determine if your code satisfies these requirements. Verify your code manually.</p>"
      ],
      "text/plain": [
       "q4 results: All test cases passed!\n",
       "q4 - 2 message: Note that the Gradescope autograder will deduct points if your code fails the following rubric point - 'answer does not exclude people whose first name or middle name is Murphy (-1)'. The public tests cannot determine if your code satisfies these requirements. Verify your code manually.\n",
       "q4 - 3 message: Note that the Gradescope autograder will deduct points if your code fails the following rubric point - 'answer does not exclude people whose last name contains Murphy as a substring (-1)'. The public tests cannot determine if your code satisfies these requirements. Verify your code manually.\n",
       "q4 - 4 message: Note that the Gradescope autograder will deduct points if your code fails the following rubric point - 'answer does not exclude movie titles (-1)'. The public tests cannot determine if your code satisfies these requirements. Verify your code manually.\n",
       "q4 - 5 message: Note that the Gradescope autograder will deduct points if your code fails the following rubric point - '`small_mapping` data structure is not used to answer (-1)'. The public tests cannot determine if your code satisfies these requirements. Verify your code manually."
      ]
     },
     "execution_count": 14,
     "metadata": {},
     "output_type": "execute_result"
    }
   ],
   "source": [
    "grader.check(\"q4\")"
   ]
  },
  {
   "cell_type": "markdown",
   "id": "78d35b42",
   "metadata": {
    "deletable": false,
    "editable": false
   },
   "source": [
    "#### Now, let's move on to reading the movie files!"
   ]
  },
  {
   "cell_type": "markdown",
   "id": "7c05fe97",
   "metadata": {
    "deletable": false,
    "editable": false
   },
   "source": [
    "### Function 2: `get_raw_movies(path)`\n",
    "\n",
    "We require you to complete the below function to answer the next several questions (this is a **requirement**, and you will **lose points** if you do not implement this function).\n",
    "\n",
    "This function **must** return a **list** of **dictionaries**, where each **dictionary** is of the following format:\n",
    "\n",
    "```python\n",
    "   {\n",
    "        'title': <title-id>,\n",
    "        'year': <the year as an integer>,\n",
    "        'duration': <the duration as an integer>,\n",
    "        'genres': [<genre1>, <genre2>, ...],\n",
    "        'rating': <the rating as a float>,\n",
    "        'directors': [<director-id1>, <director-id2>, ...],\n",
    "        'cast': [<actor-id1>, <actor-id2>, ....]\n",
    "    }\n",
    "```\n",
    "\n",
    "Here is an example:\n",
    "\n",
    "```python\n",
    "    {\n",
    "        'title': 'tt0033313',\n",
    "        'year': 1941,\n",
    "        'duration': 59,\n",
    "        'genres': ['Western'],\n",
    "        'rating': 5.2,\n",
    "        'directors': ['nm0496505'],\n",
    "        'cast': ['nm0193318', 'nm0254381', 'nm0279961', 'nm0910294', 'nm0852305']\n",
    "    }\n",
    "```\n",
    "\n",
    "You may copy/paste code from your lab-p8 notebook to finish this function."
   ]
  },
  {
   "cell_type": "code",
   "execution_count": 15,
   "id": "6d465073",
   "metadata": {
    "execution": {
     "iopub.execute_input": "2023-10-25T01:32:43.084274Z",
     "iopub.status.busy": "2023-10-25T01:32:43.083273Z",
     "iopub.status.idle": "2023-10-25T01:32:43.089667Z",
     "shell.execute_reply": "2023-10-25T01:32:43.089667Z"
    },
    "tags": []
   },
   "outputs": [],
   "source": [
    "def get_raw_movies(path):\n",
    "    raw_movies_list = []\n",
    "    with open(path, mode='r', newline='', encoding='utf-8') as file:\n",
    "        reader = csv.reader(file)\n",
    "        csv_header = next(reader)\n",
    "        for row in reader:\n",
    "            movie = {'title': row[csv_header.index('title')], 'year': int(row[csv_header.index('year')]), 'duration': int(row[csv_header.index('duration')]), 'genres': row[csv_header.index('genres')].split(', '), 'rating': float(row[csv_header.index('rating')]), 'directors': row[csv_header.index('directors')].split(', '), 'cast': row[csv_header.index('cast')].split(', ')}\n",
    "                    \n",
    "            raw_movies_list.append(movie)\n",
    "    return raw_movies_list\n",
    "    "
   ]
  },
  {
   "cell_type": "code",
   "execution_count": 16,
   "id": "7fc73103",
   "metadata": {
    "deletable": false,
    "editable": false
   },
   "outputs": [
    {
     "data": {
      "text/html": [
       "<p><strong><pre style='display: inline;'>get_raw_movies</pre></strong> passed! 🎉</p><p><strong><pre style='display: inline;'>get_raw_movies - 1</pre> message:</strong> Note that the Gradescope autograder will deduct points if your code fails the following rubric point - 'function logic is incorrect (-3)'. The public tests cannot determine if your code satisfies these requirements. Verify your code manually.</p><p><strong><pre style='display: inline;'>get_raw_movies - 2</pre> message:</strong> Note that the Gradescope autograder will deduct points if your code fails the following rubric point - 'column indices are hardcoded instead of using the header to identify column names (-1)'. The public tests cannot determine if your code satisfies these requirements. Verify your code manually.</p><p><strong><pre style='display: inline;'>get_raw_movies - 3</pre> message:</strong> Note that the Gradescope autograder will deduct points if your code fails the following rubric point - 'function is defined more than once (-1)'. The public tests cannot determine if your code satisfies these requirements. Verify your code manually.</p>"
      ],
      "text/plain": [
       "get_raw_movies results: All test cases passed!\n",
       "get_raw_movies - 1 message: Note that the Gradescope autograder will deduct points if your code fails the following rubric point - 'function logic is incorrect (-3)'. The public tests cannot determine if your code satisfies these requirements. Verify your code manually.\n",
       "get_raw_movies - 2 message: Note that the Gradescope autograder will deduct points if your code fails the following rubric point - 'column indices are hardcoded instead of using the header to identify column names (-1)'. The public tests cannot determine if your code satisfies these requirements. Verify your code manually.\n",
       "get_raw_movies - 3 message: Note that the Gradescope autograder will deduct points if your code fails the following rubric point - 'function is defined more than once (-1)'. The public tests cannot determine if your code satisfies these requirements. Verify your code manually."
      ]
     },
     "execution_count": 16,
     "metadata": {},
     "output_type": "execute_result"
    }
   ],
   "source": [
    "grader.check(\"get_raw_movies\")"
   ]
  },
  {
   "cell_type": "markdown",
   "id": "8b8f9257",
   "metadata": {
    "deletable": false,
    "editable": false
   },
   "source": [
    "**Question 5:** What is returned by `get_raw_movies(\"small_movies.csv\")`?\n",
    "\n",
    "Your output **must** be a **list** of **dictionaries** where each dictionary contains information about a movie."
   ]
  },
  {
   "cell_type": "code",
   "execution_count": 17,
   "id": "3e19dfc4",
   "metadata": {
    "execution": {
     "iopub.execute_input": "2023-10-25T01:32:43.114505Z",
     "iopub.status.busy": "2023-10-25T01:32:43.114505Z",
     "iopub.status.idle": "2023-10-25T01:32:43.120786Z",
     "shell.execute_reply": "2023-10-25T01:32:43.119777Z"
    },
    "tags": []
   },
   "outputs": [
    {
     "data": {
      "text/plain": [
       "[{'title': 'tt15398776',\n",
       "  'year': 2023,\n",
       "  'duration': 180,\n",
       "  'genres': ['Biography', 'Drama', 'History'],\n",
       "  'rating': 8.7,\n",
       "  'directors': ['nm0634240'],\n",
       "  'cast': ['nm0614165', 'nm1289434', 'nm0000354', 'nm0000375']},\n",
       " {'title': 'tt1517268',\n",
       "  'year': 2023,\n",
       "  'duration': 114,\n",
       "  'genres': ['Adventure', 'Comedy', 'Fantasy'],\n",
       "  'rating': 7.5,\n",
       "  'directors': ['nm1950086'],\n",
       "  'cast': ['nm3053338', 'nm0331516', 'nm4793987', 'nm0571952']}]"
      ]
     },
     "execution_count": 17,
     "metadata": {},
     "output_type": "execute_result"
    }
   ],
   "source": [
    "# compute and store the answer in the variable 'raw_small_movies', then display it\n",
    "raw_small_movies = get_raw_movies(\"small_movies.csv\")\n",
    "raw_small_movies"
   ]
  },
  {
   "cell_type": "code",
   "execution_count": 18,
   "id": "eb6c9dc4",
   "metadata": {
    "deletable": false,
    "editable": false
   },
   "outputs": [
    {
     "data": {
      "text/html": [
       "<p><strong><pre style='display: inline;'>q5</pre></strong> passed! 🎉</p><p><strong><pre style='display: inline;'>q5 - 2</pre> message:</strong> Note that the Gradescope autograder will deduct points if your code fails the following rubric point - '`get_raw_movies` function is not used to answer (-2)'. The public tests cannot determine if your code satisfies these requirements. Verify your code manually.</p>"
      ],
      "text/plain": [
       "q5 results: All test cases passed!\n",
       "q5 - 2 message: Note that the Gradescope autograder will deduct points if your code fails the following rubric point - '`get_raw_movies` function is not used to answer (-2)'. The public tests cannot determine if your code satisfies these requirements. Verify your code manually."
      ]
     },
     "execution_count": 18,
     "metadata": {},
     "output_type": "execute_result"
    }
   ],
   "source": [
    "grader.check(\"q5\")"
   ]
  },
  {
   "cell_type": "markdown",
   "id": "aa230a9a",
   "metadata": {
    "deletable": false,
    "editable": false
   },
   "source": [
    "If your answer looks correct, but does not pass `grader.check`, make sure that the **datatypes** are all correct. Also make sure that the **directors** and **cast**  are in the **same order** as in `small_movies.csv`."
   ]
  },
  {
   "cell_type": "markdown",
   "id": "dc812051",
   "metadata": {
    "deletable": false,
    "editable": false
   },
   "source": [
    "**Question 6:** How **many** cast members does the **first** movie have?\n",
    "\n",
    "Your output **must** be an **int**. You **must** use the variable `raw_small_movies` defined above to answer this question. You **must** not call the function `get_raw_movies` again on this dataset."
   ]
  },
  {
   "cell_type": "code",
   "execution_count": 19,
   "id": "eed90367",
   "metadata": {},
   "outputs": [
    {
     "data": {
      "text/plain": [
       "4"
      ]
     },
     "execution_count": 19,
     "metadata": {},
     "output_type": "execute_result"
    }
   ],
   "source": [
    "num_cast_first_movie = len(raw_small_movies[0]['cast'])\n",
    "num_cast_first_movie"
   ]
  },
  {
   "cell_type": "code",
   "execution_count": 20,
   "id": "284f0f1d",
   "metadata": {
    "deletable": false,
    "editable": false
   },
   "outputs": [
    {
     "data": {
      "text/html": [
       "<p><strong><pre style='display: inline;'>q6</pre></strong> passed! 🍀</p><p><strong><pre style='display: inline;'>q6 - 2</pre> message:</strong> Note that the Gradescope autograder will deduct points if your code fails the following rubric point - 'answer uses loops to find number of cast members (-1)'. The public tests cannot determine if your code satisfies these requirements. Verify your code manually.</p><p><strong><pre style='display: inline;'>q6 - 3</pre> message:</strong> Note that the Gradescope autograder will deduct points if your code fails the following rubric point - 'answer uses loops to iterate over dictionary keys (-1)'. The public tests cannot determine if your code satisfies these requirements. Verify your code manually.</p><p><strong><pre style='display: inline;'>q6 - 4</pre> message:</strong> Note that the Gradescope autograder will deduct points if your code fails the following rubric point - 'incorrect logic is used to answer (-1)'. The public tests cannot determine if your code satisfies these requirements. Verify your code manually.</p><p><strong><pre style='display: inline;'>q6 - 5</pre> message:</strong> Note that the Gradescope autograder will deduct points if your code fails the following rubric point - '`raw_small_movies` data structure is not used to answer (-1)'. The public tests cannot determine if your code satisfies these requirements. Verify your code manually.</p>"
      ],
      "text/plain": [
       "q6 results: All test cases passed!\n",
       "q6 - 2 message: Note that the Gradescope autograder will deduct points if your code fails the following rubric point - 'answer uses loops to find number of cast members (-1)'. The public tests cannot determine if your code satisfies these requirements. Verify your code manually.\n",
       "q6 - 3 message: Note that the Gradescope autograder will deduct points if your code fails the following rubric point - 'answer uses loops to iterate over dictionary keys (-1)'. The public tests cannot determine if your code satisfies these requirements. Verify your code manually.\n",
       "q6 - 4 message: Note that the Gradescope autograder will deduct points if your code fails the following rubric point - 'incorrect logic is used to answer (-1)'. The public tests cannot determine if your code satisfies these requirements. Verify your code manually.\n",
       "q6 - 5 message: Note that the Gradescope autograder will deduct points if your code fails the following rubric point - '`raw_small_movies` data structure is not used to answer (-1)'. The public tests cannot determine if your code satisfies these requirements. Verify your code manually."
      ]
     },
     "execution_count": 20,
     "metadata": {},
     "output_type": "execute_result"
    }
   ],
   "source": [
    "grader.check(\"q6\")"
   ]
  },
  {
   "cell_type": "markdown",
   "id": "2fae4e0a",
   "metadata": {
    "deletable": false,
    "editable": false
   },
   "source": [
    "**Question 7:** What is the *ID* of the **first** cast member listed for the **first** movie of the dataset?\n",
    "\n",
    "Your output **must** be a **string**. You **must** use the variable `raw_small_movies` defined above to answer this question."
   ]
  },
  {
   "cell_type": "code",
   "execution_count": 21,
   "id": "c4cb9999",
   "metadata": {
    "execution": {
     "iopub.execute_input": "2023-10-25T01:32:43.186600Z",
     "iopub.status.busy": "2023-10-25T01:32:43.185601Z",
     "iopub.status.idle": "2023-10-25T01:32:43.191002Z",
     "shell.execute_reply": "2023-10-25T01:32:43.191002Z"
    },
    "tags": []
   },
   "outputs": [
    {
     "data": {
      "text/plain": [
       "'nm0614165'"
      ]
     },
     "execution_count": 21,
     "metadata": {},
     "output_type": "execute_result"
    }
   ],
   "source": [
    "# compute and store the answer in the variable 'first_actor_id_first_movie', then display it\n",
    "first_actor_id_first_movie = raw_small_movies[0]['cast'][0]\n",
    "first_actor_id_first_movie"
   ]
  },
  {
   "cell_type": "code",
   "execution_count": 22,
   "id": "39849e94",
   "metadata": {
    "deletable": false,
    "editable": false
   },
   "outputs": [
    {
     "data": {
      "text/html": [
       "<p><strong><pre style='display: inline;'>q7</pre></strong> passed! ✨</p><p><strong><pre style='display: inline;'>q7 - 2</pre> message:</strong> Note that the Gradescope autograder will deduct points if your code fails the following rubric point - 'incorrect logic is used to answer (-1)'. The public tests cannot determine if your code satisfies these requirements. Verify your code manually.</p><p><strong><pre style='display: inline;'>q7 - 3</pre> message:</strong> Note that the Gradescope autograder will deduct points if your code fails the following rubric point - 'answer uses loops to iterate over dictionary keys (-1)'. The public tests cannot determine if your code satisfies these requirements. Verify your code manually.</p><p><strong><pre style='display: inline;'>q7 - 4</pre> message:</strong> Note that the Gradescope autograder will deduct points if your code fails the following rubric point - '`raw_small_movies` data structure is not used to answer (-1)'. The public tests cannot determine if your code satisfies these requirements. Verify your code manually.</p>"
      ],
      "text/plain": [
       "q7 results: All test cases passed!\n",
       "q7 - 2 message: Note that the Gradescope autograder will deduct points if your code fails the following rubric point - 'incorrect logic is used to answer (-1)'. The public tests cannot determine if your code satisfies these requirements. Verify your code manually.\n",
       "q7 - 3 message: Note that the Gradescope autograder will deduct points if your code fails the following rubric point - 'answer uses loops to iterate over dictionary keys (-1)'. The public tests cannot determine if your code satisfies these requirements. Verify your code manually.\n",
       "q7 - 4 message: Note that the Gradescope autograder will deduct points if your code fails the following rubric point - '`raw_small_movies` data structure is not used to answer (-1)'. The public tests cannot determine if your code satisfies these requirements. Verify your code manually."
      ]
     },
     "execution_count": 22,
     "metadata": {},
     "output_type": "execute_result"
    }
   ],
   "source": [
    "grader.check(\"q7\")"
   ]
  },
  {
   "cell_type": "markdown",
   "id": "f5b44c07",
   "metadata": {
    "deletable": false,
    "editable": false
   },
   "source": [
    "### Function 3: `get_movies(movies_path, mapping_path)`\n",
    "\n",
    "We require you to complete the below function to answer the next several questions (this is a **requirement**, and you will **lose points** if you do not implement this function).\n",
    "\n",
    "\n",
    "This function **must** return a **list** of **dictionaries**, where each **dictionary** is of the following format:\n",
    "\n",
    "```python\n",
    "   {\n",
    "        'title': \"the movie name\",\n",
    "        'year': <the year as an integer>,\n",
    "        'duration': <the duration as an integer>,\n",
    "        'genres': [<genre1>, <genre2>, ...],\n",
    "        'rating': <the rating as a float>,\n",
    "        'directors': [\"director-name1\", \"director-name2\", ...],\n",
    "        'cast': [\"actor-name1\", \"actor-name2\", ....]\n",
    "    }\n",
    "```\n",
    "\n",
    "Here is an example:\n",
    "\n",
    "```python\n",
    "    {\n",
    "        'title': 'Across the Sierras',\n",
    "        'year': 1941,\n",
    "        'duration': 59,\n",
    "        'genres': ['Western'],\n",
    "        'rating': 5.2,\n",
    "        'directors': ['D. Ross Lederman'],\n",
    "        'cast': ['Dick Curtis', 'Bill Elliott', 'Richard Fiske', 'Luana Walters', 'Dub Taylor']\n",
    "    }\n",
    "```\n",
    "\n",
    "You may copy/paste code from your Lab-P8 notebook to finish this function."
   ]
  },
  {
   "cell_type": "code",
   "execution_count": 23,
   "id": "64fffe3c",
   "metadata": {
    "execution": {
     "iopub.execute_input": "2023-10-25T01:32:43.225322Z",
     "iopub.status.busy": "2023-10-25T01:32:43.225322Z",
     "iopub.status.idle": "2023-10-25T01:32:43.231051Z",
     "shell.execute_reply": "2023-10-25T01:32:43.231051Z"
    },
    "tags": []
   },
   "outputs": [],
   "source": [
    "def get_movies(movies_path, mapping_path):\n",
    "    map_dict = get_mapping(mapping_path)\n",
    "    raw_movies = get_raw_movies(movies_path)\n",
    "    movies = []\n",
    "    for raw_movie in raw_movies:\n",
    "        movie = {} \n",
    "        movie['title'] = map_dict[raw_movie['title']]\n",
    "        movie['year'] = int(raw_movie['year'])\n",
    "        movie['duration'] = int(raw_movie['duration'])\n",
    "        movie['genres'] = raw_movie['genres']\n",
    "        movie['rating'] = float(raw_movie['rating'])\n",
    "        movie['directors'] = [map_dict[director] for director in raw_movie['directors']]\n",
    "        movie['cast'] = [map_dict[actor] for actor in raw_movie['cast']]\n",
    "        movies.append(movie)\n",
    "\n",
    "    return movies"
   ]
  },
  {
   "cell_type": "code",
   "execution_count": 24,
   "id": "30cb8f08",
   "metadata": {
    "deletable": false,
    "editable": false
   },
   "outputs": [
    {
     "data": {
      "text/html": [
       "<p><strong><pre style='display: inline;'>get_movies</pre></strong> passed! 🙌</p><p><strong><pre style='display: inline;'>get_movies - 1</pre> message:</strong> Note that the Gradescope autograder will deduct points if your code fails the following rubric point - 'function is called more than once with the same dataset (-4)'. The public tests cannot determine if your code satisfies these requirements. Verify your code manually.</p><p><strong><pre style='display: inline;'>get_movies - 2</pre> message:</strong> Note that the Gradescope autograder will deduct points if your code fails the following rubric point - 'function logic is incorrect (-2)'. The public tests cannot determine if your code satisfies these requirements. Verify your code manually.</p><p><strong><pre style='display: inline;'>get_movies - 3</pre> message:</strong> Note that the Gradescope autograder will deduct points if your code fails the following rubric point - '`get_mapping` and `get_raw_movies` functions are not used (-1)'. The public tests cannot determine if your code satisfies these requirements. Verify your code manually.</p><p><strong><pre style='display: inline;'>get_movies - 4</pre> message:</strong> Note that the Gradescope autograder will deduct points if your code fails the following rubric point - 'function loops through IDs in the `mapping_path` file (-1)'. The public tests cannot determine if your code satisfies these requirements. Verify your code manually.</p>"
      ],
      "text/plain": [
       "get_movies results: All test cases passed!\n",
       "get_movies - 1 message: Note that the Gradescope autograder will deduct points if your code fails the following rubric point - 'function is called more than once with the same dataset (-4)'. The public tests cannot determine if your code satisfies these requirements. Verify your code manually.\n",
       "get_movies - 2 message: Note that the Gradescope autograder will deduct points if your code fails the following rubric point - 'function logic is incorrect (-2)'. The public tests cannot determine if your code satisfies these requirements. Verify your code manually.\n",
       "get_movies - 3 message: Note that the Gradescope autograder will deduct points if your code fails the following rubric point - '`get_mapping` and `get_raw_movies` functions are not used (-1)'. The public tests cannot determine if your code satisfies these requirements. Verify your code manually.\n",
       "get_movies - 4 message: Note that the Gradescope autograder will deduct points if your code fails the following rubric point - 'function loops through IDs in the `mapping_path` file (-1)'. The public tests cannot determine if your code satisfies these requirements. Verify your code manually."
      ]
     },
     "execution_count": 24,
     "metadata": {},
     "output_type": "execute_result"
    }
   ],
   "source": [
    "grader.check(\"get_movies\")"
   ]
  },
  {
   "cell_type": "markdown",
   "id": "0aa3f6e2",
   "metadata": {
    "deletable": false,
    "editable": false
   },
   "source": [
    "**Question 8:** What is returned by `get_movies(\"small_movies.csv\", \"small_mapping.csv\")`?\n",
    "\n",
    "Your output **must** be a **list** of **dictionaries** where each dictionary contains information about a movie."
   ]
  },
  {
   "cell_type": "code",
   "execution_count": 25,
   "id": "d46e7dca",
   "metadata": {
    "execution": {
     "iopub.execute_input": "2023-10-25T01:32:43.265752Z",
     "iopub.status.busy": "2023-10-25T01:32:43.265752Z",
     "iopub.status.idle": "2023-10-25T01:32:43.271849Z",
     "shell.execute_reply": "2023-10-25T01:32:43.271849Z"
    },
    "tags": []
   },
   "outputs": [
    {
     "data": {
      "text/plain": [
       "[{'title': 'Oppenheimer',\n",
       "  'year': 2023,\n",
       "  'duration': 180,\n",
       "  'genres': ['Biography', 'Drama', 'History'],\n",
       "  'rating': 8.7,\n",
       "  'directors': ['Christopher Nolan'],\n",
       "  'cast': ['Cillian Murphy',\n",
       "   'Emily Blunt',\n",
       "   'Matt Damon',\n",
       "   'Robert Downey Jr.']},\n",
       " {'title': 'Barbie',\n",
       "  'year': 2023,\n",
       "  'duration': 114,\n",
       "  'genres': ['Adventure', 'Comedy', 'Fantasy'],\n",
       "  'rating': 7.5,\n",
       "  'directors': ['Greta Gerwig'],\n",
       "  'cast': ['Margot Robbie', 'Ryan Gosling', 'Issa Rae', 'Kate McKinnon']}]"
      ]
     },
     "execution_count": 25,
     "metadata": {},
     "output_type": "execute_result"
    }
   ],
   "source": [
    "# compute and store the answer in the variable 'small_movies', then display it\n",
    "small_movies = get_movies(\"small_movies.csv\", \"small_mapping.csv\")\n",
    "small_movies"
   ]
  },
  {
   "cell_type": "code",
   "execution_count": 26,
   "id": "20934e06",
   "metadata": {
    "deletable": false,
    "editable": false
   },
   "outputs": [
    {
     "data": {
      "text/html": [
       "<p><strong><pre style='display: inline;'>q8</pre></strong> passed! ✨</p><p><strong><pre style='display: inline;'>q8 - 2</pre> message:</strong> Note that the Gradescope autograder will deduct points if your code fails the following rubric point - '`get_movies` function is not used to answer (-2)'. The public tests cannot determine if your code satisfies these requirements. Verify your code manually.</p>"
      ],
      "text/plain": [
       "q8 results: All test cases passed!\n",
       "q8 - 2 message: Note that the Gradescope autograder will deduct points if your code fails the following rubric point - '`get_movies` function is not used to answer (-2)'. The public tests cannot determine if your code satisfies these requirements. Verify your code manually."
      ]
     },
     "execution_count": 26,
     "metadata": {},
     "output_type": "execute_result"
    }
   ],
   "source": [
    "grader.check(\"q8\")"
   ]
  },
  {
   "cell_type": "code",
   "execution_count": 27,
   "id": "78a19f5a",
   "metadata": {
    "deletable": false,
    "editable": false
   },
   "outputs": [
    {
     "data": {
      "text/html": [
       "<p><strong><pre style='display: inline;'>small_movies</pre></strong> passed! 🍀</p><p><strong><pre style='display: inline;'>small_movies - 1</pre> message:</strong> Note that the Gradescope autograder will deduct points if your code fails the following rubric point - 'data structure is defined incorrectly (-2)'. The public tests cannot determine if your code satisfies these requirements. Verify your code manually.</p><p><strong><pre style='display: inline;'>small_movies - 2</pre> message:</strong> Note that the Gradescope autograder will deduct points if your code fails the following rubric point - 'data structure is redefined or modified after its initialization (-1)'. The public tests cannot determine if your code satisfies these requirements. Verify your code manually.</p>"
      ],
      "text/plain": [
       "small_movies results: All test cases passed!\n",
       "small_movies - 1 message: Note that the Gradescope autograder will deduct points if your code fails the following rubric point - 'data structure is defined incorrectly (-2)'. The public tests cannot determine if your code satisfies these requirements. Verify your code manually.\n",
       "small_movies - 2 message: Note that the Gradescope autograder will deduct points if your code fails the following rubric point - 'data structure is redefined or modified after its initialization (-1)'. The public tests cannot determine if your code satisfies these requirements. Verify your code manually."
      ]
     },
     "execution_count": 27,
     "metadata": {},
     "output_type": "execute_result"
    }
   ],
   "source": [
    "grader.check(\"small_movies\")"
   ]
  },
  {
   "cell_type": "markdown",
   "id": "41500355",
   "metadata": {
    "deletable": false,
    "editable": false
   },
   "source": [
    "**Question 9:** What is `title` of the **second** movie in `small_movies`?\n",
    "\n",
    "Your output **must** be a **string**. You **must** use the variable `small_movies` defined above to answer this question. You **must not** call the function `get_movies` again on this dataset."
   ]
  },
  {
   "cell_type": "code",
   "execution_count": 28,
   "id": "de010691",
   "metadata": {
    "execution": {
     "iopub.execute_input": "2023-10-25T01:32:43.305436Z",
     "iopub.status.busy": "2023-10-25T01:32:43.305436Z",
     "iopub.status.idle": "2023-10-25T01:32:43.310020Z",
     "shell.execute_reply": "2023-10-25T01:32:43.310020Z"
    },
    "tags": []
   },
   "outputs": [
    {
     "data": {
      "text/plain": [
       "'Barbie'"
      ]
     },
     "execution_count": 28,
     "metadata": {},
     "output_type": "execute_result"
    }
   ],
   "source": [
    "# compute and store the answer in the variable 'second_movie_title_small_movies', then display it\n",
    "second_movie_title_small_movies = small_movies[1]['title']\n",
    "second_movie_title_small_movies"
   ]
  },
  {
   "cell_type": "code",
   "execution_count": 29,
   "id": "e3a5f04f",
   "metadata": {
    "deletable": false,
    "editable": false
   },
   "outputs": [
    {
     "data": {
      "text/html": [
       "<p><strong><pre style='display: inline;'>q9</pre></strong> passed! 🍀</p><p><strong><pre style='display: inline;'>q9 - 2</pre> message:</strong> Note that the Gradescope autograder will deduct points if your code fails the following rubric point - 'incorrect logic is used to answer (-1)'. The public tests cannot determine if your code satisfies these requirements. Verify your code manually.</p><p><strong><pre style='display: inline;'>q9 - 3</pre> message:</strong> Note that the Gradescope autograder will deduct points if your code fails the following rubric point - 'answer uses loops to iterate over dictionary keys (-1)'. The public tests cannot determine if your code satisfies these requirements. Verify your code manually.</p><p><strong><pre style='display: inline;'>q9 - 4</pre> message:</strong> Note that the Gradescope autograder will deduct points if your code fails the following rubric point - '`small_movies` data structure is not used to answer (-2)'. The public tests cannot determine if your code satisfies these requirements. Verify your code manually.</p>"
      ],
      "text/plain": [
       "q9 results: All test cases passed!\n",
       "q9 - 2 message: Note that the Gradescope autograder will deduct points if your code fails the following rubric point - 'incorrect logic is used to answer (-1)'. The public tests cannot determine if your code satisfies these requirements. Verify your code manually.\n",
       "q9 - 3 message: Note that the Gradescope autograder will deduct points if your code fails the following rubric point - 'answer uses loops to iterate over dictionary keys (-1)'. The public tests cannot determine if your code satisfies these requirements. Verify your code manually.\n",
       "q9 - 4 message: Note that the Gradescope autograder will deduct points if your code fails the following rubric point - '`small_movies` data structure is not used to answer (-2)'. The public tests cannot determine if your code satisfies these requirements. Verify your code manually."
      ]
     },
     "execution_count": 29,
     "metadata": {},
     "output_type": "execute_result"
    }
   ],
   "source": [
    "grader.check(\"q9\")"
   ]
  },
  {
   "cell_type": "markdown",
   "id": "7e67cbbc",
   "metadata": {
    "deletable": false,
    "editable": false
   },
   "source": [
    "**Question 10:** Who are the `cast` members of the **second** movie in `small_movies`?\n",
    "\n",
    "Your output **must** be a **list** of **string(s)**. You **must** use the variable `small_movies` defined above to answer this question."
   ]
  },
  {
   "cell_type": "code",
   "execution_count": 30,
   "id": "c4bdd120",
   "metadata": {
    "execution": {
     "iopub.execute_input": "2023-10-25T01:32:43.344207Z",
     "iopub.status.busy": "2023-10-25T01:32:43.343206Z",
     "iopub.status.idle": "2023-10-25T01:32:43.348998Z",
     "shell.execute_reply": "2023-10-25T01:32:43.348998Z"
    },
    "tags": []
   },
   "outputs": [
    {
     "data": {
      "text/plain": [
       "['Margot Robbie', 'Ryan Gosling', 'Issa Rae', 'Kate McKinnon']"
      ]
     },
     "execution_count": 30,
     "metadata": {},
     "output_type": "execute_result"
    }
   ],
   "source": [
    "# compute and store the answer in the variable 'second_movie_cast_small_movies', then display it\n",
    "second_movie_cast_small_movies = small_movies[1]['cast']\n",
    "second_movie_cast_small_movies"
   ]
  },
  {
   "cell_type": "code",
   "execution_count": 31,
   "id": "5d7a9ddd",
   "metadata": {
    "deletable": false,
    "editable": false
   },
   "outputs": [
    {
     "data": {
      "text/html": [
       "<p><strong><pre style='display: inline;'>q10</pre></strong> passed! 🌟</p><p><strong><pre style='display: inline;'>q10 - 2</pre> message:</strong> Note that the Gradescope autograder will deduct points if your code fails the following rubric point - 'incorrect logic is used to answer (-1)'. The public tests cannot determine if your code satisfies these requirements. Verify your code manually.</p><p><strong><pre style='display: inline;'>q10 - 3</pre> message:</strong> Note that the Gradescope autograder will deduct points if your code fails the following rubric point - 'answer uses loops to iterate over dictionary keys (-1)'. The public tests cannot determine if your code satisfies these requirements. Verify your code manually.</p><p><strong><pre style='display: inline;'>q10 - 4</pre> message:</strong> Note that the Gradescope autograder will deduct points if your code fails the following rubric point - '`small_movies` data structure is not used to answer (-1)'. The public tests cannot determine if your code satisfies these requirements. Verify your code manually.</p>"
      ],
      "text/plain": [
       "q10 results: All test cases passed!\n",
       "q10 - 2 message: Note that the Gradescope autograder will deduct points if your code fails the following rubric point - 'incorrect logic is used to answer (-1)'. The public tests cannot determine if your code satisfies these requirements. Verify your code manually.\n",
       "q10 - 3 message: Note that the Gradescope autograder will deduct points if your code fails the following rubric point - 'answer uses loops to iterate over dictionary keys (-1)'. The public tests cannot determine if your code satisfies these requirements. Verify your code manually.\n",
       "q10 - 4 message: Note that the Gradescope autograder will deduct points if your code fails the following rubric point - '`small_movies` data structure is not used to answer (-1)'. The public tests cannot determine if your code satisfies these requirements. Verify your code manually."
      ]
     },
     "execution_count": 31,
     "metadata": {},
     "output_type": "execute_result"
    }
   ],
   "source": [
    "grader.check(\"q10\")"
   ]
  },
  {
   "cell_type": "markdown",
   "id": "14ce0198",
   "metadata": {
    "deletable": false,
    "editable": false
   },
   "source": [
    "**Question 11:** Who are the `directors` of the **last** movie in `small_movies`?\n",
    "\n",
    "Your output **must** be a **list** of **string(s)**. You **must** use the variable `small_movies` defined above to answer this question."
   ]
  },
  {
   "cell_type": "code",
   "execution_count": 32,
   "id": "5af3880f",
   "metadata": {
    "execution": {
     "iopub.execute_input": "2023-10-25T01:32:43.381588Z",
     "iopub.status.busy": "2023-10-25T01:32:43.381588Z",
     "iopub.status.idle": "2023-10-25T01:32:43.386838Z",
     "shell.execute_reply": "2023-10-25T01:32:43.386838Z"
    },
    "tags": []
   },
   "outputs": [
    {
     "data": {
      "text/plain": [
       "['Greta Gerwig']"
      ]
     },
     "execution_count": 32,
     "metadata": {},
     "output_type": "execute_result"
    }
   ],
   "source": [
    "# compute and store the answer in the variable 'last_movie_directors_small_movies', then display it\n",
    "last_movie_directors_small_movies = small_movies[-1]['directors']\n",
    "last_movie_directors_small_movies"
   ]
  },
  {
   "cell_type": "code",
   "execution_count": 33,
   "id": "d337051f",
   "metadata": {
    "deletable": false,
    "editable": false
   },
   "outputs": [
    {
     "data": {
      "text/html": [
       "<p><strong><pre style='display: inline;'>q11</pre></strong> passed! 🍀</p><p><strong><pre style='display: inline;'>q11 - 2</pre> message:</strong> Note that the Gradescope autograder will deduct points if your code fails the following rubric point - 'incorrect logic is used to answer (-1)'. The public tests cannot determine if your code satisfies these requirements. Verify your code manually.</p><p><strong><pre style='display: inline;'>q11 - 3</pre> message:</strong> Note that the Gradescope autograder will deduct points if your code fails the following rubric point - 'answer uses loops to iterate over dictionary keys (-1)'. The public tests cannot determine if your code satisfies these requirements. Verify your code manually.</p><p><strong><pre style='display: inline;'>q11 - 4</pre> message:</strong> Note that the Gradescope autograder will deduct points if your code fails the following rubric point - '`small_movies` data structure is not used to answer (-1)'. The public tests cannot determine if your code satisfies these requirements. Verify your code manually.</p>"
      ],
      "text/plain": [
       "q11 results: All test cases passed!\n",
       "q11 - 2 message: Note that the Gradescope autograder will deduct points if your code fails the following rubric point - 'incorrect logic is used to answer (-1)'. The public tests cannot determine if your code satisfies these requirements. Verify your code manually.\n",
       "q11 - 3 message: Note that the Gradescope autograder will deduct points if your code fails the following rubric point - 'answer uses loops to iterate over dictionary keys (-1)'. The public tests cannot determine if your code satisfies these requirements. Verify your code manually.\n",
       "q11 - 4 message: Note that the Gradescope autograder will deduct points if your code fails the following rubric point - '`small_movies` data structure is not used to answer (-1)'. The public tests cannot determine if your code satisfies these requirements. Verify your code manually."
      ]
     },
     "execution_count": 33,
     "metadata": {},
     "output_type": "execute_result"
    }
   ],
   "source": [
    "grader.check(\"q11\")"
   ]
  },
  {
   "cell_type": "markdown",
   "id": "8710f23b",
   "metadata": {
    "deletable": false,
    "editable": false
   },
   "source": [
    "#### Now that you’ve made it this far, your functions must be working pretty well with small datasets. Next, let's try a much bigger dataset!\n",
    "\n",
    "Run the following code to open the full dataset:"
   ]
  },
  {
   "cell_type": "code",
   "execution_count": 34,
   "id": "7f1d98f4",
   "metadata": {
    "execution": {
     "iopub.execute_input": "2023-10-25T01:32:43.419718Z",
     "iopub.status.busy": "2023-10-25T01:32:43.418717Z",
     "iopub.status.idle": "2023-10-25T01:32:45.000551Z",
     "shell.execute_reply": "2023-10-25T01:32:45.000551Z"
    }
   },
   "outputs": [
    {
     "data": {
      "text/plain": [
       "73075"
      ]
     },
     "execution_count": 34,
     "metadata": {},
     "output_type": "execute_result"
    }
   ],
   "source": [
    "movies = get_movies(\"movies.csv\", \"mapping.csv\")\n",
    "len(movies)"
   ]
  },
  {
   "cell_type": "markdown",
   "id": "c2737dee",
   "metadata": {
    "deletable": false,
    "editable": false
   },
   "source": [
    "As the files are very large, this cell is expected to take around five seconds to run. If it takes much longer (say, around thirty seconds), then you will **need** to **optimize** your `get_movies` function so it runs faster.\n",
    "\n",
    "**Warning**: You are **not** allowed to call `get_movies` more than once on the full dataset (`movies.csv` and `mapping.csv`) in your notebook. Instead, reuse the `movies` variable, which is more efficient. The Gradescope autograder will deduct **points** if you call `get_movies` again on these files.\n",
    "\n",
    "**Warning:** Do **not** display the value of the variable `movies` **anywhere** in your notebook. It will take up a **lot** of space, and your **Gradescope code will not be displayed** for grading. Instead you should verify `movies` has the correct value by looking at a small *slice* of the **list** as in the question below. "
   ]
  },
  {
   "cell_type": "code",
   "execution_count": 35,
   "id": "ae1bb4ed",
   "metadata": {
    "deletable": false,
    "editable": false
   },
   "outputs": [
    {
     "data": {
      "text/html": [
       "<p><strong><pre style='display: inline;'>movies</pre></strong> passed! 🌟</p><p><strong><pre style='display: inline;'>movies - 1</pre> message:</strong> Note that the Gradescope autograder will deduct points if your code fails the following rubric point - 'data structure is defined incorrectly (-3)'. The public tests cannot determine if your code satisfies these requirements. Verify your code manually.</p><p><strong><pre style='display: inline;'>movies - 2</pre> message:</strong> Note that the Gradescope autograder will deduct points if your code fails the following rubric point - 'data structure is redefined or modified after its initialization (-2)'. The public tests cannot determine if your code satisfies these requirements. Verify your code manually.</p>"
      ],
      "text/plain": [
       "movies results: All test cases passed!\n",
       "movies - 1 message: Note that the Gradescope autograder will deduct points if your code fails the following rubric point - 'data structure is defined incorrectly (-3)'. The public tests cannot determine if your code satisfies these requirements. Verify your code manually.\n",
       "movies - 2 message: Note that the Gradescope autograder will deduct points if your code fails the following rubric point - 'data structure is redefined or modified after its initialization (-2)'. The public tests cannot determine if your code satisfies these requirements. Verify your code manually."
      ]
     },
     "execution_count": 35,
     "metadata": {},
     "output_type": "execute_result"
    }
   ],
   "source": [
    "grader.check(\"movies\")"
   ]
  },
  {
   "cell_type": "markdown",
   "id": "5f7407f7",
   "metadata": {
    "deletable": false,
    "editable": false
   },
   "source": [
    "**Question 12:** What are the movies in `movies[22202:22220]`?\n",
    "\n",
    "Your answer should be a *list* of *dictionaries* that follows the format below:\n",
    "\n",
    "```python\n",
    "[{'title': 'Bad Night',\n",
    "  'year': 2015,\n",
    "  'duration': 92,\n",
    "  'genres': ['Adventure', 'Comedy', 'Crime'],\n",
    "  'rating': 4.9,\n",
    "  'directors': ['Chris Riedell', 'Nick Riedell'],\n",
    "  'cast': ['Lauren Elizabeth', 'Jenn McAllister', 'Julianna Guill', 'udy Marte']},\n",
    " {'title': 'Operation Camel',\n",
    "  'year': 1960,\n",
    "  'duration': 100,\n",
    "  'genres': ['Comedy'],\n",
    "  'rating': 5.7,\n",
    "  'directors': ['Sven Methling'],\n",
    "  'cast': ['Paul Hagen', 'Louis Miehe-Renard', 'Ebbe Langberg', 'Preben Kaas']},\n",
    " {'title': 'True Story',\n",
    "  'year': 2015,\n",
    "  'duration': 99,\n",
    "  'genres': ['Biography', 'Crime', 'Drama'],\n",
    "  'rating': 6.3,\n",
    "  'directors': ['Rupert Goold'],\n",
    "  'cast': ['James Franco', 'Jonah Hill', 'Felicity Jones', 'Maria Dizzia']},\n",
    " ...]\n",
    "```"
   ]
  },
  {
   "cell_type": "code",
   "execution_count": 36,
   "id": "9dd15bd6",
   "metadata": {
    "execution": {
     "iopub.execute_input": "2023-10-25T01:32:45.020392Z",
     "iopub.status.busy": "2023-10-25T01:32:45.020392Z",
     "iopub.status.idle": "2023-10-25T01:32:45.029205Z",
     "shell.execute_reply": "2023-10-25T01:32:45.029205Z"
    },
    "tags": []
   },
   "outputs": [
    {
     "data": {
      "text/plain": [
       "[{'title': 'Bad Night',\n",
       "  'year': 2015,\n",
       "  'duration': 92,\n",
       "  'genres': ['Adventure', 'Comedy', 'Crime'],\n",
       "  'rating': 4.9,\n",
       "  'directors': ['Chris Riedell', 'Nick Riedell'],\n",
       "  'cast': ['Lauren Elizabeth',\n",
       "   'Jenn McAllister',\n",
       "   'Julianna Guill',\n",
       "   'Judy Marte']},\n",
       " {'title': 'Operation Camel',\n",
       "  'year': 1960,\n",
       "  'duration': 100,\n",
       "  'genres': ['Comedy'],\n",
       "  'rating': 5.7,\n",
       "  'directors': ['Sven Methling'],\n",
       "  'cast': ['Paul Hagen',\n",
       "   'Louis Miehe-Renard',\n",
       "   'Ebbe Langberg',\n",
       "   'Preben Kaas']},\n",
       " {'title': 'True Story',\n",
       "  'year': 2015,\n",
       "  'duration': 99,\n",
       "  'genres': ['Biography', 'Crime', 'Drama'],\n",
       "  'rating': 6.3,\n",
       "  'directors': ['Rupert Goold'],\n",
       "  'cast': ['James Franco', 'Jonah Hill', 'Felicity Jones', 'Maria Dizzia']},\n",
       " {'title': 'The Death of Louis XIV',\n",
       "  'year': 2016,\n",
       "  'duration': 115,\n",
       "  'genres': ['Biography', 'Drama', 'History'],\n",
       "  'rating': 6.8,\n",
       "  'directors': ['Albert Serra'],\n",
       "  'cast': ['Jean-Pierre Léaud',\n",
       "   \"Patrick d'Assumçao\",\n",
       "   'Marc Susini',\n",
       "   'Bernard Belin']},\n",
       " {'title': 'Olga',\n",
       "  'year': 2021,\n",
       "  'duration': 85,\n",
       "  'genres': ['Drama', 'Sport'],\n",
       "  'rating': 6.8,\n",
       "  'directors': ['Elie Grappe'],\n",
       "  'cast': ['Anastasiia Budiashkina',\n",
       "   'Sabrina Rubtsova',\n",
       "   'Caterina Barloggio',\n",
       "   'Théa Brogli']},\n",
       " {'title': 'Solitary Fragments',\n",
       "  'year': 2007,\n",
       "  'duration': 135,\n",
       "  'genres': ['Drama'],\n",
       "  'rating': 6.6,\n",
       "  'directors': ['Jaime Rosales'],\n",
       "  'cast': ['Sonia Almarcha',\n",
       "   'Petra Martínez',\n",
       "   'Miriam Correa',\n",
       "   'Nuria Mencía']},\n",
       " {'title': 'My Blue Heaven',\n",
       "  'year': 1950,\n",
       "  'duration': 96,\n",
       "  'genres': ['Drama', 'Musical'],\n",
       "  'rating': 6.2,\n",
       "  'directors': ['Henry Koster'],\n",
       "  'cast': ['Betty Grable', 'Dan Dailey', 'David Wayne', 'Jane Wyatt']},\n",
       " {'title': 'The Crocodiles',\n",
       "  'year': 2009,\n",
       "  'duration': 98,\n",
       "  'genres': ['Adventure', 'Family'],\n",
       "  'rating': 6.2,\n",
       "  'directors': ['Christian Ditter'],\n",
       "  'cast': ['Nick Romeo Reimann',\n",
       "   'Fabian Halbig',\n",
       "   'Leonie Tepe',\n",
       "   'Manuel Steitz']},\n",
       " {'title': 'White Wolves: A Cry in the Wild II',\n",
       "  'year': 1993,\n",
       "  'duration': 90,\n",
       "  'genres': ['Action', 'Adventure', 'Family'],\n",
       "  'rating': 5.7,\n",
       "  'directors': ['Catherine Cyran'],\n",
       "  'cast': ['Matt McCoy', 'David Moscow', 'Mark-Paul Gosselaar', 'Ami Dolenz']},\n",
       " {'title': \"Devil's Town\",\n",
       "  'year': 2009,\n",
       "  'duration': 82,\n",
       "  'genres': ['Comedy', 'Drama'],\n",
       "  'rating': 5.7,\n",
       "  'directors': ['Vladimir Paskaljevic'],\n",
       "  'cast': ['Lazar Ristovski',\n",
       "   'Danica Ristovski',\n",
       "   'Marija Zeljkovic',\n",
       "   'Mina Colic']},\n",
       " {'title': 'Balkan Brothers',\n",
       "  'year': 2005,\n",
       "  'duration': 87,\n",
       "  'genres': ['Comedy', 'Drama'],\n",
       "  'rating': 5.9,\n",
       "  'directors': [\"Bozidar 'Bota' Nikolic\"],\n",
       "  'cast': ['Isidora Minic',\n",
       "   'Svetozar Cvetkovic',\n",
       "   'Goran Susljik',\n",
       "   'Petar Bozovic']},\n",
       " {'title': 'Shadow Builder',\n",
       "  'year': 1998,\n",
       "  'duration': 101,\n",
       "  'genres': ['Action', 'Horror', 'Thriller'],\n",
       "  'rating': 4.8,\n",
       "  'directors': ['Jamie Dixon'],\n",
       "  'cast': ['Michael Rooker',\n",
       "   'Leslie Hope',\n",
       "   'Shawn Thompson',\n",
       "   'Andrew Jackson']},\n",
       " {'title': 'Gordy',\n",
       "  'year': 1994,\n",
       "  'duration': 90,\n",
       "  'genres': ['Comedy', 'Drama', 'Family'],\n",
       "  'rating': 3.7,\n",
       "  'directors': ['Mark Lewis'],\n",
       "  'cast': ['Kristy Young', 'Doug Stone', 'James Donadio', 'Deborah Hobart']},\n",
       " {'title': 'The Zoo',\n",
       "  'year': 1967,\n",
       "  'duration': 125,\n",
       "  'genres': ['Crime', 'Drama', 'Mystery'],\n",
       "  'rating': 7.2,\n",
       "  'directors': ['Satyajit Ray'],\n",
       "  'cast': ['Uttam Kumar',\n",
       "   'Kalipada Chakraborty',\n",
       "   'Nripati Chatterjee',\n",
       "   'Shekhar Chatterjee']},\n",
       " {'title': 'Miami Heat',\n",
       "  'year': 2021,\n",
       "  'duration': 87,\n",
       "  'genres': ['Action', 'Crime', 'Drama'],\n",
       "  'rating': 4.1,\n",
       "  'directors': ['Fabio W. Silva', 'Zack Matthews'],\n",
       "  'cast': ['Oleg Prudius',\n",
       "   'Shannon Murray',\n",
       "   'Gabriela Wong',\n",
       "   'Olivier Richters']},\n",
       " {'title': 'Nostos: The Return',\n",
       "  'year': 1989,\n",
       "  'duration': 85,\n",
       "  'genres': ['Adventure', 'History'],\n",
       "  'rating': 7.8,\n",
       "  'directors': ['Franco Piavoli'],\n",
       "  'cast': ['Luigi Mezzanotte',\n",
       "   'Branca de Camargo',\n",
       "   'Alex Carozzo',\n",
       "   'Paola Agosti']},\n",
       " {'title': 'Groom',\n",
       "  'year': 2016,\n",
       "  'duration': 90,\n",
       "  'genres': ['Comedy'],\n",
       "  'rating': 4.3,\n",
       "  'directors': ['Aleksandr Nezlobin'],\n",
       "  'cast': ['Sergey Svetlakov',\n",
       "   'Philippe Reinhardt',\n",
       "   'Svetlana Smirnova-Martsinkevich',\n",
       "   'Olga Kartunkova']},\n",
       " {'title': 'The Lookout',\n",
       "  'year': 2007,\n",
       "  'duration': 99,\n",
       "  'genres': ['Crime', 'Drama', 'Thriller'],\n",
       "  'rating': 7.0,\n",
       "  'directors': ['Scott Frank'],\n",
       "  'cast': ['Joseph Gordon-Levitt',\n",
       "   'Jeff Daniels',\n",
       "   'Matthew Goode',\n",
       "   'Isla Fisher']}]"
      ]
     },
     "execution_count": 36,
     "metadata": {},
     "output_type": "execute_result"
    }
   ],
   "source": [
    "# compute and store the answer in the variable 'movies_22202_22220', then display it\n",
    "movies_22202_22220 = movies[22202:22220]\n",
    "movies_22202_22220"
   ]
  },
  {
   "cell_type": "code",
   "execution_count": 37,
   "id": "ebfc63b5",
   "metadata": {
    "deletable": false,
    "editable": false
   },
   "outputs": [
    {
     "data": {
      "text/html": [
       "<p><strong><pre style='display: inline;'>q12</pre></strong> passed! 🍀</p><p><strong><pre style='display: inline;'>q12 - 2</pre> message:</strong> Note that the Gradescope autograder will deduct points if your code fails the following rubric point - '`movies` data structure is not used to answer (-2)'. The public tests cannot determine if your code satisfies these requirements. Verify your code manually.</p>"
      ],
      "text/plain": [
       "q12 results: All test cases passed!\n",
       "q12 - 2 message: Note that the Gradescope autograder will deduct points if your code fails the following rubric point - '`movies` data structure is not used to answer (-2)'. The public tests cannot determine if your code satisfies these requirements. Verify your code manually."
      ]
     },
     "execution_count": 37,
     "metadata": {},
     "output_type": "execute_result"
    }
   ],
   "source": [
    "grader.check(\"q12\")"
   ]
  },
  {
   "cell_type": "markdown",
   "id": "2a48b8a5",
   "metadata": {
    "deletable": false,
    "editable": false
   },
   "source": [
    "**Question 13:** What is the **number** of movies released so far in the `year` *2023*?\n",
    "\n",
    "Your outuput must be an **int**. You **must** use the variable `movies` defined above to answer this question."
   ]
  },
  {
   "cell_type": "code",
   "execution_count": 38,
   "id": "25af7aea",
   "metadata": {
    "execution": {
     "iopub.execute_input": "2023-10-25T01:32:45.056076Z",
     "iopub.status.busy": "2023-10-25T01:32:45.055076Z",
     "iopub.status.idle": "2023-10-25T01:32:45.080283Z",
     "shell.execute_reply": "2023-10-25T01:32:45.079274Z"
    },
    "tags": []
   },
   "outputs": [
    {
     "data": {
      "text/plain": [
       "1179"
      ]
     },
     "execution_count": 38,
     "metadata": {},
     "output_type": "execute_result"
    }
   ],
   "source": [
    "# compute and store the answer in the variable 'num_movies_2023', then display it\n",
    "num_movies_2023 = 0\n",
    "for movie in movies:\n",
    "    if movie['year'] == 2023:\n",
    "        num_movies_2023 += 1\n",
    "num_movies_2023"
   ]
  },
  {
   "cell_type": "code",
   "execution_count": 39,
   "id": "917e9a32",
   "metadata": {
    "deletable": false,
    "editable": false
   },
   "outputs": [
    {
     "data": {
      "text/html": [
       "<p><strong><pre style='display: inline;'>q13</pre></strong> passed! 🙌</p><p><strong><pre style='display: inline;'>q13 - 2</pre> message:</strong> Note that the Gradescope autograder will deduct points if your code fails the following rubric point - 'incorrect logic is used to answer (-1)'. The public tests cannot determine if your code satisfies these requirements. Verify your code manually.</p><p><strong><pre style='display: inline;'>q13 - 3</pre> message:</strong> Note that the Gradescope autograder will deduct points if your code fails the following rubric point - 'answer uses loops to iterate over dictionary keys (-1)'. The public tests cannot determine if your code satisfies these requirements. Verify your code manually.</p><p><strong><pre style='display: inline;'>q13 - 4</pre> message:</strong> Note that the Gradescope autograder will deduct points if your code fails the following rubric point - '`movies` data structure is not used to answer (-1)'. The public tests cannot determine if your code satisfies these requirements. Verify your code manually.</p>"
      ],
      "text/plain": [
       "q13 results: All test cases passed!\n",
       "q13 - 2 message: Note that the Gradescope autograder will deduct points if your code fails the following rubric point - 'incorrect logic is used to answer (-1)'. The public tests cannot determine if your code satisfies these requirements. Verify your code manually.\n",
       "q13 - 3 message: Note that the Gradescope autograder will deduct points if your code fails the following rubric point - 'answer uses loops to iterate over dictionary keys (-1)'. The public tests cannot determine if your code satisfies these requirements. Verify your code manually.\n",
       "q13 - 4 message: Note that the Gradescope autograder will deduct points if your code fails the following rubric point - '`movies` data structure is not used to answer (-1)'. The public tests cannot determine if your code satisfies these requirements. Verify your code manually."
      ]
     },
     "execution_count": 39,
     "metadata": {},
     "output_type": "execute_result"
    }
   ],
   "source": [
    "grader.check(\"q13\")"
   ]
  },
  {
   "cell_type": "markdown",
   "id": "42afbe62",
   "metadata": {
    "deletable": false,
    "editable": false
   },
   "source": [
    "### Function 4: `find_specific_movies(movies, keyword)`\n",
    "\n",
    "Now that we have created this data structure `movies`, we can start doing some fun things with the data!\n",
    "We will continue working on this data structure for the next project (P9) as well.\n",
    "\n",
    "Let us now use this data structure `movies` to create a **search bar** like the one in Netflix!\n",
    "**Do not change the below function in any way**.\n",
    "This function takes in a keyword like a substring of a title, a genre, or the name of a person, and returns a list of relevant movies with that title, genre, or cast member/director.\n",
    "\n",
    "**Warning:** As `movies` is very large, the function `find_specific_movies` may take five to ten seconds to run. This is normal and you should not panic if it takes a while to run."
   ]
  },
  {
   "cell_type": "code",
   "execution_count": 40,
   "id": "78172cbf",
   "metadata": {
    "deletable": false,
    "editable": false,
    "execution": {
     "iopub.execute_input": "2023-10-25T01:32:45.112773Z",
     "iopub.status.busy": "2023-10-25T01:32:45.111781Z",
     "iopub.status.idle": "2023-10-25T01:32:45.116899Z",
     "shell.execute_reply": "2023-10-25T01:32:45.116899Z"
    }
   },
   "outputs": [],
   "source": [
    "# DO NOT EDIT THIS CELL AND DO NOT REDEFINE THIS FUNCTION ELSEWHERE\n",
    "def find_specific_movies(movies, keyword):\n",
    "    \"\"\"\n",
    "    find_specific_movies(movies, keyword) takes a list of movie dictionaries \n",
    "    and a keyword; it returns a list of movies that contain the keyword\n",
    "    in either its title, genre, cast or directors.\n",
    "    \"\"\"\n",
    "    idx = 0\n",
    "    while idx < len(movies):\n",
    "        movie = movies[idx]\n",
    "        # note: \\ enables you split a long line of code into two lines\n",
    "        if (keyword not in movie['title']) and (keyword not in movie[\"genres\"]) \\\n",
    "        and (keyword not in movie[\"directors\"]) and (keyword not in movie[\"cast\"]):\n",
    "            movies.pop(idx)\n",
    "        else:\n",
    "            idx += 1\n",
    "    return movies"
   ]
  },
  {
   "cell_type": "markdown",
   "id": "6bf64235",
   "metadata": {
    "deletable": false,
    "editable": false
   },
   "source": [
    "**Important:** While it might look as if we are making it easy for you by providing `find_specific_movies`, there is a catch! There is a subtle flaw with the way the function is defined, that will cause you issues in the next two questions. If you can spot this flaw by just observing the definition of `find_specific_movies`, congratulations! Since you are **not** allowed to modify the function definition, you will have to be a little clever with your function arguments to sidestep the flaw with the function definition.\n",
    "\n",
    "If you don't see anything wrong with the function just yet, don't worry about it. Solve Question 14 and Question 15 as you normally would, and see if you notice anything suspicious about your answers."
   ]
  },
  {
   "cell_type": "code",
   "execution_count": 41,
   "id": "6292a651",
   "metadata": {
    "deletable": false,
    "editable": false
   },
   "outputs": [
    {
     "data": {
      "text/html": [
       "<p><strong><pre style='display: inline;'>find_specific_movies</pre></strong> passed! ✨</p><p><strong><pre style='display: inline;'>find_specific_movies - 1</pre> message:</strong> Note that the Gradescope autograder will deduct points if your code fails the following rubric point - 'function is redefined or defined more than once (-2)'. The public tests cannot determine if your code satisfies these requirements. Verify your code manually.</p>"
      ],
      "text/plain": [
       "find_specific_movies results: All test cases passed!\n",
       "find_specific_movies - 1 message: Note that the Gradescope autograder will deduct points if your code fails the following rubric point - 'function is redefined or defined more than once (-2)'. The public tests cannot determine if your code satisfies these requirements. Verify your code manually."
      ]
     },
     "execution_count": 41,
     "metadata": {},
     "output_type": "execute_result"
    }
   ],
   "source": [
    "grader.check(\"find_specific_movies\")"
   ]
  },
  {
   "cell_type": "markdown",
   "id": "2b1a2729",
   "metadata": {
    "deletable": false,
    "editable": false
   },
   "source": [
    "**Question 14:** List all the movies involving *Alfred Hitchcock*.\n",
    "\n",
    "Your answer **must** be a **list** of **dictionaries**.\n",
    "\n",
    "You **must** answer this question by calling `find_specific_movies` with the keyword `\"Alfred Hitchcock\"`.\n",
    "\n",
    "The `find_specific_movies` function is expected to take around 5 seconds or more to run, so do not panic if it takes so long to run.\n",
    "\n",
    "Remember that you are **not** allowed to modify the definition of `find_specific_movies`. You will need to cleverly pass arguments to `find_specific_movies` (in both Question 14 and Question 15) to ensure that `movies` does not get modified by the function calls. Take a look at the Lecture Slides from October 25 for more hints. You will have to Restart and Run all your cells to see the correct output after you fix your answer for Question 14 (and Question 15)."
   ]
  },
  {
   "cell_type": "code",
   "execution_count": 42,
   "id": "7b9ee061",
   "metadata": {
    "execution": {
     "iopub.execute_input": "2023-10-25T01:32:45.127915Z",
     "iopub.status.busy": "2023-10-25T01:32:45.126914Z",
     "iopub.status.idle": "2023-10-25T01:32:46.070355Z",
     "shell.execute_reply": "2023-10-25T01:32:46.070355Z"
    },
    "tags": []
   },
   "outputs": [
    {
     "data": {
      "text/plain": [
       "[{'title': 'The Wrong Man',\n",
       "  'year': 1956,\n",
       "  'duration': 105,\n",
       "  'genres': ['Drama', 'Film-Noir'],\n",
       "  'rating': 7.4,\n",
       "  'directors': ['Alfred Hitchcock'],\n",
       "  'cast': ['Henry Fonda', 'Vera Miles', 'Anthony Quayle', 'Harold J. Stone']},\n",
       " {'title': 'Lifeboat',\n",
       "  'year': 1944,\n",
       "  'duration': 97,\n",
       "  'genres': ['Drama', 'War'],\n",
       "  'rating': 7.6,\n",
       "  'directors': ['Alfred Hitchcock'],\n",
       "  'cast': ['Tallulah Bankhead',\n",
       "   'John Hodiak',\n",
       "   'Walter Slezak',\n",
       "   'William Bendix']},\n",
       " {'title': 'Young and Innocent',\n",
       "  'year': 1937,\n",
       "  'duration': 80,\n",
       "  'genres': ['Crime', 'Mystery', 'Romance'],\n",
       "  'rating': 6.8,\n",
       "  'directors': ['Alfred Hitchcock'],\n",
       "  'cast': ['Nova Pilbeam',\n",
       "   'Derrick De Marney',\n",
       "   'Percy Marmont',\n",
       "   'Edward Rigby']},\n",
       " {'title': 'Marnie',\n",
       "  'year': 1964,\n",
       "  'duration': 130,\n",
       "  'genres': ['Crime', 'Drama', 'Mystery'],\n",
       "  'rating': 7.1,\n",
       "  'directors': ['Alfred Hitchcock'],\n",
       "  'cast': ['Tippi Hedren', 'Sean Connery', 'Martin Gabel', 'Louise Latham']},\n",
       " {'title': 'I Confess',\n",
       "  'year': 1953,\n",
       "  'duration': 95,\n",
       "  'genres': ['Crime', 'Drama', 'Thriller'],\n",
       "  'rating': 7.2,\n",
       "  'directors': ['Alfred Hitchcock'],\n",
       "  'cast': ['Montgomery Clift', 'Anne Baxter', 'Karl Malden', 'Brian Aherne']},\n",
       " {'title': 'Shadow of a Doubt',\n",
       "  'year': 1943,\n",
       "  'duration': 108,\n",
       "  'genres': ['Film-Noir', 'Thriller'],\n",
       "  'rating': 7.8,\n",
       "  'directors': ['Alfred Hitchcock'],\n",
       "  'cast': ['Teresa Wright',\n",
       "   'Joseph Cotten',\n",
       "   'Macdonald Carey',\n",
       "   'Henry Travers']},\n",
       " {'title': 'Torn Curtain',\n",
       "  'year': 1966,\n",
       "  'duration': 128,\n",
       "  'genres': ['Drama', 'Romance', 'Thriller'],\n",
       "  'rating': 6.6,\n",
       "  'directors': ['Alfred Hitchcock'],\n",
       "  'cast': ['Paul Newman', 'Julie Andrews', 'Lila Kedrova', 'Hansjörg Felmy']},\n",
       " {'title': 'East of Shanghai',\n",
       "  'year': 1931,\n",
       "  'duration': 110,\n",
       "  'genres': ['Comedy', 'Drama', 'Romance'],\n",
       "  'rating': 5.7,\n",
       "  'directors': ['Alfred Hitchcock'],\n",
       "  'cast': ['Henry Kendall', 'Joan Barry', 'Percy Marmont', 'Betty Amann']},\n",
       " {'title': 'Number 17',\n",
       "  'year': 1932,\n",
       "  'duration': 66,\n",
       "  'genres': ['Crime', 'Mystery', 'Thriller'],\n",
       "  'rating': 5.7,\n",
       "  'directors': ['Alfred Hitchcock'],\n",
       "  'cast': ['Leon M. Lion', 'Anne Grey', 'John Stuart', 'Donald Calthrop']},\n",
       " {'title': 'The Manxman',\n",
       "  'year': 1929,\n",
       "  'duration': 110,\n",
       "  'genres': ['Drama', 'Romance'],\n",
       "  'rating': 6.2,\n",
       "  'directors': ['Alfred Hitchcock'],\n",
       "  'cast': ['Clare Greet',\n",
       "   'Anny Ondra',\n",
       "   'Carl Brisson',\n",
       "   'Malcolm Keen',\n",
       "   'Randle Ayrton']},\n",
       " {'title': 'To Catch a Thief',\n",
       "  'year': 1955,\n",
       "  'duration': 106,\n",
       "  'genres': ['Mystery', 'Romance', 'Thriller'],\n",
       "  'rating': 7.4,\n",
       "  'directors': ['Alfred Hitchcock'],\n",
       "  'cast': ['Cary Grant',\n",
       "   'Grace Kelly',\n",
       "   'Jessie Royce Landis',\n",
       "   'John Williams']},\n",
       " {'title': 'Blackmail',\n",
       "  'year': 1929,\n",
       "  'duration': 85,\n",
       "  'genres': ['Crime', 'Drama', 'Thriller'],\n",
       "  'rating': 6.9,\n",
       "  'directors': ['Alfred Hitchcock'],\n",
       "  'cast': ['Anny Ondra', 'John Longden', 'Sara Allgood', 'Charles Paton']},\n",
       " {'title': 'North by Northwest',\n",
       "  'year': 1959,\n",
       "  'duration': 136,\n",
       "  'genres': ['Action', 'Adventure', 'Mystery'],\n",
       "  'rating': 8.3,\n",
       "  'directors': ['Alfred Hitchcock'],\n",
       "  'cast': ['Cary Grant',\n",
       "   'Eva Marie Saint',\n",
       "   'James Mason',\n",
       "   'Jessie Royce Landis']},\n",
       " {'title': 'The Trouble with Harry',\n",
       "  'year': 1955,\n",
       "  'duration': 99,\n",
       "  'genres': ['Comedy', 'Mystery'],\n",
       "  'rating': 7.0,\n",
       "  'directors': ['Alfred Hitchcock'],\n",
       "  'cast': ['John Forsythe',\n",
       "   'Shirley MacLaine',\n",
       "   'Edmund Gwenn',\n",
       "   'Mildred Natwick']},\n",
       " {'title': 'Topaz',\n",
       "  'year': 1969,\n",
       "  'duration': 143,\n",
       "  'genres': ['Drama', 'Thriller'],\n",
       "  'rating': 6.2,\n",
       "  'directors': ['Alfred Hitchcock'],\n",
       "  'cast': ['Frederick Stafford', 'Dany Robin', 'John Vernon', 'Karin Dor']},\n",
       " {'title': 'The Pleasure Garden',\n",
       "  'year': 1925,\n",
       "  'duration': 75,\n",
       "  'genres': ['Drama', 'Romance'],\n",
       "  'rating': 5.8,\n",
       "  'directors': ['Alfred Hitchcock'],\n",
       "  'cast': ['Virginia Valli',\n",
       "   'Carmelita Geraghty',\n",
       "   'Miles Mander',\n",
       "   'John Stuart']},\n",
       " {'title': 'The 39 Steps',\n",
       "  'year': 1935,\n",
       "  'duration': 86,\n",
       "  'genres': ['Crime', 'Mystery', 'Thriller'],\n",
       "  'rating': 7.6,\n",
       "  'directors': ['Alfred Hitchcock'],\n",
       "  'cast': ['Robert Donat',\n",
       "   'Madeleine Carroll',\n",
       "   'Lucie Mannheim',\n",
       "   'Godfrey Tearle']},\n",
       " {'title': 'Mr. & Mrs. Smith',\n",
       "  'year': 1941,\n",
       "  'duration': 95,\n",
       "  'genres': ['Comedy', 'Romance'],\n",
       "  'rating': 6.3,\n",
       "  'directors': ['Alfred Hitchcock'],\n",
       "  'cast': ['Philip Merivale',\n",
       "   'Carole Lombard',\n",
       "   'Robert Montgomery',\n",
       "   'Gene Raymond',\n",
       "   'Jack Carson']},\n",
       " {'title': 'Stage Fright',\n",
       "  'year': 1950,\n",
       "  'duration': 110,\n",
       "  'genres': ['Film-Noir', 'Mystery', 'Thriller'],\n",
       "  'rating': 7.0,\n",
       "  'directors': ['Alfred Hitchcock'],\n",
       "  'cast': ['Marlene Dietrich',\n",
       "   'Jane Wyman',\n",
       "   'Richard Todd',\n",
       "   'Michael Wilding']},\n",
       " {'title': 'The Ring',\n",
       "  'year': 1927,\n",
       "  'duration': 116,\n",
       "  'genres': ['Drama', 'Romance', 'Sport'],\n",
       "  'rating': 6.1,\n",
       "  'directors': ['Alfred Hitchcock'],\n",
       "  'cast': ['Carl Brisson',\n",
       "   'Lillian Hall-Davis',\n",
       "   'Ian Hunter',\n",
       "   'Forrester Harvey',\n",
       "   'Harry Terry',\n",
       "   'Gordon Harker']},\n",
       " {'title': 'Under Capricorn',\n",
       "  'year': 1949,\n",
       "  'duration': 117,\n",
       "  'genres': ['Crime', 'Drama', 'Romance'],\n",
       "  'rating': 6.2,\n",
       "  'directors': ['Alfred Hitchcock'],\n",
       "  'cast': ['Ingrid Bergman',\n",
       "   'Joseph Cotten',\n",
       "   'Michael Wilding',\n",
       "   'Margaret Leighton']},\n",
       " {'title': 'Frenzy',\n",
       "  'year': 1972,\n",
       "  'duration': 116,\n",
       "  'genres': ['Thriller'],\n",
       "  'rating': 7.4,\n",
       "  'directors': ['Alfred Hitchcock'],\n",
       "  'cast': ['Jon Finch', 'Barry Foster', 'Barbara Leigh-Hunt', 'Anna Massey']},\n",
       " {'title': 'Juno and the Paycock',\n",
       "  'year': 1929,\n",
       "  'duration': 85,\n",
       "  'genres': ['Comedy', 'Drama'],\n",
       "  'rating': 4.6,\n",
       "  'directors': ['Alfred Hitchcock'],\n",
       "  'cast': ['Sara Allgood',\n",
       "   'Edward Chapman',\n",
       "   'Barry Fitzgerald',\n",
       "   \"Maire O'Neill\"]},\n",
       " {'title': 'Jamaica Inn',\n",
       "  'year': 1939,\n",
       "  'duration': 108,\n",
       "  'genres': ['Adventure', 'Crime'],\n",
       "  'rating': 6.3,\n",
       "  'directors': ['Alfred Hitchcock'],\n",
       "  'cast': [\"Maureen O'Hara\",\n",
       "   'Robert Newton',\n",
       "   'Charles Laughton',\n",
       "   'Horace Hodges']},\n",
       " {'title': 'Dial M for Murder',\n",
       "  'year': 1954,\n",
       "  'duration': 105,\n",
       "  'genres': ['Crime', 'Thriller'],\n",
       "  'rating': 8.2,\n",
       "  'directors': ['Alfred Hitchcock'],\n",
       "  'cast': ['Ray Milland', 'Grace Kelly', 'Robert Cummings', 'John Williams']},\n",
       " {'title': 'Foreign Correspondent',\n",
       "  'year': 1940,\n",
       "  'duration': 120,\n",
       "  'genres': ['Action', 'Romance', 'Thriller'],\n",
       "  'rating': 7.4,\n",
       "  'directors': ['Alfred Hitchcock'],\n",
       "  'cast': ['Joel McCrea',\n",
       "   'Laraine Day',\n",
       "   'Herbert Marshall',\n",
       "   'George Sanders']},\n",
       " {'title': \"Strauss' Great Waltz\",\n",
       "  'year': 1934,\n",
       "  'duration': 81,\n",
       "  'genres': ['Biography', 'Music', 'Romance'],\n",
       "  'rating': 5.8,\n",
       "  'directors': ['Alfred Hitchcock'],\n",
       "  'cast': ['Edmund Gwenn', 'Esmond Knight', 'Jessie Matthews', 'Fay Compton']},\n",
       " {'title': 'Saboteur',\n",
       "  'year': 1942,\n",
       "  'duration': 109,\n",
       "  'genres': ['Thriller', 'War'],\n",
       "  'rating': 7.1,\n",
       "  'directors': ['Alfred Hitchcock'],\n",
       "  'cast': ['Priscilla Lane', 'Robert Cummings', 'Otto Kruger', 'Alan Baxter']},\n",
       " {'title': 'Champagne',\n",
       "  'year': 1928,\n",
       "  'duration': 86,\n",
       "  'genres': ['Comedy'],\n",
       "  'rating': 5.4,\n",
       "  'directors': ['Alfred Hitchcock'],\n",
       "  'cast': ['Vivian Gibson',\n",
       "   'Betty Balfour',\n",
       "   'Jean Bradin',\n",
       "   'Ferdinand von Alten',\n",
       "   'Gordon Harker',\n",
       "   \"Alexander D'Arcy\"]},\n",
       " {'title': 'Strangers on a Train',\n",
       "  'year': 1951,\n",
       "  'duration': 101,\n",
       "  'genres': ['Crime', 'Drama', 'Film-Noir'],\n",
       "  'rating': 7.9,\n",
       "  'directors': ['Alfred Hitchcock'],\n",
       "  'cast': ['Farley Granger', 'Robert Walker', 'Ruth Roman', 'Leo G. Carroll']},\n",
       " {'title': 'The Man Who Knew Too Much',\n",
       "  'year': 1934,\n",
       "  'duration': 75,\n",
       "  'genres': ['Crime', 'Mystery', 'Thriller'],\n",
       "  'rating': 6.7,\n",
       "  'directors': ['Alfred Hitchcock'],\n",
       "  'cast': ['Leslie Banks', 'Edna Best', 'Peter Lorre', 'Frank Vosper']},\n",
       " {'title': 'The Paradine Case',\n",
       "  'year': 1947,\n",
       "  'duration': 125,\n",
       "  'genres': ['Crime', 'Drama', 'Romance'],\n",
       "  'rating': 6.5,\n",
       "  'directors': ['Alfred Hitchcock'],\n",
       "  'cast': ['Gregory Peck', 'Ann Todd', 'Charles Laughton', 'Charles Coburn']},\n",
       " {'title': 'Secret Agent',\n",
       "  'year': 1936,\n",
       "  'duration': 86,\n",
       "  'genres': ['Mystery', 'Thriller'],\n",
       "  'rating': 6.4,\n",
       "  'directors': ['Alfred Hitchcock'],\n",
       "  'cast': ['John Gielgud',\n",
       "   'Madeleine Carroll',\n",
       "   'Robert Young',\n",
       "   'Peter Lorre']},\n",
       " {'title': 'Psycho',\n",
       "  'year': 1960,\n",
       "  'duration': 109,\n",
       "  'genres': ['Horror', 'Mystery', 'Thriller'],\n",
       "  'rating': 8.5,\n",
       "  'directors': ['Alfred Hitchcock'],\n",
       "  'cast': ['Anthony Perkins', 'Janet Leigh', 'Vera Miles', 'John Gavin']},\n",
       " {'title': 'Sabotage',\n",
       "  'year': 1936,\n",
       "  'duration': 76,\n",
       "  'genres': ['Crime', 'Thriller'],\n",
       "  'rating': 7.0,\n",
       "  'directors': ['Alfred Hitchcock'],\n",
       "  'cast': ['Sylvia Sidney', 'Oscar Homolka', 'Desmond Tester', 'John Loder']},\n",
       " {'title': 'Murder!',\n",
       "  'year': 1930,\n",
       "  'duration': 104,\n",
       "  'genres': ['Crime', 'Mystery', 'Thriller'],\n",
       "  'rating': 6.3,\n",
       "  'directors': ['Alfred Hitchcock'],\n",
       "  'cast': ['Herbert Marshall',\n",
       "   'Norah Baring',\n",
       "   'Phyllis Konstam',\n",
       "   'Edward Chapman']},\n",
       " {'title': 'The Skin Game',\n",
       "  'year': 1931,\n",
       "  'duration': 85,\n",
       "  'genres': ['Drama'],\n",
       "  'rating': 5.7,\n",
       "  'directors': ['Alfred Hitchcock'],\n",
       "  'cast': ['Edmund Gwenn', 'Jill Esmond', 'C.V. France', 'Helen Haye']},\n",
       " {'title': 'Downhill',\n",
       "  'year': 1927,\n",
       "  'duration': 80,\n",
       "  'genres': ['Adventure', 'Drama', 'Thriller'],\n",
       "  'rating': 6.0,\n",
       "  'directors': ['Alfred Hitchcock'],\n",
       "  'cast': ['Ivor Novello', 'Ben Webster', 'Norman McKinnel', 'Robin Irvine']},\n",
       " {'title': 'Vertigo',\n",
       "  'year': 1958,\n",
       "  'duration': 128,\n",
       "  'genres': ['Mystery', 'Romance', 'Thriller'],\n",
       "  'rating': 8.3,\n",
       "  'directors': ['Alfred Hitchcock'],\n",
       "  'cast': ['James Stewart', 'Kim Novak', 'Barbara Bel Geddes', 'Tom Helmore']},\n",
       " {'title': 'Spellbound',\n",
       "  'year': 1945,\n",
       "  'duration': 111,\n",
       "  'genres': ['Film-Noir', 'Mystery', 'Romance'],\n",
       "  'rating': 7.5,\n",
       "  'directors': ['Alfred Hitchcock'],\n",
       "  'cast': ['Ingrid Bergman',\n",
       "   'Gregory Peck',\n",
       "   'Michael Chekhov',\n",
       "   'Leo G. Carroll']},\n",
       " {'title': 'Rebecca',\n",
       "  'year': 1940,\n",
       "  'duration': 130,\n",
       "  'genres': ['Drama', 'Film-Noir', 'Mystery'],\n",
       "  'rating': 8.1,\n",
       "  'directors': ['Alfred Hitchcock'],\n",
       "  'cast': ['Laurence Olivier',\n",
       "   'Joan Fontaine',\n",
       "   'George Sanders',\n",
       "   'Judith Anderson']},\n",
       " {'title': 'Notorious',\n",
       "  'year': 1946,\n",
       "  'duration': 102,\n",
       "  'genres': ['Drama', 'Film-Noir', 'Romance'],\n",
       "  'rating': 7.9,\n",
       "  'directors': ['Alfred Hitchcock'],\n",
       "  'cast': ['Cary Grant', 'Ingrid Bergman', 'Claude Rains', 'Louis Calhern']},\n",
       " {'title': 'Suspicion',\n",
       "  'year': 1941,\n",
       "  'duration': 99,\n",
       "  'genres': ['Film-Noir', 'Mystery', 'Thriller'],\n",
       "  'rating': 7.3,\n",
       "  'directors': ['Alfred Hitchcock'],\n",
       "  'cast': ['Cary Grant', 'Joan Fontaine', 'Cedric Hardwicke', 'Nigel Bruce']},\n",
       " {'title': 'Easy Virtue',\n",
       "  'year': 1927,\n",
       "  'duration': 80,\n",
       "  'genres': ['Romance', 'Thriller'],\n",
       "  'rating': 5.5,\n",
       "  'directors': ['Alfred Hitchcock'],\n",
       "  'cast': ['Violet Farebrother',\n",
       "   'Isabel Jeans',\n",
       "   'Franklin Dyall',\n",
       "   'Eric Bransby Williams',\n",
       "   'Ian Hunter',\n",
       "   'Robin Irvine']},\n",
       " {'title': 'The Lodger: A Story of the London Fog',\n",
       "  'year': 1927,\n",
       "  'duration': 92,\n",
       "  'genres': ['Crime', 'Drama', 'Mystery'],\n",
       "  'rating': 7.3,\n",
       "  'directors': ['Alfred Hitchcock'],\n",
       "  'cast': ['June Tripp', 'Ivor Novello', 'Marie Ault', 'Arthur Chesney']},\n",
       " {'title': 'Rear Window',\n",
       "  'year': 1954,\n",
       "  'duration': 112,\n",
       "  'genres': ['Mystery', 'Thriller'],\n",
       "  'rating': 8.5,\n",
       "  'directors': ['Alfred Hitchcock'],\n",
       "  'cast': ['James Stewart', 'Grace Kelly', 'Wendell Corey', 'Thelma Ritter']},\n",
       " {'title': 'Mary',\n",
       "  'year': 1931,\n",
       "  'duration': 78,\n",
       "  'genres': ['Mystery', 'Thriller'],\n",
       "  'rating': 5.7,\n",
       "  'directors': ['Alfred Hitchcock'],\n",
       "  'cast': ['Alfred Abel', 'Olga Tschechowa', 'Paul Graetz', 'Lotte Stein']},\n",
       " {'title': 'Family Plot',\n",
       "  'year': 1976,\n",
       "  'duration': 120,\n",
       "  'genres': ['Comedy', 'Crime', 'Drama'],\n",
       "  'rating': 6.8,\n",
       "  'directors': ['Alfred Hitchcock'],\n",
       "  'cast': ['Karen Black', 'Bruce Dern', 'Barbara Harris', 'William Devane']},\n",
       " {'title': 'The Man Who Knew Too Much',\n",
       "  'year': 1956,\n",
       "  'duration': 120,\n",
       "  'genres': ['Drama', 'Thriller'],\n",
       "  'rating': 7.4,\n",
       "  'directors': ['Alfred Hitchcock'],\n",
       "  'cast': ['James Stewart', 'Doris Day', 'Brenda de Banzie', 'Bernard Miles']},\n",
       " {'title': 'The Lady Vanishes',\n",
       "  'year': 1938,\n",
       "  'duration': 96,\n",
       "  'genres': ['Mystery', 'Thriller'],\n",
       "  'rating': 7.7,\n",
       "  'directors': ['Alfred Hitchcock'],\n",
       "  'cast': ['Margaret Lockwood',\n",
       "   'Michael Redgrave',\n",
       "   'Paul Lukas',\n",
       "   'May Whitty']},\n",
       " {'title': \"The Farmer's Wife\",\n",
       "  'year': 1928,\n",
       "  'duration': 100,\n",
       "  'genres': ['Comedy', 'Drama', 'Romance'],\n",
       "  'rating': 5.8,\n",
       "  'directors': ['Alfred Hitchcock'],\n",
       "  'cast': ['Jameson Thomas',\n",
       "   'Lillian Hall-Davis',\n",
       "   'Gordon Harker',\n",
       "   'Gibb McLaughlin']},\n",
       " {'title': 'Rope',\n",
       "  'year': 1948,\n",
       "  'duration': 80,\n",
       "  'genres': ['Crime', 'Drama', 'Mystery'],\n",
       "  'rating': 7.9,\n",
       "  'directors': ['Alfred Hitchcock'],\n",
       "  'cast': ['James Stewart', 'John Dall', 'Farley Granger', 'Dick Hogan']},\n",
       " {'title': 'Elstree Calling',\n",
       "  'year': 1930,\n",
       "  'duration': 86,\n",
       "  'genres': ['Comedy', 'Musical'],\n",
       "  'rating': 5.0,\n",
       "  'directors': ['André Charlot',\n",
       "   'Jack Hulbert',\n",
       "   'Paul Murray',\n",
       "   'Alfred Hitchcock'],\n",
       "  'cast': ['Gordon Begg', 'Helen Burnell']},\n",
       " {'title': 'The Birds',\n",
       "  'year': 1963,\n",
       "  'duration': 119,\n",
       "  'genres': ['Drama', 'Horror', 'Mystery'],\n",
       "  'rating': 7.6,\n",
       "  'directors': ['Alfred Hitchcock'],\n",
       "  'cast': ['Rod Taylor',\n",
       "   'Tippi Hedren',\n",
       "   'Jessica Tandy',\n",
       "   'Suzanne Pleshette']}]"
      ]
     },
     "execution_count": 42,
     "metadata": {},
     "output_type": "execute_result"
    }
   ],
   "source": [
    "# compute and store the answer in the variable 'hitchcock_films', then display it\n",
    "\n",
    "hitchcock_films = find_specific_movies(copy.deepcopy(movies), 'Alfred Hitchcock')\n",
    "hitchcock_films"
   ]
  },
  {
   "cell_type": "code",
   "execution_count": 43,
   "id": "d6d0072f",
   "metadata": {
    "deletable": false,
    "editable": false
   },
   "outputs": [
    {
     "data": {
      "text/html": [
       "<p><strong><pre style='display: inline;'>q14</pre></strong> passed! ✨</p><p><strong><pre style='display: inline;'>q14 - 2</pre> message:</strong> Note that the Gradescope autograder will deduct points if your code fails the following rubric point - '`find_specific_movies` function is not used to answer (-4)'. The public tests cannot determine if your code satisfies these requirements. Verify your code manually.</p>"
      ],
      "text/plain": [
       "q14 results: All test cases passed!\n",
       "q14 - 2 message: Note that the Gradescope autograder will deduct points if your code fails the following rubric point - '`find_specific_movies` function is not used to answer (-4)'. The public tests cannot determine if your code satisfies these requirements. Verify your code manually."
      ]
     },
     "execution_count": 43,
     "metadata": {},
     "output_type": "execute_result"
    }
   ],
   "source": [
    "grader.check(\"q14\")"
   ]
  },
  {
   "cell_type": "markdown",
   "id": "ff6c7ac4",
   "metadata": {
    "deletable": false,
    "editable": false
   },
   "source": [
    "**Question 15:** List all the movies that contain the string `\"Once Upon a Time in\"` in their `title`.\n",
    "\n",
    "Your answer **must** be a **list** of **dictionaries**.\n",
    "\n",
    "You **must** answer this question by calling `find_specific_movies` with the keyword `\"Once Upon a Time in\"`.\n",
    "\n",
    "**Important Hint:**  If you did not notice the flaw with the definition of `find_specific_movies` before, you are likely to have run into an issue with this question. It is likely that you will see that your output for this question is an empty list. To see why this happened, find the value of `len(movies)` and see if it is equal to the value you found earlier."
   ]
  },
  {
   "cell_type": "code",
   "execution_count": 44,
   "id": "285c497e",
   "metadata": {
    "execution": {
     "iopub.execute_input": "2023-10-25T01:32:46.094862Z",
     "iopub.status.busy": "2023-10-25T01:32:46.093865Z",
     "iopub.status.idle": "2023-10-25T01:32:47.054923Z",
     "shell.execute_reply": "2023-10-25T01:32:47.053908Z"
    },
    "tags": []
   },
   "outputs": [
    {
     "data": {
      "text/plain": [
       "[{'title': 'Once Upon a Time in Mumbaai',\n",
       "  'year': 2010,\n",
       "  'duration': 134,\n",
       "  'genres': ['Action', 'Crime', 'Drama'],\n",
       "  'rating': 7.4,\n",
       "  'directors': ['Milan Luthria'],\n",
       "  'cast': ['Ajay Devgn', 'Emraan Hashmi', 'Kangana Ranaut', 'Prachi Desai']},\n",
       " {'title': 'Once Upon a Time in Deadwood',\n",
       "  'year': 2019,\n",
       "  'duration': 85,\n",
       "  'genres': ['Action', 'Western'],\n",
       "  'rating': 3.0,\n",
       "  'directors': ['Rene Perez'],\n",
       "  'cast': ['Robert Bronzi', 'Michael Paré', 'Karin Brauns', 'Lauren Compton']},\n",
       " {'title': 'Once Upon a Time in China II',\n",
       "  'year': 1992,\n",
       "  'duration': 113,\n",
       "  'genres': ['Action', 'Adventure', 'Biography'],\n",
       "  'rating': 7.3,\n",
       "  'directors': ['Hark Tsui'],\n",
       "  'cast': ['Jet Li', 'Rosamund Kwan', 'Siu Chung Mok', 'David Chiang']},\n",
       " {'title': 'Once Upon a Time in High School: The Spirit of Jeet Kune Do',\n",
       "  'year': 2004,\n",
       "  'duration': 116,\n",
       "  'genres': ['Action', 'Drama', 'History'],\n",
       "  'rating': 7.4,\n",
       "  'directors': ['Ha Yoo'],\n",
       "  'cast': ['Sang-woo Kwon', 'Lee Jung-Jin', 'Ga-in Han', 'Hyo-jun Park']},\n",
       " {'title': 'Once Upon a Time in China III',\n",
       "  'year': 1992,\n",
       "  'duration': 125,\n",
       "  'genres': ['Action', 'Adventure', 'Biography'],\n",
       "  'rating': 6.7,\n",
       "  'directors': ['Hark Tsui'],\n",
       "  'cast': ['Jet Li', 'Rosamund Kwan', 'Siu Chung Mok', 'Xin Xin Xiong']},\n",
       " {'title': 'Once Upon a Time in Hollywood',\n",
       "  'year': 2019,\n",
       "  'duration': 161,\n",
       "  'genres': ['Comedy', 'Drama'],\n",
       "  'rating': 7.6,\n",
       "  'directors': ['Quentin Tarantino'],\n",
       "  'cast': ['Leonardo DiCaprio', 'Brad Pitt', 'Margot Robbie', 'Emile Hirsch']},\n",
       " {'title': 'Once Upon a Time in China and America',\n",
       "  'year': 1997,\n",
       "  'duration': 102,\n",
       "  'genres': ['Action', 'Adventure', 'History'],\n",
       "  'rating': 6.3,\n",
       "  'directors': ['Sammo Kam-Bo Hung'],\n",
       "  'cast': ['Jet Li', 'Rosamund Kwan', 'Xin Xin Xiong', 'Kwok-Pong Chan']},\n",
       " {'title': 'Once Upon a Time in Anatolia',\n",
       "  'year': 2011,\n",
       "  'duration': 157,\n",
       "  'genres': ['Crime', 'Drama', 'Thriller'],\n",
       "  'rating': 7.8,\n",
       "  'directors': ['Nuri Bilge Ceylan'],\n",
       "  'cast': ['Muhammet Uzuner',\n",
       "   'Yilmaz Erdogan',\n",
       "   'Taner Birsel',\n",
       "   'Ahmet Mümtaz Taylan']},\n",
       " {'title': 'Once Upon a Time in China V',\n",
       "  'year': 1994,\n",
       "  'duration': 101,\n",
       "  'genres': ['Action', 'Drama'],\n",
       "  'rating': 5.9,\n",
       "  'directors': ['Hark Tsui'],\n",
       "  'cast': ['Wenzhuo Zhao', 'Rosamund Kwan', 'Siu Chung Mok', 'Kent Cheng']},\n",
       " {'title': 'Once Upon a Time in Mumbaai Dobara',\n",
       "  'year': 2013,\n",
       "  'duration': 160,\n",
       "  'genres': ['Action', 'Crime', 'Drama'],\n",
       "  'rating': 4.4,\n",
       "  'directors': ['Milan Luthria'],\n",
       "  'cast': ['Akshay Kumar', 'Imran Khan', 'Sonakshi Sinha', 'Sonali Bendre']},\n",
       " {'title': 'Once Upon a Time in Brooklyn',\n",
       "  'year': 2013,\n",
       "  'duration': 116,\n",
       "  'genres': ['Action', 'Crime'],\n",
       "  'rating': 3.8,\n",
       "  'directors': ['Paul Borghese'],\n",
       "  'cast': ['Armand Assante', 'William DeMeo', 'Cathy Moriarty', 'Ice-T']},\n",
       " {'title': 'Once Upon a Time in the West',\n",
       "  'year': 1968,\n",
       "  'duration': 165,\n",
       "  'genres': ['Western'],\n",
       "  'rating': 8.5,\n",
       "  'directors': ['Sergio Leone'],\n",
       "  'cast': ['Henry Fonda',\n",
       "   'Charles Bronson',\n",
       "   'Claudia Cardinale',\n",
       "   'Jason Robards']},\n",
       " {'title': 'Once Upon a Time in Phuket',\n",
       "  'year': 2011,\n",
       "  'duration': 105,\n",
       "  'genres': ['Comedy', 'Romance'],\n",
       "  'rating': 5.7,\n",
       "  'directors': ['Staffan Lindberg'],\n",
       "  'cast': ['Peter Magnusson',\n",
       "   'Susanne Thorson',\n",
       "   'Jenny Skavlan',\n",
       "   'David Hellenius']},\n",
       " {'title': 'Once Upon a Time in Mexico',\n",
       "  'year': 2003,\n",
       "  'duration': 102,\n",
       "  'genres': ['Action', 'Crime', 'Thriller'],\n",
       "  'rating': 6.3,\n",
       "  'directors': ['Robert Rodriguez'],\n",
       "  'cast': ['Antonio Banderas', 'Salma Hayek', 'Johnny Depp', 'Willem Dafoe']},\n",
       " {'title': 'Once Upon a Time in the Battlefield',\n",
       "  'year': 2003,\n",
       "  'duration': 104,\n",
       "  'genres': ['Comedy'],\n",
       "  'rating': 5.7,\n",
       "  'directors': ['Joon-ik Lee'],\n",
       "  'cast': ['Joong-Hoon Park', 'Jin-young Jung', 'Ji-myeong Oh', 'Kim Seon-a']},\n",
       " {'title': 'Once Upon a Time in America',\n",
       "  'year': 1984,\n",
       "  'duration': 229,\n",
       "  'genres': ['Crime', 'Drama'],\n",
       "  'rating': 8.3,\n",
       "  'directors': ['Sergio Leone'],\n",
       "  'cast': ['Robert De Niro',\n",
       "   'James Woods',\n",
       "   'Elizabeth McGovern',\n",
       "   'Treat Williams']},\n",
       " {'title': 'Once Upon a Time in Queens',\n",
       "  'year': 2013,\n",
       "  'duration': 98,\n",
       "  'genres': ['Comedy', 'Drama'],\n",
       "  'rating': 6.1,\n",
       "  'directors': ['David Rodriguez'],\n",
       "  'cast': ['Paul Sorvino',\n",
       "   'Michael Rapaport',\n",
       "   'Renee Props',\n",
       "   'Andrea Nittoli Kelly']},\n",
       " {'title': 'Once Upon a Time in London',\n",
       "  'year': 2019,\n",
       "  'duration': 111,\n",
       "  'genres': ['Crime', 'History'],\n",
       "  'rating': 5.2,\n",
       "  'directors': ['Simon Rumley'],\n",
       "  'cast': ['Terry Stone', 'Andy Beckwith', 'Josh Myers', 'Christopher Dunne']},\n",
       " {'title': 'Once Upon a Time in Shanghai',\n",
       "  'year': 2014,\n",
       "  'duration': 96,\n",
       "  'genres': ['Action', 'Crime'],\n",
       "  'rating': 6.7,\n",
       "  'directors': ['Ching-Po Wong'],\n",
       "  'cast': ['Sammo Kam-Bo Hung', 'Andy On', 'Philip Ng', 'Kuan Tai Chen']},\n",
       " {'title': 'Once Upon a Time in the Midlands',\n",
       "  'year': 2002,\n",
       "  'duration': 104,\n",
       "  'genres': ['Comedy', 'Drama', 'Romance'],\n",
       "  'rating': 6.1,\n",
       "  'directors': ['Shane Meadows'],\n",
       "  'cast': ['Robert Carlyle', 'Rhys Ifans', 'Kathy Burke', 'Vanessa Feltz']},\n",
       " {'title': 'Once Upon a Time in Ukraine',\n",
       "  'year': 2020,\n",
       "  'duration': 90,\n",
       "  'genres': ['Action', 'Adventure', 'Comedy'],\n",
       "  'rating': 6.9,\n",
       "  'directors': ['Roman Perfilyev'],\n",
       "  'cast': ['Roman Lutskyi',\n",
       "   'Sergey Strelnikov',\n",
       "   'Kateryna Slyusar',\n",
       "   'Gen Seto']},\n",
       " {'title': 'Once Upon a Time in China IV',\n",
       "  'year': 1993,\n",
       "  'duration': 101,\n",
       "  'genres': ['Action'],\n",
       "  'rating': 5.9,\n",
       "  'directors': ['Bun Yuen'],\n",
       "  'cast': ['Wenzhuo Zhao', 'Jean Wang', 'Siu Chung Mok', 'Xin Xin Xiong']},\n",
       " {'title': 'Once Upon a Time in China',\n",
       "  'year': 1991,\n",
       "  'duration': 134,\n",
       "  'genres': ['Action', 'Adventure', 'Drama'],\n",
       "  'rating': 7.2,\n",
       "  'directors': ['Hark Tsui'],\n",
       "  'cast': ['Jet Li', 'Rosamund Kwan', 'Biao Yuen', 'Jacky Cheung']},\n",
       " {'title': 'Once Upon a Time in Venice',\n",
       "  'year': 2017,\n",
       "  'duration': 94,\n",
       "  'genres': ['Action', 'Adventure', 'Comedy'],\n",
       "  'rating': 5.3,\n",
       "  'directors': ['Mark Cullen'],\n",
       "  'cast': ['Bruce Willis', 'John Goodman', 'Jason Momoa', 'Emily Robinson']},\n",
       " {'title': 'Once Upon a Time in Euskadi',\n",
       "  'year': 2021,\n",
       "  'duration': 100,\n",
       "  'genres': ['Drama'],\n",
       "  'rating': 6.1,\n",
       "  'directors': ['Manu Gómez'],\n",
       "  'cast': ['Asier Flores', 'Aitor Calderón', 'Miguel Rivera', 'Hugo García']},\n",
       " {'title': 'Lagaan: Once Upon a Time in India',\n",
       "  'year': 2001,\n",
       "  'duration': 224,\n",
       "  'genres': ['Drama', 'Musical', 'Sport'],\n",
       "  'rating': 8.1,\n",
       "  'directors': ['Ashutosh Gowariker'],\n",
       "  'cast': ['Aamir Khan', 'Raghubir Yadav', 'Gracy Singh', 'Rachel Shelley']},\n",
       " {'title': 'Once Upon a Time in the North',\n",
       "  'year': 2012,\n",
       "  'duration': 128,\n",
       "  'genres': ['Drama', 'History'],\n",
       "  'rating': 6.1,\n",
       "  'directors': ['Jukka-Pekka Siili'],\n",
       "  'cast': ['Lauri Tilkanen',\n",
       "   'Mikko Leppilampi',\n",
       "   'Pamela Tola',\n",
       "   'Aku Hirviniemi']},\n",
       " {'title': 'Once Upon a Time in Hong Kong',\n",
       "  'year': 2021,\n",
       "  'duration': 105,\n",
       "  'genres': ['Action', 'Crime', 'History'],\n",
       "  'rating': 5.5,\n",
       "  'directors': ['Woody Hui Yan', 'Jing Wong'],\n",
       "  'cast': ['Louis Koo', 'Tony Ka Fai Leung', 'Francis Ng', 'Ka-Tung Lam']}]"
      ]
     },
     "execution_count": 44,
     "metadata": {},
     "output_type": "execute_result"
    }
   ],
   "source": [
    "# compute and store the answer in the variable 'once_upon_a_time_in_movies', then display it\n",
    "once_upon_a_time_in_movies = find_specific_movies(copy.deepcopy(movies), \"Once Upon a Time in\")\n",
    "once_upon_a_time_in_movies"
   ]
  },
  {
   "cell_type": "code",
   "execution_count": 45,
   "id": "8b3f9de8",
   "metadata": {
    "deletable": false,
    "editable": false
   },
   "outputs": [
    {
     "data": {
      "text/html": [
       "<p><strong><pre style='display: inline;'>q15</pre></strong> passed! 🚀</p><p><strong><pre style='display: inline;'>q15 - 2</pre> message:</strong> Note that the Gradescope autograder will deduct points if your code fails the following rubric point - '`find_specific_movies` function is not used to answer (-4)'. The public tests cannot determine if your code satisfies these requirements. Verify your code manually.</p>"
      ],
      "text/plain": [
       "q15 results: All test cases passed!\n",
       "q15 - 2 message: Note that the Gradescope autograder will deduct points if your code fails the following rubric point - '`find_specific_movies` function is not used to answer (-4)'. The public tests cannot determine if your code satisfies these requirements. Verify your code manually."
      ]
     },
     "execution_count": 45,
     "metadata": {},
     "output_type": "execute_result"
    }
   ],
   "source": [
    "grader.check(\"q15\")"
   ]
  },
  {
   "cell_type": "markdown",
   "id": "f12da630",
   "metadata": {
    "deletable": false,
    "editable": false
   },
   "source": [
    "### Function 5: `bucketize_by_genre(movies)`\n",
    "\n",
    "We require you to complete the below function to answer the next several questions (this is a **requirement**, and you will **lose points** if you do not implement this function)."
   ]
  },
  {
   "cell_type": "code",
   "execution_count": 46,
   "id": "9de75bd3",
   "metadata": {
    "execution": {
     "iopub.execute_input": "2023-10-25T01:32:47.075396Z",
     "iopub.status.busy": "2023-10-25T01:32:47.075396Z",
     "iopub.status.idle": "2023-10-25T01:32:47.079669Z",
     "shell.execute_reply": "2023-10-25T01:32:47.079669Z"
    },
    "tags": []
   },
   "outputs": [],
   "source": [
    "def bucketize_by_genre(movies):\n",
    "    x = {}\n",
    "    for movie in movies:\n",
    "        for genre in movie['genres']:\n",
    "            if genre not in x:\n",
    "                x[genre] = [movie]\n",
    "            else:\n",
    "                x[genre].append(movie)\n",
    "    return x\n",
    "    \"\"\"bucketize_by_genre(movies) takes a list of movie dictionaries;\n",
    "    it returns a dict in which each genre is a key and\n",
    "    the value is a list of all movies that contain that genre\"\"\"\n",
    "    # TODO: initialize a dictionary\n",
    "    # TODO: loop through all movies\n",
    "    # TODO:     loop through all genres in this movie\n",
    "    # TODO:         if this genre is not a key in our dictionary, set the value associated with this genre to an empty list\n",
    "    # TODO:         add the movie to the list associated with this genre\n",
    "    # TODO: return the dictionary"
   ]
  },
  {
   "cell_type": "code",
   "execution_count": 47,
   "id": "efb0c718",
   "metadata": {
    "deletable": false,
    "editable": false
   },
   "outputs": [
    {
     "data": {
      "text/html": [
       "<p><strong><pre style='display: inline;'>bucketize_by_genre</pre></strong> passed! 🍀</p><p><strong><pre style='display: inline;'>bucketize_by_genre - 1</pre> message:</strong> Note that the Gradescope autograder will deduct points if your code fails the following rubric point - 'function logic is incorrect (-2)'. The public tests cannot determine if your code satisfies these requirements. Verify your code manually.</p><p><strong><pre style='display: inline;'>bucketize_by_genre - 2</pre> message:</strong> Note that the Gradescope autograder will deduct points if your code fails the following rubric point - 'function is called more than once with the same input list (-2)'. The public tests cannot determine if your code satisfies these requirements. Verify your code manually.</p>"
      ],
      "text/plain": [
       "bucketize_by_genre results: All test cases passed!\n",
       "bucketize_by_genre - 1 message: Note that the Gradescope autograder will deduct points if your code fails the following rubric point - 'function logic is incorrect (-2)'. The public tests cannot determine if your code satisfies these requirements. Verify your code manually.\n",
       "bucketize_by_genre - 2 message: Note that the Gradescope autograder will deduct points if your code fails the following rubric point - 'function is called more than once with the same input list (-2)'. The public tests cannot determine if your code satisfies these requirements. Verify your code manually."
      ]
     },
     "execution_count": 47,
     "metadata": {},
     "output_type": "execute_result"
    }
   ],
   "source": [
    "grader.check(\"bucketize_by_genre\")"
   ]
  },
  {
   "cell_type": "markdown",
   "id": "bd90ad89",
   "metadata": {
    "deletable": false,
    "editable": false
   },
   "source": [
    "**Warning:** You are **not** allowed to call `bucketize_by_genre` more than once on the full list of movies (`movies`) in your notebook. The Gradescope autograder will **deduct points** if you call `bucketize_by_genre` again on `movies`."
   ]
  },
  {
   "cell_type": "code",
   "execution_count": 48,
   "id": "fb744cef",
   "metadata": {
    "execution": {
     "iopub.execute_input": "2023-10-25T01:32:47.098166Z",
     "iopub.status.busy": "2023-10-25T01:32:47.098166Z",
     "iopub.status.idle": "2023-10-25T01:32:47.139842Z",
     "shell.execute_reply": "2023-10-25T01:32:47.139842Z"
    },
    "tags": []
   },
   "outputs": [],
   "source": [
    "# call the function bucketize_by_genre on 'movies' and store it in the variable 'genre_dict'\n",
    "# do NOT display the output directly\n",
    "x = copy.deepcopy(movies)\n",
    "genre_dict = bucketize_by_genre(x)\n"
   ]
  },
  {
   "cell_type": "code",
   "execution_count": 49,
   "id": "6b493b38",
   "metadata": {
    "deletable": false,
    "editable": false
   },
   "outputs": [
    {
     "data": {
      "text/html": [
       "<p><strong><pre style='display: inline;'>genre_dict</pre></strong> passed! 🌈</p><p><strong><pre style='display: inline;'>genre_dict - 1</pre> message:</strong> Note that the Gradescope autograder will deduct points if your code fails the following rubric point - 'data structure is defined incorrectly (-3)'. The public tests cannot determine if your code satisfies these requirements. Verify your code manually.</p><p><strong><pre style='display: inline;'>genre_dict - 2</pre> message:</strong> Note that the Gradescope autograder will deduct points if your code fails the following rubric point - '`bucketize_by_genre` function is not used to answer (-1)'. The public tests cannot determine if your code satisfies these requirements. Verify your code manually.</p><p><strong><pre style='display: inline;'>genre_dict - 3</pre> message:</strong> Note that the Gradescope autograder will deduct points if your code fails the following rubric point - 'data structure is redefined or modified after its initialization (-1)'. The public tests cannot determine if your code satisfies these requirements. Verify your code manually.</p>"
      ],
      "text/plain": [
       "genre_dict results: All test cases passed!\n",
       "genre_dict - 1 message: Note that the Gradescope autograder will deduct points if your code fails the following rubric point - 'data structure is defined incorrectly (-3)'. The public tests cannot determine if your code satisfies these requirements. Verify your code manually.\n",
       "genre_dict - 2 message: Note that the Gradescope autograder will deduct points if your code fails the following rubric point - '`bucketize_by_genre` function is not used to answer (-1)'. The public tests cannot determine if your code satisfies these requirements. Verify your code manually.\n",
       "genre_dict - 3 message: Note that the Gradescope autograder will deduct points if your code fails the following rubric point - 'data structure is redefined or modified after its initialization (-1)'. The public tests cannot determine if your code satisfies these requirements. Verify your code manually."
      ]
     },
     "execution_count": 49,
     "metadata": {},
     "output_type": "execute_result"
    }
   ],
   "source": [
    "grader.check(\"genre_dict\")"
   ]
  },
  {
   "cell_type": "markdown",
   "id": "a58dcf95",
   "metadata": {
    "deletable": false,
    "editable": false
   },
   "source": [
    "**Question 16:** How many **unique** movie `genres` are present in the dataset?"
   ]
  },
  {
   "cell_type": "code",
   "execution_count": 50,
   "id": "2b538994",
   "metadata": {
    "execution": {
     "iopub.execute_input": "2023-10-25T01:32:47.165844Z",
     "iopub.status.busy": "2023-10-25T01:32:47.164844Z",
     "iopub.status.idle": "2023-10-25T01:32:47.169910Z",
     "shell.execute_reply": "2023-10-25T01:32:47.169910Z"
    },
    "tags": []
   },
   "outputs": [
    {
     "data": {
      "text/plain": [
       "24"
      ]
     },
     "execution_count": 50,
     "metadata": {},
     "output_type": "execute_result"
    }
   ],
   "source": [
    "# compute and store the answer in the variable 'num_genres', then display it\n",
    "num_genres = len(genre_dict)\n",
    "num_genres"
   ]
  },
  {
   "cell_type": "code",
   "execution_count": 51,
   "id": "f0173ab6",
   "metadata": {
    "deletable": false,
    "editable": false
   },
   "outputs": [
    {
     "data": {
      "text/html": [
       "<p><strong><pre style='display: inline;'>q16</pre></strong> passed! 🚀</p><p><strong><pre style='display: inline;'>q16 - 2</pre> message:</strong> Note that the Gradescope autograder will deduct points if your code fails the following rubric point - 'incorrect logic is used to answer (-1)'. The public tests cannot determine if your code satisfies these requirements. Verify your code manually.</p><p><strong><pre style='display: inline;'>q16 - 3</pre> message:</strong> Note that the Gradescope autograder will deduct points if your code fails the following rubric point - 'answer uses loops to find number of unique movie genres (-1)'. The public tests cannot determine if your code satisfies these requirements. Verify your code manually.</p><p><strong><pre style='display: inline;'>q16 - 4</pre> message:</strong> Note that the Gradescope autograder will deduct points if your code fails the following rubric point - '`genre_dict` data structure is not used to answer (-2)'. The public tests cannot determine if your code satisfies these requirements. Verify your code manually.</p>"
      ],
      "text/plain": [
       "q16 results: All test cases passed!\n",
       "q16 - 2 message: Note that the Gradescope autograder will deduct points if your code fails the following rubric point - 'incorrect logic is used to answer (-1)'. The public tests cannot determine if your code satisfies these requirements. Verify your code manually.\n",
       "q16 - 3 message: Note that the Gradescope autograder will deduct points if your code fails the following rubric point - 'answer uses loops to find number of unique movie genres (-1)'. The public tests cannot determine if your code satisfies these requirements. Verify your code manually.\n",
       "q16 - 4 message: Note that the Gradescope autograder will deduct points if your code fails the following rubric point - '`genre_dict` data structure is not used to answer (-2)'. The public tests cannot determine if your code satisfies these requirements. Verify your code manually."
      ]
     },
     "execution_count": 51,
     "metadata": {},
     "output_type": "execute_result"
    }
   ],
   "source": [
    "grader.check(\"q16\")"
   ]
  },
  {
   "cell_type": "markdown",
   "id": "1025862d",
   "metadata": {
    "deletable": false,
    "editable": false
   },
   "source": [
    "**Question 17:** How many *Romance* movies (i.e. movies with *Romance* as one of their `genres`) do we have in the dataset released **after** the `year` *2019*?\n",
    "\n",
    "Your output **must** be an **int**. You **must** use the `genre_dict` data structure to answer this question."
   ]
  },
  {
   "cell_type": "code",
   "execution_count": 52,
   "id": "e4e81581",
   "metadata": {
    "execution": {
     "iopub.execute_input": "2023-10-25T01:32:47.202515Z",
     "iopub.status.busy": "2023-10-25T01:32:47.202515Z",
     "iopub.status.idle": "2023-10-25T01:32:47.211951Z",
     "shell.execute_reply": "2023-10-25T01:32:47.211951Z"
    },
    "tags": []
   },
   "outputs": [
    {
     "data": {
      "text/plain": [
       "1011"
      ]
     },
     "execution_count": 52,
     "metadata": {},
     "output_type": "execute_result"
    }
   ],
   "source": [
    "# compute and store the answer in the variable 'romance_after_2019', then display it\n",
    "romance_after_2019 = genre_dict['Romance']\n",
    "x = 0\n",
    "for movie in romance_after_2019:\n",
    "    if movie['year'] > 2019:\n",
    "        x += 1\n",
    "romance_after_2019 = x\n",
    "romance_after_2019"
   ]
  },
  {
   "cell_type": "code",
   "execution_count": 53,
   "id": "e4b7f87b",
   "metadata": {
    "deletable": false,
    "editable": false
   },
   "outputs": [
    {
     "data": {
      "text/html": [
       "<p><strong><pre style='display: inline;'>q17</pre></strong> passed! ✨</p><p><strong><pre style='display: inline;'>q17 - 2</pre> message:</strong> Note that the Gradescope autograder will deduct points if your code fails the following rubric point - 'incorrect logic is used to answer (-1)'. The public tests cannot determine if your code satisfies these requirements. Verify your code manually.</p><p><strong><pre style='display: inline;'>q17 - 3</pre> message:</strong> Note that the Gradescope autograder will deduct points if your code fails the following rubric point - 'answer uses loops to iterate over dictionary keys (-1)'. The public tests cannot determine if your code satisfies these requirements. Verify your code manually.</p><p><strong><pre style='display: inline;'>q17 - 4</pre> message:</strong> Note that the Gradescope autograder will deduct points if your code fails the following rubric point - '`genre_dict` data structure is not used to answer (-1)'. The public tests cannot determine if your code satisfies these requirements. Verify your code manually.</p>"
      ],
      "text/plain": [
       "q17 results: All test cases passed!\n",
       "q17 - 2 message: Note that the Gradescope autograder will deduct points if your code fails the following rubric point - 'incorrect logic is used to answer (-1)'. The public tests cannot determine if your code satisfies these requirements. Verify your code manually.\n",
       "q17 - 3 message: Note that the Gradescope autograder will deduct points if your code fails the following rubric point - 'answer uses loops to iterate over dictionary keys (-1)'. The public tests cannot determine if your code satisfies these requirements. Verify your code manually.\n",
       "q17 - 4 message: Note that the Gradescope autograder will deduct points if your code fails the following rubric point - '`genre_dict` data structure is not used to answer (-1)'. The public tests cannot determine if your code satisfies these requirements. Verify your code manually."
      ]
     },
     "execution_count": 53,
     "metadata": {},
     "output_type": "execute_result"
    }
   ],
   "source": [
    "grader.check(\"q17\")"
   ]
  },
  {
   "cell_type": "markdown",
   "id": "1d9c4f87",
   "metadata": {
    "deletable": false,
    "editable": false
   },
   "source": [
    "**Question 18:** List the `title` of all *Documentary* movies (i.e. movies with *Documentary* as one of their `genres`) with `duration` **larger** than *240* in the dataset.\n",
    "\n",
    "Your output **must** be a **list** of **strings**. You **must** use the `genre_dict` data structure to answer this question."
   ]
  },
  {
   "cell_type": "code",
   "execution_count": 54,
   "id": "9181cdb3",
   "metadata": {
    "execution": {
     "iopub.execute_input": "2023-10-25T01:32:47.253496Z",
     "iopub.status.busy": "2023-10-25T01:32:47.253496Z",
     "iopub.status.idle": "2023-10-25T01:32:47.259707Z",
     "shell.execute_reply": "2023-10-25T01:32:47.259707Z"
    },
    "tags": []
   },
   "outputs": [
    {
     "data": {
      "text/plain": [
       "['The Hour of the Furnaces',\n",
       " 'September 11: The New Pearl Harbor',\n",
       " 'The Cure for Insomnia',\n",
       " 'At Berkeley',\n",
       " '16 Days of Glory',\n",
       " 'Route One USA']"
      ]
     },
     "execution_count": 54,
     "metadata": {},
     "output_type": "execute_result"
    }
   ],
   "source": [
    "# compute and store the answer in the variable 'docus_longer_than_240_mins', then display it\n",
    "docus_longer_than_240_mins = genre_dict['Documentary']\n",
    "x = []\n",
    "for movie in docus_longer_than_240_mins:\n",
    "    if movie['duration'] > 240:\n",
    "        x.append(movie['title'])\n",
    "docus_longer_than_240_mins = x\n",
    "docus_longer_than_240_mins"
   ]
  },
  {
   "cell_type": "code",
   "execution_count": 55,
   "id": "df043f5e",
   "metadata": {
    "deletable": false,
    "editable": false
   },
   "outputs": [
    {
     "data": {
      "text/html": [
       "<p><strong><pre style='display: inline;'>q18</pre></strong> passed! 💯</p><p><strong><pre style='display: inline;'>q18 - 2</pre> message:</strong> Note that the Gradescope autograder will deduct points if your code fails the following rubric point - 'correct comparison operator is not used (-1)'. The public tests cannot determine if your code satisfies these requirements. Verify your code manually.</p><p><strong><pre style='display: inline;'>q18 - 3</pre> message:</strong> Note that the Gradescope autograder will deduct points if your code fails the following rubric point - 'incorrect logic is used to answer (-1)'. The public tests cannot determine if your code satisfies these requirements. Verify your code manually.</p><p><strong><pre style='display: inline;'>q18 - 4</pre> message:</strong> Note that the Gradescope autograder will deduct points if your code fails the following rubric point - 'answer uses loops to iterate over dictionary keys (-1)'. The public tests cannot determine if your code satisfies these requirements. Verify your code manually.</p><p><strong><pre style='display: inline;'>q18 - 5</pre> message:</strong> Note that the Gradescope autograder will deduct points if your code fails the following rubric point - '`genre_dict` data structure is not used to answer (-1)'. The public tests cannot determine if your code satisfies these requirements. Verify your code manually.</p>"
      ],
      "text/plain": [
       "q18 results: All test cases passed!\n",
       "q18 - 2 message: Note that the Gradescope autograder will deduct points if your code fails the following rubric point - 'correct comparison operator is not used (-1)'. The public tests cannot determine if your code satisfies these requirements. Verify your code manually.\n",
       "q18 - 3 message: Note that the Gradescope autograder will deduct points if your code fails the following rubric point - 'incorrect logic is used to answer (-1)'. The public tests cannot determine if your code satisfies these requirements. Verify your code manually.\n",
       "q18 - 4 message: Note that the Gradescope autograder will deduct points if your code fails the following rubric point - 'answer uses loops to iterate over dictionary keys (-1)'. The public tests cannot determine if your code satisfies these requirements. Verify your code manually.\n",
       "q18 - 5 message: Note that the Gradescope autograder will deduct points if your code fails the following rubric point - '`genre_dict` data structure is not used to answer (-1)'. The public tests cannot determine if your code satisfies these requirements. Verify your code manually."
      ]
     },
     "execution_count": 55,
     "metadata": {},
     "output_type": "execute_result"
    }
   ],
   "source": [
    "grader.check(\"q18\")"
   ]
  },
  {
   "cell_type": "markdown",
   "id": "8f0d80a6",
   "metadata": {
    "deletable": false,
    "editable": false
   },
   "source": [
    "**Question 19:** Which movie `genre` is *Blake Lively* the most involved with?\n",
    "\n",
    "We say that *Blake Lively* is involved with a movie if she is **either** a *director* **or** a *cast member* of that movie. You need to find the movie `genre` with the **highest** number of movies that *Blake Lively* is involved with. There is a **unique** `genre` that *Blake Lively* is most involved with. You do **not** have to worry about breaking ties.\n",
    "\n",
    "You may **assume** that there are **no** movies in the dataset with the string `\"Blake Lively\"` in their `title`.\n",
    "\n",
    "**Hint:** You can combine the *two* functions above to bucketize the movies that *Blake Lively* was involved with by their `genres`. Then, you can loop through each genre to find the one with the most number of movies in it."
   ]
  },
  {
   "cell_type": "code",
   "execution_count": 56,
   "id": "781ac9a6",
   "metadata": {
    "execution": {
     "iopub.execute_input": "2023-10-25T01:32:47.301445Z",
     "iopub.status.busy": "2023-10-25T01:32:47.301445Z",
     "iopub.status.idle": "2023-10-25T01:32:48.250488Z",
     "shell.execute_reply": "2023-10-25T01:32:48.250488Z"
    },
    "tags": []
   },
   "outputs": [
    {
     "data": {
      "text/plain": [
       "'Drama'"
      ]
     },
     "execution_count": 56,
     "metadata": {},
     "output_type": "execute_result"
    }
   ],
   "source": [
    "# compute and store the answer in the variable 'blake_lively_genre', then display it\n",
    "blake_lively_genre = {}\n",
    "x = 0\n",
    "y = ''\n",
    "for genre in genre_dict:\n",
    "    for movie in genre_dict[genre]:\n",
    "        if 'Blake Lively' in movie['cast']:\n",
    "            if genre not in blake_lively_genre:\n",
    "                blake_lively_genre[genre] = 1\n",
    "            else:\n",
    "                blake_lively_genre[genre] += 1\n",
    "\n",
    "for key in blake_lively_genre:\n",
    "    if blake_lively_genre[key] > x:\n",
    "        x = blake_lively_genre[key]\n",
    "        y = key\n",
    "\n",
    "blake_lively_genre = y\n",
    "blake_lively_genre"
   ]
  },
  {
   "cell_type": "code",
   "execution_count": 57,
   "id": "4db9ab46",
   "metadata": {
    "deletable": false,
    "editable": false
   },
   "outputs": [
    {
     "data": {
      "text/html": [
       "<p><strong><pre style='display: inline;'>q19</pre></strong> passed! 💯</p><p><strong><pre style='display: inline;'>q19 - 2</pre> message:</strong> Note that the Gradescope autograder will deduct points if your code fails the following rubric point - 'only movies that *Blake Lively* was `cast` in are considered (-1)'. The public tests cannot determine if your code satisfies these requirements. Verify your code manually.</p><p><strong><pre style='display: inline;'>q19 - 3</pre> message:</strong> Note that the Gradescope autograder will deduct points if your code fails the following rubric point - 'movies other than those involving *Blake Lively* are considered (-1)'. The public tests cannot determine if your code satisfies these requirements. Verify your code manually.</p><p><strong><pre style='display: inline;'>q19 - 4</pre> message:</strong> Note that the Gradescope autograder will deduct points if your code fails the following rubric point - 'incorrect logic is used to answer (-1)'. The public tests cannot determine if your code satisfies these requirements. Verify your code manually.</p>"
      ],
      "text/plain": [
       "q19 results: All test cases passed!\n",
       "q19 - 2 message: Note that the Gradescope autograder will deduct points if your code fails the following rubric point - 'only movies that *Blake Lively* was `cast` in are considered (-1)'. The public tests cannot determine if your code satisfies these requirements. Verify your code manually.\n",
       "q19 - 3 message: Note that the Gradescope autograder will deduct points if your code fails the following rubric point - 'movies other than those involving *Blake Lively* are considered (-1)'. The public tests cannot determine if your code satisfies these requirements. Verify your code manually.\n",
       "q19 - 4 message: Note that the Gradescope autograder will deduct points if your code fails the following rubric point - 'incorrect logic is used to answer (-1)'. The public tests cannot determine if your code satisfies these requirements. Verify your code manually."
      ]
     },
     "execution_count": 57,
     "metadata": {},
     "output_type": "execute_result"
    }
   ],
   "source": [
    "grader.check(\"q19\")"
   ]
  },
  {
   "cell_type": "markdown",
   "id": "3e6b03b4",
   "metadata": {
    "deletable": false,
    "editable": false
   },
   "source": [
    "**Question 20:** Who are the `directors` of the *Horror* movies with the **highest** `rating` in the movies dataset?\n",
    "\n",
    "There are **multiple** *Horror* movies in the dataset with the joint highest rating. You **must** output a **list** of **strings** containing the **names** of **all** the `directors` of **all** these movies.\n",
    "\n",
    "**Hint:** If you are unsure how to efficiently add the elements of one list to another, please review any of the lecture notes from the October 9 lectures ([Mike](https://canvas.wisc.edu/courses/374263/files/folder/Mikes_Lecture_Notes/Lec14_Lists), [Gurmail](https://git.doit.wisc.edu/cdis/cs/courses/cs220/cs220-lecture-material/-/tree/main/f23/Gurmail_Lecture_Notes/14_Lists), or [Cole](https://git.doit.wisc.edu/cdis/cs/courses/cs220/cs220-lecture-material/-/tree/main/f23/Cole_Lecture_Notes/14_Lists))."
   ]
  },
  {
   "cell_type": "code",
   "execution_count": 58,
   "id": "97989a12",
   "metadata": {
    "execution": {
     "iopub.execute_input": "2023-10-25T01:32:48.290820Z",
     "iopub.status.busy": "2023-10-25T01:32:48.290820Z",
     "iopub.status.idle": "2023-10-25T01:32:48.301370Z",
     "shell.execute_reply": "2023-10-25T01:32:48.301370Z"
    },
    "tags": []
   },
   "outputs": [
    {
     "data": {
      "text/plain": [
       "['Srini Hanumantharaju', 'Srini', 'Chris Delforce']"
      ]
     },
     "execution_count": 58,
     "metadata": {},
     "output_type": "execute_result"
    }
   ],
   "source": [
    "# compute and store the answer in the variable 'max_horror_rating_directors', then display it\n",
    "\n",
    "max_horror_rating_directors = []\n",
    "high_rating = 0\n",
    "for movie in genre_dict['Horror']:\n",
    "    if movie['rating'] > high_rating:\n",
    "        high_rating = movie['rating']\n",
    "        max_horror_rating_directors = copy.copy(movie['directors'])\n",
    "    elif movie['rating'] == high_rating:\n",
    "        max_horror_rating_directors.extend(movie['directors'])\n",
    "max_horror_rating_directors"
   ]
  },
  {
   "cell_type": "code",
   "execution_count": 59,
   "id": "2add6e77",
   "metadata": {
    "deletable": false,
    "editable": false
   },
   "outputs": [
    {
     "data": {
      "text/html": [
       "<p><strong><pre style='display: inline;'>q20</pre></strong> passed! ✨</p><p><strong><pre style='display: inline;'>q20 - 2</pre> message:</strong> Note that the Gradescope autograder will deduct points if your code fails the following rubric point - 'incorrect logic is used to answer (-2)'. The public tests cannot determine if your code satisfies these requirements. Verify your code manually.</p>"
      ],
      "text/plain": [
       "q20 results: All test cases passed!\n",
       "q20 - 2 message: Note that the Gradescope autograder will deduct points if your code fails the following rubric point - 'incorrect logic is used to answer (-2)'. The public tests cannot determine if your code satisfies these requirements. Verify your code manually."
      ]
     },
     "execution_count": 59,
     "metadata": {},
     "output_type": "execute_result"
    }
   ],
   "source": [
    "grader.check(\"q20\")"
   ]
  },
  {
   "cell_type": "code",
   "execution_count": 60,
   "id": "6b0a6fe3",
   "metadata": {
    "deletable": false,
    "editable": false
   },
   "outputs": [
    {
     "data": {
      "text/html": [
       "<p><strong><pre style='display: inline;'>general_deductions</pre></strong> passed! 🌈</p><p><strong><pre style='display: inline;'>general_deductions - 1</pre> message:</strong> Note that the Gradescope autograder will deduct points if your code fails the following rubric point - 'Outputs not visible/did not save the notebook file prior to running the cell containing \"export\". We cannot see your output if you do not save before generating the zip file. (-3)'. The public tests cannot determine if your code satisfies these requirements. Verify your code manually.</p><p><strong><pre style='display: inline;'>general_deductions - 2</pre> message:</strong> Note that the Gradescope autograder will deduct points if your code fails the following rubric point - 'Used concepts/modules such as csv.DictReader and pandas not covered in class yet. Note that built-in functions that you have been introduced to can be used. (-3)'. The public tests cannot determine if your code satisfies these requirements. Verify your code manually.</p><p><strong><pre style='display: inline;'>general_deductions - 3</pre> message:</strong> Note that the Gradescope autograder will deduct points if your code fails the following rubric point - 'Large outputs such as movies are displayed in the notebook. (-3)'. The public tests cannot determine if your code satisfies these requirements. Verify your code manually.</p><p><strong><pre style='display: inline;'>general_deductions - 4</pre> message:</strong> Note that the Gradescope autograder will deduct points if your code fails the following rubric point - 'Import statements are not mentioned in the required cell at the top of the notebook. (-1)'. The public tests cannot determine if your code satisfies these requirements. Verify your code manually.</p>"
      ],
      "text/plain": [
       "general_deductions results: All test cases passed!\n",
       "general_deductions - 1 message: Note that the Gradescope autograder will deduct points if your code fails the following rubric point - 'Outputs not visible/did not save the notebook file prior to running the cell containing \"export\". We cannot see your output if you do not save before generating the zip file. (-3)'. The public tests cannot determine if your code satisfies these requirements. Verify your code manually.\n",
       "general_deductions - 2 message: Note that the Gradescope autograder will deduct points if your code fails the following rubric point - 'Used concepts/modules such as csv.DictReader and pandas not covered in class yet. Note that built-in functions that you have been introduced to can be used. (-3)'. The public tests cannot determine if your code satisfies these requirements. Verify your code manually.\n",
       "general_deductions - 3 message: Note that the Gradescope autograder will deduct points if your code fails the following rubric point - 'Large outputs such as movies are displayed in the notebook. (-3)'. The public tests cannot determine if your code satisfies these requirements. Verify your code manually.\n",
       "general_deductions - 4 message: Note that the Gradescope autograder will deduct points if your code fails the following rubric point - 'Import statements are not mentioned in the required cell at the top of the notebook. (-1)'. The public tests cannot determine if your code satisfies these requirements. Verify your code manually."
      ]
     },
     "execution_count": 60,
     "metadata": {},
     "output_type": "execute_result"
    }
   ],
   "source": [
    "grader.check(\"general_deductions\")"
   ]
  },
  {
   "cell_type": "code",
   "execution_count": 61,
   "id": "1712ee4c",
   "metadata": {
    "deletable": false,
    "editable": false
   },
   "outputs": [
    {
     "data": {
      "text/html": [
       "<p><strong><pre style='display: inline;'>summary</pre></strong> passed! 🌟</p>"
      ],
      "text/plain": [
       "summary results: All test cases passed!"
      ]
     },
     "execution_count": 61,
     "metadata": {},
     "output_type": "execute_result"
    }
   ],
   "source": [
    "grader.check(\"summary\")"
   ]
  },
  {
   "cell_type": "markdown",
   "id": "03b1457d",
   "metadata": {
    "deletable": false,
    "editable": false
   },
   "source": [
    "## Submission\n",
    "It is recommended that at this stage, you Restart and Run all Cells in your notebook.\n",
    "That will automatically save your work and generate a zip file for you to submit.\n",
    "\n",
    "**SUBMISSION INSTRUCTIONS**:\n",
    "1. **Upload** the zipfile to Gradescope.\n",
    "2. If you completed the project with a **partner**, make sure to **add their name** by clicking \"Add Group Member\"\n",
    "in Gradescope when uploading the zip file.\n",
    "3. Check **Gradescope** results as soon as the auto-grader execution gets completed.\n",
    "4. Your **final score** for this project is the score that you see on **Gradescope**.\n",
    "5. You are **allowed** to resubmit on Gradescope as many times as you want to.\n",
    "6. **Contact** a TA/PM if you lose any points on Gradescope for any **unclear reasons**."
   ]
  },
  {
   "cell_type": "code",
   "execution_count": null,
   "id": "75789b48",
   "metadata": {
    "cell_type": "code",
    "deletable": false,
    "editable": false
   },
   "outputs": [],
   "source": [
    "# running this cell will create a new save checkpoint for your notebook\n",
    "from IPython.display import display, Javascript\n",
    "display(Javascript('IPython.notebook.save_checkpoint();'))"
   ]
  },
  {
   "cell_type": "code",
   "execution_count": null,
   "id": "8a58e447",
   "metadata": {
    "cell_type": "code",
    "deletable": false,
    "editable": false
   },
   "outputs": [],
   "source": [
    "!jupytext --to py p8.ipynb"
   ]
  },
  {
   "cell_type": "code",
   "execution_count": null,
   "id": "b929adb8",
   "metadata": {
    "cell_type": "code",
    "deletable": false,
    "editable": false
   },
   "outputs": [],
   "source": [
    "public_tests.check_file_size(\"p8.ipynb\")\n",
    "grader.export(pdf=False, run_tests=False, files=[\"p8.py\"])"
   ]
  },
  {
   "cell_type": "markdown",
   "id": "cc1ec4f5",
   "metadata": {
    "deletable": false,
    "editable": false
   },
   "source": [
    " "
   ]
  }
 ],
 "metadata": {
  "kernelspec": {
   "display_name": "Python 3 (ipykernel)",
   "language": "python",
   "name": "python3"
  },
  "language_info": {
   "codemirror_mode": {
    "name": "ipython",
    "version": 3
   },
   "file_extension": ".py",
   "mimetype": "text/x-python",
   "name": "python",
   "nbconvert_exporter": "python",
   "pygments_lexer": "ipython3",
   "version": "3.11.4"
  },
  "otter": {
   "OK_FORMAT": true,
   "tests": {
    "bucketize_by_genre": {
     "name": "bucketize_by_genre",
     "points": 0,
     "suites": [
      {
       "cases": [
        {
         "code": ">>> \n>>> public_tests.rubric_check('bucketize_by_genre: function logic is incorrect')\nAll test cases passed!\n",
         "hidden": false,
         "locked": false,
         "success_message": "Note that the Gradescope autograder will deduct points if your code fails the following rubric point - 'function logic is incorrect (-2)'. The public tests cannot determine if your code satisfies these requirements. Verify your code manually."
        },
        {
         "code": ">>> \n>>> public_tests.rubric_check('bucketize_by_genre: function is called more than once with the same input list')\nAll test cases passed!\n",
         "hidden": false,
         "locked": false,
         "success_message": "Note that the Gradescope autograder will deduct points if your code fails the following rubric point - 'function is called more than once with the same input list (-2)'. The public tests cannot determine if your code satisfies these requirements. Verify your code manually."
        }
       ],
       "scored": true,
       "setup": "",
       "teardown": "",
       "type": "doctest"
      }
     ]
    },
    "find_specific_movies": {
     "name": "find_specific_movies",
     "points": 0,
     "suites": [
      {
       "cases": [
        {
         "code": ">>> \n>>> public_tests.rubric_check('find_specific_movies: function is redefined or defined more than once')\nAll test cases passed!\n",
         "hidden": false,
         "locked": false,
         "success_message": "Note that the Gradescope autograder will deduct points if your code fails the following rubric point - 'function is redefined or defined more than once (-2)'. The public tests cannot determine if your code satisfies these requirements. Verify your code manually."
        }
       ],
       "scored": true,
       "setup": "",
       "teardown": "",
       "type": "doctest"
      }
     ]
    },
    "general_deductions": {
     "name": "general_deductions",
     "points": 0,
     "suites": [
      {
       "cases": [
        {
         "code": ">>> \n>>> public_tests.rubric_check('general_deductions: Outputs not visible/did not save the notebook file prior to running the cell containing \"export\". We cannot see your output if you do not save before generating the zip file.')\nAll test cases passed!\n",
         "hidden": false,
         "locked": false,
         "success_message": "Note that the Gradescope autograder will deduct points if your code fails the following rubric point - 'Outputs not visible/did not save the notebook file prior to running the cell containing \"export\". We cannot see your output if you do not save before generating the zip file. (-3)'. The public tests cannot determine if your code satisfies these requirements. Verify your code manually."
        },
        {
         "code": ">>> \n>>> public_tests.rubric_check('general_deductions: Used concepts/modules such as csv.DictReader and pandas not covered in class yet. Note that built-in functions that you have been introduced to can be used.')\nAll test cases passed!\n",
         "hidden": false,
         "locked": false,
         "success_message": "Note that the Gradescope autograder will deduct points if your code fails the following rubric point - 'Used concepts/modules such as csv.DictReader and pandas not covered in class yet. Note that built-in functions that you have been introduced to can be used. (-3)'. The public tests cannot determine if your code satisfies these requirements. Verify your code manually."
        },
        {
         "code": ">>> \n>>> public_tests.rubric_check('general_deductions: Large outputs such as movies are displayed in the notebook.')\nAll test cases passed!\n",
         "hidden": false,
         "locked": false,
         "success_message": "Note that the Gradescope autograder will deduct points if your code fails the following rubric point - 'Large outputs such as movies are displayed in the notebook. (-3)'. The public tests cannot determine if your code satisfies these requirements. Verify your code manually."
        },
        {
         "code": ">>> \n>>> public_tests.rubric_check('general_deductions: Import statements are not mentioned in the required cell at the top of the notebook.')\nAll test cases passed!\n",
         "hidden": false,
         "locked": false,
         "success_message": "Note that the Gradescope autograder will deduct points if your code fails the following rubric point - 'Import statements are not mentioned in the required cell at the top of the notebook. (-1)'. The public tests cannot determine if your code satisfies these requirements. Verify your code manually."
        }
       ],
       "scored": true,
       "setup": "",
       "teardown": "",
       "type": "doctest"
      }
     ]
    },
    "genre_dict": {
     "name": "genre_dict",
     "points": 0,
     "suites": [
      {
       "cases": [
        {
         "code": ">>> \n>>> public_tests.rubric_check('genre_dict: data structure is defined incorrectly')\nAll test cases passed!\n",
         "hidden": false,
         "locked": false,
         "success_message": "Note that the Gradescope autograder will deduct points if your code fails the following rubric point - 'data structure is defined incorrectly (-3)'. The public tests cannot determine if your code satisfies these requirements. Verify your code manually."
        },
        {
         "code": ">>> \n>>> public_tests.rubric_check('genre_dict: `bucketize_by_genre` function is not used to answer', False)\nAll test cases passed!\n",
         "hidden": false,
         "locked": false,
         "success_message": "Note that the Gradescope autograder will deduct points if your code fails the following rubric point - '`bucketize_by_genre` function is not used to answer (-1)'. The public tests cannot determine if your code satisfies these requirements. Verify your code manually."
        },
        {
         "code": ">>> \n>>> public_tests.rubric_check('genre_dict: data structure is redefined or modified after its initialization')\nAll test cases passed!\n",
         "hidden": false,
         "locked": false,
         "success_message": "Note that the Gradescope autograder will deduct points if your code fails the following rubric point - 'data structure is redefined or modified after its initialization (-1)'. The public tests cannot determine if your code satisfies these requirements. Verify your code manually."
        }
       ],
       "scored": true,
       "setup": "",
       "teardown": "",
       "type": "doctest"
      }
     ]
    },
    "get_mapping": {
     "name": "get_mapping",
     "points": 0,
     "suites": [
      {
       "cases": [
        {
         "code": ">>> \n>>> public_tests.rubric_check('get_mapping: function logic is incorrect')\nAll test cases passed!\n",
         "hidden": false,
         "locked": false,
         "success_message": "Note that the Gradescope autograder will deduct points if your code fails the following rubric point - 'function logic is incorrect (-2)'. The public tests cannot determine if your code satisfies these requirements. Verify your code manually."
        },
        {
         "code": ">>> \n>>> public_tests.rubric_check('get_mapping: function is defined more than once')\nAll test cases passed!\n",
         "hidden": false,
         "locked": false,
         "success_message": "Note that the Gradescope autograder will deduct points if your code fails the following rubric point - 'function is defined more than once (-1)'. The public tests cannot determine if your code satisfies these requirements. Verify your code manually."
        }
       ],
       "scored": true,
       "setup": "",
       "teardown": "",
       "type": "doctest"
      }
     ]
    },
    "get_movies": {
     "name": "get_movies",
     "points": 0,
     "suites": [
      {
       "cases": [
        {
         "code": ">>> \n>>> public_tests.rubric_check('get_movies: function is called more than once with the same dataset')\nAll test cases passed!\n",
         "hidden": false,
         "locked": false,
         "success_message": "Note that the Gradescope autograder will deduct points if your code fails the following rubric point - 'function is called more than once with the same dataset (-4)'. The public tests cannot determine if your code satisfies these requirements. Verify your code manually."
        },
        {
         "code": ">>> \n>>> public_tests.rubric_check('get_movies: function logic is incorrect')\nAll test cases passed!\n",
         "hidden": false,
         "locked": false,
         "success_message": "Note that the Gradescope autograder will deduct points if your code fails the following rubric point - 'function logic is incorrect (-2)'. The public tests cannot determine if your code satisfies these requirements. Verify your code manually."
        },
        {
         "code": ">>> \n>>> public_tests.rubric_check('get_movies: `get_mapping` and `get_raw_movies` functions are not used', False)\nAll test cases passed!\n",
         "hidden": false,
         "locked": false,
         "success_message": "Note that the Gradescope autograder will deduct points if your code fails the following rubric point - '`get_mapping` and `get_raw_movies` functions are not used (-1)'. The public tests cannot determine if your code satisfies these requirements. Verify your code manually."
        },
        {
         "code": ">>> \n>>> public_tests.rubric_check('get_movies: function loops through IDs in the `mapping_path` file')\nAll test cases passed!\n",
         "hidden": false,
         "locked": false,
         "success_message": "Note that the Gradescope autograder will deduct points if your code fails the following rubric point - 'function loops through IDs in the `mapping_path` file (-1)'. The public tests cannot determine if your code satisfies these requirements. Verify your code manually."
        }
       ],
       "scored": true,
       "setup": "",
       "teardown": "",
       "type": "doctest"
      }
     ]
    },
    "get_raw_movies": {
     "name": "get_raw_movies",
     "points": 0,
     "suites": [
      {
       "cases": [
        {
         "code": ">>> \n>>> public_tests.rubric_check('get_raw_movies: function logic is incorrect')\nAll test cases passed!\n",
         "hidden": false,
         "locked": false,
         "success_message": "Note that the Gradescope autograder will deduct points if your code fails the following rubric point - 'function logic is incorrect (-3)'. The public tests cannot determine if your code satisfies these requirements. Verify your code manually."
        },
        {
         "code": ">>> \n>>> public_tests.rubric_check('get_raw_movies: column indices are hardcoded instead of using the header to identify column names')\nAll test cases passed!\n",
         "hidden": false,
         "locked": false,
         "success_message": "Note that the Gradescope autograder will deduct points if your code fails the following rubric point - 'column indices are hardcoded instead of using the header to identify column names (-1)'. The public tests cannot determine if your code satisfies these requirements. Verify your code manually."
        },
        {
         "code": ">>> \n>>> public_tests.rubric_check('get_raw_movies: function is defined more than once')\nAll test cases passed!\n",
         "hidden": false,
         "locked": false,
         "success_message": "Note that the Gradescope autograder will deduct points if your code fails the following rubric point - 'function is defined more than once (-1)'. The public tests cannot determine if your code satisfies these requirements. Verify your code manually."
        }
       ],
       "scored": true,
       "setup": "",
       "teardown": "",
       "type": "doctest"
      }
     ]
    },
    "movies": {
     "name": "movies",
     "points": 0,
     "suites": [
      {
       "cases": [
        {
         "code": ">>> \n>>> public_tests.rubric_check('movies: data structure is defined incorrectly')\nAll test cases passed!\n",
         "hidden": false,
         "locked": false,
         "success_message": "Note that the Gradescope autograder will deduct points if your code fails the following rubric point - 'data structure is defined incorrectly (-3)'. The public tests cannot determine if your code satisfies these requirements. Verify your code manually."
        },
        {
         "code": ">>> \n>>> public_tests.rubric_check('movies: data structure is redefined or modified after its initialization')\nAll test cases passed!\n",
         "hidden": false,
         "locked": false,
         "success_message": "Note that the Gradescope autograder will deduct points if your code fails the following rubric point - 'data structure is redefined or modified after its initialization (-2)'. The public tests cannot determine if your code satisfies these requirements. Verify your code manually."
        }
       ],
       "scored": true,
       "setup": "",
       "teardown": "",
       "type": "doctest"
      }
     ]
    },
    "q1": {
     "name": "q1",
     "points": 0,
     "suites": [
      {
       "cases": [
        {
         "code": ">>> public_tests.check('q1', small_mapping)\nAll test cases passed!\n",
         "hidden": false,
         "locked": false
        },
        {
         "code": ">>> \n>>> public_tests.rubric_check('q1: `get_mapping` function is not used to answer', False)\nAll test cases passed!\n",
         "hidden": false,
         "locked": false,
         "success_message": "Note that the Gradescope autograder will deduct points if your code fails the following rubric point - '`get_mapping` function is not used to answer (-2)'. The public tests cannot determine if your code satisfies these requirements. Verify your code manually."
        }
       ],
       "scored": true,
       "setup": "",
       "teardown": "",
       "type": "doctest"
      }
     ]
    },
    "q10": {
     "name": "q10",
     "points": 0,
     "suites": [
      {
       "cases": [
        {
         "code": ">>> public_tests.check('q10', second_movie_cast_small_movies)\nAll test cases passed!\n",
         "hidden": false,
         "locked": false
        },
        {
         "code": ">>> \n>>> public_tests.rubric_check('q10: incorrect logic is used to answer')\nAll test cases passed!\n",
         "hidden": false,
         "locked": false,
         "success_message": "Note that the Gradescope autograder will deduct points if your code fails the following rubric point - 'incorrect logic is used to answer (-1)'. The public tests cannot determine if your code satisfies these requirements. Verify your code manually."
        },
        {
         "code": ">>> \n>>> public_tests.rubric_check('q10: answer uses loops to iterate over dictionary keys')\nAll test cases passed!\n",
         "hidden": false,
         "locked": false,
         "success_message": "Note that the Gradescope autograder will deduct points if your code fails the following rubric point - 'answer uses loops to iterate over dictionary keys (-1)'. The public tests cannot determine if your code satisfies these requirements. Verify your code manually."
        },
        {
         "code": ">>> \n>>> public_tests.rubric_check('q10: `small_movies` data structure is not used to answer', False)\nAll test cases passed!\n",
         "hidden": false,
         "locked": false,
         "success_message": "Note that the Gradescope autograder will deduct points if your code fails the following rubric point - '`small_movies` data structure is not used to answer (-1)'. The public tests cannot determine if your code satisfies these requirements. Verify your code manually."
        }
       ],
       "scored": true,
       "setup": "",
       "teardown": "",
       "type": "doctest"
      }
     ]
    },
    "q11": {
     "name": "q11",
     "points": 0,
     "suites": [
      {
       "cases": [
        {
         "code": ">>> public_tests.check('q11', last_movie_directors_small_movies)\nAll test cases passed!\n",
         "hidden": false,
         "locked": false
        },
        {
         "code": ">>> \n>>> public_tests.rubric_check('q11: incorrect logic is used to answer')\nAll test cases passed!\n",
         "hidden": false,
         "locked": false,
         "success_message": "Note that the Gradescope autograder will deduct points if your code fails the following rubric point - 'incorrect logic is used to answer (-1)'. The public tests cannot determine if your code satisfies these requirements. Verify your code manually."
        },
        {
         "code": ">>> \n>>> public_tests.rubric_check('q11: answer uses loops to iterate over dictionary keys')\nAll test cases passed!\n",
         "hidden": false,
         "locked": false,
         "success_message": "Note that the Gradescope autograder will deduct points if your code fails the following rubric point - 'answer uses loops to iterate over dictionary keys (-1)'. The public tests cannot determine if your code satisfies these requirements. Verify your code manually."
        },
        {
         "code": ">>> \n>>> public_tests.rubric_check('q11: `small_movies` data structure is not used to answer', False)\nAll test cases passed!\n",
         "hidden": false,
         "locked": false,
         "success_message": "Note that the Gradescope autograder will deduct points if your code fails the following rubric point - '`small_movies` data structure is not used to answer (-1)'. The public tests cannot determine if your code satisfies these requirements. Verify your code manually."
        }
       ],
       "scored": true,
       "setup": "",
       "teardown": "",
       "type": "doctest"
      }
     ]
    },
    "q12": {
     "name": "q12",
     "points": 0,
     "suites": [
      {
       "cases": [
        {
         "code": ">>> public_tests.check('q12', movies_22202_22220)\nAll test cases passed!\n",
         "hidden": false,
         "locked": false
        },
        {
         "code": ">>> \n>>> public_tests.rubric_check('q12: `movies` data structure is not used to answer', False)\nAll test cases passed!\n",
         "hidden": false,
         "locked": false,
         "success_message": "Note that the Gradescope autograder will deduct points if your code fails the following rubric point - '`movies` data structure is not used to answer (-2)'. The public tests cannot determine if your code satisfies these requirements. Verify your code manually."
        },
        {
         "code": ">>> public_tests.rubric_check('q12: public tests')\nAll test cases passed!\n",
         "hidden": false,
         "locked": false
        }
       ],
       "scored": true,
       "setup": "",
       "teardown": "",
       "type": "doctest"
      }
     ]
    },
    "q13": {
     "name": "q13",
     "points": 0,
     "suites": [
      {
       "cases": [
        {
         "code": ">>> public_tests.check('q13', num_movies_2023)\nAll test cases passed!\n",
         "hidden": false,
         "locked": false
        },
        {
         "code": ">>> \n>>> public_tests.rubric_check('q13: incorrect logic is used to answer')\nAll test cases passed!\n",
         "hidden": false,
         "locked": false,
         "success_message": "Note that the Gradescope autograder will deduct points if your code fails the following rubric point - 'incorrect logic is used to answer (-1)'. The public tests cannot determine if your code satisfies these requirements. Verify your code manually."
        },
        {
         "code": ">>> \n>>> public_tests.rubric_check('q13: answer uses loops to iterate over dictionary keys')\nAll test cases passed!\n",
         "hidden": false,
         "locked": false,
         "success_message": "Note that the Gradescope autograder will deduct points if your code fails the following rubric point - 'answer uses loops to iterate over dictionary keys (-1)'. The public tests cannot determine if your code satisfies these requirements. Verify your code manually."
        },
        {
         "code": ">>> \n>>> public_tests.rubric_check('q13: `movies` data structure is not used to answer', False)\nAll test cases passed!\n",
         "hidden": false,
         "locked": false,
         "success_message": "Note that the Gradescope autograder will deduct points if your code fails the following rubric point - '`movies` data structure is not used to answer (-1)'. The public tests cannot determine if your code satisfies these requirements. Verify your code manually."
        }
       ],
       "scored": true,
       "setup": "",
       "teardown": "",
       "type": "doctest"
      }
     ]
    },
    "q14": {
     "name": "q14",
     "points": 0,
     "suites": [
      {
       "cases": [
        {
         "code": ">>> public_tests.check('q14', hitchcock_films)\nAll test cases passed!\n",
         "hidden": false,
         "locked": false
        },
        {
         "code": ">>> \n>>> public_tests.rubric_check('q14: `find_specific_movies` function is not used to answer', False)\nAll test cases passed!\n",
         "hidden": false,
         "locked": false,
         "success_message": "Note that the Gradescope autograder will deduct points if your code fails the following rubric point - '`find_specific_movies` function is not used to answer (-4)'. The public tests cannot determine if your code satisfies these requirements. Verify your code manually."
        }
       ],
       "scored": true,
       "setup": "",
       "teardown": "",
       "type": "doctest"
      }
     ]
    },
    "q15": {
     "name": "q15",
     "points": 0,
     "suites": [
      {
       "cases": [
        {
         "code": ">>> public_tests.check('q15', once_upon_a_time_in_movies)\nAll test cases passed!\n",
         "hidden": false,
         "locked": false
        },
        {
         "code": ">>> \n>>> public_tests.rubric_check('q15: `find_specific_movies` function is not used to answer', False)\nAll test cases passed!\n",
         "hidden": false,
         "locked": false,
         "success_message": "Note that the Gradescope autograder will deduct points if your code fails the following rubric point - '`find_specific_movies` function is not used to answer (-4)'. The public tests cannot determine if your code satisfies these requirements. Verify your code manually."
        }
       ],
       "scored": true,
       "setup": "",
       "teardown": "",
       "type": "doctest"
      }
     ]
    },
    "q16": {
     "name": "q16",
     "points": 0,
     "suites": [
      {
       "cases": [
        {
         "code": ">>> public_tests.check('q16', num_genres)\nAll test cases passed!\n",
         "hidden": false,
         "locked": false
        },
        {
         "code": ">>> \n>>> public_tests.rubric_check('q16: incorrect logic is used to answer')\nAll test cases passed!\n",
         "hidden": false,
         "locked": false,
         "success_message": "Note that the Gradescope autograder will deduct points if your code fails the following rubric point - 'incorrect logic is used to answer (-1)'. The public tests cannot determine if your code satisfies these requirements. Verify your code manually."
        },
        {
         "code": ">>> \n>>> public_tests.rubric_check('q16: answer uses loops to find number of unique movie genres')\nAll test cases passed!\n",
         "hidden": false,
         "locked": false,
         "success_message": "Note that the Gradescope autograder will deduct points if your code fails the following rubric point - 'answer uses loops to find number of unique movie genres (-1)'. The public tests cannot determine if your code satisfies these requirements. Verify your code manually."
        },
        {
         "code": ">>> \n>>> public_tests.rubric_check('q16: `genre_dict` data structure is not used to answer', False)\nAll test cases passed!\n",
         "hidden": false,
         "locked": false,
         "success_message": "Note that the Gradescope autograder will deduct points if your code fails the following rubric point - '`genre_dict` data structure is not used to answer (-2)'. The public tests cannot determine if your code satisfies these requirements. Verify your code manually."
        }
       ],
       "scored": true,
       "setup": "",
       "teardown": "",
       "type": "doctest"
      }
     ]
    },
    "q17": {
     "name": "q17",
     "points": 0,
     "suites": [
      {
       "cases": [
        {
         "code": ">>> public_tests.check('q17', romance_after_2019)\nAll test cases passed!\n",
         "hidden": false,
         "locked": false
        },
        {
         "code": ">>> \n>>> public_tests.rubric_check('q17: incorrect logic is used to answer')\nAll test cases passed!\n",
         "hidden": false,
         "locked": false,
         "success_message": "Note that the Gradescope autograder will deduct points if your code fails the following rubric point - 'incorrect logic is used to answer (-1)'. The public tests cannot determine if your code satisfies these requirements. Verify your code manually."
        },
        {
         "code": ">>> \n>>> public_tests.rubric_check('q17: answer uses loops to iterate over dictionary keys')\nAll test cases passed!\n",
         "hidden": false,
         "locked": false,
         "success_message": "Note that the Gradescope autograder will deduct points if your code fails the following rubric point - 'answer uses loops to iterate over dictionary keys (-1)'. The public tests cannot determine if your code satisfies these requirements. Verify your code manually."
        },
        {
         "code": ">>> \n>>> public_tests.rubric_check('q17: `genre_dict` data structure is not used to answer', False)\nAll test cases passed!\n",
         "hidden": false,
         "locked": false,
         "success_message": "Note that the Gradescope autograder will deduct points if your code fails the following rubric point - '`genre_dict` data structure is not used to answer (-1)'. The public tests cannot determine if your code satisfies these requirements. Verify your code manually."
        },
        {
         "code": ">>> public_tests.rubric_check('q17: public tests')\nAll test cases passed!\n",
         "hidden": false,
         "locked": false
        }
       ],
       "scored": true,
       "setup": "",
       "teardown": "",
       "type": "doctest"
      }
     ]
    },
    "q18": {
     "name": "q18",
     "points": 0,
     "suites": [
      {
       "cases": [
        {
         "code": ">>> public_tests.check('q18', docus_longer_than_240_mins)\nAll test cases passed!\n",
         "hidden": false,
         "locked": false
        },
        {
         "code": ">>> \n>>> public_tests.rubric_check('q18: correct comparison operator is not used', False)\nAll test cases passed!\n",
         "hidden": false,
         "locked": false,
         "success_message": "Note that the Gradescope autograder will deduct points if your code fails the following rubric point - 'correct comparison operator is not used (-1)'. The public tests cannot determine if your code satisfies these requirements. Verify your code manually."
        },
        {
         "code": ">>> \n>>> public_tests.rubric_check('q18: incorrect logic is used to answer')\nAll test cases passed!\n",
         "hidden": false,
         "locked": false,
         "success_message": "Note that the Gradescope autograder will deduct points if your code fails the following rubric point - 'incorrect logic is used to answer (-1)'. The public tests cannot determine if your code satisfies these requirements. Verify your code manually."
        },
        {
         "code": ">>> \n>>> public_tests.rubric_check('q18: answer uses loops to iterate over dictionary keys')\nAll test cases passed!\n",
         "hidden": false,
         "locked": false,
         "success_message": "Note that the Gradescope autograder will deduct points if your code fails the following rubric point - 'answer uses loops to iterate over dictionary keys (-1)'. The public tests cannot determine if your code satisfies these requirements. Verify your code manually."
        },
        {
         "code": ">>> \n>>> public_tests.rubric_check('q18: `genre_dict` data structure is not used to answer', False)\nAll test cases passed!\n",
         "hidden": false,
         "locked": false,
         "success_message": "Note that the Gradescope autograder will deduct points if your code fails the following rubric point - '`genre_dict` data structure is not used to answer (-1)'. The public tests cannot determine if your code satisfies these requirements. Verify your code manually."
        }
       ],
       "scored": true,
       "setup": "",
       "teardown": "",
       "type": "doctest"
      }
     ]
    },
    "q19": {
     "name": "q19",
     "points": 0,
     "suites": [
      {
       "cases": [
        {
         "code": ">>> public_tests.check('q19', blake_lively_genre)\nAll test cases passed!\n",
         "hidden": false,
         "locked": false
        },
        {
         "code": ">>> \n>>> public_tests.rubric_check('q19: only movies that *Blake Lively* was `cast` in are considered')\nAll test cases passed!\n",
         "hidden": false,
         "locked": false,
         "success_message": "Note that the Gradescope autograder will deduct points if your code fails the following rubric point - 'only movies that *Blake Lively* was `cast` in are considered (-1)'. The public tests cannot determine if your code satisfies these requirements. Verify your code manually."
        },
        {
         "code": ">>> \n>>> public_tests.rubric_check('q19: movies other than those involving *Blake Lively* are considered')\nAll test cases passed!\n",
         "hidden": false,
         "locked": false,
         "success_message": "Note that the Gradescope autograder will deduct points if your code fails the following rubric point - 'movies other than those involving *Blake Lively* are considered (-1)'. The public tests cannot determine if your code satisfies these requirements. Verify your code manually."
        },
        {
         "code": ">>> \n>>> public_tests.rubric_check('q19: incorrect logic is used to answer')\nAll test cases passed!\n",
         "hidden": false,
         "locked": false,
         "success_message": "Note that the Gradescope autograder will deduct points if your code fails the following rubric point - 'incorrect logic is used to answer (-1)'. The public tests cannot determine if your code satisfies these requirements. Verify your code manually."
        },
        {
         "code": ">>> public_tests.rubric_check('q19: public tests')\nAll test cases passed!\n",
         "hidden": false,
         "locked": false
        }
       ],
       "scored": true,
       "setup": "",
       "teardown": "",
       "type": "doctest"
      }
     ]
    },
    "q2": {
     "name": "q2",
     "points": 0,
     "suites": [
      {
       "cases": [
        {
         "code": ">>> public_tests.check('q2', nm1289434_value)\nAll test cases passed!\n",
         "hidden": false,
         "locked": false
        },
        {
         "code": ">>> \n>>> public_tests.rubric_check('q2: `small_mapping` data structure is not used to answer', False)\nAll test cases passed!\n",
         "hidden": false,
         "locked": false,
         "success_message": "Note that the Gradescope autograder will deduct points if your code fails the following rubric point - '`small_mapping` data structure is not used to answer (-2)'. The public tests cannot determine if your code satisfies these requirements. Verify your code manually."
        },
        {
         "code": ">>> \n>>> public_tests.rubric_check('q2: answer uses loops to iterate over dictionary keys')\nAll test cases passed!\n",
         "hidden": false,
         "locked": false,
         "success_message": "Note that the Gradescope autograder will deduct points if your code fails the following rubric point - 'answer uses loops to iterate over dictionary keys (-1)'. The public tests cannot determine if your code satisfies these requirements. Verify your code manually."
        }
       ],
       "scored": true,
       "setup": "",
       "teardown": "",
       "type": "doctest"
      }
     ]
    },
    "q20": {
     "name": "q20",
     "points": 0,
     "suites": [
      {
       "cases": [
        {
         "code": ">>> public_tests.check('q20', max_horror_rating_directors)\nAll test cases passed!\n",
         "hidden": false,
         "locked": false
        },
        {
         "code": ">>> \n>>> public_tests.rubric_check('q20: incorrect logic is used to answer')\nAll test cases passed!\n",
         "hidden": false,
         "locked": false,
         "success_message": "Note that the Gradescope autograder will deduct points if your code fails the following rubric point - 'incorrect logic is used to answer (-2)'. The public tests cannot determine if your code satisfies these requirements. Verify your code manually."
        },
        {
         "code": ">>> public_tests.rubric_check('q20: public tests')\nAll test cases passed!\n",
         "hidden": false,
         "locked": false
        }
       ],
       "scored": true,
       "setup": "",
       "teardown": "",
       "type": "doctest"
      }
     ]
    },
    "q3": {
     "name": "q3",
     "points": 0,
     "suites": [
      {
       "cases": [
        {
         "code": ">>> public_tests.check('q3', nm_values)\nAll test cases passed!\n",
         "hidden": false,
         "locked": false
        },
        {
         "code": ">>> \n>>> public_tests.rubric_check('q3: answer does not check only for keys that begin with *nm*')\nAll test cases passed!\n",
         "hidden": false,
         "locked": false,
         "success_message": "Note that the Gradescope autograder will deduct points if your code fails the following rubric point - 'answer does not check only for keys that begin with *nm* (-1)'. The public tests cannot determine if your code satisfies these requirements. Verify your code manually."
        },
        {
         "code": ">>> \n>>> public_tests.rubric_check('q3: `small_mapping` data structure is not used to answer', False)\nAll test cases passed!\n",
         "hidden": false,
         "locked": false,
         "success_message": "Note that the Gradescope autograder will deduct points if your code fails the following rubric point - '`small_mapping` data structure is not used to answer (-2)'. The public tests cannot determine if your code satisfies these requirements. Verify your code manually."
        }
       ],
       "scored": true,
       "setup": "",
       "teardown": "",
       "type": "doctest"
      }
     ]
    },
    "q4": {
     "name": "q4",
     "points": 0,
     "suites": [
      {
       "cases": [
        {
         "code": ">>> public_tests.check('q4', nm_murphy)\nAll test cases passed!\n",
         "hidden": false,
         "locked": false
        },
        {
         "code": ">>> \n>>> public_tests.rubric_check('q4: answer does not exclude people whose first name or middle name is Murphy')\nAll test cases passed!\n",
         "hidden": false,
         "locked": false,
         "success_message": "Note that the Gradescope autograder will deduct points if your code fails the following rubric point - 'answer does not exclude people whose first name or middle name is Murphy (-1)'. The public tests cannot determine if your code satisfies these requirements. Verify your code manually."
        },
        {
         "code": ">>> \n>>> public_tests.rubric_check('q4: answer does not exclude people whose last name contains Murphy as a substring')\nAll test cases passed!\n",
         "hidden": false,
         "locked": false,
         "success_message": "Note that the Gradescope autograder will deduct points if your code fails the following rubric point - 'answer does not exclude people whose last name contains Murphy as a substring (-1)'. The public tests cannot determine if your code satisfies these requirements. Verify your code manually."
        },
        {
         "code": ">>> \n>>> public_tests.rubric_check('q4: answer does not exclude movie titles')\nAll test cases passed!\n",
         "hidden": false,
         "locked": false,
         "success_message": "Note that the Gradescope autograder will deduct points if your code fails the following rubric point - 'answer does not exclude movie titles (-1)'. The public tests cannot determine if your code satisfies these requirements. Verify your code manually."
        },
        {
         "code": ">>> \n>>> public_tests.rubric_check('q4: `small_mapping` data structure is not used to answer', False)\nAll test cases passed!\n",
         "hidden": false,
         "locked": false,
         "success_message": "Note that the Gradescope autograder will deduct points if your code fails the following rubric point - '`small_mapping` data structure is not used to answer (-1)'. The public tests cannot determine if your code satisfies these requirements. Verify your code manually."
        }
       ],
       "scored": true,
       "setup": "",
       "teardown": "",
       "type": "doctest"
      }
     ]
    },
    "q5": {
     "name": "q5",
     "points": 0,
     "suites": [
      {
       "cases": [
        {
         "code": ">>> public_tests.check('q5', raw_small_movies)\nAll test cases passed!\n",
         "hidden": false,
         "locked": false
        },
        {
         "code": ">>> \n>>> public_tests.rubric_check('q5: `get_raw_movies` function is not used to answer', False)\nAll test cases passed!\n",
         "hidden": false,
         "locked": false,
         "success_message": "Note that the Gradescope autograder will deduct points if your code fails the following rubric point - '`get_raw_movies` function is not used to answer (-2)'. The public tests cannot determine if your code satisfies these requirements. Verify your code manually."
        }
       ],
       "scored": true,
       "setup": "",
       "teardown": "",
       "type": "doctest"
      }
     ]
    },
    "q6": {
     "name": "q6",
     "points": 0,
     "suites": [
      {
       "cases": [
        {
         "code": ">>> public_tests.check('q6', num_cast_first_movie)\nAll test cases passed!\n",
         "hidden": false,
         "locked": false
        },
        {
         "code": ">>> \n>>> public_tests.rubric_check('q6: answer uses loops to find number of cast members')\nAll test cases passed!\n",
         "hidden": false,
         "locked": false,
         "success_message": "Note that the Gradescope autograder will deduct points if your code fails the following rubric point - 'answer uses loops to find number of cast members (-1)'. The public tests cannot determine if your code satisfies these requirements. Verify your code manually."
        },
        {
         "code": ">>> \n>>> public_tests.rubric_check('q6: answer uses loops to iterate over dictionary keys')\nAll test cases passed!\n",
         "hidden": false,
         "locked": false,
         "success_message": "Note that the Gradescope autograder will deduct points if your code fails the following rubric point - 'answer uses loops to iterate over dictionary keys (-1)'. The public tests cannot determine if your code satisfies these requirements. Verify your code manually."
        },
        {
         "code": ">>> \n>>> public_tests.rubric_check('q6: incorrect logic is used to answer')\nAll test cases passed!\n",
         "hidden": false,
         "locked": false,
         "success_message": "Note that the Gradescope autograder will deduct points if your code fails the following rubric point - 'incorrect logic is used to answer (-1)'. The public tests cannot determine if your code satisfies these requirements. Verify your code manually."
        },
        {
         "code": ">>> \n>>> public_tests.rubric_check('q6: `raw_small_movies` data structure is not used to answer', False)\nAll test cases passed!\n",
         "hidden": false,
         "locked": false,
         "success_message": "Note that the Gradescope autograder will deduct points if your code fails the following rubric point - '`raw_small_movies` data structure is not used to answer (-1)'. The public tests cannot determine if your code satisfies these requirements. Verify your code manually."
        }
       ],
       "scored": true,
       "setup": "",
       "teardown": "",
       "type": "doctest"
      }
     ]
    },
    "q7": {
     "name": "q7",
     "points": 0,
     "suites": [
      {
       "cases": [
        {
         "code": ">>> public_tests.check('q7', first_actor_id_first_movie)\nAll test cases passed!\n",
         "hidden": false,
         "locked": false
        },
        {
         "code": ">>> \n>>> public_tests.rubric_check('q7: incorrect logic is used to answer')\nAll test cases passed!\n",
         "hidden": false,
         "locked": false,
         "success_message": "Note that the Gradescope autograder will deduct points if your code fails the following rubric point - 'incorrect logic is used to answer (-1)'. The public tests cannot determine if your code satisfies these requirements. Verify your code manually."
        },
        {
         "code": ">>> \n>>> public_tests.rubric_check('q7: answer uses loops to iterate over dictionary keys')\nAll test cases passed!\n",
         "hidden": false,
         "locked": false,
         "success_message": "Note that the Gradescope autograder will deduct points if your code fails the following rubric point - 'answer uses loops to iterate over dictionary keys (-1)'. The public tests cannot determine if your code satisfies these requirements. Verify your code manually."
        },
        {
         "code": ">>> \n>>> public_tests.rubric_check('q7: `raw_small_movies` data structure is not used to answer', False)\nAll test cases passed!\n",
         "hidden": false,
         "locked": false,
         "success_message": "Note that the Gradescope autograder will deduct points if your code fails the following rubric point - '`raw_small_movies` data structure is not used to answer (-1)'. The public tests cannot determine if your code satisfies these requirements. Verify your code manually."
        }
       ],
       "scored": true,
       "setup": "",
       "teardown": "",
       "type": "doctest"
      }
     ]
    },
    "q8": {
     "name": "q8",
     "points": 0,
     "suites": [
      {
       "cases": [
        {
         "code": ">>> public_tests.check('q8', small_movies)\nAll test cases passed!\n",
         "hidden": false,
         "locked": false
        },
        {
         "code": ">>> \n>>> public_tests.rubric_check('q8: `get_movies` function is not used to answer', False)\nAll test cases passed!\n",
         "hidden": false,
         "locked": false,
         "success_message": "Note that the Gradescope autograder will deduct points if your code fails the following rubric point - '`get_movies` function is not used to answer (-2)'. The public tests cannot determine if your code satisfies these requirements. Verify your code manually."
        }
       ],
       "scored": true,
       "setup": "",
       "teardown": "",
       "type": "doctest"
      }
     ]
    },
    "q9": {
     "name": "q9",
     "points": 0,
     "suites": [
      {
       "cases": [
        {
         "code": ">>> public_tests.check('q9', second_movie_title_small_movies)\nAll test cases passed!\n",
         "hidden": false,
         "locked": false
        },
        {
         "code": ">>> \n>>> public_tests.rubric_check('q9: incorrect logic is used to answer')\nAll test cases passed!\n",
         "hidden": false,
         "locked": false,
         "success_message": "Note that the Gradescope autograder will deduct points if your code fails the following rubric point - 'incorrect logic is used to answer (-1)'. The public tests cannot determine if your code satisfies these requirements. Verify your code manually."
        },
        {
         "code": ">>> \n>>> public_tests.rubric_check('q9: answer uses loops to iterate over dictionary keys')\nAll test cases passed!\n",
         "hidden": false,
         "locked": false,
         "success_message": "Note that the Gradescope autograder will deduct points if your code fails the following rubric point - 'answer uses loops to iterate over dictionary keys (-1)'. The public tests cannot determine if your code satisfies these requirements. Verify your code manually."
        },
        {
         "code": ">>> \n>>> public_tests.rubric_check('q9: `small_movies` data structure is not used to answer', False)\nAll test cases passed!\n",
         "hidden": false,
         "locked": false,
         "success_message": "Note that the Gradescope autograder will deduct points if your code fails the following rubric point - '`small_movies` data structure is not used to answer (-2)'. The public tests cannot determine if your code satisfies these requirements. Verify your code manually."
        }
       ],
       "scored": true,
       "setup": "",
       "teardown": "",
       "type": "doctest"
      }
     ]
    },
    "small_movies": {
     "name": "small_movies",
     "points": 0,
     "suites": [
      {
       "cases": [
        {
         "code": ">>> \n>>> public_tests.rubric_check('small_movies: data structure is defined incorrectly')\nAll test cases passed!\n",
         "hidden": false,
         "locked": false,
         "success_message": "Note that the Gradescope autograder will deduct points if your code fails the following rubric point - 'data structure is defined incorrectly (-2)'. The public tests cannot determine if your code satisfies these requirements. Verify your code manually."
        },
        {
         "code": ">>> \n>>> public_tests.rubric_check('small_movies: data structure is redefined or modified after its initialization')\nAll test cases passed!\n",
         "hidden": false,
         "locked": false,
         "success_message": "Note that the Gradescope autograder will deduct points if your code fails the following rubric point - 'data structure is redefined or modified after its initialization (-1)'. The public tests cannot determine if your code satisfies these requirements. Verify your code manually."
        }
       ],
       "scored": true,
       "setup": "",
       "teardown": "",
       "type": "doctest"
      }
     ]
    },
    "summary": {
     "name": "summary",
     "points": 127,
     "suites": [
      {
       "cases": [
        {
         "code": ">>> public_tests.get_summary()\nTotal Score: 100/100\n",
         "hidden": false,
         "locked": false
        }
       ],
       "scored": true,
       "setup": "",
       "teardown": "",
       "type": "doctest"
      }
     ]
    }
   }
  },
  "vscode": {
   "interpreter": {
    "hash": "ddadfa966245fdd88d86598ab7fd899e4c6b5bf38d3fe509005bdb7f4648c1a5"
   }
  }
 },
 "nbformat": 4,
 "nbformat_minor": 5
}
