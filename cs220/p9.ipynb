{
 "cells": [
  {
   "cell_type": "code",
   "execution_count": 1,
   "id": "ce20f450",
   "metadata": {
    "cell_type": "code",
    "deletable": false,
    "editable": false
   },
   "outputs": [],
   "source": [
    "# import and initialize otter\n",
    "import otter\n",
    "grader = otter.Notebook(\"p9.ipynb\")"
   ]
  },
  {
   "cell_type": "code",
   "execution_count": 2,
   "id": "67aba15a",
   "metadata": {
    "editable": false,
    "execution": {
     "iopub.execute_input": "2023-11-01T23:52:50.028049Z",
     "iopub.status.busy": "2023-11-01T23:52:50.028049Z",
     "iopub.status.idle": "2023-11-01T23:52:52.646262Z",
     "shell.execute_reply": "2023-11-01T23:52:52.645036Z"
    }
   },
   "outputs": [],
   "source": [
    "import public_tests"
   ]
  },
  {
   "cell_type": "code",
   "execution_count": 3,
   "id": "7c321eb1",
   "metadata": {
    "execution": {
     "iopub.execute_input": "2023-11-01T23:52:52.650263Z",
     "iopub.status.busy": "2023-11-01T23:52:52.650263Z",
     "iopub.status.idle": "2023-11-01T23:52:52.655448Z",
     "shell.execute_reply": "2023-11-01T23:52:52.654417Z"
    }
   },
   "outputs": [],
   "source": [
    "# PLEASE FILL IN THE DETAILS\n",
    "# enter none if you don't have a project partner\n",
    "# you will have to add your partner as a group member on Gradescope even after you fill this\n",
    "\n",
    "# project: p9\n",
    "# submitter: alghazzy\n",
    "# partner: jmbruggink"
   ]
  },
  {
   "cell_type": "markdown",
   "id": "0c018208",
   "metadata": {
    "deletable": false,
    "editable": false
   },
   "source": [
    "# Project 9: Analyzing the Movies"
   ]
  },
  {
   "cell_type": "markdown",
   "id": "eb9d6c94",
   "metadata": {
    "deletable": false,
    "editable": false
   },
   "source": [
    "## Learning Objectives:\n",
    "\n",
    "In this project, you will demonstrate your ability to:\n",
    "- use `matplotlib` to plot bar graphs and visualize statistics\n",
    "- process data using dictionaries and lists that you build\n",
    "- implement binning by writing algorithms that create dictionaries\n",
    "- custom sort a list using the keyword parameter `key`'s argument.\n",
    "\n",
    "Please go through [Lab-P9](https://git.doit.wisc.edu/cdis/cs/courses/cs220/cs220-f23-projects/-/tree/main/lab-p9) before starting this project. The lab introduces some useful techniques necessary for this project."
   ]
  },
  {
   "cell_type": "markdown",
   "id": "47697cfa",
   "metadata": {
    "deletable": false,
    "editable": false
   },
   "source": [
    "## Testing your code:\n",
    "\n",
    "Along with this notebook, you must have downloaded the file `public_tests.py`. If you are curious about how we test your code, you can explore this file, and specifically the value of the variable `expected_json`, to understand the expected answers to the questions.\n",
    "\n",
    "**Important:** `public_tests.py` **cannot** verify your answers when the output is an image. Your **plots** will be **checked** by the Gradescope autograder, so you must **manually** confirm that your plots look correct by comparing with the images provided in the notebook."
   ]
  },
  {
   "cell_type": "markdown",
   "id": "b3e63968",
   "metadata": {
    "deletable": false,
    "editable": false
   },
   "source": [
    "<h2 style=\"color:red\">Warning (Note on Academic Misconduct):</h2>\n",
    "\n",
    "**IMPORTANT**: **P8 and P9 are two parts of the same data analysis.** You **cannot** switch project partners between these two projects. That is if you partnered up with someone for P8, you have to sustain that partnership until the end of P9. Now may be a good time to review [our course policies](https://cs220.cs.wisc.edu/f23/syllabus.html).\n",
    "\n",
    "Under any circumstances, **no more than two students are allowed to work together on a project** as mentioned in the course policies. If your code is flagged by our code similarity detection tools, **both partners will be responsible** for sharing/copying the code, even if the code is shared/copied by one of the partners with/from other non-partner student(s). Note that each case of plagiarism will be reported to the Dean of Students with a zero grade on the project. **If you think that someone cannot be your project partner then don’t make that student your lab partner.**\n",
    "\n",
    "**<font color = \"red\">Project partners must submit only one copy of their project on Gradescope, but they must include the names of both partners.</font>**"
   ]
  },
  {
   "cell_type": "markdown",
   "id": "e9754830",
   "metadata": {
    "deletable": false,
    "editable": false
   },
   "source": [
    "## Introduction:\n",
    "\n",
    "In P8, you created very useful helper functions to parse the raw IMDb dataset. You also created useful data structures to store the data. In this project, you will be building on the work you did in P8 to analyze your favorite movies. This is a shorter project than usual, and **P9 will only have 10 questions for you to solve**."
   ]
  },
  {
   "cell_type": "markdown",
   "id": "40de2a89",
   "metadata": {
    "deletable": false,
    "editable": false
   },
   "source": [
    "## Data:\n",
    "\n",
    "In P9, you will be analyzing the same dataset that you worked with in P8. You may download the files fresh, or just copy/paste the datasets from your P8 directory."
   ]
  },
  {
   "cell_type": "markdown",
   "id": "6a7614b2",
   "metadata": {
    "deletable": false,
    "editable": false
   },
   "source": [
    "## Project Requirements:\n",
    "\n",
    "You **may not** hardcode indices in your code, unless the question explicitly asks you to do so. If you open your `.csv` files with Excel, manually count through the rows and use this number to loop through the dataset, this is also considered as hardcoding. If any instances of hardcoding are found during code review, the Gradescope autograder will **deduct** points from your public score.\n",
    "\n",
    "**Store** your final answer for each question in the **variable specified for each question**. This step is important because Otter grades your work by comparing the value of this variable against the correct answer.\n",
    "\n",
    "For some of the questions, we'll ask you to write (then use) a function to compute the answer. If you compute the answer **without** creating the function we ask you to write, the Gradescope autograder will **deduct** points from your public score, even if the way you did it produced the correct answer.\n",
    "\n",
    "Required Functions:\n",
    "- `bucketize`\n",
    "\n",
    "In this project, you will also be required to define certain **data structures**. If you do not create these data structures exactly as specified, the Gradescope autograder will **deduct** points from your public score, even if the way you did it produced the correct answer.\n",
    "\n",
    "Required Data Structures:\n",
    "- `movies`\n",
    "- `cast_buckets`\n",
    "- `director_buckets`\n",
    "- `genre_buckets`\n",
    "- `year_buckets`\n",
    "\n",
    "You are only allowed to define these data structures **once** and we'll **deduct** points from your public score on Gradescope if you redefine the values of these variables.\n",
    "\n",
    "In this project (and the next), you will be asked to create **lists** of movies. For all such questions, **unless it is explicitly mentioned otherwise**, the movies should be in the **same order** as in the `movies.csv` (or `small_movies.csv`) file. Similarly, for each movie, the **list** of `genres`, `directors`, and `cast` members should always be in the **same order** as in the `movies.csv` (or `small_movies.csv`) file.\n",
    "\n",
    "Students are only allowed to use Python commands and concepts that have been taught in the course prior to the release of P9. Therefore, you should not use the `pandas` module. The Gradescope autograder will **deduct** points from your public score otherwise.\n",
    "\n",
    "For more details on what will cause you to lose points during code review and specific requirements, please take a look at the [Grading rubric](https://git.doit.wisc.edu/cdis/cs/courses/cs220/cs220-f23-projects/-/blob/main/p9/rubric.md)."
   ]
  },
  {
   "cell_type": "markdown",
   "id": "4d776143",
   "metadata": {
    "deletable": false,
    "editable": false
   },
   "source": [
    "## Project Questions and Functions:"
   ]
  },
  {
   "cell_type": "code",
   "execution_count": 4,
   "id": "9bc58344",
   "metadata": {
    "execution": {
     "iopub.execute_input": "2023-11-01T23:52:52.661434Z",
     "iopub.status.busy": "2023-11-01T23:52:52.660439Z",
     "iopub.status.idle": "2023-11-01T23:52:52.853415Z",
     "shell.execute_reply": "2023-11-01T23:52:52.852405Z"
    },
    "tags": []
   },
   "outputs": [],
   "source": [
    "# it is considered a good coding practice to place all import statements at the top of the notebook\n",
    "# please place all your import statements in this cell if you need to import any more modules for this project\n",
    "import csv\n",
    "import matplotlib\n",
    "import pandas"
   ]
  },
  {
   "cell_type": "markdown",
   "id": "6887bd16",
   "metadata": {
    "deletable": false,
    "editable": false
   },
   "source": [
    "## Loading the Movies Data\n",
    "\n",
    "For all these questions, we will be looking at the movies in `mapping.csv` and `movies.csv`. You can load the list of movies using the functions you wrote in the last project."
   ]
  },
  {
   "cell_type": "markdown",
   "id": "04d36797",
   "metadata": {
    "deletable": false,
    "editable": false
   },
   "source": [
    "Copy the functions you wrote in `p8.ipynb` to `p9.ipynb` to read the movies data. The functions you should include are `process_csv`, `get_mapping`, `get_raw_movies`, and `get_movies` along with any helper functions you used to write these. Do **not** copy/paste `find_specific_movies` here. Later in P9, we will provide you with a simpler version of that function, which does not require the use of the `copy` module."
   ]
  },
  {
   "cell_type": "code",
   "execution_count": 5,
   "id": "f8a88445",
   "metadata": {
    "execution": {
     "iopub.execute_input": "2023-11-01T23:52:52.859416Z",
     "iopub.status.busy": "2023-11-01T23:52:52.858419Z",
     "iopub.status.idle": "2023-11-01T23:52:52.872312Z",
     "shell.execute_reply": "2023-11-01T23:52:52.871300Z"
    },
    "tags": []
   },
   "outputs": [],
   "source": [
    "# copy/paste the definition of process_csv from previous projects (p6 or p7)\n",
    "# copy/paste the definitions of get_mapping, get_raw_movies, get_movies from p8.ipynb\n",
    "# as well as any helper functions used by these functions here\n",
    "def process_csv(filename):\n",
    "    example_file = open(filename, encoding=\"utf-8\")\n",
    "    example_reader = csv.reader(example_file)\n",
    "    example_data = list(example_reader)\n",
    "    example_file.close()\n",
    "    return example_data\n",
    "def get_mapping(path):\n",
    "    csv_data = process_csv(path)\n",
    "    csv_header = csv_data[0]\n",
    "    rows = csv_data[0:]\n",
    "    dict_x = {}\n",
    "    \n",
    "    for row in rows:\n",
    "        dict_x[row[0]] = row[1]\n",
    "        \n",
    "    return dict_x\n",
    "def get_raw_movies(path):\n",
    "    raw_movies_list = []\n",
    "    with open(path, mode='r', newline='', encoding='utf-8') as file:\n",
    "        reader = csv.reader(file)\n",
    "        csv_header = next(reader)\n",
    "        for row in reader:\n",
    "            movie = {'title': row[csv_header.index('title')], 'year': int(row[csv_header.index('year')]), 'duration': int(row[csv_header.index('duration')]), 'genres': row[csv_header.index('genres')].split(', '), 'rating': float(row[csv_header.index('rating')]), 'directors': row[csv_header.index('directors')].split(', '), 'cast': row[csv_header.index('cast')].split(', ')}\n",
    "                    \n",
    "            raw_movies_list.append(movie)\n",
    "    return raw_movies_list\n",
    "def get_movies(movies_path, mapping_path):\n",
    "    map_dict = get_mapping(mapping_path)\n",
    "    raw_movies = get_raw_movies(movies_path)\n",
    "    movies = []\n",
    "    for raw_movie in raw_movies:\n",
    "        movie = {} \n",
    "        movie['title'] = map_dict[raw_movie['title']]\n",
    "        movie['year'] = int(raw_movie['year'])\n",
    "        movie['duration'] = int(raw_movie['duration'])\n",
    "        movie['genres'] = raw_movie['genres']\n",
    "        movie['rating'] = float(raw_movie['rating'])\n",
    "        movie['directors'] = [map_dict[director] for director in raw_movie['directors']]\n",
    "        movie['cast'] = [map_dict[actor] for actor in raw_movie['cast']]\n",
    "        movies.append(movie)\n",
    "\n",
    "    return movies"
   ]
  },
  {
   "cell_type": "markdown",
   "id": "1ddfafe3",
   "metadata": {
    "deletable": false,
    "editable": false
   },
   "source": [
    "Now, you can use `get_movies` to read the data in `movies.csv` and `mapping.csv` as you did in P8."
   ]
  },
  {
   "cell_type": "code",
   "execution_count": 6,
   "id": "a7914c33",
   "metadata": {
    "execution": {
     "iopub.execute_input": "2023-11-01T23:52:52.878312Z",
     "iopub.status.busy": "2023-11-01T23:52:52.877313Z",
     "iopub.status.idle": "2023-11-01T23:52:54.797927Z",
     "shell.execute_reply": "2023-11-01T23:52:54.796918Z"
    },
    "tags": []
   },
   "outputs": [],
   "source": [
    "# create a list of dictionaries named 'movies' to store the data in 'movies.csv' and 'mapping.csv' as in p8\n",
    "# do NOT display the value of this variable anywhere in this notebook\n",
    "\n",
    "movies = movies = get_movies(\"movies.csv\", \"mapping.csv\")\n"
   ]
  },
  {
   "cell_type": "markdown",
   "id": "8916aba2",
   "metadata": {
    "deletable": false,
    "editable": false
   },
   "source": [
    "There should be *73075* **dictionaries** in the **list** `movies` and the first entry of `movies` should be a **dictionary** that looks as follows:\n",
    "\n",
    "```python\n",
    "{'title': 'A Grande Arte',\n",
    " 'year': 1991,\n",
    " 'duration': 104,\n",
    " 'genres': ['Drama', 'Thriller'],\n",
    " 'rating': 6.1,\n",
    " 'directors': ['Walter Salles'],\n",
    " 'cast': ['Peter Coyote', 'Tchéky Karyo', 'Amanda Pays', 'Raul Cortez']}\n",
    "```\n",
    "\n",
    "**Warning:** At this stage, it is expected that the function `get_movies` works correctly, and that `movies` is defined as it was in P8. If not, your code will run into issues in P9. So, make sure that this function works properly before you start P9. You can do that by **inserting a new cell** in Jupyter below this cell and verifying that the size of your variable `movies`, and that the first **dictionary** in `movies` is as it should be.\n",
    "\n",
    "Also, just like in P8, delete any cells displaying the whole of `movies` data structure before turning in `p9.ipynb`."
   ]
  },
  {
   "cell_type": "markdown",
   "id": "4664b116",
   "metadata": {
    "deletable": false,
    "editable": false
   },
   "source": [
    "Now, copy over the functions `plot_dict`, `median` and `year_to_decade` from Lab-P9."
   ]
  },
  {
   "cell_type": "code",
   "execution_count": 7,
   "id": "041c9914",
   "metadata": {
    "execution": {
     "iopub.execute_input": "2023-11-01T23:52:54.802981Z",
     "iopub.status.busy": "2023-11-01T23:52:54.801979Z",
     "iopub.status.idle": "2023-11-01T23:52:54.811556Z",
     "shell.execute_reply": "2023-11-01T23:52:54.810547Z"
    },
    "tags": []
   },
   "outputs": [],
   "source": [
    "# copy/paste the definitions of plot_dict, median, year_to_decade from \"Lab-P9\n",
    "# as well as any helper functions used by these functions here\n",
    "def plot_dict(d, label=\"Please Label Me!\"):\n",
    "    \"\"\"plot_dict(d, label) creates a bar plot using the \n",
    "    dictionary 'd' and labels the y-axis as 'label'\"\"\"\n",
    "    ax = pandas.Series(d).sort_index().plot.bar(color=\"black\", fontsize=16, figsize=(4 + len(d)//4, 4))\n",
    "    ax.set_ylabel(label, fontsize=16)\n",
    "def median(items):\n",
    "    \"\"\"\n",
    "    median(items) returns the median of the list `items`\n",
    "    \"\"\"\n",
    "    # sort the list\n",
    "    sorted_list = sorted(items)\n",
    "    # determine the length of the list\n",
    "    list_len = len(items)\n",
    "    if len(items) % 2 != 0: # determine whether length of the list is odd\n",
    "        # return item in the middle using indexing\n",
    "        return sorted_list[len(items) // 2]\n",
    "    else:\n",
    "        first_middle = sorted_list[(len(items) // 2) - 1] # use appropriate indexing\n",
    "        second_middle = sorted_list[(len(items) // 2)] # use appropriate indexing\n",
    "        return (first_middle + second_middle) / 2\n",
    "def year_to_decade(year):\n",
    "    if year % 10 == 0:\n",
    "        decade = str(year - 9) + ' to ' + str(year)\n",
    "    else:\n",
    "        # TODO: first find the year in which the decade starts\n",
    "        start_year = (year // 10) * 10 + 1\n",
    "        end_year = start_year + 9\n",
    "        decade = str(start_year) + \" to \" + str(end_year)\n",
    "        #       when year % 10 != 0\n",
    "        # TODO: define the variable 'decade'\n",
    "    return decade"
   ]
  },
  {
   "cell_type": "markdown",
   "id": "8618c47c",
   "metadata": {
    "deletable": false,
    "editable": false
   },
   "source": [
    "In P8, you were provided with a function `find_specific_movies` which functioned as some sort of a 'search bar' for the movies dataset. However, in order to use that function properly, you had to use the `copy` module to pass a *copy* of your list of movies to `find_specific_movies`. Making copies frequently is **not** a good coding practice. For this project, we will provide **a new version** of `find_specific_movies` that does **not** require using `copy`. Please go through the following function:"
   ]
  },
  {
   "cell_type": "code",
   "execution_count": 8,
   "id": "e149aea7",
   "metadata": {
    "execution": {
     "iopub.execute_input": "2023-11-01T23:52:54.815559Z",
     "iopub.status.busy": "2023-11-01T23:52:54.815559Z",
     "iopub.status.idle": "2023-11-01T23:52:54.822997Z",
     "shell.execute_reply": "2023-11-01T23:52:54.821986Z"
    }
   },
   "outputs": [],
   "source": [
    "# modified find_specific_movies (doesn't require using copy module)\n",
    "def find_specific_movies(movies, keyword):\n",
    "    \"\"\"\n",
    "    find_specific_movies(movies, keyword) takes a list of movie dictionaries \n",
    "    and a keyword; it returns a list of movies that contain the keyword\n",
    "    in either its title, genre, cast or directors.\n",
    "    \"\"\"\n",
    "    movies_with_keyword = []\n",
    "    for movie in movies:\n",
    "        if (keyword in movie['title']) or (keyword in movie['genres']) \\\n",
    "            or (keyword in movie['directors']) or (keyword in movie['cast']):\n",
    "            movies_with_keyword.append(movie)\n",
    "    return movies_with_keyword"
   ]
  },
  {
   "cell_type": "markdown",
   "id": "93af2529",
   "metadata": {
    "deletable": false,
    "editable": false
   },
   "source": [
    "**Important:** **Even when you are not explicitly prompted to do so, using the `find_specific_movies` function cleverly can simplify your code significantly. Keep an eye out for how you can simplify your code by making use of `find_specific_movies`.**"
   ]
  },
  {
   "cell_type": "markdown",
   "id": "7f1c4751",
   "metadata": {
    "deletable": false,
    "editable": false
   },
   "source": [
    "### Analyzing the Movies data"
   ]
  },
  {
   "cell_type": "markdown",
   "id": "56da8b79",
   "metadata": {
    "deletable": false,
    "editable": false
   },
   "source": [
    "**Question 1:** What is the **median** `rating` of the movies that **involve** both *Clint Eastwood* and *Sergio Leone*?\n",
    "\n",
    "You **must** make multiple calls to the `find_specific_movies` function to identify the movies which involve both *Clint Eastwood* and *Sergio Leone*."
   ]
  },
  {
   "cell_type": "code",
   "execution_count": 9,
   "id": "c3589ac0",
   "metadata": {
    "execution": {
     "iopub.execute_input": "2023-11-01T23:52:54.827203Z",
     "iopub.status.busy": "2023-11-01T23:52:54.827203Z",
     "iopub.status.idle": "2023-11-01T23:52:54.928728Z",
     "shell.execute_reply": "2023-11-01T23:52:54.927719Z"
    },
    "tags": []
   },
   "outputs": [
    {
     "data": {
      "text/plain": [
       "8.2"
      ]
     },
     "execution_count": 9,
     "metadata": {},
     "output_type": "execute_result"
    }
   ],
   "source": [
    "# compute and store the answer in the variable 'median_eastwood_leone_rating', then display it\n",
    "clint_eastwood = find_specific_movies(movies, \"Clint Eastwood\")\n",
    "sergio_leone = find_specific_movies(movies, \"Sergio Leone\")\n",
    "list_movies_both = [movie for movie in clint_eastwood if movie in sergio_leone]\n",
    "list_ratings = [movie['rating'] for movie in list_movies_both]\n",
    "median_rating = median(list_ratings)\n",
    "median_eastwood_leone_rating = median_rating\n",
    "median_eastwood_leone_rating"
   ]
  },
  {
   "cell_type": "code",
   "execution_count": 10,
   "id": "6f8f870d",
   "metadata": {
    "deletable": false,
    "editable": false
   },
   "outputs": [
    {
     "data": {
      "text/html": [
       "<p><strong><pre style='display: inline;'>q1</pre></strong> passed! 💯</p><p><strong><pre style='display: inline;'>q1 - 2</pre> message:</strong> Note that the Gradescope autograder will deduct points if your code fails the following rubric point - '`find_specific_movies` function is not used (-1)'. The public tests cannot determine if your code satisfies these requirements. Verify your code manually.</p><p><strong><pre style='display: inline;'>q1 - 3</pre> message:</strong> Note that the Gradescope autograder will deduct points if your code fails the following rubric point - 'median calculation is incorrect (-1)'. The public tests cannot determine if your code satisfies these requirements. Verify your code manually.</p><p><strong><pre style='display: inline;'>q1 - 4</pre> message:</strong> Note that the Gradescope autograder will deduct points if your code fails the following rubric point - 'answer uses loops to iterate over dictionary keys (-1)'. The public tests cannot determine if your code satisfies these requirements. Verify your code manually.</p>"
      ],
      "text/plain": [
       "q1 results: All test cases passed!\n",
       "q1 - 2 message: Note that the Gradescope autograder will deduct points if your code fails the following rubric point - '`find_specific_movies` function is not used (-1)'. The public tests cannot determine if your code satisfies these requirements. Verify your code manually.\n",
       "q1 - 3 message: Note that the Gradescope autograder will deduct points if your code fails the following rubric point - 'median calculation is incorrect (-1)'. The public tests cannot determine if your code satisfies these requirements. Verify your code manually.\n",
       "q1 - 4 message: Note that the Gradescope autograder will deduct points if your code fails the following rubric point - 'answer uses loops to iterate over dictionary keys (-1)'. The public tests cannot determine if your code satisfies these requirements. Verify your code manually."
      ]
     },
     "execution_count": 10,
     "metadata": {},
     "output_type": "execute_result"
    }
   ],
   "source": [
    "grader.check(\"q1\")"
   ]
  },
  {
   "cell_type": "markdown",
   "id": "8a769290",
   "metadata": {
    "deletable": false,
    "editable": false
   },
   "source": [
    "**Question 2:** Among all the *Toy Story* movies, which ones are the **highest** rated?\n",
    "\n",
    "Your output **must** be a **list** of **dictionaries**. You **must** use `find_specific_movies` to identify all movies which have *Toy Story* as a substring of their `title`.\n",
    "\n",
    "**Hint:** You could first find the **highest** `rating` that any *Toy Story* movie received, and then find all the *Toy Story* movies that received that `rating`."
   ]
  },
  {
   "cell_type": "code",
   "execution_count": 11,
   "id": "75341871",
   "metadata": {
    "execution": {
     "iopub.execute_input": "2023-11-01T23:52:54.975632Z",
     "iopub.status.busy": "2023-11-01T23:52:54.975632Z",
     "iopub.status.idle": "2023-11-01T23:52:55.078224Z",
     "shell.execute_reply": "2023-11-01T23:52:55.077214Z"
    },
    "tags": []
   },
   "outputs": [
    {
     "data": {
      "text/plain": [
       "[{'title': 'Toy Story',\n",
       "  'year': 1995,\n",
       "  'duration': 81,\n",
       "  'genres': ['Adventure', 'Animation', 'Comedy'],\n",
       "  'rating': 8.3,\n",
       "  'directors': ['John Lasseter'],\n",
       "  'cast': ['Tom Hanks', 'Tim Allen', 'Don Rickles', 'Jim Varney']},\n",
       " {'title': 'Toy Story 3',\n",
       "  'year': 2010,\n",
       "  'duration': 103,\n",
       "  'genres': ['Adventure', 'Animation', 'Comedy'],\n",
       "  'rating': 8.3,\n",
       "  'directors': ['Lee Unkrich'],\n",
       "  'cast': ['Tom Hanks', 'Tim Allen', 'Joan Cusack', 'Ned Beatty']}]"
      ]
     },
     "execution_count": 11,
     "metadata": {},
     "output_type": "execute_result"
    }
   ],
   "source": [
    "# compute and store the answer in the variable 'highest_rated_toy_story_movies', then display it\n",
    "toy_story_movies = find_specific_movies(movies, \"Toy Story\")\n",
    "best_rating = max(movie['rating']for movie in toy_story_movies)\n",
    "highest_rated_toy_story_movies = [movie for movie in toy_story_movies if movie['rating'] == best_rating]\n",
    "highest_rated_toy_story_movies"
   ]
  },
  {
   "cell_type": "code",
   "execution_count": 12,
   "id": "3166a7f4",
   "metadata": {
    "deletable": false,
    "editable": false
   },
   "outputs": [
    {
     "data": {
      "text/html": [
       "<p><strong><pre style='display: inline;'>q2</pre></strong> passed! ✨</p><p><strong><pre style='display: inline;'>q2 - 2</pre> message:</strong> Note that the Gradescope autograder will deduct points if your code fails the following rubric point - '`find_specific_movies` function is not used (-1)'. The public tests cannot determine if your code satisfies these requirements. Verify your code manually.</p><p><strong><pre style='display: inline;'>q2 - 3</pre> message:</strong> Note that the Gradescope autograder will deduct points if your code fails the following rubric point - 'rating of highest rated *Toy Story* movie is hardcoded (-1)'. The public tests cannot determine if your code satisfies these requirements. Verify your code manually.</p><p><strong><pre style='display: inline;'>q2 - 4</pre> message:</strong> Note that the Gradescope autograder will deduct points if your code fails the following rubric point - 'all movies with the highest rating are not found (-1)'. The public tests cannot determine if your code satisfies these requirements. Verify your code manually.</p><p><strong><pre style='display: inline;'>q2 - 5</pre> message:</strong> Note that the Gradescope autograder will deduct points if your code fails the following rubric point - 'answer uses loops to iterate over dictionary keys (-1)'. The public tests cannot determine if your code satisfies these requirements. Verify your code manually.</p>"
      ],
      "text/plain": [
       "q2 results: All test cases passed!\n",
       "q2 - 2 message: Note that the Gradescope autograder will deduct points if your code fails the following rubric point - '`find_specific_movies` function is not used (-1)'. The public tests cannot determine if your code satisfies these requirements. Verify your code manually.\n",
       "q2 - 3 message: Note that the Gradescope autograder will deduct points if your code fails the following rubric point - 'rating of highest rated *Toy Story* movie is hardcoded (-1)'. The public tests cannot determine if your code satisfies these requirements. Verify your code manually.\n",
       "q2 - 4 message: Note that the Gradescope autograder will deduct points if your code fails the following rubric point - 'all movies with the highest rating are not found (-1)'. The public tests cannot determine if your code satisfies these requirements. Verify your code manually.\n",
       "q2 - 5 message: Note that the Gradescope autograder will deduct points if your code fails the following rubric point - 'answer uses loops to iterate over dictionary keys (-1)'. The public tests cannot determine if your code satisfies these requirements. Verify your code manually."
      ]
     },
     "execution_count": 12,
     "metadata": {},
     "output_type": "execute_result"
    }
   ],
   "source": [
    "grader.check(\"q2\")"
   ]
  },
  {
   "cell_type": "markdown",
   "id": "b366d7b3",
   "metadata": {
    "deletable": false,
    "editable": false
   },
   "source": [
    "### Function 1: `bucketize(movies_list, category)` \n",
    "\n",
    "This function should take in a **list** of movie **dictionaries** as well as a **category** (i.e. `title`, `year`, `duration`, `genres`, `rating`, `directors`, or `cast`), and *bucketize* the **list** of movie **dictionaries** by this **category**.\n",
    "\n",
    "For example, the output of `bucketize(movies, 'rating')` should be a **dictionary** so that all the unique values of `rating` of the movies in `movies` are the **keys** and the correspoding **values** would be a **list** of all movie **dictionaries** with that rating (e.g., the value of the key *6.4* should be the **list** of movie dictionaries with `rating` of *6.4*).\n",
    "\n",
    "The output of `bucketize(movies, 'rating')` should look like this:\n",
    "\n",
    "```python\n",
    "{6.1: [{'title': 'A Grande Arte',\n",
    "        'year': 1991,\n",
    "        'duration': 104,\n",
    "        'genres': ['Drama', 'Thriller'],\n",
    "        'rating': 6.1,\n",
    "        'directors': ['Walter Salles'],\n",
    "        'cast': ['Peter Coyote', 'Tchéky Karyo', 'Amanda Pays', 'Raul Cortez']},\n",
    "       {'title': 'Elena Undone',\n",
    "        'year': 2010,\n",
    "        'duration': 111,\n",
    "        'genres': ['Drama', 'Romance'],\n",
    "        'rating': 6.1,\n",
    "        'directors': ['Nicole Conn'],\n",
    "        'cast': ['Necar Zadegan', 'Thunderbird Dinwiddie', 'Gary Weeks', 'Sam Harris']},\n",
    "       ...\n",
    "      ],\n",
    " 4.1: [{'title': 'Enemy Gold',\n",
    "        'year': 1993,\n",
    "        'duration': 92,\n",
    "        'genres': ['Action', 'Crime'],\n",
    "        'rating': 4.1,\n",
    "        'directors': ['Christian Drew Sidaris'],\n",
    "        'cast': ['Bruce Penhall', 'Mark Barriere', 'Suzi Simpson', 'Tanquil Lisa Collins']},\n",
    "       {'title': \"Dead Men Don't Die\",\n",
    "        'year': 1990,\n",
    "        'duration': 94,\n",
    "        'genres': ['Comedy', 'Crime', 'Horror'],\n",
    "        'rating': 4.1,\n",
    "        'directors': ['Malcolm Marmorstein'],\n",
    "        'cast': ['Elliott Gould', 'Melissa Sue Anderson', 'Mark Moses', 'Mabel King']},\n",
    "       ...\n",
    "      ],\n",
    " ...\n",
    "}\n",
    "```\n",
    "\n",
    "Similarly, the output of `bucketize(movies, 'cast')` should be a **dictionary** so that all the unique `cast` members of the movies in `movies` are the **keys** and the correspoding **values** would be a **list** of all movie **dictionaries** with that cast member as one of their `cast` (e.g., the value of the key *Kate Winslet* should be the **list** of movie dictionaries with *Kate Winslet* as one of their `cast` members).\n",
    "\n",
    "The output of `bucketize(movies, 'cast')` should look like this:\n",
    "\n",
    "```python\n",
    "{{'Peter Coyote': [{'title': 'A Grande Arte',\n",
    "                    'year': 1991,\n",
    "                    'duration': 104,\n",
    "                    'genres': ['Drama', 'Thriller'],\n",
    "                    'rating': 6.1,\n",
    "                    'directors': ['Walter Salles'],\n",
    "                    'cast': ['Peter Coyote', 'Tchéky Karyo', 'Amanda Pays', 'Raul Cortez']},\n",
    "                   {'title': 'No Deposit',\n",
    "                    'year': 2015,\n",
    "                    'duration': 80,\n",
    "                    'genres': ['Drama'],\n",
    "                    'rating': 5.6,\n",
    "                    'directors': [\"Frank D'Angelo\"],\n",
    "                    'cast': ['Paul Amato', 'Daniel Baldwin', 'Jason Blicker', 'Peter Coyote']},\n",
    "                   ...\n",
    "                  ],\n",
    " 'Tchéky Karyo': [{'title': 'A Grande Arte',\n",
    "                   'year': 1991,\n",
    "                   'duration': 104,\n",
    "                   'genres': ['Drama', 'Thriller'],\n",
    "                   'rating': 6.1,\n",
    "                   'directors': ['Walter Salles'],\n",
    "                   'cast': ['Peter Coyote', 'Tchéky Karyo', 'Amanda Pays', 'Raul Cortez']},\n",
    "                  {'title': 'Wing Commander',\n",
    "                   'year': 1999,\n",
    "                   'duration': 100,\n",
    "                   'genres': ['Action', 'Adventure', 'Sci-Fi'],\n",
    "                   'rating': 4.3,\n",
    "                   'directors': ['Chris Roberts'],\n",
    "                   'cast': ['Freddie Prinze Jr.', 'Matthew Lillard', 'Saffron Burrows', 'Tchéky Karyo']},\n",
    "                   ...\n",
    "                  ]\n",
    " ...\n",
    "} \n",
    "```\n",
    "\n",
    "**Hints:** Note that depending on whether or not the `category` represents a **list** or not, your function will have to behave differently. In P8, you created a function `bucketize_by_genre` that *bucketized* the list of movies by their genre. Take a moment to find that function; it will help you here. Also, take a moment to look at the buckets you made in Lab-P9."
   ]
  },
  {
   "cell_type": "code",
   "execution_count": 13,
   "id": "152505d6",
   "metadata": {},
   "outputs": [],
   "source": [
    "# replace the ... with your code to finish the definition of bucketize\n",
    "def bucketize(movie_list, category):\n",
    "    buckets = {}\n",
    "    for movie in movie_list:\n",
    "        if category in movie:\n",
    "            category_value = movie[category]\n",
    "        else:\n",
    "            continue\n",
    "        if type(category_value) == list:\n",
    "            for item in category_value:\n",
    "                if item not in buckets:\n",
    "                    buckets[item] = []\n",
    "                buckets[item].append(movie)\n",
    "        else:\n",
    "            if category_value not in buckets:\n",
    "                buckets[category_value] = []\n",
    "            buckets[category_value].append(movie)\n",
    "\n",
    "    return buckets"
   ]
  },
  {
   "cell_type": "code",
   "execution_count": 14,
   "id": "0b779bfd",
   "metadata": {
    "deletable": false,
    "editable": false
   },
   "outputs": [
    {
     "data": {
      "text/html": [
       "<p><strong><pre style='display: inline;'>bucketize</pre></strong> passed! ✨</p><p><strong><pre style='display: inline;'>bucketize - 1</pre> message:</strong> Note that the Gradescope autograder will deduct points if your code fails the following rubric point - 'function logic is incorrect when `category` data is stored in `movies` as a **string** (-2)'. The public tests cannot determine if your code satisfies these requirements. Verify your code manually.</p><p><strong><pre style='display: inline;'>bucketize - 2</pre> message:</strong> Note that the Gradescope autograder will deduct points if your code fails the following rubric point - 'function logic is incorrect when `category` data is stored in `movies` as a **list** (-1)'. The public tests cannot determine if your code satisfies these requirements. Verify your code manually.</p><p><strong><pre style='display: inline;'>bucketize - 3</pre> message:</strong> Note that the Gradescope autograder will deduct points if your code fails the following rubric point - 'categories are hardcoded while checking if their data is stored as a **list** or not (-1)'. The public tests cannot determine if your code satisfies these requirements. Verify your code manually.</p><p><strong><pre style='display: inline;'>bucketize - 4</pre> message:</strong> Note that the Gradescope autograder will deduct points if your code fails the following rubric point - 'function is defined more than once (-1)'. The public tests cannot determine if your code satisfies these requirements. Verify your code manually.</p>"
      ],
      "text/plain": [
       "bucketize results: All test cases passed!\n",
       "bucketize - 1 message: Note that the Gradescope autograder will deduct points if your code fails the following rubric point - 'function logic is incorrect when `category` data is stored in `movies` as a **string** (-2)'. The public tests cannot determine if your code satisfies these requirements. Verify your code manually.\n",
       "bucketize - 2 message: Note that the Gradescope autograder will deduct points if your code fails the following rubric point - 'function logic is incorrect when `category` data is stored in `movies` as a **list** (-1)'. The public tests cannot determine if your code satisfies these requirements. Verify your code manually.\n",
       "bucketize - 3 message: Note that the Gradescope autograder will deduct points if your code fails the following rubric point - 'categories are hardcoded while checking if their data is stored as a **list** or not (-1)'. The public tests cannot determine if your code satisfies these requirements. Verify your code manually.\n",
       "bucketize - 4 message: Note that the Gradescope autograder will deduct points if your code fails the following rubric point - 'function is defined more than once (-1)'. The public tests cannot determine if your code satisfies these requirements. Verify your code manually."
      ]
     },
     "execution_count": 14,
     "metadata": {},
     "output_type": "execute_result"
    }
   ],
   "source": [
    "grader.check(\"bucketize\")"
   ]
  },
  {
   "cell_type": "markdown",
   "id": "ed28b578",
   "metadata": {
    "deletable": false,
    "editable": false
   },
   "source": [
    "**Important:** Just like `get_movies`, `bucketize` is quite a time-consuming function to run. Hence, you do **not** want to call `bucketize` on the same list of movies and category **more than once**. Throughout the project, we will frequently use bucketized lists of movies organized by their `cast`, `directors`, `genre`, and `year`. Rather than calling `bucketize` several times, we will store the bucketized lists in the following variables:"
   ]
  },
  {
   "cell_type": "code",
   "execution_count": 15,
   "id": "ce300935",
   "metadata": {
    "execution": {
     "iopub.execute_input": "2023-11-01T23:52:55.181482Z",
     "iopub.status.busy": "2023-11-01T23:52:55.180463Z",
     "iopub.status.idle": "2023-11-01T23:52:55.704861Z",
     "shell.execute_reply": "2023-11-01T23:52:55.703844Z"
    },
    "tags": []
   },
   "outputs": [],
   "source": [
    "# define buckets for categories mentioned below, but do NOT display any of them\n",
    "\n",
    "# bucketize the full list of movies by their cast.\n",
    "cast_buckets = bucketize(movies, 'cast')\n",
    "# bucketize the full list of movies by their directors.\n",
    "director_buckets = bucketize(movies, 'directors')\n",
    "# bucketize the full list of movies by their genre.\n",
    "genre_buckets = bucketize(movies, 'genres')\n",
    "# bucketize the full list of movies by their year.\n",
    "year_buckets = bucketize(movies, 'year')\n"
   ]
  },
  {
   "cell_type": "code",
   "execution_count": 16,
   "id": "261ee8f6",
   "metadata": {
    "deletable": false,
    "editable": false
   },
   "outputs": [
    {
     "data": {
      "text/html": [
       "<p><strong><pre style='display: inline;'>cast_buckets</pre></strong> passed! 🌈</p><p><strong><pre style='display: inline;'>cast_buckets - 1</pre> message:</strong> Note that the Gradescope autograder will deduct points if your code fails the following rubric point - '`bucketize` function is not used (-1)'. The public tests cannot determine if your code satisfies these requirements. Verify your code manually.</p><p><strong><pre style='display: inline;'>cast_buckets - 2</pre> message:</strong> Note that the Gradescope autograder will deduct points if your code fails the following rubric point - 'data structure is defined incorrectly (-1)'. The public tests cannot determine if your code satisfies these requirements. Verify your code manually.</p>"
      ],
      "text/plain": [
       "cast_buckets results: All test cases passed!\n",
       "cast_buckets - 1 message: Note that the Gradescope autograder will deduct points if your code fails the following rubric point - '`bucketize` function is not used (-1)'. The public tests cannot determine if your code satisfies these requirements. Verify your code manually.\n",
       "cast_buckets - 2 message: Note that the Gradescope autograder will deduct points if your code fails the following rubric point - 'data structure is defined incorrectly (-1)'. The public tests cannot determine if your code satisfies these requirements. Verify your code manually."
      ]
     },
     "execution_count": 16,
     "metadata": {},
     "output_type": "execute_result"
    }
   ],
   "source": [
    "grader.check(\"cast_buckets\")"
   ]
  },
  {
   "cell_type": "code",
   "execution_count": 17,
   "id": "61527acd",
   "metadata": {
    "deletable": false,
    "editable": false
   },
   "outputs": [
    {
     "data": {
      "text/html": [
       "<p><strong><pre style='display: inline;'>director_buckets</pre></strong> passed! 🌈</p><p><strong><pre style='display: inline;'>director_buckets - 1</pre> message:</strong> Note that the Gradescope autograder will deduct points if your code fails the following rubric point - '`bucketize` function is not used (-1)'. The public tests cannot determine if your code satisfies these requirements. Verify your code manually.</p><p><strong><pre style='display: inline;'>director_buckets - 2</pre> message:</strong> Note that the Gradescope autograder will deduct points if your code fails the following rubric point - 'data structure is defined incorrectly (-1)'. The public tests cannot determine if your code satisfies these requirements. Verify your code manually.</p>"
      ],
      "text/plain": [
       "director_buckets results: All test cases passed!\n",
       "director_buckets - 1 message: Note that the Gradescope autograder will deduct points if your code fails the following rubric point - '`bucketize` function is not used (-1)'. The public tests cannot determine if your code satisfies these requirements. Verify your code manually.\n",
       "director_buckets - 2 message: Note that the Gradescope autograder will deduct points if your code fails the following rubric point - 'data structure is defined incorrectly (-1)'. The public tests cannot determine if your code satisfies these requirements. Verify your code manually."
      ]
     },
     "execution_count": 17,
     "metadata": {},
     "output_type": "execute_result"
    }
   ],
   "source": [
    "grader.check(\"director_buckets\")"
   ]
  },
  {
   "cell_type": "code",
   "execution_count": 18,
   "id": "1fa60948",
   "metadata": {
    "deletable": false,
    "editable": false
   },
   "outputs": [
    {
     "data": {
      "text/html": [
       "<p><strong><pre style='display: inline;'>genre_buckets</pre></strong> passed! 🚀</p><p><strong><pre style='display: inline;'>genre_buckets - 1</pre> message:</strong> Note that the Gradescope autograder will deduct points if your code fails the following rubric point - '`bucketize` function is not used (-1)'. The public tests cannot determine if your code satisfies these requirements. Verify your code manually.</p><p><strong><pre style='display: inline;'>genre_buckets - 2</pre> message:</strong> Note that the Gradescope autograder will deduct points if your code fails the following rubric point - 'data structure is defined incorrectly (-1)'. The public tests cannot determine if your code satisfies these requirements. Verify your code manually.</p>"
      ],
      "text/plain": [
       "genre_buckets results: All test cases passed!\n",
       "genre_buckets - 1 message: Note that the Gradescope autograder will deduct points if your code fails the following rubric point - '`bucketize` function is not used (-1)'. The public tests cannot determine if your code satisfies these requirements. Verify your code manually.\n",
       "genre_buckets - 2 message: Note that the Gradescope autograder will deduct points if your code fails the following rubric point - 'data structure is defined incorrectly (-1)'. The public tests cannot determine if your code satisfies these requirements. Verify your code manually."
      ]
     },
     "execution_count": 18,
     "metadata": {},
     "output_type": "execute_result"
    }
   ],
   "source": [
    "grader.check(\"genre_buckets\")"
   ]
  },
  {
   "cell_type": "code",
   "execution_count": 19,
   "id": "6a68a8f8",
   "metadata": {
    "deletable": false,
    "editable": false
   },
   "outputs": [
    {
     "data": {
      "text/html": [
       "<p><strong><pre style='display: inline;'>year_buckets</pre></strong> passed! 🌈</p><p><strong><pre style='display: inline;'>year_buckets - 1</pre> message:</strong> Note that the Gradescope autograder will deduct points if your code fails the following rubric point - '`bucketize` function is not used (-1)'. The public tests cannot determine if your code satisfies these requirements. Verify your code manually.</p><p><strong><pre style='display: inline;'>year_buckets - 2</pre> message:</strong> Note that the Gradescope autograder will deduct points if your code fails the following rubric point - 'data structure is defined incorrectly (-1)'. The public tests cannot determine if your code satisfies these requirements. Verify your code manually.</p>"
      ],
      "text/plain": [
       "year_buckets results: All test cases passed!\n",
       "year_buckets - 1 message: Note that the Gradescope autograder will deduct points if your code fails the following rubric point - '`bucketize` function is not used (-1)'. The public tests cannot determine if your code satisfies these requirements. Verify your code manually.\n",
       "year_buckets - 2 message: Note that the Gradescope autograder will deduct points if your code fails the following rubric point - 'data structure is defined incorrectly (-1)'. The public tests cannot determine if your code satisfies these requirements. Verify your code manually."
      ]
     },
     "execution_count": 19,
     "metadata": {},
     "output_type": "execute_result"
    }
   ],
   "source": [
    "grader.check(\"year_buckets\")"
   ]
  },
  {
   "cell_type": "markdown",
   "id": "08508a50",
   "metadata": {
    "deletable": false,
    "editable": false
   },
   "source": [
    "Even when you are not explicitly prompted to do so, using these data structures and the `bucketize` function cleverly can simplify your code significantly. Keep an eye out for how you can simplify your code by making use of these data structures and the `bucketize` function.\n",
    "\n",
    "Remember, you can still use the `bucketize` function on a subset of the `movies` data structure (i.e. not the whole `movies` dataset). You are **not** limited to only using the variables defined above."
   ]
  },
  {
   "cell_type": "markdown",
   "id": "0c3a4374",
   "metadata": {
    "deletable": false,
    "editable": false
   },
   "source": [
    "**Question 3:** List the movies that *Margot Robbie* was `cast` in.\n",
    "\n",
    "Your output **must** be a **list** of **dictionaries**. You **must** answer this question by accessing the **value** of the correct **key** from the correct **bucket** defined in the previous cell."
   ]
  },
  {
   "cell_type": "code",
   "execution_count": 20,
   "id": "0b7a9fdc",
   "metadata": {
    "execution": {
     "iopub.execute_input": "2023-11-01T23:52:55.789076Z",
     "iopub.status.busy": "2023-11-01T23:52:55.789076Z",
     "iopub.status.idle": "2023-11-01T23:52:55.802890Z",
     "shell.execute_reply": "2023-11-01T23:52:55.801861Z"
    },
    "tags": []
   },
   "outputs": [
    {
     "data": {
      "text/plain": [
       "[{'title': 'Goodbye Christopher Robin',\n",
       "  'year': 2017,\n",
       "  'duration': 107,\n",
       "  'genres': ['Biography', 'Drama', 'Family'],\n",
       "  'rating': 7.1,\n",
       "  'directors': ['Simon Curtis'],\n",
       "  'cast': ['Domhnall Gleeson',\n",
       "   'Margot Robbie',\n",
       "   'Kelly Macdonald',\n",
       "   'Vicki Pepperdine']},\n",
       " {'title': 'The Wolf of Wall Street',\n",
       "  'year': 2013,\n",
       "  'duration': 180,\n",
       "  'genres': ['Biography', 'Comedy', 'Crime'],\n",
       "  'rating': 8.2,\n",
       "  'directors': ['Martin Scorsese'],\n",
       "  'cast': ['Leonardo DiCaprio',\n",
       "   'Jonah Hill',\n",
       "   'Margot Robbie',\n",
       "   'Matthew McConaughey']},\n",
       " {'title': 'Suite Française',\n",
       "  'year': 2014,\n",
       "  'duration': 107,\n",
       "  'genres': ['Drama', 'Romance', 'Thriller'],\n",
       "  'rating': 7.0,\n",
       "  'directors': ['Saul Dibb'],\n",
       "  'cast': ['Michelle Williams',\n",
       "   'Kristin Scott Thomas',\n",
       "   'Margot Robbie',\n",
       "   'Eric Godon']},\n",
       " {'title': 'I, Tonya',\n",
       "  'year': 2017,\n",
       "  'duration': 119,\n",
       "  'genres': ['Biography', 'Comedy', 'Drama'],\n",
       "  'rating': 7.5,\n",
       "  'directors': ['Craig Gillespie'],\n",
       "  'cast': ['Margot Robbie',\n",
       "   'Sebastian Stan',\n",
       "   'Allison Janney',\n",
       "   'Julianne Nicholson']},\n",
       " {'title': 'Whiskey Tango Foxtrot',\n",
       "  'year': 2016,\n",
       "  'duration': 112,\n",
       "  'genres': ['Biography', 'Comedy', 'Drama'],\n",
       "  'rating': 6.6,\n",
       "  'directors': ['Glenn Ficarra', 'John Requa'],\n",
       "  'cast': ['Tina Fey', 'Margot Robbie', 'Martin Freeman', 'Alfred Molina']},\n",
       " {'title': 'Focus',\n",
       "  'year': 2015,\n",
       "  'duration': 105,\n",
       "  'genres': ['Comedy', 'Crime', 'Drama'],\n",
       "  'rating': 6.6,\n",
       "  'directors': ['Glenn Ficarra', 'John Requa'],\n",
       "  'cast': ['Will Smith',\n",
       "   'Margot Robbie',\n",
       "   'Rodrigo Santoro',\n",
       "   'Adrian Martinez']},\n",
       " {'title': 'Dreamland',\n",
       "  'year': 2019,\n",
       "  'duration': 98,\n",
       "  'genres': ['Drama', 'Thriller', 'Western'],\n",
       "  'rating': 5.9,\n",
       "  'directors': ['Miles Joris-Peyrafitte'],\n",
       "  'cast': ['Finn Cole', 'Margot Robbie', 'Travis Fimmel', 'Kerry Condon']},\n",
       " {'title': 'Terminal',\n",
       "  'year': 2018,\n",
       "  'duration': 95,\n",
       "  'genres': ['Action', 'Comedy', 'Crime'],\n",
       "  'rating': 5.3,\n",
       "  'directors': ['Vaughn Stein'],\n",
       "  'cast': ['Margot Robbie', 'Simon Pegg', 'Dexter Fletcher', 'Mike Myers']},\n",
       " {'title': 'Once Upon a Time in Hollywood',\n",
       "  'year': 2019,\n",
       "  'duration': 161,\n",
       "  'genres': ['Comedy', 'Drama'],\n",
       "  'rating': 7.6,\n",
       "  'directors': ['Quentin Tarantino'],\n",
       "  'cast': ['Leonardo DiCaprio', 'Brad Pitt', 'Margot Robbie', 'Emile Hirsch']},\n",
       " {'title': 'I.C.U.',\n",
       "  'year': 2009,\n",
       "  'duration': 85,\n",
       "  'genres': ['Horror', 'Thriller'],\n",
       "  'rating': 2.5,\n",
       "  'directors': ['Aash Aaron'],\n",
       "  'cast': ['Margot Robbie',\n",
       "   'Christian Radford',\n",
       "   'James Dean',\n",
       "   'Natalie Hoflin']},\n",
       " {'title': 'Babylon',\n",
       "  'year': 2022,\n",
       "  'duration': 189,\n",
       "  'genres': ['Comedy', 'Drama', 'History'],\n",
       "  'rating': 7.1,\n",
       "  'directors': ['Damien Chazelle'],\n",
       "  'cast': ['Brad Pitt', 'Margot Robbie', 'Jean Smart', 'Olivia Wilde']},\n",
       " {'title': 'Suicide Squad',\n",
       "  'year': 2016,\n",
       "  'duration': 123,\n",
       "  'genres': ['Action', 'Adventure', 'Fantasy'],\n",
       "  'rating': 5.9,\n",
       "  'directors': ['David Ayer'],\n",
       "  'cast': ['Will Smith', 'Jared Leto', 'Margot Robbie', 'Viola Davis']},\n",
       " {'title': 'Mary Queen of Scots',\n",
       "  'year': 2018,\n",
       "  'duration': 124,\n",
       "  'genres': ['Biography', 'Drama', 'History'],\n",
       "  'rating': 6.3,\n",
       "  'directors': ['Josie Rourke'],\n",
       "  'cast': ['Saoirse Ronan', 'Margot Robbie', 'Jack Lowden', 'Joe Alwyn']},\n",
       " {'title': 'Z for Zachariah',\n",
       "  'year': 2015,\n",
       "  'duration': 98,\n",
       "  'genres': ['Drama', 'Romance', 'Sci-Fi'],\n",
       "  'rating': 6.0,\n",
       "  'directors': ['Craig Zobel'],\n",
       "  'cast': ['Chiwetel Ejiofor', 'Chris Pine', 'Margot Robbie']},\n",
       " {'title': 'Bombshell',\n",
       "  'year': 2019,\n",
       "  'duration': 109,\n",
       "  'genres': ['Biography', 'Drama'],\n",
       "  'rating': 6.8,\n",
       "  'directors': ['Jay Roach'],\n",
       "  'cast': ['Charlize Theron',\n",
       "   'Nicole Kidman',\n",
       "   'Margot Robbie',\n",
       "   'John Lithgow']},\n",
       " {'title': 'Amsterdam',\n",
       "  'year': 2022,\n",
       "  'duration': 134,\n",
       "  'genres': ['Comedy', 'Drama', 'History'],\n",
       "  'rating': 6.1,\n",
       "  'directors': ['David O. Russell'],\n",
       "  'cast': ['Christian Bale',\n",
       "   'Margot Robbie',\n",
       "   'John David Washington',\n",
       "   'Alessandro Nivola']},\n",
       " {'title': 'The Suicide Squad',\n",
       "  'year': 2021,\n",
       "  'duration': 132,\n",
       "  'genres': ['Action', 'Adventure', 'Comedy'],\n",
       "  'rating': 7.2,\n",
       "  'directors': ['James Gunn'],\n",
       "  'cast': ['Margot Robbie', 'Idris Elba', 'John Cena', 'Joel Kinnaman']},\n",
       " {'title': 'Vigilante',\n",
       "  'year': 2008,\n",
       "  'duration': 90,\n",
       "  'genres': ['Action'],\n",
       "  'rating': 2.6,\n",
       "  'directors': ['Aash Aaron'],\n",
       "  'cast': ['Robert Díaz', 'Kazuya Wright', 'Lexie Symon', 'Margot Robbie']},\n",
       " {'title': 'Barbie',\n",
       "  'year': 2023,\n",
       "  'duration': 114,\n",
       "  'genres': ['Adventure', 'Comedy', 'Fantasy'],\n",
       "  'rating': 7.1,\n",
       "  'directors': ['Greta Gerwig'],\n",
       "  'cast': ['Margot Robbie', 'Ryan Gosling', 'Issa Rae', 'Kate McKinnon']},\n",
       " {'title': 'Birds of Prey',\n",
       "  'year': 2020,\n",
       "  'duration': 109,\n",
       "  'genres': ['Action', 'Comedy', 'Crime'],\n",
       "  'rating': 6.1,\n",
       "  'directors': ['Cathy Yan'],\n",
       "  'cast': ['Margot Robbie',\n",
       "   'Rosie Perez',\n",
       "   'Mary Elizabeth Winstead',\n",
       "   'Jurnee Smollett']}]"
      ]
     },
     "execution_count": 20,
     "metadata": {},
     "output_type": "execute_result"
    }
   ],
   "source": [
    "# compute and store the answer in the variable 'robbie_movies', then display it\n",
    "robbie_movies = cast_buckets.get('Margot Robbie')\n",
    "robbie_movies"
   ]
  },
  {
   "cell_type": "code",
   "execution_count": 21,
   "id": "ba8dc097",
   "metadata": {
    "deletable": false,
    "editable": false
   },
   "outputs": [
    {
     "data": {
      "text/html": [
       "<p><strong><pre style='display: inline;'>q3</pre></strong> passed! 🙌</p><p><strong><pre style='display: inline;'>q3 - 2</pre> message:</strong> Note that the Gradescope autograder will deduct points if your code fails the following rubric point - '`cast_buckets` data structure is not used (-2)'. The public tests cannot determine if your code satisfies these requirements. Verify your code manually.</p>"
      ],
      "text/plain": [
       "q3 results: All test cases passed!\n",
       "q3 - 2 message: Note that the Gradescope autograder will deduct points if your code fails the following rubric point - '`cast_buckets` data structure is not used (-2)'. The public tests cannot determine if your code satisfies these requirements. Verify your code manually."
      ]
     },
     "execution_count": 21,
     "metadata": {},
     "output_type": "execute_result"
    }
   ],
   "source": [
    "grader.check(\"q3\")"
   ]
  },
  {
   "cell_type": "markdown",
   "id": "1695bc80",
   "metadata": {
    "deletable": false,
    "editable": false
   },
   "source": [
    "**Question 4:** **Plot** the **number** of movies in each *genre* as a **bar graph**.\n",
    "\n",
    "You **must** first compute a **dictionary** which maps each **genre** to the **number** of movies in that **genre**."
   ]
  },
  {
   "cell_type": "code",
   "execution_count": 22,
   "id": "dfecaff8",
   "metadata": {
    "execution": {
     "iopub.execute_input": "2023-11-01T23:52:55.827635Z",
     "iopub.status.busy": "2023-11-01T23:52:55.827635Z",
     "iopub.status.idle": "2023-11-01T23:52:55.834299Z",
     "shell.execute_reply": "2023-11-01T23:52:55.834299Z"
    },
    "tags": []
   },
   "outputs": [
    {
     "data": {
      "text/plain": [
       "{'Drama': 40806,\n",
       " 'Thriller': 10749,\n",
       " 'Action': 11813,\n",
       " 'Crime': 10583,\n",
       " 'Comedy': 24336,\n",
       " 'Adventure': 7037,\n",
       " 'Family': 3443,\n",
       " 'Sci-Fi': 3336,\n",
       " 'Romance': 12354,\n",
       " 'Biography': 2507,\n",
       " 'War': 1868,\n",
       " 'History': 2238,\n",
       " 'Fantasy': 3533,\n",
       " 'Horror': 9127,\n",
       " 'Mystery': 5413,\n",
       " 'Animation': 2067,\n",
       " 'Documentary': 1334,\n",
       " 'Music': 1627,\n",
       " 'Musical': 1537,\n",
       " 'Western': 1283,\n",
       " 'Film-Noir': 666,\n",
       " 'Sport': 1105,\n",
       " 'News': 22,\n",
       " 'Reality-TV': 2}"
      ]
     },
     "execution_count": 22,
     "metadata": {},
     "output_type": "execute_result"
    }
   ],
   "source": [
    "# first compute and store the dictionary in the variable 'genre_num', then display it\n",
    "# do NOT plot just yet\n",
    "genre_num = {}\n",
    "for movie in movies:\n",
    "    genres = movie[\"genres\"]\n",
    "    for genre in genres:\n",
    "        if genre not in genre_num:\n",
    "            genre_num[genre] = 1\n",
    "        else:\n",
    "            genre_num[genre] += 1\n",
    "genre_num"
   ]
  },
  {
   "cell_type": "code",
   "execution_count": 23,
   "id": "a617b893",
   "metadata": {
    "deletable": false,
    "editable": false
   },
   "outputs": [
    {
     "data": {
      "text/html": [
       "<p><strong><pre style='display: inline;'>q4</pre></strong> passed! 🍀</p><p><strong><pre style='display: inline;'>q4 - 2</pre> message:</strong> Note that the Gradescope autograder will deduct points if your code fails the following rubric point - 'incorrect logic is used to answer (-2)'. The public tests cannot determine if your code satisfies these requirements. Verify your code manually.</p><p><strong><pre style='display: inline;'>q4 - 3</pre> message:</strong> Note that the Gradescope autograder will deduct points if your code fails the following rubric point - 'plot is incorrect (-1)'. The public tests cannot determine if your code satisfies these requirements. Verify your code manually.</p><p><strong><pre style='display: inline;'>q4 - 4</pre> message:</strong> Note that the Gradescope autograder will deduct points if your code fails the following rubric point - 'plot is not properly labeled (-1)'. The public tests cannot determine if your code satisfies these requirements. Verify your code manually.</p>"
      ],
      "text/plain": [
       "q4 results: All test cases passed!\n",
       "q4 - 2 message: Note that the Gradescope autograder will deduct points if your code fails the following rubric point - 'incorrect logic is used to answer (-2)'. The public tests cannot determine if your code satisfies these requirements. Verify your code manually.\n",
       "q4 - 3 message: Note that the Gradescope autograder will deduct points if your code fails the following rubric point - 'plot is incorrect (-1)'. The public tests cannot determine if your code satisfies these requirements. Verify your code manually.\n",
       "q4 - 4 message: Note that the Gradescope autograder will deduct points if your code fails the following rubric point - 'plot is not properly labeled (-1)'. The public tests cannot determine if your code satisfies these requirements. Verify your code manually."
      ]
     },
     "execution_count": 23,
     "metadata": {},
     "output_type": "execute_result"
    }
   ],
   "source": [
    "grader.check(\"q4\")"
   ]
  },
  {
   "cell_type": "markdown",
   "id": "3ce293b0",
   "metadata": {
    "deletable": false,
    "editable": false
   },
   "source": [
    "Now, **plot** `genre_num` as a **bar graph**.\n",
    "\n",
    "**Important Warning:** `public_tests.py` can only check that the **dictionary** has the correct key/value pairs, but it **cannot** check if your plot appears on the screen, or whether the axes are correctly labelled. The Gradescope autograder will deduct points if your plot is not visible in the **cell below**, or if it is not properly labelled.\n",
    "\n",
    "**Hint:** If the `grader.export` cell fails to run because the file size is too large, you can delete the plot below to reduce the size of your notebook. Make sure your plot matches the plot below, before you do so.\n",
    "\n",
    "Your plot should look like this:"
   ]
  },
  {
   "attachments": {
    "q4.jpg": {
     "image/jpeg": "[encoded data removed]"
    }
   },
   "cell_type": "markdown",
   "id": "7a0021bd",
   "metadata": {
    "deletable": false,
    "editable": false
   },
   "source": [
    "<div><img src=\"attachment:q4.jpg\" style=\"height: 300px;\"/></div>"
   ]
  },
  {
   "cell_type": "code",
   "execution_count": 24,
   "id": "711540ef",
   "metadata": {
    "execution": {
     "iopub.execute_input": "2023-11-01T23:52:55.875309Z",
     "iopub.status.busy": "2023-11-01T23:52:55.875309Z",
     "iopub.status.idle": "2023-11-01T23:52:57.151059Z",
     "shell.execute_reply": "2023-11-01T23:52:57.150050Z"
    },
    "tags": []
   },
   "outputs": [
    {
     "data": {
      "image/png": "[encoded data removed]",
      "text/plain": [
       "<Figure size 1000x400 with 1 Axes>"
      ]
     },
     "metadata": {},
     "output_type": "display_data"
    }
   ],
   "source": [
    "# plot 'genre_num' with the y-axis labelled 'number of movies'\n",
    "\n",
    "plot_dict(genre_num, 'number of movies')"
   ]
  },
  {
   "cell_type": "markdown",
   "id": "ecc40640",
   "metadata": {
    "deletable": false,
    "editable": false
   },
   "source": [
    "**Food for thought:** Can you tell what the most popular **genres** are from the plot? Do you see anything surprising in this plot?"
   ]
  },
  {
   "cell_type": "markdown",
   "id": "0757ee11",
   "metadata": {
    "deletable": false,
    "editable": false
   },
   "source": [
    "**Question 5:** **Plot** the **number** of movies **directed** by *Stanley Kubrick* in each *genre* as a **bar graph**.\n",
    "\n",
    "You **must** only include those `genres` in which *Stanley Kubrick* has directed **at least** one movie, in your plot.\n",
    "\n",
    "You **must** first compute a **dictionary** which maps each **genre** to the **number** of movies in that **genre** directed by *Stanley Kubrick*.\n",
    "\n",
    "**Hint:** Think about how you can use functions such as `bucketize` on a subset of movies for the category that you are interested in."
   ]
  },
  {
   "cell_type": "code",
   "execution_count": 25,
   "id": "d6a7c7bb",
   "metadata": {
    "execution": {
     "iopub.execute_input": "2023-11-01T23:52:57.162886Z",
     "iopub.status.busy": "2023-11-01T23:52:57.162886Z",
     "iopub.status.idle": "2023-11-01T23:52:57.170422Z",
     "shell.execute_reply": "2023-11-01T23:52:57.169775Z"
    },
    "tags": []
   },
   "outputs": [
    {
     "data": {
      "text/plain": [
       "{'Crime': 3,\n",
       " 'Drama': 9,\n",
       " 'Film-Noir': 2,\n",
       " 'Horror': 1,\n",
       " 'Adventure': 3,\n",
       " 'War': 5,\n",
       " 'Comedy': 1,\n",
       " 'Thriller': 2,\n",
       " 'Mystery': 1,\n",
       " 'Sci-Fi': 2,\n",
       " 'Biography': 1}"
      ]
     },
     "execution_count": 25,
     "metadata": {},
     "output_type": "execute_result"
    }
   ],
   "source": [
    "# first compute and store the dictionary in the variable 'kubrick_genres', then display it\n",
    "# do NOT plot just yet\n",
    "kubrick_genres = find_specific_movies(movies, 'Stanley Kubrick')\n",
    "x = {}\n",
    "for movie in kubrick_genres:\n",
    "    genres_kubrick = movie[\"genres\"]\n",
    "    for genre in genres_kubrick:\n",
    "        if genre not in x:\n",
    "            x[genre] = 1\n",
    "        else:\n",
    "            x[genre] += 1\n",
    "kubrick_genres = x\n",
    "kubrick_genres"
   ]
  },
  {
   "cell_type": "code",
   "execution_count": 26,
   "id": "3af2cc03",
   "metadata": {
    "deletable": false,
    "editable": false
   },
   "outputs": [
    {
     "data": {
      "text/html": [
       "<p><strong><pre style='display: inline;'>q5</pre></strong> passed! 🌟</p><p><strong><pre style='display: inline;'>q5 - 2</pre> message:</strong> Note that the Gradescope autograder will deduct points if your code fails the following rubric point - 'incorrect logic is used to answer (-2)'. The public tests cannot determine if your code satisfies these requirements. Verify your code manually.</p><p><strong><pre style='display: inline;'>q5 - 3</pre> message:</strong> Note that the Gradescope autograder will deduct points if your code fails the following rubric point - 'plot is incorrect (-1)'. The public tests cannot determine if your code satisfies these requirements. Verify your code manually.</p><p><strong><pre style='display: inline;'>q5 - 4</pre> message:</strong> Note that the Gradescope autograder will deduct points if your code fails the following rubric point - 'plot is not properly labeled (-1)'. The public tests cannot determine if your code satisfies these requirements. Verify your code manually.</p>"
      ],
      "text/plain": [
       "q5 results: All test cases passed!\n",
       "q5 - 2 message: Note that the Gradescope autograder will deduct points if your code fails the following rubric point - 'incorrect logic is used to answer (-2)'. The public tests cannot determine if your code satisfies these requirements. Verify your code manually.\n",
       "q5 - 3 message: Note that the Gradescope autograder will deduct points if your code fails the following rubric point - 'plot is incorrect (-1)'. The public tests cannot determine if your code satisfies these requirements. Verify your code manually.\n",
       "q5 - 4 message: Note that the Gradescope autograder will deduct points if your code fails the following rubric point - 'plot is not properly labeled (-1)'. The public tests cannot determine if your code satisfies these requirements. Verify your code manually."
      ]
     },
     "execution_count": 26,
     "metadata": {},
     "output_type": "execute_result"
    }
   ],
   "source": [
    "grader.check(\"q5\")"
   ]
  },
  {
   "cell_type": "markdown",
   "id": "40fec1f8",
   "metadata": {
    "deletable": false,
    "editable": false
   },
   "source": [
    "Now, **plot** `kubrick_genres` as a **bar graph**.\n",
    "\n",
    "**Important Warning:** `public_tests.py` can only check that the **dictionary** has the correct key/value pairs, but it **cannot** check if your plot appears on the screen, or whether the axes are correctly labelled. The Gradescope autograder will deduct points if your plot is not visible in the **cell below**, or if it is not properly labelled.\n",
    "\n",
    "**Hint:** If the `grader.export` cell fails to run because the file size is too large, you can delete the plot below to reduce the size of your notebook. Make sure your plot matches the plot below, before you do so.\n",
    "\n",
    "Your plot should look like this:"
   ]
  },
  {
   "attachments": {
    "q5.jpg": {
     "image/jpeg": "[encoded data removed]"
    }
   },
   "cell_type": "markdown",
   "id": "19b1e47e",
   "metadata": {
    "deletable": false,
    "editable": false
   },
   "source": [
    "<div><img src=\"attachment:q5.jpg\" style=\"height: 300px;\"/></div>"
   ]
  },
  {
   "cell_type": "code",
   "execution_count": 27,
   "id": "f32adf53",
   "metadata": {
    "execution": {
     "iopub.execute_input": "2023-11-01T23:52:57.213610Z",
     "iopub.status.busy": "2023-11-01T23:52:57.213610Z",
     "iopub.status.idle": "2023-11-01T23:52:57.471533Z",
     "shell.execute_reply": "2023-11-01T23:52:57.470503Z"
    },
    "tags": []
   },
   "outputs": [
    {
     "data": {
      "image/png": "[encoded data removed]",
      "text/plain": [
       "<Figure size 600x400 with 1 Axes>"
      ]
     },
     "metadata": {},
     "output_type": "display_data"
    }
   ],
   "source": [
    "# now plot 'kubrick_genres' with the y-axis labelled 'number of movies'\n",
    "plot_dict(kubrick_genres, 'number of movies')"
   ]
  },
  {
   "cell_type": "markdown",
   "id": "502f4ae5",
   "metadata": {
    "deletable": false,
    "editable": false
   },
   "source": [
    "**Food for thought:** Can you similarly **plot** the **number** of films directed by your favorite director or starring your favorite cast member in each **genre**?"
   ]
  },
  {
   "cell_type": "markdown",
   "id": "c5d3f62e",
   "metadata": {
    "deletable": false,
    "editable": false
   },
   "source": [
    "**Question 6:** **Plot** the **number** of **Sci-Fi** movies released in each *decade* as a **bar graph**.\n",
    "\n",
    "You **must** first compute a **dictionary** which maps each **decade** to the **number** of movies in released in that **decade**. This dictionary should look like this:\n",
    "\n",
    "```python\n",
    "{'2011 to 2020': 1100,\n",
    " '1961 to 1970': 201,\n",
    " '1911 to 1920': 6,\n",
    " '1981 to 1990': 383,\n",
    " '1951 to 1960': 198,\n",
    " '1941 to 1950': 24,\n",
    " '1991 to 2000': 389,\n",
    " '2021 to 2030': 242,\n",
    " '2001 to 2010': 517,\n",
    " '1971 to 1980': 243,\n",
    " '1931 to 1940': 28,\n",
    " '1921 to 1930': 5}\n",
    "```\n",
    "\n",
    "**Hint:** You should use `year_to_decade` function to get the decade for a movie's year"
   ]
  },
  {
   "cell_type": "code",
   "execution_count": 28,
   "id": "52e0d794",
   "metadata": {
    "execution": {
     "iopub.execute_input": "2023-11-01T23:52:57.484038Z",
     "iopub.status.busy": "2023-11-01T23:52:57.484038Z",
     "iopub.status.idle": "2023-11-01T23:52:57.494987Z",
     "shell.execute_reply": "2023-11-01T23:52:57.493977Z"
    },
    "tags": []
   },
   "outputs": [
    {
     "data": {
      "text/plain": [
       "{'2011 to 2020': 1100,\n",
       " '1961 to 1970': 201,\n",
       " '1911 to 1920': 6,\n",
       " '1981 to 1990': 383,\n",
       " '1951 to 1960': 198,\n",
       " '1941 to 1950': 24,\n",
       " '1991 to 2000': 389,\n",
       " '2021 to 2030': 242,\n",
       " '2001 to 2010': 517,\n",
       " '1971 to 1980': 243,\n",
       " '1931 to 1940': 28,\n",
       " '1921 to 1930': 5}"
      ]
     },
     "execution_count": 28,
     "metadata": {},
     "output_type": "execute_result"
    }
   ],
   "source": [
    "# first compute and store the dictionary in the variable 'sci_fi_decade_mapping', then display it\n",
    "# do NOT plot just yet\n",
    "x = {}\n",
    "for movie in movies:\n",
    "    y = year_to_decade(movie['year'])\n",
    "    if 'Sci-Fi' in movie['genres']:\n",
    "        x[y] = x.get(y, 0) + 1\n",
    "sci_fi_decade_mapping = x\n",
    "sci_fi_decade_mapping"
   ]
  },
  {
   "cell_type": "code",
   "execution_count": 29,
   "id": "30c9530e",
   "metadata": {
    "deletable": false,
    "editable": false
   },
   "outputs": [
    {
     "data": {
      "text/html": [
       "<p><strong><pre style='display: inline;'>q6</pre></strong> passed! 🙌</p><p><strong><pre style='display: inline;'>q6 - 2</pre> message:</strong> Note that the Gradescope autograder will deduct points if your code fails the following rubric point - 'incorrect logic is used to answer (-2)'. The public tests cannot determine if your code satisfies these requirements. Verify your code manually.</p><p><strong><pre style='display: inline;'>q6 - 3</pre> message:</strong> Note that the Gradescope autograder will deduct points if your code fails the following rubric point - 'plot is incorrect (-1)'. The public tests cannot determine if your code satisfies these requirements. Verify your code manually.</p><p><strong><pre style='display: inline;'>q6 - 4</pre> message:</strong> Note that the Gradescope autograder will deduct points if your code fails the following rubric point - 'plot is not properly labeled (-1)'. The public tests cannot determine if your code satisfies these requirements. Verify your code manually.</p>"
      ],
      "text/plain": [
       "q6 results: All test cases passed!\n",
       "q6 - 2 message: Note that the Gradescope autograder will deduct points if your code fails the following rubric point - 'incorrect logic is used to answer (-2)'. The public tests cannot determine if your code satisfies these requirements. Verify your code manually.\n",
       "q6 - 3 message: Note that the Gradescope autograder will deduct points if your code fails the following rubric point - 'plot is incorrect (-1)'. The public tests cannot determine if your code satisfies these requirements. Verify your code manually.\n",
       "q6 - 4 message: Note that the Gradescope autograder will deduct points if your code fails the following rubric point - 'plot is not properly labeled (-1)'. The public tests cannot determine if your code satisfies these requirements. Verify your code manually."
      ]
     },
     "execution_count": 29,
     "metadata": {},
     "output_type": "execute_result"
    }
   ],
   "source": [
    "grader.check(\"q6\")"
   ]
  },
  {
   "cell_type": "markdown",
   "id": "4339f5b8",
   "metadata": {
    "deletable": false,
    "editable": false
   },
   "source": [
    "Now, **plot** `sci_fi_decade_mapping` as a **bar graph**.\n",
    "\n",
    "**Important Warning:** `public_tests.py` can only check that the **dictionary** has the correct key/value pairs, but it **cannot** check if your plot appears on the screen, or whether the axes are correctly labelled. The Gradescope autograder will deduct points if your plot is not visible in the **cell below**, or if it is not properly labelled.\n",
    "\n",
    "**Hint:** If the `grader.export` cell fails to run because the file size is too large, you can delete the plot below to reduce the size of your notebook. Make sure your plot matches the plot below, before you do so.\n",
    "\n",
    "Your plot should look like this:"
   ]
  },
  {
   "attachments": {
    "q6.jpg": {
     "image/jpeg": "[encoded data removed]"
    }
   },
   "cell_type": "markdown",
   "id": "8b378650",
   "metadata": {
    "deletable": false,
    "editable": false
   },
   "source": [
    "<div><img src=\"attachment:q6.jpg\" style=\"height: 300px;\"/></div>"
   ]
  },
  {
   "cell_type": "code",
   "execution_count": 30,
   "id": "bcade1a3",
   "metadata": {
    "execution": {
     "iopub.execute_input": "2023-11-01T23:52:57.535731Z",
     "iopub.status.busy": "2023-11-01T23:52:57.535731Z",
     "iopub.status.idle": "2023-11-01T23:52:57.853180Z",
     "shell.execute_reply": "2023-11-01T23:52:57.852171Z"
    },
    "tags": []
   },
   "outputs": [
    {
     "data": {
      "image/png": "[encoded data removed]",
      "text/plain": [
       "<Figure size 700x400 with 1 Axes>"
      ]
     },
     "metadata": {},
     "output_type": "display_data"
    }
   ],
   "source": [
    "# now plot 'sci_fi_decade_mapping' with the y-axis labelled 'Sci-Fi movies released'\n",
    "plot_dict(sci_fi_decade_mapping, 'Sci-Fi movies released')"
   ]
  },
  {
   "cell_type": "markdown",
   "id": "f0da26eb",
   "metadata": {
    "deletable": false,
    "editable": false
   },
   "source": [
    "**Food for thought:** Can you explain the shape of this plot? Why do you think the number of Sci-Fi movies increased so rapidly over the last decade? If you want, you could compare this plot against plots of other genres (such as `Western` or `Horror`)."
   ]
  },
  {
   "cell_type": "markdown",
   "id": "8e467d3f",
   "metadata": {
    "deletable": false,
    "editable": false
   },
   "source": [
    "**Question 7:** **Plot** the **median** `rating` of movies in each `genre` directed by *James Cameron* as a **bar graph**.\n",
    "\n",
    "You **must** first compute a **dictionary** which maps each **genre** of movies directed by *James Cameron* to the **median** `rating` of all movies in that **genre**. Note that your dictionary **must not** contain any genres in which *James Cameron* has not directed any movie."
   ]
  },
  {
   "cell_type": "code",
   "execution_count": 31,
   "id": "d24531e5",
   "metadata": {
    "execution": {
     "iopub.execute_input": "2023-11-01T23:52:57.866406Z",
     "iopub.status.busy": "2023-11-01T23:52:57.866406Z",
     "iopub.status.idle": "2023-11-01T23:52:57.875793Z",
     "shell.execute_reply": "2023-11-01T23:52:57.874705Z"
    },
    "tags": []
   },
   "outputs": [
    {
     "data": {
      "text/plain": [
       "{'Action': 8.0,\n",
       " 'Sci-Fi': 8.25,\n",
       " 'Adventure': 7.75,\n",
       " 'Fantasy': 7.75,\n",
       " 'Drama': 7.7,\n",
       " 'Mystery': 7.5,\n",
       " 'Comedy': 7.3,\n",
       " 'Thriller': 5.55,\n",
       " 'Horror': 3.8,\n",
       " 'Romance': 7.9}"
      ]
     },
     "execution_count": 31,
     "metadata": {},
     "output_type": "execute_result"
    }
   ],
   "source": [
    "# first compute and store the dictionary in the variable 'cameron_median_genres', then display it\n",
    "# do NOT plot just yet\n",
    "#cameron_median_genres = find_specific_movies(movies, 'James Cameron')\n",
    "#for movie in cameron_median_genres:\n",
    "z = {}\n",
    "for x in movies:\n",
    "    if 'James Cameron' in x['directors']:\n",
    "        genres = x['genres']\n",
    "        rating = x['rating']\n",
    "        for genre in genres:\n",
    "            if genre not in z:\n",
    "                z[genre] = []\n",
    "            z[genre].append(rating)\n",
    "for genre, ratings in z.items():\n",
    "    z[genre] = median(ratings)\n",
    "cameron_median_genres = z\n",
    "cameron_median_genres"
   ]
  },
  {
   "cell_type": "code",
   "execution_count": 32,
   "id": "a83312ab",
   "metadata": {
    "deletable": false,
    "editable": false
   },
   "outputs": [
    {
     "data": {
      "text/html": [
       "<p><strong><pre style='display: inline;'>q7</pre></strong> passed! 🌟</p><p><strong><pre style='display: inline;'>q7 - 2</pre> message:</strong> Note that the Gradescope autograder will deduct points if your code fails the following rubric point - 'incorrect logic is used to answer (-2)'. The public tests cannot determine if your code satisfies these requirements. Verify your code manually.</p><p><strong><pre style='display: inline;'>q7 - 3</pre> message:</strong> Note that the Gradescope autograder will deduct points if your code fails the following rubric point - 'plot is incorrect (-1)'. The public tests cannot determine if your code satisfies these requirements. Verify your code manually.</p><p><strong><pre style='display: inline;'>q7 - 4</pre> message:</strong> Note that the Gradescope autograder will deduct points if your code fails the following rubric point - 'plot is not properly labeled (-1)'. The public tests cannot determine if your code satisfies these requirements. Verify your code manually.</p>"
      ],
      "text/plain": [
       "q7 results: All test cases passed!\n",
       "q7 - 2 message: Note that the Gradescope autograder will deduct points if your code fails the following rubric point - 'incorrect logic is used to answer (-2)'. The public tests cannot determine if your code satisfies these requirements. Verify your code manually.\n",
       "q7 - 3 message: Note that the Gradescope autograder will deduct points if your code fails the following rubric point - 'plot is incorrect (-1)'. The public tests cannot determine if your code satisfies these requirements. Verify your code manually.\n",
       "q7 - 4 message: Note that the Gradescope autograder will deduct points if your code fails the following rubric point - 'plot is not properly labeled (-1)'. The public tests cannot determine if your code satisfies these requirements. Verify your code manually."
      ]
     },
     "execution_count": 32,
     "metadata": {},
     "output_type": "execute_result"
    }
   ],
   "source": [
    "grader.check(\"q7\")"
   ]
  },
  {
   "cell_type": "markdown",
   "id": "7503b5d6",
   "metadata": {
    "deletable": false,
    "editable": false
   },
   "source": [
    "Now, **plot** `cameron_median_genres` as a **bar graph**.\n",
    "\n",
    "**Important Warning:** `public_tests.py` can only check that the **dictionary** has the correct key/value pairs, but it **cannot** check if your plot appears on the screen, or whether the axes are correctly labelled. The Gradescope autograder will deduct points if your plot is not visible in the **cell below**, or if it is not properly labelled.\n",
    "\n",
    "**Hint:** If the `grader.export` cell fails to run because the file size is too large, you can delete the plot below to reduce the size of your notebook. Make sure your plot matches the plot below, before you do so.\n",
    "\n",
    "Your plot should look like this:"
   ]
  },
  {
   "attachments": {
    "q7.jpg": {
     "image/jpeg": "[encoded data removed]"
    }
   },
   "cell_type": "markdown",
   "id": "0c0d37e6",
   "metadata": {
    "deletable": false,
    "editable": false
   },
   "source": [
    "<div><img src=\"attachment:q7.jpg\" style=\"height: 300px;\"/></div>"
   ]
  },
  {
   "cell_type": "code",
   "execution_count": 33,
   "id": "647677f0",
   "metadata": {
    "execution": {
     "iopub.execute_input": "2023-11-01T23:52:57.917274Z",
     "iopub.status.busy": "2023-11-01T23:52:57.917274Z",
     "iopub.status.idle": "2023-11-01T23:52:58.185671Z",
     "shell.execute_reply": "2023-11-01T23:52:58.184653Z"
    },
    "tags": []
   },
   "outputs": [
    {
     "data": {
      "image/png": "[encoded data removed]",
      "text/plain": [
       "<Figure size 600x400 with 1 Axes>"
      ]
     },
     "metadata": {},
     "output_type": "display_data"
    }
   ],
   "source": [
    "# now plot 'cameron_median_genres' with the y-axis labelled 'median rating'\n",
    "plot_dict(cameron_median_genres, 'median rating')"
   ]
  },
  {
   "cell_type": "markdown",
   "id": "436dcaf0",
   "metadata": {
    "deletable": false,
    "editable": false
   },
   "source": [
    "**Food for thought:** *James Cameron* has directed many critically acclaimed movies such as *Aliens*, *The Terminator*, *Avatar*, and *Titanic*. Nevertheless, median ratings of his work in the *Thriller*, and especially *Horror* genres are surprisingly lackluster. Can you explain this inconsistency?\n",
    "\n",
    "Hint: Take a look at the years of release of the films in these genres. "
   ]
  },
  {
   "cell_type": "markdown",
   "id": "b9aa8b9b",
   "metadata": {
    "deletable": false,
    "editable": false
   },
   "source": [
    "The visualization in Question 7 immediately tells us that the **median** *Fantasy* movie directed by *James Cameron* is rated higher than the **median** *Horror* movie. However, it is a little hard to tell how the **median** *Romance* movie fares against the **median** *Adventure* movie. In order to compare the `genres`, it would be useful to **sort** the `genres` by their **median** `rating`.\n",
    "\n",
    "Refer [Mike's](???), [Gurmail's](???) or [Cole's](???) lecture notes on using function references to sort a collection by value(s) related to that collection's elements."
   ]
  },
  {
   "cell_type": "markdown",
   "id": "b939917b",
   "metadata": {
    "deletable": false,
    "editable": false
   },
   "source": [
    "**Question 8:** Produce a **list** of `genres` of films directed by *James Cameron* sorted in **decreasing order** of their **median** `rating`.\n",
    "\n",
    "**Hint:** Refer to Task 4.2 in Lab-P9 to understand how to sort a collection using the `key` parameter."
   ]
  },
  {
   "cell_type": "code",
   "execution_count": 34,
   "id": "b6d49c68",
   "metadata": {
    "execution": {
     "iopub.execute_input": "2023-11-01T23:52:58.199553Z",
     "iopub.status.busy": "2023-11-01T23:52:58.198552Z",
     "iopub.status.idle": "2023-11-01T23:52:58.206056Z",
     "shell.execute_reply": "2023-11-01T23:52:58.205895Z"
    },
    "tags": []
   },
   "outputs": [
    {
     "data": {
      "text/plain": [
       "['Sci-Fi',\n",
       " 'Action',\n",
       " 'Romance',\n",
       " 'Adventure',\n",
       " 'Fantasy',\n",
       " 'Drama',\n",
       " 'Mystery',\n",
       " 'Comedy',\n",
       " 'Thriller',\n",
       " 'Horror']"
      ]
     },
     "execution_count": 34,
     "metadata": {},
     "output_type": "execute_result"
    }
   ],
   "source": [
    "# compute and store the answer in the variable 'cameron_genres_desc', then display it\n",
    "def get_value(item):\n",
    "    '''get_value(item) takes in a tuple item = (key, value)\n",
    "    and returns the value which is at index 1 of the tuple'''\n",
    "    return item[1]\n",
    "cameron_genres_desc = []\n",
    "cameron_genres_desc = sorted(list(z.items()), key=get_value, reverse = True)\n",
    "for i in range(len(cameron_genres_desc)):\n",
    "    cameron_genres_desc[i] = cameron_genres_desc[i][0]\n",
    "cameron_genres_desc"
   ]
  },
  {
   "cell_type": "code",
   "execution_count": 35,
   "id": "2b1fb3f1",
   "metadata": {
    "deletable": false,
    "editable": false
   },
   "outputs": [
    {
     "data": {
      "text/html": [
       "<p><strong><pre style='display: inline;'>q8</pre></strong> passed! 🙌</p><p><strong><pre style='display: inline;'>q8 - 2</pre> message:</strong> Note that the Gradescope autograder will deduct points if your code fails the following rubric point - 'incorrect logic is used to answer (-2)'. The public tests cannot determine if your code satisfies these requirements. Verify your code manually.</p><p><strong><pre style='display: inline;'>q8 - 3</pre> message:</strong> Note that the Gradescope autograder will deduct points if your code fails the following rubric point - 'recomputed variable defined in Question 7 (-1)'. The public tests cannot determine if your code satisfies these requirements. Verify your code manually.</p>"
      ],
      "text/plain": [
       "q8 results: All test cases passed!\n",
       "q8 - 2 message: Note that the Gradescope autograder will deduct points if your code fails the following rubric point - 'incorrect logic is used to answer (-2)'. The public tests cannot determine if your code satisfies these requirements. Verify your code manually.\n",
       "q8 - 3 message: Note that the Gradescope autograder will deduct points if your code fails the following rubric point - 'recomputed variable defined in Question 7 (-1)'. The public tests cannot determine if your code satisfies these requirements. Verify your code manually."
      ]
     },
     "execution_count": 35,
     "metadata": {},
     "output_type": "execute_result"
    }
   ],
   "source": [
    "grader.check(\"q8\")"
   ]
  },
  {
   "cell_type": "markdown",
   "id": "26a2c264",
   "metadata": {
    "deletable": false,
    "editable": false
   },
   "source": [
    "**Question 9:** Produce a **list** of movies directed by *Martin Scorsese* and starring *Robert De Niro* sorted in **increasing** order of their `year` of release.\n",
    "\n",
    "Your output **must** be a **list** of **dictionaries** of movies having *Martin Scorsese* as one of the `directors`, and *Robert De Niro* as one of the `cast` members, that are **sorted** in **increasing** order of their `year`."
   ]
  },
  {
   "cell_type": "code",
   "execution_count": 36,
   "id": "352bc7cb",
   "metadata": {
    "execution": {
     "iopub.execute_input": "2023-11-01T23:52:58.248601Z",
     "iopub.status.busy": "2023-11-01T23:52:58.248601Z",
     "iopub.status.idle": "2023-11-01T23:52:58.259092Z",
     "shell.execute_reply": "2023-11-01T23:52:58.259092Z"
    },
    "tags": []
   },
   "outputs": [
    {
     "data": {
      "text/plain": [
       "[{'title': 'Mean Streets',\n",
       "  'year': 1973,\n",
       "  'duration': 112,\n",
       "  'genres': ['Crime', 'Drama', 'Thriller'],\n",
       "  'rating': 7.2,\n",
       "  'directors': ['Martin Scorsese'],\n",
       "  'cast': ['Robert De Niro', 'Harvey Keitel', 'David Proval', 'Amy Robinson']},\n",
       " {'title': 'Taxi Driver',\n",
       "  'year': 1976,\n",
       "  'duration': 114,\n",
       "  'genres': ['Crime', 'Drama'],\n",
       "  'rating': 8.2,\n",
       "  'directors': ['Martin Scorsese'],\n",
       "  'cast': ['Robert De Niro',\n",
       "   'Jodie Foster',\n",
       "   'Cybill Shepherd',\n",
       "   'Albert Brooks']},\n",
       " {'title': 'New York, New York',\n",
       "  'year': 1977,\n",
       "  'duration': 155,\n",
       "  'genres': ['Drama', 'Music', 'Musical'],\n",
       "  'rating': 6.6,\n",
       "  'directors': ['Martin Scorsese'],\n",
       "  'cast': ['Liza Minnelli',\n",
       "   'Robert De Niro',\n",
       "   'Lionel Stander',\n",
       "   'Barry Primus']},\n",
       " {'title': 'Raging Bull',\n",
       "  'year': 1980,\n",
       "  'duration': 129,\n",
       "  'genres': ['Biography', 'Drama', 'Sport'],\n",
       "  'rating': 8.1,\n",
       "  'directors': ['Martin Scorsese'],\n",
       "  'cast': ['Robert De Niro', 'Cathy Moriarty', 'Joe Pesci', 'Frank Vincent']},\n",
       " {'title': 'The King of Comedy',\n",
       "  'year': 1982,\n",
       "  'duration': 109,\n",
       "  'genres': ['Comedy', 'Crime', 'Drama'],\n",
       "  'rating': 7.8,\n",
       "  'directors': ['Martin Scorsese'],\n",
       "  'cast': ['Robert De Niro',\n",
       "   'Jerry Lewis',\n",
       "   'Diahnne Abbott',\n",
       "   'Sandra Bernhard']},\n",
       " {'title': 'Goodfellas',\n",
       "  'year': 1990,\n",
       "  'duration': 145,\n",
       "  'genres': ['Biography', 'Crime', 'Drama'],\n",
       "  'rating': 8.7,\n",
       "  'directors': ['Martin Scorsese'],\n",
       "  'cast': ['Robert De Niro', 'Ray Liotta', 'Joe Pesci', 'Lorraine Bracco']},\n",
       " {'title': 'Cape Fear',\n",
       "  'year': 1991,\n",
       "  'duration': 128,\n",
       "  'genres': ['Crime', 'Thriller'],\n",
       "  'rating': 7.3,\n",
       "  'directors': ['Martin Scorsese'],\n",
       "  'cast': ['Robert De Niro', 'Nick Nolte', 'Jessica Lange', 'Juliette Lewis']},\n",
       " {'title': 'Casino',\n",
       "  'year': 1995,\n",
       "  'duration': 178,\n",
       "  'genres': ['Crime', 'Drama'],\n",
       "  'rating': 8.2,\n",
       "  'directors': ['Martin Scorsese'],\n",
       "  'cast': ['Robert De Niro', 'Sharon Stone', 'Joe Pesci', 'James Woods']},\n",
       " {'title': 'The Irishman',\n",
       "  'year': 2019,\n",
       "  'duration': 209,\n",
       "  'genres': ['Biography', 'Crime', 'Drama'],\n",
       "  'rating': 7.8,\n",
       "  'directors': ['Martin Scorsese'],\n",
       "  'cast': ['Robert De Niro', 'Al Pacino', 'Joe Pesci', 'Harvey Keitel']},\n",
       " {'title': 'Killers of the Flower Moon',\n",
       "  'year': 2023,\n",
       "  'duration': 206,\n",
       "  'genres': ['Crime', 'Drama', 'History'],\n",
       "  'rating': 9.0,\n",
       "  'directors': ['Martin Scorsese'],\n",
       "  'cast': ['Leonardo DiCaprio',\n",
       "   'Robert De Niro',\n",
       "   'Lily Gladstone',\n",
       "   'Jesse Plemons']}]"
      ]
     },
     "execution_count": 36,
     "metadata": {},
     "output_type": "execute_result"
    }
   ],
   "source": [
    "# compute and store the answer in the variable 'scorsese_de_niro_movies', then display it\n",
    "scorsese_de_niro_movies = []\n",
    "for movie in movies:\n",
    "    if 'Martin Scorsese' in movie['directors'] and 'Robert De Niro' in movie['cast']:\n",
    "        scorsese_de_niro_movies.append(movie)\n",
    "scorsese_de_niro_movies.sort(key = lambda sdn_movies:sdn_movies['year'])\n",
    "scorsese_de_niro_movies"
   ]
  },
  {
   "cell_type": "code",
   "execution_count": 37,
   "id": "cb5a87c9",
   "metadata": {
    "deletable": false,
    "editable": false
   },
   "outputs": [
    {
     "data": {
      "text/html": [
       "<p><strong><pre style='display: inline;'>q9</pre></strong> passed! 💯</p><p><strong><pre style='display: inline;'>q9 - 2</pre> message:</strong> Note that the Gradescope autograder will deduct points if your code fails the following rubric point - 'incorrect logic is used to answer (-2)'. The public tests cannot determine if your code satisfies these requirements. Verify your code manually.</p><p><strong><pre style='display: inline;'>q9 - 3</pre> message:</strong> Note that the Gradescope autograder will deduct points if your code fails the following rubric point - 'does not find only the movies directed by *Martin Scorsese* and starring *Robert De Niro* (-1)'. The public tests cannot determine if your code satisfies these requirements. Verify your code manually.</p>"
      ],
      "text/plain": [
       "q9 results: All test cases passed!\n",
       "q9 - 2 message: Note that the Gradescope autograder will deduct points if your code fails the following rubric point - 'incorrect logic is used to answer (-2)'. The public tests cannot determine if your code satisfies these requirements. Verify your code manually.\n",
       "q9 - 3 message: Note that the Gradescope autograder will deduct points if your code fails the following rubric point - 'does not find only the movies directed by *Martin Scorsese* and starring *Robert De Niro* (-1)'. The public tests cannot determine if your code satisfies these requirements. Verify your code manually."
      ]
     },
     "execution_count": 37,
     "metadata": {},
     "output_type": "execute_result"
    }
   ],
   "source": [
    "grader.check(\"q9\")"
   ]
  },
  {
   "cell_type": "markdown",
   "id": "9ebec6d7",
   "metadata": {
    "deletable": false,
    "editable": false
   },
   "source": [
    "**Food for thought:** Can you think of other famous director-actor combinations? Can you find a combination with more movies than *Scorsese* and *De Niro*?"
   ]
  },
  {
   "cell_type": "markdown",
   "id": "bc2f34c2",
   "metadata": {
    "deletable": false,
    "editable": false
   },
   "source": [
    "### Finding the best `directors`\n",
    "\n",
    "Notice that the movie with the **highest** `rating` in the dataset is\n",
    "\n",
    "```python\n",
    "{'title': 'Red Sandal Wood',\n",
    "  'year': 2023,\n",
    "  'duration': 94,\n",
    "  'genres': ['Action', 'Thriller'],\n",
    "  'rating': 9.9,\n",
    "  'directors': ['Guru Ramaanujam'],\n",
    "  'cast': ['Vetri', 'Diya Mayuri', 'Ramachandra Raju', 'Abhi']}\n",
    "```\n",
    "\n",
    "This movie is the **only** movie directed by this `director`. So, it is hardly appropriate to use this one movie to hail this director as one of the best ever. Moreover, **nine out of the top ten** highest rated movies in the dataset happen to be from just the `year` **2023**, while **over half of the top hundred** highest rated movies were released after the `year` *2020*. This is explained by the fact that IMDb `ratings` tend to be **inflated** soon after release, and *settle* down after a while.\n",
    "\n",
    "Therefore, if we want to identify who the **best** directors are, it would be a good idea to ignore the movies that were released **after** the `year` *2020*, and to restrict our attention to `directors` who have directed a **decent number** of movies. "
   ]
  },
  {
   "cell_type": "markdown",
   "id": "a479081f",
   "metadata": {
    "deletable": false,
    "editable": false
   },
   "source": [
    "**Question 10:** Produce a **list** of `directors` who have directed **at least** *10* movies, have a **median** `rating` of **at least** *7.5*, and have a **minimum** `rating` of **at least** *5.0*. You **must** **exclude** all movies released **after** the `year` *2020*.\n",
    "\n",
    "Your output **must** be a **list** of the names of the `directors`. The order does **not** matter.\n",
    "\n",
    "**Hint**: You must first create a **list** of movies **excluding** the movies released **after** the `year` *2020*. Then, among these movies, you must find the `directors` who have directed `>= 10` movies, and whose movies have a **median** `rating` of `>= 7.5`, as well as a **minimum** `rating` of `>= 5.0`."
   ]
  },
  {
   "cell_type": "code",
   "execution_count": 38,
   "id": "68a86136",
   "metadata": {
    "execution": {
     "iopub.execute_input": "2023-11-01T23:52:58.410187Z",
     "iopub.status.busy": "2023-11-01T23:52:58.410187Z",
     "iopub.status.idle": "2023-11-01T23:52:58.586322Z",
     "shell.execute_reply": "2023-11-01T23:52:58.585102Z"
    },
    "tags": []
   },
   "outputs": [
    {
     "data": {
      "text/plain": [
       "['William Wyler',\n",
       " 'P. Padmarajan',\n",
       " 'Christopher Nolan',\n",
       " 'Masaki Kobayashi',\n",
       " 'Satyajit Ray',\n",
       " 'Jean-Pierre Melville',\n",
       " 'Quentin Tarantino',\n",
       " 'Akira Kurosawa',\n",
       " 'Singeetam Srinivasa Rao',\n",
       " 'Theodoros Angelopoulos',\n",
       " 'Martin Scorsese',\n",
       " 'Yoshikazu Yasuhiko',\n",
       " 'Sibi Malayil',\n",
       " 'S.S. Rajamouli',\n",
       " 'Ertem Egilmez',\n",
       " 'Hayao Miyazaki',\n",
       " 'Preston Sturges',\n",
       " 'Ingmar Bergman',\n",
       " 'Georgiy Daneliya',\n",
       " 'Sergiu Nicolaescu',\n",
       " 'S. Shankar',\n",
       " 'Stanley Kubrick',\n",
       " 'Shyam Benegal',\n",
       " 'Michael Cacoyannis',\n",
       " 'K. Balachander',\n",
       " 'Gulzar',\n",
       " 'Krzysztof Kieslowski',\n",
       " 'Yasujirô Ozu',\n",
       " 'Oldrich Lipský',\n",
       " 'Mani Ratnam',\n",
       " 'Rituparno Ghosh',\n",
       " 'Nikita Mikhalkov',\n",
       " 'Goran Markovic',\n",
       " 'Bahram Beyzaie',\n",
       " 'David Fincher']"
      ]
     },
     "execution_count": 38,
     "metadata": {},
     "output_type": "execute_result"
    }
   ],
   "source": [
    "# compute and store the answer in the variable 'best_directors', then display it\n",
    "number_of_director = {}\n",
    "movies_2020 = [movie for movie in movies if movie['year'] <= 2020]\n",
    "for movie in movies_2020:\n",
    "    for director in movie['directors']:\n",
    "        number_of_director[director] = number_of_director.get(director, 0) + 1\n",
    "median1 = {}\n",
    "min1 = {}\n",
    "for movie in movies_2020:\n",
    "    for director in movie['directors']:\n",
    "        if director not in median1:\n",
    "            median1[director] = []\n",
    "            min1[director] = []\n",
    "        median1[director].append(movie['rating'])\n",
    "        min1[director].append(movie['rating'])\n",
    "best_directors = []\n",
    "for director, count in number_of_director.items():\n",
    "    if count >= 10:\n",
    "        median_rating = median(median1[director])\n",
    "        minimum_rating = min(min1[director])\n",
    "        if median_rating >= 7.5 and minimum_rating >= 5.0:\n",
    "            best_directors.append(director)\n",
    "best_directors"
   ]
  },
  {
   "cell_type": "code",
   "execution_count": 39,
   "id": "35791dd8",
   "metadata": {
    "deletable": false,
    "editable": false
   },
   "outputs": [
    {
     "data": {
      "text/html": [
       "<p><strong><pre style='display: inline;'>q10</pre></strong> passed! 🚀</p><p><strong><pre style='display: inline;'>q10 - 2</pre> message:</strong> Note that the Gradescope autograder will deduct points if your code fails the following rubric point - 'movies released after the `year` *2020* are not excluded (-1)'. The public tests cannot determine if your code satisfies these requirements. Verify your code manually.</p><p><strong><pre style='display: inline;'>q10 - 3</pre> message:</strong> Note that the Gradescope autograder will deduct points if your code fails the following rubric point - 'incorrect comparison operators are used to check if the **number** of movies, **median**, and **minimum** `rating` are as expected (-1)'. The public tests cannot determine if your code satisfies these requirements. Verify your code manually.</p><p><strong><pre style='display: inline;'>q10 - 4</pre> message:</strong> Note that the Gradescope autograder will deduct points if your code fails the following rubric point - 'incorrect logic is used to answer (-1)'. The public tests cannot determine if your code satisfies these requirements. Verify your code manually.</p>"
      ],
      "text/plain": [
       "q10 results: All test cases passed!\n",
       "q10 - 2 message: Note that the Gradescope autograder will deduct points if your code fails the following rubric point - 'movies released after the `year` *2020* are not excluded (-1)'. The public tests cannot determine if your code satisfies these requirements. Verify your code manually.\n",
       "q10 - 3 message: Note that the Gradescope autograder will deduct points if your code fails the following rubric point - 'incorrect comparison operators are used to check if the **number** of movies, **median**, and **minimum** `rating` are as expected (-1)'. The public tests cannot determine if your code satisfies these requirements. Verify your code manually.\n",
       "q10 - 4 message: Note that the Gradescope autograder will deduct points if your code fails the following rubric point - 'incorrect logic is used to answer (-1)'. The public tests cannot determine if your code satisfies these requirements. Verify your code manually."
      ]
     },
     "execution_count": 39,
     "metadata": {},
     "output_type": "execute_result"
    }
   ],
   "source": [
    "grader.check(\"q10\")"
   ]
  },
  {
   "cell_type": "markdown",
   "id": "b445508f",
   "metadata": {
    "deletable": false,
    "editable": false
   },
   "source": [
    "**Food for thought:** How many of these directors can you recognize? Do you spot your favorite director in that list? Can you come up with better criteria for deciding who the best directors are?"
   ]
  },
  {
   "cell_type": "code",
   "execution_count": 40,
   "id": "09fefa8d",
   "metadata": {
    "deletable": false,
    "editable": false
   },
   "outputs": [
    {
     "data": {
      "text/html": [
       "<p><strong><pre style='display: inline;'>general_deductions</pre></strong> passed! 🌟</p><p><strong><pre style='display: inline;'>general_deductions - 1</pre> message:</strong> Note that the Gradescope autograder will deduct points if your code fails the following rubric point - 'Outputs not visible/did not save the notebook file prior to running the cell containing \"export\". We cannot see your output if you do not save before generating the zip file. (-3)'. The public tests cannot determine if your code satisfies these requirements. Verify your code manually.</p><p><strong><pre style='display: inline;'>general_deductions - 2</pre> message:</strong> Note that the Gradescope autograder will deduct points if your code fails the following rubric point - 'Used concepts/modules such as csv.DictReader and pandas not covered in class yet. Note that built-in functions that you have been introduced to can be used. (-3)'. The public tests cannot determine if your code satisfies these requirements. Verify your code manually.</p><p><strong><pre style='display: inline;'>general_deductions - 3</pre> message:</strong> Note that the Gradescope autograder will deduct points if your code fails the following rubric point - 'Large outputs such as movies are displayed in the notebook. (-3)'. The public tests cannot determine if your code satisfies these requirements. Verify your code manually.</p><p><strong><pre style='display: inline;'>general_deductions - 4</pre> message:</strong> Note that the Gradescope autograder will deduct points if your code fails the following rubric point - 'Import statements are not mentioned in the required cell at the top of the notebook. (-1)'. The public tests cannot determine if your code satisfies these requirements. Verify your code manually.</p>"
      ],
      "text/plain": [
       "general_deductions results: All test cases passed!\n",
       "general_deductions - 1 message: Note that the Gradescope autograder will deduct points if your code fails the following rubric point - 'Outputs not visible/did not save the notebook file prior to running the cell containing \"export\". We cannot see your output if you do not save before generating the zip file. (-3)'. The public tests cannot determine if your code satisfies these requirements. Verify your code manually.\n",
       "general_deductions - 2 message: Note that the Gradescope autograder will deduct points if your code fails the following rubric point - 'Used concepts/modules such as csv.DictReader and pandas not covered in class yet. Note that built-in functions that you have been introduced to can be used. (-3)'. The public tests cannot determine if your code satisfies these requirements. Verify your code manually.\n",
       "general_deductions - 3 message: Note that the Gradescope autograder will deduct points if your code fails the following rubric point - 'Large outputs such as movies are displayed in the notebook. (-3)'. The public tests cannot determine if your code satisfies these requirements. Verify your code manually.\n",
       "general_deductions - 4 message: Note that the Gradescope autograder will deduct points if your code fails the following rubric point - 'Import statements are not mentioned in the required cell at the top of the notebook. (-1)'. The public tests cannot determine if your code satisfies these requirements. Verify your code manually."
      ]
     },
     "execution_count": 40,
     "metadata": {},
     "output_type": "execute_result"
    }
   ],
   "source": [
    "grader.check(\"general_deductions\")"
   ]
  },
  {
   "cell_type": "code",
   "execution_count": 41,
   "id": "1fe8799f",
   "metadata": {
    "deletable": false,
    "editable": false
   },
   "outputs": [
    {
     "data": {
      "text/html": [
       "<p><strong><pre style='display: inline;'>summary</pre></strong> passed! ✨</p>"
      ],
      "text/plain": [
       "summary results: All test cases passed!"
      ]
     },
     "execution_count": 41,
     "metadata": {},
     "output_type": "execute_result"
    }
   ],
   "source": [
    "grader.check(\"summary\")"
   ]
  },
  {
   "cell_type": "markdown",
   "id": "b8eb4b5e",
   "metadata": {
    "deletable": false,
    "editable": false
   },
   "source": [
    "## Submission\n",
    "It is recommended that at this stage, you Restart and Run all Cells in your notebook.\n",
    "That will automatically save your work and generate a zip file for you to submit.\n",
    "\n",
    "**SUBMISSION INSTRUCTIONS**:\n",
    "1. **Upload** the zipfile to Gradescope.\n",
    "2. If you completed the project with a **partner**, make sure to **add their name** by clicking \"Add Group Member\"\n",
    "in Gradescope when uploading the zip file.\n",
    "3. Check **Gradescope** results as soon as the auto-grader execution gets completed.\n",
    "4. Your **final score** for this project is the score that you see on **Gradescope**.\n",
    "5. You are **allowed** to resubmit on Gradescope as many times as you want to.\n",
    "6. **Contact** a TA/PM if you lose any points on Gradescope for any **unclear reasons**."
   ]
  },
  {
   "cell_type": "code",
   "execution_count": null,
   "id": "20ff6b83",
   "metadata": {
    "cell_type": "code",
    "deletable": false,
    "editable": false
   },
   "outputs": [],
   "source": [
    "# running this cell will create a new save checkpoint for your notebook\n",
    "from IPython.display import display, Javascript\n",
    "display(Javascript('IPython.notebook.save_checkpoint();'))"
   ]
  },
  {
   "cell_type": "code",
   "execution_count": null,
   "id": "52971fd7",
   "metadata": {
    "cell_type": "code",
    "deletable": false,
    "editable": false
   },
   "outputs": [],
   "source": [
    "!jupytext --to py p9.ipynb"
   ]
  },
  {
   "cell_type": "code",
   "execution_count": null,
   "id": "4ded66e4",
   "metadata": {
    "cell_type": "code",
    "deletable": false,
    "editable": false
   },
   "outputs": [],
   "source": [
    "public_tests.check_file_size(\"p9.ipynb\")\n",
    "grader.export(pdf=False, run_tests=False, files=[\"p9.py\"])"
   ]
  },
  {
   "cell_type": "markdown",
   "id": "234ad183",
   "metadata": {
    "deletable": false,
    "editable": false
   },
   "source": [
    " "
   ]
  },
  {
   "cell_type": "code",
   "execution_count": null,
   "id": "03d2cb0d",
   "metadata": {},
   "outputs": [],
   "source": []
  }
 ],
 "metadata": {
  "kernelspec": {
   "display_name": "Python 3 (ipykernel)",
   "language": "python",
   "name": "python3"
  },
  "language_info": {
   "codemirror_mode": {
    "name": "ipython",
    "version": 3
   },
   "file_extension": ".py",
   "mimetype": "text/x-python",
   "name": "python",
   "nbconvert_exporter": "python",
   "pygments_lexer": "ipython3",
   "version": "3.11.4"
  },
  "otter": {
   "OK_FORMAT": true,
   "tests": {
    "bucketize": {
     "name": "bucketize",
     "points": 0,
     "suites": [
      {
       "cases": [
        {
         "code": ">>> \n>>> public_tests.rubric_check('bucketize: function logic is incorrect when `category` data is stored in `movies` as a **string**')\nAll test cases passed!\n",
         "hidden": false,
         "locked": false,
         "success_message": "Note that the Gradescope autograder will deduct points if your code fails the following rubric point - 'function logic is incorrect when `category` data is stored in `movies` as a **string** (-2)'. The public tests cannot determine if your code satisfies these requirements. Verify your code manually."
        },
        {
         "code": ">>> \n>>> public_tests.rubric_check('bucketize: function logic is incorrect when `category` data is stored in `movies` as a **list**')\nAll test cases passed!\n",
         "hidden": false,
         "locked": false,
         "success_message": "Note that the Gradescope autograder will deduct points if your code fails the following rubric point - 'function logic is incorrect when `category` data is stored in `movies` as a **list** (-1)'. The public tests cannot determine if your code satisfies these requirements. Verify your code manually."
        },
        {
         "code": ">>> \n>>> public_tests.rubric_check('bucketize: categories are hardcoded while checking if their data is stored as a **list** or not')\nAll test cases passed!\n",
         "hidden": false,
         "locked": false,
         "success_message": "Note that the Gradescope autograder will deduct points if your code fails the following rubric point - 'categories are hardcoded while checking if their data is stored as a **list** or not (-1)'. The public tests cannot determine if your code satisfies these requirements. Verify your code manually."
        },
        {
         "code": ">>> \n>>> public_tests.rubric_check('bucketize: function is defined more than once')\nAll test cases passed!\n",
         "hidden": false,
         "locked": false,
         "success_message": "Note that the Gradescope autograder will deduct points if your code fails the following rubric point - 'function is defined more than once (-1)'. The public tests cannot determine if your code satisfies these requirements. Verify your code manually."
        }
       ],
       "scored": true,
       "setup": "",
       "teardown": "",
       "type": "doctest"
      }
     ]
    },
    "cast_buckets": {
     "name": "cast_buckets",
     "points": 0,
     "suites": [
      {
       "cases": [
        {
         "code": ">>> \n>>> public_tests.rubric_check('cast_buckets: `bucketize` function is not used', False)\nAll test cases passed!\n",
         "hidden": false,
         "locked": false,
         "success_message": "Note that the Gradescope autograder will deduct points if your code fails the following rubric point - '`bucketize` function is not used (-1)'. The public tests cannot determine if your code satisfies these requirements. Verify your code manually."
        },
        {
         "code": ">>> \n>>> public_tests.rubric_check('cast_buckets: data structure is defined incorrectly')\nAll test cases passed!\n",
         "hidden": false,
         "locked": false,
         "success_message": "Note that the Gradescope autograder will deduct points if your code fails the following rubric point - 'data structure is defined incorrectly (-1)'. The public tests cannot determine if your code satisfies these requirements. Verify your code manually."
        }
       ],
       "scored": true,
       "setup": "",
       "teardown": "",
       "type": "doctest"
      }
     ]
    },
    "director_buckets": {
     "name": "director_buckets",
     "points": 0,
     "suites": [
      {
       "cases": [
        {
         "code": ">>> \n>>> public_tests.rubric_check('director_buckets: `bucketize` function is not used', False)\nAll test cases passed!\n",
         "hidden": false,
         "locked": false,
         "success_message": "Note that the Gradescope autograder will deduct points if your code fails the following rubric point - '`bucketize` function is not used (-1)'. The public tests cannot determine if your code satisfies these requirements. Verify your code manually."
        },
        {
         "code": ">>> \n>>> public_tests.rubric_check('director_buckets: data structure is defined incorrectly')\nAll test cases passed!\n",
         "hidden": false,
         "locked": false,
         "success_message": "Note that the Gradescope autograder will deduct points if your code fails the following rubric point - 'data structure is defined incorrectly (-1)'. The public tests cannot determine if your code satisfies these requirements. Verify your code manually."
        }
       ],
       "scored": true,
       "setup": "",
       "teardown": "",
       "type": "doctest"
      }
     ]
    },
    "general_deductions": {
     "name": "general_deductions",
     "points": 0,
     "suites": [
      {
       "cases": [
        {
         "code": ">>> \n>>> public_tests.rubric_check('general_deductions: Outputs not visible/did not save the notebook file prior to running the cell containing \"export\". We cannot see your output if you do not save before generating the zip file.')\nAll test cases passed!\n",
         "hidden": false,
         "locked": false,
         "success_message": "Note that the Gradescope autograder will deduct points if your code fails the following rubric point - 'Outputs not visible/did not save the notebook file prior to running the cell containing \"export\". We cannot see your output if you do not save before generating the zip file. (-3)'. The public tests cannot determine if your code satisfies these requirements. Verify your code manually."
        },
        {
         "code": ">>> \n>>> public_tests.rubric_check('general_deductions: Used concepts/modules such as csv.DictReader and pandas not covered in class yet. Note that built-in functions that you have been introduced to can be used.')\nAll test cases passed!\n",
         "hidden": false,
         "locked": false,
         "success_message": "Note that the Gradescope autograder will deduct points if your code fails the following rubric point - 'Used concepts/modules such as csv.DictReader and pandas not covered in class yet. Note that built-in functions that you have been introduced to can be used. (-3)'. The public tests cannot determine if your code satisfies these requirements. Verify your code manually."
        },
        {
         "code": ">>> \n>>> public_tests.rubric_check('general_deductions: Large outputs such as movies are displayed in the notebook.')\nAll test cases passed!\n",
         "hidden": false,
         "locked": false,
         "success_message": "Note that the Gradescope autograder will deduct points if your code fails the following rubric point - 'Large outputs such as movies are displayed in the notebook. (-3)'. The public tests cannot determine if your code satisfies these requirements. Verify your code manually."
        },
        {
         "code": ">>> \n>>> public_tests.rubric_check('general_deductions: Import statements are not mentioned in the required cell at the top of the notebook.')\nAll test cases passed!\n",
         "hidden": false,
         "locked": false,
         "success_message": "Note that the Gradescope autograder will deduct points if your code fails the following rubric point - 'Import statements are not mentioned in the required cell at the top of the notebook. (-1)'. The public tests cannot determine if your code satisfies these requirements. Verify your code manually."
        }
       ],
       "scored": true,
       "setup": "",
       "teardown": "",
       "type": "doctest"
      }
     ]
    },
    "genre_buckets": {
     "name": "genre_buckets",
     "points": 0,
     "suites": [
      {
       "cases": [
        {
         "code": ">>> \n>>> public_tests.rubric_check('genre_buckets: `bucketize` function is not used', False)\nAll test cases passed!\n",
         "hidden": false,
         "locked": false,
         "success_message": "Note that the Gradescope autograder will deduct points if your code fails the following rubric point - '`bucketize` function is not used (-1)'. The public tests cannot determine if your code satisfies these requirements. Verify your code manually."
        },
        {
         "code": ">>> \n>>> public_tests.rubric_check('genre_buckets: data structure is defined incorrectly')\nAll test cases passed!\n",
         "hidden": false,
         "locked": false,
         "success_message": "Note that the Gradescope autograder will deduct points if your code fails the following rubric point - 'data structure is defined incorrectly (-1)'. The public tests cannot determine if your code satisfies these requirements. Verify your code manually."
        }
       ],
       "scored": true,
       "setup": "",
       "teardown": "",
       "type": "doctest"
      }
     ]
    },
    "q1": {
     "name": "q1",
     "points": 0,
     "suites": [
      {
       "cases": [
        {
         "code": ">>> public_tests.check('q1', median_eastwood_leone_rating)\nAll test cases passed!\n",
         "hidden": false,
         "locked": false
        },
        {
         "code": ">>> \n>>> public_tests.rubric_check('q1: `find_specific_movies` function is not used', False)\nAll test cases passed!\n",
         "hidden": false,
         "locked": false,
         "success_message": "Note that the Gradescope autograder will deduct points if your code fails the following rubric point - '`find_specific_movies` function is not used (-1)'. The public tests cannot determine if your code satisfies these requirements. Verify your code manually."
        },
        {
         "code": ">>> \n>>> public_tests.rubric_check('q1: median calculation is incorrect')\nAll test cases passed!\n",
         "hidden": false,
         "locked": false,
         "success_message": "Note that the Gradescope autograder will deduct points if your code fails the following rubric point - 'median calculation is incorrect (-1)'. The public tests cannot determine if your code satisfies these requirements. Verify your code manually."
        },
        {
         "code": ">>> \n>>> public_tests.rubric_check('q1: answer uses loops to iterate over dictionary keys')\nAll test cases passed!\n",
         "hidden": false,
         "locked": false,
         "success_message": "Note that the Gradescope autograder will deduct points if your code fails the following rubric point - 'answer uses loops to iterate over dictionary keys (-1)'. The public tests cannot determine if your code satisfies these requirements. Verify your code manually."
        }
       ],
       "scored": true,
       "setup": "",
       "teardown": "",
       "type": "doctest"
      }
     ]
    },
    "q10": {
     "name": "q10",
     "points": 0,
     "suites": [
      {
       "cases": [
        {
         "code": ">>> public_tests.check('q10', best_directors)\nAll test cases passed!\n",
         "hidden": false,
         "locked": false
        },
        {
         "code": ">>> \n>>> public_tests.rubric_check('q10: movies released after the `year` *2020* are not excluded')\nAll test cases passed!\n",
         "hidden": false,
         "locked": false,
         "success_message": "Note that the Gradescope autograder will deduct points if your code fails the following rubric point - 'movies released after the `year` *2020* are not excluded (-1)'. The public tests cannot determine if your code satisfies these requirements. Verify your code manually."
        },
        {
         "code": ">>> \n>>> public_tests.rubric_check('q10: incorrect comparison operators are used to check if the **number** of movies, **median**, and **minimum** `rating` are as expected')\nAll test cases passed!\n",
         "hidden": false,
         "locked": false,
         "success_message": "Note that the Gradescope autograder will deduct points if your code fails the following rubric point - 'incorrect comparison operators are used to check if the **number** of movies, **median**, and **minimum** `rating` are as expected (-1)'. The public tests cannot determine if your code satisfies these requirements. Verify your code manually."
        },
        {
         "code": ">>> \n>>> public_tests.rubric_check('q10: incorrect logic is used to answer')\nAll test cases passed!\n",
         "hidden": false,
         "locked": false,
         "success_message": "Note that the Gradescope autograder will deduct points if your code fails the following rubric point - 'incorrect logic is used to answer (-1)'. The public tests cannot determine if your code satisfies these requirements. Verify your code manually."
        },
        {
         "code": ">>> public_tests.rubric_check('q10: public tests')\nAll test cases passed!\n",
         "hidden": false,
         "locked": false
        }
       ],
       "scored": true,
       "setup": "",
       "teardown": "",
       "type": "doctest"
      }
     ]
    },
    "q2": {
     "name": "q2",
     "points": 0,
     "suites": [
      {
       "cases": [
        {
         "code": ">>> public_tests.check('q2', highest_rated_toy_story_movies)\nAll test cases passed!\n",
         "hidden": false,
         "locked": false
        },
        {
         "code": ">>> \n>>> public_tests.rubric_check('q2: `find_specific_movies` function is not used', False)\nAll test cases passed!\n",
         "hidden": false,
         "locked": false,
         "success_message": "Note that the Gradescope autograder will deduct points if your code fails the following rubric point - '`find_specific_movies` function is not used (-1)'. The public tests cannot determine if your code satisfies these requirements. Verify your code manually."
        },
        {
         "code": ">>> \n>>> public_tests.rubric_check('q2: rating of highest rated *Toy Story* movie is hardcoded')\nAll test cases passed!\n",
         "hidden": false,
         "locked": false,
         "success_message": "Note that the Gradescope autograder will deduct points if your code fails the following rubric point - 'rating of highest rated *Toy Story* movie is hardcoded (-1)'. The public tests cannot determine if your code satisfies these requirements. Verify your code manually."
        },
        {
         "code": ">>> \n>>> public_tests.rubric_check('q2: all movies with the highest rating are not found')\nAll test cases passed!\n",
         "hidden": false,
         "locked": false,
         "success_message": "Note that the Gradescope autograder will deduct points if your code fails the following rubric point - 'all movies with the highest rating are not found (-1)'. The public tests cannot determine if your code satisfies these requirements. Verify your code manually."
        },
        {
         "code": ">>> \n>>> public_tests.rubric_check('q2: answer uses loops to iterate over dictionary keys')\nAll test cases passed!\n",
         "hidden": false,
         "locked": false,
         "success_message": "Note that the Gradescope autograder will deduct points if your code fails the following rubric point - 'answer uses loops to iterate over dictionary keys (-1)'. The public tests cannot determine if your code satisfies these requirements. Verify your code manually."
        }
       ],
       "scored": true,
       "setup": "",
       "teardown": "",
       "type": "doctest"
      }
     ]
    },
    "q3": {
     "name": "q3",
     "points": 0,
     "suites": [
      {
       "cases": [
        {
         "code": ">>> public_tests.check('q3', robbie_movies)\nAll test cases passed!\n",
         "hidden": false,
         "locked": false
        },
        {
         "code": ">>> \n>>> public_tests.rubric_check('q3: `cast_buckets` data structure is not used', False)\nAll test cases passed!\n",
         "hidden": false,
         "locked": false,
         "success_message": "Note that the Gradescope autograder will deduct points if your code fails the following rubric point - '`cast_buckets` data structure is not used (-2)'. The public tests cannot determine if your code satisfies these requirements. Verify your code manually."
        }
       ],
       "scored": true,
       "setup": "",
       "teardown": "",
       "type": "doctest"
      }
     ]
    },
    "q4": {
     "name": "q4",
     "points": 0,
     "suites": [
      {
       "cases": [
        {
         "code": ">>> public_tests.check('q4', genre_num)\nAll test cases passed!\n",
         "hidden": false,
         "locked": false
        },
        {
         "code": ">>> \n>>> public_tests.rubric_check('q4: incorrect logic is used to answer')\nAll test cases passed!\n",
         "hidden": false,
         "locked": false,
         "success_message": "Note that the Gradescope autograder will deduct points if your code fails the following rubric point - 'incorrect logic is used to answer (-2)'. The public tests cannot determine if your code satisfies these requirements. Verify your code manually."
        },
        {
         "code": ">>> \n>>> public_tests.rubric_check('q4: plot is incorrect')\nAll test cases passed!\n",
         "hidden": false,
         "locked": false,
         "success_message": "Note that the Gradescope autograder will deduct points if your code fails the following rubric point - 'plot is incorrect (-1)'. The public tests cannot determine if your code satisfies these requirements. Verify your code manually."
        },
        {
         "code": ">>> \n>>> public_tests.rubric_check('q4: plot is not properly labeled')\nAll test cases passed!\n",
         "hidden": false,
         "locked": false,
         "success_message": "Note that the Gradescope autograder will deduct points if your code fails the following rubric point - 'plot is not properly labeled (-1)'. The public tests cannot determine if your code satisfies these requirements. Verify your code manually."
        }
       ],
       "scored": true,
       "setup": "",
       "teardown": "",
       "type": "doctest"
      }
     ]
    },
    "q5": {
     "name": "q5",
     "points": 0,
     "suites": [
      {
       "cases": [
        {
         "code": ">>> public_tests.check('q5', kubrick_genres)\nAll test cases passed!\n",
         "hidden": false,
         "locked": false
        },
        {
         "code": ">>> \n>>> public_tests.rubric_check('q5: incorrect logic is used to answer')\nAll test cases passed!\n",
         "hidden": false,
         "locked": false,
         "success_message": "Note that the Gradescope autograder will deduct points if your code fails the following rubric point - 'incorrect logic is used to answer (-2)'. The public tests cannot determine if your code satisfies these requirements. Verify your code manually."
        },
        {
         "code": ">>> \n>>> public_tests.rubric_check('q5: plot is incorrect')\nAll test cases passed!\n",
         "hidden": false,
         "locked": false,
         "success_message": "Note that the Gradescope autograder will deduct points if your code fails the following rubric point - 'plot is incorrect (-1)'. The public tests cannot determine if your code satisfies these requirements. Verify your code manually."
        },
        {
         "code": ">>> \n>>> public_tests.rubric_check('q5: plot is not properly labeled')\nAll test cases passed!\n",
         "hidden": false,
         "locked": false,
         "success_message": "Note that the Gradescope autograder will deduct points if your code fails the following rubric point - 'plot is not properly labeled (-1)'. The public tests cannot determine if your code satisfies these requirements. Verify your code manually."
        }
       ],
       "scored": true,
       "setup": "",
       "teardown": "",
       "type": "doctest"
      }
     ]
    },
    "q6": {
     "name": "q6",
     "points": 0,
     "suites": [
      {
       "cases": [
        {
         "code": ">>> public_tests.check('q6', sci_fi_decade_mapping)\nAll test cases passed!\n",
         "hidden": false,
         "locked": false
        },
        {
         "code": ">>> \n>>> public_tests.rubric_check('q6: incorrect logic is used to answer')\nAll test cases passed!\n",
         "hidden": false,
         "locked": false,
         "success_message": "Note that the Gradescope autograder will deduct points if your code fails the following rubric point - 'incorrect logic is used to answer (-2)'. The public tests cannot determine if your code satisfies these requirements. Verify your code manually."
        },
        {
         "code": ">>> \n>>> public_tests.rubric_check('q6: plot is incorrect')\nAll test cases passed!\n",
         "hidden": false,
         "locked": false,
         "success_message": "Note that the Gradescope autograder will deduct points if your code fails the following rubric point - 'plot is incorrect (-1)'. The public tests cannot determine if your code satisfies these requirements. Verify your code manually."
        },
        {
         "code": ">>> \n>>> public_tests.rubric_check('q6: plot is not properly labeled')\nAll test cases passed!\n",
         "hidden": false,
         "locked": false,
         "success_message": "Note that the Gradescope autograder will deduct points if your code fails the following rubric point - 'plot is not properly labeled (-1)'. The public tests cannot determine if your code satisfies these requirements. Verify your code manually."
        }
       ],
       "scored": true,
       "setup": "",
       "teardown": "",
       "type": "doctest"
      }
     ]
    },
    "q7": {
     "name": "q7",
     "points": 0,
     "suites": [
      {
       "cases": [
        {
         "code": ">>> public_tests.check('q7', cameron_median_genres)\nAll test cases passed!\n",
         "hidden": false,
         "locked": false
        },
        {
         "code": ">>> \n>>> public_tests.rubric_check('q7: incorrect logic is used to answer')\nAll test cases passed!\n",
         "hidden": false,
         "locked": false,
         "success_message": "Note that the Gradescope autograder will deduct points if your code fails the following rubric point - 'incorrect logic is used to answer (-2)'. The public tests cannot determine if your code satisfies these requirements. Verify your code manually."
        },
        {
         "code": ">>> \n>>> public_tests.rubric_check('q7: plot is incorrect')\nAll test cases passed!\n",
         "hidden": false,
         "locked": false,
         "success_message": "Note that the Gradescope autograder will deduct points if your code fails the following rubric point - 'plot is incorrect (-1)'. The public tests cannot determine if your code satisfies these requirements. Verify your code manually."
        },
        {
         "code": ">>> \n>>> public_tests.rubric_check('q7: plot is not properly labeled')\nAll test cases passed!\n",
         "hidden": false,
         "locked": false,
         "success_message": "Note that the Gradescope autograder will deduct points if your code fails the following rubric point - 'plot is not properly labeled (-1)'. The public tests cannot determine if your code satisfies these requirements. Verify your code manually."
        }
       ],
       "scored": true,
       "setup": "",
       "teardown": "",
       "type": "doctest"
      }
     ]
    },
    "q8": {
     "name": "q8",
     "points": 0,
     "suites": [
      {
       "cases": [
        {
         "code": ">>> public_tests.check('q8', cameron_genres_desc)\nAll test cases passed!\n",
         "hidden": false,
         "locked": false
        },
        {
         "code": ">>> \n>>> public_tests.rubric_check('q8: incorrect logic is used to answer')\nAll test cases passed!\n",
         "hidden": false,
         "locked": false,
         "success_message": "Note that the Gradescope autograder will deduct points if your code fails the following rubric point - 'incorrect logic is used to answer (-2)'. The public tests cannot determine if your code satisfies these requirements. Verify your code manually."
        },
        {
         "code": ">>> \n>>> public_tests.rubric_check('q8: recomputed variable defined in Question 7')\nAll test cases passed!\n",
         "hidden": false,
         "locked": false,
         "success_message": "Note that the Gradescope autograder will deduct points if your code fails the following rubric point - 'recomputed variable defined in Question 7 (-1)'. The public tests cannot determine if your code satisfies these requirements. Verify your code manually."
        },
        {
         "code": ">>> public_tests.rubric_check('q8: public tests')\nAll test cases passed!\n",
         "hidden": false,
         "locked": false
        }
       ],
       "scored": true,
       "setup": "",
       "teardown": "",
       "type": "doctest"
      }
     ]
    },
    "q9": {
     "name": "q9",
     "points": 0,
     "suites": [
      {
       "cases": [
        {
         "code": ">>> public_tests.check('q9', scorsese_de_niro_movies)\nAll test cases passed!\n",
         "hidden": false,
         "locked": false
        },
        {
         "code": ">>> \n>>> public_tests.rubric_check('q9: incorrect logic is used to answer')\nAll test cases passed!\n",
         "hidden": false,
         "locked": false,
         "success_message": "Note that the Gradescope autograder will deduct points if your code fails the following rubric point - 'incorrect logic is used to answer (-2)'. The public tests cannot determine if your code satisfies these requirements. Verify your code manually."
        },
        {
         "code": ">>> \n>>> public_tests.rubric_check('q9: does not find only the movies directed by *Martin Scorsese* and starring *Robert De Niro*')\nAll test cases passed!\n",
         "hidden": false,
         "locked": false,
         "success_message": "Note that the Gradescope autograder will deduct points if your code fails the following rubric point - 'does not find only the movies directed by *Martin Scorsese* and starring *Robert De Niro* (-1)'. The public tests cannot determine if your code satisfies these requirements. Verify your code manually."
        },
        {
         "code": ">>> public_tests.rubric_check('q9: public tests')\nAll test cases passed!\n",
         "hidden": false,
         "locked": false
        }
       ],
       "scored": true,
       "setup": "",
       "teardown": "",
       "type": "doctest"
      }
     ]
    },
    "summary": {
     "name": "summary",
     "points": 127,
     "suites": [
      {
       "cases": [
        {
         "code": ">>> public_tests.get_summary()\nTotal Score: 50/50\n",
         "hidden": false,
         "locked": false
        }
       ],
       "scored": true,
       "setup": "",
       "teardown": "",
       "type": "doctest"
      }
     ]
    },
    "year_buckets": {
     "name": "year_buckets",
     "points": 0,
     "suites": [
      {
       "cases": [
        {
         "code": ">>> \n>>> public_tests.rubric_check('year_buckets: `bucketize` function is not used', False)\nAll test cases passed!\n",
         "hidden": false,
         "locked": false,
         "success_message": "Note that the Gradescope autograder will deduct points if your code fails the following rubric point - '`bucketize` function is not used (-1)'. The public tests cannot determine if your code satisfies these requirements. Verify your code manually."
        },
        {
         "code": ">>> \n>>> public_tests.rubric_check('year_buckets: data structure is defined incorrectly')\nAll test cases passed!\n",
         "hidden": false,
         "locked": false,
         "success_message": "Note that the Gradescope autograder will deduct points if your code fails the following rubric point - 'data structure is defined incorrectly (-1)'. The public tests cannot determine if your code satisfies these requirements. Verify your code manually."
        }
       ],
       "scored": true,
       "setup": "",
       "teardown": "",
       "type": "doctest"
      }
     ]
    }
   }
  }
 },
 "nbformat": 4,
 "nbformat_minor": 5
}
